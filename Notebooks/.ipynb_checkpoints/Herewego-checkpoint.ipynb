{
 "cells": [
  {
   "cell_type": "code",
   "execution_count": 60,
   "id": "07d075dc-fac5-44a9-baf3-090121c4cc79",
   "metadata": {
    "scrolled": true
   },
   "outputs": [
    {
     "name": "stdout",
     "output_type": "stream",
     "text": [
      "Requirement already satisfied: tensorflow in /Users/joshuagibson/anaconda3/envs/dev/lib/python3.10/site-packages (2.15.0)\n",
      "Requirement already satisfied: absl-py>=1.0.0 in /Users/joshuagibson/anaconda3/envs/dev/lib/python3.10/site-packages (from tensorflow) (2.1.0)\n",
      "Requirement already satisfied: astunparse>=1.6.0 in /Users/joshuagibson/anaconda3/envs/dev/lib/python3.10/site-packages (from tensorflow) (1.6.3)\n",
      "Requirement already satisfied: flatbuffers>=23.5.26 in /Users/joshuagibson/anaconda3/envs/dev/lib/python3.10/site-packages (from tensorflow) (23.5.26)\n",
      "Requirement already satisfied: gast!=0.5.0,!=0.5.1,!=0.5.2,>=0.2.1 in /Users/joshuagibson/anaconda3/envs/dev/lib/python3.10/site-packages (from tensorflow) (0.5.4)\n",
      "Requirement already satisfied: google-pasta>=0.1.1 in /Users/joshuagibson/anaconda3/envs/dev/lib/python3.10/site-packages (from tensorflow) (0.2.0)\n",
      "Requirement already satisfied: h5py>=2.9.0 in /Users/joshuagibson/anaconda3/envs/dev/lib/python3.10/site-packages (from tensorflow) (3.10.0)\n",
      "Requirement already satisfied: libclang>=13.0.0 in /Users/joshuagibson/anaconda3/envs/dev/lib/python3.10/site-packages (from tensorflow) (16.0.6)\n",
      "Requirement already satisfied: ml-dtypes~=0.2.0 in /Users/joshuagibson/anaconda3/envs/dev/lib/python3.10/site-packages (from tensorflow) (0.2.0)\n",
      "Requirement already satisfied: numpy<2.0.0,>=1.23.5 in /Users/joshuagibson/anaconda3/envs/dev/lib/python3.10/site-packages (from tensorflow) (1.26.3)\n",
      "Requirement already satisfied: opt-einsum>=2.3.2 in /Users/joshuagibson/anaconda3/envs/dev/lib/python3.10/site-packages (from tensorflow) (3.3.0)\n",
      "Requirement already satisfied: packaging in /Users/joshuagibson/anaconda3/envs/dev/lib/python3.10/site-packages (from tensorflow) (23.1)\n",
      "Requirement already satisfied: protobuf!=4.21.0,!=4.21.1,!=4.21.2,!=4.21.3,!=4.21.4,!=4.21.5,<5.0.0dev,>=3.20.3 in /Users/joshuagibson/anaconda3/envs/dev/lib/python3.10/site-packages (from tensorflow) (4.23.4)\n",
      "Requirement already satisfied: setuptools in /Users/joshuagibson/anaconda3/envs/dev/lib/python3.10/site-packages (from tensorflow) (68.2.2)\n",
      "Requirement already satisfied: six>=1.12.0 in /Users/joshuagibson/anaconda3/envs/dev/lib/python3.10/site-packages (from tensorflow) (1.16.0)\n",
      "Requirement already satisfied: termcolor>=1.1.0 in /Users/joshuagibson/anaconda3/envs/dev/lib/python3.10/site-packages (from tensorflow) (2.4.0)\n",
      "Requirement already satisfied: typing-extensions>=3.6.6 in /Users/joshuagibson/anaconda3/envs/dev/lib/python3.10/site-packages (from tensorflow) (4.9.0)\n",
      "Requirement already satisfied: wrapt<1.15,>=1.11.0 in /Users/joshuagibson/anaconda3/envs/dev/lib/python3.10/site-packages (from tensorflow) (1.14.1)\n",
      "Requirement already satisfied: tensorflow-io-gcs-filesystem>=0.23.1 in /Users/joshuagibson/anaconda3/envs/dev/lib/python3.10/site-packages (from tensorflow) (0.36.0)\n",
      "Requirement already satisfied: grpcio<2.0,>=1.24.3 in /Users/joshuagibson/anaconda3/envs/dev/lib/python3.10/site-packages (from tensorflow) (1.60.1)\n",
      "Requirement already satisfied: tensorboard<2.16,>=2.15 in /Users/joshuagibson/anaconda3/envs/dev/lib/python3.10/site-packages (from tensorflow) (2.15.1)\n",
      "Requirement already satisfied: tensorflow-estimator<2.16,>=2.15.0 in /Users/joshuagibson/anaconda3/envs/dev/lib/python3.10/site-packages (from tensorflow) (2.15.0)\n",
      "Requirement already satisfied: keras<2.16,>=2.15.0 in /Users/joshuagibson/anaconda3/envs/dev/lib/python3.10/site-packages (from tensorflow) (2.15.0)\n",
      "Requirement already satisfied: wheel<1.0,>=0.23.0 in /Users/joshuagibson/anaconda3/envs/dev/lib/python3.10/site-packages (from astunparse>=1.6.0->tensorflow) (0.41.2)\n",
      "Requirement already satisfied: google-auth<3,>=1.6.3 in /Users/joshuagibson/anaconda3/envs/dev/lib/python3.10/site-packages (from tensorboard<2.16,>=2.15->tensorflow) (2.27.0)\n",
      "Requirement already satisfied: google-auth-oauthlib<2,>=0.5 in /Users/joshuagibson/anaconda3/envs/dev/lib/python3.10/site-packages (from tensorboard<2.16,>=2.15->tensorflow) (1.2.0)\n",
      "Requirement already satisfied: markdown>=2.6.8 in /Users/joshuagibson/anaconda3/envs/dev/lib/python3.10/site-packages (from tensorboard<2.16,>=2.15->tensorflow) (3.4.1)\n",
      "Requirement already satisfied: requests<3,>=2.21.0 in /Users/joshuagibson/anaconda3/envs/dev/lib/python3.10/site-packages (from tensorboard<2.16,>=2.15->tensorflow) (2.31.0)\n",
      "Requirement already satisfied: tensorboard-data-server<0.8.0,>=0.7.0 in /Users/joshuagibson/anaconda3/envs/dev/lib/python3.10/site-packages (from tensorboard<2.16,>=2.15->tensorflow) (0.7.2)\n",
      "Requirement already satisfied: werkzeug>=1.0.1 in /Users/joshuagibson/anaconda3/envs/dev/lib/python3.10/site-packages (from tensorboard<2.16,>=2.15->tensorflow) (3.0.1)\n",
      "Requirement already satisfied: cachetools<6.0,>=2.0.0 in /Users/joshuagibson/anaconda3/envs/dev/lib/python3.10/site-packages (from google-auth<3,>=1.6.3->tensorboard<2.16,>=2.15->tensorflow) (5.3.2)\n",
      "Requirement already satisfied: pyasn1-modules>=0.2.1 in /Users/joshuagibson/anaconda3/envs/dev/lib/python3.10/site-packages (from google-auth<3,>=1.6.3->tensorboard<2.16,>=2.15->tensorflow) (0.3.0)\n",
      "Requirement already satisfied: rsa<5,>=3.1.4 in /Users/joshuagibson/anaconda3/envs/dev/lib/python3.10/site-packages (from google-auth<3,>=1.6.3->tensorboard<2.16,>=2.15->tensorflow) (4.9)\n",
      "Requirement already satisfied: requests-oauthlib>=0.7.0 in /Users/joshuagibson/anaconda3/envs/dev/lib/python3.10/site-packages (from google-auth-oauthlib<2,>=0.5->tensorboard<2.16,>=2.15->tensorflow) (1.3.1)\n",
      "Requirement already satisfied: charset-normalizer<4,>=2 in /Users/joshuagibson/anaconda3/envs/dev/lib/python3.10/site-packages (from requests<3,>=2.21.0->tensorboard<2.16,>=2.15->tensorflow) (2.0.4)\n",
      "Requirement already satisfied: idna<4,>=2.5 in /Users/joshuagibson/anaconda3/envs/dev/lib/python3.10/site-packages (from requests<3,>=2.21.0->tensorboard<2.16,>=2.15->tensorflow) (3.4)\n",
      "Requirement already satisfied: urllib3<3,>=1.21.1 in /Users/joshuagibson/anaconda3/envs/dev/lib/python3.10/site-packages (from requests<3,>=2.21.0->tensorboard<2.16,>=2.15->tensorflow) (1.26.18)\n",
      "Requirement already satisfied: certifi>=2017.4.17 in /Users/joshuagibson/anaconda3/envs/dev/lib/python3.10/site-packages (from requests<3,>=2.21.0->tensorboard<2.16,>=2.15->tensorflow) (2024.2.2)\n",
      "Requirement already satisfied: MarkupSafe>=2.1.1 in /Users/joshuagibson/anaconda3/envs/dev/lib/python3.10/site-packages (from werkzeug>=1.0.1->tensorboard<2.16,>=2.15->tensorflow) (2.1.3)\n",
      "Requirement already satisfied: pyasn1<0.6.0,>=0.4.6 in /Users/joshuagibson/anaconda3/envs/dev/lib/python3.10/site-packages (from pyasn1-modules>=0.2.1->google-auth<3,>=1.6.3->tensorboard<2.16,>=2.15->tensorflow) (0.5.1)\n",
      "Requirement already satisfied: oauthlib>=3.0.0 in /Users/joshuagibson/anaconda3/envs/dev/lib/python3.10/site-packages (from requests-oauthlib>=0.7.0->google-auth-oauthlib<2,>=0.5->tensorboard<2.16,>=2.15->tensorflow) (3.2.2)\n",
      "Note: you may need to restart the kernel to use updated packages.\n"
     ]
    }
   ],
   "source": [
    "pip install tensorflow"
   ]
  },
  {
   "cell_type": "code",
   "execution_count": 61,
   "id": "1db81bb1-1326-44a2-b007-5adc7c8865b0",
   "metadata": {
    "scrolled": true
   },
   "outputs": [
    {
     "name": "stdout",
     "output_type": "stream",
     "text": [
      "Requirement already satisfied: openpyxl in /Users/joshuagibson/anaconda3/envs/dev/lib/python3.10/site-packages (3.1.2)\n",
      "Requirement already satisfied: et-xmlfile in /Users/joshuagibson/anaconda3/envs/dev/lib/python3.10/site-packages (from openpyxl) (1.1.0)\n",
      "Note: you may need to restart the kernel to use updated packages.\n"
     ]
    }
   ],
   "source": [
    "pip install openpyxl"
   ]
  },
  {
   "cell_type": "code",
   "execution_count": 1,
   "id": "42573839-52af-4074-bbf1-2b5a81900ccd",
   "metadata": {},
   "outputs": [
    {
     "name": "stderr",
     "output_type": "stream",
     "text": [
      "2024-02-28 14:49:44.535298: I tensorflow/core/platform/cpu_feature_guard.cc:182] This TensorFlow binary is optimized to use available CPU instructions in performance-critical operations.\n",
      "To enable the following instructions: AVX2 FMA, in other operations, rebuild TensorFlow with the appropriate compiler flags.\n"
     ]
    }
   ],
   "source": [
    "# Import our dependencies\n",
    "from sklearn.model_selection import train_test_split\n",
    "from sklearn.preprocessing import StandardScaler\n",
    "from sklearn.preprocessing import MinMaxScaler\n",
    "import pandas as pd\n",
    "import tensorflow as tf\n",
    "import numpy as np\n",
    "from pathlib import Path\n",
    "from keras.models import Sequential\n",
    "from keras.layers import LSTM,Dropout,Dense\n",
    "import matplotlib.pyplot as plt\n",
    "import yfinance as yf"
   ]
  },
  {
   "cell_type": "code",
   "execution_count": 2,
   "id": "886064b9-f602-4a1b-b1fd-6bb0efdb93c0",
   "metadata": {},
   "outputs": [
    {
     "name": "stderr",
     "output_type": "stream",
     "text": [
      "[*********************100%%**********************]  1 of 1 completed\n",
      "[*********************100%%**********************]  1 of 1 completed\n",
      "[*********************100%%**********************]  1 of 1 completed\n",
      "[*********************100%%**********************]  1 of 1 completed\n"
     ]
    }
   ],
   "source": [
    "# Define the stock symbols for the financial institutions we're interested in\n",
    "stock_symbols = ['AAPL', 'KO', 'NKE', 'EA']\n",
    "# Define the start and end dates for our data\n",
    "start_date = '2020-01-01'\n",
    "end_date = '2024-02-27'  # Corrected the end date to a valid one\n",
    "\n",
    "# Function to download stock data\n",
    "def download_stock_data(symbols):\n",
    "    data = {}\n",
    "    for symbol in symbols:\n",
    "        data[symbol] = yf.download(symbol, start=start_date, end=end_date)\n",
    "    return data\n",
    "\n",
    "# Download stock data\n",
    "stocks_data = download_stock_data(stock_symbols)"
   ]
  },
  {
   "cell_type": "code",
   "execution_count": 3,
   "id": "ff777561-4b88-4721-bc3c-a9bfc3565f2a",
   "metadata": {
    "scrolled": true
   },
   "outputs": [
    {
     "name": "stdout",
     "output_type": "stream",
     "text": [
      "                  Open        High         Low       Close   Adj Close  \\\n",
      "Date                                                                     \n",
      "2024-02-20  181.789993  182.429993  180.000000  181.559998  181.559998   \n",
      "2024-02-21  181.940002  182.889999  180.660004  182.320007  182.320007   \n",
      "2024-02-22  183.479996  184.960007  182.460007  184.369995  184.369995   \n",
      "2024-02-23  185.009995  185.039993  182.229996  182.520004  182.520004   \n",
      "2024-02-26  182.240005  182.759995  180.649994  181.160004  181.160004   \n",
      "\n",
      "              Volume  \n",
      "Date                  \n",
      "2024-02-20  53665600  \n",
      "2024-02-21  41529700  \n",
      "2024-02-22  52292200  \n",
      "2024-02-23  45074500  \n",
      "2024-02-26  40867400  \n"
     ]
    }
   ],
   "source": [
    "# Display the first few rows of JPMorgan's stock data\n",
    "print(stocks_data['AAPL'].tail())"
   ]
  },
  {
   "cell_type": "code",
   "execution_count": 4,
   "id": "f37e5aed-8a1b-4f4a-98aa-3dab50b052a9",
   "metadata": {},
   "outputs": [],
   "source": [
    "# Calculate technical indicators and OHLC ratios for each stock\n",
    "def calculate_features(data):\n",
    "    # Moving Average\n",
    "    data['MA_10'] = data['Close'].rolling(window=10).mean()\n",
    "    # Exponential Moving Average\n",
    "    data['EMA_10'] = data['Close'].ewm(span=10, adjust=False).mean()\n",
    "    \n",
    "    # Relative Strength Index (RSI)\n",
    "    delta = data['Close'].diff()\n",
    "    gain = (delta.where(delta > 0, 0)).rolling(window=14).mean()\n",
    "    loss = (-delta.where(delta < 0, 0)).rolling(window=14).mean()\n",
    "    rs = gain / loss\n",
    "    data['RSI'] = 100 - (100 / (1 + rs))\n",
    "    \n",
    "    # OHLC Ratios\n",
    "    data['HLC_Ratio'] = (data['High'] - data['Low']) / data['Close']\n",
    "    data['OC_Ratio'] = (data['Open'] - data['Close']) / data['Close']\n",
    "    \n",
    "    # Drop NaN values generated by moving averages and RSI\n",
    "    data.dropna(inplace=True)\n",
    "    return data\n",
    "\n",
    "# Apply feature engineering to all stocks\n",
    "for symbol in stocks_data:\n",
    "    stocks_data[symbol] = calculate_features(stocks_data[symbol])"
   ]
  },
  {
   "cell_type": "code",
   "execution_count": 5,
   "id": "51f6c3eb-a493-4d08-a8ce-ec6c3afa57fa",
   "metadata": {
    "scrolled": true
   },
   "outputs": [
    {
     "data": {
      "text/html": [
       "<div>\n",
       "<style scoped>\n",
       "    .dataframe tbody tr th:only-of-type {\n",
       "        vertical-align: middle;\n",
       "    }\n",
       "\n",
       "    .dataframe tbody tr th {\n",
       "        vertical-align: top;\n",
       "    }\n",
       "\n",
       "    .dataframe thead th {\n",
       "        text-align: right;\n",
       "    }\n",
       "</style>\n",
       "<table border=\"1\" class=\"dataframe\">\n",
       "  <thead>\n",
       "    <tr style=\"text-align: right;\">\n",
       "      <th></th>\n",
       "      <th>Open</th>\n",
       "      <th>High</th>\n",
       "      <th>Low</th>\n",
       "      <th>Close</th>\n",
       "      <th>Adj Close</th>\n",
       "      <th>Volume</th>\n",
       "      <th>MA_10</th>\n",
       "      <th>EMA_10</th>\n",
       "      <th>RSI</th>\n",
       "      <th>HLC_Ratio</th>\n",
       "      <th>OC_Ratio</th>\n",
       "    </tr>\n",
       "    <tr>\n",
       "      <th>Date</th>\n",
       "      <th></th>\n",
       "      <th></th>\n",
       "      <th></th>\n",
       "      <th></th>\n",
       "      <th></th>\n",
       "      <th></th>\n",
       "      <th></th>\n",
       "      <th></th>\n",
       "      <th></th>\n",
       "      <th></th>\n",
       "      <th></th>\n",
       "    </tr>\n",
       "  </thead>\n",
       "  <tbody>\n",
       "    <tr>\n",
       "      <th>2020-01-22</th>\n",
       "      <td>79.644997</td>\n",
       "      <td>79.997498</td>\n",
       "      <td>79.327499</td>\n",
       "      <td>79.425003</td>\n",
       "      <td>77.279770</td>\n",
       "      <td>101832400</td>\n",
       "      <td>78.309250</td>\n",
       "      <td>78.255756</td>\n",
       "      <td>70.868434</td>\n",
       "      <td>0.008436</td>\n",
       "      <td>0.002770</td>\n",
       "    </tr>\n",
       "    <tr>\n",
       "      <th>2020-01-23</th>\n",
       "      <td>79.480003</td>\n",
       "      <td>79.889999</td>\n",
       "      <td>78.912498</td>\n",
       "      <td>79.807503</td>\n",
       "      <td>77.651962</td>\n",
       "      <td>104472000</td>\n",
       "      <td>78.710250</td>\n",
       "      <td>78.537892</td>\n",
       "      <td>71.902570</td>\n",
       "      <td>0.012248</td>\n",
       "      <td>-0.004104</td>\n",
       "    </tr>\n",
       "    <tr>\n",
       "      <th>2020-01-24</th>\n",
       "      <td>80.062500</td>\n",
       "      <td>80.832497</td>\n",
       "      <td>79.379997</td>\n",
       "      <td>79.577499</td>\n",
       "      <td>77.428154</td>\n",
       "      <td>146537600</td>\n",
       "      <td>78.927250</td>\n",
       "      <td>78.726911</td>\n",
       "      <td>75.401481</td>\n",
       "      <td>0.018253</td>\n",
       "      <td>0.006095</td>\n",
       "    </tr>\n",
       "    <tr>\n",
       "      <th>2020-01-27</th>\n",
       "      <td>77.514999</td>\n",
       "      <td>77.942497</td>\n",
       "      <td>76.220001</td>\n",
       "      <td>77.237503</td>\n",
       "      <td>75.151344</td>\n",
       "      <td>161940000</td>\n",
       "      <td>78.892751</td>\n",
       "      <td>78.456110</td>\n",
       "      <td>59.513444</td>\n",
       "      <td>0.022301</td>\n",
       "      <td>0.003593</td>\n",
       "    </tr>\n",
       "    <tr>\n",
       "      <th>2020-01-28</th>\n",
       "      <td>78.150002</td>\n",
       "      <td>79.599998</td>\n",
       "      <td>78.047501</td>\n",
       "      <td>79.422501</td>\n",
       "      <td>77.277344</td>\n",
       "      <td>162234000</td>\n",
       "      <td>78.911001</td>\n",
       "      <td>78.631817</td>\n",
       "      <td>67.412481</td>\n",
       "      <td>0.019547</td>\n",
       "      <td>-0.016022</td>\n",
       "    </tr>\n",
       "    <tr>\n",
       "      <th>...</th>\n",
       "      <td>...</td>\n",
       "      <td>...</td>\n",
       "      <td>...</td>\n",
       "      <td>...</td>\n",
       "      <td>...</td>\n",
       "      <td>...</td>\n",
       "      <td>...</td>\n",
       "      <td>...</td>\n",
       "      <td>...</td>\n",
       "      <td>...</td>\n",
       "      <td>...</td>\n",
       "    </tr>\n",
       "    <tr>\n",
       "      <th>2024-02-20</th>\n",
       "      <td>181.789993</td>\n",
       "      <td>182.429993</td>\n",
       "      <td>180.000000</td>\n",
       "      <td>181.559998</td>\n",
       "      <td>181.559998</td>\n",
       "      <td>53665600</td>\n",
       "      <td>185.995000</td>\n",
       "      <td>184.999127</td>\n",
       "      <td>33.452515</td>\n",
       "      <td>0.013384</td>\n",
       "      <td>0.001267</td>\n",
       "    </tr>\n",
       "    <tr>\n",
       "      <th>2024-02-21</th>\n",
       "      <td>181.940002</td>\n",
       "      <td>182.889999</td>\n",
       "      <td>180.660004</td>\n",
       "      <td>182.320007</td>\n",
       "      <td>182.320007</td>\n",
       "      <td>41529700</td>\n",
       "      <td>185.297000</td>\n",
       "      <td>184.512015</td>\n",
       "      <td>43.772500</td>\n",
       "      <td>0.012231</td>\n",
       "      <td>-0.002084</td>\n",
       "    </tr>\n",
       "    <tr>\n",
       "      <th>2024-02-22</th>\n",
       "      <td>183.479996</td>\n",
       "      <td>184.960007</td>\n",
       "      <td>182.460007</td>\n",
       "      <td>184.369995</td>\n",
       "      <td>184.369995</td>\n",
       "      <td>52292200</td>\n",
       "      <td>184.792999</td>\n",
       "      <td>184.486193</td>\n",
       "      <td>42.357254</td>\n",
       "      <td>0.013560</td>\n",
       "      <td>-0.004827</td>\n",
       "    </tr>\n",
       "    <tr>\n",
       "      <th>2024-02-23</th>\n",
       "      <td>185.009995</td>\n",
       "      <td>185.039993</td>\n",
       "      <td>182.229996</td>\n",
       "      <td>182.520004</td>\n",
       "      <td>182.520004</td>\n",
       "      <td>45074500</td>\n",
       "      <td>184.212999</td>\n",
       "      <td>184.128704</td>\n",
       "      <td>40.280199</td>\n",
       "      <td>0.015396</td>\n",
       "      <td>0.013642</td>\n",
       "    </tr>\n",
       "    <tr>\n",
       "      <th>2024-02-26</th>\n",
       "      <td>182.240005</td>\n",
       "      <td>182.759995</td>\n",
       "      <td>180.649994</td>\n",
       "      <td>181.160004</td>\n",
       "      <td>181.160004</td>\n",
       "      <td>40867400</td>\n",
       "      <td>183.443999</td>\n",
       "      <td>183.588940</td>\n",
       "      <td>30.432210</td>\n",
       "      <td>0.011647</td>\n",
       "      <td>0.005962</td>\n",
       "    </tr>\n",
       "  </tbody>\n",
       "</table>\n",
       "<p>1031 rows × 11 columns</p>\n",
       "</div>"
      ],
      "text/plain": [
       "                  Open        High         Low       Close   Adj Close  \\\n",
       "Date                                                                     \n",
       "2020-01-22   79.644997   79.997498   79.327499   79.425003   77.279770   \n",
       "2020-01-23   79.480003   79.889999   78.912498   79.807503   77.651962   \n",
       "2020-01-24   80.062500   80.832497   79.379997   79.577499   77.428154   \n",
       "2020-01-27   77.514999   77.942497   76.220001   77.237503   75.151344   \n",
       "2020-01-28   78.150002   79.599998   78.047501   79.422501   77.277344   \n",
       "...                ...         ...         ...         ...         ...   \n",
       "2024-02-20  181.789993  182.429993  180.000000  181.559998  181.559998   \n",
       "2024-02-21  181.940002  182.889999  180.660004  182.320007  182.320007   \n",
       "2024-02-22  183.479996  184.960007  182.460007  184.369995  184.369995   \n",
       "2024-02-23  185.009995  185.039993  182.229996  182.520004  182.520004   \n",
       "2024-02-26  182.240005  182.759995  180.649994  181.160004  181.160004   \n",
       "\n",
       "               Volume       MA_10      EMA_10        RSI  HLC_Ratio  OC_Ratio  \n",
       "Date                                                                           \n",
       "2020-01-22  101832400   78.309250   78.255756  70.868434   0.008436  0.002770  \n",
       "2020-01-23  104472000   78.710250   78.537892  71.902570   0.012248 -0.004104  \n",
       "2020-01-24  146537600   78.927250   78.726911  75.401481   0.018253  0.006095  \n",
       "2020-01-27  161940000   78.892751   78.456110  59.513444   0.022301  0.003593  \n",
       "2020-01-28  162234000   78.911001   78.631817  67.412481   0.019547 -0.016022  \n",
       "...               ...         ...         ...        ...        ...       ...  \n",
       "2024-02-20   53665600  185.995000  184.999127  33.452515   0.013384  0.001267  \n",
       "2024-02-21   41529700  185.297000  184.512015  43.772500   0.012231 -0.002084  \n",
       "2024-02-22   52292200  184.792999  184.486193  42.357254   0.013560 -0.004827  \n",
       "2024-02-23   45074500  184.212999  184.128704  40.280199   0.015396  0.013642  \n",
       "2024-02-26   40867400  183.443999  183.588940  30.432210   0.011647  0.005962  \n",
       "\n",
       "[1031 rows x 11 columns]"
      ]
     },
     "execution_count": 5,
     "metadata": {},
     "output_type": "execute_result"
    }
   ],
   "source": [
    "df2 = stocks_data['AAPL']\n",
    "df2"
   ]
  },
  {
   "cell_type": "code",
   "execution_count": 6,
   "id": "b1129626-6f28-4103-a114-b505134da0aa",
   "metadata": {},
   "outputs": [],
   "source": [
    "df2 = df2['Close']"
   ]
  },
  {
   "cell_type": "code",
   "execution_count": 7,
   "id": "a2f62c91-e63b-401e-9a42-85191948bf4e",
   "metadata": {
    "scrolled": true
   },
   "outputs": [
    {
     "data": {
      "image/png": "[encoded data removed]",
      "text/plain": [
       "<Figure size 640x480 with 1 Axes>"
      ]
     },
     "metadata": {},
     "output_type": "display_data"
    }
   ],
   "source": [
    "df2.plot(y='Close', kind='line', linestyle='-')\n",
    "\n",
    "# Add labels and title\n",
    "plt.xlabel('Date')\n",
    "plt.ylabel('Stock Price')\n",
    "plt.title('Apple Stock Last 4 Years')\n",
    "\n",
    "# Show the plot\n",
    "plt.show()"
   ]
  },
  {
   "cell_type": "code",
   "execution_count": 8,
   "id": "8b6ab172-7c92-43e6-aa53-2a083cc7b864",
   "metadata": {},
   "outputs": [
    {
     "data": {
      "text/plain": [
       "(1031, 1)"
      ]
     },
     "execution_count": 8,
     "metadata": {},
     "output_type": "execute_result"
    }
   ],
   "source": [
    "scaler = MinMaxScaler()\n",
    "df2 = scaler.fit_transform(np.array(df2).reshape(-1,1))\n",
    "df2.shape"
   ]
  },
  {
   "cell_type": "code",
   "execution_count": 9,
   "id": "86985847-37b2-4deb-8041-ceb2182e981a",
   "metadata": {},
   "outputs": [],
   "source": [
    "train_data=df2[0:1030]\n",
    "valid_data=df2[1030:,]\n",
    "\n",
    "train_size = int(len(df2)*0.80)\n",
    "test_size = len(df2) - train_size\n",
    "train_data, test_data = df2[:train_size], df2[train_size:]"
   ]
  },
  {
   "cell_type": "code",
   "execution_count": 10,
   "id": "7f5f3791-ea56-4c24-ae41-d2a4a71317c8",
   "metadata": {},
   "outputs": [],
   "source": [
    "def create_dataset(data, time_step = 1):\n",
    "    dataX,dataY = [],[]\n",
    "    for i in range(len(data)-time_step-1):\n",
    "                   a = data[i:(i+time_step),0]\n",
    "                   dataX.append(a)\n",
    "                   dataY.append(data[i + time_step,0])\n",
    "    return np.array(dataX),np.array(dataY)"
   ]
  },
  {
   "cell_type": "code",
   "execution_count": 11,
   "id": "401766db-cddc-4d57-a063-aef02c9644a3",
   "metadata": {},
   "outputs": [],
   "source": [
    "time_step = 100\n",
    "X_train, Y_train =  create_dataset(train_data, time_step)\n",
    "X_test, Y_test =  create_dataset(test_data, time_step)"
   ]
  },
  {
   "cell_type": "code",
   "execution_count": 12,
   "id": "d1397ac0-c654-4a2c-b924-7e9f35196216",
   "metadata": {},
   "outputs": [
    {
     "name": "stdout",
     "output_type": "stream",
     "text": [
      "(723, 100)\n",
      "[[0.16429316 0.16698649 0.16536695 ... 0.22615171 0.19633143 0.20143643]\n",
      " [0.16698649 0.16536695 0.14889013 ... 0.19633143 0.20143643 0.20881228]\n",
      " [0.16536695 0.14889013 0.16427554 ... 0.20143643 0.20881228 0.22481383]\n",
      " ...\n",
      " [0.59906348 0.64736739 0.64933897 ... 0.77847796 0.76700057 0.76918339]\n",
      " [0.64736739 0.64933897 0.64581828 ... 0.76700057 0.76918339 0.75819884]\n",
      " [0.64933897 0.64581828 0.6375095  ... 0.76918339 0.75819884 0.75812836]]\n",
      "(106, 100)\n",
      "(106,)\n"
     ]
    }
   ],
   "source": [
    "# checking values\n",
    "print(X_train.shape)\n",
    "print(X_train)\n",
    "print(X_test.shape)\n",
    "print(Y_test.shape)"
   ]
  },
  {
   "cell_type": "code",
   "execution_count": 13,
   "id": "0353c990-1a4a-4164-b56f-13fbfce11880",
   "metadata": {},
   "outputs": [],
   "source": [
    "stock_model = Sequential()\n",
    "stock_model.add(LSTM(50,return_sequences = True,input_shape = (X_train.shape[1],1)))\n",
    "stock_model.add(LSTM(50,return_sequences = True))\n",
    "stock_model.add(LSTM(50))\n",
    "stock_model.add(Dense(1))\n",
    "stock_model.compile(optimizer = 'adam', loss = 'mean_squared_error')"
   ]
  },
  {
   "cell_type": "code",
   "execution_count": 14,
   "id": "3e152e7d-8a66-49cb-a05c-7cb8ae55956c",
   "metadata": {},
   "outputs": [
    {
     "name": "stdout",
     "output_type": "stream",
     "text": [
      "Epoch 1/20\n",
      "23/23 [==============================] - 7s 132ms/step - loss: 0.0786 - val_loss: 0.0281\n",
      "Epoch 2/20\n",
      "23/23 [==============================] - 2s 100ms/step - loss: 0.0065 - val_loss: 0.0157\n",
      "Epoch 3/20\n",
      "23/23 [==============================] - 2s 104ms/step - loss: 0.0041 - val_loss: 0.0087\n",
      "Epoch 4/20\n",
      "23/23 [==============================] - 2s 95ms/step - loss: 0.0033 - val_loss: 0.0108\n",
      "Epoch 5/20\n",
      "23/23 [==============================] - 2s 92ms/step - loss: 0.0030 - val_loss: 0.0047\n",
      "Epoch 6/20\n",
      "23/23 [==============================] - 2s 99ms/step - loss: 0.0027 - val_loss: 0.0039\n",
      "Epoch 7/20\n",
      "23/23 [==============================] - 2s 93ms/step - loss: 0.0027 - val_loss: 0.0039\n",
      "Epoch 8/20\n",
      "23/23 [==============================] - 2s 91ms/step - loss: 0.0026 - val_loss: 0.0021\n",
      "Epoch 9/20\n",
      "23/23 [==============================] - 2s 92ms/step - loss: 0.0026 - val_loss: 0.0043\n",
      "Epoch 10/20\n",
      "23/23 [==============================] - 2s 104ms/step - loss: 0.0025 - val_loss: 0.0039\n",
      "Epoch 11/20\n",
      "23/23 [==============================] - 2s 94ms/step - loss: 0.0024 - val_loss: 0.0025\n",
      "Epoch 12/20\n",
      "23/23 [==============================] - 2s 93ms/step - loss: 0.0023 - val_loss: 0.0026\n",
      "Epoch 13/20\n",
      "23/23 [==============================] - 2s 93ms/step - loss: 0.0023 - val_loss: 0.0023\n",
      "Epoch 14/20\n",
      "23/23 [==============================] - 2s 92ms/step - loss: 0.0022 - val_loss: 0.0019\n",
      "Epoch 15/20\n",
      "23/23 [==============================] - 2s 97ms/step - loss: 0.0022 - val_loss: 0.0028\n",
      "Epoch 16/20\n",
      "23/23 [==============================] - 2s 94ms/step - loss: 0.0022 - val_loss: 0.0015\n",
      "Epoch 17/20\n",
      "23/23 [==============================] - 2s 97ms/step - loss: 0.0023 - val_loss: 0.0019\n",
      "Epoch 18/20\n",
      "23/23 [==============================] - 2s 92ms/step - loss: 0.0022 - val_loss: 0.0045\n",
      "Epoch 19/20\n",
      "23/23 [==============================] - 2s 93ms/step - loss: 0.0019 - val_loss: 0.0017\n",
      "Epoch 20/20\n",
      "23/23 [==============================] - 2s 93ms/step - loss: 0.0019 - val_loss: 0.0023\n"
     ]
    },
    {
     "data": {
      "text/plain": [
       "<keras.src.callbacks.History at 0x7fcffff2dc60>"
      ]
     },
     "execution_count": 14,
     "metadata": {},
     "output_type": "execute_result"
    }
   ],
   "source": [
    "stock_model.fit(X_train,Y_train,validation_data = (X_test,Y_test),epochs = 20,batch_size = 32,verbose = 1)"
   ]
  },
  {
   "cell_type": "code",
   "execution_count": 15,
   "id": "ba06d16b-556c-4d03-b8e4-d54e05509847",
   "metadata": {},
   "outputs": [
    {
     "name": "stdout",
     "output_type": "stream",
     "text": [
      "23/23 [==============================] - 2s 28ms/step\n",
      "4/4 [==============================] - 0s 27ms/step\n"
     ]
    }
   ],
   "source": [
    "train_predict = stock_model.predict(X_train)\n",
    "test_predict = stock_model.predict(X_test)"
   ]
  },
  {
   "cell_type": "code",
   "execution_count": 16,
   "id": "29b4e03d-ac54-477c-bfd6-0db43b304ee8",
   "metadata": {},
   "outputs": [],
   "source": [
    "# transform to original form\n",
    "train_predict = scaler.inverse_transform(train_predict)\n",
    "test_predict = scaler.inverse_transform(test_predict)"
   ]
  },
  {
   "cell_type": "code",
   "execution_count": 17,
   "id": "b744a056",
   "metadata": {},
   "outputs": [
    {
     "name": "stdout",
     "output_type": "stream",
     "text": [
      "23/23 [==============================] - 1s 28ms/step\n"
     ]
    }
   ],
   "source": [
    "model_predictions = stock_model.predict(X_train)\n",
    "true_labels = Y_train"
   ]
  },
  {
   "cell_type": "code",
   "execution_count": 18,
   "id": "9afb05fc",
   "metadata": {},
   "outputs": [
    {
     "name": "stdout",
     "output_type": "stream",
     "text": [
      "Mean Absolute Error (MAE): 0.033337830104500914\n",
      "Mean Squared Error (MSE): 0.0017207712239526035\n",
      "R^2 Score: 0.9160485233405886\n"
     ]
    }
   ],
   "source": [
    "from sklearn.metrics import mean_absolute_error, mean_squared_error, r2_score\n",
    "\n",
    "# Compute Mean Absolute Error (MAE)\n",
    "mae = mean_absolute_error(true_labels, model_predictions)\n",
    "print(\"Mean Absolute Error (MAE):\", mae)\n",
    "\n",
    "# Compute Mean Squared Error (MSE)\n",
    "mse = mean_squared_error(true_labels, model_predictions)\n",
    "print(\"Mean Squared Error (MSE):\", mse)\n",
    "\n",
    "# Compute R^2 Score\n",
    "r2 = r2_score(true_labels, model_predictions)\n",
    "print(\"R^2 Score:\", r2)"
   ]
  },
  {
   "cell_type": "code",
   "execution_count": 19,
   "id": "c41d1393-3b86-40a1-a60e-5738c4bd34fa",
   "metadata": {},
   "outputs": [],
   "source": [
    "look_back = 100\n",
    "\n",
    "trainPredictPlot = np.empty_like(df2)\n",
    "trainPredictPlot[:,:] = np.nan\n",
    "trainPredictPlot[look_back : len(train_predict)+look_back,:] = train_predict\n",
    "\n",
    "testPredictPlot = np.empty_like(df2)\n",
    "testPredictPlot[:,:] = np.nan\n",
    "testPredictPlot[len(train_predict)+(look_back)*2 + 1 : len(df2) - 1,:] = test_predict"
   ]
  },
  {
   "cell_type": "code",
   "execution_count": 20,
   "id": "b73a1056-5fde-4025-92e1-5ce00c69c139",
   "metadata": {
    "scrolled": true
   },
   "outputs": [
    {
     "data": {
      "text/html": [
       "<div>\n",
       "<style scoped>\n",
       "    .dataframe tbody tr th:only-of-type {\n",
       "        vertical-align: middle;\n",
       "    }\n",
       "\n",
       "    .dataframe tbody tr th {\n",
       "        vertical-align: top;\n",
       "    }\n",
       "\n",
       "    .dataframe thead th {\n",
       "        text-align: right;\n",
       "    }\n",
       "</style>\n",
       "<table border=\"1\" class=\"dataframe\">\n",
       "  <thead>\n",
       "    <tr style=\"text-align: right;\">\n",
       "      <th></th>\n",
       "      <th>0</th>\n",
       "    </tr>\n",
       "  </thead>\n",
       "  <tbody>\n",
       "    <tr>\n",
       "      <th>800</th>\n",
       "      <td>154.724213</td>\n",
       "    </tr>\n",
       "    <tr>\n",
       "      <th>801</th>\n",
       "      <td>155.625031</td>\n",
       "    </tr>\n",
       "    <tr>\n",
       "      <th>802</th>\n",
       "      <td>156.438278</td>\n",
       "    </tr>\n",
       "    <tr>\n",
       "      <th>803</th>\n",
       "      <td>157.194855</td>\n",
       "    </tr>\n",
       "    <tr>\n",
       "      <th>804</th>\n",
       "      <td>157.924576</td>\n",
       "    </tr>\n",
       "    <tr>\n",
       "      <th>...</th>\n",
       "      <td>...</td>\n",
       "    </tr>\n",
       "    <tr>\n",
       "      <th>1026</th>\n",
       "      <td>NaN</td>\n",
       "    </tr>\n",
       "    <tr>\n",
       "      <th>1027</th>\n",
       "      <td>NaN</td>\n",
       "    </tr>\n",
       "    <tr>\n",
       "      <th>1028</th>\n",
       "      <td>NaN</td>\n",
       "    </tr>\n",
       "    <tr>\n",
       "      <th>1029</th>\n",
       "      <td>NaN</td>\n",
       "    </tr>\n",
       "    <tr>\n",
       "      <th>1030</th>\n",
       "      <td>NaN</td>\n",
       "    </tr>\n",
       "  </tbody>\n",
       "</table>\n",
       "<p>231 rows × 1 columns</p>\n",
       "</div>"
      ],
      "text/plain": [
       "               0\n",
       "800   154.724213\n",
       "801   155.625031\n",
       "802   156.438278\n",
       "803   157.194855\n",
       "804   157.924576\n",
       "...          ...\n",
       "1026         NaN\n",
       "1027         NaN\n",
       "1028         NaN\n",
       "1029         NaN\n",
       "1030         NaN\n",
       "\n",
       "[231 rows x 1 columns]"
      ]
     },
     "execution_count": 20,
     "metadata": {},
     "output_type": "execute_result"
    }
   ],
   "source": [
    "trainPredictPlot = pd.DataFrame(trainPredictPlot)\n",
    "trainPredictPlot[800:]"
   ]
  },
  {
   "cell_type": "code",
   "execution_count": 21,
   "id": "7ab002c2-1d2c-44f1-a017-d578dc213910",
   "metadata": {},
   "outputs": [],
   "source": [
    "df2 = scaler.inverse_transform(df2)"
   ]
  },
  {
   "cell_type": "code",
   "execution_count": 22,
   "id": "bfdda7ab-8389-4155-8de1-852833ff062b",
   "metadata": {
    "scrolled": true
   },
   "outputs": [
    {
     "data": {
      "image/png": "[encoded data removed]",
      "text/plain": [
       "<Figure size 640x480 with 1 Axes>"
      ]
     },
     "metadata": {},
     "output_type": "display_data"
    }
   ],
   "source": [
    "plt.plot(df2, label=\"Actual Data\", linewidth=2)\n",
    "plt.plot(trainPredictPlot, label=\"Training Data\", linewidth=2)\n",
    "plt.plot(testPredictPlot, label=\"Test Data\", linewidth=2)\n",
    "\n",
    "plt.legend()\n",
    "plt.show()"
   ]
  },
  {
   "cell_type": "code",
   "execution_count": 23,
   "id": "776d41f2-41e1-4318-adcc-65bd98bd41d8",
   "metadata": {},
   "outputs": [
    {
     "name": "stdout",
     "output_type": "stream",
     "text": [
      "1/1 [==============================] - 0s 30ms/step\n"
     ]
    }
   ],
   "source": [
    "# Number of future days to predict\n",
    "future_days = 1\n",
    "future_predictions = []\n",
    "last_sequence = X_test[-1].reshape(1, -1)\n",
    "\n",
    "for i in range(future_days):\n",
    "    # Predict the next day's value with last sequence\n",
    "    next_prediction = stock_model.predict(last_sequence)\n",
    "    # Inverse transform to get the actual predicted value\n",
    "    next_prediction = scaler.inverse_transform(next_prediction)\n",
    "    # Append the prediction to the list of future predictions\n",
    "    future_predictions.append(next_prediction)\n",
    "    # Update last_sequence for the next prediction\n",
    "    last_sequence = next_prediction.reshape(1, -1)"
   ]
  },
  {
   "cell_type": "code",
   "execution_count": 24,
   "id": "8a4c230f-5f9b-47ac-9c66-6ac3b3f70211",
   "metadata": {
    "scrolled": true
   },
   "outputs": [
    {
     "data": {
      "text/plain": [
       "[array([[180.87866]], dtype=float32)]"
      ]
     },
     "execution_count": 24,
     "metadata": {},
     "output_type": "execute_result"
    }
   ],
   "source": [
    "future_predictions"
   ]
  },
  {
   "cell_type": "code",
   "execution_count": 25,
   "id": "c2979e3e-5955-4f78-af16-c5ba206be1e9",
   "metadata": {},
   "outputs": [],
   "source": [
    "df2 = pd.DataFrame(df2)"
   ]
  },
  {
   "cell_type": "code",
   "execution_count": 26,
   "id": "d5af77a1-3cbc-4c52-88ef-73e496400c06",
   "metadata": {},
   "outputs": [],
   "source": [
    "df2[['Close']] = df2"
   ]
  },
  {
   "cell_type": "code",
   "execution_count": 27,
   "id": "9d3537de-0388-4ffd-ac52-c7b884dc6dc5",
   "metadata": {},
   "outputs": [
    {
     "data": {
      "text/html": [
       "<div>\n",
       "<style scoped>\n",
       "    .dataframe tbody tr th:only-of-type {\n",
       "        vertical-align: middle;\n",
       "    }\n",
       "\n",
       "    .dataframe tbody tr th {\n",
       "        vertical-align: top;\n",
       "    }\n",
       "\n",
       "    .dataframe thead th {\n",
       "        text-align: right;\n",
       "    }\n",
       "</style>\n",
       "<table border=\"1\" class=\"dataframe\">\n",
       "  <thead>\n",
       "    <tr style=\"text-align: right;\">\n",
       "      <th></th>\n",
       "      <th>Close</th>\n",
       "    </tr>\n",
       "  </thead>\n",
       "  <tbody>\n",
       "    <tr>\n",
       "      <th>0</th>\n",
       "      <td>79.425003</td>\n",
       "    </tr>\n",
       "    <tr>\n",
       "      <th>1</th>\n",
       "      <td>79.807503</td>\n",
       "    </tr>\n",
       "    <tr>\n",
       "      <th>2</th>\n",
       "      <td>79.577499</td>\n",
       "    </tr>\n",
       "    <tr>\n",
       "      <th>3</th>\n",
       "      <td>77.237503</td>\n",
       "    </tr>\n",
       "    <tr>\n",
       "      <th>4</th>\n",
       "      <td>79.422501</td>\n",
       "    </tr>\n",
       "    <tr>\n",
       "      <th>...</th>\n",
       "      <td>...</td>\n",
       "    </tr>\n",
       "    <tr>\n",
       "      <th>1026</th>\n",
       "      <td>181.559998</td>\n",
       "    </tr>\n",
       "    <tr>\n",
       "      <th>1027</th>\n",
       "      <td>182.320007</td>\n",
       "    </tr>\n",
       "    <tr>\n",
       "      <th>1028</th>\n",
       "      <td>184.369995</td>\n",
       "    </tr>\n",
       "    <tr>\n",
       "      <th>1029</th>\n",
       "      <td>182.520004</td>\n",
       "    </tr>\n",
       "    <tr>\n",
       "      <th>1030</th>\n",
       "      <td>181.160004</td>\n",
       "    </tr>\n",
       "  </tbody>\n",
       "</table>\n",
       "<p>1031 rows × 1 columns</p>\n",
       "</div>"
      ],
      "text/plain": [
       "           Close\n",
       "0      79.425003\n",
       "1      79.807503\n",
       "2      79.577499\n",
       "3      77.237503\n",
       "4      79.422501\n",
       "...          ...\n",
       "1026  181.559998\n",
       "1027  182.320007\n",
       "1028  184.369995\n",
       "1029  182.520004\n",
       "1030  181.160004\n",
       "\n",
       "[1031 rows x 1 columns]"
      ]
     },
     "execution_count": 27,
     "metadata": {},
     "output_type": "execute_result"
    }
   ],
   "source": [
    "df2 = df2[['Close']]\n",
    "df2"
   ]
  },
  {
   "cell_type": "code",
   "execution_count": 28,
   "id": "4b93f5d0-beab-4bbe-bbe8-28ab1246c994",
   "metadata": {},
   "outputs": [
    {
     "name": "stdout",
     "output_type": "stream",
     "text": [
      "           Close  Predictions\n",
      "1030  181.160004   180.878662\n",
      "Predicted Closing Price for February 28th, 2024:[[180.87866]]\n"
     ]
    },
    {
     "name": "stderr",
     "output_type": "stream",
     "text": [
      "/var/folders/by/st2c4w_96757fgwg7jsfc4480000gn/T/ipykernel_15516/4240690683.py:3: SettingWithCopyWarning: \n",
      "A value is trying to be set on a copy of a slice from a DataFrame.\n",
      "Try using .loc[row_indexer,col_indexer] = value instead\n",
      "\n",
      "See the caveats in the documentation: https://pandas.pydata.org/pandas-docs/stable/user_guide/indexing.html#returning-a-view-versus-a-copy\n",
      "  predict_data['Predictions']=next_prediction\n"
     ]
    }
   ],
   "source": [
    "model_data=df2[:1030]\n",
    "predict_data=df2[1030:]\n",
    "predict_data['Predictions']=next_prediction\n",
    "print(predict_data)\n",
    "print(f'Predicted Closing Price for February 28th, 2024:{next_prediction}')"
   ]
  },
  {
   "cell_type": "code",
   "execution_count": null,
   "id": "d8d0e94b-7fac-4727-9602-40e86bdc7cdc",
   "metadata": {},
   "outputs": [],
   "source": []
  }
 ],
 "metadata": {
  "kernelspec": {
   "display_name": "Python 3 (ipykernel)",
   "language": "python",
   "name": "python3"
  },
  "language_info": {
   "codemirror_mode": {
    "name": "ipython",
    "version": 3
   },
   "file_extension": ".py",
   "mimetype": "text/x-python",
   "name": "python",
   "nbconvert_exporter": "python",
   "pygments_lexer": "ipython3",
   "version": "3.10.13"
  }
 },
 "nbformat": 4,
 "nbformat_minor": 5
}
