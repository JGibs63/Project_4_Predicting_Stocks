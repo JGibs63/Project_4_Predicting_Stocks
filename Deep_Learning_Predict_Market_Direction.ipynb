{
 "cells": [
  {
   "cell_type": "code",
   "execution_count": 10,
   "metadata": {},
   "outputs": [
    {
     "name": "stdout",
     "output_type": "stream",
     "text": [
      "Requirement already satisfied: yfinance in c:\\users\\jbren\\anaconda3\\envs\\pythondata2\\lib\\site-packages (0.2.37)Note: you may need to restart the kernel to use updated packages.\n",
      "Requirement already satisfied: multitasking>=0.0.7 in c:\\users\\jbren\\anaconda3\\envs\\pythondata2\\lib\\site-packages (from yfinance) (0.0.11)\n",
      "Requirement already satisfied: html5lib>=1.1 in c:\\users\\jbren\\anaconda3\\envs\\pythondata2\\lib\\site-packages (from yfinance) (1.1)\n",
      "Requirement already satisfied: requests>=2.31 in c:\\users\\jbren\\anaconda3\\envs\\pythondata2\\lib\\site-packages (from yfinance) (2.31.0)\n",
      "Requirement already satisfied: pandas>=1.3.0 in c:\\users\\jbren\\anaconda3\\envs\\pythondata2\\lib\\site-packages (from yfinance) (1.3.5)\n",
      "Requirement already satisfied: frozendict>=2.3.4 in c:\\users\\jbren\\anaconda3\\envs\\pythondata2\\lib\\site-packages (from yfinance) (2.4.0)\n",
      "Requirement already satisfied: numpy>=1.16.5 in c:\\users\\jbren\\anaconda3\\envs\\pythondata2\\lib\\site-packages (from yfinance) (1.21.6)\n",
      "Requirement already satisfied: lxml>=4.9.1 in c:\\users\\jbren\\anaconda3\\envs\\pythondata2\\lib\\site-packages (from yfinance) (4.9.3)\n",
      "Requirement already satisfied: beautifulsoup4>=4.11.1 in c:\\users\\jbren\\anaconda3\\envs\\pythondata2\\lib\\site-packages (from yfinance) (4.12.2)\n",
      "Requirement already satisfied: appdirs>=1.4.4 in c:\\users\\jbren\\anaconda3\\envs\\pythondata2\\lib\\site-packages (from yfinance) (1.4.4)\n",
      "Requirement already satisfied: peewee>=3.16.2 in c:\\users\\jbren\\anaconda3\\envs\\pythondata2\\lib\\site-packages (from yfinance) (3.17.1)\n",
      "Requirement already satisfied: pytz>=2022.5 in c:\\users\\jbren\\anaconda3\\envs\\pythondata2\\lib\\site-packages (from yfinance) (2024.1)\n",
      "Requirement already satisfied: six>=1.9 in c:\\users\\jbren\\anaconda3\\envs\\pythondata2\\lib\\site-packages (from html5lib>=1.1->yfinance) (1.15.0)\n",
      "Requirement already satisfied: webencodings in c:\\users\\jbren\\anaconda3\\envs\\pythondata2\\lib\\site-packages (from html5lib>=1.1->yfinance) (0.5.1)\n",
      "Requirement already satisfied: idna<4,>=2.5 in c:\\users\\jbren\\anaconda3\\envs\\pythondata2\\lib\\site-packages (from requests>=2.31->yfinance) (3.3)\n",
      "Requirement already satisfied: charset-normalizer<4,>=2 in c:\\users\\jbren\\anaconda3\\envs\\pythondata2\\lib\\site-packages (from requests>=2.31->yfinance) (2.0.12)\n",
      "Requirement already satisfied: urllib3<3,>=1.21.1 in c:\\users\\jbren\\anaconda3\\envs\\pythondata2\\lib\\site-packages (from requests>=2.31->yfinance) (1.26.18)\n",
      "Requirement already satisfied: certifi>=2017.4.17 in c:\\users\\jbren\\anaconda3\\envs\\pythondata2\\lib\\site-packages (from requests>=2.31->yfinance) (2021.10.8)\n",
      "Requirement already satisfied: python-dateutil>=2.7.3 in c:\\users\\jbren\\anaconda3\\envs\\pythondata2\\lib\\site-packages (from pandas>=1.3.0->yfinance) (2.8.1)\n",
      "Requirement already satisfied: soupsieve>1.2 in c:\\users\\jbren\\anaconda3\\envs\\pythondata2\\lib\\site-packages (from beautifulsoup4>=4.11.1->yfinance) (2.4.1)\n",
      "\n"
     ]
    }
   ],
   "source": [
    "pip install yfinance"
   ]
  },
  {
   "cell_type": "code",
   "execution_count": 11,
   "metadata": {
    "id": "-KG9lkfmX31t"
   },
   "outputs": [],
   "source": [
    "#Grab Data\n",
    "import yfinance as yf\n",
    "\n",
    "#Usual Suspects\n",
    "import pandas as pd\n",
    "import numpy as np\n",
    "import matplotlib.pyplot as plt\n",
    "import plotly.express as px\n",
    "import seaborn as sns"
   ]
  },
  {
   "cell_type": "code",
   "execution_count": 12,
   "metadata": {},
   "outputs": [
    {
     "data": {
      "text/plain": [
       "yfinance.Ticker object <AAPL>"
      ]
     },
     "execution_count": 12,
     "metadata": {},
     "output_type": "execute_result"
    }
   ],
   "source": [
    "aapl= yf.Ticker(\"aapl\")\n",
    "aapl"
   ]
  },
  {
   "cell_type": "code",
   "execution_count": 16,
   "metadata": {
    "colab": {
     "base_uri": "https://localhost:8080/"
    },
    "id": "y4vpS43jYHKD",
    "outputId": "c7251af8-1928-485d-a1df-17a3d08f6228"
   },
   "outputs": [
    {
     "name": "stderr",
     "output_type": "stream",
     "text": [
      "[*********************100%%**********************]  1 of 1 completed\n"
     ]
    }
   ],
   "source": [
    "# APPLE price levels for the past 10 years\n",
    "symbol = 'AAPL'\n",
    "raw = yf.download(symbol, start=\"2014-02-25\", end=\"2024-02-26\")['Adj Close']\n",
    "\n",
    "data = pd.DataFrame(raw)"
   ]
  },
  {
   "cell_type": "code",
   "execution_count": 17,
   "metadata": {
    "colab": {
     "base_uri": "https://localhost:8080/",
     "height": 238
    },
    "id": "NrRUrruSJLpf",
    "outputId": "e7221e14-adc8-45c1-8355-b873e7d37c0c"
   },
   "outputs": [
    {
     "data": {
      "text/html": [
       "<div>\n",
       "<style scoped>\n",
       "    .dataframe tbody tr th:only-of-type {\n",
       "        vertical-align: middle;\n",
       "    }\n",
       "\n",
       "    .dataframe tbody tr th {\n",
       "        vertical-align: top;\n",
       "    }\n",
       "\n",
       "    .dataframe thead th {\n",
       "        text-align: right;\n",
       "    }\n",
       "</style>\n",
       "<table border=\"1\" class=\"dataframe\">\n",
       "  <thead>\n",
       "    <tr style=\"text-align: right;\">\n",
       "      <th></th>\n",
       "      <th>Adj Close</th>\n",
       "    </tr>\n",
       "    <tr>\n",
       "      <th>Date</th>\n",
       "      <th></th>\n",
       "    </tr>\n",
       "  </thead>\n",
       "  <tbody>\n",
       "    <tr>\n",
       "      <th>2014-02-25</th>\n",
       "      <td>16.422804</td>\n",
       "    </tr>\n",
       "    <tr>\n",
       "      <th>2014-02-26</th>\n",
       "      <td>16.274639</td>\n",
       "    </tr>\n",
       "    <tr>\n",
       "      <th>2014-02-27</th>\n",
       "      <td>16.599281</td>\n",
       "    </tr>\n",
       "    <tr>\n",
       "      <th>2014-02-28</th>\n",
       "      <td>16.554293</td>\n",
       "    </tr>\n",
       "    <tr>\n",
       "      <th>2014-03-03</th>\n",
       "      <td>16.602112</td>\n",
       "    </tr>\n",
       "  </tbody>\n",
       "</table>\n",
       "</div>"
      ],
      "text/plain": [
       "            Adj Close\n",
       "Date                 \n",
       "2014-02-25  16.422804\n",
       "2014-02-26  16.274639\n",
       "2014-02-27  16.599281\n",
       "2014-02-28  16.554293\n",
       "2014-03-03  16.602112"
      ]
     },
     "execution_count": 17,
     "metadata": {},
     "output_type": "execute_result"
    }
   ],
   "source": [
    "data.head()"
   ]
  },
  {
   "cell_type": "code",
   "execution_count": 18,
   "metadata": {
    "colab": {
     "base_uri": "https://localhost:8080/",
     "height": 238
    },
    "id": "SD-F-HJGg3gA",
    "outputId": "bead066a-a2ec-4208-ef54-983ff5858c76"
   },
   "outputs": [
    {
     "data": {
      "text/html": [
       "<div>\n",
       "<style scoped>\n",
       "    .dataframe tbody tr th:only-of-type {\n",
       "        vertical-align: middle;\n",
       "    }\n",
       "\n",
       "    .dataframe tbody tr th {\n",
       "        vertical-align: top;\n",
       "    }\n",
       "\n",
       "    .dataframe thead th {\n",
       "        text-align: right;\n",
       "    }\n",
       "</style>\n",
       "<table border=\"1\" class=\"dataframe\">\n",
       "  <thead>\n",
       "    <tr style=\"text-align: right;\">\n",
       "      <th></th>\n",
       "      <th>Adj Close</th>\n",
       "      <th>return</th>\n",
       "      <th>direction</th>\n",
       "    </tr>\n",
       "    <tr>\n",
       "      <th>Date</th>\n",
       "      <th></th>\n",
       "      <th></th>\n",
       "      <th></th>\n",
       "    </tr>\n",
       "  </thead>\n",
       "  <tbody>\n",
       "    <tr>\n",
       "      <th>2014-02-25</th>\n",
       "      <td>16.422804</td>\n",
       "      <td>NaN</td>\n",
       "      <td>0</td>\n",
       "    </tr>\n",
       "    <tr>\n",
       "      <th>2014-02-26</th>\n",
       "      <td>16.274639</td>\n",
       "      <td>-0.009063</td>\n",
       "      <td>0</td>\n",
       "    </tr>\n",
       "    <tr>\n",
       "      <th>2014-02-27</th>\n",
       "      <td>16.599281</td>\n",
       "      <td>0.019751</td>\n",
       "      <td>1</td>\n",
       "    </tr>\n",
       "    <tr>\n",
       "      <th>2014-02-28</th>\n",
       "      <td>16.554293</td>\n",
       "      <td>-0.002714</td>\n",
       "      <td>0</td>\n",
       "    </tr>\n",
       "    <tr>\n",
       "      <th>2014-03-03</th>\n",
       "      <td>16.602112</td>\n",
       "      <td>0.002884</td>\n",
       "      <td>1</td>\n",
       "    </tr>\n",
       "  </tbody>\n",
       "</table>\n",
       "</div>"
      ],
      "text/plain": [
       "            Adj Close    return  direction\n",
       "Date                                      \n",
       "2014-02-25  16.422804       NaN          0\n",
       "2014-02-26  16.274639 -0.009063          0\n",
       "2014-02-27  16.599281  0.019751          1\n",
       "2014-02-28  16.554293 -0.002714          0\n",
       "2014-03-03  16.602112  0.002884          1"
      ]
     },
     "execution_count": 18,
     "metadata": {},
     "output_type": "execute_result"
    }
   ],
   "source": [
    "#Calculate the returns and add it to the DataFrame\n",
    "data['return'] = np.log(data['Adj Close'] / data['Adj Close'].shift(1))\n",
    "\n",
    "#When the market direction is greater than 0 --> classify 1, less than 0 --> 0\n",
    "data['direction'] = np.where(data['return'] > 0, 1, 0)\n",
    "\n",
    "data.head()"
   ]
  },
  {
   "cell_type": "code",
   "execution_count": 19,
   "metadata": {
    "id": "BFOBZ_ahhU_J"
   },
   "outputs": [],
   "source": [
    "#Create 5 columns for each lag representing previous day's return\n",
    "lags = 5\n",
    "\n",
    "cols = []\n",
    "for lag in range(1, lags + 1):\n",
    "  col = f'lag_{lag}'\n",
    "  data[col] = data['return'].shift(lag)\n",
    "  cols.append(col)\n",
    "\n",
    "data.dropna(inplace=True)"
   ]
  },
  {
   "cell_type": "code",
   "execution_count": 20,
   "metadata": {
    "colab": {
     "base_uri": "https://localhost:8080/",
     "height": 237
    },
    "id": "QFYE9C3YjI-d",
    "outputId": "c556e87d-7dfd-4596-d071-4034e5a0ac21"
   },
   "outputs": [
    {
     "data": {
      "text/html": [
       "<div>\n",
       "<style scoped>\n",
       "    .dataframe tbody tr th:only-of-type {\n",
       "        vertical-align: middle;\n",
       "    }\n",
       "\n",
       "    .dataframe tbody tr th {\n",
       "        vertical-align: top;\n",
       "    }\n",
       "\n",
       "    .dataframe thead th {\n",
       "        text-align: right;\n",
       "    }\n",
       "</style>\n",
       "<table border=\"1\" class=\"dataframe\">\n",
       "  <thead>\n",
       "    <tr style=\"text-align: right;\">\n",
       "      <th></th>\n",
       "      <th>Adj Close</th>\n",
       "      <th>return</th>\n",
       "      <th>direction</th>\n",
       "      <th>lag_1</th>\n",
       "      <th>lag_2</th>\n",
       "      <th>lag_3</th>\n",
       "      <th>lag_4</th>\n",
       "      <th>lag_5</th>\n",
       "    </tr>\n",
       "    <tr>\n",
       "      <th>Date</th>\n",
       "      <th></th>\n",
       "      <th></th>\n",
       "      <th></th>\n",
       "      <th></th>\n",
       "      <th></th>\n",
       "      <th></th>\n",
       "      <th></th>\n",
       "      <th></th>\n",
       "    </tr>\n",
       "  </thead>\n",
       "  <tbody>\n",
       "    <tr>\n",
       "      <th>2024-02-16</th>\n",
       "      <td>182.31</td>\n",
       "      <td>-0.0085</td>\n",
       "      <td>0</td>\n",
       "      <td>-0.0016</td>\n",
       "      <td>-0.0048</td>\n",
       "      <td>-0.0113</td>\n",
       "      <td>-0.0090</td>\n",
       "      <td>0.0041</td>\n",
       "    </tr>\n",
       "    <tr>\n",
       "      <th>2024-02-20</th>\n",
       "      <td>181.56</td>\n",
       "      <td>-0.0041</td>\n",
       "      <td>0</td>\n",
       "      <td>-0.0085</td>\n",
       "      <td>-0.0016</td>\n",
       "      <td>-0.0048</td>\n",
       "      <td>-0.0113</td>\n",
       "      <td>-0.0090</td>\n",
       "    </tr>\n",
       "    <tr>\n",
       "      <th>2024-02-21</th>\n",
       "      <td>182.32</td>\n",
       "      <td>0.0042</td>\n",
       "      <td>1</td>\n",
       "      <td>-0.0041</td>\n",
       "      <td>-0.0085</td>\n",
       "      <td>-0.0016</td>\n",
       "      <td>-0.0048</td>\n",
       "      <td>-0.0113</td>\n",
       "    </tr>\n",
       "    <tr>\n",
       "      <th>2024-02-22</th>\n",
       "      <td>184.37</td>\n",
       "      <td>0.0112</td>\n",
       "      <td>1</td>\n",
       "      <td>0.0042</td>\n",
       "      <td>-0.0041</td>\n",
       "      <td>-0.0085</td>\n",
       "      <td>-0.0016</td>\n",
       "      <td>-0.0048</td>\n",
       "    </tr>\n",
       "    <tr>\n",
       "      <th>2024-02-23</th>\n",
       "      <td>182.52</td>\n",
       "      <td>-0.0101</td>\n",
       "      <td>0</td>\n",
       "      <td>0.0112</td>\n",
       "      <td>0.0042</td>\n",
       "      <td>-0.0041</td>\n",
       "      <td>-0.0085</td>\n",
       "      <td>-0.0016</td>\n",
       "    </tr>\n",
       "  </tbody>\n",
       "</table>\n",
       "</div>"
      ],
      "text/plain": [
       "            Adj Close  return  direction   lag_1   lag_2   lag_3   lag_4  \\\n",
       "Date                                                                       \n",
       "2024-02-16     182.31 -0.0085          0 -0.0016 -0.0048 -0.0113 -0.0090   \n",
       "2024-02-20     181.56 -0.0041          0 -0.0085 -0.0016 -0.0048 -0.0113   \n",
       "2024-02-21     182.32  0.0042          1 -0.0041 -0.0085 -0.0016 -0.0048   \n",
       "2024-02-22     184.37  0.0112          1  0.0042 -0.0041 -0.0085 -0.0016   \n",
       "2024-02-23     182.52 -0.0101          0  0.0112  0.0042 -0.0041 -0.0085   \n",
       "\n",
       "             lag_5  \n",
       "Date                \n",
       "2024-02-16  0.0041  \n",
       "2024-02-20 -0.0090  \n",
       "2024-02-21 -0.0113  \n",
       "2024-02-22 -0.0048  \n",
       "2024-02-23 -0.0016  "
      ]
     },
     "execution_count": 20,
     "metadata": {},
     "output_type": "execute_result"
    }
   ],
   "source": [
    "data.round(4).tail()"
   ]
  },
  {
   "cell_type": "markdown",
   "metadata": {
    "id": "2Edg_TQ6jx8F"
   },
   "source": [
    "# Deep Neural Network Stuff"
   ]
  },
  {
   "cell_type": "code",
   "execution_count": 21,
   "metadata": {
    "id": "mfIvTl6ojbyH"
   },
   "outputs": [],
   "source": [
    "import tensorflow as tf\n",
    "from keras.models import Sequential\n",
    "from keras.layers import Dense\n",
    "from keras.optimizers import Adam, RMSprop\n",
    "import random"
   ]
  },
  {
   "cell_type": "code",
   "execution_count": 22,
   "metadata": {
    "id": "0A_b6yc4j3P3"
   },
   "outputs": [],
   "source": [
    "optimizer = Adam(learning_rate=0.0001)\n",
    "\n",
    "def set_seeds(seed=100):\n",
    "  random.seed(seed)\n",
    "  np.random.seed(seed)\n",
    "  tf.random.set_seed(100)"
   ]
  },
  {
   "cell_type": "code",
   "execution_count": 23,
   "metadata": {
    "id": "MZH2FgH8lGn3"
   },
   "outputs": [],
   "source": [
    "set_seeds()\n",
    "model = Sequential()\n",
    "model.add(Dense(64, activation='relu', input_shape=(lags,)))\n",
    "model.add(Dense(64, activation='relu'))\n",
    "model.add(Dense(1, activation='sigmoid'))\n",
    "model.compile(optimizer=optimizer,\n",
    "              loss='binary_crossentropy',\n",
    "              metrics=['accuracy'])"
   ]
  },
  {
   "cell_type": "code",
   "execution_count": 24,
   "metadata": {
    "id": "jOyEQdtblKSX"
   },
   "outputs": [],
   "source": [
    "train_set, test_set = np.split(data, [int(.70 *len(data))])"
   ]
  },
  {
   "cell_type": "code",
   "execution_count": 25,
   "metadata": {
    "id": "OTKtDOdCpYIk"
   },
   "outputs": [],
   "source": [
    "mu, std = train_set.mean(), train_set.std()"
   ]
  },
  {
   "cell_type": "code",
   "execution_count": 26,
   "metadata": {
    "id": "rtyatXHYpeX8"
   },
   "outputs": [],
   "source": [
    "# Normalizes the features data by Gaussian normalization\n",
    "training_data_ = (train_set - mu) / std\n",
    "test_data_ = (test_set - mu) / std"
   ]
  },
  {
   "cell_type": "code",
   "execution_count": 27,
   "metadata": {
    "colab": {
     "base_uri": "https://localhost:8080/"
    },
    "id": "-KmU4xPLqGU1",
    "outputId": "570e4009-0ff8-454a-867b-1c81d647a019"
   },
   "outputs": [
    {
     "name": "stdout",
     "output_type": "stream",
     "text": [
      "Wall time: 8.61 s\n"
     ]
    },
    {
     "data": {
      "text/plain": [
       "<keras.callbacks.History at 0x208a3ab9f48>"
      ]
     },
     "execution_count": 27,
     "metadata": {},
     "output_type": "execute_result"
    }
   ],
   "source": [
    "%%time\n",
    "model.fit(train_set[cols],\n",
    "           train_set['direction'],\n",
    "           epochs=50, verbose=False,\n",
    "           validation_split=0.2, shuffle=False)"
   ]
  },
  {
   "cell_type": "code",
   "execution_count": 28,
   "metadata": {
    "id": "_Bw9lU9vqpAN"
   },
   "outputs": [],
   "source": [
    "res = pd.DataFrame(model.history.history)"
   ]
  },
  {
   "cell_type": "code",
   "execution_count": 29,
   "metadata": {
    "colab": {
     "base_uri": "https://localhost:8080/",
     "height": 540
    },
    "id": "GMfFf20Bq167",
    "outputId": "79748eed-ebf9-4df3-b84f-78e2b14430f8"
   },
   "outputs": [
    {
     "data": {
      "text/plain": [
       "<matplotlib.axes._subplots.AxesSubplot at 0x208a4f83a08>"
      ]
     },
     "execution_count": 29,
     "metadata": {},
     "output_type": "execute_result"
    },
    {
     "data": {
      "image/png": "[encoded data removed]",
      "text/plain": [
       "<Figure size 720x432 with 1 Axes>"
      ]
     },
     "metadata": {
      "needs_background": "light"
     },
     "output_type": "display_data"
    }
   ],
   "source": [
    "# Accuracy of the model for training and validation in the training set\n",
    "res[['accuracy', 'val_accuracy']].plot(figsize=(10,6), style='--')"
   ]
  },
  {
   "cell_type": "code",
   "execution_count": 30,
   "metadata": {
    "colab": {
     "base_uri": "https://localhost:8080/"
    },
    "id": "Cn_YJesnq-ul",
    "outputId": "00729d1a-c0a2-4f3f-af93-dca1d662342d"
   },
   "outputs": [
    {
     "name": "stdout",
     "output_type": "stream",
     "text": [
      "55/55 [==============================] - 0s 2ms/step - loss: 0.8220 - accuracy: 0.5367\n"
     ]
    },
    {
     "data": {
      "text/plain": [
       "[0.8219884634017944, 0.5367103219032288]"
      ]
     },
     "execution_count": 30,
     "metadata": {},
     "output_type": "execute_result"
    }
   ],
   "source": [
    "model.evaluate(training_data_[cols], train_set['direction'])"
   ]
  },
  {
   "cell_type": "code",
   "execution_count": 31,
   "metadata": {
    "colab": {
     "base_uri": "https://localhost:8080/"
    },
    "id": "ApSC2aKMsNXw",
    "outputId": "74226733-fdc5-4bf5-b8b7-fcaa5a69aa2f"
   },
   "outputs": [
    {
     "name": "stdout",
     "output_type": "stream",
     "text": [
      "55/55 [==============================] - 0s 2ms/step\n"
     ]
    }
   ],
   "source": [
    "# Creating Prediction of market direction\n",
    "pred = np.where(model.predict(training_data_[cols]) > 0.5, 1, 0)"
   ]
  },
  {
   "cell_type": "code",
   "execution_count": 32,
   "metadata": {
    "id": "3QcTyr2TuJVv"
   },
   "outputs": [
    {
     "data": {
      "text/plain": [
       "array([[1],\n",
       "       [1],\n",
       "       [1],\n",
       "       ...,\n",
       "       [1],\n",
       "       [1],\n",
       "       [1]])"
      ]
     },
     "execution_count": 32,
     "metadata": {},
     "output_type": "execute_result"
    }
   ],
   "source": [
    "pred"
   ]
  },
  {
   "cell_type": "code",
   "execution_count": 33,
   "metadata": {
    "colab": {
     "base_uri": "https://localhost:8080/"
    },
    "id": "zA4PR-zXslh7",
    "outputId": "cf2719da-20f8-459f-d989-fb5b7ab322fa"
   },
   "outputs": [
    {
     "data": {
      "text/plain": [
       "array([1, 1, 1, 1, 1, 1, 1, 1, 1, 1, 1, 1, 1, 1, 1, 1, 1, 1, 1, 1, 0, 1,\n",
       "       1, 1, 1, 1, 0, 0, 1, 1])"
      ]
     },
     "execution_count": 33,
     "metadata": {},
     "output_type": "execute_result"
    }
   ],
   "source": [
    "pred[:30].flatten()"
   ]
  },
  {
   "cell_type": "code",
   "execution_count": 34,
   "metadata": {
    "id": "uNAhkYYAsp2N"
   },
   "outputs": [],
   "source": [
    "# Transforming the predictions to long-short position; 1,-1\n",
    "train_set['prediction'] = np.where(pred > 0, 1, -1)"
   ]
  },
  {
   "cell_type": "code",
   "execution_count": 35,
   "metadata": {
    "id": "rj29Q1kPs0XT"
   },
   "outputs": [],
   "source": [
    "# Calculate strategy returns given the positions\n",
    "train_set['strategy'] = (train_set['prediction'] * train_set['return'])"
   ]
  },
  {
   "cell_type": "code",
   "execution_count": 36,
   "metadata": {
    "colab": {
     "base_uri": "https://localhost:8080/"
    },
    "id": "yy5XktPCtBes",
    "outputId": "0827a768-13c6-4f4a-dc99-a056a7322459"
   },
   "outputs": [
    {
     "data": {
      "text/plain": [
       "return       7.372220\n",
       "strategy    12.040786\n",
       "dtype: float64"
      ]
     },
     "execution_count": 36,
     "metadata": {},
     "output_type": "execute_result"
    }
   ],
   "source": [
    "train_set[['return', 'strategy']].sum().apply(np.exp)"
   ]
  },
  {
   "cell_type": "code",
   "execution_count": 37,
   "metadata": {
    "colab": {
     "base_uri": "https://localhost:8080/",
     "height": 522
    },
    "id": "_5m_Oz3QtLZD",
    "outputId": "375cd85a-b465-4fb7-d9d7-2c40afa42607"
   },
   "outputs": [
    {
     "data": {
      "text/plain": [
       "<matplotlib.axes._subplots.AxesSubplot at 0x208a824b808>"
      ]
     },
     "execution_count": 37,
     "metadata": {},
     "output_type": "execute_result"
    },
    {
     "data": {
      "image/png": "[encoded data removed]",
      "text/plain": [
       "<Figure size 720x432 with 1 Axes>"
      ]
     },
     "metadata": {
      "needs_background": "light"
     },
     "output_type": "display_data"
    }
   ],
   "source": [
    "# Plots the strategy returns to the benchmark performance for the sample\n",
    "train_set[['return', 'strategy']].cumsum().apply(np.exp).plot(figsize=(10,6))"
   ]
  },
  {
   "cell_type": "markdown",
   "metadata": {
    "id": "RCIY8UlOuzzU"
   },
   "source": [
    "# Same Process on the Out-of-Sample Test Set"
   ]
  },
  {
   "cell_type": "code",
   "execution_count": 38,
   "metadata": {
    "id": "MVAepqwetjmb"
   },
   "outputs": [
    {
     "name": "stdout",
     "output_type": "stream",
     "text": [
      "24/24 [==============================] - 0s 2ms/step - loss: 0.8708 - accuracy: 0.5027\n"
     ]
    },
    {
     "data": {
      "text/plain": [
       "[0.8707950711250305, 0.5026525259017944]"
      ]
     },
     "execution_count": 38,
     "metadata": {},
     "output_type": "execute_result"
    }
   ],
   "source": [
    "model.evaluate(test_data_[cols], test_set['direction'])"
   ]
  },
  {
   "cell_type": "code",
   "execution_count": 39,
   "metadata": {
    "colab": {
     "base_uri": "https://localhost:8080/"
    },
    "id": "l8aNfiENu_fS",
    "outputId": "320ddbd7-cf8a-4727-8a0b-4480cbf0d154"
   },
   "outputs": [
    {
     "name": "stdout",
     "output_type": "stream",
     "text": [
      "24/24 [==============================] - 0s 2ms/step\n"
     ]
    }
   ],
   "source": [
    "pred = np.where(model.predict(test_data_[cols]) > 0.5, 1, 0)"
   ]
  },
  {
   "cell_type": "code",
   "execution_count": 40,
   "metadata": {
    "id": "hHfj4LPUvHc6"
   },
   "outputs": [],
   "source": [
    "test_set['prediction'] = np.where(pred > 0, 1, -1)"
   ]
  },
  {
   "cell_type": "code",
   "execution_count": 41,
   "metadata": {
    "colab": {
     "base_uri": "https://localhost:8080/"
    },
    "id": "wm39jn1ovNG7",
    "outputId": "e3586a77-9efc-4960-ec7f-a8c41b0da737"
   },
   "outputs": [
    {
     "data": {
      "text/plain": [
       " 1    695\n",
       "-1     59\n",
       "Name: prediction, dtype: int64"
      ]
     },
     "execution_count": 41,
     "metadata": {},
     "output_type": "execute_result"
    }
   ],
   "source": [
    "test_set['prediction'].value_counts()"
   ]
  },
  {
   "cell_type": "code",
   "execution_count": 42,
   "metadata": {
    "id": "9Zvgh6mkvT5J"
   },
   "outputs": [],
   "source": [
    "test_set['strategy'] = (test_set['prediction'] * test_set['return'])"
   ]
  },
  {
   "cell_type": "code",
   "execution_count": 43,
   "metadata": {
    "colab": {
     "base_uri": "https://localhost:8080/"
    },
    "id": "R3T358J2vf0p",
    "outputId": "dec9a9dd-66ca-49f8-f9e3-2d1c6d6bddcc"
   },
   "outputs": [
    {
     "data": {
      "text/plain": [
       "return      1.481476\n",
       "strategy    1.482127\n",
       "dtype: float64"
      ]
     },
     "execution_count": 43,
     "metadata": {},
     "output_type": "execute_result"
    }
   ],
   "source": [
    "test_set[['return', 'strategy']].sum().apply(np.exp)"
   ]
  },
  {
   "cell_type": "code",
   "execution_count": 44,
   "metadata": {
    "colab": {
     "base_uri": "https://localhost:8080/",
     "height": 576
    },
    "id": "uGhpcVG0vk6z",
    "outputId": "b5fa81ca-0235-4b01-f677-cbac7ed82fa1"
   },
   "outputs": [
    {
     "data": {
      "text/plain": [
       "<matplotlib.axes._subplots.AxesSubplot at 0x208a825eb08>"
      ]
     },
     "execution_count": 44,
     "metadata": {},
     "output_type": "execute_result"
    },
    {
     "data": {
      "image/png": "[encoded data removed]",
      "text/plain": [
       "<Figure size 720x432 with 1 Axes>"
      ]
     },
     "metadata": {
      "needs_background": "light"
     },
     "output_type": "display_data"
    }
   ],
   "source": [
    "test_set[['return', 'strategy']].cumsum().apply(np.exp).plot(figsize=(10,6))"
   ]
  },
  {
   "cell_type": "markdown",
   "metadata": {
    "id": "x3UmMWrxwhAv"
   },
   "source": [
    "# Adding More Features"
   ]
  },
  {
   "cell_type": "code",
   "execution_count": 45,
   "metadata": {
    "id": "tobZ0Y5yvzL0"
   },
   "outputs": [],
   "source": [
    "#Add momentum, volatitlity, & distance to the data_frame\n",
    "data['momentum'] = data['return'].rolling(5).mean().shift(1)\n",
    "data['volatility'] = data['return'].rolling(20).std().shift(1)\n",
    "data['distance'] = (data['Adj Close'] - data['Adj Close'].rolling(50).mean()).shift(1)"
   ]
  },
  {
   "cell_type": "code",
   "execution_count": 46,
   "metadata": {
    "id": "h7DiHej7xcXp"
   },
   "outputs": [],
   "source": [
    "data.dropna(inplace=True)"
   ]
  },
  {
   "cell_type": "code",
   "execution_count": 47,
   "metadata": {
    "id": "PjgT_PvbxfSy"
   },
   "outputs": [],
   "source": [
    "cols.extend(['momentum', 'volatility', 'distance'])"
   ]
  },
  {
   "cell_type": "code",
   "execution_count": 48,
   "metadata": {
    "colab": {
     "base_uri": "https://localhost:8080/",
     "height": 237
    },
    "id": "34ayV8S0xlIw",
    "outputId": "91c4a363-476e-427a-a300-b59838e496f5"
   },
   "outputs": [
    {
     "data": {
      "text/html": [
       "<div>\n",
       "<style scoped>\n",
       "    .dataframe tbody tr th:only-of-type {\n",
       "        vertical-align: middle;\n",
       "    }\n",
       "\n",
       "    .dataframe tbody tr th {\n",
       "        vertical-align: top;\n",
       "    }\n",
       "\n",
       "    .dataframe thead th {\n",
       "        text-align: right;\n",
       "    }\n",
       "</style>\n",
       "<table border=\"1\" class=\"dataframe\">\n",
       "  <thead>\n",
       "    <tr style=\"text-align: right;\">\n",
       "      <th></th>\n",
       "      <th>Adj Close</th>\n",
       "      <th>return</th>\n",
       "      <th>direction</th>\n",
       "      <th>lag_1</th>\n",
       "      <th>lag_2</th>\n",
       "      <th>lag_3</th>\n",
       "      <th>lag_4</th>\n",
       "      <th>lag_5</th>\n",
       "      <th>momentum</th>\n",
       "      <th>volatility</th>\n",
       "      <th>distance</th>\n",
       "    </tr>\n",
       "    <tr>\n",
       "      <th>Date</th>\n",
       "      <th></th>\n",
       "      <th></th>\n",
       "      <th></th>\n",
       "      <th></th>\n",
       "      <th></th>\n",
       "      <th></th>\n",
       "      <th></th>\n",
       "      <th></th>\n",
       "      <th></th>\n",
       "      <th></th>\n",
       "      <th></th>\n",
       "    </tr>\n",
       "  </thead>\n",
       "  <tbody>\n",
       "    <tr>\n",
       "      <th>2024-02-16</th>\n",
       "      <td>182.31</td>\n",
       "      <td>-0.0085</td>\n",
       "      <td>0</td>\n",
       "      <td>-0.0016</td>\n",
       "      <td>-0.0048</td>\n",
       "      <td>-0.0113</td>\n",
       "      <td>-0.0090</td>\n",
       "      <td>0.0041</td>\n",
       "      <td>-0.0045</td>\n",
       "      <td>0.0101</td>\n",
       "      <td>-6.0050</td>\n",
       "    </tr>\n",
       "    <tr>\n",
       "      <th>2024-02-20</th>\n",
       "      <td>181.56</td>\n",
       "      <td>-0.0041</td>\n",
       "      <td>0</td>\n",
       "      <td>-0.0085</td>\n",
       "      <td>-0.0016</td>\n",
       "      <td>-0.0048</td>\n",
       "      <td>-0.0113</td>\n",
       "      <td>-0.0090</td>\n",
       "      <td>-0.0070</td>\n",
       "      <td>0.0094</td>\n",
       "      <td>-7.3378</td>\n",
       "    </tr>\n",
       "    <tr>\n",
       "      <th>2024-02-21</th>\n",
       "      <td>182.32</td>\n",
       "      <td>0.0042</td>\n",
       "      <td>1</td>\n",
       "      <td>-0.0041</td>\n",
       "      <td>-0.0085</td>\n",
       "      <td>-0.0016</td>\n",
       "      <td>-0.0048</td>\n",
       "      <td>-0.0113</td>\n",
       "      <td>-0.0061</td>\n",
       "      <td>0.0088</td>\n",
       "      <td>-7.8775</td>\n",
       "    </tr>\n",
       "    <tr>\n",
       "      <th>2024-02-22</th>\n",
       "      <td>184.37</td>\n",
       "      <td>0.0112</td>\n",
       "      <td>1</td>\n",
       "      <td>0.0042</td>\n",
       "      <td>-0.0041</td>\n",
       "      <td>-0.0085</td>\n",
       "      <td>-0.0016</td>\n",
       "      <td>-0.0048</td>\n",
       "      <td>-0.0030</td>\n",
       "      <td>0.0086</td>\n",
       "      <td>-6.8834</td>\n",
       "    </tr>\n",
       "    <tr>\n",
       "      <th>2024-02-23</th>\n",
       "      <td>182.52</td>\n",
       "      <td>-0.0101</td>\n",
       "      <td>0</td>\n",
       "      <td>0.0112</td>\n",
       "      <td>0.0042</td>\n",
       "      <td>-0.0041</td>\n",
       "      <td>-0.0085</td>\n",
       "      <td>-0.0016</td>\n",
       "      <td>0.0002</td>\n",
       "      <td>0.0092</td>\n",
       "      <td>-4.6116</td>\n",
       "    </tr>\n",
       "  </tbody>\n",
       "</table>\n",
       "</div>"
      ],
      "text/plain": [
       "            Adj Close  return  direction   lag_1   lag_2   lag_3   lag_4  \\\n",
       "Date                                                                       \n",
       "2024-02-16     182.31 -0.0085          0 -0.0016 -0.0048 -0.0113 -0.0090   \n",
       "2024-02-20     181.56 -0.0041          0 -0.0085 -0.0016 -0.0048 -0.0113   \n",
       "2024-02-21     182.32  0.0042          1 -0.0041 -0.0085 -0.0016 -0.0048   \n",
       "2024-02-22     184.37  0.0112          1  0.0042 -0.0041 -0.0085 -0.0016   \n",
       "2024-02-23     182.52 -0.0101          0  0.0112  0.0042 -0.0041 -0.0085   \n",
       "\n",
       "             lag_5  momentum  volatility  distance  \n",
       "Date                                                \n",
       "2024-02-16  0.0041   -0.0045      0.0101   -6.0050  \n",
       "2024-02-20 -0.0090   -0.0070      0.0094   -7.3378  \n",
       "2024-02-21 -0.0113   -0.0061      0.0088   -7.8775  \n",
       "2024-02-22 -0.0048   -0.0030      0.0086   -6.8834  \n",
       "2024-02-23 -0.0016    0.0002      0.0092   -4.6116  "
      ]
     },
     "execution_count": 48,
     "metadata": {},
     "output_type": "execute_result"
    }
   ],
   "source": [
    "# New DataFrame\n",
    "data.round(4).tail()"
   ]
  },
  {
   "cell_type": "code",
   "execution_count": 49,
   "metadata": {
    "id": "rjMN_U9axpB6"
   },
   "outputs": [],
   "source": [
    "# Refit and train/test\n",
    "train_data, test_data = np.split(data, [int(.70 *len(data))])\n",
    "mu, std = train_data.mean(), train_data.std()"
   ]
  },
  {
   "cell_type": "code",
   "execution_count": 50,
   "metadata": {
    "id": "t0vvCYe1ygaD"
   },
   "outputs": [],
   "source": [
    "training_data_ = (train_data - mu) / std\n",
    "test_data_ = (test_data - mu) / std"
   ]
  },
  {
   "cell_type": "code",
   "execution_count": 51,
   "metadata": {
    "id": "K1fX_7loyoXT"
   },
   "outputs": [],
   "source": [
    "# Update Dense Layers to 32\n",
    "set_seeds()\n",
    "model = Sequential()\n",
    "model.add(Dense(32, activation='relu', input_shape=(len(cols),)))\n",
    "model.add(Dense(32, activation='relu'))\n",
    "model.add(Dense(1, activation='sigmoid'))\n",
    "model.compile(optimizer=optimizer,\n",
    "              loss='binary_crossentropy',\n",
    "              metrics=['accuracy'])"
   ]
  },
  {
   "cell_type": "code",
   "execution_count": 52,
   "metadata": {
    "colab": {
     "base_uri": "https://localhost:8080/"
    },
    "id": "PXdFTZu4zInj",
    "outputId": "fb981965-5027-4249-df77-a5df3b8d3200"
   },
   "outputs": [
    {
     "name": "stdout",
     "output_type": "stream",
     "text": [
      "Wall time: 4.53 s\n"
     ]
    },
    {
     "data": {
      "text/plain": [
       "<keras.callbacks.History at 0x208a5fd6788>"
      ]
     },
     "execution_count": 52,
     "metadata": {},
     "output_type": "execute_result"
    }
   ],
   "source": [
    "%%time\n",
    "model.fit(training_data_[cols],\n",
    "           train_data['direction'],\n",
    "           epochs=25, verbose=False,\n",
    "           validation_split=0.2, shuffle=False)"
   ]
  },
  {
   "cell_type": "code",
   "execution_count": 53,
   "metadata": {
    "colab": {
     "base_uri": "https://localhost:8080/"
    },
    "id": "lLSkssPwzrjQ",
    "outputId": "ebd8c479-8466-41a6-b7be-e36e810fd6a5"
   },
   "outputs": [
    {
     "name": "stdout",
     "output_type": "stream",
     "text": [
      "54/54 [==============================] - 0s 2ms/step - loss: 0.6924 - accuracy: 0.5505\n"
     ]
    },
    {
     "data": {
      "text/plain": [
       "[0.692440390586853, 0.5505226254463196]"
      ]
     },
     "execution_count": 53,
     "metadata": {},
     "output_type": "execute_result"
    }
   ],
   "source": [
    "model.evaluate(training_data_[cols], train_data['direction'])"
   ]
  },
  {
   "cell_type": "code",
   "execution_count": 54,
   "metadata": {
    "colab": {
     "base_uri": "https://localhost:8080/"
    },
    "id": "UUICpB3qz0pc",
    "outputId": "5e5d6f0a-c469-4bb7-9412-9b1b31668f54"
   },
   "outputs": [
    {
     "name": "stdout",
     "output_type": "stream",
     "text": [
      "54/54 [==============================] - 0s 2ms/step\n"
     ]
    }
   ],
   "source": [
    "pred = np.where(model.predict(training_data_[cols]) > 0.5, 1, 0)"
   ]
  },
  {
   "cell_type": "code",
   "execution_count": 55,
   "metadata": {
    "id": "ewpgG2Ucz-7h"
   },
   "outputs": [],
   "source": [
    "train_data['prediction'] = np.where(pred > 0, 1, -1)"
   ]
  },
  {
   "cell_type": "code",
   "execution_count": 56,
   "metadata": {
    "id": "l7FA2KrY0I_K"
   },
   "outputs": [],
   "source": [
    "train_data['strategy'] = (train_data['prediction'] * train_data['return'])"
   ]
  },
  {
   "cell_type": "code",
   "execution_count": 57,
   "metadata": {
    "colab": {
     "base_uri": "https://localhost:8080/"
    },
    "id": "aew8rVjk0RKc",
    "outputId": "5f0aa71d-ca6a-40c3-8f53-cc3384eff140"
   },
   "outputs": [
    {
     "data": {
      "text/plain": [
       "return      6.527244\n",
       "strategy    8.337237\n",
       "dtype: float64"
      ]
     },
     "execution_count": 57,
     "metadata": {},
     "output_type": "execute_result"
    }
   ],
   "source": [
    "train_data[['return', 'strategy']].sum().apply(np.exp)"
   ]
  },
  {
   "cell_type": "code",
   "execution_count": 58,
   "metadata": {
    "colab": {
     "base_uri": "https://localhost:8080/",
     "height": 522
    },
    "id": "70-Y0-1r0cDB",
    "outputId": "6f62f187-3113-4699-ab49-88d17c7a935f"
   },
   "outputs": [
    {
     "data": {
      "text/plain": [
       "<matplotlib.axes._subplots.AxesSubplot at 0x208a812bb48>"
      ]
     },
     "execution_count": 58,
     "metadata": {},
     "output_type": "execute_result"
    },
    {
     "data": {
      "image/png": "[encoded data removed]",
      "text/plain": [
       "<Figure size 720x432 with 1 Axes>"
      ]
     },
     "metadata": {
      "needs_background": "light"
     },
     "output_type": "display_data"
    }
   ],
   "source": [
    "train_data[['return', 'strategy']].cumsum().apply(np.exp).plot(figsize=(10,6))"
   ]
  },
  {
   "cell_type": "markdown",
   "metadata": {
    "id": "8Vkkm2zQ05B4"
   },
   "source": [
    "With additional features we see significantly better results, but let's test it against the out-of-sample test set\n",
    "\n",
    "## Test Set Prediction"
   ]
  },
  {
   "cell_type": "code",
   "execution_count": 59,
   "metadata": {
    "colab": {
     "base_uri": "https://localhost:8080/"
    },
    "id": "XV2eal7H0quv",
    "outputId": "4abc2956-4907-449b-a5f0-d54e9e2492c4"
   },
   "outputs": [
    {
     "name": "stdout",
     "output_type": "stream",
     "text": [
      "24/24 [==============================] - 0s 2ms/step - loss: 0.7255 - accuracy: 0.5129\n"
     ]
    },
    {
     "data": {
      "text/plain": [
       "[0.7254523634910583, 0.5128552317619324]"
      ]
     },
     "execution_count": 59,
     "metadata": {},
     "output_type": "execute_result"
    }
   ],
   "source": [
    "model.evaluate(test_data_[cols], test_data['direction'])"
   ]
  },
  {
   "cell_type": "code",
   "execution_count": 60,
   "metadata": {
    "colab": {
     "base_uri": "https://localhost:8080/"
    },
    "id": "rCJ3-VRm1XOT",
    "outputId": "0f52f441-5ce1-433a-cdf5-2acd0224b8e0"
   },
   "outputs": [
    {
     "name": "stdout",
     "output_type": "stream",
     "text": [
      "24/24 [==============================] - 0s 2ms/step\n"
     ]
    }
   ],
   "source": [
    "pred = np.where(model.predict(test_data_[cols]) > 0.5, 1, 0)"
   ]
  },
  {
   "cell_type": "code",
   "execution_count": 61,
   "metadata": {
    "id": "KKbUDoCd1b9g"
   },
   "outputs": [],
   "source": [
    "test_data['prediction'] = np.where(pred > 0, 1, -1)"
   ]
  },
  {
   "cell_type": "code",
   "execution_count": 62,
   "metadata": {
    "colab": {
     "base_uri": "https://localhost:8080/"
    },
    "id": "vHaGmaP81jCa",
    "outputId": "cda5116e-1879-4064-bccc-70c7ab4353d0"
   },
   "outputs": [
    {
     "data": {
      "text/plain": [
       " 1    695\n",
       "-1     59\n",
       "Name: prediction, dtype: int64"
      ]
     },
     "execution_count": 62,
     "metadata": {},
     "output_type": "execute_result"
    }
   ],
   "source": [
    "test_set['prediction'].value_counts()"
   ]
  },
  {
   "cell_type": "code",
   "execution_count": 63,
   "metadata": {
    "id": "Vfgu5BUv1nSe"
   },
   "outputs": [],
   "source": [
    "test_set['strategy'] = (test_set['prediction'] * test_set['return'])"
   ]
  },
  {
   "cell_type": "code",
   "execution_count": 64,
   "metadata": {
    "colab": {
     "base_uri": "https://localhost:8080/"
    },
    "id": "8c_pu0dg1obI",
    "outputId": "53411a57-3c4c-42bd-8148-953bedd37a84"
   },
   "outputs": [
    {
     "data": {
      "text/plain": [
       "return      1.481476\n",
       "strategy    1.482127\n",
       "dtype: float64"
      ]
     },
     "execution_count": 64,
     "metadata": {},
     "output_type": "execute_result"
    }
   ],
   "source": [
    "test_set[['return', 'strategy']].sum().apply(np.exp)"
   ]
  },
  {
   "cell_type": "code",
   "execution_count": 65,
   "metadata": {
    "colab": {
     "base_uri": "https://localhost:8080/",
     "height": 576
    },
    "id": "CY8db1No1q2b",
    "outputId": "f9869274-6a19-4fc7-a65e-eb1a00549fb6"
   },
   "outputs": [
    {
     "data": {
      "text/plain": [
       "<matplotlib.axes._subplots.AxesSubplot at 0x208a94e7208>"
      ]
     },
     "execution_count": 65,
     "metadata": {},
     "output_type": "execute_result"
    },
    {
     "data": {
      "image/png": "[encoded data removed]",
      "text/plain": [
       "<Figure size 720x432 with 1 Axes>"
      ]
     },
     "metadata": {
      "needs_background": "light"
     },
     "output_type": "display_data"
    }
   ],
   "source": [
    "test_set[['return', 'strategy']].cumsum().apply(np.exp).plot(figsize=(10,6))"
   ]
  },
  {
   "cell_type": "code",
   "execution_count": null,
   "metadata": {},
   "outputs": [],
   "source": []
  }
 ],
 "metadata": {
  "colab": {
   "provenance": []
  },
  "kernelspec": {
   "display_name": "Python 3 (ipykernel)",
   "language": "python",
   "name": "python3"
  },
  "language_info": {
   "codemirror_mode": {
    "name": "ipython",
    "version": 3
   },
   "file_extension": ".py",
   "mimetype": "text/x-python",
   "name": "python",
   "nbconvert_exporter": "python",
   "pygments_lexer": "ipython3",
   "version": "3.7.7"
  }
 },
 "nbformat": 4,
 "nbformat_minor": 1
}
