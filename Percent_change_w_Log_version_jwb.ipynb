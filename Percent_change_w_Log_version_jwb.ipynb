{
 "cells": [
  {
   "cell_type": "code",
   "execution_count": 1,
   "id": "179ef248",
   "metadata": {},
   "outputs": [],
   "source": [
    "import pandas as pd\n",
    "import numpy as np\n",
    "import os\n",
    "import matplotlib.pyplot as plt\n",
    "import datetime\n",
    "plt.style.use(style=\"seaborn\")\n",
    "%matplotlib inline"
   ]
  },
  {
   "cell_type": "code",
   "execution_count": 2,
   "id": "1ec8d308",
   "metadata": {},
   "outputs": [
    {
     "name": "stdout",
     "output_type": "stream",
     "text": [
      "Requirement already satisfied: yfinance in c:\\users\\jbren\\anaconda3\\envs\\pythondata2\\lib\\site-packages (0.2.37)\n",
      "Requirement already satisfied: requests>=2.31 in c:\\users\\jbren\\anaconda3\\envs\\pythondata2\\lib\\site-packages (from yfinance) (2.31.0)\n",
      "Requirement already satisfied: peewee>=3.16.2 in c:\\users\\jbren\\anaconda3\\envs\\pythondata2\\lib\\site-packages (from yfinance) (3.17.1)\n",
      "Requirement already satisfied: html5lib>=1.1 in c:\\users\\jbren\\anaconda3\\envs\\pythondata2\\lib\\site-packages (from yfinance) (1.1)\n",
      "Requirement already satisfied: pandas>=1.3.0 in c:\\users\\jbren\\anaconda3\\envs\\pythondata2\\lib\\site-packages (from yfinance) (1.3.5)\n",
      "Requirement already satisfied: lxml>=4.9.1 in c:\\users\\jbren\\anaconda3\\envs\\pythondata2\\lib\\site-packages (from yfinance) (4.9.3)\n",
      "Requirement already satisfied: beautifulsoup4>=4.11.1 in c:\\users\\jbren\\anaconda3\\envs\\pythondata2\\lib\\site-packages (from yfinance) (4.12.2)\n",
      "Requirement already satisfied: frozendict>=2.3.4 in c:\\users\\jbren\\anaconda3\\envs\\pythondata2\\lib\\site-packages (from yfinance) (2.4.0)\n",
      "Requirement already satisfied: multitasking>=0.0.7 in c:\\users\\jbren\\anaconda3\\envs\\pythondata2\\lib\\site-packages (from yfinance) (0.0.11)\n",
      "Requirement already satisfied: numpy>=1.16.5 in c:\\users\\jbren\\anaconda3\\envs\\pythondata2\\lib\\site-packages (from yfinance) (1.21.6)\n",
      "Requirement already satisfied: pytz>=2022.5 in c:\\users\\jbren\\anaconda3\\envs\\pythondata2\\lib\\site-packages (from yfinance) (2024.1)\n",
      "Requirement already satisfied: appdirs>=1.4.4 in c:\\users\\jbren\\anaconda3\\envs\\pythondata2\\lib\\site-packages (from yfinance) (1.4.4)\n",
      "Requirement already satisfied: urllib3<3,>=1.21.1 in c:\\users\\jbren\\anaconda3\\envs\\pythondata2\\lib\\site-packages (from requests>=2.31->yfinance) (1.26.18)\n",
      "Requirement already satisfied: idna<4,>=2.5 in c:\\users\\jbren\\anaconda3\\envs\\pythondata2\\lib\\site-packages (from requests>=2.31->yfinance) (3.3)\n",
      "Requirement already satisfied: certifi>=2017.4.17 in c:\\users\\jbren\\anaconda3\\envs\\pythondata2\\lib\\site-packages (from requests>=2.31->yfinance) (2021.10.8)\n",
      "Requirement already satisfied: charset-normalizer<4,>=2 in c:\\users\\jbren\\anaconda3\\envs\\pythondata2\\lib\\site-packages (from requests>=2.31->yfinance) (2.0.12)\n",
      "Requirement already satisfied: webencodings in c:\\users\\jbren\\anaconda3\\envs\\pythondata2\\lib\\site-packages (from html5lib>=1.1->yfinance) (0.5.1)\n",
      "Requirement already satisfied: six>=1.9 in c:\\users\\jbren\\anaconda3\\envs\\pythondata2\\lib\\site-packages (from html5lib>=1.1->yfinance) (1.15.0)\n",
      "Requirement already satisfied: python-dateutil>=2.7.3 in c:\\users\\jbren\\anaconda3\\envs\\pythondata2\\lib\\site-packages (from pandas>=1.3.0->yfinance) (2.8.1)\n",
      "Requirement already satisfied: soupsieve>1.2 in c:\\users\\jbren\\anaconda3\\envs\\pythondata2\\lib\\site-packages (from beautifulsoup4>=4.11.1->yfinance) (2.4.1)\n",
      "Note: you may need to restart the kernel to use updated packages.\n"
     ]
    }
   ],
   "source": [
    "pip install yfinance"
   ]
  },
  {
   "cell_type": "code",
   "execution_count": 3,
   "id": "f3e3819a",
   "metadata": {},
   "outputs": [],
   "source": [
    "import yfinance as yf"
   ]
  },
  {
   "cell_type": "code",
   "execution_count": 4,
   "id": "0545324d",
   "metadata": {},
   "outputs": [
    {
     "data": {
      "text/plain": [
       "yfinance.Ticker object <AAPL>"
      ]
     },
     "execution_count": 4,
     "metadata": {},
     "output_type": "execute_result"
    }
   ],
   "source": [
    "aapl= yf.Ticker(\"aapl\")\n",
    "aapl"
   ]
  },
  {
   "cell_type": "code",
   "execution_count": 5,
   "id": "5c4811ac",
   "metadata": {},
   "outputs": [
    {
     "name": "stderr",
     "output_type": "stream",
     "text": [
      "[*********************100%%**********************]  1 of 1 completed\n",
      "[*********************100%%**********************]  1 of 1 completed\n",
      "[*********************100%%**********************]  1 of 1 completed\n",
      "[*********************100%%**********************]  1 of 1 completed\n"
     ]
    }
   ],
   "source": [
    "# Define the stock symbols for the financial institutions we're interested in\n",
    "stock_symbols = ['AAPL', 'KO', 'NKE', 'EA']\n",
    "# Define the start and end dates for our data\n",
    "start_date = '2020-01-01'\n",
    "end_date = '2024-02-28'\n",
    "\n",
    "# Function to download stock data\n",
    "def download_stock_data(symbols):\n",
    "    data = {}\n",
    "    for symbol in symbols:\n",
    "        data[symbol] = yf.download(symbol, start=start_date, end=end_date)\n",
    "    return data\n",
    "\n",
    "# Download stock data\n",
    "stocks_data = download_stock_data(stock_symbols)"
   ]
  },
  {
   "cell_type": "code",
   "execution_count": 6,
   "id": "980f550f",
   "metadata": {},
   "outputs": [
    {
     "name": "stdout",
     "output_type": "stream",
     "text": [
      "                  Open        High         Low       Close   Adj Close  \\\n",
      "Date                                                                     \n",
      "2024-02-21  181.940002  182.889999  180.660004  182.320007  182.320007   \n",
      "2024-02-22  183.479996  184.960007  182.460007  184.369995  184.369995   \n",
      "2024-02-23  185.009995  185.039993  182.229996  182.520004  182.520004   \n",
      "2024-02-26  182.240005  182.759995  180.649994  181.160004  181.160004   \n",
      "2024-02-27  181.100006  183.919998  179.559998  182.630005  182.630005   \n",
      "\n",
      "              Volume  \n",
      "Date                  \n",
      "2024-02-21  41529700  \n",
      "2024-02-22  52292200  \n",
      "2024-02-23  45074500  \n",
      "2024-02-26  40867400  \n",
      "2024-02-27  54318900  \n"
     ]
    }
   ],
   "source": [
    "# Display the first few rows of Apple's stock data\n",
    "print(stocks_data['AAPL'].tail())"
   ]
  },
  {
   "cell_type": "code",
   "execution_count": 7,
   "id": "d638f19c",
   "metadata": {},
   "outputs": [],
   "source": [
    "df = stocks_data['AAPL']"
   ]
  },
  {
   "cell_type": "code",
   "execution_count": 8,
   "id": "77ac0c5b",
   "metadata": {},
   "outputs": [],
   "source": [
    "# We only use the close feature."
   ]
  },
  {
   "cell_type": "code",
   "execution_count": 9,
   "id": "15cf98e3",
   "metadata": {},
   "outputs": [],
   "source": [
    "df = df[[\"Adj Close\"]]"
   ]
  },
  {
   "cell_type": "code",
   "execution_count": 10,
   "id": "5604015b",
   "metadata": {},
   "outputs": [
    {
     "data": {
      "text/plain": [
       "False"
      ]
     },
     "execution_count": 10,
     "metadata": {},
     "output_type": "execute_result"
    }
   ],
   "source": [
    "type(df[\"Adj Close\"]) == type(df[[\"Adj Close\"]])"
   ]
  },
  {
   "cell_type": "code",
   "execution_count": 11,
   "id": "2f0301ca",
   "metadata": {},
   "outputs": [
    {
     "data": {
      "text/plain": [
       "pandas.core.frame.DataFrame"
      ]
     },
     "execution_count": 11,
     "metadata": {},
     "output_type": "execute_result"
    }
   ],
   "source": [
    "type(df[[\"Adj Close\"]])"
   ]
  },
  {
   "cell_type": "code",
   "execution_count": 12,
   "id": "e068ff3f",
   "metadata": {},
   "outputs": [
    {
     "data": {
      "text/html": [
       "<div>\n",
       "<style scoped>\n",
       "    .dataframe tbody tr th:only-of-type {\n",
       "        vertical-align: middle;\n",
       "    }\n",
       "\n",
       "    .dataframe tbody tr th {\n",
       "        vertical-align: top;\n",
       "    }\n",
       "\n",
       "    .dataframe thead th {\n",
       "        text-align: right;\n",
       "    }\n",
       "</style>\n",
       "<table border=\"1\" class=\"dataframe\">\n",
       "  <thead>\n",
       "    <tr style=\"text-align: right;\">\n",
       "      <th></th>\n",
       "      <th>Adj Close</th>\n",
       "    </tr>\n",
       "  </thead>\n",
       "  <tbody>\n",
       "    <tr>\n",
       "      <th>count</th>\n",
       "      <td>1045.000000</td>\n",
       "    </tr>\n",
       "    <tr>\n",
       "      <th>mean</th>\n",
       "      <td>140.974064</td>\n",
       "    </tr>\n",
       "    <tr>\n",
       "      <th>std</th>\n",
       "      <td>34.224975</td>\n",
       "    </tr>\n",
       "    <tr>\n",
       "      <th>min</th>\n",
       "      <td>54.706993</td>\n",
       "    </tr>\n",
       "    <tr>\n",
       "      <th>25%</th>\n",
       "      <td>122.621574</td>\n",
       "    </tr>\n",
       "    <tr>\n",
       "      <th>50%</th>\n",
       "      <td>145.057571</td>\n",
       "    </tr>\n",
       "    <tr>\n",
       "      <th>75%</th>\n",
       "      <td>168.286865</td>\n",
       "    </tr>\n",
       "    <tr>\n",
       "      <th>max</th>\n",
       "      <td>197.857529</td>\n",
       "    </tr>\n",
       "  </tbody>\n",
       "</table>\n",
       "</div>"
      ],
      "text/plain": [
       "         Adj Close\n",
       "count  1045.000000\n",
       "mean    140.974064\n",
       "std      34.224975\n",
       "min      54.706993\n",
       "25%     122.621574\n",
       "50%     145.057571\n",
       "75%     168.286865\n",
       "max     197.857529"
      ]
     },
     "execution_count": 12,
     "metadata": {},
     "output_type": "execute_result"
    }
   ],
   "source": [
    "df.describe()"
   ]
  },
  {
   "cell_type": "code",
   "execution_count": 13,
   "id": "70a9bd7e",
   "metadata": {},
   "outputs": [
    {
     "data": {
      "image/png": "[encoded data removed]",
      "text/plain": [
       "<Figure size 1152x432 with 1 Axes>"
      ]
     },
     "metadata": {
      "needs_background": "light"
     },
     "output_type": "display_data"
    }
   ],
   "source": [
    "plt.figure(1, figsize=(16, 6))\n",
    "_ = plt.plot(df['Adj Close'])"
   ]
  },
  {
   "cell_type": "code",
   "execution_count": 14,
   "id": "f33bf3da",
   "metadata": {},
   "outputs": [],
   "source": [
    "#Calculate the percentage change for stationarity"
   ]
  },
  {
   "cell_type": "code",
   "execution_count": 15,
   "id": "c4c4a8d2",
   "metadata": {},
   "outputs": [
    {
     "name": "stderr",
     "output_type": "stream",
     "text": [
      "C:\\Users\\jbren\\anaconda3\\envs\\PythonData2\\lib\\site-packages\\pandas\\core\\indexing.py:1667: SettingWithCopyWarning: \n",
      "A value is trying to be set on a copy of a slice from a DataFrame.\n",
      "Try using .loc[row_indexer,col_indexer] = value instead\n",
      "\n",
      "See the caveats in the documentation: https://pandas.pydata.org/pandas-docs/stable/user_guide/indexing.html#returning-a-view-versus-a-copy\n",
      "  self.obj[key] = value\n"
     ]
    }
   ],
   "source": [
    "df.loc[:, \"Returns\"] = df['Adj Close'].pct_change()"
   ]
  },
  {
   "cell_type": "code",
   "execution_count": 16,
   "id": "a01c0ed9",
   "metadata": {},
   "outputs": [
    {
     "name": "stderr",
     "output_type": "stream",
     "text": [
      "C:\\Users\\jbren\\anaconda3\\envs\\PythonData2\\lib\\site-packages\\ipykernel_launcher.py:1: SettingWithCopyWarning: \n",
      "A value is trying to be set on a copy of a slice from a DataFrame.\n",
      "Try using .loc[row_indexer,col_indexer] = value instead\n",
      "\n",
      "See the caveats in the documentation: https://pandas.pydata.org/pandas-docs/stable/user_guide/indexing.html#returning-a-view-versus-a-copy\n",
      "  \"\"\"Entry point for launching an IPython kernel.\n"
     ]
    }
   ],
   "source": [
    "df[\"Returns\"] = df['Adj Close'].pct_change()"
   ]
  },
  {
   "cell_type": "code",
   "execution_count": 17,
   "id": "90d9a6f2",
   "metadata": {},
   "outputs": [
    {
     "data": {
      "text/html": [
       "<div>\n",
       "<style scoped>\n",
       "    .dataframe tbody tr th:only-of-type {\n",
       "        vertical-align: middle;\n",
       "    }\n",
       "\n",
       "    .dataframe tbody tr th {\n",
       "        vertical-align: top;\n",
       "    }\n",
       "\n",
       "    .dataframe thead th {\n",
       "        text-align: right;\n",
       "    }\n",
       "</style>\n",
       "<table border=\"1\" class=\"dataframe\">\n",
       "  <thead>\n",
       "    <tr style=\"text-align: right;\">\n",
       "      <th></th>\n",
       "      <th>Adj Close</th>\n",
       "      <th>Returns</th>\n",
       "    </tr>\n",
       "    <tr>\n",
       "      <th>Date</th>\n",
       "      <th></th>\n",
       "      <th></th>\n",
       "    </tr>\n",
       "  </thead>\n",
       "  <tbody>\n",
       "    <tr>\n",
       "      <th>2020-01-02</th>\n",
       "      <td>73.059433</td>\n",
       "      <td>NaN</td>\n",
       "    </tr>\n",
       "    <tr>\n",
       "      <th>2020-01-03</th>\n",
       "      <td>72.349129</td>\n",
       "      <td>-0.009722</td>\n",
       "    </tr>\n",
       "    <tr>\n",
       "      <th>2020-01-06</th>\n",
       "      <td>72.925652</td>\n",
       "      <td>0.007969</td>\n",
       "    </tr>\n",
       "    <tr>\n",
       "      <th>2020-01-07</th>\n",
       "      <td>72.582657</td>\n",
       "      <td>-0.004703</td>\n",
       "    </tr>\n",
       "    <tr>\n",
       "      <th>2020-01-08</th>\n",
       "      <td>73.750229</td>\n",
       "      <td>0.016086</td>\n",
       "    </tr>\n",
       "  </tbody>\n",
       "</table>\n",
       "</div>"
      ],
      "text/plain": [
       "            Adj Close   Returns\n",
       "Date                           \n",
       "2020-01-02  73.059433       NaN\n",
       "2020-01-03  72.349129 -0.009722\n",
       "2020-01-06  72.925652  0.007969\n",
       "2020-01-07  72.582657 -0.004703\n",
       "2020-01-08  73.750229  0.016086"
      ]
     },
     "execution_count": 17,
     "metadata": {},
     "output_type": "execute_result"
    }
   ],
   "source": [
    "df.head(5)"
   ]
  },
  {
   "cell_type": "code",
   "execution_count": 18,
   "id": "d968e421",
   "metadata": {},
   "outputs": [
    {
     "data": {
      "text/plain": [
       "0.001700902786863745"
      ]
     },
     "execution_count": 18,
     "metadata": {},
     "output_type": "execute_result"
    }
   ],
   "source": [
    "7.656 / 7.643 - 1"
   ]
  },
  {
   "cell_type": "code",
   "execution_count": 19,
   "id": "0dd2ca58",
   "metadata": {},
   "outputs": [],
   "source": [
    "#Calculate log returns."
   ]
  },
  {
   "cell_type": "code",
   "execution_count": 20,
   "id": "1f532f65",
   "metadata": {},
   "outputs": [
    {
     "name": "stderr",
     "output_type": "stream",
     "text": [
      "C:\\Users\\jbren\\anaconda3\\envs\\PythonData2\\lib\\site-packages\\ipykernel_launcher.py:1: SettingWithCopyWarning: \n",
      "A value is trying to be set on a copy of a slice from a DataFrame.\n",
      "Try using .loc[row_indexer,col_indexer] = value instead\n",
      "\n",
      "See the caveats in the documentation: https://pandas.pydata.org/pandas-docs/stable/user_guide/indexing.html#returning-a-view-versus-a-copy\n",
      "  \"\"\"Entry point for launching an IPython kernel.\n"
     ]
    }
   ],
   "source": [
    "df[\"Log_Returns\"] = np.log(1 + df[\"Returns\"])"
   ]
  },
  {
   "cell_type": "code",
   "execution_count": 21,
   "id": "8ac30270",
   "metadata": {},
   "outputs": [
    {
     "data": {
      "text/html": [
       "<div>\n",
       "<style scoped>\n",
       "    .dataframe tbody tr th:only-of-type {\n",
       "        vertical-align: middle;\n",
       "    }\n",
       "\n",
       "    .dataframe tbody tr th {\n",
       "        vertical-align: top;\n",
       "    }\n",
       "\n",
       "    .dataframe thead th {\n",
       "        text-align: right;\n",
       "    }\n",
       "</style>\n",
       "<table border=\"1\" class=\"dataframe\">\n",
       "  <thead>\n",
       "    <tr style=\"text-align: right;\">\n",
       "      <th></th>\n",
       "      <th>Adj Close</th>\n",
       "      <th>Returns</th>\n",
       "      <th>Log_Returns</th>\n",
       "    </tr>\n",
       "    <tr>\n",
       "      <th>Date</th>\n",
       "      <th></th>\n",
       "      <th></th>\n",
       "      <th></th>\n",
       "    </tr>\n",
       "  </thead>\n",
       "  <tbody>\n",
       "    <tr>\n",
       "      <th>2020-01-02</th>\n",
       "      <td>73.059433</td>\n",
       "      <td>NaN</td>\n",
       "      <td>NaN</td>\n",
       "    </tr>\n",
       "    <tr>\n",
       "      <th>2020-01-03</th>\n",
       "      <td>72.349129</td>\n",
       "      <td>-0.009722</td>\n",
       "      <td>-0.009770</td>\n",
       "    </tr>\n",
       "    <tr>\n",
       "      <th>2020-01-06</th>\n",
       "      <td>72.925652</td>\n",
       "      <td>0.007969</td>\n",
       "      <td>0.007937</td>\n",
       "    </tr>\n",
       "    <tr>\n",
       "      <th>2020-01-07</th>\n",
       "      <td>72.582657</td>\n",
       "      <td>-0.004703</td>\n",
       "      <td>-0.004714</td>\n",
       "    </tr>\n",
       "    <tr>\n",
       "      <th>2020-01-08</th>\n",
       "      <td>73.750229</td>\n",
       "      <td>0.016086</td>\n",
       "      <td>0.015958</td>\n",
       "    </tr>\n",
       "  </tbody>\n",
       "</table>\n",
       "</div>"
      ],
      "text/plain": [
       "            Adj Close   Returns  Log_Returns\n",
       "Date                                        \n",
       "2020-01-02  73.059433       NaN          NaN\n",
       "2020-01-03  72.349129 -0.009722    -0.009770\n",
       "2020-01-06  72.925652  0.007969     0.007937\n",
       "2020-01-07  72.582657 -0.004703    -0.004714\n",
       "2020-01-08  73.750229  0.016086     0.015958"
      ]
     },
     "execution_count": 21,
     "metadata": {},
     "output_type": "execute_result"
    }
   ],
   "source": [
    "df.head(5)"
   ]
  },
  {
   "cell_type": "code",
   "execution_count": 22,
   "id": "ca17c74b",
   "metadata": {},
   "outputs": [
    {
     "data": {
      "text/plain": [
       "[<matplotlib.lines.Line2D at 0x27be56ae688>]"
      ]
     },
     "execution_count": 22,
     "metadata": {},
     "output_type": "execute_result"
    },
    {
     "data": {
      "image/png": "[encoded data removed]",
      "text/plain": [
       "<Figure size 1152x288 with 1 Axes>"
      ]
     },
     "metadata": {
      "needs_background": "light"
     },
     "output_type": "display_data"
    }
   ],
   "source": [
    "plt.figure(1, figsize=(16, 4))\n",
    "plt.plot(df.Log_Returns)"
   ]
  },
  {
   "cell_type": "code",
   "execution_count": 23,
   "id": "d9e9a3b1",
   "metadata": {},
   "outputs": [
    {
     "name": "stderr",
     "output_type": "stream",
     "text": [
      "C:\\Users\\jbren\\anaconda3\\envs\\PythonData2\\lib\\site-packages\\pandas\\util\\_decorators.py:311: SettingWithCopyWarning: \n",
      "A value is trying to be set on a copy of a slice from a DataFrame\n",
      "\n",
      "See the caveats in the documentation: https://pandas.pydata.org/pandas-docs/stable/user_guide/indexing.html#returning-a-view-versus-a-copy\n",
      "  return func(*args, **kwargs)\n"
     ]
    }
   ],
   "source": [
    "df.dropna(inplace=True)\n",
    "X = df[[\"Adj Close\", \"Log_Returns\"]].values"
   ]
  },
  {
   "cell_type": "code",
   "execution_count": 24,
   "id": "0afefebf",
   "metadata": {},
   "outputs": [
    {
     "data": {
      "text/plain": [
       "array([[ 7.23491287e+01, -9.76984989e-03],\n",
       "       [ 7.29256516e+01,  7.93703976e-03],\n",
       "       [ 7.25826569e+01, -4.71444317e-03],\n",
       "       ...,\n",
       "       [ 1.82520004e+02, -1.00848021e-02],\n",
       "       [ 1.81160004e+02, -7.47914056e-03],\n",
       "       [ 1.82630005e+02,  8.08163604e-03]])"
      ]
     },
     "execution_count": 24,
     "metadata": {},
     "output_type": "execute_result"
    }
   ],
   "source": [
    "X"
   ]
  },
  {
   "cell_type": "code",
   "execution_count": 25,
   "id": "ff6129d4",
   "metadata": {},
   "outputs": [],
   "source": [
    "from sklearn.preprocessing import MinMaxScaler"
   ]
  },
  {
   "cell_type": "code",
   "execution_count": 26,
   "id": "e0de224e",
   "metadata": {},
   "outputs": [],
   "source": [
    "scaler = MinMaxScaler(feature_range=(0, 1)).fit(X)\n",
    "X_scaled = scaler.transform(X)"
   ]
  },
  {
   "cell_type": "code",
   "execution_count": 27,
   "id": "ef414fe8",
   "metadata": {},
   "outputs": [
    {
     "data": {
      "text/plain": [
       "array([[0.12324184, 0.50998731],\n",
       "       [0.12726923, 0.58057068],\n",
       "       [0.12487319, 0.53013922],\n",
       "       [0.13302944, 0.61254427],\n",
       "       [0.14397266, 0.63271632]])"
      ]
     },
     "execution_count": 27,
     "metadata": {},
     "output_type": "execute_result"
    }
   ],
   "source": [
    "X_scaled[:5]"
   ]
  },
  {
   "cell_type": "code",
   "execution_count": 28,
   "id": "f10d16e2",
   "metadata": {},
   "outputs": [],
   "source": [
    "y = [x[0] for x in X_scaled]"
   ]
  },
  {
   "cell_type": "code",
   "execution_count": 29,
   "id": "ba77b360",
   "metadata": {},
   "outputs": [
    {
     "data": {
      "text/plain": [
       "[0.1232418415216266,\n",
       " 0.1272692300661295,\n",
       " 0.12487318810552267,\n",
       " 0.13302944135826272,\n",
       " 0.14397266496498679]"
      ]
     },
     "execution_count": 29,
     "metadata": {},
     "output_type": "execute_result"
    }
   ],
   "source": [
    "y[:5]"
   ]
  },
  {
   "cell_type": "code",
   "execution_count": 30,
   "id": "42537de2",
   "metadata": {},
   "outputs": [],
   "source": [
    "#Train Test Split"
   ]
  },
  {
   "cell_type": "code",
   "execution_count": 31,
   "id": "ec3d5487",
   "metadata": {},
   "outputs": [
    {
     "name": "stdout",
     "output_type": "stream",
     "text": [
      "835\n"
     ]
    }
   ],
   "source": [
    "split = int(len(X_scaled) * 0.8)\n",
    "print(split)"
   ]
  },
  {
   "cell_type": "code",
   "execution_count": 32,
   "id": "9003c797",
   "metadata": {},
   "outputs": [],
   "source": [
    "X_train = X_scaled[:split]\n",
    "X_test = X_scaled[split : len(X_scaled)]\n",
    "y_train = y[:split]\n",
    "y_test = y[split : len(y)]"
   ]
  },
  {
   "cell_type": "code",
   "execution_count": 33,
   "id": "e0b9f6e2",
   "metadata": {},
   "outputs": [],
   "source": [
    "assert len(X_train) == len(y_train)\n",
    "assert len(X_test) == len(y_test)"
   ]
  },
  {
   "cell_type": "code",
   "execution_count": 34,
   "id": "672da0f2",
   "metadata": {},
   "outputs": [],
   "source": [
    "#Labeling the Time Series using the Time Step for 3 Days"
   ]
  },
  {
   "cell_type": "code",
   "execution_count": 35,
   "id": "5fa4b658",
   "metadata": {},
   "outputs": [],
   "source": [
    "n = 3\n",
    "Xtrain = []\n",
    "ytrain = []\n",
    "Xtest = []\n",
    "ytest = []\n",
    "for i in range(n, len(X_train)):\n",
    "    Xtrain.append(X_train[i - n : i, : X_train.shape[1]])\n",
    "    ytrain.append(y_train[i]) # predict next record\n",
    "for i in range(n, len(X_test)):\n",
    "    Xtest.append(X_test[i - n : i, : X_test.shape[1]])\n",
    "    ytest.append(y_test[i]) #predict next record\n",
    "    "
   ]
  },
  {
   "cell_type": "code",
   "execution_count": 36,
   "id": "c1b1b1f3",
   "metadata": {},
   "outputs": [
    {
     "data": {
      "text/html": [
       "<div>\n",
       "<style scoped>\n",
       "    .dataframe tbody tr th:only-of-type {\n",
       "        vertical-align: middle;\n",
       "    }\n",
       "\n",
       "    .dataframe tbody tr th {\n",
       "        vertical-align: top;\n",
       "    }\n",
       "\n",
       "    .dataframe thead th {\n",
       "        text-align: right;\n",
       "    }\n",
       "</style>\n",
       "<table border=\"1\" class=\"dataframe\">\n",
       "  <thead>\n",
       "    <tr style=\"text-align: right;\">\n",
       "      <th></th>\n",
       "      <th>Adj Close</th>\n",
       "      <th>Returns</th>\n",
       "      <th>Log_Returns</th>\n",
       "    </tr>\n",
       "    <tr>\n",
       "      <th>Date</th>\n",
       "      <th></th>\n",
       "      <th></th>\n",
       "      <th></th>\n",
       "    </tr>\n",
       "  </thead>\n",
       "  <tbody>\n",
       "    <tr>\n",
       "      <th>2020-01-03</th>\n",
       "      <td>72.349129</td>\n",
       "      <td>-0.009722</td>\n",
       "      <td>-0.009770</td>\n",
       "    </tr>\n",
       "    <tr>\n",
       "      <th>2020-01-06</th>\n",
       "      <td>72.925652</td>\n",
       "      <td>0.007969</td>\n",
       "      <td>0.007937</td>\n",
       "    </tr>\n",
       "    <tr>\n",
       "      <th>2020-01-07</th>\n",
       "      <td>72.582657</td>\n",
       "      <td>-0.004703</td>\n",
       "      <td>-0.004714</td>\n",
       "    </tr>\n",
       "    <tr>\n",
       "      <th>2020-01-08</th>\n",
       "      <td>73.750229</td>\n",
       "      <td>0.016086</td>\n",
       "      <td>0.015958</td>\n",
       "    </tr>\n",
       "    <tr>\n",
       "      <th>2020-01-09</th>\n",
       "      <td>75.316757</td>\n",
       "      <td>0.021241</td>\n",
       "      <td>0.021019</td>\n",
       "    </tr>\n",
       "  </tbody>\n",
       "</table>\n",
       "</div>"
      ],
      "text/plain": [
       "            Adj Close   Returns  Log_Returns\n",
       "Date                                        \n",
       "2020-01-03  72.349129 -0.009722    -0.009770\n",
       "2020-01-06  72.925652  0.007969     0.007937\n",
       "2020-01-07  72.582657 -0.004703    -0.004714\n",
       "2020-01-08  73.750229  0.016086     0.015958\n",
       "2020-01-09  75.316757  0.021241     0.021019"
      ]
     },
     "execution_count": 36,
     "metadata": {},
     "output_type": "execute_result"
    }
   ],
   "source": [
    "df.head(5)"
   ]
  },
  {
   "cell_type": "code",
   "execution_count": 37,
   "id": "70c9fe57",
   "metadata": {},
   "outputs": [
    {
     "data": {
      "text/plain": [
       "array([[0.12324184, 0.50998731],\n",
       "       [0.12726923, 0.58057068],\n",
       "       [0.12487319, 0.53013922]])"
      ]
     },
     "execution_count": 37,
     "metadata": {},
     "output_type": "execute_result"
    }
   ],
   "source": [
    "Xtrain[0]"
   ]
  },
  {
   "cell_type": "code",
   "execution_count": 38,
   "id": "3b5f1cd3",
   "metadata": {},
   "outputs": [
    {
     "data": {
      "text/plain": [
       "0.13302944135826272"
      ]
     },
     "execution_count": 38,
     "metadata": {},
     "output_type": "execute_result"
    }
   ],
   "source": [
    "ytrain[0]"
   ]
  },
  {
   "cell_type": "code",
   "execution_count": 39,
   "id": "9ae12078",
   "metadata": {},
   "outputs": [],
   "source": [
    "val = np.array(ytrain[0])\n",
    "val = np.c_[val, np.zeros(val.shape)]"
   ]
  },
  {
   "cell_type": "code",
   "execution_count": 40,
   "id": "6ce2ef99",
   "metadata": {},
   "outputs": [
    {
     "data": {
      "text/plain": [
       "array([[73.75022888, -0.13770776]])"
      ]
     },
     "execution_count": 40,
     "metadata": {},
     "output_type": "execute_result"
    }
   ],
   "source": [
    "scaler.inverse_transform(val)"
   ]
  },
  {
   "cell_type": "code",
   "execution_count": 41,
   "id": "bb31093e",
   "metadata": {},
   "outputs": [],
   "source": [
    "#In LSTM Network - input for each layer must contain # of observations, time steps, and features."
   ]
  },
  {
   "cell_type": "code",
   "execution_count": 42,
   "id": "b67bdb40",
   "metadata": {},
   "outputs": [],
   "source": [
    "Xtrain, ytrain = (np.array(Xtrain), np.array(ytrain))\n",
    "Xtrain = np.reshape(Xtrain, (Xtrain.shape[0], Xtrain.shape[1], Xtrain.shape[2]))\n",
    "\n",
    "Xtest, ytest = (np.array(Xtest), np.array(ytest))\n",
    "Xtest = np.reshape(Xtest, (Xtest.shape[0], Xtest.shape[1], Xtest.shape[2]))"
   ]
  },
  {
   "cell_type": "code",
   "execution_count": 43,
   "id": "247b8703",
   "metadata": {},
   "outputs": [
    {
     "name": "stdout",
     "output_type": "stream",
     "text": [
      "(832, 3, 2)\n",
      "(832,)\n",
      "---\n",
      "(206, 3, 2)\n",
      "(206,)\n"
     ]
    }
   ],
   "source": [
    "print(Xtrain.shape)\n",
    "print(ytrain.shape)\n",
    "print(\"---\")\n",
    "print(Xtest.shape)\n",
    "print(ytest.shape)"
   ]
  },
  {
   "cell_type": "code",
   "execution_count": 44,
   "id": "db0756a5",
   "metadata": {},
   "outputs": [],
   "source": [
    "#LSTM Model"
   ]
  },
  {
   "cell_type": "code",
   "execution_count": 45,
   "id": "dc6f342b",
   "metadata": {},
   "outputs": [],
   "source": [
    "from keras.models import Sequential\n",
    "from keras.layers import LSTM, Dense"
   ]
  },
  {
   "cell_type": "code",
   "execution_count": 46,
   "id": "3b976d3f",
   "metadata": {},
   "outputs": [
    {
     "name": "stdout",
     "output_type": "stream",
     "text": [
      "Epoch 1/100\n",
      "52/52 [==============================] - 5s 27ms/step - loss: 0.0218 - val_loss: 0.0021\n",
      "Epoch 2/100\n",
      "52/52 [==============================] - 0s 6ms/step - loss: 7.9614e-04 - val_loss: 0.0018\n",
      "Epoch 3/100\n",
      "52/52 [==============================] - 0s 6ms/step - loss: 6.4074e-04 - val_loss: 9.6347e-04\n",
      "Epoch 4/100\n",
      "52/52 [==============================] - 0s 6ms/step - loss: 5.7405e-04 - val_loss: 9.0144e-04\n",
      "Epoch 5/100\n",
      "52/52 [==============================] - 0s 6ms/step - loss: 5.3129e-04 - val_loss: 7.0413e-04\n",
      "Epoch 6/100\n",
      "52/52 [==============================] - 0s 6ms/step - loss: 5.1103e-04 - val_loss: 5.9259e-04\n",
      "Epoch 7/100\n",
      "52/52 [==============================] - 0s 6ms/step - loss: 5.0270e-04 - val_loss: 5.7115e-04\n",
      "Epoch 8/100\n",
      "52/52 [==============================] - 0s 7ms/step - loss: 5.0122e-04 - val_loss: 5.1755e-04\n",
      "Epoch 9/100\n",
      "52/52 [==============================] - 0s 6ms/step - loss: 5.0049e-04 - val_loss: 5.7051e-04\n",
      "Epoch 10/100\n",
      "52/52 [==============================] - 0s 7ms/step - loss: 4.8664e-04 - val_loss: 5.8049e-04\n",
      "Epoch 11/100\n",
      "52/52 [==============================] - 0s 6ms/step - loss: 4.8526e-04 - val_loss: 6.6199e-04\n",
      "Epoch 12/100\n",
      "52/52 [==============================] - 0s 6ms/step - loss: 4.8735e-04 - val_loss: 4.3267e-04\n",
      "Epoch 13/100\n",
      "52/52 [==============================] - 0s 6ms/step - loss: 4.7906e-04 - val_loss: 4.2727e-04\n",
      "Epoch 14/100\n",
      "52/52 [==============================] - 0s 6ms/step - loss: 4.7153e-04 - val_loss: 6.4878e-04\n",
      "Epoch 15/100\n",
      "52/52 [==============================] - 0s 6ms/step - loss: 4.7650e-04 - val_loss: 4.7745e-04\n",
      "Epoch 16/100\n",
      "52/52 [==============================] - 0s 6ms/step - loss: 4.6148e-04 - val_loss: 5.4728e-04\n",
      "Epoch 17/100\n",
      "52/52 [==============================] - 0s 6ms/step - loss: 4.5993e-04 - val_loss: 5.3722e-04\n",
      "Epoch 18/100\n",
      "52/52 [==============================] - 0s 6ms/step - loss: 4.5176e-04 - val_loss: 5.9045e-04\n",
      "Epoch 19/100\n",
      "52/52 [==============================] - 0s 6ms/step - loss: 4.5628e-04 - val_loss: 5.6581e-04\n",
      "Epoch 20/100\n",
      "52/52 [==============================] - 0s 7ms/step - loss: 4.4748e-04 - val_loss: 5.5822e-04\n",
      "Epoch 21/100\n",
      "52/52 [==============================] - 0s 6ms/step - loss: 4.4260e-04 - val_loss: 4.0735e-04\n",
      "Epoch 22/100\n",
      "52/52 [==============================] - 0s 7ms/step - loss: 4.4383e-04 - val_loss: 4.6267e-04\n",
      "Epoch 23/100\n",
      "52/52 [==============================] - 0s 6ms/step - loss: 4.5163e-04 - val_loss: 5.8250e-04\n",
      "Epoch 24/100\n",
      "52/52 [==============================] - 0s 6ms/step - loss: 4.3000e-04 - val_loss: 4.8058e-04\n",
      "Epoch 25/100\n",
      "52/52 [==============================] - 0s 6ms/step - loss: 4.3138e-04 - val_loss: 5.7331e-04\n",
      "Epoch 26/100\n",
      "52/52 [==============================] - 0s 6ms/step - loss: 4.2203e-04 - val_loss: 3.5132e-04\n",
      "Epoch 27/100\n",
      "52/52 [==============================] - 0s 7ms/step - loss: 4.2455e-04 - val_loss: 5.8792e-04\n",
      "Epoch 28/100\n",
      "52/52 [==============================] - 0s 6ms/step - loss: 4.1573e-04 - val_loss: 5.6890e-04\n",
      "Epoch 29/100\n",
      "52/52 [==============================] - 0s 7ms/step - loss: 4.1215e-04 - val_loss: 6.6597e-04\n",
      "Epoch 30/100\n",
      "52/52 [==============================] - 0s 6ms/step - loss: 4.1643e-04 - val_loss: 5.2482e-04\n",
      "Epoch 31/100\n",
      "52/52 [==============================] - 0s 7ms/step - loss: 4.1174e-04 - val_loss: 3.1671e-04\n",
      "Epoch 32/100\n",
      "52/52 [==============================] - 0s 6ms/step - loss: 4.0434e-04 - val_loss: 5.1085e-04\n",
      "Epoch 33/100\n",
      "52/52 [==============================] - 0s 6ms/step - loss: 4.0137e-04 - val_loss: 6.5174e-04\n",
      "Epoch 34/100\n",
      "52/52 [==============================] - 0s 6ms/step - loss: 3.9996e-04 - val_loss: 3.9816e-04\n",
      "Epoch 35/100\n",
      "52/52 [==============================] - 0s 8ms/step - loss: 3.9867e-04 - val_loss: 3.8781e-04\n",
      "Epoch 36/100\n",
      "52/52 [==============================] - 0s 6ms/step - loss: 3.9239e-04 - val_loss: 4.2572e-04\n",
      "Epoch 37/100\n",
      "52/52 [==============================] - 0s 6ms/step - loss: 3.9754e-04 - val_loss: 5.0061e-04\n",
      "Epoch 38/100\n",
      "52/52 [==============================] - 0s 6ms/step - loss: 3.9360e-04 - val_loss: 6.3042e-04\n",
      "Epoch 39/100\n",
      "52/52 [==============================] - 0s 9ms/step - loss: 3.9677e-04 - val_loss: 5.2301e-04\n",
      "Epoch 40/100\n",
      "52/52 [==============================] - 0s 8ms/step - loss: 3.9206e-04 - val_loss: 5.3669e-04\n",
      "Epoch 41/100\n",
      "52/52 [==============================] - 0s 7ms/step - loss: 3.8614e-04 - val_loss: 6.3743e-04\n",
      "Epoch 42/100\n",
      "52/52 [==============================] - 0s 6ms/step - loss: 3.8791e-04 - val_loss: 4.6040e-04\n",
      "Epoch 43/100\n",
      "52/52 [==============================] - 0s 6ms/step - loss: 3.8079e-04 - val_loss: 4.5674e-04\n",
      "Epoch 44/100\n",
      "52/52 [==============================] - 0s 6ms/step - loss: 3.8504e-04 - val_loss: 4.9463e-04\n",
      "Epoch 45/100\n",
      "52/52 [==============================] - 0s 6ms/step - loss: 3.7630e-04 - val_loss: 5.1096e-04\n",
      "Epoch 46/100\n",
      "52/52 [==============================] - 0s 6ms/step - loss: 3.7709e-04 - val_loss: 4.4051e-04\n",
      "Epoch 47/100\n",
      "52/52 [==============================] - 0s 5ms/step - loss: 3.9322e-04 - val_loss: 4.1359e-04\n",
      "Epoch 48/100\n",
      "52/52 [==============================] - 0s 6ms/step - loss: 3.7511e-04 - val_loss: 5.5559e-04\n",
      "Epoch 49/100\n",
      "52/52 [==============================] - 0s 6ms/step - loss: 3.7388e-04 - val_loss: 5.7976e-04\n",
      "Epoch 50/100\n",
      "52/52 [==============================] - 0s 8ms/step - loss: 3.7902e-04 - val_loss: 3.9046e-04\n",
      "Epoch 51/100\n",
      "52/52 [==============================] - 0s 9ms/step - loss: 3.6805e-04 - val_loss: 6.1161e-04\n",
      "Epoch 52/100\n",
      "52/52 [==============================] - 0s 7ms/step - loss: 3.8079e-04 - val_loss: 3.7547e-04\n",
      "Epoch 53/100\n",
      "52/52 [==============================] - 0s 6ms/step - loss: 3.7591e-04 - val_loss: 4.7020e-04\n",
      "Epoch 54/100\n",
      "52/52 [==============================] - 0s 5ms/step - loss: 3.7025e-04 - val_loss: 3.7666e-04\n",
      "Epoch 55/100\n",
      "52/52 [==============================] - 0s 6ms/step - loss: 3.7313e-04 - val_loss: 5.3901e-04\n",
      "Epoch 56/100\n",
      "52/52 [==============================] - 0s 6ms/step - loss: 3.6936e-04 - val_loss: 2.7186e-04\n",
      "Epoch 57/100\n",
      "52/52 [==============================] - 0s 7ms/step - loss: 3.8183e-04 - val_loss: 4.2771e-04\n",
      "Epoch 58/100\n",
      "52/52 [==============================] - 0s 6ms/step - loss: 3.7261e-04 - val_loss: 6.2954e-04\n",
      "Epoch 59/100\n",
      "52/52 [==============================] - 0s 6ms/step - loss: 3.7102e-04 - val_loss: 3.9221e-04\n",
      "Epoch 60/100\n",
      "52/52 [==============================] - 0s 6ms/step - loss: 3.7823e-04 - val_loss: 6.4023e-04\n",
      "Epoch 61/100\n",
      "52/52 [==============================] - 0s 7ms/step - loss: 3.8568e-04 - val_loss: 4.4011e-04\n",
      "Epoch 62/100\n",
      "52/52 [==============================] - 0s 9ms/step - loss: 3.6995e-04 - val_loss: 4.7429e-04\n",
      "Epoch 63/100\n",
      "52/52 [==============================] - 0s 7ms/step - loss: 3.6849e-04 - val_loss: 3.9430e-04\n",
      "Epoch 64/100\n",
      "52/52 [==============================] - 0s 6ms/step - loss: 3.7489e-04 - val_loss: 4.8029e-04\n",
      "Epoch 65/100\n",
      "52/52 [==============================] - 0s 6ms/step - loss: 3.6559e-04 - val_loss: 4.9655e-04\n",
      "Epoch 66/100\n",
      "52/52 [==============================] - 0s 6ms/step - loss: 3.6347e-04 - val_loss: 4.1820e-04\n",
      "Epoch 67/100\n",
      "52/52 [==============================] - 0s 7ms/step - loss: 3.7410e-04 - val_loss: 4.2139e-04\n",
      "Epoch 68/100\n",
      "52/52 [==============================] - 0s 6ms/step - loss: 3.6863e-04 - val_loss: 5.8244e-04\n",
      "Epoch 69/100\n",
      "52/52 [==============================] - 0s 6ms/step - loss: 3.7100e-04 - val_loss: 3.1782e-04\n",
      "Epoch 70/100\n",
      "52/52 [==============================] - 0s 6ms/step - loss: 3.9060e-04 - val_loss: 2.7059e-04\n",
      "Epoch 71/100\n",
      "52/52 [==============================] - 0s 7ms/step - loss: 3.8060e-04 - val_loss: 6.3888e-04\n",
      "Epoch 72/100\n",
      "52/52 [==============================] - 0s 6ms/step - loss: 3.6958e-04 - val_loss: 5.7144e-04\n",
      "Epoch 73/100\n",
      "52/52 [==============================] - 0s 6ms/step - loss: 3.6576e-04 - val_loss: 2.9925e-04\n",
      "Epoch 74/100\n",
      "52/52 [==============================] - 0s 7ms/step - loss: 3.9952e-04 - val_loss: 4.4050e-04\n",
      "Epoch 75/100\n",
      "52/52 [==============================] - 0s 6ms/step - loss: 3.8854e-04 - val_loss: 9.3682e-04\n",
      "Epoch 76/100\n",
      "52/52 [==============================] - 0s 6ms/step - loss: 3.7688e-04 - val_loss: 3.5940e-04\n",
      "Epoch 77/100\n"
     ]
    },
    {
     "name": "stdout",
     "output_type": "stream",
     "text": [
      "52/52 [==============================] - 0s 8ms/step - loss: 3.6935e-04 - val_loss: 2.9867e-04\n",
      "Epoch 78/100\n",
      "52/52 [==============================] - 0s 6ms/step - loss: 3.6931e-04 - val_loss: 4.6303e-04\n",
      "Epoch 79/100\n",
      "52/52 [==============================] - 0s 6ms/step - loss: 3.6386e-04 - val_loss: 3.0815e-04\n",
      "Epoch 80/100\n",
      "52/52 [==============================] - 0s 6ms/step - loss: 3.7739e-04 - val_loss: 5.6325e-04\n",
      "Epoch 81/100\n",
      "52/52 [==============================] - 0s 6ms/step - loss: 3.6799e-04 - val_loss: 4.3430e-04\n",
      "Epoch 82/100\n",
      "52/52 [==============================] - 0s 6ms/step - loss: 3.8033e-04 - val_loss: 7.0984e-04\n",
      "Epoch 83/100\n",
      "52/52 [==============================] - 0s 6ms/step - loss: 3.7783e-04 - val_loss: 6.1357e-04\n",
      "Epoch 84/100\n",
      "52/52 [==============================] - 0s 6ms/step - loss: 3.7784e-04 - val_loss: 4.9085e-04\n",
      "Epoch 85/100\n",
      "52/52 [==============================] - 0s 6ms/step - loss: 3.7657e-04 - val_loss: 4.0881e-04\n",
      "Epoch 86/100\n",
      "52/52 [==============================] - 0s 6ms/step - loss: 3.7036e-04 - val_loss: 4.6347e-04\n",
      "Epoch 87/100\n",
      "52/52 [==============================] - 0s 6ms/step - loss: 3.7514e-04 - val_loss: 2.9338e-04\n",
      "Epoch 88/100\n",
      "52/52 [==============================] - 0s 6ms/step - loss: 3.6182e-04 - val_loss: 3.5690e-04\n",
      "Epoch 89/100\n",
      "52/52 [==============================] - 0s 6ms/step - loss: 3.7385e-04 - val_loss: 3.6803e-04\n",
      "Epoch 90/100\n",
      "52/52 [==============================] - 0s 7ms/step - loss: 3.7780e-04 - val_loss: 3.3721e-04\n",
      "Epoch 91/100\n",
      "52/52 [==============================] - 0s 7ms/step - loss: 3.8531e-04 - val_loss: 6.2994e-04\n",
      "Epoch 92/100\n",
      "52/52 [==============================] - 0s 7ms/step - loss: 3.7700e-04 - val_loss: 5.2276e-04\n",
      "Epoch 93/100\n",
      "52/52 [==============================] - 0s 8ms/step - loss: 3.6603e-04 - val_loss: 5.0677e-04\n",
      "Epoch 94/100\n",
      "52/52 [==============================] - 0s 7ms/step - loss: 3.6321e-04 - val_loss: 6.2110e-04\n",
      "Epoch 95/100\n",
      "52/52 [==============================] - 0s 7ms/step - loss: 3.6981e-04 - val_loss: 5.5317e-04\n",
      "Epoch 96/100\n",
      "52/52 [==============================] - 0s 7ms/step - loss: 3.6543e-04 - val_loss: 3.7260e-04\n",
      "Epoch 97/100\n",
      "52/52 [==============================] - 0s 6ms/step - loss: 3.8119e-04 - val_loss: 4.0753e-04\n",
      "Epoch 98/100\n",
      "52/52 [==============================] - 0s 6ms/step - loss: 3.8217e-04 - val_loss: 6.7407e-04\n",
      "Epoch 99/100\n",
      "52/52 [==============================] - 0s 6ms/step - loss: 3.7791e-04 - val_loss: 4.8603e-04\n",
      "Epoch 100/100\n",
      "52/52 [==============================] - 0s 7ms/step - loss: 3.6297e-04 - val_loss: 6.9500e-04\n"
     ]
    },
    {
     "data": {
      "text/plain": [
       "<keras.callbacks.History at 0x27befd97dc8>"
      ]
     },
     "execution_count": 46,
     "metadata": {},
     "output_type": "execute_result"
    }
   ],
   "source": [
    "model = Sequential()\n",
    "model.add(LSTM(4, input_shape=(Xtrain.shape[1], Xtrain.shape[2])))\n",
    "model.add(Dense(1))\n",
    "model.compile(loss=\"mean_squared_error\", optimizer=\"adam\")\n",
    "model.fit(\n",
    "    Xtrain, ytrain, epochs=100, validation_data=(Xtest, ytest), batch_size=16, verbose=1\n",
    ")"
   ]
  },
  {
   "cell_type": "code",
   "execution_count": 47,
   "id": "ae2030f2",
   "metadata": {},
   "outputs": [
    {
     "name": "stdout",
     "output_type": "stream",
     "text": [
      "Model: \"sequential\"\n",
      "_________________________________________________________________\n",
      " Layer (type)                Output Shape              Param #   \n",
      "=================================================================\n",
      " lstm (LSTM)                 (None, 4)                 112       \n",
      "                                                                 \n",
      " dense (Dense)               (None, 1)                 5         \n",
      "                                                                 \n",
      "=================================================================\n",
      "Total params: 117\n",
      "Trainable params: 117\n",
      "Non-trainable params: 0\n",
      "_________________________________________________________________\n"
     ]
    }
   ],
   "source": [
    "model.summary()"
   ]
  },
  {
   "cell_type": "code",
   "execution_count": 48,
   "id": "ff060953",
   "metadata": {},
   "outputs": [
    {
     "name": "stdout",
     "output_type": "stream",
     "text": [
      "26/26 [==============================] - 1s 4ms/step\n",
      "7/7 [==============================] - 1s 4ms/step\n"
     ]
    }
   ],
   "source": [
    "trainPredict = model.predict(Xtrain)\n",
    "testPredict = model.predict(Xtest)"
   ]
  },
  {
   "cell_type": "code",
   "execution_count": 49,
   "id": "688ffe4c",
   "metadata": {},
   "outputs": [],
   "source": [
    "trainPredict = np.c_[trainPredict, np.zeros(trainPredict.shape)]\n",
    "testPredict = np.c_[testPredict, np.zeros(testPredict.shape)]"
   ]
  },
  {
   "cell_type": "code",
   "execution_count": 50,
   "id": "2ec44950",
   "metadata": {},
   "outputs": [],
   "source": [
    "#invert predictions"
   ]
  },
  {
   "cell_type": "code",
   "execution_count": 51,
   "id": "4ee34d6f",
   "metadata": {},
   "outputs": [],
   "source": [
    "trainPredict = scaler.inverse_transform(trainPredict)\n",
    "trainPredict = [x[0] for x in trainPredict]\n",
    "\n",
    "testPredict = scaler.inverse_transform(testPredict)\n",
    "testPredict = [x[0] for x in testPredict]"
   ]
  },
  {
   "cell_type": "code",
   "execution_count": 52,
   "id": "bbd4dbe6",
   "metadata": {},
   "outputs": [
    {
     "name": "stdout",
     "output_type": "stream",
     "text": [
      "[72.43739682093292, 73.47794668946369, 74.72882539189641, 75.08489251295123, 76.6117934134943]\n",
      "[166.1976402848818, 165.26074459198435, 163.67627107397902, 171.25485825197575, 169.81365288066308]\n"
     ]
    }
   ],
   "source": [
    "print(trainPredict[:5])\n",
    "print(testPredict[:5])"
   ]
  },
  {
   "cell_type": "code",
   "execution_count": 53,
   "id": "e9b28139",
   "metadata": {},
   "outputs": [],
   "source": [
    "from sklearn.metrics import mean_squared_error"
   ]
  },
  {
   "cell_type": "code",
   "execution_count": 54,
   "id": "a89b25ba",
   "metadata": {},
   "outputs": [
    {
     "name": "stdout",
     "output_type": "stream",
     "text": [
      "Train Score: 132.82 RMSE\n",
      "Test Score: 179.16 RMSE\n"
     ]
    }
   ],
   "source": [
    "# calculate root mean squared error\n",
    "trainScore = mean_squared_error([x[0][0] for x in Xtrain], trainPredict, squared=False)\n",
    "print(\"Train Score: %.2f RMSE\" % (trainScore))\n",
    "\n",
    "testScore = mean_squared_error([x[0][0] for x in Xtest], testPredict, squared=False)\n",
    "print(\"Test Score: %.2f RMSE\" % (testScore))"
   ]
  },
  {
   "cell_type": "code",
   "execution_count": null,
   "id": "91042979",
   "metadata": {},
   "outputs": [],
   "source": []
  },
  {
   "cell_type": "code",
   "execution_count": null,
   "id": "98489d31",
   "metadata": {},
   "outputs": [],
   "source": []
  }
 ],
 "metadata": {
  "kernelspec": {
   "display_name": "Python 3 (ipykernel)",
   "language": "python",
   "name": "python3"
  },
  "language_info": {
   "codemirror_mode": {
    "name": "ipython",
    "version": 3
   },
   "file_extension": ".py",
   "mimetype": "text/x-python",
   "name": "python",
   "nbconvert_exporter": "python",
   "pygments_lexer": "ipython3",
   "version": "3.7.7"
  }
 },
 "nbformat": 4,
 "nbformat_minor": 5
}
