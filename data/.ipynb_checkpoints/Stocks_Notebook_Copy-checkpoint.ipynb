{
 "cells": [
  {
   "cell_type": "code",
   "execution_count": 1,
   "id": "07d075dc-fac5-44a9-baf3-090121c4cc79",
   "metadata": {
    "scrolled": true
   },
   "outputs": [
    {
     "name": "stdout",
     "output_type": "stream",
     "text": [
      "Requirement already satisfied: tensorflow in /Users/joshuagibson/anaconda3/envs/dev/lib/python3.10/site-packages (2.15.0)\n",
      "Requirement already satisfied: absl-py>=1.0.0 in /Users/joshuagibson/anaconda3/envs/dev/lib/python3.10/site-packages (from tensorflow) (2.1.0)\n",
      "Requirement already satisfied: astunparse>=1.6.0 in /Users/joshuagibson/anaconda3/envs/dev/lib/python3.10/site-packages (from tensorflow) (1.6.3)\n",
      "Requirement already satisfied: flatbuffers>=23.5.26 in /Users/joshuagibson/anaconda3/envs/dev/lib/python3.10/site-packages (from tensorflow) (23.5.26)\n",
      "Requirement already satisfied: gast!=0.5.0,!=0.5.1,!=0.5.2,>=0.2.1 in /Users/joshuagibson/anaconda3/envs/dev/lib/python3.10/site-packages (from tensorflow) (0.5.4)\n",
      "Requirement already satisfied: google-pasta>=0.1.1 in /Users/joshuagibson/anaconda3/envs/dev/lib/python3.10/site-packages (from tensorflow) (0.2.0)\n",
      "Requirement already satisfied: h5py>=2.9.0 in /Users/joshuagibson/anaconda3/envs/dev/lib/python3.10/site-packages (from tensorflow) (3.10.0)\n",
      "Requirement already satisfied: libclang>=13.0.0 in /Users/joshuagibson/anaconda3/envs/dev/lib/python3.10/site-packages (from tensorflow) (16.0.6)\n",
      "Requirement already satisfied: ml-dtypes~=0.2.0 in /Users/joshuagibson/anaconda3/envs/dev/lib/python3.10/site-packages (from tensorflow) (0.2.0)\n",
      "Requirement already satisfied: numpy<2.0.0,>=1.23.5 in /Users/joshuagibson/anaconda3/envs/dev/lib/python3.10/site-packages (from tensorflow) (1.26.3)\n",
      "Requirement already satisfied: opt-einsum>=2.3.2 in /Users/joshuagibson/anaconda3/envs/dev/lib/python3.10/site-packages (from tensorflow) (3.3.0)\n",
      "Requirement already satisfied: packaging in /Users/joshuagibson/anaconda3/envs/dev/lib/python3.10/site-packages (from tensorflow) (23.1)\n",
      "Requirement already satisfied: protobuf!=4.21.0,!=4.21.1,!=4.21.2,!=4.21.3,!=4.21.4,!=4.21.5,<5.0.0dev,>=3.20.3 in /Users/joshuagibson/anaconda3/envs/dev/lib/python3.10/site-packages (from tensorflow) (4.23.4)\n",
      "Requirement already satisfied: setuptools in /Users/joshuagibson/anaconda3/envs/dev/lib/python3.10/site-packages (from tensorflow) (68.2.2)\n",
      "Requirement already satisfied: six>=1.12.0 in /Users/joshuagibson/anaconda3/envs/dev/lib/python3.10/site-packages (from tensorflow) (1.16.0)\n",
      "Requirement already satisfied: termcolor>=1.1.0 in /Users/joshuagibson/anaconda3/envs/dev/lib/python3.10/site-packages (from tensorflow) (2.4.0)\n",
      "Requirement already satisfied: typing-extensions>=3.6.6 in /Users/joshuagibson/anaconda3/envs/dev/lib/python3.10/site-packages (from tensorflow) (4.9.0)\n",
      "Requirement already satisfied: wrapt<1.15,>=1.11.0 in /Users/joshuagibson/anaconda3/envs/dev/lib/python3.10/site-packages (from tensorflow) (1.14.1)\n",
      "Requirement already satisfied: tensorflow-io-gcs-filesystem>=0.23.1 in /Users/joshuagibson/anaconda3/envs/dev/lib/python3.10/site-packages (from tensorflow) (0.36.0)\n",
      "Requirement already satisfied: grpcio<2.0,>=1.24.3 in /Users/joshuagibson/anaconda3/envs/dev/lib/python3.10/site-packages (from tensorflow) (1.60.1)\n",
      "Requirement already satisfied: tensorboard<2.16,>=2.15 in /Users/joshuagibson/anaconda3/envs/dev/lib/python3.10/site-packages (from tensorflow) (2.15.1)\n",
      "Requirement already satisfied: tensorflow-estimator<2.16,>=2.15.0 in /Users/joshuagibson/anaconda3/envs/dev/lib/python3.10/site-packages (from tensorflow) (2.15.0)\n",
      "Requirement already satisfied: keras<2.16,>=2.15.0 in /Users/joshuagibson/anaconda3/envs/dev/lib/python3.10/site-packages (from tensorflow) (2.15.0)\n",
      "Requirement already satisfied: wheel<1.0,>=0.23.0 in /Users/joshuagibson/anaconda3/envs/dev/lib/python3.10/site-packages (from astunparse>=1.6.0->tensorflow) (0.41.2)\n",
      "Requirement already satisfied: google-auth<3,>=1.6.3 in /Users/joshuagibson/anaconda3/envs/dev/lib/python3.10/site-packages (from tensorboard<2.16,>=2.15->tensorflow) (2.27.0)\n",
      "Requirement already satisfied: google-auth-oauthlib<2,>=0.5 in /Users/joshuagibson/anaconda3/envs/dev/lib/python3.10/site-packages (from tensorboard<2.16,>=2.15->tensorflow) (1.2.0)\n",
      "Requirement already satisfied: markdown>=2.6.8 in /Users/joshuagibson/anaconda3/envs/dev/lib/python3.10/site-packages (from tensorboard<2.16,>=2.15->tensorflow) (3.4.1)\n",
      "Requirement already satisfied: requests<3,>=2.21.0 in /Users/joshuagibson/anaconda3/envs/dev/lib/python3.10/site-packages (from tensorboard<2.16,>=2.15->tensorflow) (2.31.0)\n",
      "Requirement already satisfied: tensorboard-data-server<0.8.0,>=0.7.0 in /Users/joshuagibson/anaconda3/envs/dev/lib/python3.10/site-packages (from tensorboard<2.16,>=2.15->tensorflow) (0.7.2)\n",
      "Requirement already satisfied: werkzeug>=1.0.1 in /Users/joshuagibson/anaconda3/envs/dev/lib/python3.10/site-packages (from tensorboard<2.16,>=2.15->tensorflow) (3.0.1)\n",
      "Requirement already satisfied: cachetools<6.0,>=2.0.0 in /Users/joshuagibson/anaconda3/envs/dev/lib/python3.10/site-packages (from google-auth<3,>=1.6.3->tensorboard<2.16,>=2.15->tensorflow) (5.3.2)\n",
      "Requirement already satisfied: pyasn1-modules>=0.2.1 in /Users/joshuagibson/anaconda3/envs/dev/lib/python3.10/site-packages (from google-auth<3,>=1.6.3->tensorboard<2.16,>=2.15->tensorflow) (0.3.0)\n",
      "Requirement already satisfied: rsa<5,>=3.1.4 in /Users/joshuagibson/anaconda3/envs/dev/lib/python3.10/site-packages (from google-auth<3,>=1.6.3->tensorboard<2.16,>=2.15->tensorflow) (4.9)\n",
      "Requirement already satisfied: requests-oauthlib>=0.7.0 in /Users/joshuagibson/anaconda3/envs/dev/lib/python3.10/site-packages (from google-auth-oauthlib<2,>=0.5->tensorboard<2.16,>=2.15->tensorflow) (1.3.1)\n",
      "Requirement already satisfied: charset-normalizer<4,>=2 in /Users/joshuagibson/anaconda3/envs/dev/lib/python3.10/site-packages (from requests<3,>=2.21.0->tensorboard<2.16,>=2.15->tensorflow) (2.0.4)\n",
      "Requirement already satisfied: idna<4,>=2.5 in /Users/joshuagibson/anaconda3/envs/dev/lib/python3.10/site-packages (from requests<3,>=2.21.0->tensorboard<2.16,>=2.15->tensorflow) (3.4)\n",
      "Requirement already satisfied: urllib3<3,>=1.21.1 in /Users/joshuagibson/anaconda3/envs/dev/lib/python3.10/site-packages (from requests<3,>=2.21.0->tensorboard<2.16,>=2.15->tensorflow) (1.26.18)\n",
      "Requirement already satisfied: certifi>=2017.4.17 in /Users/joshuagibson/anaconda3/envs/dev/lib/python3.10/site-packages (from requests<3,>=2.21.0->tensorboard<2.16,>=2.15->tensorflow) (2024.2.2)\n",
      "Requirement already satisfied: MarkupSafe>=2.1.1 in /Users/joshuagibson/anaconda3/envs/dev/lib/python3.10/site-packages (from werkzeug>=1.0.1->tensorboard<2.16,>=2.15->tensorflow) (2.1.3)\n",
      "Requirement already satisfied: pyasn1<0.6.0,>=0.4.6 in /Users/joshuagibson/anaconda3/envs/dev/lib/python3.10/site-packages (from pyasn1-modules>=0.2.1->google-auth<3,>=1.6.3->tensorboard<2.16,>=2.15->tensorflow) (0.5.1)\n",
      "Requirement already satisfied: oauthlib>=3.0.0 in /Users/joshuagibson/anaconda3/envs/dev/lib/python3.10/site-packages (from requests-oauthlib>=0.7.0->google-auth-oauthlib<2,>=0.5->tensorboard<2.16,>=2.15->tensorflow) (3.2.2)\n",
      "Note: you may need to restart the kernel to use updated packages.\n"
     ]
    }
   ],
   "source": [
    "pip install tensorflow"
   ]
  },
  {
   "cell_type": "code",
   "execution_count": 2,
   "id": "1db81bb1-1326-44a2-b007-5adc7c8865b0",
   "metadata": {
    "scrolled": true
   },
   "outputs": [
    {
     "name": "stdout",
     "output_type": "stream",
     "text": [
      "Requirement already satisfied: openpyxl in /Users/joshuagibson/anaconda3/envs/dev/lib/python3.10/site-packages (3.1.2)\n",
      "Requirement already satisfied: et-xmlfile in /Users/joshuagibson/anaconda3/envs/dev/lib/python3.10/site-packages (from openpyxl) (1.1.0)\n",
      "Note: you may need to restart the kernel to use updated packages.\n"
     ]
    }
   ],
   "source": [
    "pip install openpyxl"
   ]
  },
  {
   "cell_type": "code",
   "execution_count": 9,
   "id": "42573839-52af-4074-bbf1-2b5a81900ccd",
   "metadata": {},
   "outputs": [],
   "source": [
    "# Import our dependencies\n",
    "from sklearn.model_selection import train_test_split\n",
    "from sklearn.preprocessing import StandardScaler\n",
    "from sklearn.preprocessing import MinMaxScaler\n",
    "import pandas as pd\n",
    "import tensorflow as tf\n",
    "import numpy as np\n",
    "from pathlib import Path\n",
    "from keras.models import Sequential\n",
    "from keras.layers import LSTM,Dropout,Dense\n",
    "import matplotlib.pyplot as plt"
   ]
  },
  {
   "cell_type": "code",
   "execution_count": 10,
   "id": "886064b9-f602-4a1b-b1fd-6bb0efdb93c0",
   "metadata": {},
   "outputs": [
    {
     "data": {
      "text/html": [
       "<div>\n",
       "<style scoped>\n",
       "    .dataframe tbody tr th:only-of-type {\n",
       "        vertical-align: middle;\n",
       "    }\n",
       "\n",
       "    .dataframe tbody tr th {\n",
       "        vertical-align: top;\n",
       "    }\n",
       "\n",
       "    .dataframe thead th {\n",
       "        text-align: right;\n",
       "    }\n",
       "</style>\n",
       "<table border=\"1\" class=\"dataframe\">\n",
       "  <thead>\n",
       "    <tr style=\"text-align: right;\">\n",
       "      <th></th>\n",
       "      <th>Date</th>\n",
       "      <th>S&amp;P500</th>\n",
       "    </tr>\n",
       "  </thead>\n",
       "  <tbody>\n",
       "    <tr>\n",
       "      <th>0</th>\n",
       "      <td>2014-02-18</td>\n",
       "      <td>1840.76</td>\n",
       "    </tr>\n",
       "    <tr>\n",
       "      <th>1</th>\n",
       "      <td>2014-02-19</td>\n",
       "      <td>1828.75</td>\n",
       "    </tr>\n",
       "    <tr>\n",
       "      <th>2</th>\n",
       "      <td>2014-02-20</td>\n",
       "      <td>1839.78</td>\n",
       "    </tr>\n",
       "    <tr>\n",
       "      <th>3</th>\n",
       "      <td>2014-02-21</td>\n",
       "      <td>1836.25</td>\n",
       "    </tr>\n",
       "    <tr>\n",
       "      <th>4</th>\n",
       "      <td>2014-02-24</td>\n",
       "      <td>1847.61</td>\n",
       "    </tr>\n",
       "    <tr>\n",
       "      <th>...</th>\n",
       "      <td>...</td>\n",
       "      <td>...</td>\n",
       "    </tr>\n",
       "    <tr>\n",
       "      <th>2511</th>\n",
       "      <td>2024-02-08</td>\n",
       "      <td>4997.91</td>\n",
       "    </tr>\n",
       "    <tr>\n",
       "      <th>2512</th>\n",
       "      <td>2024-02-09</td>\n",
       "      <td>5026.61</td>\n",
       "    </tr>\n",
       "    <tr>\n",
       "      <th>2513</th>\n",
       "      <td>2024-02-12</td>\n",
       "      <td>5021.84</td>\n",
       "    </tr>\n",
       "    <tr>\n",
       "      <th>2514</th>\n",
       "      <td>2024-02-13</td>\n",
       "      <td>4953.17</td>\n",
       "    </tr>\n",
       "    <tr>\n",
       "      <th>2515</th>\n",
       "      <td>2024-02-14</td>\n",
       "      <td>5000.62</td>\n",
       "    </tr>\n",
       "  </tbody>\n",
       "</table>\n",
       "<p>2516 rows × 2 columns</p>\n",
       "</div>"
      ],
      "text/plain": [
       "            Date   S&P500\n",
       "0     2014-02-18  1840.76\n",
       "1     2014-02-19  1828.75\n",
       "2     2014-02-20  1839.78\n",
       "3     2014-02-21  1836.25\n",
       "4     2014-02-24  1847.61\n",
       "...          ...      ...\n",
       "2511  2024-02-08  4997.91\n",
       "2512  2024-02-09  5026.61\n",
       "2513  2024-02-12  5021.84\n",
       "2514  2024-02-13  4953.17\n",
       "2515  2024-02-14  5000.62\n",
       "\n",
       "[2516 rows x 2 columns]"
      ]
     },
     "execution_count": 10,
     "metadata": {},
     "output_type": "execute_result"
    }
   ],
   "source": [
    "sp_index = pd.read_csv(\"sp500_index.csv\")\n",
    "sp_index"
   ]
  },
  {
   "cell_type": "code",
   "execution_count": 11,
   "id": "ff777561-4b88-4721-bc3c-a9bfc3565f2a",
   "metadata": {
    "scrolled": true
   },
   "outputs": [
    {
     "data": {
      "text/html": [
       "<div>\n",
       "<style scoped>\n",
       "    .dataframe tbody tr th:only-of-type {\n",
       "        vertical-align: middle;\n",
       "    }\n",
       "\n",
       "    .dataframe tbody tr th {\n",
       "        vertical-align: top;\n",
       "    }\n",
       "\n",
       "    .dataframe thead th {\n",
       "        text-align: right;\n",
       "    }\n",
       "</style>\n",
       "<table border=\"1\" class=\"dataframe\">\n",
       "  <thead>\n",
       "    <tr style=\"text-align: right;\">\n",
       "      <th></th>\n",
       "      <th>Date</th>\n",
       "      <th>Symbol</th>\n",
       "      <th>Adj Close</th>\n",
       "      <th>Close</th>\n",
       "      <th>High</th>\n",
       "      <th>Low</th>\n",
       "      <th>Open</th>\n",
       "      <th>Volume</th>\n",
       "    </tr>\n",
       "  </thead>\n",
       "  <tbody>\n",
       "    <tr>\n",
       "      <th>0</th>\n",
       "      <td>2020-01-02</td>\n",
       "      <td>MMM</td>\n",
       "      <td>166.588959</td>\n",
       "      <td>180.000000</td>\n",
       "      <td>180.009995</td>\n",
       "      <td>177.139999</td>\n",
       "      <td>177.679993</td>\n",
       "      <td>3601700.0</td>\n",
       "    </tr>\n",
       "    <tr>\n",
       "      <th>1</th>\n",
       "      <td>2020-01-03</td>\n",
       "      <td>MMM</td>\n",
       "      <td>165.154465</td>\n",
       "      <td>178.449997</td>\n",
       "      <td>178.660004</td>\n",
       "      <td>175.630005</td>\n",
       "      <td>177.020004</td>\n",
       "      <td>2466900.0</td>\n",
       "    </tr>\n",
       "    <tr>\n",
       "      <th>2</th>\n",
       "      <td>2020-01-06</td>\n",
       "      <td>MMM</td>\n",
       "      <td>165.311783</td>\n",
       "      <td>178.619995</td>\n",
       "      <td>178.710007</td>\n",
       "      <td>176.350006</td>\n",
       "      <td>177.149994</td>\n",
       "      <td>1998000.0</td>\n",
       "    </tr>\n",
       "    <tr>\n",
       "      <th>3</th>\n",
       "      <td>2020-01-07</td>\n",
       "      <td>MMM</td>\n",
       "      <td>164.645416</td>\n",
       "      <td>177.899994</td>\n",
       "      <td>178.509995</td>\n",
       "      <td>176.820007</td>\n",
       "      <td>178.279999</td>\n",
       "      <td>2173000.0</td>\n",
       "    </tr>\n",
       "    <tr>\n",
       "      <th>4</th>\n",
       "      <td>2020-01-08</td>\n",
       "      <td>MMM</td>\n",
       "      <td>167.172028</td>\n",
       "      <td>180.630005</td>\n",
       "      <td>181.500000</td>\n",
       "      <td>177.649994</td>\n",
       "      <td>178.000000</td>\n",
       "      <td>2758300.0</td>\n",
       "    </tr>\n",
       "  </tbody>\n",
       "</table>\n",
       "</div>"
      ],
      "text/plain": [
       "        Date Symbol   Adj Close       Close        High         Low  \\\n",
       "0 2020-01-02    MMM  166.588959  180.000000  180.009995  177.139999   \n",
       "1 2020-01-03    MMM  165.154465  178.449997  178.660004  175.630005   \n",
       "2 2020-01-06    MMM  165.311783  178.619995  178.710007  176.350006   \n",
       "3 2020-01-07    MMM  164.645416  177.899994  178.509995  176.820007   \n",
       "4 2020-01-08    MMM  167.172028  180.630005  181.500000  177.649994   \n",
       "\n",
       "         Open     Volume  \n",
       "0  177.679993  3601700.0  \n",
       "1  177.020004  2466900.0  \n",
       "2  177.149994  1998000.0  \n",
       "3  178.279999  2173000.0  \n",
       "4  178.000000  2758300.0  "
      ]
     },
     "execution_count": 11,
     "metadata": {},
     "output_type": "execute_result"
    }
   ],
   "source": [
    "sp_stocks = pd.read_excel(\"sp500_stocks_4years.xlsx\")\n",
    "sp_stocks.head()\n"
   ]
  },
  {
   "cell_type": "code",
   "execution_count": 12,
   "id": "030aeeb7-413f-4920-81ea-d3ae373a8278",
   "metadata": {
    "scrolled": true
   },
   "outputs": [
    {
     "data": {
      "image/png": "[encoded data removed]",
      "text/plain": [
       "<Figure size 640x480 with 1 Axes>"
      ]
     },
     "metadata": {},
     "output_type": "display_data"
    }
   ],
   "source": [
    "sp_index['Date'] = pd.to_datetime(sp_index.Date,format=\"%Y-%m-%d\")\n",
    "sp_index.index=sp_index['Date']\n",
    "\n",
    "# Plot the data\n",
    "sp_index.plot(x='Date', y='S&P500', kind='line', linestyle='-')\n",
    "\n",
    "# Add labels and title\n",
    "plt.xlabel('Date')\n",
    "plt.ylabel('Stock Price')\n",
    "plt.title('S&P500 Last 10 Years')\n",
    "\n",
    "# Show the plot\n",
    "plt.show()"
   ]
  },
  {
   "cell_type": "code",
   "execution_count": 13,
   "id": "51f6c3eb-a493-4d08-a8ce-ec6c3afa57fa",
   "metadata": {
    "scrolled": true
   },
   "outputs": [
    {
     "data": {
      "text/html": [
       "<div>\n",
       "<style scoped>\n",
       "    .dataframe tbody tr th:only-of-type {\n",
       "        vertical-align: middle;\n",
       "    }\n",
       "\n",
       "    .dataframe tbody tr th {\n",
       "        vertical-align: top;\n",
       "    }\n",
       "\n",
       "    .dataframe thead th {\n",
       "        text-align: right;\n",
       "    }\n",
       "</style>\n",
       "<table border=\"1\" class=\"dataframe\">\n",
       "  <thead>\n",
       "    <tr style=\"text-align: right;\">\n",
       "      <th></th>\n",
       "      <th>Date</th>\n",
       "      <th>Symbol</th>\n",
       "      <th>Adj Close</th>\n",
       "      <th>Close</th>\n",
       "      <th>High</th>\n",
       "      <th>Low</th>\n",
       "      <th>Open</th>\n",
       "      <th>Volume</th>\n",
       "    </tr>\n",
       "  </thead>\n",
       "  <tbody>\n",
       "    <tr>\n",
       "      <th>40482</th>\n",
       "      <td>2020-01-02</td>\n",
       "      <td>AAPL</td>\n",
       "      <td>73.059410</td>\n",
       "      <td>75.087502</td>\n",
       "      <td>75.150002</td>\n",
       "      <td>73.797501</td>\n",
       "      <td>74.059998</td>\n",
       "      <td>135480400.0</td>\n",
       "    </tr>\n",
       "    <tr>\n",
       "      <th>40483</th>\n",
       "      <td>2020-01-03</td>\n",
       "      <td>AAPL</td>\n",
       "      <td>72.349152</td>\n",
       "      <td>74.357498</td>\n",
       "      <td>75.144997</td>\n",
       "      <td>74.125000</td>\n",
       "      <td>74.287498</td>\n",
       "      <td>146322800.0</td>\n",
       "    </tr>\n",
       "    <tr>\n",
       "      <th>40484</th>\n",
       "      <td>2020-01-06</td>\n",
       "      <td>AAPL</td>\n",
       "      <td>72.925644</td>\n",
       "      <td>74.949997</td>\n",
       "      <td>74.989998</td>\n",
       "      <td>73.187500</td>\n",
       "      <td>73.447502</td>\n",
       "      <td>118387200.0</td>\n",
       "    </tr>\n",
       "    <tr>\n",
       "      <th>40485</th>\n",
       "      <td>2020-01-07</td>\n",
       "      <td>AAPL</td>\n",
       "      <td>72.582657</td>\n",
       "      <td>74.597504</td>\n",
       "      <td>75.224998</td>\n",
       "      <td>74.370003</td>\n",
       "      <td>74.959999</td>\n",
       "      <td>108872000.0</td>\n",
       "    </tr>\n",
       "    <tr>\n",
       "      <th>40486</th>\n",
       "      <td>2020-01-08</td>\n",
       "      <td>AAPL</td>\n",
       "      <td>73.750252</td>\n",
       "      <td>75.797501</td>\n",
       "      <td>76.110001</td>\n",
       "      <td>74.290001</td>\n",
       "      <td>74.290001</td>\n",
       "      <td>132079200.0</td>\n",
       "    </tr>\n",
       "    <tr>\n",
       "      <th>...</th>\n",
       "      <td>...</td>\n",
       "      <td>...</td>\n",
       "      <td>...</td>\n",
       "      <td>...</td>\n",
       "      <td>...</td>\n",
       "      <td>...</td>\n",
       "      <td>...</td>\n",
       "      <td>...</td>\n",
       "    </tr>\n",
       "    <tr>\n",
       "      <th>41515</th>\n",
       "      <td>2024-02-09</td>\n",
       "      <td>AAPL</td>\n",
       "      <td>188.850006</td>\n",
       "      <td>188.850006</td>\n",
       "      <td>189.990005</td>\n",
       "      <td>188.000000</td>\n",
       "      <td>188.649994</td>\n",
       "      <td>45155200.0</td>\n",
       "    </tr>\n",
       "    <tr>\n",
       "      <th>41516</th>\n",
       "      <td>2024-02-12</td>\n",
       "      <td>AAPL</td>\n",
       "      <td>187.149994</td>\n",
       "      <td>187.149994</td>\n",
       "      <td>188.669998</td>\n",
       "      <td>186.789993</td>\n",
       "      <td>188.419998</td>\n",
       "      <td>41781900.0</td>\n",
       "    </tr>\n",
       "    <tr>\n",
       "      <th>41517</th>\n",
       "      <td>2024-02-13</td>\n",
       "      <td>AAPL</td>\n",
       "      <td>185.039993</td>\n",
       "      <td>185.039993</td>\n",
       "      <td>186.210007</td>\n",
       "      <td>183.509995</td>\n",
       "      <td>185.770004</td>\n",
       "      <td>56529500.0</td>\n",
       "    </tr>\n",
       "    <tr>\n",
       "      <th>41518</th>\n",
       "      <td>2024-02-14</td>\n",
       "      <td>AAPL</td>\n",
       "      <td>184.149994</td>\n",
       "      <td>184.149994</td>\n",
       "      <td>185.529999</td>\n",
       "      <td>182.440002</td>\n",
       "      <td>185.320007</td>\n",
       "      <td>54630500.0</td>\n",
       "    </tr>\n",
       "    <tr>\n",
       "      <th>41519</th>\n",
       "      <td>2024-02-15</td>\n",
       "      <td>AAPL</td>\n",
       "      <td>183.860001</td>\n",
       "      <td>183.860001</td>\n",
       "      <td>184.490005</td>\n",
       "      <td>181.399994</td>\n",
       "      <td>183.550003</td>\n",
       "      <td>63936069.0</td>\n",
       "    </tr>\n",
       "  </tbody>\n",
       "</table>\n",
       "<p>1038 rows × 8 columns</p>\n",
       "</div>"
      ],
      "text/plain": [
       "            Date Symbol   Adj Close       Close        High         Low  \\\n",
       "40482 2020-01-02   AAPL   73.059410   75.087502   75.150002   73.797501   \n",
       "40483 2020-01-03   AAPL   72.349152   74.357498   75.144997   74.125000   \n",
       "40484 2020-01-06   AAPL   72.925644   74.949997   74.989998   73.187500   \n",
       "40485 2020-01-07   AAPL   72.582657   74.597504   75.224998   74.370003   \n",
       "40486 2020-01-08   AAPL   73.750252   75.797501   76.110001   74.290001   \n",
       "...          ...    ...         ...         ...         ...         ...   \n",
       "41515 2024-02-09   AAPL  188.850006  188.850006  189.990005  188.000000   \n",
       "41516 2024-02-12   AAPL  187.149994  187.149994  188.669998  186.789993   \n",
       "41517 2024-02-13   AAPL  185.039993  185.039993  186.210007  183.509995   \n",
       "41518 2024-02-14   AAPL  184.149994  184.149994  185.529999  182.440002   \n",
       "41519 2024-02-15   AAPL  183.860001  183.860001  184.490005  181.399994   \n",
       "\n",
       "             Open       Volume  \n",
       "40482   74.059998  135480400.0  \n",
       "40483   74.287498  146322800.0  \n",
       "40484   73.447502  118387200.0  \n",
       "40485   74.959999  108872000.0  \n",
       "40486   74.290001  132079200.0  \n",
       "...           ...          ...  \n",
       "41515  188.649994   45155200.0  \n",
       "41516  188.419998   41781900.0  \n",
       "41517  185.770004   56529500.0  \n",
       "41518  185.320007   54630500.0  \n",
       "41519  183.550003   63936069.0  \n",
       "\n",
       "[1038 rows x 8 columns]"
      ]
     },
     "execution_count": 13,
     "metadata": {},
     "output_type": "execute_result"
    }
   ],
   "source": [
    "apple_df = sp_stocks[sp_stocks['Symbol'] == 'AAPL']\n",
    "apple_df"
   ]
  },
  {
   "cell_type": "code",
   "execution_count": 14,
   "id": "a2f62c91-e63b-401e-9a42-85191948bf4e",
   "metadata": {
    "scrolled": true
   },
   "outputs": [
    {
     "data": {
      "image/png": "[encoded data removed]",
      "text/plain": [
       "<Figure size 640x480 with 1 Axes>"
      ]
     },
     "metadata": {},
     "output_type": "display_data"
    }
   ],
   "source": [
    "apple_df.plot(x='Date', y='Close', kind='line', linestyle='-')\n",
    "\n",
    "# Add labels and title\n",
    "plt.xlabel('Date')\n",
    "plt.ylabel('Stock Price')\n",
    "plt.title('Apple Stock Last 4 Years')\n",
    "\n",
    "# Show the plot\n",
    "plt.show()"
   ]
  },
  {
   "cell_type": "code",
   "execution_count": 196,
   "id": "e2887721-1efe-4906-8f71-c5bc6306bae2",
   "metadata": {},
   "outputs": [],
   "source": [
    "X = apple_df[['Adj Close', 'High', 'Low', 'Open', 'Volume']]\n",
    "y = apple_df['Close']"
   ]
  },
  {
   "cell_type": "code",
   "execution_count": 197,
   "id": "a0a24b35-b646-47ad-a08c-f0c9f62e315c",
   "metadata": {},
   "outputs": [],
   "source": [
    "X_train, X_test, y_train, y_test = train_test_split(X, y, test_size=0.2, random_state=42)"
   ]
  },
  {
   "cell_type": "code",
   "execution_count": 198,
   "id": "cce61067-d188-4869-84fa-769baf7bc8d2",
   "metadata": {},
   "outputs": [],
   "source": [
    "scaler = MinMaxScaler()\n",
    "X_train_scaled = scaler.fit_transform(X_train)\n",
    "X_test_scaled = scaler.transform(X_test)"
   ]
  },
  {
   "cell_type": "code",
   "execution_count": 199,
   "id": "847acc49-4fef-4fa3-b301-3f090cf016b3",
   "metadata": {},
   "outputs": [],
   "source": [
    "X_train_reshaped = X_train_scaled.reshape(X_train_scaled.shape[0], 1, X_train_scaled.shape[1])\n",
    "X_test_reshaped = X_test_scaled.reshape(X_test_scaled.shape[0], 1, X_test_scaled.shape[1])"
   ]
  },
  {
   "cell_type": "code",
   "execution_count": 201,
   "id": "c74f23da-d7d1-42ec-a870-d9f192d7665d",
   "metadata": {},
   "outputs": [
    {
     "name": "stdout",
     "output_type": "stream",
     "text": [
      "Epoch 1/100\n",
      "26/26 [==============================] - 1s 11ms/step - loss: 21437.7695 - val_loss: 20965.1641\n",
      "Epoch 2/100\n",
      "26/26 [==============================] - 0s 4ms/step - loss: 21392.7305 - val_loss: 20914.5488\n",
      "Epoch 3/100\n",
      "26/26 [==============================] - 0s 4ms/step - loss: 21328.3418 - val_loss: 20835.6172\n",
      "Epoch 4/100\n",
      "26/26 [==============================] - 0s 3ms/step - loss: 21224.0645 - val_loss: 20706.1445\n",
      "Epoch 5/100\n",
      "26/26 [==============================] - 0s 3ms/step - loss: 21062.2383 - val_loss: 20514.5703\n",
      "Epoch 6/100\n",
      "26/26 [==============================] - 0s 3ms/step - loss: 20829.1152 - val_loss: 20246.3574\n",
      "Epoch 7/100\n",
      "26/26 [==============================] - 0s 4ms/step - loss: 20512.0527 - val_loss: 19891.1016\n",
      "Epoch 8/100\n",
      "26/26 [==============================] - 0s 7ms/step - loss: 20104.8633 - val_loss: 19442.9824\n",
      "Epoch 9/100\n",
      "26/26 [==============================] - 0s 3ms/step - loss: 19602.7227 - val_loss: 18909.1113\n",
      "Epoch 10/100\n",
      "26/26 [==============================] - 0s 4ms/step - loss: 19015.4297 - val_loss: 18291.3887\n",
      "Epoch 11/100\n",
      "26/26 [==============================] - 0s 4ms/step - loss: 18347.1289 - val_loss: 17602.9824\n",
      "Epoch 12/100\n",
      "26/26 [==============================] - 0s 4ms/step - loss: 17611.1562 - val_loss: 16855.5879\n",
      "Epoch 13/100\n",
      "26/26 [==============================] - 0s 4ms/step - loss: 16821.3789 - val_loss: 16057.3174\n",
      "Epoch 14/100\n",
      "26/26 [==============================] - 0s 3ms/step - loss: 15986.7363 - val_loss: 15224.0693\n",
      "Epoch 15/100\n",
      "26/26 [==============================] - 0s 4ms/step - loss: 15119.4297 - val_loss: 14368.7539\n",
      "Epoch 16/100\n",
      "26/26 [==============================] - 0s 4ms/step - loss: 14233.1299 - val_loss: 13498.0977\n",
      "Epoch 17/100\n",
      "26/26 [==============================] - 0s 4ms/step - loss: 13336.9287 - val_loss: 12619.4365\n",
      "Epoch 18/100\n",
      "26/26 [==============================] - 0s 4ms/step - loss: 12439.9316 - val_loss: 11741.5400\n",
      "Epoch 19/100\n",
      "26/26 [==============================] - 0s 3ms/step - loss: 11547.7598 - val_loss: 10876.8711\n",
      "Epoch 20/100\n",
      "26/26 [==============================] - 0s 3ms/step - loss: 10669.5918 - val_loss: 10030.1533\n",
      "Epoch 21/100\n",
      "26/26 [==============================] - 0s 4ms/step - loss: 9810.6406 - val_loss: 9207.8848\n",
      "Epoch 22/100\n",
      "26/26 [==============================] - 0s 4ms/step - loss: 8983.0947 - val_loss: 8402.8730\n",
      "Epoch 23/100\n",
      "26/26 [==============================] - 0s 5ms/step - loss: 8177.3965 - val_loss: 7638.8647\n",
      "Epoch 24/100\n",
      "26/26 [==============================] - 0s 4ms/step - loss: 7411.4565 - val_loss: 6906.2734\n",
      "Epoch 25/100\n",
      "26/26 [==============================] - 0s 4ms/step - loss: 6681.2607 - val_loss: 6211.6987\n",
      "Epoch 26/100\n",
      "26/26 [==============================] - 0s 3ms/step - loss: 5991.3779 - val_loss: 5557.4766\n",
      "Epoch 27/100\n",
      "26/26 [==============================] - 0s 5ms/step - loss: 5344.1758 - val_loss: 4944.6538\n",
      "Epoch 28/100\n",
      "26/26 [==============================] - 0s 4ms/step - loss: 4739.0527 - val_loss: 4377.5132\n",
      "Epoch 29/100\n",
      "26/26 [==============================] - 0s 3ms/step - loss: 4180.2358 - val_loss: 3851.6233\n",
      "Epoch 30/100\n",
      "26/26 [==============================] - 0s 5ms/step - loss: 3664.8489 - val_loss: 3370.2847\n",
      "Epoch 31/100\n",
      "26/26 [==============================] - 0s 3ms/step - loss: 3194.5833 - val_loss: 2931.2197\n",
      "Epoch 32/100\n",
      "26/26 [==============================] - 0s 3ms/step - loss: 2768.1584 - val_loss: 2533.4780\n",
      "Epoch 33/100\n",
      "26/26 [==============================] - 0s 4ms/step - loss: 2382.4727 - val_loss: 2179.4692\n",
      "Epoch 34/100\n",
      "26/26 [==============================] - 0s 4ms/step - loss: 2039.1858 - val_loss: 1863.6849\n",
      "Epoch 35/100\n",
      "26/26 [==============================] - 0s 3ms/step - loss: 1736.0337 - val_loss: 1581.0173\n",
      "Epoch 36/100\n",
      "26/26 [==============================] - 0s 4ms/step - loss: 1466.6516 - val_loss: 1336.4082\n",
      "Epoch 37/100\n",
      "26/26 [==============================] - 0s 4ms/step - loss: 1233.3265 - val_loss: 1122.6454\n",
      "Epoch 38/100\n",
      "26/26 [==============================] - 0s 4ms/step - loss: 1030.9402 - val_loss: 938.2984\n",
      "Epoch 39/100\n",
      "26/26 [==============================] - 0s 4ms/step - loss: 857.0914 - val_loss: 781.0354\n",
      "Epoch 40/100\n",
      "26/26 [==============================] - 0s 5ms/step - loss: 709.1592 - val_loss: 648.1673\n",
      "Epoch 41/100\n",
      "26/26 [==============================] - 0s 4ms/step - loss: 584.8345 - val_loss: 535.8362\n",
      "Epoch 42/100\n",
      "26/26 [==============================] - 0s 3ms/step - loss: 480.6312 - val_loss: 442.3019\n",
      "Epoch 43/100\n",
      "26/26 [==============================] - 0s 4ms/step - loss: 394.3437 - val_loss: 365.0972\n",
      "Epoch 44/100\n",
      "26/26 [==============================] - 0s 4ms/step - loss: 323.6184 - val_loss: 301.4380\n",
      "Epoch 45/100\n",
      "26/26 [==============================] - 0s 3ms/step - loss: 265.6091 - val_loss: 250.2813\n",
      "Epoch 46/100\n",
      "26/26 [==============================] - 0s 4ms/step - loss: 219.1304 - val_loss: 208.8320\n",
      "Epoch 47/100\n",
      "26/26 [==============================] - 0s 4ms/step - loss: 181.7681 - val_loss: 175.7869\n",
      "Epoch 48/100\n",
      "26/26 [==============================] - 0s 8ms/step - loss: 152.1501 - val_loss: 149.5672\n",
      "Epoch 49/100\n",
      "26/26 [==============================] - 0s 4ms/step - loss: 128.9408 - val_loss: 128.6440\n",
      "Epoch 50/100\n",
      "26/26 [==============================] - 0s 3ms/step - loss: 110.5424 - val_loss: 112.6420\n",
      "Epoch 51/100\n",
      "26/26 [==============================] - 0s 3ms/step - loss: 96.5481 - val_loss: 99.8650\n",
      "Epoch 52/100\n",
      "26/26 [==============================] - 0s 4ms/step - loss: 85.5475 - val_loss: 90.2473\n",
      "Epoch 53/100\n",
      "26/26 [==============================] - 0s 3ms/step - loss: 77.2841 - val_loss: 82.6507\n",
      "Epoch 54/100\n",
      "26/26 [==============================] - 0s 4ms/step - loss: 70.9106 - val_loss: 76.8725\n",
      "Epoch 55/100\n",
      "26/26 [==============================] - 0s 3ms/step - loss: 66.1173 - val_loss: 72.3736\n",
      "Epoch 56/100\n",
      "26/26 [==============================] - 0s 3ms/step - loss: 62.4389 - val_loss: 69.0150\n",
      "Epoch 57/100\n",
      "26/26 [==============================] - 0s 3ms/step - loss: 59.6847 - val_loss: 66.4090\n",
      "Epoch 58/100\n",
      "26/26 [==============================] - 0s 3ms/step - loss: 57.6216 - val_loss: 64.3205\n",
      "Epoch 59/100\n",
      "26/26 [==============================] - 0s 3ms/step - loss: 55.9822 - val_loss: 62.7700\n",
      "Epoch 60/100\n",
      "26/26 [==============================] - 0s 3ms/step - loss: 54.7688 - val_loss: 61.4760\n",
      "Epoch 61/100\n",
      "26/26 [==============================] - 0s 3ms/step - loss: 53.7949 - val_loss: 60.4334\n",
      "Epoch 62/100\n",
      "26/26 [==============================] - 0s 3ms/step - loss: 53.0106 - val_loss: 59.5998\n",
      "Epoch 63/100\n",
      "26/26 [==============================] - 0s 3ms/step - loss: 52.3940 - val_loss: 58.8437\n",
      "Epoch 64/100\n",
      "26/26 [==============================] - 0s 4ms/step - loss: 51.8434 - val_loss: 58.2336\n",
      "Epoch 65/100\n",
      "26/26 [==============================] - 0s 3ms/step - loss: 51.3772 - val_loss: 57.7094\n",
      "Epoch 66/100\n",
      "26/26 [==============================] - 0s 3ms/step - loss: 50.9796 - val_loss: 57.1584\n",
      "Epoch 67/100\n",
      "26/26 [==============================] - 0s 3ms/step - loss: 50.5832 - val_loss: 56.6979\n",
      "Epoch 68/100\n",
      "26/26 [==============================] - 0s 3ms/step - loss: 50.2292 - val_loss: 56.2628\n",
      "Epoch 69/100\n",
      "26/26 [==============================] - 0s 3ms/step - loss: 49.8924 - val_loss: 55.8439\n",
      "Epoch 70/100\n",
      "26/26 [==============================] - 0s 3ms/step - loss: 49.5757 - val_loss: 55.4046\n",
      "Epoch 71/100\n",
      "26/26 [==============================] - 0s 3ms/step - loss: 49.2589 - val_loss: 54.9909\n",
      "Epoch 72/100\n",
      "26/26 [==============================] - 0s 3ms/step - loss: 48.9359 - val_loss: 54.6168\n",
      "Epoch 73/100\n",
      "26/26 [==============================] - 0s 3ms/step - loss: 48.6330 - val_loss: 54.2265\n",
      "Epoch 74/100\n",
      "26/26 [==============================] - 0s 4ms/step - loss: 48.3273 - val_loss: 53.8478\n",
      "Epoch 75/100\n",
      "26/26 [==============================] - 0s 4ms/step - loss: 48.0221 - val_loss: 53.4780\n",
      "Epoch 76/100\n",
      "26/26 [==============================] - 0s 3ms/step - loss: 47.7279 - val_loss: 53.1080\n",
      "Epoch 77/100\n",
      "26/26 [==============================] - 0s 3ms/step - loss: 47.4350 - val_loss: 52.7279\n",
      "Epoch 78/100\n",
      "26/26 [==============================] - 0s 4ms/step - loss: 47.1211 - val_loss: 52.3644\n",
      "Epoch 79/100\n",
      "26/26 [==============================] - 0s 4ms/step - loss: 46.8267 - val_loss: 51.9985\n",
      "Epoch 80/100\n",
      "26/26 [==============================] - 0s 3ms/step - loss: 46.5280 - val_loss: 51.6402\n",
      "Epoch 81/100\n",
      "26/26 [==============================] - 0s 3ms/step - loss: 46.2341 - val_loss: 51.2638\n",
      "Epoch 82/100\n",
      "26/26 [==============================] - 0s 4ms/step - loss: 45.9358 - val_loss: 50.9006\n",
      "Epoch 83/100\n",
      "26/26 [==============================] - 0s 3ms/step - loss: 45.6422 - val_loss: 50.5646\n",
      "Epoch 84/100\n",
      "26/26 [==============================] - 0s 3ms/step - loss: 45.3539 - val_loss: 50.1793\n",
      "Epoch 85/100\n",
      "26/26 [==============================] - 0s 4ms/step - loss: 45.0570 - val_loss: 49.8274\n",
      "Epoch 86/100\n",
      "26/26 [==============================] - 0s 4ms/step - loss: 44.7666 - val_loss: 49.4708\n",
      "Epoch 87/100\n",
      "26/26 [==============================] - 0s 4ms/step - loss: 44.4779 - val_loss: 49.1234\n",
      "Epoch 88/100\n",
      "26/26 [==============================] - 0s 3ms/step - loss: 44.1922 - val_loss: 48.7831\n",
      "Epoch 89/100\n",
      "26/26 [==============================] - 0s 4ms/step - loss: 43.9049 - val_loss: 48.4162\n",
      "Epoch 90/100\n",
      "26/26 [==============================] - 0s 3ms/step - loss: 43.6184 - val_loss: 48.0596\n",
      "Epoch 91/100\n",
      "26/26 [==============================] - 0s 4ms/step - loss: 43.3342 - val_loss: 47.7183\n",
      "Epoch 92/100\n",
      "26/26 [==============================] - 0s 3ms/step - loss: 43.0487 - val_loss: 47.3822\n",
      "Epoch 93/100\n",
      "26/26 [==============================] - 0s 4ms/step - loss: 42.7670 - val_loss: 47.0428\n",
      "Epoch 94/100\n",
      "26/26 [==============================] - 0s 3ms/step - loss: 42.4884 - val_loss: 46.6944\n",
      "Epoch 95/100\n",
      "26/26 [==============================] - 0s 3ms/step - loss: 42.2185 - val_loss: 46.3708\n",
      "Epoch 96/100\n",
      "26/26 [==============================] - 0s 3ms/step - loss: 41.9342 - val_loss: 46.0146\n",
      "Epoch 97/100\n",
      "26/26 [==============================] - 0s 4ms/step - loss: 41.6568 - val_loss: 45.6683\n",
      "Epoch 98/100\n",
      "26/26 [==============================] - 0s 4ms/step - loss: 41.3826 - val_loss: 45.3653\n",
      "Epoch 99/100\n",
      "26/26 [==============================] - 0s 3ms/step - loss: 41.1162 - val_loss: 44.9923\n",
      "Epoch 100/100\n",
      "26/26 [==============================] - 0s 3ms/step - loss: 40.8325 - val_loss: 44.6841\n"
     ]
    },
    {
     "data": {
      "text/plain": [
       "<keras.src.callbacks.History at 0x7fa1e634ef80>"
      ]
     },
     "execution_count": 201,
     "metadata": {},
     "output_type": "execute_result"
    }
   ],
   "source": [
    "stock_model = Sequential()\n",
    "stock_model.add(LSTM(units=50, activation='relu', input_shape=(1, X_train_scaled.shape[1])))\n",
    "stock_model.add(Dense(units=1))\n",
    "\n",
    "stock_model.compile(optimizer='adam', loss='mean_squared_error')\n",
    "stock_model.fit(X_train_reshaped, y_train, epochs=100, batch_size=32, validation_data=(X_test_reshaped, y_test))\n"
   ]
  },
  {
   "cell_type": "code",
   "execution_count": 204,
   "id": "5868a7f2-1b3f-495d-a23e-adddfc48657a",
   "metadata": {},
   "outputs": [
    {
     "ename": "ValueError",
     "evalue": "The feature names should match those that were passed during fit.\nFeature names unseen at fit time:\n- Close\n- Date\n- Symbol\n",
     "output_type": "error",
     "traceback": [
      "\u001b[0;31m---------------------------------------------------------------------------\u001b[0m",
      "\u001b[0;31mValueError\u001b[0m                                Traceback (most recent call last)",
      "Cell \u001b[0;32mIn[204], line 4\u001b[0m\n\u001b[1;32m      1\u001b[0m new_data \u001b[38;5;241m=\u001b[39m apple_df\u001b[38;5;241m.\u001b[39mtail(\u001b[38;5;241m253\u001b[39m)\n\u001b[1;32m      3\u001b[0m \u001b[38;5;66;03m# Reshape the new data\u001b[39;00m\n\u001b[0;32m----> 4\u001b[0m new_data_scaled \u001b[38;5;241m=\u001b[39m \u001b[43mscaler\u001b[49m\u001b[38;5;241;43m.\u001b[39;49m\u001b[43mtransform\u001b[49m\u001b[43m(\u001b[49m\u001b[43mnew_data\u001b[49m\u001b[43m)\u001b[49m\n\u001b[1;32m      5\u001b[0m new_data_reshaped \u001b[38;5;241m=\u001b[39m new_data_scaled\u001b[38;5;241m.\u001b[39mreshape(new_data_scaled\u001b[38;5;241m.\u001b[39mshape[\u001b[38;5;241m0\u001b[39m], \u001b[38;5;241m1\u001b[39m, new_data_scaled\u001b[38;5;241m.\u001b[39mshape[\u001b[38;5;241m1\u001b[39m])\n\u001b[1;32m      7\u001b[0m \u001b[38;5;66;03m# Use the trained model to predict the output\u001b[39;00m\n",
      "File \u001b[0;32m~/anaconda3/envs/dev/lib/python3.10/site-packages/sklearn/utils/_set_output.py:140\u001b[0m, in \u001b[0;36m_wrap_method_output.<locals>.wrapped\u001b[0;34m(self, X, *args, **kwargs)\u001b[0m\n\u001b[1;32m    138\u001b[0m \u001b[38;5;129m@wraps\u001b[39m(f)\n\u001b[1;32m    139\u001b[0m \u001b[38;5;28;01mdef\u001b[39;00m \u001b[38;5;21mwrapped\u001b[39m(\u001b[38;5;28mself\u001b[39m, X, \u001b[38;5;241m*\u001b[39margs, \u001b[38;5;241m*\u001b[39m\u001b[38;5;241m*\u001b[39mkwargs):\n\u001b[0;32m--> 140\u001b[0m     data_to_wrap \u001b[38;5;241m=\u001b[39m \u001b[43mf\u001b[49m\u001b[43m(\u001b[49m\u001b[38;5;28;43mself\u001b[39;49m\u001b[43m,\u001b[49m\u001b[43m \u001b[49m\u001b[43mX\u001b[49m\u001b[43m,\u001b[49m\u001b[43m \u001b[49m\u001b[38;5;241;43m*\u001b[39;49m\u001b[43margs\u001b[49m\u001b[43m,\u001b[49m\u001b[43m \u001b[49m\u001b[38;5;241;43m*\u001b[39;49m\u001b[38;5;241;43m*\u001b[39;49m\u001b[43mkwargs\u001b[49m\u001b[43m)\u001b[49m\n\u001b[1;32m    141\u001b[0m     \u001b[38;5;28;01mif\u001b[39;00m \u001b[38;5;28misinstance\u001b[39m(data_to_wrap, \u001b[38;5;28mtuple\u001b[39m):\n\u001b[1;32m    142\u001b[0m         \u001b[38;5;66;03m# only wrap the first output for cross decomposition\u001b[39;00m\n\u001b[1;32m    143\u001b[0m         \u001b[38;5;28;01mreturn\u001b[39;00m (\n\u001b[1;32m    144\u001b[0m             _wrap_data_with_container(method, data_to_wrap[\u001b[38;5;241m0\u001b[39m], X, \u001b[38;5;28mself\u001b[39m),\n\u001b[1;32m    145\u001b[0m             \u001b[38;5;241m*\u001b[39mdata_to_wrap[\u001b[38;5;241m1\u001b[39m:],\n\u001b[1;32m    146\u001b[0m         )\n",
      "File \u001b[0;32m~/anaconda3/envs/dev/lib/python3.10/site-packages/sklearn/preprocessing/_data.py:508\u001b[0m, in \u001b[0;36mMinMaxScaler.transform\u001b[0;34m(self, X)\u001b[0m\n\u001b[1;32m    494\u001b[0m \u001b[38;5;250m\u001b[39m\u001b[38;5;124;03m\"\"\"Scale features of X according to feature_range.\u001b[39;00m\n\u001b[1;32m    495\u001b[0m \n\u001b[1;32m    496\u001b[0m \u001b[38;5;124;03mParameters\u001b[39;00m\n\u001b[0;32m   (...)\u001b[0m\n\u001b[1;32m    504\u001b[0m \u001b[38;5;124;03m    Transformed data.\u001b[39;00m\n\u001b[1;32m    505\u001b[0m \u001b[38;5;124;03m\"\"\"\u001b[39;00m\n\u001b[1;32m    506\u001b[0m check_is_fitted(\u001b[38;5;28mself\u001b[39m)\n\u001b[0;32m--> 508\u001b[0m X \u001b[38;5;241m=\u001b[39m \u001b[38;5;28;43mself\u001b[39;49m\u001b[38;5;241;43m.\u001b[39;49m\u001b[43m_validate_data\u001b[49m\u001b[43m(\u001b[49m\n\u001b[1;32m    509\u001b[0m \u001b[43m    \u001b[49m\u001b[43mX\u001b[49m\u001b[43m,\u001b[49m\n\u001b[1;32m    510\u001b[0m \u001b[43m    \u001b[49m\u001b[43mcopy\u001b[49m\u001b[38;5;241;43m=\u001b[39;49m\u001b[38;5;28;43mself\u001b[39;49m\u001b[38;5;241;43m.\u001b[39;49m\u001b[43mcopy\u001b[49m\u001b[43m,\u001b[49m\n\u001b[1;32m    511\u001b[0m \u001b[43m    \u001b[49m\u001b[43mdtype\u001b[49m\u001b[38;5;241;43m=\u001b[39;49m\u001b[43mFLOAT_DTYPES\u001b[49m\u001b[43m,\u001b[49m\n\u001b[1;32m    512\u001b[0m \u001b[43m    \u001b[49m\u001b[43mforce_all_finite\u001b[49m\u001b[38;5;241;43m=\u001b[39;49m\u001b[38;5;124;43m\"\u001b[39;49m\u001b[38;5;124;43mallow-nan\u001b[39;49m\u001b[38;5;124;43m\"\u001b[39;49m\u001b[43m,\u001b[49m\n\u001b[1;32m    513\u001b[0m \u001b[43m    \u001b[49m\u001b[43mreset\u001b[49m\u001b[38;5;241;43m=\u001b[39;49m\u001b[38;5;28;43;01mFalse\u001b[39;49;00m\u001b[43m,\u001b[49m\n\u001b[1;32m    514\u001b[0m \u001b[43m\u001b[49m\u001b[43m)\u001b[49m\n\u001b[1;32m    516\u001b[0m X \u001b[38;5;241m*\u001b[39m\u001b[38;5;241m=\u001b[39m \u001b[38;5;28mself\u001b[39m\u001b[38;5;241m.\u001b[39mscale_\n\u001b[1;32m    517\u001b[0m X \u001b[38;5;241m+\u001b[39m\u001b[38;5;241m=\u001b[39m \u001b[38;5;28mself\u001b[39m\u001b[38;5;241m.\u001b[39mmin_\n",
      "File \u001b[0;32m~/anaconda3/envs/dev/lib/python3.10/site-packages/sklearn/base.py:548\u001b[0m, in \u001b[0;36mBaseEstimator._validate_data\u001b[0;34m(self, X, y, reset, validate_separately, **check_params)\u001b[0m\n\u001b[1;32m    483\u001b[0m \u001b[38;5;28;01mdef\u001b[39;00m \u001b[38;5;21m_validate_data\u001b[39m(\n\u001b[1;32m    484\u001b[0m     \u001b[38;5;28mself\u001b[39m,\n\u001b[1;32m    485\u001b[0m     X\u001b[38;5;241m=\u001b[39m\u001b[38;5;124m\"\u001b[39m\u001b[38;5;124mno_validation\u001b[39m\u001b[38;5;124m\"\u001b[39m,\n\u001b[0;32m   (...)\u001b[0m\n\u001b[1;32m    489\u001b[0m     \u001b[38;5;241m*\u001b[39m\u001b[38;5;241m*\u001b[39mcheck_params,\n\u001b[1;32m    490\u001b[0m ):\n\u001b[1;32m    491\u001b[0m \u001b[38;5;250m    \u001b[39m\u001b[38;5;124;03m\"\"\"Validate input data and set or check the `n_features_in_` attribute.\u001b[39;00m\n\u001b[1;32m    492\u001b[0m \n\u001b[1;32m    493\u001b[0m \u001b[38;5;124;03m    Parameters\u001b[39;00m\n\u001b[0;32m   (...)\u001b[0m\n\u001b[1;32m    546\u001b[0m \u001b[38;5;124;03m        validated.\u001b[39;00m\n\u001b[1;32m    547\u001b[0m \u001b[38;5;124;03m    \"\"\"\u001b[39;00m\n\u001b[0;32m--> 548\u001b[0m     \u001b[38;5;28;43mself\u001b[39;49m\u001b[38;5;241;43m.\u001b[39;49m\u001b[43m_check_feature_names\u001b[49m\u001b[43m(\u001b[49m\u001b[43mX\u001b[49m\u001b[43m,\u001b[49m\u001b[43m \u001b[49m\u001b[43mreset\u001b[49m\u001b[38;5;241;43m=\u001b[39;49m\u001b[43mreset\u001b[49m\u001b[43m)\u001b[49m\n\u001b[1;32m    550\u001b[0m     \u001b[38;5;28;01mif\u001b[39;00m y \u001b[38;5;129;01mis\u001b[39;00m \u001b[38;5;28;01mNone\u001b[39;00m \u001b[38;5;129;01mand\u001b[39;00m \u001b[38;5;28mself\u001b[39m\u001b[38;5;241m.\u001b[39m_get_tags()[\u001b[38;5;124m\"\u001b[39m\u001b[38;5;124mrequires_y\u001b[39m\u001b[38;5;124m\"\u001b[39m]:\n\u001b[1;32m    551\u001b[0m         \u001b[38;5;28;01mraise\u001b[39;00m \u001b[38;5;167;01mValueError\u001b[39;00m(\n\u001b[1;32m    552\u001b[0m             \u001b[38;5;124mf\u001b[39m\u001b[38;5;124m\"\u001b[39m\u001b[38;5;124mThis \u001b[39m\u001b[38;5;132;01m{\u001b[39;00m\u001b[38;5;28mself\u001b[39m\u001b[38;5;241m.\u001b[39m\u001b[38;5;18m__class__\u001b[39m\u001b[38;5;241m.\u001b[39m\u001b[38;5;18m__name__\u001b[39m\u001b[38;5;132;01m}\u001b[39;00m\u001b[38;5;124m estimator \u001b[39m\u001b[38;5;124m\"\u001b[39m\n\u001b[1;32m    553\u001b[0m             \u001b[38;5;124m\"\u001b[39m\u001b[38;5;124mrequires y to be passed, but the target y is None.\u001b[39m\u001b[38;5;124m\"\u001b[39m\n\u001b[1;32m    554\u001b[0m         )\n",
      "File \u001b[0;32m~/anaconda3/envs/dev/lib/python3.10/site-packages/sklearn/base.py:481\u001b[0m, in \u001b[0;36mBaseEstimator._check_feature_names\u001b[0;34m(self, X, reset)\u001b[0m\n\u001b[1;32m    476\u001b[0m \u001b[38;5;28;01mif\u001b[39;00m \u001b[38;5;129;01mnot\u001b[39;00m missing_names \u001b[38;5;129;01mand\u001b[39;00m \u001b[38;5;129;01mnot\u001b[39;00m unexpected_names:\n\u001b[1;32m    477\u001b[0m     message \u001b[38;5;241m+\u001b[39m\u001b[38;5;241m=\u001b[39m (\n\u001b[1;32m    478\u001b[0m         \u001b[38;5;124m\"\u001b[39m\u001b[38;5;124mFeature names must be in the same order as they were in fit.\u001b[39m\u001b[38;5;130;01m\\n\u001b[39;00m\u001b[38;5;124m\"\u001b[39m\n\u001b[1;32m    479\u001b[0m     )\n\u001b[0;32m--> 481\u001b[0m \u001b[38;5;28;01mraise\u001b[39;00m \u001b[38;5;167;01mValueError\u001b[39;00m(message)\n",
      "\u001b[0;31mValueError\u001b[0m: The feature names should match those that were passed during fit.\nFeature names unseen at fit time:\n- Close\n- Date\n- Symbol\n"
     ]
    }
   ],
   "source": [
    "new_data = apple_df.tail(253)\n",
    "\n",
    "# Reshape the new data\n",
    "new_data_scaled = scaler.transform(new_data)\n",
    "new_data_reshaped = new_data_scaled.reshape(new_data_scaled.shape[0], 1, new_data_scaled.shape[1])\n",
    "\n",
    "# Use the trained model to predict the output\n",
    "predictions = stock_model.predict(new_data_reshaped)\n",
    "\n",
    "# Inverse transform the predicted values if you scaled the data\n",
    "predictions_unscaled = scaler.inverse_transform(predictions)"
   ]
  },
  {
   "cell_type": "code",
   "execution_count": 193,
   "id": "e7398495-f89e-41ae-8809-0419a0c34a52",
   "metadata": {},
   "outputs": [
    {
     "data": {
      "text/html": [
       "<div>\n",
       "<style scoped>\n",
       "    .dataframe tbody tr th:only-of-type {\n",
       "        vertical-align: middle;\n",
       "    }\n",
       "\n",
       "    .dataframe tbody tr th {\n",
       "        vertical-align: top;\n",
       "    }\n",
       "\n",
       "    .dataframe thead th {\n",
       "        text-align: right;\n",
       "    }\n",
       "</style>\n",
       "<table border=\"1\" class=\"dataframe\">\n",
       "  <thead>\n",
       "    <tr style=\"text-align: right;\">\n",
       "      <th></th>\n",
       "      <th>Adj Close</th>\n",
       "      <th>Close</th>\n",
       "      <th>High</th>\n",
       "      <th>Low</th>\n",
       "      <th>Open</th>\n",
       "      <th>Volume</th>\n",
       "    </tr>\n",
       "    <tr>\n",
       "      <th>Date</th>\n",
       "      <th></th>\n",
       "      <th></th>\n",
       "      <th></th>\n",
       "      <th></th>\n",
       "      <th></th>\n",
       "      <th></th>\n",
       "    </tr>\n",
       "  </thead>\n",
       "  <tbody>\n",
       "    <tr>\n",
       "      <th>2020-01-02</th>\n",
       "      <td>73.059410</td>\n",
       "      <td>75.087502</td>\n",
       "      <td>75.150002</td>\n",
       "      <td>73.797501</td>\n",
       "      <td>74.059998</td>\n",
       "      <td>135480400.0</td>\n",
       "    </tr>\n",
       "    <tr>\n",
       "      <th>2020-01-03</th>\n",
       "      <td>72.349152</td>\n",
       "      <td>74.357498</td>\n",
       "      <td>75.144997</td>\n",
       "      <td>74.125000</td>\n",
       "      <td>74.287498</td>\n",
       "      <td>146322800.0</td>\n",
       "    </tr>\n",
       "    <tr>\n",
       "      <th>2020-01-06</th>\n",
       "      <td>72.925644</td>\n",
       "      <td>74.949997</td>\n",
       "      <td>74.989998</td>\n",
       "      <td>73.187500</td>\n",
       "      <td>73.447502</td>\n",
       "      <td>118387200.0</td>\n",
       "    </tr>\n",
       "    <tr>\n",
       "      <th>2020-01-07</th>\n",
       "      <td>72.582657</td>\n",
       "      <td>74.597504</td>\n",
       "      <td>75.224998</td>\n",
       "      <td>74.370003</td>\n",
       "      <td>74.959999</td>\n",
       "      <td>108872000.0</td>\n",
       "    </tr>\n",
       "    <tr>\n",
       "      <th>2020-01-08</th>\n",
       "      <td>73.750252</td>\n",
       "      <td>75.797501</td>\n",
       "      <td>76.110001</td>\n",
       "      <td>74.290001</td>\n",
       "      <td>74.290001</td>\n",
       "      <td>132079200.0</td>\n",
       "    </tr>\n",
       "    <tr>\n",
       "      <th>...</th>\n",
       "      <td>...</td>\n",
       "      <td>...</td>\n",
       "      <td>...</td>\n",
       "      <td>...</td>\n",
       "      <td>...</td>\n",
       "      <td>...</td>\n",
       "    </tr>\n",
       "    <tr>\n",
       "      <th>2024-02-09</th>\n",
       "      <td>188.850006</td>\n",
       "      <td>188.850006</td>\n",
       "      <td>189.990005</td>\n",
       "      <td>188.000000</td>\n",
       "      <td>188.649994</td>\n",
       "      <td>45155200.0</td>\n",
       "    </tr>\n",
       "    <tr>\n",
       "      <th>2024-02-12</th>\n",
       "      <td>187.149994</td>\n",
       "      <td>187.149994</td>\n",
       "      <td>188.669998</td>\n",
       "      <td>186.789993</td>\n",
       "      <td>188.419998</td>\n",
       "      <td>41781900.0</td>\n",
       "    </tr>\n",
       "    <tr>\n",
       "      <th>2024-02-13</th>\n",
       "      <td>185.039993</td>\n",
       "      <td>185.039993</td>\n",
       "      <td>186.210007</td>\n",
       "      <td>183.509995</td>\n",
       "      <td>185.770004</td>\n",
       "      <td>56529500.0</td>\n",
       "    </tr>\n",
       "    <tr>\n",
       "      <th>2024-02-14</th>\n",
       "      <td>184.149994</td>\n",
       "      <td>184.149994</td>\n",
       "      <td>185.529999</td>\n",
       "      <td>182.440002</td>\n",
       "      <td>185.320007</td>\n",
       "      <td>54630500.0</td>\n",
       "    </tr>\n",
       "    <tr>\n",
       "      <th>2024-02-15</th>\n",
       "      <td>183.860001</td>\n",
       "      <td>183.860001</td>\n",
       "      <td>184.490005</td>\n",
       "      <td>181.399994</td>\n",
       "      <td>183.550003</td>\n",
       "      <td>63936069.0</td>\n",
       "    </tr>\n",
       "  </tbody>\n",
       "</table>\n",
       "<p>1038 rows × 6 columns</p>\n",
       "</div>"
      ],
      "text/plain": [
       "             Adj Close       Close        High         Low        Open  \\\n",
       "Date                                                                     \n",
       "2020-01-02   73.059410   75.087502   75.150002   73.797501   74.059998   \n",
       "2020-01-03   72.349152   74.357498   75.144997   74.125000   74.287498   \n",
       "2020-01-06   72.925644   74.949997   74.989998   73.187500   73.447502   \n",
       "2020-01-07   72.582657   74.597504   75.224998   74.370003   74.959999   \n",
       "2020-01-08   73.750252   75.797501   76.110001   74.290001   74.290001   \n",
       "...                ...         ...         ...         ...         ...   \n",
       "2024-02-09  188.850006  188.850006  189.990005  188.000000  188.649994   \n",
       "2024-02-12  187.149994  187.149994  188.669998  186.789993  188.419998   \n",
       "2024-02-13  185.039993  185.039993  186.210007  183.509995  185.770004   \n",
       "2024-02-14  184.149994  184.149994  185.529999  182.440002  185.320007   \n",
       "2024-02-15  183.860001  183.860001  184.490005  181.399994  183.550003   \n",
       "\n",
       "                 Volume  \n",
       "Date                     \n",
       "2020-01-02  135480400.0  \n",
       "2020-01-03  146322800.0  \n",
       "2020-01-06  118387200.0  \n",
       "2020-01-07  108872000.0  \n",
       "2020-01-08  132079200.0  \n",
       "...                 ...  \n",
       "2024-02-09   45155200.0  \n",
       "2024-02-12   41781900.0  \n",
       "2024-02-13   56529500.0  \n",
       "2024-02-14   54630500.0  \n",
       "2024-02-15   63936069.0  \n",
       "\n",
       "[1038 rows x 6 columns]"
      ]
     },
     "execution_count": 193,
     "metadata": {},
     "output_type": "execute_result"
    }
   ],
   "source": [
    "new_apple_df"
   ]
  },
  {
   "cell_type": "code",
   "execution_count": 194,
   "id": "d84c02f4-c604-449b-a4a7-f88457bfafd7",
   "metadata": {},
   "outputs": [
    {
     "data": {
      "text/plain": [
       "array([[0.9057199 ],\n",
       "       [0.9036873 ],\n",
       "       [0.72492987],\n",
       "       [0.6132771 ],\n",
       "       [0.5469324 ],\n",
       "       [0.51048875],\n",
       "       [0.49422604],\n",
       "       [0.4904759 ],\n",
       "       [0.49334455],\n",
       "       [0.49874985],\n",
       "       [0.50425804],\n",
       "       [0.50872207],\n",
       "       [0.51184285],\n",
       "       [0.5137747 ],\n",
       "       [0.5148412 ],\n",
       "       [0.5153686 ],\n",
       "       [0.51561105],\n",
       "       [0.5157357 ],\n",
       "       [0.51583433],\n",
       "       [0.5159466 ],\n",
       "       [0.5160817 ],\n",
       "       [0.51623327],\n",
       "       [0.51639116],\n",
       "       [0.5165459 ],\n",
       "       [0.51669097],\n",
       "       [0.5168231 ],\n",
       "       [0.51694155],\n",
       "       [0.5170468 ],\n",
       "       [0.51714057],\n",
       "       [0.5172244 ],\n",
       "       [0.51729965],\n",
       "       [0.5173679 ],\n",
       "       [0.51743007],\n",
       "       [0.5174869 ],\n",
       "       [0.51753885],\n",
       "       [0.51758647],\n",
       "       [0.51763   ],\n",
       "       [0.5176697 ],\n",
       "       [0.5177058 ],\n",
       "       [0.51773846],\n",
       "       [0.51776797],\n",
       "       [0.5177945 ],\n",
       "       [0.5178184 ],\n",
       "       [0.51783967],\n",
       "       [0.51785856],\n",
       "       [0.5178753 ],\n",
       "       [0.5178901 ],\n",
       "       [0.51790303],\n",
       "       [0.51791435],\n",
       "       [0.51792413],\n",
       "       [0.51793265],\n",
       "       [0.51794004],\n",
       "       [0.51794636],\n",
       "       [0.5179517 ],\n",
       "       [0.51795644],\n",
       "       [0.51796037],\n",
       "       [0.5179637 ],\n",
       "       [0.5179665 ],\n",
       "       [0.51796883],\n",
       "       [0.5179708 ],\n",
       "       [0.5179725 ],\n",
       "       [0.51797396],\n",
       "       [0.51797396],\n",
       "       [0.51797396],\n",
       "       [0.51797396],\n",
       "       [0.51797396],\n",
       "       [0.51797396],\n",
       "       [0.51797396],\n",
       "       [0.51797396],\n",
       "       [0.51797396],\n",
       "       [0.51797396],\n",
       "       [0.51797396],\n",
       "       [0.51797396],\n",
       "       [0.51797396],\n",
       "       [0.51797396],\n",
       "       [0.51797396],\n",
       "       [0.51797396],\n",
       "       [0.51797396],\n",
       "       [0.51797396],\n",
       "       [0.51797396],\n",
       "       [0.51797396],\n",
       "       [0.51797396],\n",
       "       [0.51797396],\n",
       "       [0.51797396],\n",
       "       [0.51797396],\n",
       "       [0.51797396],\n",
       "       [0.51797396],\n",
       "       [0.51797396],\n",
       "       [0.51797396],\n",
       "       [0.51797396],\n",
       "       [0.51797396],\n",
       "       [0.51797396],\n",
       "       [0.51797396],\n",
       "       [0.51797396],\n",
       "       [0.51797396],\n",
       "       [0.51797396],\n",
       "       [0.51797396],\n",
       "       [0.51797396],\n",
       "       [0.51797396],\n",
       "       [0.51797396],\n",
       "       [0.51797396],\n",
       "       [0.51797396],\n",
       "       [0.51797396],\n",
       "       [0.51797396],\n",
       "       [0.51797396],\n",
       "       [0.51797396],\n",
       "       [0.51797396],\n",
       "       [0.51797396],\n",
       "       [0.51797396],\n",
       "       [0.51797396],\n",
       "       [0.51797396],\n",
       "       [0.51797396],\n",
       "       [0.51797396],\n",
       "       [0.51797396],\n",
       "       [0.51797396],\n",
       "       [0.51797396],\n",
       "       [0.51797396],\n",
       "       [0.51797396],\n",
       "       [0.51797396],\n",
       "       [0.51797396],\n",
       "       [0.51797396],\n",
       "       [0.51797396],\n",
       "       [0.51797396],\n",
       "       [0.51797396],\n",
       "       [0.51797396],\n",
       "       [0.51797396],\n",
       "       [0.51797396],\n",
       "       [0.51797396],\n",
       "       [0.51797396],\n",
       "       [0.51797396],\n",
       "       [0.51797396],\n",
       "       [0.51797396],\n",
       "       [0.51797396],\n",
       "       [0.51797396],\n",
       "       [0.51797396],\n",
       "       [0.51797396],\n",
       "       [0.51797396],\n",
       "       [0.51797396],\n",
       "       [0.51797396],\n",
       "       [0.51797396],\n",
       "       [0.51797396],\n",
       "       [0.51797396],\n",
       "       [0.51797396],\n",
       "       [0.51797396],\n",
       "       [0.51797396],\n",
       "       [0.51797396],\n",
       "       [0.51797396],\n",
       "       [0.51797396],\n",
       "       [0.51797396],\n",
       "       [0.51797396],\n",
       "       [0.51797396],\n",
       "       [0.51797396],\n",
       "       [0.51797396],\n",
       "       [0.51797396],\n",
       "       [0.51797396],\n",
       "       [0.51797396],\n",
       "       [0.51797396],\n",
       "       [0.51797396],\n",
       "       [0.51797396],\n",
       "       [0.51797396],\n",
       "       [0.51797396],\n",
       "       [0.51797396],\n",
       "       [0.51797396],\n",
       "       [0.51797396],\n",
       "       [0.51797396],\n",
       "       [0.51797396],\n",
       "       [0.51797396],\n",
       "       [0.51797396],\n",
       "       [0.51797396],\n",
       "       [0.51797396],\n",
       "       [0.51797396],\n",
       "       [0.51797396],\n",
       "       [0.51797396],\n",
       "       [0.51797396],\n",
       "       [0.51797396],\n",
       "       [0.51797396],\n",
       "       [0.51797396],\n",
       "       [0.51797396],\n",
       "       [0.51797396],\n",
       "       [0.51797396],\n",
       "       [0.51797396],\n",
       "       [0.51797396],\n",
       "       [0.51797396],\n",
       "       [0.51797396],\n",
       "       [0.51797396],\n",
       "       [0.51797396],\n",
       "       [0.51797396],\n",
       "       [0.51797396],\n",
       "       [0.51797396],\n",
       "       [0.51797396],\n",
       "       [0.51797396],\n",
       "       [0.51797396],\n",
       "       [0.51797396],\n",
       "       [0.51797396],\n",
       "       [0.51797396],\n",
       "       [0.51797396],\n",
       "       [0.51797396],\n",
       "       [0.51797396],\n",
       "       [0.51797396],\n",
       "       [0.51797396],\n",
       "       [0.51797396],\n",
       "       [0.51797396],\n",
       "       [0.51797396],\n",
       "       [0.51797396],\n",
       "       [0.51797396],\n",
       "       [0.51797396],\n",
       "       [0.51797396],\n",
       "       [0.51797396],\n",
       "       [0.51797396],\n",
       "       [0.51797396],\n",
       "       [0.51797396],\n",
       "       [0.51797396],\n",
       "       [0.51797396],\n",
       "       [0.51797396],\n",
       "       [0.51797396],\n",
       "       [0.51797396],\n",
       "       [0.51797396],\n",
       "       [0.51797396],\n",
       "       [0.51797396],\n",
       "       [0.51797396],\n",
       "       [0.51797396],\n",
       "       [0.51797396],\n",
       "       [0.51797396],\n",
       "       [0.51797396],\n",
       "       [0.51797396],\n",
       "       [0.51797396],\n",
       "       [0.51797396],\n",
       "       [0.51797396],\n",
       "       [0.51797396],\n",
       "       [0.51797396],\n",
       "       [0.51797396],\n",
       "       [0.51797396],\n",
       "       [0.51797396],\n",
       "       [0.51797396],\n",
       "       [0.51797396],\n",
       "       [0.51797396],\n",
       "       [0.51797396],\n",
       "       [0.51797396],\n",
       "       [0.51797396],\n",
       "       [0.51797396],\n",
       "       [0.51797396],\n",
       "       [0.51797396],\n",
       "       [0.51797396],\n",
       "       [0.51797396],\n",
       "       [0.51797396],\n",
       "       [0.51797396],\n",
       "       [0.51797396],\n",
       "       [0.51797396],\n",
       "       [0.51797396],\n",
       "       [0.51797396],\n",
       "       [0.51797396],\n",
       "       [0.51797396],\n",
       "       [0.51797396]], dtype=float32)"
      ]
     },
     "execution_count": 194,
     "metadata": {},
     "output_type": "execute_result"
    }
   ],
   "source": [
    "predicted_values_scaled"
   ]
  },
  {
   "cell_type": "code",
   "execution_count": 190,
   "id": "6c9a33ac-e9ad-4f54-bdd0-5e4f6a99df04",
   "metadata": {
    "scrolled": true
   },
   "outputs": [
    {
     "name": "stdout",
     "output_type": "stream",
     "text": [
      "      Adj Close      Close    High      Low   Open      Volume\n",
      "0    184.361278  56.092499  57.125  53.1525  57.02  24048300.0\n",
      "1    184.070314  56.092499  57.125  53.1525  57.02  24048300.0\n",
      "2    158.481092  56.092499  57.125  53.1525  57.02  24048300.0\n",
      "3    142.497935  56.092499  57.125  53.1525  57.02  24048300.0\n",
      "4    133.000659  56.092499  57.125  53.1525  57.02  24048300.0\n",
      "..          ...        ...     ...      ...    ...         ...\n",
      "248  128.855243  56.092499  57.125  53.1525  57.02  24048300.0\n",
      "249  128.855243  56.092499  57.125  53.1525  57.02  24048300.0\n",
      "250  128.855243  56.092499  57.125  53.1525  57.02  24048300.0\n",
      "251  128.855243  56.092499  57.125  53.1525  57.02  24048300.0\n",
      "252  128.855243  56.092499  57.125  53.1525  57.02  24048300.0\n",
      "\n",
      "[253 rows x 6 columns]\n"
     ]
    }
   ],
   "source": [
    "predicted_values_df = pd.DataFrame(predicted_values, columns=['Adj Close', 'Close',\t'High',\t'Low',\t'Open',\t'Volume'])\n",
    "print(predicted_values_df)"
   ]
  },
  {
   "cell_type": "code",
   "execution_count": 191,
   "id": "3814a2e0-fce2-4088-b941-9b99d0e57c11",
   "metadata": {},
   "outputs": [
    {
     "name": "stdout",
     "output_type": "stream",
     "text": [
      "126.89180111652671\n",
      "172.309539794921\n"
     ]
    }
   ],
   "source": [
    "print(predicted_values_df['Adj Close'].iloc[10])\n",
    "print(new_apple_df['Adj Close'].iloc[855])"
   ]
  },
  {
   "cell_type": "code",
   "execution_count": 347,
   "id": "102fd727-1bde-441f-bffe-655966d19619",
   "metadata": {
    "scrolled": true
   },
   "outputs": [
    {
     "data": {
      "text/plain": [
       "array([[Timestamp('2024-02-15 00:00:00'), 183.860000610351]], dtype=object)"
      ]
     },
     "execution_count": 347,
     "metadata": {},
     "output_type": "execute_result"
    }
   ],
   "source": [
    "valid_data"
   ]
  },
  {
   "cell_type": "code",
   "execution_count": 348,
   "id": "2c88193e-a6bd-42af-83bc-898ab071fc3d",
   "metadata": {},
   "outputs": [],
   "source": [
    "import numpy as np\n",
    "\n",
    "# Assuming valid_data is a NumPy array with at least one element\n",
    "timestamp = valid_data[0][0]  # Accessing the timestamp value from the NumPy array\n",
    "\n",
    "# Extract the date part\n",
    "date_only = timestamp.date()\n",
    "\n",
    "# Now date_only contains the date without the timestamp"
   ]
  },
  {
   "cell_type": "code",
   "execution_count": 349,
   "id": "fb0695d7-aac8-400d-8d5d-aae4424ead40",
   "metadata": {},
   "outputs": [
    {
     "data": {
      "text/plain": [
       "array([[Timestamp('2024-02-15 00:00:00'), 183.860000610351]], dtype=object)"
      ]
     },
     "execution_count": 349,
     "metadata": {},
     "output_type": "execute_result"
    }
   ],
   "source": [
    "valid_data"
   ]
  },
  {
   "cell_type": "code",
   "execution_count": 350,
   "id": "3cf4cbcf-98ad-4338-b318-db4f8a291c9f",
   "metadata": {
    "scrolled": true
   },
   "outputs": [
    {
     "name": "stderr",
     "output_type": "stream",
     "text": [
      "/var/folders/by/st2c4w_96757fgwg7jsfc4480000gn/T/ipykernel_67404/519016746.py:3: SettingWithCopyWarning: \n",
      "A value is trying to be set on a copy of a slice from a DataFrame.\n",
      "Try using .loc[row_indexer,col_indexer] = value instead\n",
      "\n",
      "See the caveats in the documentation: https://pandas.pydata.org/pandas-docs/stable/user_guide/indexing.html#returning-a-view-versus-a-copy\n",
      "  valid_data['Predictions']=predicted_closing_price\n"
     ]
    },
    {
     "data": {
      "text/html": [
       "<div>\n",
       "<style scoped>\n",
       "    .dataframe tbody tr th:only-of-type {\n",
       "        vertical-align: middle;\n",
       "    }\n",
       "\n",
       "    .dataframe tbody tr th {\n",
       "        vertical-align: top;\n",
       "    }\n",
       "\n",
       "    .dataframe thead th {\n",
       "        text-align: right;\n",
       "    }\n",
       "</style>\n",
       "<table border=\"1\" class=\"dataframe\">\n",
       "  <thead>\n",
       "    <tr style=\"text-align: right;\">\n",
       "      <th></th>\n",
       "      <th>Close</th>\n",
       "      <th>Predictions</th>\n",
       "    </tr>\n",
       "  </thead>\n",
       "  <tbody>\n",
       "    <tr>\n",
       "      <th>1037</th>\n",
       "      <td>183.860001</td>\n",
       "      <td>189.635147</td>\n",
       "    </tr>\n",
       "  </tbody>\n",
       "</table>\n",
       "</div>"
      ],
      "text/plain": [
       "           Close  Predictions\n",
       "1037  183.860001   189.635147"
      ]
     },
     "execution_count": 350,
     "metadata": {},
     "output_type": "execute_result"
    }
   ],
   "source": [
    "train_data=new_dataset[:1037]\n",
    "valid_data=new_dataset[1037:]\n",
    "valid_data['Predictions']=predicted_closing_price\n",
    "valid_data"
   ]
  },
  {
   "cell_type": "code",
   "execution_count": 351,
   "id": "4790d199-284e-4b47-8bcc-bb6f7afebbbc",
   "metadata": {},
   "outputs": [
    {
     "name": "stdout",
     "output_type": "stream",
     "text": [
      "1/1 [==============================] - 0s 20ms/step\n",
      "1/1 [==============================] - 0s 21ms/step\n"
     ]
    },
    {
     "name": "stderr",
     "output_type": "stream",
     "text": [
      "/var/folders/by/st2c4w_96757fgwg7jsfc4480000gn/T/ipykernel_67404/3699000515.py:25: UserWarning: Discarding nonzero nanoseconds in conversion.\n",
      "  new_row = pd.DataFrame({'Close': [predicted_value]}, index=[new_dataset.index[-1] + pd.DateOffset(days=1)])\n"
     ]
    },
    {
     "name": "stdout",
     "output_type": "stream",
     "text": [
      "1/1 [==============================] - 0s 23ms/step\n",
      "1/1 [==============================] - 0s 21ms/step\n"
     ]
    },
    {
     "name": "stderr",
     "output_type": "stream",
     "text": [
      "/var/folders/by/st2c4w_96757fgwg7jsfc4480000gn/T/ipykernel_67404/3699000515.py:25: UserWarning: Discarding nonzero nanoseconds in conversion.\n",
      "  new_row = pd.DataFrame({'Close': [predicted_value]}, index=[new_dataset.index[-1] + pd.DateOffset(days=1)])\n",
      "/var/folders/by/st2c4w_96757fgwg7jsfc4480000gn/T/ipykernel_67404/3699000515.py:25: UserWarning: Discarding nonzero nanoseconds in conversion.\n",
      "  new_row = pd.DataFrame({'Close': [predicted_value]}, index=[new_dataset.index[-1] + pd.DateOffset(days=1)])\n"
     ]
    },
    {
     "name": "stdout",
     "output_type": "stream",
     "text": [
      "1/1 [==============================] - 0s 22ms/step\n",
      "1/1 [==============================] - 0s 18ms/step\n"
     ]
    },
    {
     "name": "stderr",
     "output_type": "stream",
     "text": [
      "/var/folders/by/st2c4w_96757fgwg7jsfc4480000gn/T/ipykernel_67404/3699000515.py:25: UserWarning: Discarding nonzero nanoseconds in conversion.\n",
      "  new_row = pd.DataFrame({'Close': [predicted_value]}, index=[new_dataset.index[-1] + pd.DateOffset(days=1)])\n",
      "/var/folders/by/st2c4w_96757fgwg7jsfc4480000gn/T/ipykernel_67404/3699000515.py:25: UserWarning: Discarding nonzero nanoseconds in conversion.\n",
      "  new_row = pd.DataFrame({'Close': [predicted_value]}, index=[new_dataset.index[-1] + pd.DateOffset(days=1)])\n"
     ]
    },
    {
     "name": "stdout",
     "output_type": "stream",
     "text": [
      "1/1 [==============================] - 0s 19ms/step\n"
     ]
    },
    {
     "name": "stderr",
     "output_type": "stream",
     "text": [
      "/var/folders/by/st2c4w_96757fgwg7jsfc4480000gn/T/ipykernel_67404/3699000515.py:25: UserWarning: Discarding nonzero nanoseconds in conversion.\n",
      "  new_row = pd.DataFrame({'Close': [predicted_value]}, index=[new_dataset.index[-1] + pd.DateOffset(days=1)])\n"
     ]
    },
    {
     "name": "stdout",
     "output_type": "stream",
     "text": [
      "1/1 [==============================] - 0s 19ms/step\n",
      "1/1 [==============================] - 0s 20ms/step\n",
      "1/1 [==============================] - 0s 18ms/step\n"
     ]
    },
    {
     "name": "stderr",
     "output_type": "stream",
     "text": [
      "/var/folders/by/st2c4w_96757fgwg7jsfc4480000gn/T/ipykernel_67404/3699000515.py:25: UserWarning: Discarding nonzero nanoseconds in conversion.\n",
      "  new_row = pd.DataFrame({'Close': [predicted_value]}, index=[new_dataset.index[-1] + pd.DateOffset(days=1)])\n",
      "/var/folders/by/st2c4w_96757fgwg7jsfc4480000gn/T/ipykernel_67404/3699000515.py:25: UserWarning: Discarding nonzero nanoseconds in conversion.\n",
      "  new_row = pd.DataFrame({'Close': [predicted_value]}, index=[new_dataset.index[-1] + pd.DateOffset(days=1)])\n",
      "/var/folders/by/st2c4w_96757fgwg7jsfc4480000gn/T/ipykernel_67404/3699000515.py:25: UserWarning: Discarding nonzero nanoseconds in conversion.\n",
      "  new_row = pd.DataFrame({'Close': [predicted_value]}, index=[new_dataset.index[-1] + pd.DateOffset(days=1)])\n"
     ]
    },
    {
     "name": "stdout",
     "output_type": "stream",
     "text": [
      "1/1 [==============================] - 0s 24ms/step\n",
      "1/1 [==============================] - 0s 18ms/step\n",
      "1/1 [==============================] - 0s 19ms/step\n"
     ]
    },
    {
     "name": "stderr",
     "output_type": "stream",
     "text": [
      "/var/folders/by/st2c4w_96757fgwg7jsfc4480000gn/T/ipykernel_67404/3699000515.py:25: UserWarning: Discarding nonzero nanoseconds in conversion.\n",
      "  new_row = pd.DataFrame({'Close': [predicted_value]}, index=[new_dataset.index[-1] + pd.DateOffset(days=1)])\n",
      "/var/folders/by/st2c4w_96757fgwg7jsfc4480000gn/T/ipykernel_67404/3699000515.py:25: UserWarning: Discarding nonzero nanoseconds in conversion.\n",
      "  new_row = pd.DataFrame({'Close': [predicted_value]}, index=[new_dataset.index[-1] + pd.DateOffset(days=1)])\n",
      "/var/folders/by/st2c4w_96757fgwg7jsfc4480000gn/T/ipykernel_67404/3699000515.py:25: UserWarning: Discarding nonzero nanoseconds in conversion.\n",
      "  new_row = pd.DataFrame({'Close': [predicted_value]}, index=[new_dataset.index[-1] + pd.DateOffset(days=1)])\n"
     ]
    },
    {
     "name": "stdout",
     "output_type": "stream",
     "text": [
      "1/1 [==============================] - 0s 19ms/step\n"
     ]
    },
    {
     "name": "stderr",
     "output_type": "stream",
     "text": [
      "/var/folders/by/st2c4w_96757fgwg7jsfc4480000gn/T/ipykernel_67404/3699000515.py:25: UserWarning: Discarding nonzero nanoseconds in conversion.\n",
      "  new_row = pd.DataFrame({'Close': [predicted_value]}, index=[new_dataset.index[-1] + pd.DateOffset(days=1)])\n"
     ]
    },
    {
     "name": "stdout",
     "output_type": "stream",
     "text": [
      "1/1 [==============================] - 0s 22ms/step\n",
      "1/1 [==============================] - 0s 19ms/step\n",
      "1/1 [==============================] - 0s 20ms/step\n"
     ]
    },
    {
     "name": "stderr",
     "output_type": "stream",
     "text": [
      "/var/folders/by/st2c4w_96757fgwg7jsfc4480000gn/T/ipykernel_67404/3699000515.py:25: UserWarning: Discarding nonzero nanoseconds in conversion.\n",
      "  new_row = pd.DataFrame({'Close': [predicted_value]}, index=[new_dataset.index[-1] + pd.DateOffset(days=1)])\n",
      "/var/folders/by/st2c4w_96757fgwg7jsfc4480000gn/T/ipykernel_67404/3699000515.py:25: UserWarning: Discarding nonzero nanoseconds in conversion.\n",
      "  new_row = pd.DataFrame({'Close': [predicted_value]}, index=[new_dataset.index[-1] + pd.DateOffset(days=1)])\n",
      "/var/folders/by/st2c4w_96757fgwg7jsfc4480000gn/T/ipykernel_67404/3699000515.py:25: UserWarning: Discarding nonzero nanoseconds in conversion.\n",
      "  new_row = pd.DataFrame({'Close': [predicted_value]}, index=[new_dataset.index[-1] + pd.DateOffset(days=1)])\n"
     ]
    },
    {
     "name": "stdout",
     "output_type": "stream",
     "text": [
      "1/1 [==============================] - 0s 22ms/step\n"
     ]
    },
    {
     "name": "stderr",
     "output_type": "stream",
     "text": [
      "/var/folders/by/st2c4w_96757fgwg7jsfc4480000gn/T/ipykernel_67404/3699000515.py:25: UserWarning: Discarding nonzero nanoseconds in conversion.\n",
      "  new_row = pd.DataFrame({'Close': [predicted_value]}, index=[new_dataset.index[-1] + pd.DateOffset(days=1)])\n"
     ]
    },
    {
     "name": "stdout",
     "output_type": "stream",
     "text": [
      "1/1 [==============================] - 0s 21ms/step\n",
      "1/1 [==============================] - 0s 23ms/step\n"
     ]
    },
    {
     "name": "stderr",
     "output_type": "stream",
     "text": [
      "/var/folders/by/st2c4w_96757fgwg7jsfc4480000gn/T/ipykernel_67404/3699000515.py:25: UserWarning: Discarding nonzero nanoseconds in conversion.\n",
      "  new_row = pd.DataFrame({'Close': [predicted_value]}, index=[new_dataset.index[-1] + pd.DateOffset(days=1)])\n",
      "/var/folders/by/st2c4w_96757fgwg7jsfc4480000gn/T/ipykernel_67404/3699000515.py:25: UserWarning: Discarding nonzero nanoseconds in conversion.\n",
      "  new_row = pd.DataFrame({'Close': [predicted_value]}, index=[new_dataset.index[-1] + pd.DateOffset(days=1)])\n"
     ]
    },
    {
     "name": "stdout",
     "output_type": "stream",
     "text": [
      "1/1 [==============================] - 0s 29ms/step\n"
     ]
    },
    {
     "name": "stderr",
     "output_type": "stream",
     "text": [
      "/var/folders/by/st2c4w_96757fgwg7jsfc4480000gn/T/ipykernel_67404/3699000515.py:25: UserWarning: Discarding nonzero nanoseconds in conversion.\n",
      "  new_row = pd.DataFrame({'Close': [predicted_value]}, index=[new_dataset.index[-1] + pd.DateOffset(days=1)])\n"
     ]
    },
    {
     "name": "stdout",
     "output_type": "stream",
     "text": [
      "1/1 [==============================] - 0s 28ms/step\n",
      "1/1 [==============================] - 0s 22ms/step\n"
     ]
    },
    {
     "name": "stderr",
     "output_type": "stream",
     "text": [
      "/var/folders/by/st2c4w_96757fgwg7jsfc4480000gn/T/ipykernel_67404/3699000515.py:25: UserWarning: Discarding nonzero nanoseconds in conversion.\n",
      "  new_row = pd.DataFrame({'Close': [predicted_value]}, index=[new_dataset.index[-1] + pd.DateOffset(days=1)])\n",
      "/var/folders/by/st2c4w_96757fgwg7jsfc4480000gn/T/ipykernel_67404/3699000515.py:25: UserWarning: Discarding nonzero nanoseconds in conversion.\n",
      "  new_row = pd.DataFrame({'Close': [predicted_value]}, index=[new_dataset.index[-1] + pd.DateOffset(days=1)])\n"
     ]
    },
    {
     "name": "stdout",
     "output_type": "stream",
     "text": [
      "1/1 [==============================] - 0s 26ms/step\n"
     ]
    },
    {
     "name": "stderr",
     "output_type": "stream",
     "text": [
      "/var/folders/by/st2c4w_96757fgwg7jsfc4480000gn/T/ipykernel_67404/3699000515.py:25: UserWarning: Discarding nonzero nanoseconds in conversion.\n",
      "  new_row = pd.DataFrame({'Close': [predicted_value]}, index=[new_dataset.index[-1] + pd.DateOffset(days=1)])\n"
     ]
    },
    {
     "name": "stdout",
     "output_type": "stream",
     "text": [
      "1/1 [==============================] - 0s 30ms/step\n",
      "1/1 [==============================] - 0s 21ms/step\n"
     ]
    },
    {
     "name": "stderr",
     "output_type": "stream",
     "text": [
      "/var/folders/by/st2c4w_96757fgwg7jsfc4480000gn/T/ipykernel_67404/3699000515.py:25: UserWarning: Discarding nonzero nanoseconds in conversion.\n",
      "  new_row = pd.DataFrame({'Close': [predicted_value]}, index=[new_dataset.index[-1] + pd.DateOffset(days=1)])\n",
      "/var/folders/by/st2c4w_96757fgwg7jsfc4480000gn/T/ipykernel_67404/3699000515.py:25: UserWarning: Discarding nonzero nanoseconds in conversion.\n",
      "  new_row = pd.DataFrame({'Close': [predicted_value]}, index=[new_dataset.index[-1] + pd.DateOffset(days=1)])\n"
     ]
    },
    {
     "name": "stdout",
     "output_type": "stream",
     "text": [
      "1/1 [==============================] - 0s 35ms/step\n"
     ]
    },
    {
     "name": "stderr",
     "output_type": "stream",
     "text": [
      "/var/folders/by/st2c4w_96757fgwg7jsfc4480000gn/T/ipykernel_67404/3699000515.py:25: UserWarning: Discarding nonzero nanoseconds in conversion.\n",
      "  new_row = pd.DataFrame({'Close': [predicted_value]}, index=[new_dataset.index[-1] + pd.DateOffset(days=1)])\n"
     ]
    },
    {
     "name": "stdout",
     "output_type": "stream",
     "text": [
      "1/1 [==============================] - 0s 19ms/step\n",
      "1/1 [==============================] - 0s 20ms/step\n"
     ]
    },
    {
     "name": "stderr",
     "output_type": "stream",
     "text": [
      "/var/folders/by/st2c4w_96757fgwg7jsfc4480000gn/T/ipykernel_67404/3699000515.py:25: UserWarning: Discarding nonzero nanoseconds in conversion.\n",
      "  new_row = pd.DataFrame({'Close': [predicted_value]}, index=[new_dataset.index[-1] + pd.DateOffset(days=1)])\n",
      "/var/folders/by/st2c4w_96757fgwg7jsfc4480000gn/T/ipykernel_67404/3699000515.py:25: UserWarning: Discarding nonzero nanoseconds in conversion.\n",
      "  new_row = pd.DataFrame({'Close': [predicted_value]}, index=[new_dataset.index[-1] + pd.DateOffset(days=1)])\n"
     ]
    },
    {
     "name": "stdout",
     "output_type": "stream",
     "text": [
      "1/1 [==============================] - 0s 26ms/step\n"
     ]
    },
    {
     "name": "stderr",
     "output_type": "stream",
     "text": [
      "/var/folders/by/st2c4w_96757fgwg7jsfc4480000gn/T/ipykernel_67404/3699000515.py:25: UserWarning: Discarding nonzero nanoseconds in conversion.\n",
      "  new_row = pd.DataFrame({'Close': [predicted_value]}, index=[new_dataset.index[-1] + pd.DateOffset(days=1)])\n"
     ]
    },
    {
     "name": "stdout",
     "output_type": "stream",
     "text": [
      "1/1 [==============================] - 0s 21ms/step\n",
      "1/1 [==============================] - 0s 21ms/step\n"
     ]
    },
    {
     "name": "stderr",
     "output_type": "stream",
     "text": [
      "/var/folders/by/st2c4w_96757fgwg7jsfc4480000gn/T/ipykernel_67404/3699000515.py:25: UserWarning: Discarding nonzero nanoseconds in conversion.\n",
      "  new_row = pd.DataFrame({'Close': [predicted_value]}, index=[new_dataset.index[-1] + pd.DateOffset(days=1)])\n",
      "/var/folders/by/st2c4w_96757fgwg7jsfc4480000gn/T/ipykernel_67404/3699000515.py:25: UserWarning: Discarding nonzero nanoseconds in conversion.\n",
      "  new_row = pd.DataFrame({'Close': [predicted_value]}, index=[new_dataset.index[-1] + pd.DateOffset(days=1)])\n"
     ]
    },
    {
     "name": "stdout",
     "output_type": "stream",
     "text": [
      "1/1 [==============================] - 0s 26ms/step\n"
     ]
    },
    {
     "name": "stderr",
     "output_type": "stream",
     "text": [
      "/var/folders/by/st2c4w_96757fgwg7jsfc4480000gn/T/ipykernel_67404/3699000515.py:25: UserWarning: Discarding nonzero nanoseconds in conversion.\n",
      "  new_row = pd.DataFrame({'Close': [predicted_value]}, index=[new_dataset.index[-1] + pd.DateOffset(days=1)])\n"
     ]
    },
    {
     "name": "stdout",
     "output_type": "stream",
     "text": [
      "1/1 [==============================] - 0s 25ms/step\n",
      "1/1 [==============================] - 0s 19ms/step\n"
     ]
    },
    {
     "name": "stderr",
     "output_type": "stream",
     "text": [
      "/var/folders/by/st2c4w_96757fgwg7jsfc4480000gn/T/ipykernel_67404/3699000515.py:25: UserWarning: Discarding nonzero nanoseconds in conversion.\n",
      "  new_row = pd.DataFrame({'Close': [predicted_value]}, index=[new_dataset.index[-1] + pd.DateOffset(days=1)])\n",
      "/var/folders/by/st2c4w_96757fgwg7jsfc4480000gn/T/ipykernel_67404/3699000515.py:25: UserWarning: Discarding nonzero nanoseconds in conversion.\n",
      "  new_row = pd.DataFrame({'Close': [predicted_value]}, index=[new_dataset.index[-1] + pd.DateOffset(days=1)])\n"
     ]
    },
    {
     "name": "stdout",
     "output_type": "stream",
     "text": [
      "1/1 [==============================] - 0s 20ms/step\n",
      "1/1 [==============================] - 0s 19ms/step\n"
     ]
    },
    {
     "name": "stderr",
     "output_type": "stream",
     "text": [
      "/var/folders/by/st2c4w_96757fgwg7jsfc4480000gn/T/ipykernel_67404/3699000515.py:25: UserWarning: Discarding nonzero nanoseconds in conversion.\n",
      "  new_row = pd.DataFrame({'Close': [predicted_value]}, index=[new_dataset.index[-1] + pd.DateOffset(days=1)])\n",
      "/var/folders/by/st2c4w_96757fgwg7jsfc4480000gn/T/ipykernel_67404/3699000515.py:25: UserWarning: Discarding nonzero nanoseconds in conversion.\n",
      "  new_row = pd.DataFrame({'Close': [predicted_value]}, index=[new_dataset.index[-1] + pd.DateOffset(days=1)])\n"
     ]
    },
    {
     "name": "stdout",
     "output_type": "stream",
     "text": [
      "1/1 [==============================] - 0s 18ms/step\n",
      "1/1 [==============================] - 0s 18ms/step\n"
     ]
    },
    {
     "name": "stderr",
     "output_type": "stream",
     "text": [
      "/var/folders/by/st2c4w_96757fgwg7jsfc4480000gn/T/ipykernel_67404/3699000515.py:25: UserWarning: Discarding nonzero nanoseconds in conversion.\n",
      "  new_row = pd.DataFrame({'Close': [predicted_value]}, index=[new_dataset.index[-1] + pd.DateOffset(days=1)])\n",
      "/var/folders/by/st2c4w_96757fgwg7jsfc4480000gn/T/ipykernel_67404/3699000515.py:25: UserWarning: Discarding nonzero nanoseconds in conversion.\n",
      "  new_row = pd.DataFrame({'Close': [predicted_value]}, index=[new_dataset.index[-1] + pd.DateOffset(days=1)])\n"
     ]
    },
    {
     "name": "stdout",
     "output_type": "stream",
     "text": [
      "1/1 [==============================] - 0s 19ms/step\n",
      "1/1 [==============================] - 0s 18ms/step\n"
     ]
    },
    {
     "name": "stderr",
     "output_type": "stream",
     "text": [
      "/var/folders/by/st2c4w_96757fgwg7jsfc4480000gn/T/ipykernel_67404/3699000515.py:25: UserWarning: Discarding nonzero nanoseconds in conversion.\n",
      "  new_row = pd.DataFrame({'Close': [predicted_value]}, index=[new_dataset.index[-1] + pd.DateOffset(days=1)])\n",
      "/var/folders/by/st2c4w_96757fgwg7jsfc4480000gn/T/ipykernel_67404/3699000515.py:25: UserWarning: Discarding nonzero nanoseconds in conversion.\n",
      "  new_row = pd.DataFrame({'Close': [predicted_value]}, index=[new_dataset.index[-1] + pd.DateOffset(days=1)])\n"
     ]
    },
    {
     "name": "stdout",
     "output_type": "stream",
     "text": [
      "1/1 [==============================] - 0s 19ms/step\n",
      "1/1 [==============================] - 0s 18ms/step\n"
     ]
    },
    {
     "name": "stderr",
     "output_type": "stream",
     "text": [
      "/var/folders/by/st2c4w_96757fgwg7jsfc4480000gn/T/ipykernel_67404/3699000515.py:25: UserWarning: Discarding nonzero nanoseconds in conversion.\n",
      "  new_row = pd.DataFrame({'Close': [predicted_value]}, index=[new_dataset.index[-1] + pd.DateOffset(days=1)])\n",
      "/var/folders/by/st2c4w_96757fgwg7jsfc4480000gn/T/ipykernel_67404/3699000515.py:25: UserWarning: Discarding nonzero nanoseconds in conversion.\n",
      "  new_row = pd.DataFrame({'Close': [predicted_value]}, index=[new_dataset.index[-1] + pd.DateOffset(days=1)])\n"
     ]
    },
    {
     "name": "stdout",
     "output_type": "stream",
     "text": [
      "1/1 [==============================] - 0s 19ms/step\n",
      "1/1 [==============================] - 0s 19ms/step\n"
     ]
    },
    {
     "name": "stderr",
     "output_type": "stream",
     "text": [
      "/var/folders/by/st2c4w_96757fgwg7jsfc4480000gn/T/ipykernel_67404/3699000515.py:25: UserWarning: Discarding nonzero nanoseconds in conversion.\n",
      "  new_row = pd.DataFrame({'Close': [predicted_value]}, index=[new_dataset.index[-1] + pd.DateOffset(days=1)])\n",
      "/var/folders/by/st2c4w_96757fgwg7jsfc4480000gn/T/ipykernel_67404/3699000515.py:25: UserWarning: Discarding nonzero nanoseconds in conversion.\n",
      "  new_row = pd.DataFrame({'Close': [predicted_value]}, index=[new_dataset.index[-1] + pd.DateOffset(days=1)])\n"
     ]
    },
    {
     "name": "stdout",
     "output_type": "stream",
     "text": [
      "1/1 [==============================] - 0s 19ms/step\n",
      "1/1 [==============================] - 0s 23ms/step\n"
     ]
    },
    {
     "name": "stderr",
     "output_type": "stream",
     "text": [
      "/var/folders/by/st2c4w_96757fgwg7jsfc4480000gn/T/ipykernel_67404/3699000515.py:25: UserWarning: Discarding nonzero nanoseconds in conversion.\n",
      "  new_row = pd.DataFrame({'Close': [predicted_value]}, index=[new_dataset.index[-1] + pd.DateOffset(days=1)])\n",
      "/var/folders/by/st2c4w_96757fgwg7jsfc4480000gn/T/ipykernel_67404/3699000515.py:25: UserWarning: Discarding nonzero nanoseconds in conversion.\n",
      "  new_row = pd.DataFrame({'Close': [predicted_value]}, index=[new_dataset.index[-1] + pd.DateOffset(days=1)])\n"
     ]
    },
    {
     "name": "stdout",
     "output_type": "stream",
     "text": [
      "1/1 [==============================] - 0s 18ms/step\n",
      "1/1 [==============================] - 0s 18ms/step\n"
     ]
    },
    {
     "name": "stderr",
     "output_type": "stream",
     "text": [
      "/var/folders/by/st2c4w_96757fgwg7jsfc4480000gn/T/ipykernel_67404/3699000515.py:25: UserWarning: Discarding nonzero nanoseconds in conversion.\n",
      "  new_row = pd.DataFrame({'Close': [predicted_value]}, index=[new_dataset.index[-1] + pd.DateOffset(days=1)])\n",
      "/var/folders/by/st2c4w_96757fgwg7jsfc4480000gn/T/ipykernel_67404/3699000515.py:25: UserWarning: Discarding nonzero nanoseconds in conversion.\n",
      "  new_row = pd.DataFrame({'Close': [predicted_value]}, index=[new_dataset.index[-1] + pd.DateOffset(days=1)])\n"
     ]
    },
    {
     "name": "stdout",
     "output_type": "stream",
     "text": [
      "1/1 [==============================] - 0s 20ms/step\n",
      "1/1 [==============================] - 0s 19ms/step\n"
     ]
    },
    {
     "name": "stderr",
     "output_type": "stream",
     "text": [
      "/var/folders/by/st2c4w_96757fgwg7jsfc4480000gn/T/ipykernel_67404/3699000515.py:25: UserWarning: Discarding nonzero nanoseconds in conversion.\n",
      "  new_row = pd.DataFrame({'Close': [predicted_value]}, index=[new_dataset.index[-1] + pd.DateOffset(days=1)])\n",
      "/var/folders/by/st2c4w_96757fgwg7jsfc4480000gn/T/ipykernel_67404/3699000515.py:25: UserWarning: Discarding nonzero nanoseconds in conversion.\n",
      "  new_row = pd.DataFrame({'Close': [predicted_value]}, index=[new_dataset.index[-1] + pd.DateOffset(days=1)])\n"
     ]
    },
    {
     "name": "stdout",
     "output_type": "stream",
     "text": [
      "1/1 [==============================] - 0s 19ms/step\n",
      "1/1 [==============================] - 0s 19ms/step\n"
     ]
    },
    {
     "name": "stderr",
     "output_type": "stream",
     "text": [
      "/var/folders/by/st2c4w_96757fgwg7jsfc4480000gn/T/ipykernel_67404/3699000515.py:25: UserWarning: Discarding nonzero nanoseconds in conversion.\n",
      "  new_row = pd.DataFrame({'Close': [predicted_value]}, index=[new_dataset.index[-1] + pd.DateOffset(days=1)])\n",
      "/var/folders/by/st2c4w_96757fgwg7jsfc4480000gn/T/ipykernel_67404/3699000515.py:25: UserWarning: Discarding nonzero nanoseconds in conversion.\n",
      "  new_row = pd.DataFrame({'Close': [predicted_value]}, index=[new_dataset.index[-1] + pd.DateOffset(days=1)])\n"
     ]
    },
    {
     "name": "stdout",
     "output_type": "stream",
     "text": [
      "1/1 [==============================] - 0s 19ms/step\n",
      "1/1 [==============================] - 0s 19ms/step\n"
     ]
    },
    {
     "name": "stderr",
     "output_type": "stream",
     "text": [
      "/var/folders/by/st2c4w_96757fgwg7jsfc4480000gn/T/ipykernel_67404/3699000515.py:25: UserWarning: Discarding nonzero nanoseconds in conversion.\n",
      "  new_row = pd.DataFrame({'Close': [predicted_value]}, index=[new_dataset.index[-1] + pd.DateOffset(days=1)])\n",
      "/var/folders/by/st2c4w_96757fgwg7jsfc4480000gn/T/ipykernel_67404/3699000515.py:25: UserWarning: Discarding nonzero nanoseconds in conversion.\n",
      "  new_row = pd.DataFrame({'Close': [predicted_value]}, index=[new_dataset.index[-1] + pd.DateOffset(days=1)])\n"
     ]
    },
    {
     "name": "stdout",
     "output_type": "stream",
     "text": [
      "1/1 [==============================] - 0s 20ms/step\n",
      "1/1 [==============================] - 0s 19ms/step\n"
     ]
    },
    {
     "name": "stderr",
     "output_type": "stream",
     "text": [
      "/var/folders/by/st2c4w_96757fgwg7jsfc4480000gn/T/ipykernel_67404/3699000515.py:25: UserWarning: Discarding nonzero nanoseconds in conversion.\n",
      "  new_row = pd.DataFrame({'Close': [predicted_value]}, index=[new_dataset.index[-1] + pd.DateOffset(days=1)])\n",
      "/var/folders/by/st2c4w_96757fgwg7jsfc4480000gn/T/ipykernel_67404/3699000515.py:25: UserWarning: Discarding nonzero nanoseconds in conversion.\n",
      "  new_row = pd.DataFrame({'Close': [predicted_value]}, index=[new_dataset.index[-1] + pd.DateOffset(days=1)])\n"
     ]
    },
    {
     "name": "stdout",
     "output_type": "stream",
     "text": [
      "1/1 [==============================] - 0s 20ms/step\n",
      "1/1 [==============================] - 0s 19ms/step\n"
     ]
    },
    {
     "name": "stderr",
     "output_type": "stream",
     "text": [
      "/var/folders/by/st2c4w_96757fgwg7jsfc4480000gn/T/ipykernel_67404/3699000515.py:25: UserWarning: Discarding nonzero nanoseconds in conversion.\n",
      "  new_row = pd.DataFrame({'Close': [predicted_value]}, index=[new_dataset.index[-1] + pd.DateOffset(days=1)])\n",
      "/var/folders/by/st2c4w_96757fgwg7jsfc4480000gn/T/ipykernel_67404/3699000515.py:25: UserWarning: Discarding nonzero nanoseconds in conversion.\n",
      "  new_row = pd.DataFrame({'Close': [predicted_value]}, index=[new_dataset.index[-1] + pd.DateOffset(days=1)])\n"
     ]
    },
    {
     "name": "stdout",
     "output_type": "stream",
     "text": [
      "1/1 [==============================] - 0s 21ms/step\n",
      "1/1 [==============================] - 0s 19ms/step\n"
     ]
    },
    {
     "name": "stderr",
     "output_type": "stream",
     "text": [
      "/var/folders/by/st2c4w_96757fgwg7jsfc4480000gn/T/ipykernel_67404/3699000515.py:25: UserWarning: Discarding nonzero nanoseconds in conversion.\n",
      "  new_row = pd.DataFrame({'Close': [predicted_value]}, index=[new_dataset.index[-1] + pd.DateOffset(days=1)])\n",
      "/var/folders/by/st2c4w_96757fgwg7jsfc4480000gn/T/ipykernel_67404/3699000515.py:25: UserWarning: Discarding nonzero nanoseconds in conversion.\n",
      "  new_row = pd.DataFrame({'Close': [predicted_value]}, index=[new_dataset.index[-1] + pd.DateOffset(days=1)])\n"
     ]
    },
    {
     "name": "stdout",
     "output_type": "stream",
     "text": [
      "1/1 [==============================] - 0s 20ms/step\n",
      "1/1 [==============================] - 0s 19ms/step\n"
     ]
    },
    {
     "name": "stderr",
     "output_type": "stream",
     "text": [
      "/var/folders/by/st2c4w_96757fgwg7jsfc4480000gn/T/ipykernel_67404/3699000515.py:25: UserWarning: Discarding nonzero nanoseconds in conversion.\n",
      "  new_row = pd.DataFrame({'Close': [predicted_value]}, index=[new_dataset.index[-1] + pd.DateOffset(days=1)])\n",
      "/var/folders/by/st2c4w_96757fgwg7jsfc4480000gn/T/ipykernel_67404/3699000515.py:25: UserWarning: Discarding nonzero nanoseconds in conversion.\n",
      "  new_row = pd.DataFrame({'Close': [predicted_value]}, index=[new_dataset.index[-1] + pd.DateOffset(days=1)])\n"
     ]
    },
    {
     "name": "stdout",
     "output_type": "stream",
     "text": [
      "1/1 [==============================] - 0s 20ms/step\n",
      "1/1 [==============================] - 0s 19ms/step\n"
     ]
    },
    {
     "name": "stderr",
     "output_type": "stream",
     "text": [
      "/var/folders/by/st2c4w_96757fgwg7jsfc4480000gn/T/ipykernel_67404/3699000515.py:25: UserWarning: Discarding nonzero nanoseconds in conversion.\n",
      "  new_row = pd.DataFrame({'Close': [predicted_value]}, index=[new_dataset.index[-1] + pd.DateOffset(days=1)])\n",
      "/var/folders/by/st2c4w_96757fgwg7jsfc4480000gn/T/ipykernel_67404/3699000515.py:25: UserWarning: Discarding nonzero nanoseconds in conversion.\n",
      "  new_row = pd.DataFrame({'Close': [predicted_value]}, index=[new_dataset.index[-1] + pd.DateOffset(days=1)])\n"
     ]
    },
    {
     "name": "stdout",
     "output_type": "stream",
     "text": [
      "1/1 [==============================] - 0s 19ms/step\n",
      "1/1 [==============================] - 0s 19ms/step\n"
     ]
    },
    {
     "name": "stderr",
     "output_type": "stream",
     "text": [
      "/var/folders/by/st2c4w_96757fgwg7jsfc4480000gn/T/ipykernel_67404/3699000515.py:25: UserWarning: Discarding nonzero nanoseconds in conversion.\n",
      "  new_row = pd.DataFrame({'Close': [predicted_value]}, index=[new_dataset.index[-1] + pd.DateOffset(days=1)])\n",
      "/var/folders/by/st2c4w_96757fgwg7jsfc4480000gn/T/ipykernel_67404/3699000515.py:25: UserWarning: Discarding nonzero nanoseconds in conversion.\n",
      "  new_row = pd.DataFrame({'Close': [predicted_value]}, index=[new_dataset.index[-1] + pd.DateOffset(days=1)])\n"
     ]
    },
    {
     "name": "stdout",
     "output_type": "stream",
     "text": [
      "1/1 [==============================] - 0s 26ms/step\n",
      "1/1 [==============================] - 0s 20ms/step\n"
     ]
    },
    {
     "name": "stderr",
     "output_type": "stream",
     "text": [
      "/var/folders/by/st2c4w_96757fgwg7jsfc4480000gn/T/ipykernel_67404/3699000515.py:25: UserWarning: Discarding nonzero nanoseconds in conversion.\n",
      "  new_row = pd.DataFrame({'Close': [predicted_value]}, index=[new_dataset.index[-1] + pd.DateOffset(days=1)])\n",
      "/var/folders/by/st2c4w_96757fgwg7jsfc4480000gn/T/ipykernel_67404/3699000515.py:25: UserWarning: Discarding nonzero nanoseconds in conversion.\n",
      "  new_row = pd.DataFrame({'Close': [predicted_value]}, index=[new_dataset.index[-1] + pd.DateOffset(days=1)])\n"
     ]
    },
    {
     "name": "stdout",
     "output_type": "stream",
     "text": [
      "1/1 [==============================] - 0s 20ms/step\n",
      "1/1 [==============================] - 0s 19ms/step\n"
     ]
    },
    {
     "name": "stderr",
     "output_type": "stream",
     "text": [
      "/var/folders/by/st2c4w_96757fgwg7jsfc4480000gn/T/ipykernel_67404/3699000515.py:25: UserWarning: Discarding nonzero nanoseconds in conversion.\n",
      "  new_row = pd.DataFrame({'Close': [predicted_value]}, index=[new_dataset.index[-1] + pd.DateOffset(days=1)])\n",
      "/var/folders/by/st2c4w_96757fgwg7jsfc4480000gn/T/ipykernel_67404/3699000515.py:25: UserWarning: Discarding nonzero nanoseconds in conversion.\n",
      "  new_row = pd.DataFrame({'Close': [predicted_value]}, index=[new_dataset.index[-1] + pd.DateOffset(days=1)])\n"
     ]
    },
    {
     "name": "stdout",
     "output_type": "stream",
     "text": [
      "1/1 [==============================] - 0s 19ms/step\n",
      "1/1 [==============================] - 0s 19ms/step\n"
     ]
    },
    {
     "name": "stderr",
     "output_type": "stream",
     "text": [
      "/var/folders/by/st2c4w_96757fgwg7jsfc4480000gn/T/ipykernel_67404/3699000515.py:25: UserWarning: Discarding nonzero nanoseconds in conversion.\n",
      "  new_row = pd.DataFrame({'Close': [predicted_value]}, index=[new_dataset.index[-1] + pd.DateOffset(days=1)])\n",
      "/var/folders/by/st2c4w_96757fgwg7jsfc4480000gn/T/ipykernel_67404/3699000515.py:25: UserWarning: Discarding nonzero nanoseconds in conversion.\n",
      "  new_row = pd.DataFrame({'Close': [predicted_value]}, index=[new_dataset.index[-1] + pd.DateOffset(days=1)])\n"
     ]
    },
    {
     "name": "stdout",
     "output_type": "stream",
     "text": [
      "1/1 [==============================] - 0s 20ms/step\n",
      "1/1 [==============================] - 0s 19ms/step\n"
     ]
    },
    {
     "name": "stderr",
     "output_type": "stream",
     "text": [
      "/var/folders/by/st2c4w_96757fgwg7jsfc4480000gn/T/ipykernel_67404/3699000515.py:25: UserWarning: Discarding nonzero nanoseconds in conversion.\n",
      "  new_row = pd.DataFrame({'Close': [predicted_value]}, index=[new_dataset.index[-1] + pd.DateOffset(days=1)])\n",
      "/var/folders/by/st2c4w_96757fgwg7jsfc4480000gn/T/ipykernel_67404/3699000515.py:25: UserWarning: Discarding nonzero nanoseconds in conversion.\n",
      "  new_row = pd.DataFrame({'Close': [predicted_value]}, index=[new_dataset.index[-1] + pd.DateOffset(days=1)])\n"
     ]
    },
    {
     "name": "stdout",
     "output_type": "stream",
     "text": [
      "1/1 [==============================] - 0s 20ms/step\n",
      "1/1 [==============================] - 0s 19ms/step\n"
     ]
    },
    {
     "name": "stderr",
     "output_type": "stream",
     "text": [
      "/var/folders/by/st2c4w_96757fgwg7jsfc4480000gn/T/ipykernel_67404/3699000515.py:25: UserWarning: Discarding nonzero nanoseconds in conversion.\n",
      "  new_row = pd.DataFrame({'Close': [predicted_value]}, index=[new_dataset.index[-1] + pd.DateOffset(days=1)])\n",
      "/var/folders/by/st2c4w_96757fgwg7jsfc4480000gn/T/ipykernel_67404/3699000515.py:25: UserWarning: Discarding nonzero nanoseconds in conversion.\n",
      "  new_row = pd.DataFrame({'Close': [predicted_value]}, index=[new_dataset.index[-1] + pd.DateOffset(days=1)])\n"
     ]
    },
    {
     "name": "stdout",
     "output_type": "stream",
     "text": [
      "1/1 [==============================] - 0s 20ms/step\n",
      "1/1 [==============================] - 0s 19ms/step\n"
     ]
    },
    {
     "name": "stderr",
     "output_type": "stream",
     "text": [
      "/var/folders/by/st2c4w_96757fgwg7jsfc4480000gn/T/ipykernel_67404/3699000515.py:25: UserWarning: Discarding nonzero nanoseconds in conversion.\n",
      "  new_row = pd.DataFrame({'Close': [predicted_value]}, index=[new_dataset.index[-1] + pd.DateOffset(days=1)])\n",
      "/var/folders/by/st2c4w_96757fgwg7jsfc4480000gn/T/ipykernel_67404/3699000515.py:25: UserWarning: Discarding nonzero nanoseconds in conversion.\n",
      "  new_row = pd.DataFrame({'Close': [predicted_value]}, index=[new_dataset.index[-1] + pd.DateOffset(days=1)])\n"
     ]
    },
    {
     "name": "stdout",
     "output_type": "stream",
     "text": [
      "1/1 [==============================] - 0s 20ms/step\n",
      "1/1 [==============================] - 0s 19ms/step\n"
     ]
    },
    {
     "name": "stderr",
     "output_type": "stream",
     "text": [
      "/var/folders/by/st2c4w_96757fgwg7jsfc4480000gn/T/ipykernel_67404/3699000515.py:25: UserWarning: Discarding nonzero nanoseconds in conversion.\n",
      "  new_row = pd.DataFrame({'Close': [predicted_value]}, index=[new_dataset.index[-1] + pd.DateOffset(days=1)])\n",
      "/var/folders/by/st2c4w_96757fgwg7jsfc4480000gn/T/ipykernel_67404/3699000515.py:25: UserWarning: Discarding nonzero nanoseconds in conversion.\n",
      "  new_row = pd.DataFrame({'Close': [predicted_value]}, index=[new_dataset.index[-1] + pd.DateOffset(days=1)])\n"
     ]
    },
    {
     "name": "stdout",
     "output_type": "stream",
     "text": [
      "1/1 [==============================] - 0s 20ms/step\n",
      "1/1 [==============================] - 0s 19ms/step\n"
     ]
    },
    {
     "name": "stderr",
     "output_type": "stream",
     "text": [
      "/var/folders/by/st2c4w_96757fgwg7jsfc4480000gn/T/ipykernel_67404/3699000515.py:25: UserWarning: Discarding nonzero nanoseconds in conversion.\n",
      "  new_row = pd.DataFrame({'Close': [predicted_value]}, index=[new_dataset.index[-1] + pd.DateOffset(days=1)])\n",
      "/var/folders/by/st2c4w_96757fgwg7jsfc4480000gn/T/ipykernel_67404/3699000515.py:25: UserWarning: Discarding nonzero nanoseconds in conversion.\n",
      "  new_row = pd.DataFrame({'Close': [predicted_value]}, index=[new_dataset.index[-1] + pd.DateOffset(days=1)])\n"
     ]
    },
    {
     "name": "stdout",
     "output_type": "stream",
     "text": [
      "1/1 [==============================] - 0s 19ms/step\n",
      "1/1 [==============================] - 0s 19ms/step\n"
     ]
    },
    {
     "name": "stderr",
     "output_type": "stream",
     "text": [
      "/var/folders/by/st2c4w_96757fgwg7jsfc4480000gn/T/ipykernel_67404/3699000515.py:25: UserWarning: Discarding nonzero nanoseconds in conversion.\n",
      "  new_row = pd.DataFrame({'Close': [predicted_value]}, index=[new_dataset.index[-1] + pd.DateOffset(days=1)])\n",
      "/var/folders/by/st2c4w_96757fgwg7jsfc4480000gn/T/ipykernel_67404/3699000515.py:25: UserWarning: Discarding nonzero nanoseconds in conversion.\n",
      "  new_row = pd.DataFrame({'Close': [predicted_value]}, index=[new_dataset.index[-1] + pd.DateOffset(days=1)])\n"
     ]
    },
    {
     "name": "stdout",
     "output_type": "stream",
     "text": [
      "1/1 [==============================] - 0s 20ms/step\n",
      "1/1 [==============================] - 0s 19ms/step\n"
     ]
    },
    {
     "name": "stderr",
     "output_type": "stream",
     "text": [
      "/var/folders/by/st2c4w_96757fgwg7jsfc4480000gn/T/ipykernel_67404/3699000515.py:25: UserWarning: Discarding nonzero nanoseconds in conversion.\n",
      "  new_row = pd.DataFrame({'Close': [predicted_value]}, index=[new_dataset.index[-1] + pd.DateOffset(days=1)])\n",
      "/var/folders/by/st2c4w_96757fgwg7jsfc4480000gn/T/ipykernel_67404/3699000515.py:25: UserWarning: Discarding nonzero nanoseconds in conversion.\n",
      "  new_row = pd.DataFrame({'Close': [predicted_value]}, index=[new_dataset.index[-1] + pd.DateOffset(days=1)])\n"
     ]
    },
    {
     "name": "stdout",
     "output_type": "stream",
     "text": [
      "1/1 [==============================] - 0s 20ms/step\n",
      "1/1 [==============================] - 0s 19ms/step\n"
     ]
    },
    {
     "name": "stderr",
     "output_type": "stream",
     "text": [
      "/var/folders/by/st2c4w_96757fgwg7jsfc4480000gn/T/ipykernel_67404/3699000515.py:25: UserWarning: Discarding nonzero nanoseconds in conversion.\n",
      "  new_row = pd.DataFrame({'Close': [predicted_value]}, index=[new_dataset.index[-1] + pd.DateOffset(days=1)])\n",
      "/var/folders/by/st2c4w_96757fgwg7jsfc4480000gn/T/ipykernel_67404/3699000515.py:25: UserWarning: Discarding nonzero nanoseconds in conversion.\n",
      "  new_row = pd.DataFrame({'Close': [predicted_value]}, index=[new_dataset.index[-1] + pd.DateOffset(days=1)])\n"
     ]
    },
    {
     "name": "stdout",
     "output_type": "stream",
     "text": [
      "1/1 [==============================] - 0s 20ms/step\n",
      "1/1 [==============================] - 0s 19ms/step\n"
     ]
    },
    {
     "name": "stderr",
     "output_type": "stream",
     "text": [
      "/var/folders/by/st2c4w_96757fgwg7jsfc4480000gn/T/ipykernel_67404/3699000515.py:25: UserWarning: Discarding nonzero nanoseconds in conversion.\n",
      "  new_row = pd.DataFrame({'Close': [predicted_value]}, index=[new_dataset.index[-1] + pd.DateOffset(days=1)])\n",
      "/var/folders/by/st2c4w_96757fgwg7jsfc4480000gn/T/ipykernel_67404/3699000515.py:25: UserWarning: Discarding nonzero nanoseconds in conversion.\n",
      "  new_row = pd.DataFrame({'Close': [predicted_value]}, index=[new_dataset.index[-1] + pd.DateOffset(days=1)])\n"
     ]
    },
    {
     "name": "stdout",
     "output_type": "stream",
     "text": [
      "1/1 [==============================] - 0s 18ms/step\n",
      "1/1 [==============================] - 0s 19ms/step\n"
     ]
    },
    {
     "name": "stderr",
     "output_type": "stream",
     "text": [
      "/var/folders/by/st2c4w_96757fgwg7jsfc4480000gn/T/ipykernel_67404/3699000515.py:25: UserWarning: Discarding nonzero nanoseconds in conversion.\n",
      "  new_row = pd.DataFrame({'Close': [predicted_value]}, index=[new_dataset.index[-1] + pd.DateOffset(days=1)])\n",
      "/var/folders/by/st2c4w_96757fgwg7jsfc4480000gn/T/ipykernel_67404/3699000515.py:25: UserWarning: Discarding nonzero nanoseconds in conversion.\n",
      "  new_row = pd.DataFrame({'Close': [predicted_value]}, index=[new_dataset.index[-1] + pd.DateOffset(days=1)])\n"
     ]
    },
    {
     "name": "stdout",
     "output_type": "stream",
     "text": [
      "1/1 [==============================] - 0s 19ms/step\n",
      "1/1 [==============================] - 0s 19ms/step\n"
     ]
    },
    {
     "name": "stderr",
     "output_type": "stream",
     "text": [
      "/var/folders/by/st2c4w_96757fgwg7jsfc4480000gn/T/ipykernel_67404/3699000515.py:25: UserWarning: Discarding nonzero nanoseconds in conversion.\n",
      "  new_row = pd.DataFrame({'Close': [predicted_value]}, index=[new_dataset.index[-1] + pd.DateOffset(days=1)])\n",
      "/var/folders/by/st2c4w_96757fgwg7jsfc4480000gn/T/ipykernel_67404/3699000515.py:25: UserWarning: Discarding nonzero nanoseconds in conversion.\n",
      "  new_row = pd.DataFrame({'Close': [predicted_value]}, index=[new_dataset.index[-1] + pd.DateOffset(days=1)])\n"
     ]
    },
    {
     "name": "stdout",
     "output_type": "stream",
     "text": [
      "1/1 [==============================] - 0s 19ms/step\n",
      "1/1 [==============================] - 0s 19ms/step\n"
     ]
    },
    {
     "name": "stderr",
     "output_type": "stream",
     "text": [
      "/var/folders/by/st2c4w_96757fgwg7jsfc4480000gn/T/ipykernel_67404/3699000515.py:25: UserWarning: Discarding nonzero nanoseconds in conversion.\n",
      "  new_row = pd.DataFrame({'Close': [predicted_value]}, index=[new_dataset.index[-1] + pd.DateOffset(days=1)])\n",
      "/var/folders/by/st2c4w_96757fgwg7jsfc4480000gn/T/ipykernel_67404/3699000515.py:25: UserWarning: Discarding nonzero nanoseconds in conversion.\n",
      "  new_row = pd.DataFrame({'Close': [predicted_value]}, index=[new_dataset.index[-1] + pd.DateOffset(days=1)])\n"
     ]
    },
    {
     "name": "stdout",
     "output_type": "stream",
     "text": [
      "1/1 [==============================] - 0s 20ms/step\n",
      "1/1 [==============================] - 0s 19ms/step\n"
     ]
    },
    {
     "name": "stderr",
     "output_type": "stream",
     "text": [
      "/var/folders/by/st2c4w_96757fgwg7jsfc4480000gn/T/ipykernel_67404/3699000515.py:25: UserWarning: Discarding nonzero nanoseconds in conversion.\n",
      "  new_row = pd.DataFrame({'Close': [predicted_value]}, index=[new_dataset.index[-1] + pd.DateOffset(days=1)])\n",
      "/var/folders/by/st2c4w_96757fgwg7jsfc4480000gn/T/ipykernel_67404/3699000515.py:25: UserWarning: Discarding nonzero nanoseconds in conversion.\n",
      "  new_row = pd.DataFrame({'Close': [predicted_value]}, index=[new_dataset.index[-1] + pd.DateOffset(days=1)])\n"
     ]
    },
    {
     "name": "stdout",
     "output_type": "stream",
     "text": [
      "1/1 [==============================] - 0s 20ms/step\n",
      "1/1 [==============================] - 0s 19ms/step\n"
     ]
    },
    {
     "name": "stderr",
     "output_type": "stream",
     "text": [
      "/var/folders/by/st2c4w_96757fgwg7jsfc4480000gn/T/ipykernel_67404/3699000515.py:25: UserWarning: Discarding nonzero nanoseconds in conversion.\n",
      "  new_row = pd.DataFrame({'Close': [predicted_value]}, index=[new_dataset.index[-1] + pd.DateOffset(days=1)])\n",
      "/var/folders/by/st2c4w_96757fgwg7jsfc4480000gn/T/ipykernel_67404/3699000515.py:25: UserWarning: Discarding nonzero nanoseconds in conversion.\n",
      "  new_row = pd.DataFrame({'Close': [predicted_value]}, index=[new_dataset.index[-1] + pd.DateOffset(days=1)])\n"
     ]
    },
    {
     "name": "stdout",
     "output_type": "stream",
     "text": [
      "1/1 [==============================] - 0s 19ms/step\n",
      "1/1 [==============================] - 0s 19ms/step\n"
     ]
    },
    {
     "name": "stderr",
     "output_type": "stream",
     "text": [
      "/var/folders/by/st2c4w_96757fgwg7jsfc4480000gn/T/ipykernel_67404/3699000515.py:25: UserWarning: Discarding nonzero nanoseconds in conversion.\n",
      "  new_row = pd.DataFrame({'Close': [predicted_value]}, index=[new_dataset.index[-1] + pd.DateOffset(days=1)])\n",
      "/var/folders/by/st2c4w_96757fgwg7jsfc4480000gn/T/ipykernel_67404/3699000515.py:25: UserWarning: Discarding nonzero nanoseconds in conversion.\n",
      "  new_row = pd.DataFrame({'Close': [predicted_value]}, index=[new_dataset.index[-1] + pd.DateOffset(days=1)])\n"
     ]
    },
    {
     "name": "stdout",
     "output_type": "stream",
     "text": [
      "1/1 [==============================] - 0s 20ms/step\n",
      "1/1 [==============================] - 0s 19ms/step\n"
     ]
    },
    {
     "name": "stderr",
     "output_type": "stream",
     "text": [
      "/var/folders/by/st2c4w_96757fgwg7jsfc4480000gn/T/ipykernel_67404/3699000515.py:25: UserWarning: Discarding nonzero nanoseconds in conversion.\n",
      "  new_row = pd.DataFrame({'Close': [predicted_value]}, index=[new_dataset.index[-1] + pd.DateOffset(days=1)])\n",
      "/var/folders/by/st2c4w_96757fgwg7jsfc4480000gn/T/ipykernel_67404/3699000515.py:25: UserWarning: Discarding nonzero nanoseconds in conversion.\n",
      "  new_row = pd.DataFrame({'Close': [predicted_value]}, index=[new_dataset.index[-1] + pd.DateOffset(days=1)])\n"
     ]
    },
    {
     "name": "stdout",
     "output_type": "stream",
     "text": [
      "1/1 [==============================] - 0s 19ms/step\n",
      "1/1 [==============================] - 0s 21ms/step\n"
     ]
    },
    {
     "name": "stderr",
     "output_type": "stream",
     "text": [
      "/var/folders/by/st2c4w_96757fgwg7jsfc4480000gn/T/ipykernel_67404/3699000515.py:25: UserWarning: Discarding nonzero nanoseconds in conversion.\n",
      "  new_row = pd.DataFrame({'Close': [predicted_value]}, index=[new_dataset.index[-1] + pd.DateOffset(days=1)])\n",
      "/var/folders/by/st2c4w_96757fgwg7jsfc4480000gn/T/ipykernel_67404/3699000515.py:25: UserWarning: Discarding nonzero nanoseconds in conversion.\n",
      "  new_row = pd.DataFrame({'Close': [predicted_value]}, index=[new_dataset.index[-1] + pd.DateOffset(days=1)])\n"
     ]
    },
    {
     "name": "stdout",
     "output_type": "stream",
     "text": [
      "1/1 [==============================] - 0s 19ms/step\n",
      "1/1 [==============================] - 0s 20ms/step\n"
     ]
    },
    {
     "name": "stderr",
     "output_type": "stream",
     "text": [
      "/var/folders/by/st2c4w_96757fgwg7jsfc4480000gn/T/ipykernel_67404/3699000515.py:25: UserWarning: Discarding nonzero nanoseconds in conversion.\n",
      "  new_row = pd.DataFrame({'Close': [predicted_value]}, index=[new_dataset.index[-1] + pd.DateOffset(days=1)])\n",
      "/var/folders/by/st2c4w_96757fgwg7jsfc4480000gn/T/ipykernel_67404/3699000515.py:25: UserWarning: Discarding nonzero nanoseconds in conversion.\n",
      "  new_row = pd.DataFrame({'Close': [predicted_value]}, index=[new_dataset.index[-1] + pd.DateOffset(days=1)])\n"
     ]
    },
    {
     "name": "stdout",
     "output_type": "stream",
     "text": [
      "1/1 [==============================] - 0s 20ms/step\n",
      "1/1 [==============================] - 0s 19ms/step\n"
     ]
    },
    {
     "name": "stderr",
     "output_type": "stream",
     "text": [
      "/var/folders/by/st2c4w_96757fgwg7jsfc4480000gn/T/ipykernel_67404/3699000515.py:25: UserWarning: Discarding nonzero nanoseconds in conversion.\n",
      "  new_row = pd.DataFrame({'Close': [predicted_value]}, index=[new_dataset.index[-1] + pd.DateOffset(days=1)])\n",
      "/var/folders/by/st2c4w_96757fgwg7jsfc4480000gn/T/ipykernel_67404/3699000515.py:25: UserWarning: Discarding nonzero nanoseconds in conversion.\n",
      "  new_row = pd.DataFrame({'Close': [predicted_value]}, index=[new_dataset.index[-1] + pd.DateOffset(days=1)])\n"
     ]
    },
    {
     "name": "stdout",
     "output_type": "stream",
     "text": [
      "1/1 [==============================] - 0s 19ms/step\n",
      "1/1 [==============================] - 0s 19ms/step\n"
     ]
    },
    {
     "name": "stderr",
     "output_type": "stream",
     "text": [
      "/var/folders/by/st2c4w_96757fgwg7jsfc4480000gn/T/ipykernel_67404/3699000515.py:25: UserWarning: Discarding nonzero nanoseconds in conversion.\n",
      "  new_row = pd.DataFrame({'Close': [predicted_value]}, index=[new_dataset.index[-1] + pd.DateOffset(days=1)])\n",
      "/var/folders/by/st2c4w_96757fgwg7jsfc4480000gn/T/ipykernel_67404/3699000515.py:25: UserWarning: Discarding nonzero nanoseconds in conversion.\n",
      "  new_row = pd.DataFrame({'Close': [predicted_value]}, index=[new_dataset.index[-1] + pd.DateOffset(days=1)])\n"
     ]
    },
    {
     "name": "stdout",
     "output_type": "stream",
     "text": [
      "1/1 [==============================] - 0s 20ms/step\n",
      "1/1 [==============================] - 0s 19ms/step\n"
     ]
    },
    {
     "name": "stderr",
     "output_type": "stream",
     "text": [
      "/var/folders/by/st2c4w_96757fgwg7jsfc4480000gn/T/ipykernel_67404/3699000515.py:25: UserWarning: Discarding nonzero nanoseconds in conversion.\n",
      "  new_row = pd.DataFrame({'Close': [predicted_value]}, index=[new_dataset.index[-1] + pd.DateOffset(days=1)])\n",
      "/var/folders/by/st2c4w_96757fgwg7jsfc4480000gn/T/ipykernel_67404/3699000515.py:25: UserWarning: Discarding nonzero nanoseconds in conversion.\n",
      "  new_row = pd.DataFrame({'Close': [predicted_value]}, index=[new_dataset.index[-1] + pd.DateOffset(days=1)])\n"
     ]
    },
    {
     "name": "stdout",
     "output_type": "stream",
     "text": [
      "1/1 [==============================] - 0s 20ms/step\n",
      "1/1 [==============================] - 0s 20ms/step\n"
     ]
    },
    {
     "name": "stderr",
     "output_type": "stream",
     "text": [
      "/var/folders/by/st2c4w_96757fgwg7jsfc4480000gn/T/ipykernel_67404/3699000515.py:25: UserWarning: Discarding nonzero nanoseconds in conversion.\n",
      "  new_row = pd.DataFrame({'Close': [predicted_value]}, index=[new_dataset.index[-1] + pd.DateOffset(days=1)])\n",
      "/var/folders/by/st2c4w_96757fgwg7jsfc4480000gn/T/ipykernel_67404/3699000515.py:25: UserWarning: Discarding nonzero nanoseconds in conversion.\n",
      "  new_row = pd.DataFrame({'Close': [predicted_value]}, index=[new_dataset.index[-1] + pd.DateOffset(days=1)])\n"
     ]
    },
    {
     "name": "stdout",
     "output_type": "stream",
     "text": [
      "1/1 [==============================] - 0s 21ms/step\n",
      "1/1 [==============================] - 0s 19ms/step\n"
     ]
    },
    {
     "name": "stderr",
     "output_type": "stream",
     "text": [
      "/var/folders/by/st2c4w_96757fgwg7jsfc4480000gn/T/ipykernel_67404/3699000515.py:25: UserWarning: Discarding nonzero nanoseconds in conversion.\n",
      "  new_row = pd.DataFrame({'Close': [predicted_value]}, index=[new_dataset.index[-1] + pd.DateOffset(days=1)])\n",
      "/var/folders/by/st2c4w_96757fgwg7jsfc4480000gn/T/ipykernel_67404/3699000515.py:25: UserWarning: Discarding nonzero nanoseconds in conversion.\n",
      "  new_row = pd.DataFrame({'Close': [predicted_value]}, index=[new_dataset.index[-1] + pd.DateOffset(days=1)])\n"
     ]
    },
    {
     "name": "stdout",
     "output_type": "stream",
     "text": [
      "1/1 [==============================] - 0s 19ms/step\n",
      "1/1 [==============================] - 0s 19ms/step\n"
     ]
    },
    {
     "name": "stderr",
     "output_type": "stream",
     "text": [
      "/var/folders/by/st2c4w_96757fgwg7jsfc4480000gn/T/ipykernel_67404/3699000515.py:25: UserWarning: Discarding nonzero nanoseconds in conversion.\n",
      "  new_row = pd.DataFrame({'Close': [predicted_value]}, index=[new_dataset.index[-1] + pd.DateOffset(days=1)])\n",
      "/var/folders/by/st2c4w_96757fgwg7jsfc4480000gn/T/ipykernel_67404/3699000515.py:25: UserWarning: Discarding nonzero nanoseconds in conversion.\n",
      "  new_row = pd.DataFrame({'Close': [predicted_value]}, index=[new_dataset.index[-1] + pd.DateOffset(days=1)])\n"
     ]
    },
    {
     "name": "stdout",
     "output_type": "stream",
     "text": [
      "1/1 [==============================] - 0s 19ms/step\n",
      "1/1 [==============================] - 0s 19ms/step\n"
     ]
    },
    {
     "name": "stderr",
     "output_type": "stream",
     "text": [
      "/var/folders/by/st2c4w_96757fgwg7jsfc4480000gn/T/ipykernel_67404/3699000515.py:25: UserWarning: Discarding nonzero nanoseconds in conversion.\n",
      "  new_row = pd.DataFrame({'Close': [predicted_value]}, index=[new_dataset.index[-1] + pd.DateOffset(days=1)])\n",
      "/var/folders/by/st2c4w_96757fgwg7jsfc4480000gn/T/ipykernel_67404/3699000515.py:25: UserWarning: Discarding nonzero nanoseconds in conversion.\n",
      "  new_row = pd.DataFrame({'Close': [predicted_value]}, index=[new_dataset.index[-1] + pd.DateOffset(days=1)])\n"
     ]
    },
    {
     "name": "stdout",
     "output_type": "stream",
     "text": [
      "1/1 [==============================] - 0s 20ms/step\n",
      "1/1 [==============================] - 0s 20ms/step\n"
     ]
    },
    {
     "name": "stderr",
     "output_type": "stream",
     "text": [
      "/var/folders/by/st2c4w_96757fgwg7jsfc4480000gn/T/ipykernel_67404/3699000515.py:25: UserWarning: Discarding nonzero nanoseconds in conversion.\n",
      "  new_row = pd.DataFrame({'Close': [predicted_value]}, index=[new_dataset.index[-1] + pd.DateOffset(days=1)])\n",
      "/var/folders/by/st2c4w_96757fgwg7jsfc4480000gn/T/ipykernel_67404/3699000515.py:25: UserWarning: Discarding nonzero nanoseconds in conversion.\n",
      "  new_row = pd.DataFrame({'Close': [predicted_value]}, index=[new_dataset.index[-1] + pd.DateOffset(days=1)])\n"
     ]
    },
    {
     "name": "stdout",
     "output_type": "stream",
     "text": [
      "1/1 [==============================] - 0s 20ms/step\n",
      "1/1 [==============================] - 0s 19ms/step\n"
     ]
    },
    {
     "name": "stderr",
     "output_type": "stream",
     "text": [
      "/var/folders/by/st2c4w_96757fgwg7jsfc4480000gn/T/ipykernel_67404/3699000515.py:25: UserWarning: Discarding nonzero nanoseconds in conversion.\n",
      "  new_row = pd.DataFrame({'Close': [predicted_value]}, index=[new_dataset.index[-1] + pd.DateOffset(days=1)])\n",
      "/var/folders/by/st2c4w_96757fgwg7jsfc4480000gn/T/ipykernel_67404/3699000515.py:25: UserWarning: Discarding nonzero nanoseconds in conversion.\n",
      "  new_row = pd.DataFrame({'Close': [predicted_value]}, index=[new_dataset.index[-1] + pd.DateOffset(days=1)])\n"
     ]
    },
    {
     "name": "stdout",
     "output_type": "stream",
     "text": [
      "1/1 [==============================] - 0s 20ms/step\n",
      "1/1 [==============================] - 0s 19ms/step\n"
     ]
    },
    {
     "name": "stderr",
     "output_type": "stream",
     "text": [
      "/var/folders/by/st2c4w_96757fgwg7jsfc4480000gn/T/ipykernel_67404/3699000515.py:25: UserWarning: Discarding nonzero nanoseconds in conversion.\n",
      "  new_row = pd.DataFrame({'Close': [predicted_value]}, index=[new_dataset.index[-1] + pd.DateOffset(days=1)])\n",
      "/var/folders/by/st2c4w_96757fgwg7jsfc4480000gn/T/ipykernel_67404/3699000515.py:25: UserWarning: Discarding nonzero nanoseconds in conversion.\n",
      "  new_row = pd.DataFrame({'Close': [predicted_value]}, index=[new_dataset.index[-1] + pd.DateOffset(days=1)])\n"
     ]
    },
    {
     "name": "stdout",
     "output_type": "stream",
     "text": [
      "1/1 [==============================] - 0s 19ms/step\n",
      "1/1 [==============================] - 0s 19ms/step\n"
     ]
    },
    {
     "name": "stderr",
     "output_type": "stream",
     "text": [
      "/var/folders/by/st2c4w_96757fgwg7jsfc4480000gn/T/ipykernel_67404/3699000515.py:25: UserWarning: Discarding nonzero nanoseconds in conversion.\n",
      "  new_row = pd.DataFrame({'Close': [predicted_value]}, index=[new_dataset.index[-1] + pd.DateOffset(days=1)])\n",
      "/var/folders/by/st2c4w_96757fgwg7jsfc4480000gn/T/ipykernel_67404/3699000515.py:25: UserWarning: Discarding nonzero nanoseconds in conversion.\n",
      "  new_row = pd.DataFrame({'Close': [predicted_value]}, index=[new_dataset.index[-1] + pd.DateOffset(days=1)])\n"
     ]
    },
    {
     "name": "stdout",
     "output_type": "stream",
     "text": [
      "1/1 [==============================] - 0s 20ms/step\n",
      "1/1 [==============================] - 0s 19ms/step\n"
     ]
    },
    {
     "name": "stderr",
     "output_type": "stream",
     "text": [
      "/var/folders/by/st2c4w_96757fgwg7jsfc4480000gn/T/ipykernel_67404/3699000515.py:25: UserWarning: Discarding nonzero nanoseconds in conversion.\n",
      "  new_row = pd.DataFrame({'Close': [predicted_value]}, index=[new_dataset.index[-1] + pd.DateOffset(days=1)])\n",
      "/var/folders/by/st2c4w_96757fgwg7jsfc4480000gn/T/ipykernel_67404/3699000515.py:25: UserWarning: Discarding nonzero nanoseconds in conversion.\n",
      "  new_row = pd.DataFrame({'Close': [predicted_value]}, index=[new_dataset.index[-1] + pd.DateOffset(days=1)])\n"
     ]
    },
    {
     "name": "stdout",
     "output_type": "stream",
     "text": [
      "1/1 [==============================] - 0s 20ms/step\n",
      "1/1 [==============================] - 0s 19ms/step\n"
     ]
    },
    {
     "name": "stderr",
     "output_type": "stream",
     "text": [
      "/var/folders/by/st2c4w_96757fgwg7jsfc4480000gn/T/ipykernel_67404/3699000515.py:25: UserWarning: Discarding nonzero nanoseconds in conversion.\n",
      "  new_row = pd.DataFrame({'Close': [predicted_value]}, index=[new_dataset.index[-1] + pd.DateOffset(days=1)])\n",
      "/var/folders/by/st2c4w_96757fgwg7jsfc4480000gn/T/ipykernel_67404/3699000515.py:25: UserWarning: Discarding nonzero nanoseconds in conversion.\n",
      "  new_row = pd.DataFrame({'Close': [predicted_value]}, index=[new_dataset.index[-1] + pd.DateOffset(days=1)])\n"
     ]
    },
    {
     "name": "stdout",
     "output_type": "stream",
     "text": [
      "1/1 [==============================] - 0s 20ms/step\n",
      "1/1 [==============================] - 0s 20ms/step\n"
     ]
    },
    {
     "name": "stderr",
     "output_type": "stream",
     "text": [
      "/var/folders/by/st2c4w_96757fgwg7jsfc4480000gn/T/ipykernel_67404/3699000515.py:25: UserWarning: Discarding nonzero nanoseconds in conversion.\n",
      "  new_row = pd.DataFrame({'Close': [predicted_value]}, index=[new_dataset.index[-1] + pd.DateOffset(days=1)])\n",
      "/var/folders/by/st2c4w_96757fgwg7jsfc4480000gn/T/ipykernel_67404/3699000515.py:25: UserWarning: Discarding nonzero nanoseconds in conversion.\n",
      "  new_row = pd.DataFrame({'Close': [predicted_value]}, index=[new_dataset.index[-1] + pd.DateOffset(days=1)])\n"
     ]
    },
    {
     "name": "stdout",
     "output_type": "stream",
     "text": [
      "1/1 [==============================] - 0s 19ms/step\n",
      "1/1 [==============================] - 0s 19ms/step\n"
     ]
    },
    {
     "name": "stderr",
     "output_type": "stream",
     "text": [
      "/var/folders/by/st2c4w_96757fgwg7jsfc4480000gn/T/ipykernel_67404/3699000515.py:25: UserWarning: Discarding nonzero nanoseconds in conversion.\n",
      "  new_row = pd.DataFrame({'Close': [predicted_value]}, index=[new_dataset.index[-1] + pd.DateOffset(days=1)])\n",
      "/var/folders/by/st2c4w_96757fgwg7jsfc4480000gn/T/ipykernel_67404/3699000515.py:25: UserWarning: Discarding nonzero nanoseconds in conversion.\n",
      "  new_row = pd.DataFrame({'Close': [predicted_value]}, index=[new_dataset.index[-1] + pd.DateOffset(days=1)])\n"
     ]
    },
    {
     "name": "stdout",
     "output_type": "stream",
     "text": [
      "1/1 [==============================] - 0s 24ms/step\n",
      "1/1 [==============================] - 0s 20ms/step\n"
     ]
    },
    {
     "name": "stderr",
     "output_type": "stream",
     "text": [
      "/var/folders/by/st2c4w_96757fgwg7jsfc4480000gn/T/ipykernel_67404/3699000515.py:25: UserWarning: Discarding nonzero nanoseconds in conversion.\n",
      "  new_row = pd.DataFrame({'Close': [predicted_value]}, index=[new_dataset.index[-1] + pd.DateOffset(days=1)])\n",
      "/var/folders/by/st2c4w_96757fgwg7jsfc4480000gn/T/ipykernel_67404/3699000515.py:25: UserWarning: Discarding nonzero nanoseconds in conversion.\n",
      "  new_row = pd.DataFrame({'Close': [predicted_value]}, index=[new_dataset.index[-1] + pd.DateOffset(days=1)])\n"
     ]
    },
    {
     "name": "stdout",
     "output_type": "stream",
     "text": [
      "1/1 [==============================] - 0s 19ms/step\n",
      "1/1 [==============================] - 0s 19ms/step\n"
     ]
    },
    {
     "name": "stderr",
     "output_type": "stream",
     "text": [
      "/var/folders/by/st2c4w_96757fgwg7jsfc4480000gn/T/ipykernel_67404/3699000515.py:25: UserWarning: Discarding nonzero nanoseconds in conversion.\n",
      "  new_row = pd.DataFrame({'Close': [predicted_value]}, index=[new_dataset.index[-1] + pd.DateOffset(days=1)])\n",
      "/var/folders/by/st2c4w_96757fgwg7jsfc4480000gn/T/ipykernel_67404/3699000515.py:25: UserWarning: Discarding nonzero nanoseconds in conversion.\n",
      "  new_row = pd.DataFrame({'Close': [predicted_value]}, index=[new_dataset.index[-1] + pd.DateOffset(days=1)])\n"
     ]
    },
    {
     "name": "stdout",
     "output_type": "stream",
     "text": [
      "1/1 [==============================] - 0s 19ms/step\n",
      "1/1 [==============================] - 0s 19ms/step\n"
     ]
    },
    {
     "name": "stderr",
     "output_type": "stream",
     "text": [
      "/var/folders/by/st2c4w_96757fgwg7jsfc4480000gn/T/ipykernel_67404/3699000515.py:25: UserWarning: Discarding nonzero nanoseconds in conversion.\n",
      "  new_row = pd.DataFrame({'Close': [predicted_value]}, index=[new_dataset.index[-1] + pd.DateOffset(days=1)])\n",
      "/var/folders/by/st2c4w_96757fgwg7jsfc4480000gn/T/ipykernel_67404/3699000515.py:25: UserWarning: Discarding nonzero nanoseconds in conversion.\n",
      "  new_row = pd.DataFrame({'Close': [predicted_value]}, index=[new_dataset.index[-1] + pd.DateOffset(days=1)])\n"
     ]
    },
    {
     "name": "stdout",
     "output_type": "stream",
     "text": [
      "1/1 [==============================] - 0s 19ms/step\n",
      "1/1 [==============================] - 0s 19ms/step\n"
     ]
    },
    {
     "name": "stderr",
     "output_type": "stream",
     "text": [
      "/var/folders/by/st2c4w_96757fgwg7jsfc4480000gn/T/ipykernel_67404/3699000515.py:25: UserWarning: Discarding nonzero nanoseconds in conversion.\n",
      "  new_row = pd.DataFrame({'Close': [predicted_value]}, index=[new_dataset.index[-1] + pd.DateOffset(days=1)])\n",
      "/var/folders/by/st2c4w_96757fgwg7jsfc4480000gn/T/ipykernel_67404/3699000515.py:25: UserWarning: Discarding nonzero nanoseconds in conversion.\n",
      "  new_row = pd.DataFrame({'Close': [predicted_value]}, index=[new_dataset.index[-1] + pd.DateOffset(days=1)])\n"
     ]
    },
    {
     "name": "stdout",
     "output_type": "stream",
     "text": [
      "1/1 [==============================] - 0s 19ms/step\n",
      "1/1 [==============================] - 0s 19ms/step\n"
     ]
    },
    {
     "name": "stderr",
     "output_type": "stream",
     "text": [
      "/var/folders/by/st2c4w_96757fgwg7jsfc4480000gn/T/ipykernel_67404/3699000515.py:25: UserWarning: Discarding nonzero nanoseconds in conversion.\n",
      "  new_row = pd.DataFrame({'Close': [predicted_value]}, index=[new_dataset.index[-1] + pd.DateOffset(days=1)])\n",
      "/var/folders/by/st2c4w_96757fgwg7jsfc4480000gn/T/ipykernel_67404/3699000515.py:25: UserWarning: Discarding nonzero nanoseconds in conversion.\n",
      "  new_row = pd.DataFrame({'Close': [predicted_value]}, index=[new_dataset.index[-1] + pd.DateOffset(days=1)])\n"
     ]
    },
    {
     "name": "stdout",
     "output_type": "stream",
     "text": [
      "1/1 [==============================] - 0s 24ms/step\n",
      "1/1 [==============================] - 0s 19ms/step\n"
     ]
    },
    {
     "name": "stderr",
     "output_type": "stream",
     "text": [
      "/var/folders/by/st2c4w_96757fgwg7jsfc4480000gn/T/ipykernel_67404/3699000515.py:25: UserWarning: Discarding nonzero nanoseconds in conversion.\n",
      "  new_row = pd.DataFrame({'Close': [predicted_value]}, index=[new_dataset.index[-1] + pd.DateOffset(days=1)])\n",
      "/var/folders/by/st2c4w_96757fgwg7jsfc4480000gn/T/ipykernel_67404/3699000515.py:25: UserWarning: Discarding nonzero nanoseconds in conversion.\n",
      "  new_row = pd.DataFrame({'Close': [predicted_value]}, index=[new_dataset.index[-1] + pd.DateOffset(days=1)])\n"
     ]
    },
    {
     "name": "stdout",
     "output_type": "stream",
     "text": [
      "1/1 [==============================] - 0s 19ms/step\n",
      "1/1 [==============================] - 0s 19ms/step\n"
     ]
    },
    {
     "name": "stderr",
     "output_type": "stream",
     "text": [
      "/var/folders/by/st2c4w_96757fgwg7jsfc4480000gn/T/ipykernel_67404/3699000515.py:25: UserWarning: Discarding nonzero nanoseconds in conversion.\n",
      "  new_row = pd.DataFrame({'Close': [predicted_value]}, index=[new_dataset.index[-1] + pd.DateOffset(days=1)])\n",
      "/var/folders/by/st2c4w_96757fgwg7jsfc4480000gn/T/ipykernel_67404/3699000515.py:25: UserWarning: Discarding nonzero nanoseconds in conversion.\n",
      "  new_row = pd.DataFrame({'Close': [predicted_value]}, index=[new_dataset.index[-1] + pd.DateOffset(days=1)])\n"
     ]
    },
    {
     "name": "stdout",
     "output_type": "stream",
     "text": [
      "1/1 [==============================] - 0s 19ms/step\n",
      "1/1 [==============================] - 0s 19ms/step\n"
     ]
    },
    {
     "name": "stderr",
     "output_type": "stream",
     "text": [
      "/var/folders/by/st2c4w_96757fgwg7jsfc4480000gn/T/ipykernel_67404/3699000515.py:25: UserWarning: Discarding nonzero nanoseconds in conversion.\n",
      "  new_row = pd.DataFrame({'Close': [predicted_value]}, index=[new_dataset.index[-1] + pd.DateOffset(days=1)])\n",
      "/var/folders/by/st2c4w_96757fgwg7jsfc4480000gn/T/ipykernel_67404/3699000515.py:25: UserWarning: Discarding nonzero nanoseconds in conversion.\n",
      "  new_row = pd.DataFrame({'Close': [predicted_value]}, index=[new_dataset.index[-1] + pd.DateOffset(days=1)])\n"
     ]
    },
    {
     "name": "stdout",
     "output_type": "stream",
     "text": [
      "1/1 [==============================] - 0s 19ms/step\n",
      "1/1 [==============================] - 0s 19ms/step\n"
     ]
    },
    {
     "name": "stderr",
     "output_type": "stream",
     "text": [
      "/var/folders/by/st2c4w_96757fgwg7jsfc4480000gn/T/ipykernel_67404/3699000515.py:25: UserWarning: Discarding nonzero nanoseconds in conversion.\n",
      "  new_row = pd.DataFrame({'Close': [predicted_value]}, index=[new_dataset.index[-1] + pd.DateOffset(days=1)])\n",
      "/var/folders/by/st2c4w_96757fgwg7jsfc4480000gn/T/ipykernel_67404/3699000515.py:25: UserWarning: Discarding nonzero nanoseconds in conversion.\n",
      "  new_row = pd.DataFrame({'Close': [predicted_value]}, index=[new_dataset.index[-1] + pd.DateOffset(days=1)])\n"
     ]
    },
    {
     "name": "stdout",
     "output_type": "stream",
     "text": [
      "1/1 [==============================] - 0s 19ms/step\n",
      "1/1 [==============================] - 0s 19ms/step\n"
     ]
    },
    {
     "name": "stderr",
     "output_type": "stream",
     "text": [
      "/var/folders/by/st2c4w_96757fgwg7jsfc4480000gn/T/ipykernel_67404/3699000515.py:25: UserWarning: Discarding nonzero nanoseconds in conversion.\n",
      "  new_row = pd.DataFrame({'Close': [predicted_value]}, index=[new_dataset.index[-1] + pd.DateOffset(days=1)])\n",
      "/var/folders/by/st2c4w_96757fgwg7jsfc4480000gn/T/ipykernel_67404/3699000515.py:25: UserWarning: Discarding nonzero nanoseconds in conversion.\n",
      "  new_row = pd.DataFrame({'Close': [predicted_value]}, index=[new_dataset.index[-1] + pd.DateOffset(days=1)])\n"
     ]
    },
    {
     "name": "stdout",
     "output_type": "stream",
     "text": [
      "1/1 [==============================] - 0s 23ms/step\n",
      "1/1 [==============================] - 0s 20ms/step\n"
     ]
    },
    {
     "name": "stderr",
     "output_type": "stream",
     "text": [
      "/var/folders/by/st2c4w_96757fgwg7jsfc4480000gn/T/ipykernel_67404/3699000515.py:25: UserWarning: Discarding nonzero nanoseconds in conversion.\n",
      "  new_row = pd.DataFrame({'Close': [predicted_value]}, index=[new_dataset.index[-1] + pd.DateOffset(days=1)])\n",
      "/var/folders/by/st2c4w_96757fgwg7jsfc4480000gn/T/ipykernel_67404/3699000515.py:25: UserWarning: Discarding nonzero nanoseconds in conversion.\n",
      "  new_row = pd.DataFrame({'Close': [predicted_value]}, index=[new_dataset.index[-1] + pd.DateOffset(days=1)])\n"
     ]
    },
    {
     "name": "stdout",
     "output_type": "stream",
     "text": [
      "1/1 [==============================] - 0s 19ms/step\n",
      "1/1 [==============================] - 0s 19ms/step\n"
     ]
    },
    {
     "name": "stderr",
     "output_type": "stream",
     "text": [
      "/var/folders/by/st2c4w_96757fgwg7jsfc4480000gn/T/ipykernel_67404/3699000515.py:25: UserWarning: Discarding nonzero nanoseconds in conversion.\n",
      "  new_row = pd.DataFrame({'Close': [predicted_value]}, index=[new_dataset.index[-1] + pd.DateOffset(days=1)])\n",
      "/var/folders/by/st2c4w_96757fgwg7jsfc4480000gn/T/ipykernel_67404/3699000515.py:25: UserWarning: Discarding nonzero nanoseconds in conversion.\n",
      "  new_row = pd.DataFrame({'Close': [predicted_value]}, index=[new_dataset.index[-1] + pd.DateOffset(days=1)])\n"
     ]
    },
    {
     "name": "stdout",
     "output_type": "stream",
     "text": [
      "1/1 [==============================] - 0s 19ms/step\n",
      "1/1 [==============================] - 0s 19ms/step\n"
     ]
    },
    {
     "name": "stderr",
     "output_type": "stream",
     "text": [
      "/var/folders/by/st2c4w_96757fgwg7jsfc4480000gn/T/ipykernel_67404/3699000515.py:25: UserWarning: Discarding nonzero nanoseconds in conversion.\n",
      "  new_row = pd.DataFrame({'Close': [predicted_value]}, index=[new_dataset.index[-1] + pd.DateOffset(days=1)])\n",
      "/var/folders/by/st2c4w_96757fgwg7jsfc4480000gn/T/ipykernel_67404/3699000515.py:25: UserWarning: Discarding nonzero nanoseconds in conversion.\n",
      "  new_row = pd.DataFrame({'Close': [predicted_value]}, index=[new_dataset.index[-1] + pd.DateOffset(days=1)])\n"
     ]
    },
    {
     "name": "stdout",
     "output_type": "stream",
     "text": [
      "1/1 [==============================] - 0s 20ms/step\n",
      "1/1 [==============================] - 0s 20ms/step\n"
     ]
    },
    {
     "name": "stderr",
     "output_type": "stream",
     "text": [
      "/var/folders/by/st2c4w_96757fgwg7jsfc4480000gn/T/ipykernel_67404/3699000515.py:25: UserWarning: Discarding nonzero nanoseconds in conversion.\n",
      "  new_row = pd.DataFrame({'Close': [predicted_value]}, index=[new_dataset.index[-1] + pd.DateOffset(days=1)])\n",
      "/var/folders/by/st2c4w_96757fgwg7jsfc4480000gn/T/ipykernel_67404/3699000515.py:25: UserWarning: Discarding nonzero nanoseconds in conversion.\n",
      "  new_row = pd.DataFrame({'Close': [predicted_value]}, index=[new_dataset.index[-1] + pd.DateOffset(days=1)])\n"
     ]
    },
    {
     "name": "stdout",
     "output_type": "stream",
     "text": [
      "1/1 [==============================] - 0s 20ms/step\n",
      "1/1 [==============================] - 0s 21ms/step\n"
     ]
    },
    {
     "name": "stderr",
     "output_type": "stream",
     "text": [
      "/var/folders/by/st2c4w_96757fgwg7jsfc4480000gn/T/ipykernel_67404/3699000515.py:25: UserWarning: Discarding nonzero nanoseconds in conversion.\n",
      "  new_row = pd.DataFrame({'Close': [predicted_value]}, index=[new_dataset.index[-1] + pd.DateOffset(days=1)])\n",
      "/var/folders/by/st2c4w_96757fgwg7jsfc4480000gn/T/ipykernel_67404/3699000515.py:25: UserWarning: Discarding nonzero nanoseconds in conversion.\n",
      "  new_row = pd.DataFrame({'Close': [predicted_value]}, index=[new_dataset.index[-1] + pd.DateOffset(days=1)])\n"
     ]
    },
    {
     "name": "stdout",
     "output_type": "stream",
     "text": [
      "1/1 [==============================] - 0s 20ms/step\n",
      "1/1 [==============================] - 0s 20ms/step\n"
     ]
    },
    {
     "name": "stderr",
     "output_type": "stream",
     "text": [
      "/var/folders/by/st2c4w_96757fgwg7jsfc4480000gn/T/ipykernel_67404/3699000515.py:25: UserWarning: Discarding nonzero nanoseconds in conversion.\n",
      "  new_row = pd.DataFrame({'Close': [predicted_value]}, index=[new_dataset.index[-1] + pd.DateOffset(days=1)])\n",
      "/var/folders/by/st2c4w_96757fgwg7jsfc4480000gn/T/ipykernel_67404/3699000515.py:25: UserWarning: Discarding nonzero nanoseconds in conversion.\n",
      "  new_row = pd.DataFrame({'Close': [predicted_value]}, index=[new_dataset.index[-1] + pd.DateOffset(days=1)])\n"
     ]
    },
    {
     "name": "stdout",
     "output_type": "stream",
     "text": [
      "1/1 [==============================] - 0s 19ms/step\n",
      "1/1 [==============================] - 0s 19ms/step\n"
     ]
    },
    {
     "name": "stderr",
     "output_type": "stream",
     "text": [
      "/var/folders/by/st2c4w_96757fgwg7jsfc4480000gn/T/ipykernel_67404/3699000515.py:25: UserWarning: Discarding nonzero nanoseconds in conversion.\n",
      "  new_row = pd.DataFrame({'Close': [predicted_value]}, index=[new_dataset.index[-1] + pd.DateOffset(days=1)])\n",
      "/var/folders/by/st2c4w_96757fgwg7jsfc4480000gn/T/ipykernel_67404/3699000515.py:25: UserWarning: Discarding nonzero nanoseconds in conversion.\n",
      "  new_row = pd.DataFrame({'Close': [predicted_value]}, index=[new_dataset.index[-1] + pd.DateOffset(days=1)])\n"
     ]
    },
    {
     "name": "stdout",
     "output_type": "stream",
     "text": [
      "1/1 [==============================] - 0s 19ms/step\n",
      "1/1 [==============================] - 0s 19ms/step\n"
     ]
    },
    {
     "name": "stderr",
     "output_type": "stream",
     "text": [
      "/var/folders/by/st2c4w_96757fgwg7jsfc4480000gn/T/ipykernel_67404/3699000515.py:25: UserWarning: Discarding nonzero nanoseconds in conversion.\n",
      "  new_row = pd.DataFrame({'Close': [predicted_value]}, index=[new_dataset.index[-1] + pd.DateOffset(days=1)])\n",
      "/var/folders/by/st2c4w_96757fgwg7jsfc4480000gn/T/ipykernel_67404/3699000515.py:25: UserWarning: Discarding nonzero nanoseconds in conversion.\n",
      "  new_row = pd.DataFrame({'Close': [predicted_value]}, index=[new_dataset.index[-1] + pd.DateOffset(days=1)])\n"
     ]
    },
    {
     "name": "stdout",
     "output_type": "stream",
     "text": [
      "1/1 [==============================] - 0s 20ms/step\n",
      "1/1 [==============================] - 0s 22ms/step\n"
     ]
    },
    {
     "name": "stderr",
     "output_type": "stream",
     "text": [
      "/var/folders/by/st2c4w_96757fgwg7jsfc4480000gn/T/ipykernel_67404/3699000515.py:25: UserWarning: Discarding nonzero nanoseconds in conversion.\n",
      "  new_row = pd.DataFrame({'Close': [predicted_value]}, index=[new_dataset.index[-1] + pd.DateOffset(days=1)])\n",
      "/var/folders/by/st2c4w_96757fgwg7jsfc4480000gn/T/ipykernel_67404/3699000515.py:25: UserWarning: Discarding nonzero nanoseconds in conversion.\n",
      "  new_row = pd.DataFrame({'Close': [predicted_value]}, index=[new_dataset.index[-1] + pd.DateOffset(days=1)])\n"
     ]
    },
    {
     "name": "stdout",
     "output_type": "stream",
     "text": [
      "1/1 [==============================] - 0s 19ms/step\n",
      "1/1 [==============================] - 0s 19ms/step\n"
     ]
    },
    {
     "name": "stderr",
     "output_type": "stream",
     "text": [
      "/var/folders/by/st2c4w_96757fgwg7jsfc4480000gn/T/ipykernel_67404/3699000515.py:25: UserWarning: Discarding nonzero nanoseconds in conversion.\n",
      "  new_row = pd.DataFrame({'Close': [predicted_value]}, index=[new_dataset.index[-1] + pd.DateOffset(days=1)])\n",
      "/var/folders/by/st2c4w_96757fgwg7jsfc4480000gn/T/ipykernel_67404/3699000515.py:25: UserWarning: Discarding nonzero nanoseconds in conversion.\n",
      "  new_row = pd.DataFrame({'Close': [predicted_value]}, index=[new_dataset.index[-1] + pd.DateOffset(days=1)])\n"
     ]
    },
    {
     "name": "stdout",
     "output_type": "stream",
     "text": [
      "1/1 [==============================] - 0s 19ms/step\n",
      "1/1 [==============================] - 0s 19ms/step\n"
     ]
    },
    {
     "name": "stderr",
     "output_type": "stream",
     "text": [
      "/var/folders/by/st2c4w_96757fgwg7jsfc4480000gn/T/ipykernel_67404/3699000515.py:25: UserWarning: Discarding nonzero nanoseconds in conversion.\n",
      "  new_row = pd.DataFrame({'Close': [predicted_value]}, index=[new_dataset.index[-1] + pd.DateOffset(days=1)])\n",
      "/var/folders/by/st2c4w_96757fgwg7jsfc4480000gn/T/ipykernel_67404/3699000515.py:25: UserWarning: Discarding nonzero nanoseconds in conversion.\n",
      "  new_row = pd.DataFrame({'Close': [predicted_value]}, index=[new_dataset.index[-1] + pd.DateOffset(days=1)])\n"
     ]
    },
    {
     "name": "stdout",
     "output_type": "stream",
     "text": [
      "1/1 [==============================] - 0s 20ms/step\n",
      "1/1 [==============================] - 0s 19ms/step\n"
     ]
    },
    {
     "name": "stderr",
     "output_type": "stream",
     "text": [
      "/var/folders/by/st2c4w_96757fgwg7jsfc4480000gn/T/ipykernel_67404/3699000515.py:25: UserWarning: Discarding nonzero nanoseconds in conversion.\n",
      "  new_row = pd.DataFrame({'Close': [predicted_value]}, index=[new_dataset.index[-1] + pd.DateOffset(days=1)])\n",
      "/var/folders/by/st2c4w_96757fgwg7jsfc4480000gn/T/ipykernel_67404/3699000515.py:25: UserWarning: Discarding nonzero nanoseconds in conversion.\n",
      "  new_row = pd.DataFrame({'Close': [predicted_value]}, index=[new_dataset.index[-1] + pd.DateOffset(days=1)])\n"
     ]
    },
    {
     "name": "stdout",
     "output_type": "stream",
     "text": [
      "1/1 [==============================] - 0s 19ms/step\n",
      "1/1 [==============================] - 0s 19ms/step\n"
     ]
    },
    {
     "name": "stderr",
     "output_type": "stream",
     "text": [
      "/var/folders/by/st2c4w_96757fgwg7jsfc4480000gn/T/ipykernel_67404/3699000515.py:25: UserWarning: Discarding nonzero nanoseconds in conversion.\n",
      "  new_row = pd.DataFrame({'Close': [predicted_value]}, index=[new_dataset.index[-1] + pd.DateOffset(days=1)])\n",
      "/var/folders/by/st2c4w_96757fgwg7jsfc4480000gn/T/ipykernel_67404/3699000515.py:25: UserWarning: Discarding nonzero nanoseconds in conversion.\n",
      "  new_row = pd.DataFrame({'Close': [predicted_value]}, index=[new_dataset.index[-1] + pd.DateOffset(days=1)])\n"
     ]
    },
    {
     "name": "stdout",
     "output_type": "stream",
     "text": [
      "1/1 [==============================] - 0s 20ms/step\n",
      "1/1 [==============================] - 0s 19ms/step\n"
     ]
    },
    {
     "name": "stderr",
     "output_type": "stream",
     "text": [
      "/var/folders/by/st2c4w_96757fgwg7jsfc4480000gn/T/ipykernel_67404/3699000515.py:25: UserWarning: Discarding nonzero nanoseconds in conversion.\n",
      "  new_row = pd.DataFrame({'Close': [predicted_value]}, index=[new_dataset.index[-1] + pd.DateOffset(days=1)])\n",
      "/var/folders/by/st2c4w_96757fgwg7jsfc4480000gn/T/ipykernel_67404/3699000515.py:25: UserWarning: Discarding nonzero nanoseconds in conversion.\n",
      "  new_row = pd.DataFrame({'Close': [predicted_value]}, index=[new_dataset.index[-1] + pd.DateOffset(days=1)])\n"
     ]
    },
    {
     "name": "stdout",
     "output_type": "stream",
     "text": [
      "1/1 [==============================] - 0s 20ms/step\n",
      "1/1 [==============================] - 0s 19ms/step\n"
     ]
    },
    {
     "name": "stderr",
     "output_type": "stream",
     "text": [
      "/var/folders/by/st2c4w_96757fgwg7jsfc4480000gn/T/ipykernel_67404/3699000515.py:25: UserWarning: Discarding nonzero nanoseconds in conversion.\n",
      "  new_row = pd.DataFrame({'Close': [predicted_value]}, index=[new_dataset.index[-1] + pd.DateOffset(days=1)])\n",
      "/var/folders/by/st2c4w_96757fgwg7jsfc4480000gn/T/ipykernel_67404/3699000515.py:25: UserWarning: Discarding nonzero nanoseconds in conversion.\n",
      "  new_row = pd.DataFrame({'Close': [predicted_value]}, index=[new_dataset.index[-1] + pd.DateOffset(days=1)])\n"
     ]
    },
    {
     "name": "stdout",
     "output_type": "stream",
     "text": [
      "1/1 [==============================] - 0s 20ms/step\n",
      "1/1 [==============================] - 0s 19ms/step\n"
     ]
    },
    {
     "name": "stderr",
     "output_type": "stream",
     "text": [
      "/var/folders/by/st2c4w_96757fgwg7jsfc4480000gn/T/ipykernel_67404/3699000515.py:25: UserWarning: Discarding nonzero nanoseconds in conversion.\n",
      "  new_row = pd.DataFrame({'Close': [predicted_value]}, index=[new_dataset.index[-1] + pd.DateOffset(days=1)])\n",
      "/var/folders/by/st2c4w_96757fgwg7jsfc4480000gn/T/ipykernel_67404/3699000515.py:25: UserWarning: Discarding nonzero nanoseconds in conversion.\n",
      "  new_row = pd.DataFrame({'Close': [predicted_value]}, index=[new_dataset.index[-1] + pd.DateOffset(days=1)])\n"
     ]
    },
    {
     "name": "stdout",
     "output_type": "stream",
     "text": [
      "1/1 [==============================] - 0s 19ms/step\n",
      "1/1 [==============================] - 0s 19ms/step\n"
     ]
    },
    {
     "name": "stderr",
     "output_type": "stream",
     "text": [
      "/var/folders/by/st2c4w_96757fgwg7jsfc4480000gn/T/ipykernel_67404/3699000515.py:25: UserWarning: Discarding nonzero nanoseconds in conversion.\n",
      "  new_row = pd.DataFrame({'Close': [predicted_value]}, index=[new_dataset.index[-1] + pd.DateOffset(days=1)])\n",
      "/var/folders/by/st2c4w_96757fgwg7jsfc4480000gn/T/ipykernel_67404/3699000515.py:25: UserWarning: Discarding nonzero nanoseconds in conversion.\n",
      "  new_row = pd.DataFrame({'Close': [predicted_value]}, index=[new_dataset.index[-1] + pd.DateOffset(days=1)])\n"
     ]
    },
    {
     "name": "stdout",
     "output_type": "stream",
     "text": [
      "1/1 [==============================] - 0s 19ms/step\n",
      "1/1 [==============================] - 0s 20ms/step\n"
     ]
    },
    {
     "name": "stderr",
     "output_type": "stream",
     "text": [
      "/var/folders/by/st2c4w_96757fgwg7jsfc4480000gn/T/ipykernel_67404/3699000515.py:25: UserWarning: Discarding nonzero nanoseconds in conversion.\n",
      "  new_row = pd.DataFrame({'Close': [predicted_value]}, index=[new_dataset.index[-1] + pd.DateOffset(days=1)])\n",
      "/var/folders/by/st2c4w_96757fgwg7jsfc4480000gn/T/ipykernel_67404/3699000515.py:25: UserWarning: Discarding nonzero nanoseconds in conversion.\n",
      "  new_row = pd.DataFrame({'Close': [predicted_value]}, index=[new_dataset.index[-1] + pd.DateOffset(days=1)])\n"
     ]
    },
    {
     "name": "stdout",
     "output_type": "stream",
     "text": [
      "1/1 [==============================] - 0s 19ms/step\n",
      "1/1 [==============================] - 0s 19ms/step\n"
     ]
    },
    {
     "name": "stderr",
     "output_type": "stream",
     "text": [
      "/var/folders/by/st2c4w_96757fgwg7jsfc4480000gn/T/ipykernel_67404/3699000515.py:25: UserWarning: Discarding nonzero nanoseconds in conversion.\n",
      "  new_row = pd.DataFrame({'Close': [predicted_value]}, index=[new_dataset.index[-1] + pd.DateOffset(days=1)])\n",
      "/var/folders/by/st2c4w_96757fgwg7jsfc4480000gn/T/ipykernel_67404/3699000515.py:25: UserWarning: Discarding nonzero nanoseconds in conversion.\n",
      "  new_row = pd.DataFrame({'Close': [predicted_value]}, index=[new_dataset.index[-1] + pd.DateOffset(days=1)])\n"
     ]
    },
    {
     "name": "stdout",
     "output_type": "stream",
     "text": [
      "1/1 [==============================] - 0s 20ms/step\n",
      "1/1 [==============================] - 0s 19ms/step\n"
     ]
    },
    {
     "name": "stderr",
     "output_type": "stream",
     "text": [
      "/var/folders/by/st2c4w_96757fgwg7jsfc4480000gn/T/ipykernel_67404/3699000515.py:25: UserWarning: Discarding nonzero nanoseconds in conversion.\n",
      "  new_row = pd.DataFrame({'Close': [predicted_value]}, index=[new_dataset.index[-1] + pd.DateOffset(days=1)])\n",
      "/var/folders/by/st2c4w_96757fgwg7jsfc4480000gn/T/ipykernel_67404/3699000515.py:25: UserWarning: Discarding nonzero nanoseconds in conversion.\n",
      "  new_row = pd.DataFrame({'Close': [predicted_value]}, index=[new_dataset.index[-1] + pd.DateOffset(days=1)])\n"
     ]
    },
    {
     "name": "stdout",
     "output_type": "stream",
     "text": [
      "1/1 [==============================] - 0s 20ms/step\n",
      "1/1 [==============================] - 0s 19ms/step\n"
     ]
    },
    {
     "name": "stderr",
     "output_type": "stream",
     "text": [
      "/var/folders/by/st2c4w_96757fgwg7jsfc4480000gn/T/ipykernel_67404/3699000515.py:25: UserWarning: Discarding nonzero nanoseconds in conversion.\n",
      "  new_row = pd.DataFrame({'Close': [predicted_value]}, index=[new_dataset.index[-1] + pd.DateOffset(days=1)])\n",
      "/var/folders/by/st2c4w_96757fgwg7jsfc4480000gn/T/ipykernel_67404/3699000515.py:25: UserWarning: Discarding nonzero nanoseconds in conversion.\n",
      "  new_row = pd.DataFrame({'Close': [predicted_value]}, index=[new_dataset.index[-1] + pd.DateOffset(days=1)])\n"
     ]
    },
    {
     "name": "stdout",
     "output_type": "stream",
     "text": [
      "1/1 [==============================] - 0s 24ms/step\n",
      "1/1 [==============================] - 0s 20ms/step\n"
     ]
    },
    {
     "name": "stderr",
     "output_type": "stream",
     "text": [
      "/var/folders/by/st2c4w_96757fgwg7jsfc4480000gn/T/ipykernel_67404/3699000515.py:25: UserWarning: Discarding nonzero nanoseconds in conversion.\n",
      "  new_row = pd.DataFrame({'Close': [predicted_value]}, index=[new_dataset.index[-1] + pd.DateOffset(days=1)])\n",
      "/var/folders/by/st2c4w_96757fgwg7jsfc4480000gn/T/ipykernel_67404/3699000515.py:25: UserWarning: Discarding nonzero nanoseconds in conversion.\n",
      "  new_row = pd.DataFrame({'Close': [predicted_value]}, index=[new_dataset.index[-1] + pd.DateOffset(days=1)])\n"
     ]
    },
    {
     "name": "stdout",
     "output_type": "stream",
     "text": [
      "1/1 [==============================] - 0s 60ms/step\n"
     ]
    },
    {
     "name": "stderr",
     "output_type": "stream",
     "text": [
      "/var/folders/by/st2c4w_96757fgwg7jsfc4480000gn/T/ipykernel_67404/3699000515.py:25: UserWarning: Discarding nonzero nanoseconds in conversion.\n",
      "  new_row = pd.DataFrame({'Close': [predicted_value]}, index=[new_dataset.index[-1] + pd.DateOffset(days=1)])\n"
     ]
    },
    {
     "name": "stdout",
     "output_type": "stream",
     "text": [
      "1/1 [==============================] - 0s 20ms/step\n",
      "1/1 [==============================] - 0s 19ms/step\n",
      "1/1 [==============================] - 0s 19ms/step\n"
     ]
    },
    {
     "name": "stderr",
     "output_type": "stream",
     "text": [
      "/var/folders/by/st2c4w_96757fgwg7jsfc4480000gn/T/ipykernel_67404/3699000515.py:25: UserWarning: Discarding nonzero nanoseconds in conversion.\n",
      "  new_row = pd.DataFrame({'Close': [predicted_value]}, index=[new_dataset.index[-1] + pd.DateOffset(days=1)])\n",
      "/var/folders/by/st2c4w_96757fgwg7jsfc4480000gn/T/ipykernel_67404/3699000515.py:25: UserWarning: Discarding nonzero nanoseconds in conversion.\n",
      "  new_row = pd.DataFrame({'Close': [predicted_value]}, index=[new_dataset.index[-1] + pd.DateOffset(days=1)])\n",
      "/var/folders/by/st2c4w_96757fgwg7jsfc4480000gn/T/ipykernel_67404/3699000515.py:25: UserWarning: Discarding nonzero nanoseconds in conversion.\n",
      "  new_row = pd.DataFrame({'Close': [predicted_value]}, index=[new_dataset.index[-1] + pd.DateOffset(days=1)])\n"
     ]
    },
    {
     "name": "stdout",
     "output_type": "stream",
     "text": [
      "1/1 [==============================] - 0s 23ms/step\n"
     ]
    },
    {
     "name": "stderr",
     "output_type": "stream",
     "text": [
      "/var/folders/by/st2c4w_96757fgwg7jsfc4480000gn/T/ipykernel_67404/3699000515.py:25: UserWarning: Discarding nonzero nanoseconds in conversion.\n",
      "  new_row = pd.DataFrame({'Close': [predicted_value]}, index=[new_dataset.index[-1] + pd.DateOffset(days=1)])\n"
     ]
    },
    {
     "name": "stdout",
     "output_type": "stream",
     "text": [
      "1/1 [==============================] - 0s 19ms/step\n",
      "1/1 [==============================] - 0s 19ms/step\n",
      "1/1 [==============================] - 0s 19ms/step\n"
     ]
    },
    {
     "name": "stderr",
     "output_type": "stream",
     "text": [
      "/var/folders/by/st2c4w_96757fgwg7jsfc4480000gn/T/ipykernel_67404/3699000515.py:25: UserWarning: Discarding nonzero nanoseconds in conversion.\n",
      "  new_row = pd.DataFrame({'Close': [predicted_value]}, index=[new_dataset.index[-1] + pd.DateOffset(days=1)])\n",
      "/var/folders/by/st2c4w_96757fgwg7jsfc4480000gn/T/ipykernel_67404/3699000515.py:25: UserWarning: Discarding nonzero nanoseconds in conversion.\n",
      "  new_row = pd.DataFrame({'Close': [predicted_value]}, index=[new_dataset.index[-1] + pd.DateOffset(days=1)])\n",
      "/var/folders/by/st2c4w_96757fgwg7jsfc4480000gn/T/ipykernel_67404/3699000515.py:25: UserWarning: Discarding nonzero nanoseconds in conversion.\n",
      "  new_row = pd.DataFrame({'Close': [predicted_value]}, index=[new_dataset.index[-1] + pd.DateOffset(days=1)])\n"
     ]
    },
    {
     "name": "stdout",
     "output_type": "stream",
     "text": [
      "1/1 [==============================] - 0s 19ms/step\n"
     ]
    },
    {
     "name": "stderr",
     "output_type": "stream",
     "text": [
      "/var/folders/by/st2c4w_96757fgwg7jsfc4480000gn/T/ipykernel_67404/3699000515.py:25: UserWarning: Discarding nonzero nanoseconds in conversion.\n",
      "  new_row = pd.DataFrame({'Close': [predicted_value]}, index=[new_dataset.index[-1] + pd.DateOffset(days=1)])\n"
     ]
    },
    {
     "name": "stdout",
     "output_type": "stream",
     "text": [
      "1/1 [==============================] - 0s 20ms/step\n",
      "1/1 [==============================] - 0s 19ms/step\n",
      "1/1 [==============================] - 0s 19ms/step\n"
     ]
    },
    {
     "name": "stderr",
     "output_type": "stream",
     "text": [
      "/var/folders/by/st2c4w_96757fgwg7jsfc4480000gn/T/ipykernel_67404/3699000515.py:25: UserWarning: Discarding nonzero nanoseconds in conversion.\n",
      "  new_row = pd.DataFrame({'Close': [predicted_value]}, index=[new_dataset.index[-1] + pd.DateOffset(days=1)])\n",
      "/var/folders/by/st2c4w_96757fgwg7jsfc4480000gn/T/ipykernel_67404/3699000515.py:25: UserWarning: Discarding nonzero nanoseconds in conversion.\n",
      "  new_row = pd.DataFrame({'Close': [predicted_value]}, index=[new_dataset.index[-1] + pd.DateOffset(days=1)])\n",
      "/var/folders/by/st2c4w_96757fgwg7jsfc4480000gn/T/ipykernel_67404/3699000515.py:25: UserWarning: Discarding nonzero nanoseconds in conversion.\n",
      "  new_row = pd.DataFrame({'Close': [predicted_value]}, index=[new_dataset.index[-1] + pd.DateOffset(days=1)])\n"
     ]
    },
    {
     "name": "stdout",
     "output_type": "stream",
     "text": [
      "1/1 [==============================] - 0s 20ms/step\n"
     ]
    },
    {
     "name": "stderr",
     "output_type": "stream",
     "text": [
      "/var/folders/by/st2c4w_96757fgwg7jsfc4480000gn/T/ipykernel_67404/3699000515.py:25: UserWarning: Discarding nonzero nanoseconds in conversion.\n",
      "  new_row = pd.DataFrame({'Close': [predicted_value]}, index=[new_dataset.index[-1] + pd.DateOffset(days=1)])\n"
     ]
    },
    {
     "name": "stdout",
     "output_type": "stream",
     "text": [
      "1/1 [==============================] - 0s 20ms/step\n",
      "1/1 [==============================] - 0s 19ms/step\n",
      "1/1 [==============================] - 0s 19ms/step\n"
     ]
    },
    {
     "name": "stderr",
     "output_type": "stream",
     "text": [
      "/var/folders/by/st2c4w_96757fgwg7jsfc4480000gn/T/ipykernel_67404/3699000515.py:25: UserWarning: Discarding nonzero nanoseconds in conversion.\n",
      "  new_row = pd.DataFrame({'Close': [predicted_value]}, index=[new_dataset.index[-1] + pd.DateOffset(days=1)])\n",
      "/var/folders/by/st2c4w_96757fgwg7jsfc4480000gn/T/ipykernel_67404/3699000515.py:25: UserWarning: Discarding nonzero nanoseconds in conversion.\n",
      "  new_row = pd.DataFrame({'Close': [predicted_value]}, index=[new_dataset.index[-1] + pd.DateOffset(days=1)])\n",
      "/var/folders/by/st2c4w_96757fgwg7jsfc4480000gn/T/ipykernel_67404/3699000515.py:25: UserWarning: Discarding nonzero nanoseconds in conversion.\n",
      "  new_row = pd.DataFrame({'Close': [predicted_value]}, index=[new_dataset.index[-1] + pd.DateOffset(days=1)])\n"
     ]
    },
    {
     "name": "stdout",
     "output_type": "stream",
     "text": [
      "1/1 [==============================] - 0s 19ms/step\n"
     ]
    },
    {
     "name": "stderr",
     "output_type": "stream",
     "text": [
      "/var/folders/by/st2c4w_96757fgwg7jsfc4480000gn/T/ipykernel_67404/3699000515.py:25: UserWarning: Discarding nonzero nanoseconds in conversion.\n",
      "  new_row = pd.DataFrame({'Close': [predicted_value]}, index=[new_dataset.index[-1] + pd.DateOffset(days=1)])\n"
     ]
    },
    {
     "name": "stdout",
     "output_type": "stream",
     "text": [
      "1/1 [==============================] - 0s 21ms/step\n",
      "1/1 [==============================] - 0s 20ms/step\n",
      "1/1 [==============================] - 0s 20ms/step\n"
     ]
    },
    {
     "name": "stderr",
     "output_type": "stream",
     "text": [
      "/var/folders/by/st2c4w_96757fgwg7jsfc4480000gn/T/ipykernel_67404/3699000515.py:25: UserWarning: Discarding nonzero nanoseconds in conversion.\n",
      "  new_row = pd.DataFrame({'Close': [predicted_value]}, index=[new_dataset.index[-1] + pd.DateOffset(days=1)])\n",
      "/var/folders/by/st2c4w_96757fgwg7jsfc4480000gn/T/ipykernel_67404/3699000515.py:25: UserWarning: Discarding nonzero nanoseconds in conversion.\n",
      "  new_row = pd.DataFrame({'Close': [predicted_value]}, index=[new_dataset.index[-1] + pd.DateOffset(days=1)])\n",
      "/var/folders/by/st2c4w_96757fgwg7jsfc4480000gn/T/ipykernel_67404/3699000515.py:25: UserWarning: Discarding nonzero nanoseconds in conversion.\n",
      "  new_row = pd.DataFrame({'Close': [predicted_value]}, index=[new_dataset.index[-1] + pd.DateOffset(days=1)])\n"
     ]
    },
    {
     "name": "stdout",
     "output_type": "stream",
     "text": [
      "1/1 [==============================] - 0s 20ms/step\n"
     ]
    },
    {
     "name": "stderr",
     "output_type": "stream",
     "text": [
      "/var/folders/by/st2c4w_96757fgwg7jsfc4480000gn/T/ipykernel_67404/3699000515.py:25: UserWarning: Discarding nonzero nanoseconds in conversion.\n",
      "  new_row = pd.DataFrame({'Close': [predicted_value]}, index=[new_dataset.index[-1] + pd.DateOffset(days=1)])\n"
     ]
    },
    {
     "name": "stdout",
     "output_type": "stream",
     "text": [
      "1/1 [==============================] - 0s 20ms/step\n",
      "1/1 [==============================] - 0s 20ms/step\n",
      "1/1 [==============================] - 0s 20ms/step\n"
     ]
    },
    {
     "name": "stderr",
     "output_type": "stream",
     "text": [
      "/var/folders/by/st2c4w_96757fgwg7jsfc4480000gn/T/ipykernel_67404/3699000515.py:25: UserWarning: Discarding nonzero nanoseconds in conversion.\n",
      "  new_row = pd.DataFrame({'Close': [predicted_value]}, index=[new_dataset.index[-1] + pd.DateOffset(days=1)])\n",
      "/var/folders/by/st2c4w_96757fgwg7jsfc4480000gn/T/ipykernel_67404/3699000515.py:25: UserWarning: Discarding nonzero nanoseconds in conversion.\n",
      "  new_row = pd.DataFrame({'Close': [predicted_value]}, index=[new_dataset.index[-1] + pd.DateOffset(days=1)])\n",
      "/var/folders/by/st2c4w_96757fgwg7jsfc4480000gn/T/ipykernel_67404/3699000515.py:25: UserWarning: Discarding nonzero nanoseconds in conversion.\n",
      "  new_row = pd.DataFrame({'Close': [predicted_value]}, index=[new_dataset.index[-1] + pd.DateOffset(days=1)])\n"
     ]
    },
    {
     "name": "stdout",
     "output_type": "stream",
     "text": [
      "1/1 [==============================] - 0s 20ms/step\n"
     ]
    },
    {
     "name": "stderr",
     "output_type": "stream",
     "text": [
      "/var/folders/by/st2c4w_96757fgwg7jsfc4480000gn/T/ipykernel_67404/3699000515.py:25: UserWarning: Discarding nonzero nanoseconds in conversion.\n",
      "  new_row = pd.DataFrame({'Close': [predicted_value]}, index=[new_dataset.index[-1] + pd.DateOffset(days=1)])\n"
     ]
    },
    {
     "name": "stdout",
     "output_type": "stream",
     "text": [
      "1/1 [==============================] - 0s 20ms/step\n",
      "1/1 [==============================] - 0s 19ms/step\n",
      "1/1 [==============================] - 0s 19ms/step\n"
     ]
    },
    {
     "name": "stderr",
     "output_type": "stream",
     "text": [
      "/var/folders/by/st2c4w_96757fgwg7jsfc4480000gn/T/ipykernel_67404/3699000515.py:25: UserWarning: Discarding nonzero nanoseconds in conversion.\n",
      "  new_row = pd.DataFrame({'Close': [predicted_value]}, index=[new_dataset.index[-1] + pd.DateOffset(days=1)])\n",
      "/var/folders/by/st2c4w_96757fgwg7jsfc4480000gn/T/ipykernel_67404/3699000515.py:25: UserWarning: Discarding nonzero nanoseconds in conversion.\n",
      "  new_row = pd.DataFrame({'Close': [predicted_value]}, index=[new_dataset.index[-1] + pd.DateOffset(days=1)])\n",
      "/var/folders/by/st2c4w_96757fgwg7jsfc4480000gn/T/ipykernel_67404/3699000515.py:25: UserWarning: Discarding nonzero nanoseconds in conversion.\n",
      "  new_row = pd.DataFrame({'Close': [predicted_value]}, index=[new_dataset.index[-1] + pd.DateOffset(days=1)])\n"
     ]
    },
    {
     "name": "stdout",
     "output_type": "stream",
     "text": [
      "1/1 [==============================] - 0s 21ms/step\n"
     ]
    },
    {
     "name": "stderr",
     "output_type": "stream",
     "text": [
      "/var/folders/by/st2c4w_96757fgwg7jsfc4480000gn/T/ipykernel_67404/3699000515.py:25: UserWarning: Discarding nonzero nanoseconds in conversion.\n",
      "  new_row = pd.DataFrame({'Close': [predicted_value]}, index=[new_dataset.index[-1] + pd.DateOffset(days=1)])\n"
     ]
    },
    {
     "name": "stdout",
     "output_type": "stream",
     "text": [
      "1/1 [==============================] - 0s 20ms/step\n",
      "1/1 [==============================] - 0s 20ms/step\n",
      "1/1 [==============================] - 0s 20ms/step\n"
     ]
    },
    {
     "name": "stderr",
     "output_type": "stream",
     "text": [
      "/var/folders/by/st2c4w_96757fgwg7jsfc4480000gn/T/ipykernel_67404/3699000515.py:25: UserWarning: Discarding nonzero nanoseconds in conversion.\n",
      "  new_row = pd.DataFrame({'Close': [predicted_value]}, index=[new_dataset.index[-1] + pd.DateOffset(days=1)])\n",
      "/var/folders/by/st2c4w_96757fgwg7jsfc4480000gn/T/ipykernel_67404/3699000515.py:25: UserWarning: Discarding nonzero nanoseconds in conversion.\n",
      "  new_row = pd.DataFrame({'Close': [predicted_value]}, index=[new_dataset.index[-1] + pd.DateOffset(days=1)])\n",
      "/var/folders/by/st2c4w_96757fgwg7jsfc4480000gn/T/ipykernel_67404/3699000515.py:25: UserWarning: Discarding nonzero nanoseconds in conversion.\n",
      "  new_row = pd.DataFrame({'Close': [predicted_value]}, index=[new_dataset.index[-1] + pd.DateOffset(days=1)])\n"
     ]
    },
    {
     "name": "stdout",
     "output_type": "stream",
     "text": [
      "1/1 [==============================] - 0s 19ms/step\n"
     ]
    },
    {
     "name": "stderr",
     "output_type": "stream",
     "text": [
      "/var/folders/by/st2c4w_96757fgwg7jsfc4480000gn/T/ipykernel_67404/3699000515.py:25: UserWarning: Discarding nonzero nanoseconds in conversion.\n",
      "  new_row = pd.DataFrame({'Close': [predicted_value]}, index=[new_dataset.index[-1] + pd.DateOffset(days=1)])\n"
     ]
    },
    {
     "name": "stdout",
     "output_type": "stream",
     "text": [
      "1/1 [==============================] - 0s 19ms/step\n",
      "1/1 [==============================] - 0s 20ms/step\n",
      "1/1 [==============================] - 0s 20ms/step\n"
     ]
    },
    {
     "name": "stderr",
     "output_type": "stream",
     "text": [
      "/var/folders/by/st2c4w_96757fgwg7jsfc4480000gn/T/ipykernel_67404/3699000515.py:25: UserWarning: Discarding nonzero nanoseconds in conversion.\n",
      "  new_row = pd.DataFrame({'Close': [predicted_value]}, index=[new_dataset.index[-1] + pd.DateOffset(days=1)])\n",
      "/var/folders/by/st2c4w_96757fgwg7jsfc4480000gn/T/ipykernel_67404/3699000515.py:25: UserWarning: Discarding nonzero nanoseconds in conversion.\n",
      "  new_row = pd.DataFrame({'Close': [predicted_value]}, index=[new_dataset.index[-1] + pd.DateOffset(days=1)])\n",
      "/var/folders/by/st2c4w_96757fgwg7jsfc4480000gn/T/ipykernel_67404/3699000515.py:25: UserWarning: Discarding nonzero nanoseconds in conversion.\n",
      "  new_row = pd.DataFrame({'Close': [predicted_value]}, index=[new_dataset.index[-1] + pd.DateOffset(days=1)])\n"
     ]
    },
    {
     "name": "stdout",
     "output_type": "stream",
     "text": [
      "1/1 [==============================] - 0s 20ms/step\n"
     ]
    },
    {
     "name": "stderr",
     "output_type": "stream",
     "text": [
      "/var/folders/by/st2c4w_96757fgwg7jsfc4480000gn/T/ipykernel_67404/3699000515.py:25: UserWarning: Discarding nonzero nanoseconds in conversion.\n",
      "  new_row = pd.DataFrame({'Close': [predicted_value]}, index=[new_dataset.index[-1] + pd.DateOffset(days=1)])\n"
     ]
    },
    {
     "name": "stdout",
     "output_type": "stream",
     "text": [
      "1/1 [==============================] - 0s 20ms/step\n",
      "1/1 [==============================] - 0s 19ms/step\n",
      "1/1 [==============================] - 0s 19ms/step\n"
     ]
    },
    {
     "name": "stderr",
     "output_type": "stream",
     "text": [
      "/var/folders/by/st2c4w_96757fgwg7jsfc4480000gn/T/ipykernel_67404/3699000515.py:25: UserWarning: Discarding nonzero nanoseconds in conversion.\n",
      "  new_row = pd.DataFrame({'Close': [predicted_value]}, index=[new_dataset.index[-1] + pd.DateOffset(days=1)])\n",
      "/var/folders/by/st2c4w_96757fgwg7jsfc4480000gn/T/ipykernel_67404/3699000515.py:25: UserWarning: Discarding nonzero nanoseconds in conversion.\n",
      "  new_row = pd.DataFrame({'Close': [predicted_value]}, index=[new_dataset.index[-1] + pd.DateOffset(days=1)])\n",
      "/var/folders/by/st2c4w_96757fgwg7jsfc4480000gn/T/ipykernel_67404/3699000515.py:25: UserWarning: Discarding nonzero nanoseconds in conversion.\n",
      "  new_row = pd.DataFrame({'Close': [predicted_value]}, index=[new_dataset.index[-1] + pd.DateOffset(days=1)])\n"
     ]
    },
    {
     "name": "stdout",
     "output_type": "stream",
     "text": [
      "1/1 [==============================] - 0s 22ms/step\n"
     ]
    },
    {
     "name": "stderr",
     "output_type": "stream",
     "text": [
      "/var/folders/by/st2c4w_96757fgwg7jsfc4480000gn/T/ipykernel_67404/3699000515.py:25: UserWarning: Discarding nonzero nanoseconds in conversion.\n",
      "  new_row = pd.DataFrame({'Close': [predicted_value]}, index=[new_dataset.index[-1] + pd.DateOffset(days=1)])\n"
     ]
    },
    {
     "name": "stdout",
     "output_type": "stream",
     "text": [
      "1/1 [==============================] - 0s 26ms/step\n",
      "1/1 [==============================] - 0s 22ms/step\n",
      "1/1 [==============================] - 0s 19ms/step\n"
     ]
    },
    {
     "name": "stderr",
     "output_type": "stream",
     "text": [
      "/var/folders/by/st2c4w_96757fgwg7jsfc4480000gn/T/ipykernel_67404/3699000515.py:25: UserWarning: Discarding nonzero nanoseconds in conversion.\n",
      "  new_row = pd.DataFrame({'Close': [predicted_value]}, index=[new_dataset.index[-1] + pd.DateOffset(days=1)])\n",
      "/var/folders/by/st2c4w_96757fgwg7jsfc4480000gn/T/ipykernel_67404/3699000515.py:25: UserWarning: Discarding nonzero nanoseconds in conversion.\n",
      "  new_row = pd.DataFrame({'Close': [predicted_value]}, index=[new_dataset.index[-1] + pd.DateOffset(days=1)])\n",
      "/var/folders/by/st2c4w_96757fgwg7jsfc4480000gn/T/ipykernel_67404/3699000515.py:25: UserWarning: Discarding nonzero nanoseconds in conversion.\n",
      "  new_row = pd.DataFrame({'Close': [predicted_value]}, index=[new_dataset.index[-1] + pd.DateOffset(days=1)])\n"
     ]
    },
    {
     "name": "stdout",
     "output_type": "stream",
     "text": [
      "1/1 [==============================] - 0s 19ms/step\n"
     ]
    },
    {
     "name": "stderr",
     "output_type": "stream",
     "text": [
      "/var/folders/by/st2c4w_96757fgwg7jsfc4480000gn/T/ipykernel_67404/3699000515.py:25: UserWarning: Discarding nonzero nanoseconds in conversion.\n",
      "  new_row = pd.DataFrame({'Close': [predicted_value]}, index=[new_dataset.index[-1] + pd.DateOffset(days=1)])\n"
     ]
    },
    {
     "name": "stdout",
     "output_type": "stream",
     "text": [
      "1/1 [==============================] - 0s 20ms/step\n",
      "1/1 [==============================] - 0s 19ms/step\n",
      "1/1 [==============================] - 0s 20ms/step\n"
     ]
    },
    {
     "name": "stderr",
     "output_type": "stream",
     "text": [
      "/var/folders/by/st2c4w_96757fgwg7jsfc4480000gn/T/ipykernel_67404/3699000515.py:25: UserWarning: Discarding nonzero nanoseconds in conversion.\n",
      "  new_row = pd.DataFrame({'Close': [predicted_value]}, index=[new_dataset.index[-1] + pd.DateOffset(days=1)])\n",
      "/var/folders/by/st2c4w_96757fgwg7jsfc4480000gn/T/ipykernel_67404/3699000515.py:25: UserWarning: Discarding nonzero nanoseconds in conversion.\n",
      "  new_row = pd.DataFrame({'Close': [predicted_value]}, index=[new_dataset.index[-1] + pd.DateOffset(days=1)])\n",
      "/var/folders/by/st2c4w_96757fgwg7jsfc4480000gn/T/ipykernel_67404/3699000515.py:25: UserWarning: Discarding nonzero nanoseconds in conversion.\n",
      "  new_row = pd.DataFrame({'Close': [predicted_value]}, index=[new_dataset.index[-1] + pd.DateOffset(days=1)])\n"
     ]
    },
    {
     "name": "stdout",
     "output_type": "stream",
     "text": [
      "1/1 [==============================] - 0s 20ms/step\n"
     ]
    },
    {
     "name": "stderr",
     "output_type": "stream",
     "text": [
      "/var/folders/by/st2c4w_96757fgwg7jsfc4480000gn/T/ipykernel_67404/3699000515.py:25: UserWarning: Discarding nonzero nanoseconds in conversion.\n",
      "  new_row = pd.DataFrame({'Close': [predicted_value]}, index=[new_dataset.index[-1] + pd.DateOffset(days=1)])\n"
     ]
    },
    {
     "name": "stdout",
     "output_type": "stream",
     "text": [
      "1/1 [==============================] - 0s 21ms/step\n",
      "1/1 [==============================] - 0s 20ms/step\n"
     ]
    },
    {
     "name": "stderr",
     "output_type": "stream",
     "text": [
      "/var/folders/by/st2c4w_96757fgwg7jsfc4480000gn/T/ipykernel_67404/3699000515.py:25: UserWarning: Discarding nonzero nanoseconds in conversion.\n",
      "  new_row = pd.DataFrame({'Close': [predicted_value]}, index=[new_dataset.index[-1] + pd.DateOffset(days=1)])\n",
      "/var/folders/by/st2c4w_96757fgwg7jsfc4480000gn/T/ipykernel_67404/3699000515.py:25: UserWarning: Discarding nonzero nanoseconds in conversion.\n",
      "  new_row = pd.DataFrame({'Close': [predicted_value]}, index=[new_dataset.index[-1] + pd.DateOffset(days=1)])\n"
     ]
    }
   ],
   "source": [
    "# Invert scaling to get the predicted value\n",
    "predicted_value_scaled = lstm_model.predict(x_train_data[-1].reshape(1, -1, 1))\n",
    "predicted_value = scaler.inverse_transform(predicted_value_scaled)\n",
    "\n",
    "# Update the dataset with the predicted value\n",
    "new_close = predicted_value\n",
    "last_index_date = pd.to_datetime(new_dataset.index[-1])\n",
    "new_row_index = last_index_date + pd.Timedelta(days=1)\n",
    "new_row = pd.DataFrame({'Close': [new_close]}, index=[new_row_index])\n",
    "new_dataset = pd.concat([new_dataset, new_row])\n",
    "\n",
    "\n",
    "# Repeat prediction for the next 365 days\n",
    "for i in range(253):\n",
    "    # Prepare data for prediction\n",
    "    last_60_days = new_dataset[-60:].values\n",
    "    scaled_last_60_days = scaler.transform(last_60_days.reshape(-1, 1))\n",
    "    x_pred = scaled_last_60_days.reshape(1, -1, 1)\n",
    "    \n",
    "    # Make prediction\n",
    "    predicted_value_scaled = lstm_model.predict(x_pred)\n",
    "    predicted_value = scaler.inverse_transform(predicted_value_scaled)\n",
    "    \n",
    "    # Update dataset with the predicted value for the next day\n",
    "    new_row = pd.DataFrame({'Close': [predicted_value]}, index=[new_dataset.index[-1] + pd.DateOffset(days=1)])\n",
    "    new_dataset = pd.concat([new_dataset, new_row])"
   ]
  },
  {
   "cell_type": "code",
   "execution_count": 352,
   "id": "beeebfc1-00f4-444d-be6c-1d9c2c8339eb",
   "metadata": {
    "scrolled": true
   },
   "outputs": [
    {
     "data": {
      "text/html": [
       "<div>\n",
       "<style scoped>\n",
       "    .dataframe tbody tr th:only-of-type {\n",
       "        vertical-align: middle;\n",
       "    }\n",
       "\n",
       "    .dataframe tbody tr th {\n",
       "        vertical-align: top;\n",
       "    }\n",
       "\n",
       "    .dataframe thead th {\n",
       "        text-align: right;\n",
       "    }\n",
       "</style>\n",
       "<table border=\"1\" class=\"dataframe\">\n",
       "  <thead>\n",
       "    <tr style=\"text-align: right;\">\n",
       "      <th></th>\n",
       "      <th>Close</th>\n",
       "    </tr>\n",
       "  </thead>\n",
       "  <tbody>\n",
       "    <tr>\n",
       "      <th>0</th>\n",
       "      <td>75.087502</td>\n",
       "    </tr>\n",
       "    <tr>\n",
       "      <th>1</th>\n",
       "      <td>74.357498</td>\n",
       "    </tr>\n",
       "    <tr>\n",
       "      <th>2</th>\n",
       "      <td>74.949997</td>\n",
       "    </tr>\n",
       "    <tr>\n",
       "      <th>3</th>\n",
       "      <td>74.597504</td>\n",
       "    </tr>\n",
       "    <tr>\n",
       "      <th>4</th>\n",
       "      <td>75.797501</td>\n",
       "    </tr>\n",
       "    <tr>\n",
       "      <th>...</th>\n",
       "      <td>...</td>\n",
       "    </tr>\n",
       "    <tr>\n",
       "      <th>1970-09-08 00:00:00.000001037</th>\n",
       "      <td>[[227.57185]]</td>\n",
       "    </tr>\n",
       "    <tr>\n",
       "      <th>1970-09-09 00:00:00.000001037</th>\n",
       "      <td>[[227.58545]]</td>\n",
       "    </tr>\n",
       "    <tr>\n",
       "      <th>1970-09-10 00:00:00.000001037</th>\n",
       "      <td>[[227.59877]]</td>\n",
       "    </tr>\n",
       "    <tr>\n",
       "      <th>1970-09-11 00:00:00.000001037</th>\n",
       "      <td>[[227.61191]]</td>\n",
       "    </tr>\n",
       "    <tr>\n",
       "      <th>1970-09-12 00:00:00.000001037</th>\n",
       "      <td>[[227.62479]]</td>\n",
       "    </tr>\n",
       "  </tbody>\n",
       "</table>\n",
       "<p>1292 rows × 1 columns</p>\n",
       "</div>"
      ],
      "text/plain": [
       "                                       Close\n",
       "0                                  75.087502\n",
       "1                                  74.357498\n",
       "2                                  74.949997\n",
       "3                                  74.597504\n",
       "4                                  75.797501\n",
       "...                                      ...\n",
       "1970-09-08 00:00:00.000001037  [[227.57185]]\n",
       "1970-09-09 00:00:00.000001037  [[227.58545]]\n",
       "1970-09-10 00:00:00.000001037  [[227.59877]]\n",
       "1970-09-11 00:00:00.000001037  [[227.61191]]\n",
       "1970-09-12 00:00:00.000001037  [[227.62479]]\n",
       "\n",
       "[1292 rows x 1 columns]"
      ]
     },
     "execution_count": 352,
     "metadata": {},
     "output_type": "execute_result"
    }
   ],
   "source": [
    "new_dataset"
   ]
  },
  {
   "cell_type": "code",
   "execution_count": 353,
   "id": "07657c62-22d7-49e2-bc85-8f8e05a5d1ad",
   "metadata": {
    "scrolled": true
   },
   "outputs": [
    {
     "data": {
      "text/html": [
       "<div>\n",
       "<style scoped>\n",
       "    .dataframe tbody tr th:only-of-type {\n",
       "        vertical-align: middle;\n",
       "    }\n",
       "\n",
       "    .dataframe tbody tr th {\n",
       "        vertical-align: top;\n",
       "    }\n",
       "\n",
       "    .dataframe thead th {\n",
       "        text-align: right;\n",
       "    }\n",
       "</style>\n",
       "<table border=\"1\" class=\"dataframe\">\n",
       "  <thead>\n",
       "    <tr style=\"text-align: right;\">\n",
       "      <th></th>\n",
       "      <th>Close</th>\n",
       "    </tr>\n",
       "  </thead>\n",
       "  <tbody>\n",
       "    <tr>\n",
       "      <th>0</th>\n",
       "      <td>75.087502</td>\n",
       "    </tr>\n",
       "    <tr>\n",
       "      <th>1</th>\n",
       "      <td>74.357498</td>\n",
       "    </tr>\n",
       "    <tr>\n",
       "      <th>2</th>\n",
       "      <td>74.949997</td>\n",
       "    </tr>\n",
       "    <tr>\n",
       "      <th>3</th>\n",
       "      <td>74.597504</td>\n",
       "    </tr>\n",
       "    <tr>\n",
       "      <th>4</th>\n",
       "      <td>75.797501</td>\n",
       "    </tr>\n",
       "    <tr>\n",
       "      <th>...</th>\n",
       "      <td>...</td>\n",
       "    </tr>\n",
       "    <tr>\n",
       "      <th>1287</th>\n",
       "      <td>[[227.57185]]</td>\n",
       "    </tr>\n",
       "    <tr>\n",
       "      <th>1288</th>\n",
       "      <td>[[227.58545]]</td>\n",
       "    </tr>\n",
       "    <tr>\n",
       "      <th>1289</th>\n",
       "      <td>[[227.59877]]</td>\n",
       "    </tr>\n",
       "    <tr>\n",
       "      <th>1290</th>\n",
       "      <td>[[227.61191]]</td>\n",
       "    </tr>\n",
       "    <tr>\n",
       "      <th>1291</th>\n",
       "      <td>[[227.62479]]</td>\n",
       "    </tr>\n",
       "  </tbody>\n",
       "</table>\n",
       "<p>1292 rows × 1 columns</p>\n",
       "</div>"
      ],
      "text/plain": [
       "              Close\n",
       "0         75.087502\n",
       "1         74.357498\n",
       "2         74.949997\n",
       "3         74.597504\n",
       "4         75.797501\n",
       "...             ...\n",
       "1287  [[227.57185]]\n",
       "1288  [[227.58545]]\n",
       "1289  [[227.59877]]\n",
       "1290  [[227.61191]]\n",
       "1291  [[227.62479]]\n",
       "\n",
       "[1292 rows x 1 columns]"
      ]
     },
     "execution_count": 353,
     "metadata": {},
     "output_type": "execute_result"
    }
   ],
   "source": [
    "new_dataset.reset_index(drop=True, inplace=True)\n",
    "new_dataset"
   ]
  },
  {
   "cell_type": "code",
   "execution_count": 354,
   "id": "372c7f66",
   "metadata": {},
   "outputs": [
    {
     "data": {
      "image/png": "[encoded data removed]",
      "text/plain": [
       "<Figure size 2000x1000 with 1 Axes>"
      ]
     },
     "metadata": {},
     "output_type": "display_data"
    }
   ],
   "source": [
    "# Split new_dataset into training data and predicted data\n",
    "training_data = new_dataset.iloc[:1038]\n",
    "predicted_data = new_dataset.iloc[1038:]\n",
    "\n",
    "plt.plot(train_data[\"Close\"])\n",
    "\n",
    "# Plotting the validation data and predictions\n",
    "plt.plot(training_data.index, training_data['Close'], label='Validation Data')\n",
    "plt.plot(predicted_data.index, predicted_data['Close'], color='red', label='Predicted Closing Price')\n",
    "\n",
    "plt.legend()  # Show legend\n",
    "plt.show()\n"
   ]
  },
  {
   "cell_type": "code",
   "execution_count": null,
   "id": "e2177c3b",
   "metadata": {},
   "outputs": [],
   "source": []
  }
 ],
 "metadata": {
  "kernelspec": {
   "display_name": "Python 3 (ipykernel)",
   "language": "python",
   "name": "python3"
  },
  "language_info": {
   "codemirror_mode": {
    "name": "ipython",
    "version": 3
   },
   "file_extension": ".py",
   "mimetype": "text/x-python",
   "name": "python",
   "nbconvert_exporter": "python",
   "pygments_lexer": "ipython3",
   "version": "3.10.13"
  }
 },
 "nbformat": 4,
 "nbformat_minor": 5
}
