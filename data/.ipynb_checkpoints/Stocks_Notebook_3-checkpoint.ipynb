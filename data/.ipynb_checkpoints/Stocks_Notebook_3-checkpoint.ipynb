{
 "cells": [
  {
   "cell_type": "code",
   "execution_count": 60,
   "id": "07d075dc-fac5-44a9-baf3-090121c4cc79",
   "metadata": {
    "scrolled": true
   },
   "outputs": [
    {
     "name": "stdout",
     "output_type": "stream",
     "text": [
      "Requirement already satisfied: tensorflow in /Users/joshuagibson/anaconda3/envs/dev/lib/python3.10/site-packages (2.15.0)\n",
      "Requirement already satisfied: absl-py>=1.0.0 in /Users/joshuagibson/anaconda3/envs/dev/lib/python3.10/site-packages (from tensorflow) (2.1.0)\n",
      "Requirement already satisfied: astunparse>=1.6.0 in /Users/joshuagibson/anaconda3/envs/dev/lib/python3.10/site-packages (from tensorflow) (1.6.3)\n",
      "Requirement already satisfied: flatbuffers>=23.5.26 in /Users/joshuagibson/anaconda3/envs/dev/lib/python3.10/site-packages (from tensorflow) (23.5.26)\n",
      "Requirement already satisfied: gast!=0.5.0,!=0.5.1,!=0.5.2,>=0.2.1 in /Users/joshuagibson/anaconda3/envs/dev/lib/python3.10/site-packages (from tensorflow) (0.5.4)\n",
      "Requirement already satisfied: google-pasta>=0.1.1 in /Users/joshuagibson/anaconda3/envs/dev/lib/python3.10/site-packages (from tensorflow) (0.2.0)\n",
      "Requirement already satisfied: h5py>=2.9.0 in /Users/joshuagibson/anaconda3/envs/dev/lib/python3.10/site-packages (from tensorflow) (3.10.0)\n",
      "Requirement already satisfied: libclang>=13.0.0 in /Users/joshuagibson/anaconda3/envs/dev/lib/python3.10/site-packages (from tensorflow) (16.0.6)\n",
      "Requirement already satisfied: ml-dtypes~=0.2.0 in /Users/joshuagibson/anaconda3/envs/dev/lib/python3.10/site-packages (from tensorflow) (0.2.0)\n",
      "Requirement already satisfied: numpy<2.0.0,>=1.23.5 in /Users/joshuagibson/anaconda3/envs/dev/lib/python3.10/site-packages (from tensorflow) (1.26.3)\n",
      "Requirement already satisfied: opt-einsum>=2.3.2 in /Users/joshuagibson/anaconda3/envs/dev/lib/python3.10/site-packages (from tensorflow) (3.3.0)\n",
      "Requirement already satisfied: packaging in /Users/joshuagibson/anaconda3/envs/dev/lib/python3.10/site-packages (from tensorflow) (23.1)\n",
      "Requirement already satisfied: protobuf!=4.21.0,!=4.21.1,!=4.21.2,!=4.21.3,!=4.21.4,!=4.21.5,<5.0.0dev,>=3.20.3 in /Users/joshuagibson/anaconda3/envs/dev/lib/python3.10/site-packages (from tensorflow) (4.23.4)\n",
      "Requirement already satisfied: setuptools in /Users/joshuagibson/anaconda3/envs/dev/lib/python3.10/site-packages (from tensorflow) (68.2.2)\n",
      "Requirement already satisfied: six>=1.12.0 in /Users/joshuagibson/anaconda3/envs/dev/lib/python3.10/site-packages (from tensorflow) (1.16.0)\n",
      "Requirement already satisfied: termcolor>=1.1.0 in /Users/joshuagibson/anaconda3/envs/dev/lib/python3.10/site-packages (from tensorflow) (2.4.0)\n",
      "Requirement already satisfied: typing-extensions>=3.6.6 in /Users/joshuagibson/anaconda3/envs/dev/lib/python3.10/site-packages (from tensorflow) (4.9.0)\n",
      "Requirement already satisfied: wrapt<1.15,>=1.11.0 in /Users/joshuagibson/anaconda3/envs/dev/lib/python3.10/site-packages (from tensorflow) (1.14.1)\n",
      "Requirement already satisfied: tensorflow-io-gcs-filesystem>=0.23.1 in /Users/joshuagibson/anaconda3/envs/dev/lib/python3.10/site-packages (from tensorflow) (0.36.0)\n",
      "Requirement already satisfied: grpcio<2.0,>=1.24.3 in /Users/joshuagibson/anaconda3/envs/dev/lib/python3.10/site-packages (from tensorflow) (1.60.1)\n",
      "Requirement already satisfied: tensorboard<2.16,>=2.15 in /Users/joshuagibson/anaconda3/envs/dev/lib/python3.10/site-packages (from tensorflow) (2.15.1)\n",
      "Requirement already satisfied: tensorflow-estimator<2.16,>=2.15.0 in /Users/joshuagibson/anaconda3/envs/dev/lib/python3.10/site-packages (from tensorflow) (2.15.0)\n",
      "Requirement already satisfied: keras<2.16,>=2.15.0 in /Users/joshuagibson/anaconda3/envs/dev/lib/python3.10/site-packages (from tensorflow) (2.15.0)\n",
      "Requirement already satisfied: wheel<1.0,>=0.23.0 in /Users/joshuagibson/anaconda3/envs/dev/lib/python3.10/site-packages (from astunparse>=1.6.0->tensorflow) (0.41.2)\n",
      "Requirement already satisfied: google-auth<3,>=1.6.3 in /Users/joshuagibson/anaconda3/envs/dev/lib/python3.10/site-packages (from tensorboard<2.16,>=2.15->tensorflow) (2.27.0)\n",
      "Requirement already satisfied: google-auth-oauthlib<2,>=0.5 in /Users/joshuagibson/anaconda3/envs/dev/lib/python3.10/site-packages (from tensorboard<2.16,>=2.15->tensorflow) (1.2.0)\n",
      "Requirement already satisfied: markdown>=2.6.8 in /Users/joshuagibson/anaconda3/envs/dev/lib/python3.10/site-packages (from tensorboard<2.16,>=2.15->tensorflow) (3.4.1)\n",
      "Requirement already satisfied: requests<3,>=2.21.0 in /Users/joshuagibson/anaconda3/envs/dev/lib/python3.10/site-packages (from tensorboard<2.16,>=2.15->tensorflow) (2.31.0)\n",
      "Requirement already satisfied: tensorboard-data-server<0.8.0,>=0.7.0 in /Users/joshuagibson/anaconda3/envs/dev/lib/python3.10/site-packages (from tensorboard<2.16,>=2.15->tensorflow) (0.7.2)\n",
      "Requirement already satisfied: werkzeug>=1.0.1 in /Users/joshuagibson/anaconda3/envs/dev/lib/python3.10/site-packages (from tensorboard<2.16,>=2.15->tensorflow) (3.0.1)\n",
      "Requirement already satisfied: cachetools<6.0,>=2.0.0 in /Users/joshuagibson/anaconda3/envs/dev/lib/python3.10/site-packages (from google-auth<3,>=1.6.3->tensorboard<2.16,>=2.15->tensorflow) (5.3.2)\n",
      "Requirement already satisfied: pyasn1-modules>=0.2.1 in /Users/joshuagibson/anaconda3/envs/dev/lib/python3.10/site-packages (from google-auth<3,>=1.6.3->tensorboard<2.16,>=2.15->tensorflow) (0.3.0)\n",
      "Requirement already satisfied: rsa<5,>=3.1.4 in /Users/joshuagibson/anaconda3/envs/dev/lib/python3.10/site-packages (from google-auth<3,>=1.6.3->tensorboard<2.16,>=2.15->tensorflow) (4.9)\n",
      "Requirement already satisfied: requests-oauthlib>=0.7.0 in /Users/joshuagibson/anaconda3/envs/dev/lib/python3.10/site-packages (from google-auth-oauthlib<2,>=0.5->tensorboard<2.16,>=2.15->tensorflow) (1.3.1)\n",
      "Requirement already satisfied: charset-normalizer<4,>=2 in /Users/joshuagibson/anaconda3/envs/dev/lib/python3.10/site-packages (from requests<3,>=2.21.0->tensorboard<2.16,>=2.15->tensorflow) (2.0.4)\n",
      "Requirement already satisfied: idna<4,>=2.5 in /Users/joshuagibson/anaconda3/envs/dev/lib/python3.10/site-packages (from requests<3,>=2.21.0->tensorboard<2.16,>=2.15->tensorflow) (3.4)\n",
      "Requirement already satisfied: urllib3<3,>=1.21.1 in /Users/joshuagibson/anaconda3/envs/dev/lib/python3.10/site-packages (from requests<3,>=2.21.0->tensorboard<2.16,>=2.15->tensorflow) (1.26.18)\n",
      "Requirement already satisfied: certifi>=2017.4.17 in /Users/joshuagibson/anaconda3/envs/dev/lib/python3.10/site-packages (from requests<3,>=2.21.0->tensorboard<2.16,>=2.15->tensorflow) (2024.2.2)\n",
      "Requirement already satisfied: MarkupSafe>=2.1.1 in /Users/joshuagibson/anaconda3/envs/dev/lib/python3.10/site-packages (from werkzeug>=1.0.1->tensorboard<2.16,>=2.15->tensorflow) (2.1.3)\n",
      "Requirement already satisfied: pyasn1<0.6.0,>=0.4.6 in /Users/joshuagibson/anaconda3/envs/dev/lib/python3.10/site-packages (from pyasn1-modules>=0.2.1->google-auth<3,>=1.6.3->tensorboard<2.16,>=2.15->tensorflow) (0.5.1)\n",
      "Requirement already satisfied: oauthlib>=3.0.0 in /Users/joshuagibson/anaconda3/envs/dev/lib/python3.10/site-packages (from requests-oauthlib>=0.7.0->google-auth-oauthlib<2,>=0.5->tensorboard<2.16,>=2.15->tensorflow) (3.2.2)\n",
      "Note: you may need to restart the kernel to use updated packages.\n"
     ]
    }
   ],
   "source": [
    "pip install tensorflow"
   ]
  },
  {
   "cell_type": "code",
   "execution_count": 61,
   "id": "1db81bb1-1326-44a2-b007-5adc7c8865b0",
   "metadata": {
    "scrolled": true
   },
   "outputs": [
    {
     "name": "stdout",
     "output_type": "stream",
     "text": [
      "Requirement already satisfied: openpyxl in /Users/joshuagibson/anaconda3/envs/dev/lib/python3.10/site-packages (3.1.2)\n",
      "Requirement already satisfied: et-xmlfile in /Users/joshuagibson/anaconda3/envs/dev/lib/python3.10/site-packages (from openpyxl) (1.1.0)\n",
      "Note: you may need to restart the kernel to use updated packages.\n"
     ]
    }
   ],
   "source": [
    "pip install openpyxl"
   ]
  },
  {
   "cell_type": "code",
   "execution_count": 1,
   "id": "42573839-52af-4074-bbf1-2b5a81900ccd",
   "metadata": {},
   "outputs": [
    {
     "name": "stderr",
     "output_type": "stream",
     "text": [
      "2024-02-28 15:13:01.688788: I tensorflow/core/platform/cpu_feature_guard.cc:182] This TensorFlow binary is optimized to use available CPU instructions in performance-critical operations.\n",
      "To enable the following instructions: AVX2 FMA, in other operations, rebuild TensorFlow with the appropriate compiler flags.\n"
     ]
    }
   ],
   "source": [
    "# Import our dependencies\n",
    "from sklearn.model_selection import train_test_split\n",
    "from sklearn.preprocessing import StandardScaler\n",
    "from sklearn.preprocessing import MinMaxScaler\n",
    "import pandas as pd\n",
    "import tensorflow as tf\n",
    "import numpy as np\n",
    "from pathlib import Path\n",
    "from keras.models import Sequential\n",
    "from keras.layers import LSTM,Dropout,Dense\n",
    "import matplotlib.pyplot as plt"
   ]
  },
  {
   "cell_type": "code",
   "execution_count": 2,
   "id": "886064b9-f602-4a1b-b1fd-6bb0efdb93c0",
   "metadata": {},
   "outputs": [
    {
     "ename": "FileNotFoundError",
     "evalue": "[Errno 2] No such file or directory: 'sp500_index.csv'",
     "output_type": "error",
     "traceback": [
      "\u001b[0;31m---------------------------------------------------------------------------\u001b[0m",
      "\u001b[0;31mFileNotFoundError\u001b[0m                         Traceback (most recent call last)",
      "Cell \u001b[0;32mIn[2], line 1\u001b[0m\n\u001b[0;32m----> 1\u001b[0m sp_index \u001b[38;5;241m=\u001b[39m pd\u001b[38;5;241m.\u001b[39mread_csv(\u001b[38;5;124m\"\u001b[39m\u001b[38;5;124msp500_index.csv\u001b[39m\u001b[38;5;124m\"\u001b[39m)\n\u001b[1;32m      2\u001b[0m sp_index\n",
      "File \u001b[0;32m~/anaconda3/lib/python3.11/site-packages/pandas/util/_decorators.py:211\u001b[0m, in \u001b[0;36mdeprecate_kwarg.<locals>._deprecate_kwarg.<locals>.wrapper\u001b[0;34m(*args, **kwargs)\u001b[0m\n\u001b[1;32m    209\u001b[0m     \u001b[38;5;28;01melse\u001b[39;00m:\n\u001b[1;32m    210\u001b[0m         kwargs[new_arg_name] \u001b[38;5;241m=\u001b[39m new_arg_value\n\u001b[0;32m--> 211\u001b[0m \u001b[38;5;28;01mreturn\u001b[39;00m func(\u001b[38;5;241m*\u001b[39margs, \u001b[38;5;241m*\u001b[39m\u001b[38;5;241m*\u001b[39mkwargs)\n",
      "File \u001b[0;32m~/anaconda3/lib/python3.11/site-packages/pandas/util/_decorators.py:331\u001b[0m, in \u001b[0;36mdeprecate_nonkeyword_arguments.<locals>.decorate.<locals>.wrapper\u001b[0;34m(*args, **kwargs)\u001b[0m\n\u001b[1;32m    325\u001b[0m \u001b[38;5;28;01mif\u001b[39;00m \u001b[38;5;28mlen\u001b[39m(args) \u001b[38;5;241m>\u001b[39m num_allow_args:\n\u001b[1;32m    326\u001b[0m     warnings\u001b[38;5;241m.\u001b[39mwarn(\n\u001b[1;32m    327\u001b[0m         msg\u001b[38;5;241m.\u001b[39mformat(arguments\u001b[38;5;241m=\u001b[39m_format_argument_list(allow_args)),\n\u001b[1;32m    328\u001b[0m         \u001b[38;5;167;01mFutureWarning\u001b[39;00m,\n\u001b[1;32m    329\u001b[0m         stacklevel\u001b[38;5;241m=\u001b[39mfind_stack_level(),\n\u001b[1;32m    330\u001b[0m     )\n\u001b[0;32m--> 331\u001b[0m \u001b[38;5;28;01mreturn\u001b[39;00m func(\u001b[38;5;241m*\u001b[39margs, \u001b[38;5;241m*\u001b[39m\u001b[38;5;241m*\u001b[39mkwargs)\n",
      "File \u001b[0;32m~/anaconda3/lib/python3.11/site-packages/pandas/io/parsers/readers.py:950\u001b[0m, in \u001b[0;36mread_csv\u001b[0;34m(filepath_or_buffer, sep, delimiter, header, names, index_col, usecols, squeeze, prefix, mangle_dupe_cols, dtype, engine, converters, true_values, false_values, skipinitialspace, skiprows, skipfooter, nrows, na_values, keep_default_na, na_filter, verbose, skip_blank_lines, parse_dates, infer_datetime_format, keep_date_col, date_parser, dayfirst, cache_dates, iterator, chunksize, compression, thousands, decimal, lineterminator, quotechar, quoting, doublequote, escapechar, comment, encoding, encoding_errors, dialect, error_bad_lines, warn_bad_lines, on_bad_lines, delim_whitespace, low_memory, memory_map, float_precision, storage_options)\u001b[0m\n\u001b[1;32m    935\u001b[0m kwds_defaults \u001b[38;5;241m=\u001b[39m _refine_defaults_read(\n\u001b[1;32m    936\u001b[0m     dialect,\n\u001b[1;32m    937\u001b[0m     delimiter,\n\u001b[0;32m   (...)\u001b[0m\n\u001b[1;32m    946\u001b[0m     defaults\u001b[38;5;241m=\u001b[39m{\u001b[38;5;124m\"\u001b[39m\u001b[38;5;124mdelimiter\u001b[39m\u001b[38;5;124m\"\u001b[39m: \u001b[38;5;124m\"\u001b[39m\u001b[38;5;124m,\u001b[39m\u001b[38;5;124m\"\u001b[39m},\n\u001b[1;32m    947\u001b[0m )\n\u001b[1;32m    948\u001b[0m kwds\u001b[38;5;241m.\u001b[39mupdate(kwds_defaults)\n\u001b[0;32m--> 950\u001b[0m \u001b[38;5;28;01mreturn\u001b[39;00m _read(filepath_or_buffer, kwds)\n",
      "File \u001b[0;32m~/anaconda3/lib/python3.11/site-packages/pandas/io/parsers/readers.py:605\u001b[0m, in \u001b[0;36m_read\u001b[0;34m(filepath_or_buffer, kwds)\u001b[0m\n\u001b[1;32m    602\u001b[0m _validate_names(kwds\u001b[38;5;241m.\u001b[39mget(\u001b[38;5;124m\"\u001b[39m\u001b[38;5;124mnames\u001b[39m\u001b[38;5;124m\"\u001b[39m, \u001b[38;5;28;01mNone\u001b[39;00m))\n\u001b[1;32m    604\u001b[0m \u001b[38;5;66;03m# Create the parser.\u001b[39;00m\n\u001b[0;32m--> 605\u001b[0m parser \u001b[38;5;241m=\u001b[39m TextFileReader(filepath_or_buffer, \u001b[38;5;241m*\u001b[39m\u001b[38;5;241m*\u001b[39mkwds)\n\u001b[1;32m    607\u001b[0m \u001b[38;5;28;01mif\u001b[39;00m chunksize \u001b[38;5;129;01mor\u001b[39;00m iterator:\n\u001b[1;32m    608\u001b[0m     \u001b[38;5;28;01mreturn\u001b[39;00m parser\n",
      "File \u001b[0;32m~/anaconda3/lib/python3.11/site-packages/pandas/io/parsers/readers.py:1442\u001b[0m, in \u001b[0;36mTextFileReader.__init__\u001b[0;34m(self, f, engine, **kwds)\u001b[0m\n\u001b[1;32m   1439\u001b[0m     \u001b[38;5;28mself\u001b[39m\u001b[38;5;241m.\u001b[39moptions[\u001b[38;5;124m\"\u001b[39m\u001b[38;5;124mhas_index_names\u001b[39m\u001b[38;5;124m\"\u001b[39m] \u001b[38;5;241m=\u001b[39m kwds[\u001b[38;5;124m\"\u001b[39m\u001b[38;5;124mhas_index_names\u001b[39m\u001b[38;5;124m\"\u001b[39m]\n\u001b[1;32m   1441\u001b[0m \u001b[38;5;28mself\u001b[39m\u001b[38;5;241m.\u001b[39mhandles: IOHandles \u001b[38;5;241m|\u001b[39m \u001b[38;5;28;01mNone\u001b[39;00m \u001b[38;5;241m=\u001b[39m \u001b[38;5;28;01mNone\u001b[39;00m\n\u001b[0;32m-> 1442\u001b[0m \u001b[38;5;28mself\u001b[39m\u001b[38;5;241m.\u001b[39m_engine \u001b[38;5;241m=\u001b[39m \u001b[38;5;28mself\u001b[39m\u001b[38;5;241m.\u001b[39m_make_engine(f, \u001b[38;5;28mself\u001b[39m\u001b[38;5;241m.\u001b[39mengine)\n",
      "File \u001b[0;32m~/anaconda3/lib/python3.11/site-packages/pandas/io/parsers/readers.py:1735\u001b[0m, in \u001b[0;36mTextFileReader._make_engine\u001b[0;34m(self, f, engine)\u001b[0m\n\u001b[1;32m   1733\u001b[0m     \u001b[38;5;28;01mif\u001b[39;00m \u001b[38;5;124m\"\u001b[39m\u001b[38;5;124mb\u001b[39m\u001b[38;5;124m\"\u001b[39m \u001b[38;5;129;01mnot\u001b[39;00m \u001b[38;5;129;01min\u001b[39;00m mode:\n\u001b[1;32m   1734\u001b[0m         mode \u001b[38;5;241m+\u001b[39m\u001b[38;5;241m=\u001b[39m \u001b[38;5;124m\"\u001b[39m\u001b[38;5;124mb\u001b[39m\u001b[38;5;124m\"\u001b[39m\n\u001b[0;32m-> 1735\u001b[0m \u001b[38;5;28mself\u001b[39m\u001b[38;5;241m.\u001b[39mhandles \u001b[38;5;241m=\u001b[39m get_handle(\n\u001b[1;32m   1736\u001b[0m     f,\n\u001b[1;32m   1737\u001b[0m     mode,\n\u001b[1;32m   1738\u001b[0m     encoding\u001b[38;5;241m=\u001b[39m\u001b[38;5;28mself\u001b[39m\u001b[38;5;241m.\u001b[39moptions\u001b[38;5;241m.\u001b[39mget(\u001b[38;5;124m\"\u001b[39m\u001b[38;5;124mencoding\u001b[39m\u001b[38;5;124m\"\u001b[39m, \u001b[38;5;28;01mNone\u001b[39;00m),\n\u001b[1;32m   1739\u001b[0m     compression\u001b[38;5;241m=\u001b[39m\u001b[38;5;28mself\u001b[39m\u001b[38;5;241m.\u001b[39moptions\u001b[38;5;241m.\u001b[39mget(\u001b[38;5;124m\"\u001b[39m\u001b[38;5;124mcompression\u001b[39m\u001b[38;5;124m\"\u001b[39m, \u001b[38;5;28;01mNone\u001b[39;00m),\n\u001b[1;32m   1740\u001b[0m     memory_map\u001b[38;5;241m=\u001b[39m\u001b[38;5;28mself\u001b[39m\u001b[38;5;241m.\u001b[39moptions\u001b[38;5;241m.\u001b[39mget(\u001b[38;5;124m\"\u001b[39m\u001b[38;5;124mmemory_map\u001b[39m\u001b[38;5;124m\"\u001b[39m, \u001b[38;5;28;01mFalse\u001b[39;00m),\n\u001b[1;32m   1741\u001b[0m     is_text\u001b[38;5;241m=\u001b[39mis_text,\n\u001b[1;32m   1742\u001b[0m     errors\u001b[38;5;241m=\u001b[39m\u001b[38;5;28mself\u001b[39m\u001b[38;5;241m.\u001b[39moptions\u001b[38;5;241m.\u001b[39mget(\u001b[38;5;124m\"\u001b[39m\u001b[38;5;124mencoding_errors\u001b[39m\u001b[38;5;124m\"\u001b[39m, \u001b[38;5;124m\"\u001b[39m\u001b[38;5;124mstrict\u001b[39m\u001b[38;5;124m\"\u001b[39m),\n\u001b[1;32m   1743\u001b[0m     storage_options\u001b[38;5;241m=\u001b[39m\u001b[38;5;28mself\u001b[39m\u001b[38;5;241m.\u001b[39moptions\u001b[38;5;241m.\u001b[39mget(\u001b[38;5;124m\"\u001b[39m\u001b[38;5;124mstorage_options\u001b[39m\u001b[38;5;124m\"\u001b[39m, \u001b[38;5;28;01mNone\u001b[39;00m),\n\u001b[1;32m   1744\u001b[0m )\n\u001b[1;32m   1745\u001b[0m \u001b[38;5;28;01massert\u001b[39;00m \u001b[38;5;28mself\u001b[39m\u001b[38;5;241m.\u001b[39mhandles \u001b[38;5;129;01mis\u001b[39;00m \u001b[38;5;129;01mnot\u001b[39;00m \u001b[38;5;28;01mNone\u001b[39;00m\n\u001b[1;32m   1746\u001b[0m f \u001b[38;5;241m=\u001b[39m \u001b[38;5;28mself\u001b[39m\u001b[38;5;241m.\u001b[39mhandles\u001b[38;5;241m.\u001b[39mhandle\n",
      "File \u001b[0;32m~/anaconda3/lib/python3.11/site-packages/pandas/io/common.py:856\u001b[0m, in \u001b[0;36mget_handle\u001b[0;34m(path_or_buf, mode, encoding, compression, memory_map, is_text, errors, storage_options)\u001b[0m\n\u001b[1;32m    851\u001b[0m \u001b[38;5;28;01melif\u001b[39;00m \u001b[38;5;28misinstance\u001b[39m(handle, \u001b[38;5;28mstr\u001b[39m):\n\u001b[1;32m    852\u001b[0m     \u001b[38;5;66;03m# Check whether the filename is to be opened in binary mode.\u001b[39;00m\n\u001b[1;32m    853\u001b[0m     \u001b[38;5;66;03m# Binary mode does not support 'encoding' and 'newline'.\u001b[39;00m\n\u001b[1;32m    854\u001b[0m     \u001b[38;5;28;01mif\u001b[39;00m ioargs\u001b[38;5;241m.\u001b[39mencoding \u001b[38;5;129;01mand\u001b[39;00m \u001b[38;5;124m\"\u001b[39m\u001b[38;5;124mb\u001b[39m\u001b[38;5;124m\"\u001b[39m \u001b[38;5;129;01mnot\u001b[39;00m \u001b[38;5;129;01min\u001b[39;00m ioargs\u001b[38;5;241m.\u001b[39mmode:\n\u001b[1;32m    855\u001b[0m         \u001b[38;5;66;03m# Encoding\u001b[39;00m\n\u001b[0;32m--> 856\u001b[0m         handle \u001b[38;5;241m=\u001b[39m \u001b[38;5;28mopen\u001b[39m(\n\u001b[1;32m    857\u001b[0m             handle,\n\u001b[1;32m    858\u001b[0m             ioargs\u001b[38;5;241m.\u001b[39mmode,\n\u001b[1;32m    859\u001b[0m             encoding\u001b[38;5;241m=\u001b[39mioargs\u001b[38;5;241m.\u001b[39mencoding,\n\u001b[1;32m    860\u001b[0m             errors\u001b[38;5;241m=\u001b[39merrors,\n\u001b[1;32m    861\u001b[0m             newline\u001b[38;5;241m=\u001b[39m\u001b[38;5;124m\"\u001b[39m\u001b[38;5;124m\"\u001b[39m,\n\u001b[1;32m    862\u001b[0m         )\n\u001b[1;32m    863\u001b[0m     \u001b[38;5;28;01melse\u001b[39;00m:\n\u001b[1;32m    864\u001b[0m         \u001b[38;5;66;03m# Binary mode\u001b[39;00m\n\u001b[1;32m    865\u001b[0m         handle \u001b[38;5;241m=\u001b[39m \u001b[38;5;28mopen\u001b[39m(handle, ioargs\u001b[38;5;241m.\u001b[39mmode)\n",
      "\u001b[0;31mFileNotFoundError\u001b[0m: [Errno 2] No such file or directory: 'sp500_index.csv'"
     ]
    }
   ],
   "source": [
    "sp_index = pd.read_csv(\"sp500_index.csv\")\n",
    "sp_index"
   ]
  },
  {
   "cell_type": "code",
   "execution_count": 126,
   "id": "ff777561-4b88-4721-bc3c-a9bfc3565f2a",
   "metadata": {
    "scrolled": true
   },
   "outputs": [
    {
     "data": {
      "text/html": [
       "<div>\n",
       "<style scoped>\n",
       "    .dataframe tbody tr th:only-of-type {\n",
       "        vertical-align: middle;\n",
       "    }\n",
       "\n",
       "    .dataframe tbody tr th {\n",
       "        vertical-align: top;\n",
       "    }\n",
       "\n",
       "    .dataframe thead th {\n",
       "        text-align: right;\n",
       "    }\n",
       "</style>\n",
       "<table border=\"1\" class=\"dataframe\">\n",
       "  <thead>\n",
       "    <tr style=\"text-align: right;\">\n",
       "      <th></th>\n",
       "      <th>Date</th>\n",
       "      <th>Symbol</th>\n",
       "      <th>Adj Close</th>\n",
       "      <th>Close</th>\n",
       "      <th>High</th>\n",
       "      <th>Low</th>\n",
       "      <th>Open</th>\n",
       "      <th>Volume</th>\n",
       "    </tr>\n",
       "  </thead>\n",
       "  <tbody>\n",
       "    <tr>\n",
       "      <th>0</th>\n",
       "      <td>2020-01-02</td>\n",
       "      <td>MMM</td>\n",
       "      <td>166.588959</td>\n",
       "      <td>180.000000</td>\n",
       "      <td>180.009995</td>\n",
       "      <td>177.139999</td>\n",
       "      <td>177.679993</td>\n",
       "      <td>3601700.0</td>\n",
       "    </tr>\n",
       "    <tr>\n",
       "      <th>1</th>\n",
       "      <td>2020-01-03</td>\n",
       "      <td>MMM</td>\n",
       "      <td>165.154465</td>\n",
       "      <td>178.449997</td>\n",
       "      <td>178.660004</td>\n",
       "      <td>175.630005</td>\n",
       "      <td>177.020004</td>\n",
       "      <td>2466900.0</td>\n",
       "    </tr>\n",
       "    <tr>\n",
       "      <th>2</th>\n",
       "      <td>2020-01-06</td>\n",
       "      <td>MMM</td>\n",
       "      <td>165.311783</td>\n",
       "      <td>178.619995</td>\n",
       "      <td>178.710007</td>\n",
       "      <td>176.350006</td>\n",
       "      <td>177.149994</td>\n",
       "      <td>1998000.0</td>\n",
       "    </tr>\n",
       "    <tr>\n",
       "      <th>3</th>\n",
       "      <td>2020-01-07</td>\n",
       "      <td>MMM</td>\n",
       "      <td>164.645416</td>\n",
       "      <td>177.899994</td>\n",
       "      <td>178.509995</td>\n",
       "      <td>176.820007</td>\n",
       "      <td>178.279999</td>\n",
       "      <td>2173000.0</td>\n",
       "    </tr>\n",
       "    <tr>\n",
       "      <th>4</th>\n",
       "      <td>2020-01-08</td>\n",
       "      <td>MMM</td>\n",
       "      <td>167.172028</td>\n",
       "      <td>180.630005</td>\n",
       "      <td>181.500000</td>\n",
       "      <td>177.649994</td>\n",
       "      <td>178.000000</td>\n",
       "      <td>2758300.0</td>\n",
       "    </tr>\n",
       "  </tbody>\n",
       "</table>\n",
       "</div>"
      ],
      "text/plain": [
       "        Date Symbol   Adj Close       Close        High         Low  \\\n",
       "0 2020-01-02    MMM  166.588959  180.000000  180.009995  177.139999   \n",
       "1 2020-01-03    MMM  165.154465  178.449997  178.660004  175.630005   \n",
       "2 2020-01-06    MMM  165.311783  178.619995  178.710007  176.350006   \n",
       "3 2020-01-07    MMM  164.645416  177.899994  178.509995  176.820007   \n",
       "4 2020-01-08    MMM  167.172028  180.630005  181.500000  177.649994   \n",
       "\n",
       "         Open     Volume  \n",
       "0  177.679993  3601700.0  \n",
       "1  177.020004  2466900.0  \n",
       "2  177.149994  1998000.0  \n",
       "3  178.279999  2173000.0  \n",
       "4  178.000000  2758300.0  "
      ]
     },
     "execution_count": 126,
     "metadata": {},
     "output_type": "execute_result"
    }
   ],
   "source": [
    "sp_stocks = pd.read_excel(\"sp500_stocks_4years.xlsx\")\n",
    "sp_stocks.head()\n"
   ]
  },
  {
   "cell_type": "code",
   "execution_count": 127,
   "id": "030aeeb7-413f-4920-81ea-d3ae373a8278",
   "metadata": {
    "scrolled": true
   },
   "outputs": [
    {
     "data": {
      "image/png": "[encoded data removed]",
      "text/plain": [
       "<Figure size 640x480 with 1 Axes>"
      ]
     },
     "metadata": {},
     "output_type": "display_data"
    }
   ],
   "source": [
    "sp_index['Date'] = pd.to_datetime(sp_index.Date,format=\"%Y-%m-%d\")\n",
    "sp_index.index=sp_index['Date']\n",
    "\n",
    "# Plot the data\n",
    "sp_index.plot(x='Date', y='S&P500', kind='line', linestyle='-')\n",
    "\n",
    "# Add labels and title\n",
    "plt.xlabel('Date')\n",
    "plt.ylabel('Stock Price')\n",
    "plt.title('S&P500 Last 10 Years')\n",
    "\n",
    "# Show the plot\n",
    "plt.show()"
   ]
  },
  {
   "cell_type": "code",
   "execution_count": 128,
   "id": "51f6c3eb-a493-4d08-a8ce-ec6c3afa57fa",
   "metadata": {
    "scrolled": true
   },
   "outputs": [
    {
     "data": {
      "text/html": [
       "<div>\n",
       "<style scoped>\n",
       "    .dataframe tbody tr th:only-of-type {\n",
       "        vertical-align: middle;\n",
       "    }\n",
       "\n",
       "    .dataframe tbody tr th {\n",
       "        vertical-align: top;\n",
       "    }\n",
       "\n",
       "    .dataframe thead th {\n",
       "        text-align: right;\n",
       "    }\n",
       "</style>\n",
       "<table border=\"1\" class=\"dataframe\">\n",
       "  <thead>\n",
       "    <tr style=\"text-align: right;\">\n",
       "      <th></th>\n",
       "      <th>Date</th>\n",
       "      <th>Symbol</th>\n",
       "      <th>Adj Close</th>\n",
       "      <th>Close</th>\n",
       "      <th>High</th>\n",
       "      <th>Low</th>\n",
       "      <th>Open</th>\n",
       "      <th>Volume</th>\n",
       "    </tr>\n",
       "  </thead>\n",
       "  <tbody>\n",
       "    <tr>\n",
       "      <th>40482</th>\n",
       "      <td>2020-01-02</td>\n",
       "      <td>AAPL</td>\n",
       "      <td>73.059410</td>\n",
       "      <td>75.087502</td>\n",
       "      <td>75.150002</td>\n",
       "      <td>73.797501</td>\n",
       "      <td>74.059998</td>\n",
       "      <td>135480400.0</td>\n",
       "    </tr>\n",
       "    <tr>\n",
       "      <th>40483</th>\n",
       "      <td>2020-01-03</td>\n",
       "      <td>AAPL</td>\n",
       "      <td>72.349152</td>\n",
       "      <td>74.357498</td>\n",
       "      <td>75.144997</td>\n",
       "      <td>74.125000</td>\n",
       "      <td>74.287498</td>\n",
       "      <td>146322800.0</td>\n",
       "    </tr>\n",
       "    <tr>\n",
       "      <th>40484</th>\n",
       "      <td>2020-01-06</td>\n",
       "      <td>AAPL</td>\n",
       "      <td>72.925644</td>\n",
       "      <td>74.949997</td>\n",
       "      <td>74.989998</td>\n",
       "      <td>73.187500</td>\n",
       "      <td>73.447502</td>\n",
       "      <td>118387200.0</td>\n",
       "    </tr>\n",
       "    <tr>\n",
       "      <th>40485</th>\n",
       "      <td>2020-01-07</td>\n",
       "      <td>AAPL</td>\n",
       "      <td>72.582657</td>\n",
       "      <td>74.597504</td>\n",
       "      <td>75.224998</td>\n",
       "      <td>74.370003</td>\n",
       "      <td>74.959999</td>\n",
       "      <td>108872000.0</td>\n",
       "    </tr>\n",
       "    <tr>\n",
       "      <th>40486</th>\n",
       "      <td>2020-01-08</td>\n",
       "      <td>AAPL</td>\n",
       "      <td>73.750252</td>\n",
       "      <td>75.797501</td>\n",
       "      <td>76.110001</td>\n",
       "      <td>74.290001</td>\n",
       "      <td>74.290001</td>\n",
       "      <td>132079200.0</td>\n",
       "    </tr>\n",
       "    <tr>\n",
       "      <th>...</th>\n",
       "      <td>...</td>\n",
       "      <td>...</td>\n",
       "      <td>...</td>\n",
       "      <td>...</td>\n",
       "      <td>...</td>\n",
       "      <td>...</td>\n",
       "      <td>...</td>\n",
       "      <td>...</td>\n",
       "    </tr>\n",
       "    <tr>\n",
       "      <th>41515</th>\n",
       "      <td>2024-02-09</td>\n",
       "      <td>AAPL</td>\n",
       "      <td>188.850006</td>\n",
       "      <td>188.850006</td>\n",
       "      <td>189.990005</td>\n",
       "      <td>188.000000</td>\n",
       "      <td>188.649994</td>\n",
       "      <td>45155200.0</td>\n",
       "    </tr>\n",
       "    <tr>\n",
       "      <th>41516</th>\n",
       "      <td>2024-02-12</td>\n",
       "      <td>AAPL</td>\n",
       "      <td>187.149994</td>\n",
       "      <td>187.149994</td>\n",
       "      <td>188.669998</td>\n",
       "      <td>186.789993</td>\n",
       "      <td>188.419998</td>\n",
       "      <td>41781900.0</td>\n",
       "    </tr>\n",
       "    <tr>\n",
       "      <th>41517</th>\n",
       "      <td>2024-02-13</td>\n",
       "      <td>AAPL</td>\n",
       "      <td>185.039993</td>\n",
       "      <td>185.039993</td>\n",
       "      <td>186.210007</td>\n",
       "      <td>183.509995</td>\n",
       "      <td>185.770004</td>\n",
       "      <td>56529500.0</td>\n",
       "    </tr>\n",
       "    <tr>\n",
       "      <th>41518</th>\n",
       "      <td>2024-02-14</td>\n",
       "      <td>AAPL</td>\n",
       "      <td>184.149994</td>\n",
       "      <td>184.149994</td>\n",
       "      <td>185.529999</td>\n",
       "      <td>182.440002</td>\n",
       "      <td>185.320007</td>\n",
       "      <td>54630500.0</td>\n",
       "    </tr>\n",
       "    <tr>\n",
       "      <th>41519</th>\n",
       "      <td>2024-02-15</td>\n",
       "      <td>AAPL</td>\n",
       "      <td>183.860001</td>\n",
       "      <td>183.860001</td>\n",
       "      <td>184.490005</td>\n",
       "      <td>181.399994</td>\n",
       "      <td>183.550003</td>\n",
       "      <td>63936069.0</td>\n",
       "    </tr>\n",
       "  </tbody>\n",
       "</table>\n",
       "<p>1038 rows × 8 columns</p>\n",
       "</div>"
      ],
      "text/plain": [
       "            Date Symbol   Adj Close       Close        High         Low  \\\n",
       "40482 2020-01-02   AAPL   73.059410   75.087502   75.150002   73.797501   \n",
       "40483 2020-01-03   AAPL   72.349152   74.357498   75.144997   74.125000   \n",
       "40484 2020-01-06   AAPL   72.925644   74.949997   74.989998   73.187500   \n",
       "40485 2020-01-07   AAPL   72.582657   74.597504   75.224998   74.370003   \n",
       "40486 2020-01-08   AAPL   73.750252   75.797501   76.110001   74.290001   \n",
       "...          ...    ...         ...         ...         ...         ...   \n",
       "41515 2024-02-09   AAPL  188.850006  188.850006  189.990005  188.000000   \n",
       "41516 2024-02-12   AAPL  187.149994  187.149994  188.669998  186.789993   \n",
       "41517 2024-02-13   AAPL  185.039993  185.039993  186.210007  183.509995   \n",
       "41518 2024-02-14   AAPL  184.149994  184.149994  185.529999  182.440002   \n",
       "41519 2024-02-15   AAPL  183.860001  183.860001  184.490005  181.399994   \n",
       "\n",
       "             Open       Volume  \n",
       "40482   74.059998  135480400.0  \n",
       "40483   74.287498  146322800.0  \n",
       "40484   73.447502  118387200.0  \n",
       "40485   74.959999  108872000.0  \n",
       "40486   74.290001  132079200.0  \n",
       "...           ...          ...  \n",
       "41515  188.649994   45155200.0  \n",
       "41516  188.419998   41781900.0  \n",
       "41517  185.770004   56529500.0  \n",
       "41518  185.320007   54630500.0  \n",
       "41519  183.550003   63936069.0  \n",
       "\n",
       "[1038 rows x 8 columns]"
      ]
     },
     "execution_count": 128,
     "metadata": {},
     "output_type": "execute_result"
    }
   ],
   "source": [
    "apple_df = sp_stocks[sp_stocks['Symbol'] == 'AAPL']\n",
    "apple_df"
   ]
  },
  {
   "cell_type": "code",
   "execution_count": 129,
   "id": "a2f62c91-e63b-401e-9a42-85191948bf4e",
   "metadata": {
    "scrolled": true
   },
   "outputs": [
    {
     "data": {
      "image/png": "[encoded data removed]",
      "text/plain": [
       "<Figure size 640x480 with 1 Axes>"
      ]
     },
     "metadata": {},
     "output_type": "display_data"
    }
   ],
   "source": [
    "apple_df.plot(x='Date', y='Close', kind='line', linestyle='-')\n",
    "\n",
    "# Add labels and title\n",
    "plt.xlabel('Date')\n",
    "plt.ylabel('Stock Price')\n",
    "plt.title('Apple Stock Last 4 Years')\n",
    "\n",
    "# Show the plot\n",
    "plt.show()"
   ]
  },
  {
   "cell_type": "code",
   "execution_count": 130,
   "id": "0977ee56-bc42-4890-b328-2e2940aca71f",
   "metadata": {},
   "outputs": [
    {
     "data": {
      "text/plain": [
       "Index(['Date', 'Symbol', 'Adj Close', 'Close', 'High', 'Low', 'Open',\n",
       "       'Volume'],\n",
       "      dtype='object')"
      ]
     },
     "execution_count": 130,
     "metadata": {},
     "output_type": "execute_result"
    }
   ],
   "source": [
    "apple_df.columns"
   ]
  },
  {
   "cell_type": "code",
   "execution_count": 131,
   "id": "8b6ab172-7c92-43e6-aa53-2a083cc7b864",
   "metadata": {},
   "outputs": [
    {
     "data": {
      "text/plain": [
       "(1038, 1)"
      ]
     },
     "execution_count": 131,
     "metadata": {},
     "output_type": "execute_result"
    }
   ],
   "source": [
    "scaler = MinMaxScaler()\n",
    "df2 = scaler.fit_transform(np.array(df2).reshape(-1,1))\n",
    "df2.shape"
   ]
  },
  {
   "cell_type": "code",
   "execution_count": 132,
   "id": "86985847-37b2-4deb-8041-ceb2182e981a",
   "metadata": {},
   "outputs": [],
   "source": [
    "train_data=df2[0:1037]\n",
    "valid_data=df2[1037:,]\n",
    "\n",
    "train_size = int(len(df2)*0.80)\n",
    "test_size = len(df2) - train_size\n",
    "train_data,test_data = df2[0:train_size,:],df2[train_size:len(df2),:1]"
   ]
  },
  {
   "cell_type": "code",
   "execution_count": 133,
   "id": "7f5f3791-ea56-4c24-ae41-d2a4a71317c8",
   "metadata": {},
   "outputs": [],
   "source": [
    "def create_dataset(dataset, time_step = 1):\n",
    "    dataX,dataY = [],[]\n",
    "    for i in range(len(dataset)-time_step-1):\n",
    "                   a = dataset[i:(i+time_step),0]\n",
    "                   dataX.append(a)\n",
    "                   dataY.append(dataset[i + time_step,0])\n",
    "    return np.array(dataX),np.array(dataY)"
   ]
  },
  {
   "cell_type": "code",
   "execution_count": 134,
   "id": "401766db-cddc-4d57-a063-aef02c9644a3",
   "metadata": {},
   "outputs": [],
   "source": [
    "time_step = 100\n",
    "X_train,Y_train =  create_dataset(train_data,time_step)\n",
    "X_test,Y_test =  create_dataset(test_data,time_step)"
   ]
  },
  {
   "cell_type": "code",
   "execution_count": 135,
   "id": "d1397ac0-c654-4a2c-b924-7e9f35196216",
   "metadata": {},
   "outputs": [
    {
     "name": "stdout",
     "output_type": "stream",
     "text": [
      "(729, 100)\n",
      "[[0.13375114 0.1286109  0.13278292 ... 0.16279686 0.16638798 0.16258562]\n",
      " [0.1286109  0.13278292 0.13030088 ... 0.16638798 0.16258562 0.16501486]\n",
      " [0.13278292 0.13030088 0.13875052 ... 0.16258562 0.16501486 0.16526133]\n",
      " ...\n",
      " [0.66630874 0.67032227 0.64722654 ... 0.73728592 0.73235697 0.77080288]\n",
      " [0.67032227 0.64722654 0.66250633 ... 0.73235697 0.77080288 0.76833845]\n",
      " [0.64722654 0.66250633 0.66877327 ... 0.77080288 0.76833845 0.76847921]]\n",
      "(107, 100)\n",
      "(107,)\n"
     ]
    }
   ],
   "source": [
    "# checking values\n",
    "print(X_train.shape)\n",
    "print(X_train)\n",
    "print(X_test.shape)\n",
    "print(Y_test.shape)"
   ]
  },
  {
   "cell_type": "code",
   "execution_count": 136,
   "id": "0353c990-1a4a-4164-b56f-13fbfce11880",
   "metadata": {},
   "outputs": [],
   "source": [
    "stock_model = Sequential()\n",
    "stock_model.add(LSTM(50,return_sequences = True,input_shape = (X_train.shape[1],1)))\n",
    "stock_model.add(LSTM(50,return_sequences = True))\n",
    "stock_model.add(LSTM(50))\n",
    "stock_model.add(Dense(1))\n",
    "stock_model.compile(optimizer = 'adam', loss = 'mean_squared_error')"
   ]
  },
  {
   "cell_type": "code",
   "execution_count": 137,
   "id": "3e152e7d-8a66-49cb-a05c-7cb8ae55956c",
   "metadata": {},
   "outputs": [
    {
     "name": "stdout",
     "output_type": "stream",
     "text": [
      "Epoch 1/100\n",
      "23/23 [==============================] - 8s 141ms/step - loss: 0.0462 - val_loss: 0.0043\n",
      "Epoch 2/100\n",
      "23/23 [==============================] - 2s 88ms/step - loss: 0.0055 - val_loss: 0.0206\n",
      "Epoch 3/100\n",
      "23/23 [==============================] - 2s 81ms/step - loss: 0.0037 - val_loss: 0.0061\n",
      "Epoch 4/100\n",
      "23/23 [==============================] - 2s 98ms/step - loss: 0.0031 - val_loss: 0.0057\n",
      "Epoch 5/100\n",
      "23/23 [==============================] - 2s 99ms/step - loss: 0.0028 - val_loss: 0.0047\n",
      "Epoch 6/100\n",
      "23/23 [==============================] - 2s 102ms/step - loss: 0.0027 - val_loss: 0.0038\n",
      "Epoch 7/100\n",
      "23/23 [==============================] - 2s 104ms/step - loss: 0.0027 - val_loss: 0.0069\n",
      "Epoch 8/100\n",
      "23/23 [==============================] - 3s 127ms/step - loss: 0.0027 - val_loss: 0.0046\n",
      "Epoch 9/100\n",
      "23/23 [==============================] - 3s 131ms/step - loss: 0.0023 - val_loss: 0.0037\n",
      "Epoch 10/100\n",
      "23/23 [==============================] - 2s 98ms/step - loss: 0.0023 - val_loss: 0.0050\n",
      "Epoch 11/100\n",
      "23/23 [==============================] - 2s 92ms/step - loss: 0.0023 - val_loss: 0.0022\n",
      "Epoch 12/100\n",
      "23/23 [==============================] - 2s 101ms/step - loss: 0.0022 - val_loss: 0.0061\n",
      "Epoch 13/100\n",
      "23/23 [==============================] - 2s 88ms/step - loss: 0.0021 - val_loss: 0.0018\n",
      "Epoch 14/100\n",
      "23/23 [==============================] - 2s 102ms/step - loss: 0.0023 - val_loss: 0.0015\n",
      "Epoch 15/100\n",
      "23/23 [==============================] - 2s 93ms/step - loss: 0.0019 - val_loss: 0.0033\n",
      "Epoch 16/100\n",
      "23/23 [==============================] - 2s 81ms/step - loss: 0.0018 - val_loss: 0.0024\n",
      "Epoch 17/100\n",
      "23/23 [==============================] - 2s 95ms/step - loss: 0.0016 - val_loss: 0.0034\n",
      "Epoch 18/100\n",
      "23/23 [==============================] - 2s 90ms/step - loss: 0.0016 - val_loss: 0.0035\n",
      "Epoch 19/100\n",
      "23/23 [==============================] - 2s 94ms/step - loss: 0.0017 - val_loss: 0.0023\n",
      "Epoch 20/100\n",
      "23/23 [==============================] - 2s 88ms/step - loss: 0.0015 - val_loss: 0.0038\n",
      "Epoch 21/100\n",
      "23/23 [==============================] - 2s 77ms/step - loss: 0.0016 - val_loss: 0.0061\n",
      "Epoch 22/100\n",
      "23/23 [==============================] - 2s 87ms/step - loss: 0.0017 - val_loss: 0.0028\n",
      "Epoch 23/100\n",
      "23/23 [==============================] - 3s 110ms/step - loss: 0.0014 - val_loss: 0.0013\n",
      "Epoch 24/100\n",
      "23/23 [==============================] - 2s 81ms/step - loss: 0.0021 - val_loss: 0.0014\n",
      "Epoch 25/100\n",
      "23/23 [==============================] - 2s 80ms/step - loss: 0.0014 - val_loss: 0.0013\n",
      "Epoch 26/100\n",
      "23/23 [==============================] - 2s 85ms/step - loss: 0.0013 - val_loss: 0.0017\n",
      "Epoch 27/100\n",
      "23/23 [==============================] - 3s 118ms/step - loss: 0.0013 - val_loss: 0.0014\n",
      "Epoch 28/100\n",
      "23/23 [==============================] - 2s 90ms/step - loss: 0.0012 - val_loss: 0.0019\n",
      "Epoch 29/100\n",
      "23/23 [==============================] - 2s 82ms/step - loss: 0.0012 - val_loss: 0.0011\n",
      "Epoch 30/100\n",
      "23/23 [==============================] - 2s 82ms/step - loss: 0.0014 - val_loss: 0.0029\n",
      "Epoch 31/100\n",
      "23/23 [==============================] - 2s 83ms/step - loss: 0.0016 - val_loss: 0.0015\n",
      "Epoch 32/100\n",
      "23/23 [==============================] - 2s 84ms/step - loss: 0.0012 - val_loss: 0.0016\n",
      "Epoch 33/100\n",
      "23/23 [==============================] - 2s 80ms/step - loss: 0.0012 - val_loss: 0.0011\n",
      "Epoch 34/100\n",
      "23/23 [==============================] - 2s 83ms/step - loss: 0.0012 - val_loss: 0.0020\n",
      "Epoch 35/100\n",
      "23/23 [==============================] - 2s 95ms/step - loss: 0.0011 - val_loss: 0.0013\n",
      "Epoch 36/100\n",
      "23/23 [==============================] - 2s 90ms/step - loss: 0.0013 - val_loss: 7.9351e-04\n",
      "Epoch 37/100\n",
      "23/23 [==============================] - 2s 96ms/step - loss: 0.0011 - val_loss: 0.0026\n",
      "Epoch 38/100\n",
      "23/23 [==============================] - 2s 84ms/step - loss: 0.0011 - val_loss: 8.5239e-04\n",
      "Epoch 39/100\n",
      "23/23 [==============================] - 2s 80ms/step - loss: 0.0010 - val_loss: 9.5881e-04\n",
      "Epoch 40/100\n",
      "23/23 [==============================] - 2s 89ms/step - loss: 9.9697e-04 - val_loss: 9.3348e-04\n",
      "Epoch 41/100\n",
      "23/23 [==============================] - 2s 96ms/step - loss: 0.0011 - val_loss: 0.0017\n",
      "Epoch 42/100\n",
      "23/23 [==============================] - 2s 96ms/step - loss: 0.0011 - val_loss: 7.7537e-04\n",
      "Epoch 43/100\n",
      "23/23 [==============================] - 2s 87ms/step - loss: 0.0011 - val_loss: 0.0013\n",
      "Epoch 44/100\n",
      "23/23 [==============================] - 2s 82ms/step - loss: 0.0010 - val_loss: 6.2601e-04\n",
      "Epoch 45/100\n",
      "23/23 [==============================] - 2s 88ms/step - loss: 9.7774e-04 - val_loss: 6.5550e-04\n",
      "Epoch 46/100\n",
      "23/23 [==============================] - 2s 85ms/step - loss: 9.1077e-04 - val_loss: 0.0013\n",
      "Epoch 47/100\n",
      "23/23 [==============================] - 2s 88ms/step - loss: 9.6568e-04 - val_loss: 6.2582e-04\n",
      "Epoch 48/100\n",
      "23/23 [==============================] - 2s 87ms/step - loss: 0.0011 - val_loss: 0.0017\n",
      "Epoch 49/100\n",
      "23/23 [==============================] - 2s 93ms/step - loss: 9.7276e-04 - val_loss: 0.0020\n",
      "Epoch 50/100\n",
      "23/23 [==============================] - 2s 100ms/step - loss: 9.6416e-04 - val_loss: 6.8889e-04\n",
      "Epoch 51/100\n",
      "23/23 [==============================] - 2s 82ms/step - loss: 9.3214e-04 - val_loss: 0.0011\n",
      "Epoch 52/100\n",
      "23/23 [==============================] - 2s 94ms/step - loss: 8.6848e-04 - val_loss: 4.8412e-04\n",
      "Epoch 53/100\n",
      "23/23 [==============================] - 2s 92ms/step - loss: 8.2774e-04 - val_loss: 6.3976e-04\n",
      "Epoch 54/100\n",
      "23/23 [==============================] - 2s 96ms/step - loss: 8.4055e-04 - val_loss: 4.5970e-04\n",
      "Epoch 55/100\n",
      "23/23 [==============================] - 2s 83ms/step - loss: 0.0010 - val_loss: 0.0014\n",
      "Epoch 56/100\n",
      "23/23 [==============================] - 2s 84ms/step - loss: 8.1272e-04 - val_loss: 9.9072e-04\n",
      "Epoch 57/100\n",
      "23/23 [==============================] - 2s 89ms/step - loss: 8.6951e-04 - val_loss: 6.2714e-04\n",
      "Epoch 58/100\n",
      "23/23 [==============================] - 2s 84ms/step - loss: 7.8865e-04 - val_loss: 4.2421e-04\n",
      "Epoch 59/100\n",
      "23/23 [==============================] - 2s 92ms/step - loss: 8.5117e-04 - val_loss: 9.2588e-04\n",
      "Epoch 60/100\n",
      "23/23 [==============================] - 2s 96ms/step - loss: 7.8059e-04 - val_loss: 7.6155e-04\n",
      "Epoch 61/100\n",
      "23/23 [==============================] - 2s 82ms/step - loss: 7.6176e-04 - val_loss: 4.5125e-04\n",
      "Epoch 62/100\n",
      "23/23 [==============================] - 2s 80ms/step - loss: 7.2155e-04 - val_loss: 3.9155e-04\n",
      "Epoch 63/100\n",
      "23/23 [==============================] - 2s 93ms/step - loss: 7.1860e-04 - val_loss: 4.9988e-04\n",
      "Epoch 64/100\n",
      "23/23 [==============================] - 2s 103ms/step - loss: 7.7803e-04 - val_loss: 3.7475e-04\n",
      "Epoch 65/100\n",
      "23/23 [==============================] - 2s 87ms/step - loss: 7.8411e-04 - val_loss: 4.5830e-04\n",
      "Epoch 66/100\n",
      "23/23 [==============================] - 2s 87ms/step - loss: 7.8371e-04 - val_loss: 0.0014\n",
      "Epoch 67/100\n",
      "23/23 [==============================] - 2s 97ms/step - loss: 7.2790e-04 - val_loss: 6.5994e-04\n",
      "Epoch 68/100\n",
      "23/23 [==============================] - 2s 97ms/step - loss: 6.8317e-04 - val_loss: 4.4923e-04\n",
      "Epoch 69/100\n",
      "23/23 [==============================] - 3s 126ms/step - loss: 7.5149e-04 - val_loss: 0.0011\n",
      "Epoch 70/100\n",
      "23/23 [==============================] - 2s 100ms/step - loss: 7.2700e-04 - val_loss: 4.9348e-04\n",
      "Epoch 71/100\n",
      "23/23 [==============================] - 2s 92ms/step - loss: 6.7135e-04 - val_loss: 0.0011\n",
      "Epoch 72/100\n",
      "23/23 [==============================] - 2s 81ms/step - loss: 6.3492e-04 - val_loss: 3.3625e-04\n",
      "Epoch 73/100\n",
      "23/23 [==============================] - 2s 87ms/step - loss: 7.5067e-04 - val_loss: 7.6423e-04\n",
      "Epoch 74/100\n",
      "23/23 [==============================] - 2s 90ms/step - loss: 6.2593e-04 - val_loss: 3.5750e-04\n",
      "Epoch 75/100\n",
      "23/23 [==============================] - 2s 95ms/step - loss: 6.8876e-04 - val_loss: 4.0726e-04\n",
      "Epoch 76/100\n",
      "23/23 [==============================] - 2s 83ms/step - loss: 6.3062e-04 - val_loss: 3.1355e-04\n",
      "Epoch 77/100\n",
      "23/23 [==============================] - 4s 190ms/step - loss: 6.7481e-04 - val_loss: 0.0015\n",
      "Epoch 78/100\n",
      "23/23 [==============================] - 2s 95ms/step - loss: 6.6361e-04 - val_loss: 7.4925e-04\n",
      "Epoch 79/100\n",
      "23/23 [==============================] - 2s 94ms/step - loss: 6.4152e-04 - val_loss: 5.5066e-04\n",
      "Epoch 80/100\n",
      "23/23 [==============================] - 2s 94ms/step - loss: 5.7932e-04 - val_loss: 3.2940e-04\n",
      "Epoch 81/100\n",
      "23/23 [==============================] - 2s 81ms/step - loss: 6.8660e-04 - val_loss: 5.6836e-04\n",
      "Epoch 82/100\n",
      "23/23 [==============================] - 2s 85ms/step - loss: 5.9762e-04 - val_loss: 3.0061e-04\n",
      "Epoch 83/100\n",
      "23/23 [==============================] - 2s 96ms/step - loss: 6.3037e-04 - val_loss: 3.2301e-04\n",
      "Epoch 84/100\n",
      "23/23 [==============================] - 2s 88ms/step - loss: 6.5911e-04 - val_loss: 4.1892e-04\n",
      "Epoch 85/100\n",
      "23/23 [==============================] - 2s 88ms/step - loss: 5.4852e-04 - val_loss: 3.9428e-04\n",
      "Epoch 86/100\n",
      "23/23 [==============================] - 2s 93ms/step - loss: 5.5877e-04 - val_loss: 3.7129e-04\n",
      "Epoch 87/100\n",
      "23/23 [==============================] - 2s 88ms/step - loss: 5.8386e-04 - val_loss: 5.0533e-04\n",
      "Epoch 88/100\n",
      "23/23 [==============================] - 2s 94ms/step - loss: 5.5841e-04 - val_loss: 3.7568e-04\n",
      "Epoch 89/100\n",
      "23/23 [==============================] - 2s 92ms/step - loss: 5.2424e-04 - val_loss: 3.5695e-04\n",
      "Epoch 90/100\n",
      "23/23 [==============================] - 2s 96ms/step - loss: 5.4890e-04 - val_loss: 5.7846e-04\n",
      "Epoch 91/100\n",
      "23/23 [==============================] - 2s 93ms/step - loss: 5.7655e-04 - val_loss: 4.0711e-04\n",
      "Epoch 92/100\n",
      "23/23 [==============================] - 3s 124ms/step - loss: 5.4089e-04 - val_loss: 3.6494e-04\n",
      "Epoch 93/100\n",
      "23/23 [==============================] - 3s 116ms/step - loss: 4.7819e-04 - val_loss: 2.5090e-04\n",
      "Epoch 94/100\n",
      "23/23 [==============================] - 3s 114ms/step - loss: 5.0577e-04 - val_loss: 2.7333e-04\n",
      "Epoch 95/100\n",
      "23/23 [==============================] - 3s 112ms/step - loss: 5.0918e-04 - val_loss: 6.5875e-04\n",
      "Epoch 96/100\n",
      "23/23 [==============================] - 2s 98ms/step - loss: 5.3942e-04 - val_loss: 8.1473e-04\n",
      "Epoch 97/100\n",
      "23/23 [==============================] - 2s 90ms/step - loss: 5.2551e-04 - val_loss: 6.7885e-04\n",
      "Epoch 98/100\n",
      "23/23 [==============================] - 2s 100ms/step - loss: 5.7430e-04 - val_loss: 2.6531e-04\n",
      "Epoch 99/100\n",
      "23/23 [==============================] - 3s 121ms/step - loss: 5.2619e-04 - val_loss: 0.0014\n",
      "Epoch 100/100\n",
      "23/23 [==============================] - 2s 106ms/step - loss: 6.2293e-04 - val_loss: 4.2258e-04\n"
     ]
    },
    {
     "data": {
      "text/plain": [
       "<keras.src.callbacks.History at 0x7fd012464220>"
      ]
     },
     "execution_count": 137,
     "metadata": {},
     "output_type": "execute_result"
    }
   ],
   "source": [
    "stock_model.fit(X_train,Y_train,validation_data = (X_test,Y_test),epochs = 100,batch_size = 32,verbose = 1)"
   ]
  },
  {
   "cell_type": "code",
   "execution_count": 138,
   "id": "ba06d16b-556c-4d03-b8e4-d54e05509847",
   "metadata": {},
   "outputs": [
    {
     "name": "stdout",
     "output_type": "stream",
     "text": [
      "23/23 [==============================] - 2s 38ms/step\n",
      "4/4 [==============================] - 0s 32ms/step\n"
     ]
    }
   ],
   "source": [
    "train_predict = stock_model.predict(X_train)\n",
    "test_predict = stock_model.predict(X_test)"
   ]
  },
  {
   "cell_type": "code",
   "execution_count": 139,
   "id": "29b4e03d-ac54-477c-bfd6-0db43b304ee8",
   "metadata": {},
   "outputs": [],
   "source": [
    "# transform to original form\n",
    "train_predict = scaler.inverse_transform(train_predict)\n",
    "test_predict = scaler.inverse_transform(test_predict)"
   ]
  },
  {
   "cell_type": "code",
   "execution_count": 140,
   "id": "b744a056",
   "metadata": {},
   "outputs": [
    {
     "name": "stdout",
     "output_type": "stream",
     "text": [
      "23/23 [==============================] - 1s 35ms/step\n"
     ]
    }
   ],
   "source": [
    "model_predictions = stock_model.predict(X_train)\n",
    "true_labels = Y_train"
   ]
  },
  {
   "cell_type": "code",
   "execution_count": 141,
   "id": "9afb05fc",
   "metadata": {},
   "outputs": [
    {
     "name": "stdout",
     "output_type": "stream",
     "text": [
      "Mean Absolute Error (MAE): 0.01651371386995071\n",
      "Mean Squared Error (MSE): 0.0004658930621188948\n",
      "R^2 Score: 0.9797903625873398\n"
     ]
    }
   ],
   "source": [
    "from sklearn.metrics import mean_absolute_error, mean_squared_error, r2_score\n",
    "\n",
    "# Compute Mean Absolute Error (MAE)\n",
    "mae = mean_absolute_error(true_labels, model_predictions)\n",
    "print(\"Mean Absolute Error (MAE):\", mae)\n",
    "\n",
    "# Compute Mean Squared Error (MSE)\n",
    "mse = mean_squared_error(true_labels, model_predictions)\n",
    "print(\"Mean Squared Error (MSE):\", mse)\n",
    "\n",
    "# Compute R^2 Score\n",
    "r2 = r2_score(true_labels, model_predictions)\n",
    "print(\"R^2 Score:\", r2)"
   ]
  },
  {
   "cell_type": "code",
   "execution_count": 142,
   "id": "c41d1393-3b86-40a1-a60e-5738c4bd34fa",
   "metadata": {},
   "outputs": [],
   "source": [
    "look_back = 100\n",
    "\n",
    "trainPredictPlot = np.empty_like(df2)\n",
    "trainPredictPlot[:,:] = np.nan\n",
    "trainPredictPlot[look_back : len(train_predict)+look_back,:] = train_predict\n",
    "\n",
    "testPredictPlot = np.empty_like(df2)\n",
    "testPredictPlot[:,:] = np.nan\n",
    "testPredictPlot[len(train_predict)+(look_back)*2 + 1 : len(df2) - 1,:] = test_predict"
   ]
  },
  {
   "cell_type": "code",
   "execution_count": 143,
   "id": "bfdda7ab-8389-4155-8de1-852833ff062b",
   "metadata": {
    "scrolled": true
   },
   "outputs": [
    {
     "data": {
      "image/png": "[encoded data removed]",
      "text/plain": [
       "<Figure size 640x480 with 1 Axes>"
      ]
     },
     "metadata": {},
     "output_type": "display_data"
    }
   ],
   "source": [
    "plt.plot(scaler.inverse_transform(df2), label=\"Actual Data\")\n",
    "plt.plot(trainPredictPlot, label=\"Training Data\")\n",
    "plt.plot(testPredictPlot, label=\"Test Data\")\n",
    "\n",
    "plt.legend()\n",
    "plt.show()"
   ]
  },
  {
   "cell_type": "code",
   "execution_count": 144,
   "id": "4e8d1afe-3ea4-4223-bfc7-221878c3566c",
   "metadata": {},
   "outputs": [
    {
     "data": {
      "text/plain": [
       "(107, 100)"
      ]
     },
     "execution_count": 144,
     "metadata": {},
     "output_type": "execute_result"
    }
   ],
   "source": [
    "X_test.shape"
   ]
  },
  {
   "cell_type": "code",
   "execution_count": 145,
   "id": "5634ecde-26b1-4f2b-ae40-f0c63e6c9d70",
   "metadata": {},
   "outputs": [
    {
     "data": {
      "text/plain": [
       "array([[0.77847796, 0.76700057, 0.76918339, ..., 0.85966513, 0.86797402,\n",
       "        0.8464274 ],\n",
       "       [0.76700057, 0.76918339, 0.75819884, ..., 0.86797402, 0.8464274 ,\n",
       "        0.83171093],\n",
       "       [0.76918339, 0.75819884, 0.75812836, ..., 0.8464274 , 0.83171093,\n",
       "        0.84248424],\n",
       "       ...,\n",
       "       [0.86593206, 0.84072389, 0.82973924, ..., 0.93873997, 0.93106488,\n",
       "        0.93479681],\n",
       "       [0.84072389, 0.82973924, 0.83579483, ..., 0.93106488, 0.93479681,\n",
       "        0.92282637],\n",
       "       [0.82973924, 0.83579483, 0.84487828, ..., 0.93479681, 0.92282637,\n",
       "        0.90796904]])"
      ]
     },
     "execution_count": 145,
     "metadata": {},
     "output_type": "execute_result"
    }
   ],
   "source": [
    "X_test"
   ]
  },
  {
   "cell_type": "code",
   "execution_count": 164,
   "id": "776d41f2-41e1-4318-adcc-65bd98bd41d8",
   "metadata": {},
   "outputs": [
    {
     "name": "stdout",
     "output_type": "stream",
     "text": [
      "1/1 [==============================] - 0s 28ms/step\n"
     ]
    }
   ],
   "source": [
    "# Number of future days to predict\n",
    "future_days = 1\n",
    "future_predictions = []\n",
    "last_sequence = X_test[-1].reshape(1, -1)\n",
    "\n",
    "for i in range(future_days):\n",
    "    # Predict the next day's value with last sequence\n",
    "    next_prediction = stock_model.predict(last_sequence)\n",
    "    # Inverse transform to get the actual predicted value\n",
    "    next_prediction = scaler.inverse_transform(next_prediction)\n",
    "    # Append the prediction to the list of future predictions\n",
    "    future_predictions.append(next_prediction)\n",
    "    # Update last_sequence for the next prediction\n",
    "    last_sequence = next_prediction.reshape(1, -1)"
   ]
  },
  {
   "cell_type": "code",
   "execution_count": 165,
   "id": "8a4c230f-5f9b-47ac-9c66-6ac3b3f70211",
   "metadata": {
    "scrolled": true
   },
   "outputs": [
    {
     "data": {
      "text/plain": [
       "[array([[183.03932]], dtype=float32)]"
      ]
     },
     "execution_count": 165,
     "metadata": {},
     "output_type": "execute_result"
    }
   ],
   "source": [
    "future_predictions"
   ]
  },
  {
   "cell_type": "code",
   "execution_count": 148,
   "id": "36e3a750-ac7a-42b5-a680-6d478c39c987",
   "metadata": {},
   "outputs": [
    {
     "data": {
      "text/plain": [
       "array([[ 75.08750153],\n",
       "       [ 74.35749817],\n",
       "       [ 74.94999695],\n",
       "       ...,\n",
       "       [185.03999329],\n",
       "       [184.1499939 ],\n",
       "       [183.86000061]])"
      ]
     },
     "execution_count": 148,
     "metadata": {},
     "output_type": "execute_result"
    }
   ],
   "source": [
    "df2 = scaler.inverse_transform(df2)\n",
    "df2"
   ]
  },
  {
   "cell_type": "code",
   "execution_count": 149,
   "id": "c2979e3e-5955-4f78-af16-c5ba206be1e9",
   "metadata": {},
   "outputs": [],
   "source": [
    "df2 = pd.DataFrame(df2)"
   ]
  },
  {
   "cell_type": "code",
   "execution_count": 150,
   "id": "d5af77a1-3cbc-4c52-88ef-73e496400c06",
   "metadata": {},
   "outputs": [],
   "source": [
    "df2[['Close']] = df2"
   ]
  },
  {
   "cell_type": "code",
   "execution_count": 151,
   "id": "9d3537de-0388-4ffd-ac52-c7b884dc6dc5",
   "metadata": {},
   "outputs": [
    {
     "data": {
      "text/html": [
       "<div>\n",
       "<style scoped>\n",
       "    .dataframe tbody tr th:only-of-type {\n",
       "        vertical-align: middle;\n",
       "    }\n",
       "\n",
       "    .dataframe tbody tr th {\n",
       "        vertical-align: top;\n",
       "    }\n",
       "\n",
       "    .dataframe thead th {\n",
       "        text-align: right;\n",
       "    }\n",
       "</style>\n",
       "<table border=\"1\" class=\"dataframe\">\n",
       "  <thead>\n",
       "    <tr style=\"text-align: right;\">\n",
       "      <th></th>\n",
       "      <th>Close</th>\n",
       "    </tr>\n",
       "  </thead>\n",
       "  <tbody>\n",
       "    <tr>\n",
       "      <th>0</th>\n",
       "      <td>75.087502</td>\n",
       "    </tr>\n",
       "    <tr>\n",
       "      <th>1</th>\n",
       "      <td>74.357498</td>\n",
       "    </tr>\n",
       "    <tr>\n",
       "      <th>2</th>\n",
       "      <td>74.949997</td>\n",
       "    </tr>\n",
       "    <tr>\n",
       "      <th>3</th>\n",
       "      <td>74.597504</td>\n",
       "    </tr>\n",
       "    <tr>\n",
       "      <th>4</th>\n",
       "      <td>75.797501</td>\n",
       "    </tr>\n",
       "    <tr>\n",
       "      <th>...</th>\n",
       "      <td>...</td>\n",
       "    </tr>\n",
       "    <tr>\n",
       "      <th>1033</th>\n",
       "      <td>188.850006</td>\n",
       "    </tr>\n",
       "    <tr>\n",
       "      <th>1034</th>\n",
       "      <td>187.149994</td>\n",
       "    </tr>\n",
       "    <tr>\n",
       "      <th>1035</th>\n",
       "      <td>185.039993</td>\n",
       "    </tr>\n",
       "    <tr>\n",
       "      <th>1036</th>\n",
       "      <td>184.149994</td>\n",
       "    </tr>\n",
       "    <tr>\n",
       "      <th>1037</th>\n",
       "      <td>183.860001</td>\n",
       "    </tr>\n",
       "  </tbody>\n",
       "</table>\n",
       "<p>1038 rows × 1 columns</p>\n",
       "</div>"
      ],
      "text/plain": [
       "           Close\n",
       "0      75.087502\n",
       "1      74.357498\n",
       "2      74.949997\n",
       "3      74.597504\n",
       "4      75.797501\n",
       "...          ...\n",
       "1033  188.850006\n",
       "1034  187.149994\n",
       "1035  185.039993\n",
       "1036  184.149994\n",
       "1037  183.860001\n",
       "\n",
       "[1038 rows x 1 columns]"
      ]
     },
     "execution_count": 151,
     "metadata": {},
     "output_type": "execute_result"
    }
   ],
   "source": [
    "df2 = df2[['Close']]\n",
    "df2"
   ]
  },
  {
   "cell_type": "code",
   "execution_count": 166,
   "id": "4b93f5d0-beab-4bbe-bbe8-28ab1246c994",
   "metadata": {},
   "outputs": [
    {
     "name": "stderr",
     "output_type": "stream",
     "text": [
      "/var/folders/by/st2c4w_96757fgwg7jsfc4480000gn/T/ipykernel_8678/451293384.py:3: SettingWithCopyWarning: \n",
      "A value is trying to be set on a copy of a slice from a DataFrame.\n",
      "Try using .loc[row_indexer,col_indexer] = value instead\n",
      "\n",
      "See the caveats in the documentation: https://pandas.pydata.org/pandas-docs/stable/user_guide/indexing.html#returning-a-view-versus-a-copy\n",
      "  predict_data['Predictions']=next_prediction\n"
     ]
    },
    {
     "data": {
      "text/html": [
       "<div>\n",
       "<style scoped>\n",
       "    .dataframe tbody tr th:only-of-type {\n",
       "        vertical-align: middle;\n",
       "    }\n",
       "\n",
       "    .dataframe tbody tr th {\n",
       "        vertical-align: top;\n",
       "    }\n",
       "\n",
       "    .dataframe thead th {\n",
       "        text-align: right;\n",
       "    }\n",
       "</style>\n",
       "<table border=\"1\" class=\"dataframe\">\n",
       "  <thead>\n",
       "    <tr style=\"text-align: right;\">\n",
       "      <th></th>\n",
       "      <th>Close</th>\n",
       "      <th>Predictions</th>\n",
       "    </tr>\n",
       "  </thead>\n",
       "  <tbody>\n",
       "    <tr>\n",
       "      <th>1037</th>\n",
       "      <td>183.860001</td>\n",
       "      <td>183.039322</td>\n",
       "    </tr>\n",
       "  </tbody>\n",
       "</table>\n",
       "</div>"
      ],
      "text/plain": [
       "           Close  Predictions\n",
       "1037  183.860001   183.039322"
      ]
     },
     "execution_count": 166,
     "metadata": {},
     "output_type": "execute_result"
    }
   ],
   "source": [
    "model_data=df2[:1037]\n",
    "predict_data=df2[1037:]\n",
    "predict_data['Predictions']=next_prediction\n",
    "predict_data"
   ]
  },
  {
   "cell_type": "code",
   "execution_count": 167,
   "id": "49f955b8-5cd9-415b-ab75-9637d8e6bb70",
   "metadata": {
    "scrolled": true
   },
   "outputs": [
    {
     "data": {
      "text/html": [
       "<div>\n",
       "<style scoped>\n",
       "    .dataframe tbody tr th:only-of-type {\n",
       "        vertical-align: middle;\n",
       "    }\n",
       "\n",
       "    .dataframe tbody tr th {\n",
       "        vertical-align: top;\n",
       "    }\n",
       "\n",
       "    .dataframe thead th {\n",
       "        text-align: right;\n",
       "    }\n",
       "</style>\n",
       "<table border=\"1\" class=\"dataframe\">\n",
       "  <thead>\n",
       "    <tr style=\"text-align: right;\">\n",
       "      <th></th>\n",
       "      <th>Date</th>\n",
       "      <th>Symbol</th>\n",
       "      <th>Adj Close</th>\n",
       "      <th>Close</th>\n",
       "      <th>High</th>\n",
       "      <th>Low</th>\n",
       "      <th>Open</th>\n",
       "      <th>Volume</th>\n",
       "    </tr>\n",
       "  </thead>\n",
       "  <tbody>\n",
       "    <tr>\n",
       "      <th>1039</th>\n",
       "      <td>2024-02-20</td>\n",
       "      <td>AAPL</td>\n",
       "      <td>181.559998</td>\n",
       "      <td>181.559998</td>\n",
       "      <td>182.429993</td>\n",
       "      <td>180.000000</td>\n",
       "      <td>181.789993</td>\n",
       "      <td>53665600</td>\n",
       "    </tr>\n",
       "    <tr>\n",
       "      <th>1040</th>\n",
       "      <td>2024-02-21</td>\n",
       "      <td>AAPL</td>\n",
       "      <td>182.320007</td>\n",
       "      <td>182.320007</td>\n",
       "      <td>182.889999</td>\n",
       "      <td>180.660004</td>\n",
       "      <td>181.940002</td>\n",
       "      <td>41529700</td>\n",
       "    </tr>\n",
       "    <tr>\n",
       "      <th>1041</th>\n",
       "      <td>2024-02-22</td>\n",
       "      <td>AAPL</td>\n",
       "      <td>184.369995</td>\n",
       "      <td>184.369995</td>\n",
       "      <td>184.960007</td>\n",
       "      <td>182.460007</td>\n",
       "      <td>183.479996</td>\n",
       "      <td>52292200</td>\n",
       "    </tr>\n",
       "    <tr>\n",
       "      <th>1042</th>\n",
       "      <td>2024-02-23</td>\n",
       "      <td>AAPL</td>\n",
       "      <td>182.520004</td>\n",
       "      <td>182.520004</td>\n",
       "      <td>185.039993</td>\n",
       "      <td>182.229996</td>\n",
       "      <td>185.009995</td>\n",
       "      <td>45074500</td>\n",
       "    </tr>\n",
       "    <tr>\n",
       "      <th>1043</th>\n",
       "      <td>2024-02-26</td>\n",
       "      <td>AAPL</td>\n",
       "      <td>181.160004</td>\n",
       "      <td>181.160004</td>\n",
       "      <td>182.750000</td>\n",
       "      <td>180.649994</td>\n",
       "      <td>182.240005</td>\n",
       "      <td>40689520</td>\n",
       "    </tr>\n",
       "  </tbody>\n",
       "</table>\n",
       "</div>"
      ],
      "text/plain": [
       "           Date Symbol   Adj Close       Close        High         Low  \\\n",
       "1039 2024-02-20   AAPL  181.559998  181.559998  182.429993  180.000000   \n",
       "1040 2024-02-21   AAPL  182.320007  182.320007  182.889999  180.660004   \n",
       "1041 2024-02-22   AAPL  184.369995  184.369995  184.960007  182.460007   \n",
       "1042 2024-02-23   AAPL  182.520004  182.520004  185.039993  182.229996   \n",
       "1043 2024-02-26   AAPL  181.160004  181.160004  182.750000  180.649994   \n",
       "\n",
       "            Open    Volume  \n",
       "1039  181.789993  53665600  \n",
       "1040  181.940002  41529700  \n",
       "1041  183.479996  52292200  \n",
       "1042  185.009995  45074500  \n",
       "1043  182.240005  40689520  "
      ]
     },
     "execution_count": 167,
     "metadata": {},
     "output_type": "execute_result"
    }
   ],
   "source": [
    "apple_full_data = pd.read_excel(\"sp500_stocks_updated.csv.xlsx\")\n",
    "apple_full_data.tail()"
   ]
  },
  {
   "cell_type": "code",
   "execution_count": 168,
   "id": "2d63b698-0653-41d9-b6a2-8e8c6350f759",
   "metadata": {},
   "outputs": [],
   "source": [
    "apple_full_data = apple_full_data.reset_index()['Close']"
   ]
  },
  {
   "cell_type": "code",
   "execution_count": 169,
   "id": "58bb11fc-b6fc-4893-9010-1781e4197c06",
   "metadata": {},
   "outputs": [
    {
     "data": {
      "text/plain": [
       "(1044, 1)"
      ]
     },
     "execution_count": 169,
     "metadata": {},
     "output_type": "execute_result"
    }
   ],
   "source": [
    "scaler = MinMaxScaler()\n",
    "apple_full_data = scaler.fit_transform(np.array(apple_full_data).reshape(-1,1))\n",
    "apple_full_data.shape"
   ]
  },
  {
   "cell_type": "code",
   "execution_count": 170,
   "id": "dedae706-0139-4e09-a7a8-31a08e4f6323",
   "metadata": {
    "scrolled": true
   },
   "outputs": [
    {
     "data": {
      "text/plain": [
       "array([[0.88874609],\n",
       "       [0.88346505],\n",
       "       [0.88881657],\n",
       "       [0.90325132],\n",
       "       [0.89022482],\n",
       "       [0.88064853]])"
      ]
     },
     "execution_count": 170,
     "metadata": {},
     "output_type": "execute_result"
    }
   ],
   "source": [
    "last_10_days_data=apple_full_data[1038:,]\n",
    "last_10_days_data"
   ]
  },
  {
   "cell_type": "code",
   "execution_count": 171,
   "id": "5edb0186-2cdd-4553-8bfc-d4f7d38110a7",
   "metadata": {},
   "outputs": [],
   "source": [
    "train_size2 = int(len(apple_full_data)*0.80)\n",
    "test_size2 = len(apple_full_data) - train_size2\n",
    "train_data2,test_data2 = apple_full_data[0:train_size2,:],apple_full_data[train_size2:len(apple_full_data),:1]"
   ]
  },
  {
   "cell_type": "code",
   "execution_count": 172,
   "id": "f42d2885-716d-4064-8522-b3d100b50aa0",
   "metadata": {},
   "outputs": [],
   "source": [
    "time_step = 100\n",
    "X_train2,Y_train2 =  create_dataset(train_data2,time_step)\n",
    "X_test2,Y_test2 =  create_dataset(test_data2,time_step)"
   ]
  },
  {
   "cell_type": "code",
   "execution_count": 173,
   "id": "d77765a1-f72c-467e-8893-91f7bdf3dbfd",
   "metadata": {},
   "outputs": [
    {
     "data": {
      "text/plain": [
       "(108,)"
      ]
     },
     "execution_count": 173,
     "metadata": {},
     "output_type": "execute_result"
    }
   ],
   "source": [
    "Y_test2.shape"
   ]
  },
  {
   "cell_type": "code",
   "execution_count": 174,
   "id": "48464103-14ca-4334-b684-3221dadd7bf0",
   "metadata": {},
   "outputs": [],
   "source": [
    "stock_model = Sequential()\n",
    "stock_model.add(LSTM(50,return_sequences = True,input_shape = (X_train2.shape[1],1)))\n",
    "stock_model.add(LSTM(50,return_sequences = True))\n",
    "stock_model.add(LSTM(50))\n",
    "stock_model.add(Dense(1))\n",
    "stock_model.compile(optimizer = 'adam', loss = 'mean_squared_error')"
   ]
  },
  {
   "cell_type": "code",
   "execution_count": 175,
   "id": "b4e62746-bb01-47fa-9788-b30c51398e77",
   "metadata": {},
   "outputs": [
    {
     "name": "stdout",
     "output_type": "stream",
     "text": [
      "Epoch 1/100\n",
      "23/23 [==============================] - 8s 149ms/step - loss: 0.0785 - val_loss: 0.0212\n",
      "Epoch 2/100\n",
      "23/23 [==============================] - 2s 101ms/step - loss: 0.0065 - val_loss: 0.0070\n",
      "Epoch 3/100\n",
      "23/23 [==============================] - 3s 114ms/step - loss: 0.0043 - val_loss: 0.0064\n",
      "Epoch 4/100\n",
      "23/23 [==============================] - 3s 124ms/step - loss: 0.0031 - val_loss: 0.0048\n",
      "Epoch 5/100\n",
      "23/23 [==============================] - 3s 120ms/step - loss: 0.0027 - val_loss: 0.0046\n",
      "Epoch 6/100\n",
      "23/23 [==============================] - 4s 180ms/step - loss: 0.0025 - val_loss: 0.0021\n",
      "Epoch 7/100\n",
      "23/23 [==============================] - 4s 151ms/step - loss: 0.0024 - val_loss: 0.0017\n",
      "Epoch 8/100\n",
      "23/23 [==============================] - 2s 84ms/step - loss: 0.0025 - val_loss: 0.0020\n",
      "Epoch 9/100\n",
      "23/23 [==============================] - 4s 159ms/step - loss: 0.0023 - val_loss: 0.0018\n",
      "Epoch 10/100\n",
      "23/23 [==============================] - 4s 169ms/step - loss: 0.0023 - val_loss: 0.0044\n",
      "Epoch 11/100\n",
      "23/23 [==============================] - 4s 168ms/step - loss: 0.0023 - val_loss: 0.0015\n",
      "Epoch 12/100\n",
      "23/23 [==============================] - 4s 156ms/step - loss: 0.0023 - val_loss: 0.0035\n",
      "Epoch 13/100\n",
      "23/23 [==============================] - 3s 116ms/step - loss: 0.0022 - val_loss: 0.0018\n",
      "Epoch 14/100\n",
      "23/23 [==============================] - 3s 121ms/step - loss: 0.0020 - val_loss: 0.0017\n",
      "Epoch 15/100\n",
      "23/23 [==============================] - 2s 87ms/step - loss: 0.0018 - val_loss: 0.0022\n",
      "Epoch 16/100\n",
      "23/23 [==============================] - 2s 91ms/step - loss: 0.0018 - val_loss: 0.0024\n",
      "Epoch 17/100\n",
      "23/23 [==============================] - 2s 91ms/step - loss: 0.0017 - val_loss: 0.0023\n",
      "Epoch 18/100\n",
      "23/23 [==============================] - 2s 85ms/step - loss: 0.0016 - val_loss: 0.0022\n",
      "Epoch 19/100\n",
      "23/23 [==============================] - 2s 87ms/step - loss: 0.0016 - val_loss: 0.0017\n",
      "Epoch 20/100\n",
      "23/23 [==============================] - 2s 84ms/step - loss: 0.0016 - val_loss: 0.0018\n",
      "Epoch 21/100\n",
      "23/23 [==============================] - 2s 87ms/step - loss: 0.0015 - val_loss: 0.0030\n",
      "Epoch 22/100\n",
      "23/23 [==============================] - 2s 89ms/step - loss: 0.0016 - val_loss: 0.0026\n",
      "Epoch 23/100\n",
      "23/23 [==============================] - 2s 94ms/step - loss: 0.0014 - val_loss: 0.0016\n",
      "Epoch 24/100\n",
      "23/23 [==============================] - 2s 89ms/step - loss: 0.0014 - val_loss: 0.0023\n",
      "Epoch 25/100\n",
      "23/23 [==============================] - 2s 84ms/step - loss: 0.0015 - val_loss: 0.0030\n",
      "Epoch 26/100\n",
      "23/23 [==============================] - 2s 84ms/step - loss: 0.0014 - val_loss: 0.0014\n",
      "Epoch 27/100\n",
      "23/23 [==============================] - 2s 92ms/step - loss: 0.0014 - val_loss: 0.0013\n",
      "Epoch 28/100\n",
      "23/23 [==============================] - 2s 93ms/step - loss: 0.0013 - val_loss: 0.0016\n",
      "Epoch 29/100\n",
      "23/23 [==============================] - 2s 94ms/step - loss: 0.0013 - val_loss: 0.0018\n",
      "Epoch 30/100\n",
      "23/23 [==============================] - 2s 90ms/step - loss: 0.0013 - val_loss: 0.0030\n",
      "Epoch 31/100\n",
      "23/23 [==============================] - 2s 91ms/step - loss: 0.0013 - val_loss: 0.0011\n",
      "Epoch 32/100\n",
      "23/23 [==============================] - 2s 86ms/step - loss: 0.0012 - val_loss: 0.0031\n",
      "Epoch 33/100\n",
      "23/23 [==============================] - 2s 91ms/step - loss: 0.0014 - val_loss: 0.0011\n",
      "Epoch 34/100\n",
      "23/23 [==============================] - 2s 91ms/step - loss: 0.0012 - val_loss: 0.0017\n",
      "Epoch 35/100\n",
      "23/23 [==============================] - 2s 86ms/step - loss: 0.0011 - val_loss: 6.8702e-04\n",
      "Epoch 36/100\n",
      "23/23 [==============================] - 2s 93ms/step - loss: 0.0011 - val_loss: 7.4654e-04\n",
      "Epoch 37/100\n",
      "23/23 [==============================] - 2s 92ms/step - loss: 0.0012 - val_loss: 0.0025\n",
      "Epoch 38/100\n",
      "23/23 [==============================] - 2s 88ms/step - loss: 0.0015 - val_loss: 0.0019\n",
      "Epoch 39/100\n",
      "23/23 [==============================] - 2s 105ms/step - loss: 0.0011 - val_loss: 6.1368e-04\n",
      "Epoch 40/100\n",
      "23/23 [==============================] - 3s 133ms/step - loss: 0.0011 - val_loss: 7.0146e-04\n",
      "Epoch 41/100\n",
      "23/23 [==============================] - 2s 104ms/step - loss: 9.6957e-04 - val_loss: 0.0015\n",
      "Epoch 42/100\n",
      "23/23 [==============================] - 2s 107ms/step - loss: 9.5114e-04 - val_loss: 5.3931e-04\n",
      "Epoch 43/100\n",
      "23/23 [==============================] - 2s 104ms/step - loss: 9.0832e-04 - val_loss: 6.7689e-04\n",
      "Epoch 44/100\n",
      "23/23 [==============================] - 2s 105ms/step - loss: 8.8080e-04 - val_loss: 0.0028\n",
      "Epoch 45/100\n",
      "23/23 [==============================] - 2s 108ms/step - loss: 9.6170e-04 - val_loss: 5.4424e-04\n",
      "Epoch 46/100\n",
      "23/23 [==============================] - 2s 104ms/step - loss: 8.7052e-04 - val_loss: 5.2672e-04\n",
      "Epoch 47/100\n",
      "23/23 [==============================] - 2s 103ms/step - loss: 8.4333e-04 - val_loss: 9.1608e-04\n",
      "Epoch 48/100\n",
      "23/23 [==============================] - 3s 124ms/step - loss: 7.6349e-04 - val_loss: 9.9037e-04\n",
      "Epoch 49/100\n",
      "23/23 [==============================] - 3s 110ms/step - loss: 7.7807e-04 - val_loss: 0.0010\n",
      "Epoch 50/100\n",
      "23/23 [==============================] - 2s 104ms/step - loss: 8.1371e-04 - val_loss: 6.1072e-04\n",
      "Epoch 51/100\n",
      "23/23 [==============================] - 3s 131ms/step - loss: 7.6986e-04 - val_loss: 0.0010\n",
      "Epoch 52/100\n",
      "23/23 [==============================] - 2s 106ms/step - loss: 8.1188e-04 - val_loss: 4.1483e-04\n",
      "Epoch 53/100\n",
      "23/23 [==============================] - 2s 105ms/step - loss: 8.1102e-04 - val_loss: 0.0012\n",
      "Epoch 54/100\n",
      "23/23 [==============================] - 2s 106ms/step - loss: 7.6088e-04 - val_loss: 4.2918e-04\n",
      "Epoch 55/100\n",
      "23/23 [==============================] - 2s 94ms/step - loss: 7.5653e-04 - val_loss: 4.9800e-04\n",
      "Epoch 56/100\n",
      "23/23 [==============================] - 2s 93ms/step - loss: 7.8318e-04 - val_loss: 8.3941e-04\n",
      "Epoch 57/100\n",
      "23/23 [==============================] - 2s 108ms/step - loss: 6.9869e-04 - val_loss: 0.0013\n",
      "Epoch 58/100\n",
      "23/23 [==============================] - 2s 105ms/step - loss: 7.0872e-04 - val_loss: 5.4027e-04\n",
      "Epoch 59/100\n",
      "23/23 [==============================] - 2s 104ms/step - loss: 7.0332e-04 - val_loss: 0.0012\n",
      "Epoch 60/100\n",
      "23/23 [==============================] - 2s 104ms/step - loss: 6.4953e-04 - val_loss: 8.4524e-04\n",
      "Epoch 61/100\n",
      "23/23 [==============================] - 2s 98ms/step - loss: 6.5836e-04 - val_loss: 0.0015\n",
      "Epoch 62/100\n",
      "23/23 [==============================] - 2s 102ms/step - loss: 8.0664e-04 - val_loss: 5.4678e-04\n",
      "Epoch 63/100\n",
      "23/23 [==============================] - 2s 102ms/step - loss: 6.1509e-04 - val_loss: 6.0639e-04\n",
      "Epoch 64/100\n",
      "23/23 [==============================] - 2s 98ms/step - loss: 6.5074e-04 - val_loss: 0.0012\n",
      "Epoch 65/100\n",
      "23/23 [==============================] - 2s 105ms/step - loss: 6.9010e-04 - val_loss: 4.0702e-04\n",
      "Epoch 66/100\n",
      "23/23 [==============================] - 2s 101ms/step - loss: 7.4418e-04 - val_loss: 8.2517e-04\n",
      "Epoch 67/100\n",
      "23/23 [==============================] - 2s 102ms/step - loss: 6.6222e-04 - val_loss: 3.7576e-04\n",
      "Epoch 68/100\n",
      "23/23 [==============================] - 2s 97ms/step - loss: 6.3176e-04 - val_loss: 0.0014\n",
      "Epoch 69/100\n",
      "23/23 [==============================] - 2s 93ms/step - loss: 5.9399e-04 - val_loss: 4.5110e-04\n",
      "Epoch 70/100\n",
      "23/23 [==============================] - 2s 96ms/step - loss: 6.1775e-04 - val_loss: 0.0013\n",
      "Epoch 71/100\n",
      "23/23 [==============================] - 2s 95ms/step - loss: 6.5612e-04 - val_loss: 3.4963e-04\n",
      "Epoch 72/100\n",
      "23/23 [==============================] - 2s 95ms/step - loss: 5.9959e-04 - val_loss: 0.0012\n",
      "Epoch 73/100\n",
      "23/23 [==============================] - 2s 98ms/step - loss: 6.5374e-04 - val_loss: 3.2193e-04\n",
      "Epoch 74/100\n",
      "23/23 [==============================] - 2s 94ms/step - loss: 5.9855e-04 - val_loss: 2.7382e-04\n",
      "Epoch 75/100\n",
      "23/23 [==============================] - 2s 101ms/step - loss: 5.6005e-04 - val_loss: 6.0905e-04\n",
      "Epoch 76/100\n",
      "23/23 [==============================] - 2s 97ms/step - loss: 6.4324e-04 - val_loss: 4.1344e-04\n",
      "Epoch 77/100\n",
      "23/23 [==============================] - 2s 101ms/step - loss: 5.8114e-04 - val_loss: 5.2104e-04\n",
      "Epoch 78/100\n",
      "23/23 [==============================] - 2s 98ms/step - loss: 6.0188e-04 - val_loss: 9.9624e-04\n",
      "Epoch 79/100\n",
      "23/23 [==============================] - 2s 95ms/step - loss: 6.3340e-04 - val_loss: 0.0011\n",
      "Epoch 80/100\n",
      "23/23 [==============================] - 2s 98ms/step - loss: 6.6839e-04 - val_loss: 8.1466e-04\n",
      "Epoch 81/100\n",
      "23/23 [==============================] - 2s 95ms/step - loss: 5.6053e-04 - val_loss: 0.0011\n",
      "Epoch 82/100\n",
      "23/23 [==============================] - 2s 98ms/step - loss: 6.7075e-04 - val_loss: 9.9955e-04\n",
      "Epoch 83/100\n",
      "23/23 [==============================] - 2s 94ms/step - loss: 7.1981e-04 - val_loss: 2.9119e-04\n",
      "Epoch 84/100\n",
      "23/23 [==============================] - 2s 91ms/step - loss: 6.2139e-04 - val_loss: 2.4753e-04\n",
      "Epoch 85/100\n",
      "23/23 [==============================] - 2s 92ms/step - loss: 5.0282e-04 - val_loss: 0.0013\n",
      "Epoch 86/100\n",
      "23/23 [==============================] - 2s 100ms/step - loss: 5.3681e-04 - val_loss: 2.6522e-04\n",
      "Epoch 87/100\n",
      "23/23 [==============================] - 4s 178ms/step - loss: 5.4231e-04 - val_loss: 3.9046e-04\n",
      "Epoch 88/100\n",
      "23/23 [==============================] - 3s 129ms/step - loss: 4.7218e-04 - val_loss: 5.5426e-04\n",
      "Epoch 89/100\n",
      "23/23 [==============================] - 3s 121ms/step - loss: 4.8717e-04 - val_loss: 3.7649e-04\n",
      "Epoch 90/100\n",
      "23/23 [==============================] - 2s 102ms/step - loss: 4.6969e-04 - val_loss: 4.1590e-04\n",
      "Epoch 91/100\n",
      "23/23 [==============================] - 2s 104ms/step - loss: 5.1198e-04 - val_loss: 4.7281e-04\n",
      "Epoch 92/100\n",
      "23/23 [==============================] - 2s 100ms/step - loss: 4.5716e-04 - val_loss: 5.4046e-04\n",
      "Epoch 93/100\n",
      "23/23 [==============================] - 3s 128ms/step - loss: 5.1514e-04 - val_loss: 3.1768e-04\n",
      "Epoch 94/100\n",
      "23/23 [==============================] - 2s 105ms/step - loss: 4.8908e-04 - val_loss: 8.9808e-04\n",
      "Epoch 95/100\n",
      "23/23 [==============================] - 2s 100ms/step - loss: 6.4644e-04 - val_loss: 6.4357e-04\n",
      "Epoch 96/100\n",
      "23/23 [==============================] - 2s 104ms/step - loss: 4.7737e-04 - val_loss: 2.3718e-04\n",
      "Epoch 97/100\n",
      "23/23 [==============================] - 2s 101ms/step - loss: 4.5707e-04 - val_loss: 2.2332e-04\n",
      "Epoch 98/100\n",
      "23/23 [==============================] - 2s 106ms/step - loss: 4.4245e-04 - val_loss: 3.3528e-04\n",
      "Epoch 99/100\n",
      "23/23 [==============================] - 2s 103ms/step - loss: 4.3225e-04 - val_loss: 2.2280e-04\n",
      "Epoch 100/100\n",
      "23/23 [==============================] - 2s 106ms/step - loss: 4.3236e-04 - val_loss: 2.1308e-04\n"
     ]
    },
    {
     "data": {
      "text/plain": [
       "<keras.src.callbacks.History at 0x7fcffe086170>"
      ]
     },
     "execution_count": 175,
     "metadata": {},
     "output_type": "execute_result"
    }
   ],
   "source": [
    "stock_model.fit(X_train2,Y_train2,validation_data = (X_test2,Y_test2),epochs = 100,batch_size = 32,verbose = 1)"
   ]
  },
  {
   "cell_type": "code",
   "execution_count": 176,
   "id": "ef3488ef-bc0d-404b-ba22-6e4b5dcaf30d",
   "metadata": {},
   "outputs": [
    {
     "name": "stdout",
     "output_type": "stream",
     "text": [
      "23/23 [==============================] - 2s 34ms/step\n",
      "4/4 [==============================] - 0s 39ms/step\n"
     ]
    }
   ],
   "source": [
    "train_predict2 = stock_model.predict(X_train2)\n",
    "test_predict2 = stock_model.predict(X_test2)"
   ]
  },
  {
   "cell_type": "code",
   "execution_count": 177,
   "id": "55bb0afa-109b-4b41-b533-914b850d6730",
   "metadata": {},
   "outputs": [],
   "source": [
    "# transform to original form\n",
    "train_predict2 = scaler.inverse_transform(train_predict2)\n",
    "test_predict2 = scaler.inverse_transform(test_predict2)"
   ]
  },
  {
   "cell_type": "code",
   "execution_count": 178,
   "id": "8ebc87f8-1022-4d8f-a8bc-e742c38eb479",
   "metadata": {},
   "outputs": [
    {
     "name": "stdout",
     "output_type": "stream",
     "text": [
      "23/23 [==============================] - 1s 32ms/step\n"
     ]
    }
   ],
   "source": [
    "model_predictions = stock_model.predict(X_train2)\n",
    "true_labels = Y_train2"
   ]
  },
  {
   "cell_type": "code",
   "execution_count": 179,
   "id": "0d60d9ef-7f4e-4e4d-8f2d-0e2862239d24",
   "metadata": {},
   "outputs": [],
   "source": [
    "look_back = 100\n",
    "\n",
    "trainPredictPlot = np.empty_like(df2)\n",
    "trainPredictPlot[:,:] = np.nan\n",
    "trainPredictPlot[look_back : len(train_predict)+look_back,:] = train_predict\n",
    "\n",
    "testPredictPlot = np.empty_like(df2)\n",
    "testPredictPlot[:,:] = np.nan\n",
    "testPredictPlot[len(train_predict)+(look_back)*2 + 1 : len(df2) - 1,:] = test_predict\n",
    "\n",
    "truePredictPlot = np.empty_like(apple_full_data)\n",
    "truePredictPlot[:,:] = np.nan\n",
    "reshaped_test_predict2 = test_predict2[-6:, :]\n",
    "truePredictPlot[-6:, :] = reshaped_test_predict2"
   ]
  },
  {
   "cell_type": "code",
   "execution_count": 180,
   "id": "21362511-c6e6-4a40-985a-55ca53b06d57",
   "metadata": {},
   "outputs": [
    {
     "data": {
      "text/plain": [
       "array([[0.88874609],\n",
       "       [0.88346505],\n",
       "       [0.88881657],\n",
       "       [0.90325132],\n",
       "       [0.89022482],\n",
       "       [0.88064853]])"
      ]
     },
     "execution_count": 180,
     "metadata": {},
     "output_type": "execute_result"
    }
   ],
   "source": [
    "last_10_days_data"
   ]
  },
  {
   "cell_type": "code",
   "execution_count": 181,
   "id": "6690213f-f3e7-4914-b7a1-04941d31de04",
   "metadata": {},
   "outputs": [
    {
     "data": {
      "text/plain": [
       "array([[0.88874609],\n",
       "       [0.88346505],\n",
       "       [0.88881657],\n",
       "       [0.90325132],\n",
       "       [0.89022482],\n",
       "       [0.88064853]])"
      ]
     },
     "execution_count": 181,
     "metadata": {},
     "output_type": "execute_result"
    }
   ],
   "source": [
    "apple_full_data[1038:,]"
   ]
  },
  {
   "cell_type": "code",
   "execution_count": 182,
   "id": "4ca718e6-b723-4a0f-8b99-57f4a2f881ab",
   "metadata": {},
   "outputs": [],
   "source": [
    "apple_full_data = scaler.inverse_transform(apple_full_data)"
   ]
  },
  {
   "cell_type": "code",
   "execution_count": 183,
   "id": "a047916b-8de6-43aa-a371-16a41f18b99c",
   "metadata": {},
   "outputs": [],
   "source": [
    "apple_full_data = pd.DataFrame(apple_full_data)"
   ]
  },
  {
   "cell_type": "code",
   "execution_count": 184,
   "id": "7d0c4d49-d823-490c-b718-b1d35cea8d28",
   "metadata": {},
   "outputs": [
    {
     "data": {
      "text/html": [
       "<div>\n",
       "<style scoped>\n",
       "    .dataframe tbody tr th:only-of-type {\n",
       "        vertical-align: middle;\n",
       "    }\n",
       "\n",
       "    .dataframe tbody tr th {\n",
       "        vertical-align: top;\n",
       "    }\n",
       "\n",
       "    .dataframe thead th {\n",
       "        text-align: right;\n",
       "    }\n",
       "</style>\n",
       "<table border=\"1\" class=\"dataframe\">\n",
       "  <thead>\n",
       "    <tr style=\"text-align: right;\">\n",
       "      <th></th>\n",
       "      <th>0</th>\n",
       "    </tr>\n",
       "  </thead>\n",
       "  <tbody>\n",
       "    <tr>\n",
       "      <th>0</th>\n",
       "      <td>75.087502</td>\n",
       "    </tr>\n",
       "    <tr>\n",
       "      <th>1</th>\n",
       "      <td>74.357498</td>\n",
       "    </tr>\n",
       "    <tr>\n",
       "      <th>2</th>\n",
       "      <td>74.949997</td>\n",
       "    </tr>\n",
       "    <tr>\n",
       "      <th>3</th>\n",
       "      <td>74.597504</td>\n",
       "    </tr>\n",
       "    <tr>\n",
       "      <th>4</th>\n",
       "      <td>75.797501</td>\n",
       "    </tr>\n",
       "    <tr>\n",
       "      <th>...</th>\n",
       "      <td>...</td>\n",
       "    </tr>\n",
       "    <tr>\n",
       "      <th>1039</th>\n",
       "      <td>181.559998</td>\n",
       "    </tr>\n",
       "    <tr>\n",
       "      <th>1040</th>\n",
       "      <td>182.320007</td>\n",
       "    </tr>\n",
       "    <tr>\n",
       "      <th>1041</th>\n",
       "      <td>184.369995</td>\n",
       "    </tr>\n",
       "    <tr>\n",
       "      <th>1042</th>\n",
       "      <td>182.520004</td>\n",
       "    </tr>\n",
       "    <tr>\n",
       "      <th>1043</th>\n",
       "      <td>181.160004</td>\n",
       "    </tr>\n",
       "  </tbody>\n",
       "</table>\n",
       "<p>1044 rows × 1 columns</p>\n",
       "</div>"
      ],
      "text/plain": [
       "               0\n",
       "0      75.087502\n",
       "1      74.357498\n",
       "2      74.949997\n",
       "3      74.597504\n",
       "4      75.797501\n",
       "...          ...\n",
       "1039  181.559998\n",
       "1040  182.320007\n",
       "1041  184.369995\n",
       "1042  182.520004\n",
       "1043  181.160004\n",
       "\n",
       "[1044 rows x 1 columns]"
      ]
     },
     "execution_count": 184,
     "metadata": {},
     "output_type": "execute_result"
    }
   ],
   "source": [
    "apple_full_data"
   ]
  },
  {
   "cell_type": "code",
   "execution_count": 185,
   "id": "a6a5362e-ab41-4918-bbcc-819fd99fc449",
   "metadata": {
    "scrolled": true
   },
   "outputs": [
    {
     "data": {
      "text/html": [
       "<div>\n",
       "<style scoped>\n",
       "    .dataframe tbody tr th:only-of-type {\n",
       "        vertical-align: middle;\n",
       "    }\n",
       "\n",
       "    .dataframe tbody tr th {\n",
       "        vertical-align: top;\n",
       "    }\n",
       "\n",
       "    .dataframe thead th {\n",
       "        text-align: right;\n",
       "    }\n",
       "</style>\n",
       "<table border=\"1\" class=\"dataframe\">\n",
       "  <thead>\n",
       "    <tr style=\"text-align: right;\">\n",
       "      <th></th>\n",
       "      <th>0</th>\n",
       "    </tr>\n",
       "  </thead>\n",
       "  <tbody>\n",
       "    <tr>\n",
       "      <th>1038</th>\n",
       "      <td>182.309998</td>\n",
       "    </tr>\n",
       "    <tr>\n",
       "      <th>1039</th>\n",
       "      <td>181.559998</td>\n",
       "    </tr>\n",
       "    <tr>\n",
       "      <th>1040</th>\n",
       "      <td>182.320007</td>\n",
       "    </tr>\n",
       "    <tr>\n",
       "      <th>1041</th>\n",
       "      <td>184.369995</td>\n",
       "    </tr>\n",
       "    <tr>\n",
       "      <th>1042</th>\n",
       "      <td>182.520004</td>\n",
       "    </tr>\n",
       "    <tr>\n",
       "      <th>1043</th>\n",
       "      <td>181.160004</td>\n",
       "    </tr>\n",
       "  </tbody>\n",
       "</table>\n",
       "</div>"
      ],
      "text/plain": [
       "               0\n",
       "1038  182.309998\n",
       "1039  181.559998\n",
       "1040  182.320007\n",
       "1041  184.369995\n",
       "1042  182.520004\n",
       "1043  181.160004"
      ]
     },
     "execution_count": 185,
     "metadata": {},
     "output_type": "execute_result"
    }
   ],
   "source": [
    "last_10_days_data=apple_full_data.iloc[1038:,]\n",
    "last_10_days_data"
   ]
  },
  {
   "cell_type": "code",
   "execution_count": 186,
   "id": "377235c6-2715-4b90-b97b-664512779036",
   "metadata": {},
   "outputs": [
    {
     "data": {
      "text/plain": [
       "array([[184.68591],\n",
       "       [184.442  ],\n",
       "       [182.93422],\n",
       "       [182.09752],\n",
       "       [182.82886],\n",
       "       [184.66586]], dtype=float32)"
      ]
     },
     "execution_count": 186,
     "metadata": {},
     "output_type": "execute_result"
    }
   ],
   "source": [
    "test_predict2[-6:,]"
   ]
  },
  {
   "cell_type": "code",
   "execution_count": 187,
   "id": "06c4f9cc-6062-4cf7-ae18-aa64b9b6c5bc",
   "metadata": {
    "scrolled": true
   },
   "outputs": [
    {
     "data": {
      "image/png": "[encoded data removed]",
      "text/plain": [
       "<Figure size 640x480 with 1 Axes>"
      ]
     },
     "metadata": {},
     "output_type": "display_data"
    }
   ],
   "source": [
    "plt.plot(df2, label=\"Original Data\", linewidth=2)\n",
    "plt.plot(trainPredictPlot, label=\"Training Data\", linewidth=2)\n",
    "plt.plot(testPredictPlot, label=\"Test Data\", linewidth=2)\n",
    "plt.plot(last_10_days_data, label=\"Last 10 Days Actual Data\", linewidth=3)\n",
    "plt.plot(truePredictPlot, label=\"Predicted Data\", linewidth=3)\n",
    "\n",
    "plt.legend()\n",
    "plt.show()"
   ]
  },
  {
   "cell_type": "code",
   "execution_count": 188,
   "id": "50cf75bc-6fac-47aa-8894-11a741ecbe25",
   "metadata": {},
   "outputs": [
    {
     "data": {
      "image/png": "[encoded data removed]",
      "text/plain": [
       "<Figure size 640x480 with 1 Axes>"
      ]
     },
     "metadata": {},
     "output_type": "display_data"
    }
   ],
   "source": [
    "plt.plot(df2, label=\"Original Data\")\n",
    "plt.plot(trainPredictPlot, label=\"Training Data\")\n",
    "plt.plot(testPredictPlot, label=\"Test Data\")\n",
    "plt.plot(last_10_days_data, label=\"Last 10 Days Actual Data\", linewidth=3)\n",
    "plt.plot(truePredictPlot, label=\"Predicted Data\", linewidth=3)\n",
    "\n",
    "plt.xlim(930, )\n",
    "\n",
    "plt.legend()\n",
    "plt.show()"
   ]
  },
  {
   "cell_type": "code",
   "execution_count": null,
   "id": "d8d0e94b-7fac-4727-9602-40e86bdc7cdc",
   "metadata": {},
   "outputs": [],
   "source": []
  }
 ],
 "metadata": {
  "kernelspec": {
   "display_name": "Python 3 (ipykernel)",
   "language": "python",
   "name": "python3"
  },
  "language_info": {
   "codemirror_mode": {
    "name": "ipython",
    "version": 3
   },
   "file_extension": ".py",
   "mimetype": "text/x-python",
   "name": "python",
   "nbconvert_exporter": "python",
   "pygments_lexer": "ipython3",
   "version": "3.11.4"
  }
 },
 "nbformat": 4,
 "nbformat_minor": 5
}
