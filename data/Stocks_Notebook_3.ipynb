{
 "cells": [
  {
   "cell_type": "code",
   "execution_count": 60,
   "id": "07d075dc-fac5-44a9-baf3-090121c4cc79",
   "metadata": {
    "scrolled": true
   },
   "outputs": [
    {
     "name": "stdout",
     "output_type": "stream",
     "text": [
      "Requirement already satisfied: tensorflow in /Users/joshuagibson/anaconda3/envs/dev/lib/python3.10/site-packages (2.15.0)\n",
      "Requirement already satisfied: absl-py>=1.0.0 in /Users/joshuagibson/anaconda3/envs/dev/lib/python3.10/site-packages (from tensorflow) (2.1.0)\n",
      "Requirement already satisfied: astunparse>=1.6.0 in /Users/joshuagibson/anaconda3/envs/dev/lib/python3.10/site-packages (from tensorflow) (1.6.3)\n",
      "Requirement already satisfied: flatbuffers>=23.5.26 in /Users/joshuagibson/anaconda3/envs/dev/lib/python3.10/site-packages (from tensorflow) (23.5.26)\n",
      "Requirement already satisfied: gast!=0.5.0,!=0.5.1,!=0.5.2,>=0.2.1 in /Users/joshuagibson/anaconda3/envs/dev/lib/python3.10/site-packages (from tensorflow) (0.5.4)\n",
      "Requirement already satisfied: google-pasta>=0.1.1 in /Users/joshuagibson/anaconda3/envs/dev/lib/python3.10/site-packages (from tensorflow) (0.2.0)\n",
      "Requirement already satisfied: h5py>=2.9.0 in /Users/joshuagibson/anaconda3/envs/dev/lib/python3.10/site-packages (from tensorflow) (3.10.0)\n",
      "Requirement already satisfied: libclang>=13.0.0 in /Users/joshuagibson/anaconda3/envs/dev/lib/python3.10/site-packages (from tensorflow) (16.0.6)\n",
      "Requirement already satisfied: ml-dtypes~=0.2.0 in /Users/joshuagibson/anaconda3/envs/dev/lib/python3.10/site-packages (from tensorflow) (0.2.0)\n",
      "Requirement already satisfied: numpy<2.0.0,>=1.23.5 in /Users/joshuagibson/anaconda3/envs/dev/lib/python3.10/site-packages (from tensorflow) (1.26.3)\n",
      "Requirement already satisfied: opt-einsum>=2.3.2 in /Users/joshuagibson/anaconda3/envs/dev/lib/python3.10/site-packages (from tensorflow) (3.3.0)\n",
      "Requirement already satisfied: packaging in /Users/joshuagibson/anaconda3/envs/dev/lib/python3.10/site-packages (from tensorflow) (23.1)\n",
      "Requirement already satisfied: protobuf!=4.21.0,!=4.21.1,!=4.21.2,!=4.21.3,!=4.21.4,!=4.21.5,<5.0.0dev,>=3.20.3 in /Users/joshuagibson/anaconda3/envs/dev/lib/python3.10/site-packages (from tensorflow) (4.23.4)\n",
      "Requirement already satisfied: setuptools in /Users/joshuagibson/anaconda3/envs/dev/lib/python3.10/site-packages (from tensorflow) (68.2.2)\n",
      "Requirement already satisfied: six>=1.12.0 in /Users/joshuagibson/anaconda3/envs/dev/lib/python3.10/site-packages (from tensorflow) (1.16.0)\n",
      "Requirement already satisfied: termcolor>=1.1.0 in /Users/joshuagibson/anaconda3/envs/dev/lib/python3.10/site-packages (from tensorflow) (2.4.0)\n",
      "Requirement already satisfied: typing-extensions>=3.6.6 in /Users/joshuagibson/anaconda3/envs/dev/lib/python3.10/site-packages (from tensorflow) (4.9.0)\n",
      "Requirement already satisfied: wrapt<1.15,>=1.11.0 in /Users/joshuagibson/anaconda3/envs/dev/lib/python3.10/site-packages (from tensorflow) (1.14.1)\n",
      "Requirement already satisfied: tensorflow-io-gcs-filesystem>=0.23.1 in /Users/joshuagibson/anaconda3/envs/dev/lib/python3.10/site-packages (from tensorflow) (0.36.0)\n",
      "Requirement already satisfied: grpcio<2.0,>=1.24.3 in /Users/joshuagibson/anaconda3/envs/dev/lib/python3.10/site-packages (from tensorflow) (1.60.1)\n",
      "Requirement already satisfied: tensorboard<2.16,>=2.15 in /Users/joshuagibson/anaconda3/envs/dev/lib/python3.10/site-packages (from tensorflow) (2.15.1)\n",
      "Requirement already satisfied: tensorflow-estimator<2.16,>=2.15.0 in /Users/joshuagibson/anaconda3/envs/dev/lib/python3.10/site-packages (from tensorflow) (2.15.0)\n",
      "Requirement already satisfied: keras<2.16,>=2.15.0 in /Users/joshuagibson/anaconda3/envs/dev/lib/python3.10/site-packages (from tensorflow) (2.15.0)\n",
      "Requirement already satisfied: wheel<1.0,>=0.23.0 in /Users/joshuagibson/anaconda3/envs/dev/lib/python3.10/site-packages (from astunparse>=1.6.0->tensorflow) (0.41.2)\n",
      "Requirement already satisfied: google-auth<3,>=1.6.3 in /Users/joshuagibson/anaconda3/envs/dev/lib/python3.10/site-packages (from tensorboard<2.16,>=2.15->tensorflow) (2.27.0)\n",
      "Requirement already satisfied: google-auth-oauthlib<2,>=0.5 in /Users/joshuagibson/anaconda3/envs/dev/lib/python3.10/site-packages (from tensorboard<2.16,>=2.15->tensorflow) (1.2.0)\n",
      "Requirement already satisfied: markdown>=2.6.8 in /Users/joshuagibson/anaconda3/envs/dev/lib/python3.10/site-packages (from tensorboard<2.16,>=2.15->tensorflow) (3.4.1)\n",
      "Requirement already satisfied: requests<3,>=2.21.0 in /Users/joshuagibson/anaconda3/envs/dev/lib/python3.10/site-packages (from tensorboard<2.16,>=2.15->tensorflow) (2.31.0)\n",
      "Requirement already satisfied: tensorboard-data-server<0.8.0,>=0.7.0 in /Users/joshuagibson/anaconda3/envs/dev/lib/python3.10/site-packages (from tensorboard<2.16,>=2.15->tensorflow) (0.7.2)\n",
      "Requirement already satisfied: werkzeug>=1.0.1 in /Users/joshuagibson/anaconda3/envs/dev/lib/python3.10/site-packages (from tensorboard<2.16,>=2.15->tensorflow) (3.0.1)\n",
      "Requirement already satisfied: cachetools<6.0,>=2.0.0 in /Users/joshuagibson/anaconda3/envs/dev/lib/python3.10/site-packages (from google-auth<3,>=1.6.3->tensorboard<2.16,>=2.15->tensorflow) (5.3.2)\n",
      "Requirement already satisfied: pyasn1-modules>=0.2.1 in /Users/joshuagibson/anaconda3/envs/dev/lib/python3.10/site-packages (from google-auth<3,>=1.6.3->tensorboard<2.16,>=2.15->tensorflow) (0.3.0)\n",
      "Requirement already satisfied: rsa<5,>=3.1.4 in /Users/joshuagibson/anaconda3/envs/dev/lib/python3.10/site-packages (from google-auth<3,>=1.6.3->tensorboard<2.16,>=2.15->tensorflow) (4.9)\n",
      "Requirement already satisfied: requests-oauthlib>=0.7.0 in /Users/joshuagibson/anaconda3/envs/dev/lib/python3.10/site-packages (from google-auth-oauthlib<2,>=0.5->tensorboard<2.16,>=2.15->tensorflow) (1.3.1)\n",
      "Requirement already satisfied: charset-normalizer<4,>=2 in /Users/joshuagibson/anaconda3/envs/dev/lib/python3.10/site-packages (from requests<3,>=2.21.0->tensorboard<2.16,>=2.15->tensorflow) (2.0.4)\n",
      "Requirement already satisfied: idna<4,>=2.5 in /Users/joshuagibson/anaconda3/envs/dev/lib/python3.10/site-packages (from requests<3,>=2.21.0->tensorboard<2.16,>=2.15->tensorflow) (3.4)\n",
      "Requirement already satisfied: urllib3<3,>=1.21.1 in /Users/joshuagibson/anaconda3/envs/dev/lib/python3.10/site-packages (from requests<3,>=2.21.0->tensorboard<2.16,>=2.15->tensorflow) (1.26.18)\n",
      "Requirement already satisfied: certifi>=2017.4.17 in /Users/joshuagibson/anaconda3/envs/dev/lib/python3.10/site-packages (from requests<3,>=2.21.0->tensorboard<2.16,>=2.15->tensorflow) (2024.2.2)\n",
      "Requirement already satisfied: MarkupSafe>=2.1.1 in /Users/joshuagibson/anaconda3/envs/dev/lib/python3.10/site-packages (from werkzeug>=1.0.1->tensorboard<2.16,>=2.15->tensorflow) (2.1.3)\n",
      "Requirement already satisfied: pyasn1<0.6.0,>=0.4.6 in /Users/joshuagibson/anaconda3/envs/dev/lib/python3.10/site-packages (from pyasn1-modules>=0.2.1->google-auth<3,>=1.6.3->tensorboard<2.16,>=2.15->tensorflow) (0.5.1)\n",
      "Requirement already satisfied: oauthlib>=3.0.0 in /Users/joshuagibson/anaconda3/envs/dev/lib/python3.10/site-packages (from requests-oauthlib>=0.7.0->google-auth-oauthlib<2,>=0.5->tensorboard<2.16,>=2.15->tensorflow) (3.2.2)\n",
      "Note: you may need to restart the kernel to use updated packages.\n"
     ]
    }
   ],
   "source": [
    "pip install tensorflow"
   ]
  },
  {
   "cell_type": "code",
   "execution_count": 61,
   "id": "1db81bb1-1326-44a2-b007-5adc7c8865b0",
   "metadata": {
    "scrolled": true
   },
   "outputs": [
    {
     "name": "stdout",
     "output_type": "stream",
     "text": [
      "Requirement already satisfied: openpyxl in /Users/joshuagibson/anaconda3/envs/dev/lib/python3.10/site-packages (3.1.2)\n",
      "Requirement already satisfied: et-xmlfile in /Users/joshuagibson/anaconda3/envs/dev/lib/python3.10/site-packages (from openpyxl) (1.1.0)\n",
      "Note: you may need to restart the kernel to use updated packages.\n"
     ]
    }
   ],
   "source": [
    "pip install openpyxl"
   ]
  },
  {
   "cell_type": "code",
   "execution_count": 1,
   "id": "42573839-52af-4074-bbf1-2b5a81900ccd",
   "metadata": {},
   "outputs": [
    {
     "name": "stderr",
     "output_type": "stream",
     "text": [
      "2024-02-26 21:47:00.175685: I tensorflow/core/platform/cpu_feature_guard.cc:182] This TensorFlow binary is optimized to use available CPU instructions in performance-critical operations.\n",
      "To enable the following instructions: AVX2 FMA, in other operations, rebuild TensorFlow with the appropriate compiler flags.\n"
     ]
    }
   ],
   "source": [
    "# Import our dependencies\n",
    "from sklearn.model_selection import train_test_split\n",
    "from sklearn.preprocessing import StandardScaler\n",
    "from sklearn.preprocessing import MinMaxScaler\n",
    "import pandas as pd\n",
    "import tensorflow as tf\n",
    "import numpy as np\n",
    "from pathlib import Path\n",
    "from keras.models import Sequential\n",
    "from keras.layers import LSTM,Dropout,Dense\n",
    "import matplotlib.pyplot as plt"
   ]
  },
  {
   "cell_type": "code",
   "execution_count": 2,
   "id": "886064b9-f602-4a1b-b1fd-6bb0efdb93c0",
   "metadata": {},
   "outputs": [
    {
     "data": {
      "text/html": [
       "<div>\n",
       "<style scoped>\n",
       "    .dataframe tbody tr th:only-of-type {\n",
       "        vertical-align: middle;\n",
       "    }\n",
       "\n",
       "    .dataframe tbody tr th {\n",
       "        vertical-align: top;\n",
       "    }\n",
       "\n",
       "    .dataframe thead th {\n",
       "        text-align: right;\n",
       "    }\n",
       "</style>\n",
       "<table border=\"1\" class=\"dataframe\">\n",
       "  <thead>\n",
       "    <tr style=\"text-align: right;\">\n",
       "      <th></th>\n",
       "      <th>Date</th>\n",
       "      <th>S&amp;P500</th>\n",
       "    </tr>\n",
       "  </thead>\n",
       "  <tbody>\n",
       "    <tr>\n",
       "      <th>0</th>\n",
       "      <td>2014-02-18</td>\n",
       "      <td>1840.76</td>\n",
       "    </tr>\n",
       "    <tr>\n",
       "      <th>1</th>\n",
       "      <td>2014-02-19</td>\n",
       "      <td>1828.75</td>\n",
       "    </tr>\n",
       "    <tr>\n",
       "      <th>2</th>\n",
       "      <td>2014-02-20</td>\n",
       "      <td>1839.78</td>\n",
       "    </tr>\n",
       "    <tr>\n",
       "      <th>3</th>\n",
       "      <td>2014-02-21</td>\n",
       "      <td>1836.25</td>\n",
       "    </tr>\n",
       "    <tr>\n",
       "      <th>4</th>\n",
       "      <td>2014-02-24</td>\n",
       "      <td>1847.61</td>\n",
       "    </tr>\n",
       "    <tr>\n",
       "      <th>...</th>\n",
       "      <td>...</td>\n",
       "      <td>...</td>\n",
       "    </tr>\n",
       "    <tr>\n",
       "      <th>2511</th>\n",
       "      <td>2024-02-08</td>\n",
       "      <td>4997.91</td>\n",
       "    </tr>\n",
       "    <tr>\n",
       "      <th>2512</th>\n",
       "      <td>2024-02-09</td>\n",
       "      <td>5026.61</td>\n",
       "    </tr>\n",
       "    <tr>\n",
       "      <th>2513</th>\n",
       "      <td>2024-02-12</td>\n",
       "      <td>5021.84</td>\n",
       "    </tr>\n",
       "    <tr>\n",
       "      <th>2514</th>\n",
       "      <td>2024-02-13</td>\n",
       "      <td>4953.17</td>\n",
       "    </tr>\n",
       "    <tr>\n",
       "      <th>2515</th>\n",
       "      <td>2024-02-14</td>\n",
       "      <td>5000.62</td>\n",
       "    </tr>\n",
       "  </tbody>\n",
       "</table>\n",
       "<p>2516 rows × 2 columns</p>\n",
       "</div>"
      ],
      "text/plain": [
       "            Date   S&P500\n",
       "0     2014-02-18  1840.76\n",
       "1     2014-02-19  1828.75\n",
       "2     2014-02-20  1839.78\n",
       "3     2014-02-21  1836.25\n",
       "4     2014-02-24  1847.61\n",
       "...          ...      ...\n",
       "2511  2024-02-08  4997.91\n",
       "2512  2024-02-09  5026.61\n",
       "2513  2024-02-12  5021.84\n",
       "2514  2024-02-13  4953.17\n",
       "2515  2024-02-14  5000.62\n",
       "\n",
       "[2516 rows x 2 columns]"
      ]
     },
     "execution_count": 2,
     "metadata": {},
     "output_type": "execute_result"
    }
   ],
   "source": [
    "sp_index = pd.read_csv(\"sp500_index.csv\")\n",
    "sp_index"
   ]
  },
  {
   "cell_type": "code",
   "execution_count": 3,
   "id": "ff777561-4b88-4721-bc3c-a9bfc3565f2a",
   "metadata": {
    "scrolled": true
   },
   "outputs": [
    {
     "data": {
      "text/html": [
       "<div>\n",
       "<style scoped>\n",
       "    .dataframe tbody tr th:only-of-type {\n",
       "        vertical-align: middle;\n",
       "    }\n",
       "\n",
       "    .dataframe tbody tr th {\n",
       "        vertical-align: top;\n",
       "    }\n",
       "\n",
       "    .dataframe thead th {\n",
       "        text-align: right;\n",
       "    }\n",
       "</style>\n",
       "<table border=\"1\" class=\"dataframe\">\n",
       "  <thead>\n",
       "    <tr style=\"text-align: right;\">\n",
       "      <th></th>\n",
       "      <th>Date</th>\n",
       "      <th>Symbol</th>\n",
       "      <th>Adj Close</th>\n",
       "      <th>Close</th>\n",
       "      <th>High</th>\n",
       "      <th>Low</th>\n",
       "      <th>Open</th>\n",
       "      <th>Volume</th>\n",
       "    </tr>\n",
       "  </thead>\n",
       "  <tbody>\n",
       "    <tr>\n",
       "      <th>0</th>\n",
       "      <td>2020-01-02</td>\n",
       "      <td>MMM</td>\n",
       "      <td>166.588959</td>\n",
       "      <td>180.000000</td>\n",
       "      <td>180.009995</td>\n",
       "      <td>177.139999</td>\n",
       "      <td>177.679993</td>\n",
       "      <td>3601700.0</td>\n",
       "    </tr>\n",
       "    <tr>\n",
       "      <th>1</th>\n",
       "      <td>2020-01-03</td>\n",
       "      <td>MMM</td>\n",
       "      <td>165.154465</td>\n",
       "      <td>178.449997</td>\n",
       "      <td>178.660004</td>\n",
       "      <td>175.630005</td>\n",
       "      <td>177.020004</td>\n",
       "      <td>2466900.0</td>\n",
       "    </tr>\n",
       "    <tr>\n",
       "      <th>2</th>\n",
       "      <td>2020-01-06</td>\n",
       "      <td>MMM</td>\n",
       "      <td>165.311783</td>\n",
       "      <td>178.619995</td>\n",
       "      <td>178.710007</td>\n",
       "      <td>176.350006</td>\n",
       "      <td>177.149994</td>\n",
       "      <td>1998000.0</td>\n",
       "    </tr>\n",
       "    <tr>\n",
       "      <th>3</th>\n",
       "      <td>2020-01-07</td>\n",
       "      <td>MMM</td>\n",
       "      <td>164.645416</td>\n",
       "      <td>177.899994</td>\n",
       "      <td>178.509995</td>\n",
       "      <td>176.820007</td>\n",
       "      <td>178.279999</td>\n",
       "      <td>2173000.0</td>\n",
       "    </tr>\n",
       "    <tr>\n",
       "      <th>4</th>\n",
       "      <td>2020-01-08</td>\n",
       "      <td>MMM</td>\n",
       "      <td>167.172028</td>\n",
       "      <td>180.630005</td>\n",
       "      <td>181.500000</td>\n",
       "      <td>177.649994</td>\n",
       "      <td>178.000000</td>\n",
       "      <td>2758300.0</td>\n",
       "    </tr>\n",
       "  </tbody>\n",
       "</table>\n",
       "</div>"
      ],
      "text/plain": [
       "        Date Symbol   Adj Close       Close        High         Low  \\\n",
       "0 2020-01-02    MMM  166.588959  180.000000  180.009995  177.139999   \n",
       "1 2020-01-03    MMM  165.154465  178.449997  178.660004  175.630005   \n",
       "2 2020-01-06    MMM  165.311783  178.619995  178.710007  176.350006   \n",
       "3 2020-01-07    MMM  164.645416  177.899994  178.509995  176.820007   \n",
       "4 2020-01-08    MMM  167.172028  180.630005  181.500000  177.649994   \n",
       "\n",
       "         Open     Volume  \n",
       "0  177.679993  3601700.0  \n",
       "1  177.020004  2466900.0  \n",
       "2  177.149994  1998000.0  \n",
       "3  178.279999  2173000.0  \n",
       "4  178.000000  2758300.0  "
      ]
     },
     "execution_count": 3,
     "metadata": {},
     "output_type": "execute_result"
    }
   ],
   "source": [
    "sp_stocks = pd.read_excel(\"sp500_stocks_4years.xlsx\")\n",
    "sp_stocks.head()\n"
   ]
  },
  {
   "cell_type": "code",
   "execution_count": 4,
   "id": "030aeeb7-413f-4920-81ea-d3ae373a8278",
   "metadata": {
    "scrolled": true
   },
   "outputs": [
    {
     "data": {
      "image/png": "[encoded data removed]",
      "text/plain": [
       "<Figure size 640x480 with 1 Axes>"
      ]
     },
     "metadata": {},
     "output_type": "display_data"
    }
   ],
   "source": [
    "sp_index['Date'] = pd.to_datetime(sp_index.Date,format=\"%Y-%m-%d\")\n",
    "sp_index.index=sp_index['Date']\n",
    "\n",
    "# Plot the data\n",
    "sp_index.plot(x='Date', y='S&P500', kind='line', linestyle='-')\n",
    "\n",
    "# Add labels and title\n",
    "plt.xlabel('Date')\n",
    "plt.ylabel('Stock Price')\n",
    "plt.title('S&P500 Last 10 Years')\n",
    "\n",
    "# Show the plot\n",
    "plt.show()"
   ]
  },
  {
   "cell_type": "code",
   "execution_count": 5,
   "id": "51f6c3eb-a493-4d08-a8ce-ec6c3afa57fa",
   "metadata": {
    "scrolled": true
   },
   "outputs": [
    {
     "data": {
      "text/html": [
       "<div>\n",
       "<style scoped>\n",
       "    .dataframe tbody tr th:only-of-type {\n",
       "        vertical-align: middle;\n",
       "    }\n",
       "\n",
       "    .dataframe tbody tr th {\n",
       "        vertical-align: top;\n",
       "    }\n",
       "\n",
       "    .dataframe thead th {\n",
       "        text-align: right;\n",
       "    }\n",
       "</style>\n",
       "<table border=\"1\" class=\"dataframe\">\n",
       "  <thead>\n",
       "    <tr style=\"text-align: right;\">\n",
       "      <th></th>\n",
       "      <th>Date</th>\n",
       "      <th>Symbol</th>\n",
       "      <th>Adj Close</th>\n",
       "      <th>Close</th>\n",
       "      <th>High</th>\n",
       "      <th>Low</th>\n",
       "      <th>Open</th>\n",
       "      <th>Volume</th>\n",
       "    </tr>\n",
       "  </thead>\n",
       "  <tbody>\n",
       "    <tr>\n",
       "      <th>40482</th>\n",
       "      <td>2020-01-02</td>\n",
       "      <td>AAPL</td>\n",
       "      <td>73.059410</td>\n",
       "      <td>75.087502</td>\n",
       "      <td>75.150002</td>\n",
       "      <td>73.797501</td>\n",
       "      <td>74.059998</td>\n",
       "      <td>135480400.0</td>\n",
       "    </tr>\n",
       "    <tr>\n",
       "      <th>40483</th>\n",
       "      <td>2020-01-03</td>\n",
       "      <td>AAPL</td>\n",
       "      <td>72.349152</td>\n",
       "      <td>74.357498</td>\n",
       "      <td>75.144997</td>\n",
       "      <td>74.125000</td>\n",
       "      <td>74.287498</td>\n",
       "      <td>146322800.0</td>\n",
       "    </tr>\n",
       "    <tr>\n",
       "      <th>40484</th>\n",
       "      <td>2020-01-06</td>\n",
       "      <td>AAPL</td>\n",
       "      <td>72.925644</td>\n",
       "      <td>74.949997</td>\n",
       "      <td>74.989998</td>\n",
       "      <td>73.187500</td>\n",
       "      <td>73.447502</td>\n",
       "      <td>118387200.0</td>\n",
       "    </tr>\n",
       "    <tr>\n",
       "      <th>40485</th>\n",
       "      <td>2020-01-07</td>\n",
       "      <td>AAPL</td>\n",
       "      <td>72.582657</td>\n",
       "      <td>74.597504</td>\n",
       "      <td>75.224998</td>\n",
       "      <td>74.370003</td>\n",
       "      <td>74.959999</td>\n",
       "      <td>108872000.0</td>\n",
       "    </tr>\n",
       "    <tr>\n",
       "      <th>40486</th>\n",
       "      <td>2020-01-08</td>\n",
       "      <td>AAPL</td>\n",
       "      <td>73.750252</td>\n",
       "      <td>75.797501</td>\n",
       "      <td>76.110001</td>\n",
       "      <td>74.290001</td>\n",
       "      <td>74.290001</td>\n",
       "      <td>132079200.0</td>\n",
       "    </tr>\n",
       "    <tr>\n",
       "      <th>...</th>\n",
       "      <td>...</td>\n",
       "      <td>...</td>\n",
       "      <td>...</td>\n",
       "      <td>...</td>\n",
       "      <td>...</td>\n",
       "      <td>...</td>\n",
       "      <td>...</td>\n",
       "      <td>...</td>\n",
       "    </tr>\n",
       "    <tr>\n",
       "      <th>41515</th>\n",
       "      <td>2024-02-09</td>\n",
       "      <td>AAPL</td>\n",
       "      <td>188.850006</td>\n",
       "      <td>188.850006</td>\n",
       "      <td>189.990005</td>\n",
       "      <td>188.000000</td>\n",
       "      <td>188.649994</td>\n",
       "      <td>45155200.0</td>\n",
       "    </tr>\n",
       "    <tr>\n",
       "      <th>41516</th>\n",
       "      <td>2024-02-12</td>\n",
       "      <td>AAPL</td>\n",
       "      <td>187.149994</td>\n",
       "      <td>187.149994</td>\n",
       "      <td>188.669998</td>\n",
       "      <td>186.789993</td>\n",
       "      <td>188.419998</td>\n",
       "      <td>41781900.0</td>\n",
       "    </tr>\n",
       "    <tr>\n",
       "      <th>41517</th>\n",
       "      <td>2024-02-13</td>\n",
       "      <td>AAPL</td>\n",
       "      <td>185.039993</td>\n",
       "      <td>185.039993</td>\n",
       "      <td>186.210007</td>\n",
       "      <td>183.509995</td>\n",
       "      <td>185.770004</td>\n",
       "      <td>56529500.0</td>\n",
       "    </tr>\n",
       "    <tr>\n",
       "      <th>41518</th>\n",
       "      <td>2024-02-14</td>\n",
       "      <td>AAPL</td>\n",
       "      <td>184.149994</td>\n",
       "      <td>184.149994</td>\n",
       "      <td>185.529999</td>\n",
       "      <td>182.440002</td>\n",
       "      <td>185.320007</td>\n",
       "      <td>54630500.0</td>\n",
       "    </tr>\n",
       "    <tr>\n",
       "      <th>41519</th>\n",
       "      <td>2024-02-15</td>\n",
       "      <td>AAPL</td>\n",
       "      <td>183.860001</td>\n",
       "      <td>183.860001</td>\n",
       "      <td>184.490005</td>\n",
       "      <td>181.399994</td>\n",
       "      <td>183.550003</td>\n",
       "      <td>63936069.0</td>\n",
       "    </tr>\n",
       "  </tbody>\n",
       "</table>\n",
       "<p>1038 rows × 8 columns</p>\n",
       "</div>"
      ],
      "text/plain": [
       "            Date Symbol   Adj Close       Close        High         Low  \\\n",
       "40482 2020-01-02   AAPL   73.059410   75.087502   75.150002   73.797501   \n",
       "40483 2020-01-03   AAPL   72.349152   74.357498   75.144997   74.125000   \n",
       "40484 2020-01-06   AAPL   72.925644   74.949997   74.989998   73.187500   \n",
       "40485 2020-01-07   AAPL   72.582657   74.597504   75.224998   74.370003   \n",
       "40486 2020-01-08   AAPL   73.750252   75.797501   76.110001   74.290001   \n",
       "...          ...    ...         ...         ...         ...         ...   \n",
       "41515 2024-02-09   AAPL  188.850006  188.850006  189.990005  188.000000   \n",
       "41516 2024-02-12   AAPL  187.149994  187.149994  188.669998  186.789993   \n",
       "41517 2024-02-13   AAPL  185.039993  185.039993  186.210007  183.509995   \n",
       "41518 2024-02-14   AAPL  184.149994  184.149994  185.529999  182.440002   \n",
       "41519 2024-02-15   AAPL  183.860001  183.860001  184.490005  181.399994   \n",
       "\n",
       "             Open       Volume  \n",
       "40482   74.059998  135480400.0  \n",
       "40483   74.287498  146322800.0  \n",
       "40484   73.447502  118387200.0  \n",
       "40485   74.959999  108872000.0  \n",
       "40486   74.290001  132079200.0  \n",
       "...           ...          ...  \n",
       "41515  188.649994   45155200.0  \n",
       "41516  188.419998   41781900.0  \n",
       "41517  185.770004   56529500.0  \n",
       "41518  185.320007   54630500.0  \n",
       "41519  183.550003   63936069.0  \n",
       "\n",
       "[1038 rows x 8 columns]"
      ]
     },
     "execution_count": 5,
     "metadata": {},
     "output_type": "execute_result"
    }
   ],
   "source": [
    "apple_df = sp_stocks[sp_stocks['Symbol'] == 'AAPL']\n",
    "apple_df"
   ]
  },
  {
   "cell_type": "code",
   "execution_count": 6,
   "id": "a2f62c91-e63b-401e-9a42-85191948bf4e",
   "metadata": {
    "scrolled": true
   },
   "outputs": [
    {
     "data": {
      "image/png": "[encoded data removed]",
      "text/plain": [
       "<Figure size 640x480 with 1 Axes>"
      ]
     },
     "metadata": {},
     "output_type": "display_data"
    }
   ],
   "source": [
    "apple_df.plot(x='Date', y='Close', kind='line', linestyle='-')\n",
    "\n",
    "# Add labels and title\n",
    "plt.xlabel('Date')\n",
    "plt.ylabel('Stock Price')\n",
    "plt.title('Apple Stock Last 4 Years')\n",
    "\n",
    "# Show the plot\n",
    "plt.show()"
   ]
  },
  {
   "cell_type": "code",
   "execution_count": 7,
   "id": "0977ee56-bc42-4890-b328-2e2940aca71f",
   "metadata": {},
   "outputs": [
    {
     "data": {
      "text/plain": [
       "Index(['Date', 'Symbol', 'Adj Close', 'Close', 'High', 'Low', 'Open',\n",
       "       'Volume'],\n",
       "      dtype='object')"
      ]
     },
     "execution_count": 7,
     "metadata": {},
     "output_type": "execute_result"
    }
   ],
   "source": [
    "apple_df.columns"
   ]
  },
  {
   "cell_type": "code",
   "execution_count": 9,
   "id": "8b6ab172-7c92-43e6-aa53-2a083cc7b864",
   "metadata": {},
   "outputs": [
    {
     "data": {
      "text/plain": [
       "(1038, 1)"
      ]
     },
     "execution_count": 9,
     "metadata": {},
     "output_type": "execute_result"
    }
   ],
   "source": [
    "scaler = MinMaxScaler()\n",
    "df2 = scaler.fit_transform(np.array(df2).reshape(-1,1))\n",
    "df2.shape"
   ]
  },
  {
   "cell_type": "code",
   "execution_count": 10,
   "id": "86985847-37b2-4deb-8041-ceb2182e981a",
   "metadata": {},
   "outputs": [],
   "source": [
    "train_data=df2[0:1037]\n",
    "valid_data=df2[1037:,]\n",
    "\n",
    "train_size = int(len(df2)*0.80)\n",
    "test_size = len(df2) - train_size\n",
    "train_data,test_data = df2[0:train_size,:],df2[train_size:len(df2),:1]"
   ]
  },
  {
   "cell_type": "code",
   "execution_count": 11,
   "id": "7f5f3791-ea56-4c24-ae41-d2a4a71317c8",
   "metadata": {},
   "outputs": [],
   "source": [
    "def create_dataset(dataset, time_step = 1):\n",
    "    dataX,dataY = [],[]\n",
    "    for i in range(len(dataset)-time_step-1):\n",
    "                   a = dataset[i:(i+time_step),0]\n",
    "                   dataX.append(a)\n",
    "                   dataY.append(dataset[i + time_step,0])\n",
    "    return np.array(dataX),np.array(dataY)"
   ]
  },
  {
   "cell_type": "code",
   "execution_count": 12,
   "id": "401766db-cddc-4d57-a063-aef02c9644a3",
   "metadata": {},
   "outputs": [],
   "source": [
    "time_step = 100\n",
    "X_train,Y_train =  create_dataset(train_data,time_step)\n",
    "X_test,Y_test =  create_dataset(test_data,time_step)"
   ]
  },
  {
   "cell_type": "code",
   "execution_count": 13,
   "id": "d1397ac0-c654-4a2c-b924-7e9f35196216",
   "metadata": {},
   "outputs": [
    {
     "name": "stdout",
     "output_type": "stream",
     "text": [
      "(729, 100)\n",
      "[[0.13375114 0.1286109  0.13278292 ... 0.16279686 0.16638798 0.16258562]\n",
      " [0.1286109  0.13278292 0.13030088 ... 0.16638798 0.16258562 0.16501486]\n",
      " [0.13278292 0.13030088 0.13875052 ... 0.16258562 0.16501486 0.16526133]\n",
      " ...\n",
      " [0.66630874 0.67032227 0.64722654 ... 0.73728592 0.73235697 0.77080288]\n",
      " [0.67032227 0.64722654 0.66250633 ... 0.73235697 0.77080288 0.76833845]\n",
      " [0.64722654 0.66250633 0.66877327 ... 0.77080288 0.76833845 0.76847921]]\n",
      "(107, 100)\n",
      "(107,)\n"
     ]
    }
   ],
   "source": [
    "# checking values\n",
    "print(X_train.shape)\n",
    "print(X_train)\n",
    "print(X_test.shape)\n",
    "print(Y_test.shape)"
   ]
  },
  {
   "cell_type": "code",
   "execution_count": 14,
   "id": "0353c990-1a4a-4164-b56f-13fbfce11880",
   "metadata": {},
   "outputs": [],
   "source": [
    "stock_model = Sequential()\n",
    "stock_model.add(LSTM(50,return_sequences = True,input_shape = (X_train.shape[1],1)))\n",
    "stock_model.add(LSTM(50,return_sequences = True))\n",
    "stock_model.add(LSTM(50))\n",
    "stock_model.add(Dense(1))\n",
    "stock_model.compile(optimizer = 'adam', loss = 'mean_squared_error')"
   ]
  },
  {
   "cell_type": "code",
   "execution_count": 15,
   "id": "3e152e7d-8a66-49cb-a05c-7cb8ae55956c",
   "metadata": {},
   "outputs": [
    {
     "name": "stdout",
     "output_type": "stream",
     "text": [
      "Epoch 1/100\n",
      "23/23 [==============================] - 8s 149ms/step - loss: 0.0453 - val_loss: 0.0026\n",
      "Epoch 2/100\n",
      "23/23 [==============================] - 2s 89ms/step - loss: 0.0054 - val_loss: 0.0037\n",
      "Epoch 3/100\n",
      "23/23 [==============================] - 2s 101ms/step - loss: 0.0035 - val_loss: 0.0101\n",
      "Epoch 4/100\n",
      "23/23 [==============================] - 2s 80ms/step - loss: 0.0029 - val_loss: 0.0028\n",
      "Epoch 5/100\n",
      "23/23 [==============================] - 2s 92ms/step - loss: 0.0028 - val_loss: 0.0031\n",
      "Epoch 6/100\n",
      "23/23 [==============================] - 2s 77ms/step - loss: 0.0026 - val_loss: 0.0021\n",
      "Epoch 7/100\n",
      "23/23 [==============================] - 2s 88ms/step - loss: 0.0025 - val_loss: 0.0043\n",
      "Epoch 8/100\n",
      "23/23 [==============================] - 2s 83ms/step - loss: 0.0024 - val_loss: 0.0021\n",
      "Epoch 9/100\n",
      "23/23 [==============================] - 2s 86ms/step - loss: 0.0023 - val_loss: 0.0022\n",
      "Epoch 10/100\n",
      "23/23 [==============================] - 2s 91ms/step - loss: 0.0022 - val_loss: 0.0020\n",
      "Epoch 11/100\n",
      "23/23 [==============================] - 2s 94ms/step - loss: 0.0021 - val_loss: 0.0022\n",
      "Epoch 12/100\n",
      "23/23 [==============================] - 2s 84ms/step - loss: 0.0020 - val_loss: 0.0019\n",
      "Epoch 13/100\n",
      "23/23 [==============================] - 2s 91ms/step - loss: 0.0018 - val_loss: 0.0041\n",
      "Epoch 14/100\n",
      "23/23 [==============================] - 2s 91ms/step - loss: 0.0018 - val_loss: 0.0024\n",
      "Epoch 15/100\n",
      "23/23 [==============================] - 2s 99ms/step - loss: 0.0017 - val_loss: 0.0019\n",
      "Epoch 16/100\n",
      "23/23 [==============================] - 2s 89ms/step - loss: 0.0016 - val_loss: 0.0015\n",
      "Epoch 17/100\n",
      "23/23 [==============================] - 2s 92ms/step - loss: 0.0016 - val_loss: 0.0015\n",
      "Epoch 18/100\n",
      "23/23 [==============================] - 2s 82ms/step - loss: 0.0017 - val_loss: 0.0019\n",
      "Epoch 19/100\n",
      "23/23 [==============================] - 2s 81ms/step - loss: 0.0017 - val_loss: 0.0035\n",
      "Epoch 20/100\n",
      "23/23 [==============================] - 2s 84ms/step - loss: 0.0015 - val_loss: 0.0040\n",
      "Epoch 21/100\n",
      "23/23 [==============================] - 2s 80ms/step - loss: 0.0013 - val_loss: 0.0020\n",
      "Epoch 22/100\n",
      "23/23 [==============================] - 2s 81ms/step - loss: 0.0013 - val_loss: 0.0017\n",
      "Epoch 23/100\n",
      "23/23 [==============================] - 2s 79ms/step - loss: 0.0012 - val_loss: 0.0011\n",
      "Epoch 24/100\n",
      "23/23 [==============================] - 2s 83ms/step - loss: 0.0013 - val_loss: 0.0031\n",
      "Epoch 25/100\n",
      "23/23 [==============================] - 2s 81ms/step - loss: 0.0014 - val_loss: 0.0067\n",
      "Epoch 26/100\n",
      "23/23 [==============================] - 2s 80ms/step - loss: 0.0015 - val_loss: 0.0020\n",
      "Epoch 27/100\n",
      "23/23 [==============================] - 2s 83ms/step - loss: 0.0011 - val_loss: 0.0015\n",
      "Epoch 28/100\n",
      "23/23 [==============================] - 2s 80ms/step - loss: 0.0012 - val_loss: 0.0012\n",
      "Epoch 29/100\n",
      "23/23 [==============================] - 2s 79ms/step - loss: 0.0011 - val_loss: 8.0833e-04\n",
      "Epoch 30/100\n",
      "23/23 [==============================] - 2s 80ms/step - loss: 0.0012 - val_loss: 6.7385e-04\n",
      "Epoch 31/100\n",
      "23/23 [==============================] - 2s 84ms/step - loss: 0.0011 - val_loss: 0.0017\n",
      "Epoch 32/100\n",
      "23/23 [==============================] - 2s 80ms/step - loss: 0.0010 - val_loss: 7.9983e-04\n",
      "Epoch 33/100\n",
      "23/23 [==============================] - 2s 80ms/step - loss: 9.7088e-04 - val_loss: 6.7752e-04\n",
      "Epoch 34/100\n",
      "23/23 [==============================] - 2s 84ms/step - loss: 9.4969e-04 - val_loss: 8.3757e-04\n",
      "Epoch 35/100\n",
      "23/23 [==============================] - 2s 82ms/step - loss: 9.0277e-04 - val_loss: 6.2449e-04\n",
      "Epoch 36/100\n",
      "23/23 [==============================] - 2s 80ms/step - loss: 9.0295e-04 - val_loss: 9.4806e-04\n",
      "Epoch 37/100\n",
      "23/23 [==============================] - 2s 83ms/step - loss: 8.3126e-04 - val_loss: 8.7433e-04\n",
      "Epoch 38/100\n",
      "23/23 [==============================] - 2s 80ms/step - loss: 7.8886e-04 - val_loss: 7.9327e-04\n",
      "Epoch 39/100\n",
      "23/23 [==============================] - 2s 80ms/step - loss: 8.3945e-04 - val_loss: 4.9257e-04\n",
      "Epoch 40/100\n",
      "23/23 [==============================] - 2s 87ms/step - loss: 7.7585e-04 - val_loss: 7.8791e-04\n",
      "Epoch 41/100\n",
      "23/23 [==============================] - 2s 80ms/step - loss: 7.7639e-04 - val_loss: 5.0183e-04\n",
      "Epoch 42/100\n",
      "23/23 [==============================] - 2s 80ms/step - loss: 6.9529e-04 - val_loss: 5.1117e-04\n",
      "Epoch 43/100\n",
      "23/23 [==============================] - 2s 84ms/step - loss: 7.1677e-04 - val_loss: 4.5600e-04\n",
      "Epoch 44/100\n",
      "23/23 [==============================] - 2s 80ms/step - loss: 8.5030e-04 - val_loss: 3.9420e-04\n",
      "Epoch 45/100\n",
      "23/23 [==============================] - 2s 80ms/step - loss: 6.8863e-04 - val_loss: 5.4849e-04\n",
      "Epoch 46/100\n",
      "23/23 [==============================] - 2s 83ms/step - loss: 6.6906e-04 - val_loss: 4.7544e-04\n",
      "Epoch 47/100\n",
      "23/23 [==============================] - 2s 81ms/step - loss: 6.5047e-04 - val_loss: 4.0619e-04\n",
      "Epoch 48/100\n",
      "23/23 [==============================] - 2s 80ms/step - loss: 6.9698e-04 - val_loss: 6.1845e-04\n",
      "Epoch 49/100\n",
      "23/23 [==============================] - 2s 84ms/step - loss: 6.9960e-04 - val_loss: 4.3929e-04\n",
      "Epoch 50/100\n",
      "23/23 [==============================] - 2s 81ms/step - loss: 6.3166e-04 - val_loss: 4.2633e-04\n",
      "Epoch 51/100\n",
      "23/23 [==============================] - 2s 81ms/step - loss: 7.9576e-04 - val_loss: 0.0019\n",
      "Epoch 52/100\n",
      "23/23 [==============================] - 2s 100ms/step - loss: 6.6402e-04 - val_loss: 3.5694e-04\n",
      "Epoch 53/100\n",
      "23/23 [==============================] - 2s 83ms/step - loss: 6.7504e-04 - val_loss: 8.9554e-04\n",
      "Epoch 54/100\n",
      "23/23 [==============================] - 2s 91ms/step - loss: 6.3104e-04 - val_loss: 6.1791e-04\n",
      "Epoch 55/100\n",
      "23/23 [==============================] - 2s 94ms/step - loss: 7.1166e-04 - val_loss: 8.1273e-04\n",
      "Epoch 56/100\n",
      "23/23 [==============================] - 2s 81ms/step - loss: 7.0322e-04 - val_loss: 5.3798e-04\n",
      "Epoch 57/100\n",
      "23/23 [==============================] - 2s 79ms/step - loss: 5.7786e-04 - val_loss: 3.0515e-04\n",
      "Epoch 58/100\n",
      "23/23 [==============================] - 2s 79ms/step - loss: 6.2744e-04 - val_loss: 3.0108e-04\n",
      "Epoch 59/100\n",
      "23/23 [==============================] - 2s 81ms/step - loss: 6.4368e-04 - val_loss: 2.9075e-04\n",
      "Epoch 60/100\n",
      "23/23 [==============================] - 2s 79ms/step - loss: 7.6480e-04 - val_loss: 9.8045e-04\n",
      "Epoch 61/100\n",
      "23/23 [==============================] - 2s 82ms/step - loss: 7.8942e-04 - val_loss: 8.1949e-04\n",
      "Epoch 62/100\n",
      "23/23 [==============================] - 2s 79ms/step - loss: 5.8220e-04 - val_loss: 2.7610e-04\n",
      "Epoch 63/100\n",
      "23/23 [==============================] - 2s 79ms/step - loss: 5.3917e-04 - val_loss: 4.9875e-04\n",
      "Epoch 64/100\n",
      "23/23 [==============================] - 2s 82ms/step - loss: 6.1335e-04 - val_loss: 4.7262e-04\n",
      "Epoch 65/100\n",
      "23/23 [==============================] - 2s 79ms/step - loss: 5.0834e-04 - val_loss: 3.4932e-04\n",
      "Epoch 66/100\n",
      "23/23 [==============================] - 2s 82ms/step - loss: 5.6413e-04 - val_loss: 5.8132e-04\n",
      "Epoch 67/100\n",
      "23/23 [==============================] - 2s 79ms/step - loss: 6.1670e-04 - val_loss: 0.0014\n",
      "Epoch 68/100\n",
      "23/23 [==============================] - 2s 82ms/step - loss: 5.2838e-04 - val_loss: 6.5156e-04\n",
      "Epoch 69/100\n",
      "23/23 [==============================] - 2s 78ms/step - loss: 5.0965e-04 - val_loss: 2.6813e-04\n",
      "Epoch 70/100\n",
      "23/23 [==============================] - 2s 78ms/step - loss: 5.1077e-04 - val_loss: 2.5502e-04\n",
      "Epoch 71/100\n",
      "23/23 [==============================] - 2s 79ms/step - loss: 4.5589e-04 - val_loss: 2.4843e-04\n",
      "Epoch 72/100\n",
      "23/23 [==============================] - 2s 80ms/step - loss: 4.6120e-04 - val_loss: 2.9581e-04\n",
      "Epoch 73/100\n",
      "23/23 [==============================] - 2s 82ms/step - loss: 4.5611e-04 - val_loss: 3.0199e-04\n",
      "Epoch 74/100\n",
      "23/23 [==============================] - 2s 79ms/step - loss: 4.8014e-04 - val_loss: 2.7792e-04\n",
      "Epoch 75/100\n",
      "23/23 [==============================] - 2s 84ms/step - loss: 5.1700e-04 - val_loss: 4.2433e-04\n",
      "Epoch 76/100\n",
      "23/23 [==============================] - 2s 79ms/step - loss: 6.2933e-04 - val_loss: 6.9584e-04\n",
      "Epoch 77/100\n",
      "23/23 [==============================] - 2s 79ms/step - loss: 5.1774e-04 - val_loss: 2.3202e-04\n",
      "Epoch 78/100\n",
      "23/23 [==============================] - 2s 78ms/step - loss: 5.1792e-04 - val_loss: 5.7709e-04\n",
      "Epoch 79/100\n",
      "23/23 [==============================] - 2s 78ms/step - loss: 5.1755e-04 - val_loss: 2.6368e-04\n",
      "Epoch 80/100\n",
      "23/23 [==============================] - 2s 89ms/step - loss: 4.4885e-04 - val_loss: 2.2856e-04\n",
      "Epoch 81/100\n",
      "23/23 [==============================] - 2s 83ms/step - loss: 4.3866e-04 - val_loss: 2.4119e-04\n",
      "Epoch 82/100\n",
      "23/23 [==============================] - 2s 88ms/step - loss: 4.5644e-04 - val_loss: 2.6303e-04\n",
      "Epoch 83/100\n",
      "23/23 [==============================] - 2s 82ms/step - loss: 4.6907e-04 - val_loss: 2.1885e-04\n",
      "Epoch 84/100\n",
      "23/23 [==============================] - 2s 104ms/step - loss: 4.2847e-04 - val_loss: 3.2107e-04\n",
      "Epoch 85/100\n",
      "23/23 [==============================] - 2s 83ms/step - loss: 4.8096e-04 - val_loss: 3.1442e-04\n",
      "Epoch 86/100\n",
      "23/23 [==============================] - 2s 80ms/step - loss: 4.4373e-04 - val_loss: 3.2089e-04\n",
      "Epoch 87/100\n",
      "23/23 [==============================] - 2s 96ms/step - loss: 4.5610e-04 - val_loss: 2.2007e-04\n",
      "Epoch 88/100\n",
      "23/23 [==============================] - 2s 79ms/step - loss: 4.3511e-04 - val_loss: 2.6931e-04\n",
      "Epoch 89/100\n",
      "23/23 [==============================] - 2s 84ms/step - loss: 4.6659e-04 - val_loss: 2.2016e-04\n",
      "Epoch 90/100\n",
      "23/23 [==============================] - 2s 79ms/step - loss: 4.2731e-04 - val_loss: 2.6680e-04\n",
      "Epoch 91/100\n",
      "23/23 [==============================] - 2s 82ms/step - loss: 4.2123e-04 - val_loss: 2.2118e-04\n",
      "Epoch 92/100\n",
      "23/23 [==============================] - 2s 79ms/step - loss: 4.6318e-04 - val_loss: 2.5869e-04\n",
      "Epoch 93/100\n",
      "23/23 [==============================] - 2s 79ms/step - loss: 4.2750e-04 - val_loss: 3.0839e-04\n",
      "Epoch 94/100\n",
      "23/23 [==============================] - 2s 89ms/step - loss: 4.3931e-04 - val_loss: 0.0011\n",
      "Epoch 95/100\n",
      "23/23 [==============================] - 2s 79ms/step - loss: 5.0120e-04 - val_loss: 4.5610e-04\n",
      "Epoch 96/100\n",
      "23/23 [==============================] - 2s 81ms/step - loss: 4.2573e-04 - val_loss: 4.9794e-04\n",
      "Epoch 97/100\n",
      "23/23 [==============================] - 2s 79ms/step - loss: 4.7253e-04 - val_loss: 4.0926e-04\n",
      "Epoch 98/100\n",
      "23/23 [==============================] - 2s 84ms/step - loss: 4.4346e-04 - val_loss: 3.1361e-04\n",
      "Epoch 99/100\n",
      "23/23 [==============================] - 2s 79ms/step - loss: 4.0648e-04 - val_loss: 2.1836e-04\n",
      "Epoch 100/100\n",
      "23/23 [==============================] - 2s 81ms/step - loss: 4.0600e-04 - val_loss: 2.8526e-04\n"
     ]
    },
    {
     "data": {
      "text/plain": [
       "<keras.src.callbacks.History at 0x7fd0149ca530>"
      ]
     },
     "execution_count": 15,
     "metadata": {},
     "output_type": "execute_result"
    }
   ],
   "source": [
    "stock_model.fit(X_train,Y_train,validation_data = (X_test,Y_test),epochs = 100,batch_size = 32,verbose = 1)"
   ]
  },
  {
   "cell_type": "code",
   "execution_count": 16,
   "id": "ba06d16b-556c-4d03-b8e4-d54e05509847",
   "metadata": {},
   "outputs": [
    {
     "name": "stdout",
     "output_type": "stream",
     "text": [
      "23/23 [==============================] - 2s 32ms/step\n",
      "4/4 [==============================] - 0s 33ms/step\n"
     ]
    }
   ],
   "source": [
    "train_predict = stock_model.predict(X_train)\n",
    "test_predict = stock_model.predict(X_test)"
   ]
  },
  {
   "cell_type": "code",
   "execution_count": 17,
   "id": "29b4e03d-ac54-477c-bfd6-0db43b304ee8",
   "metadata": {},
   "outputs": [],
   "source": [
    "# transform to original form\n",
    "train_predict = scaler.inverse_transform(train_predict)\n",
    "test_predict = scaler.inverse_transform(test_predict)"
   ]
  },
  {
   "cell_type": "code",
   "execution_count": 18,
   "id": "b744a056",
   "metadata": {},
   "outputs": [
    {
     "name": "stdout",
     "output_type": "stream",
     "text": [
      "23/23 [==============================] - 1s 30ms/step\n"
     ]
    }
   ],
   "source": [
    "model_predictions = stock_model.predict(X_train)\n",
    "true_labels = Y_train"
   ]
  },
  {
   "cell_type": "code",
   "execution_count": 19,
   "id": "9afb05fc",
   "metadata": {},
   "outputs": [
    {
     "name": "stdout",
     "output_type": "stream",
     "text": [
      "Mean Absolute Error (MAE): 0.016496205308121088\n",
      "Mean Squared Error (MSE): 0.00046467627323748496\n",
      "R^2 Score: 0.979843144790168\n"
     ]
    }
   ],
   "source": [
    "from sklearn.metrics import mean_absolute_error, mean_squared_error, r2_score\n",
    "\n",
    "# Compute Mean Absolute Error (MAE)\n",
    "mae = mean_absolute_error(true_labels, model_predictions)\n",
    "print(\"Mean Absolute Error (MAE):\", mae)\n",
    "\n",
    "# Compute Mean Squared Error (MSE)\n",
    "mse = mean_squared_error(true_labels, model_predictions)\n",
    "print(\"Mean Squared Error (MSE):\", mse)\n",
    "\n",
    "# Compute R^2 Score\n",
    "r2 = r2_score(true_labels, model_predictions)\n",
    "print(\"R^2 Score:\", r2)"
   ]
  },
  {
   "cell_type": "code",
   "execution_count": 20,
   "id": "c41d1393-3b86-40a1-a60e-5738c4bd34fa",
   "metadata": {},
   "outputs": [],
   "source": [
    "look_back = 100\n",
    "\n",
    "trainPredictPlot = np.empty_like(df2)\n",
    "trainPredictPlot[:,:] = np.nan\n",
    "trainPredictPlot[look_back : len(train_predict)+look_back,:] = train_predict\n",
    "\n",
    "testPredictPlot = np.empty_like(df2)\n",
    "testPredictPlot[:,:] = np.nan\n",
    "testPredictPlot[len(train_predict)+(look_back)*2 + 1 : len(df2) - 1,:] = test_predict"
   ]
  },
  {
   "cell_type": "code",
   "execution_count": 21,
   "id": "bfdda7ab-8389-4155-8de1-852833ff062b",
   "metadata": {
    "scrolled": true
   },
   "outputs": [
    {
     "data": {
      "image/png": "[encoded data removed]",
      "text/plain": [
       "<Figure size 640x480 with 1 Axes>"
      ]
     },
     "metadata": {},
     "output_type": "display_data"
    }
   ],
   "source": [
    "plt.plot(scaler.inverse_transform(df2), label=\"Actual Data\")\n",
    "plt.plot(trainPredictPlot, label=\"Training Data\")\n",
    "plt.plot(testPredictPlot, label=\"Test Data\")\n",
    "\n",
    "plt.legend()\n",
    "plt.show()"
   ]
  },
  {
   "cell_type": "code",
   "execution_count": 22,
   "id": "4e8d1afe-3ea4-4223-bfc7-221878c3566c",
   "metadata": {},
   "outputs": [
    {
     "data": {
      "text/plain": [
       "(107, 100)"
      ]
     },
     "execution_count": 22,
     "metadata": {},
     "output_type": "execute_result"
    }
   ],
   "source": [
    "X_test.shape"
   ]
  },
  {
   "cell_type": "code",
   "execution_count": 23,
   "id": "5634ecde-26b1-4f2b-ae40-f0c63e6c9d70",
   "metadata": {},
   "outputs": [
    {
     "data": {
      "text/plain": [
       "array([[0.77847796, 0.76700057, 0.76918339, ..., 0.85966513, 0.86797402,\n",
       "        0.8464274 ],\n",
       "       [0.76700057, 0.76918339, 0.75819884, ..., 0.86797402, 0.8464274 ,\n",
       "        0.83171093],\n",
       "       [0.76918339, 0.75819884, 0.75812836, ..., 0.8464274 , 0.83171093,\n",
       "        0.84248424],\n",
       "       ...,\n",
       "       [0.86593206, 0.84072389, 0.82973924, ..., 0.93873997, 0.93106488,\n",
       "        0.93479681],\n",
       "       [0.84072389, 0.82973924, 0.83579483, ..., 0.93106488, 0.93479681,\n",
       "        0.92282637],\n",
       "       [0.82973924, 0.83579483, 0.84487828, ..., 0.93479681, 0.92282637,\n",
       "        0.90796904]])"
      ]
     },
     "execution_count": 23,
     "metadata": {},
     "output_type": "execute_result"
    }
   ],
   "source": [
    "X_test"
   ]
  },
  {
   "cell_type": "code",
   "execution_count": 24,
   "id": "776d41f2-41e1-4318-adcc-65bd98bd41d8",
   "metadata": {},
   "outputs": [
    {
     "name": "stdout",
     "output_type": "stream",
     "text": [
      "1/1 [==============================] - 0s 32ms/step\n"
     ]
    }
   ],
   "source": [
    "# Number of future days to predict\n",
    "future_days = 1\n",
    "future_predictions = []\n",
    "last_sequence = X_test[-1].reshape(1, -1)\n",
    "\n",
    "for i in range(future_days):\n",
    "    # Predict the next day's value with last sequence\n",
    "    next_prediction = stock_model.predict(last_sequence)\n",
    "    # Inverse transform to get the actual predicted value\n",
    "    next_prediction = scaler.inverse_transform(next_prediction)\n",
    "    # Append the prediction to the list of future predictions\n",
    "    future_predictions.append(next_prediction)\n",
    "    # Update last_sequence for the next prediction\n",
    "    last_sequence = next_prediction.reshape(1, -1)"
   ]
  },
  {
   "cell_type": "code",
   "execution_count": 25,
   "id": "8a4c230f-5f9b-47ac-9c66-6ac3b3f70211",
   "metadata": {
    "scrolled": true
   },
   "outputs": [
    {
     "data": {
      "text/plain": [
       "[array([[186.27725]], dtype=float32)]"
      ]
     },
     "execution_count": 25,
     "metadata": {},
     "output_type": "execute_result"
    }
   ],
   "source": [
    "future_predictions"
   ]
  },
  {
   "cell_type": "code",
   "execution_count": 26,
   "id": "36e3a750-ac7a-42b5-a680-6d478c39c987",
   "metadata": {},
   "outputs": [
    {
     "data": {
      "text/plain": [
       "array([[ 75.08750153],\n",
       "       [ 74.35749817],\n",
       "       [ 74.94999695],\n",
       "       ...,\n",
       "       [185.03999329],\n",
       "       [184.1499939 ],\n",
       "       [183.86000061]])"
      ]
     },
     "execution_count": 26,
     "metadata": {},
     "output_type": "execute_result"
    }
   ],
   "source": [
    "df2 = scaler.inverse_transform(df2)\n",
    "df2"
   ]
  },
  {
   "cell_type": "code",
   "execution_count": 27,
   "id": "c2979e3e-5955-4f78-af16-c5ba206be1e9",
   "metadata": {},
   "outputs": [],
   "source": [
    "df2 = pd.DataFrame(df2)"
   ]
  },
  {
   "cell_type": "code",
   "execution_count": 28,
   "id": "d5af77a1-3cbc-4c52-88ef-73e496400c06",
   "metadata": {},
   "outputs": [],
   "source": [
    "df2[['Close']] = df2"
   ]
  },
  {
   "cell_type": "code",
   "execution_count": 29,
   "id": "9d3537de-0388-4ffd-ac52-c7b884dc6dc5",
   "metadata": {},
   "outputs": [
    {
     "data": {
      "text/html": [
       "<div>\n",
       "<style scoped>\n",
       "    .dataframe tbody tr th:only-of-type {\n",
       "        vertical-align: middle;\n",
       "    }\n",
       "\n",
       "    .dataframe tbody tr th {\n",
       "        vertical-align: top;\n",
       "    }\n",
       "\n",
       "    .dataframe thead th {\n",
       "        text-align: right;\n",
       "    }\n",
       "</style>\n",
       "<table border=\"1\" class=\"dataframe\">\n",
       "  <thead>\n",
       "    <tr style=\"text-align: right;\">\n",
       "      <th></th>\n",
       "      <th>Close</th>\n",
       "    </tr>\n",
       "  </thead>\n",
       "  <tbody>\n",
       "    <tr>\n",
       "      <th>0</th>\n",
       "      <td>75.087502</td>\n",
       "    </tr>\n",
       "    <tr>\n",
       "      <th>1</th>\n",
       "      <td>74.357498</td>\n",
       "    </tr>\n",
       "    <tr>\n",
       "      <th>2</th>\n",
       "      <td>74.949997</td>\n",
       "    </tr>\n",
       "    <tr>\n",
       "      <th>3</th>\n",
       "      <td>74.597504</td>\n",
       "    </tr>\n",
       "    <tr>\n",
       "      <th>4</th>\n",
       "      <td>75.797501</td>\n",
       "    </tr>\n",
       "    <tr>\n",
       "      <th>...</th>\n",
       "      <td>...</td>\n",
       "    </tr>\n",
       "    <tr>\n",
       "      <th>1033</th>\n",
       "      <td>188.850006</td>\n",
       "    </tr>\n",
       "    <tr>\n",
       "      <th>1034</th>\n",
       "      <td>187.149994</td>\n",
       "    </tr>\n",
       "    <tr>\n",
       "      <th>1035</th>\n",
       "      <td>185.039993</td>\n",
       "    </tr>\n",
       "    <tr>\n",
       "      <th>1036</th>\n",
       "      <td>184.149994</td>\n",
       "    </tr>\n",
       "    <tr>\n",
       "      <th>1037</th>\n",
       "      <td>183.860001</td>\n",
       "    </tr>\n",
       "  </tbody>\n",
       "</table>\n",
       "<p>1038 rows × 1 columns</p>\n",
       "</div>"
      ],
      "text/plain": [
       "           Close\n",
       "0      75.087502\n",
       "1      74.357498\n",
       "2      74.949997\n",
       "3      74.597504\n",
       "4      75.797501\n",
       "...          ...\n",
       "1033  188.850006\n",
       "1034  187.149994\n",
       "1035  185.039993\n",
       "1036  184.149994\n",
       "1037  183.860001\n",
       "\n",
       "[1038 rows x 1 columns]"
      ]
     },
     "execution_count": 29,
     "metadata": {},
     "output_type": "execute_result"
    }
   ],
   "source": [
    "df2 = df2[['Close']]\n",
    "df2"
   ]
  },
  {
   "cell_type": "code",
   "execution_count": 30,
   "id": "4b93f5d0-beab-4bbe-bbe8-28ab1246c994",
   "metadata": {},
   "outputs": [
    {
     "name": "stderr",
     "output_type": "stream",
     "text": [
      "/var/folders/by/st2c4w_96757fgwg7jsfc4480000gn/T/ipykernel_8678/451293384.py:3: SettingWithCopyWarning: \n",
      "A value is trying to be set on a copy of a slice from a DataFrame.\n",
      "Try using .loc[row_indexer,col_indexer] = value instead\n",
      "\n",
      "See the caveats in the documentation: https://pandas.pydata.org/pandas-docs/stable/user_guide/indexing.html#returning-a-view-versus-a-copy\n",
      "  predict_data['Predictions']=next_prediction\n"
     ]
    },
    {
     "data": {
      "text/html": [
       "<div>\n",
       "<style scoped>\n",
       "    .dataframe tbody tr th:only-of-type {\n",
       "        vertical-align: middle;\n",
       "    }\n",
       "\n",
       "    .dataframe tbody tr th {\n",
       "        vertical-align: top;\n",
       "    }\n",
       "\n",
       "    .dataframe thead th {\n",
       "        text-align: right;\n",
       "    }\n",
       "</style>\n",
       "<table border=\"1\" class=\"dataframe\">\n",
       "  <thead>\n",
       "    <tr style=\"text-align: right;\">\n",
       "      <th></th>\n",
       "      <th>Close</th>\n",
       "      <th>Predictions</th>\n",
       "    </tr>\n",
       "  </thead>\n",
       "  <tbody>\n",
       "    <tr>\n",
       "      <th>1037</th>\n",
       "      <td>183.860001</td>\n",
       "      <td>186.277252</td>\n",
       "    </tr>\n",
       "  </tbody>\n",
       "</table>\n",
       "</div>"
      ],
      "text/plain": [
       "           Close  Predictions\n",
       "1037  183.860001   186.277252"
      ]
     },
     "execution_count": 30,
     "metadata": {},
     "output_type": "execute_result"
    }
   ],
   "source": [
    "model_data=df2[:1037]\n",
    "predict_data=df2[1037:]\n",
    "predict_data['Predictions']=next_prediction\n",
    "predict_data"
   ]
  },
  {
   "cell_type": "code",
   "execution_count": 31,
   "id": "49f955b8-5cd9-415b-ab75-9637d8e6bb70",
   "metadata": {
    "scrolled": true
   },
   "outputs": [
    {
     "data": {
      "text/html": [
       "<div>\n",
       "<style scoped>\n",
       "    .dataframe tbody tr th:only-of-type {\n",
       "        vertical-align: middle;\n",
       "    }\n",
       "\n",
       "    .dataframe tbody tr th {\n",
       "        vertical-align: top;\n",
       "    }\n",
       "\n",
       "    .dataframe thead th {\n",
       "        text-align: right;\n",
       "    }\n",
       "</style>\n",
       "<table border=\"1\" class=\"dataframe\">\n",
       "  <thead>\n",
       "    <tr style=\"text-align: right;\">\n",
       "      <th></th>\n",
       "      <th>Date</th>\n",
       "      <th>Symbol</th>\n",
       "      <th>Adj Close</th>\n",
       "      <th>Close</th>\n",
       "      <th>High</th>\n",
       "      <th>Low</th>\n",
       "      <th>Open</th>\n",
       "      <th>Volume</th>\n",
       "    </tr>\n",
       "  </thead>\n",
       "  <tbody>\n",
       "    <tr>\n",
       "      <th>1039</th>\n",
       "      <td>2024-02-20</td>\n",
       "      <td>AAPL</td>\n",
       "      <td>181.559998</td>\n",
       "      <td>181.559998</td>\n",
       "      <td>182.429993</td>\n",
       "      <td>180.000000</td>\n",
       "      <td>181.789993</td>\n",
       "      <td>53665600</td>\n",
       "    </tr>\n",
       "    <tr>\n",
       "      <th>1040</th>\n",
       "      <td>2024-02-21</td>\n",
       "      <td>AAPL</td>\n",
       "      <td>182.320007</td>\n",
       "      <td>182.320007</td>\n",
       "      <td>182.889999</td>\n",
       "      <td>180.660004</td>\n",
       "      <td>181.940002</td>\n",
       "      <td>41529700</td>\n",
       "    </tr>\n",
       "    <tr>\n",
       "      <th>1041</th>\n",
       "      <td>2024-02-22</td>\n",
       "      <td>AAPL</td>\n",
       "      <td>184.369995</td>\n",
       "      <td>184.369995</td>\n",
       "      <td>184.960007</td>\n",
       "      <td>182.460007</td>\n",
       "      <td>183.479996</td>\n",
       "      <td>52292200</td>\n",
       "    </tr>\n",
       "    <tr>\n",
       "      <th>1042</th>\n",
       "      <td>2024-02-23</td>\n",
       "      <td>AAPL</td>\n",
       "      <td>182.520004</td>\n",
       "      <td>182.520004</td>\n",
       "      <td>185.039993</td>\n",
       "      <td>182.229996</td>\n",
       "      <td>185.009995</td>\n",
       "      <td>45074500</td>\n",
       "    </tr>\n",
       "    <tr>\n",
       "      <th>1043</th>\n",
       "      <td>2024-02-26</td>\n",
       "      <td>AAPL</td>\n",
       "      <td>181.160004</td>\n",
       "      <td>181.160004</td>\n",
       "      <td>182.750000</td>\n",
       "      <td>180.649994</td>\n",
       "      <td>182.240005</td>\n",
       "      <td>40689520</td>\n",
       "    </tr>\n",
       "  </tbody>\n",
       "</table>\n",
       "</div>"
      ],
      "text/plain": [
       "           Date Symbol   Adj Close       Close        High         Low  \\\n",
       "1039 2024-02-20   AAPL  181.559998  181.559998  182.429993  180.000000   \n",
       "1040 2024-02-21   AAPL  182.320007  182.320007  182.889999  180.660004   \n",
       "1041 2024-02-22   AAPL  184.369995  184.369995  184.960007  182.460007   \n",
       "1042 2024-02-23   AAPL  182.520004  182.520004  185.039993  182.229996   \n",
       "1043 2024-02-26   AAPL  181.160004  181.160004  182.750000  180.649994   \n",
       "\n",
       "            Open    Volume  \n",
       "1039  181.789993  53665600  \n",
       "1040  181.940002  41529700  \n",
       "1041  183.479996  52292200  \n",
       "1042  185.009995  45074500  \n",
       "1043  182.240005  40689520  "
      ]
     },
     "execution_count": 31,
     "metadata": {},
     "output_type": "execute_result"
    }
   ],
   "source": [
    "apple_full_data = pd.read_excel(\"sp500_stocks_updated.csv.xlsx\")\n",
    "apple_full_data.tail()"
   ]
  },
  {
   "cell_type": "code",
   "execution_count": 32,
   "id": "2d63b698-0653-41d9-b6a2-8e8c6350f759",
   "metadata": {},
   "outputs": [],
   "source": [
    "apple_full_data = apple_full_data.reset_index()['Close']"
   ]
  },
  {
   "cell_type": "code",
   "execution_count": 33,
   "id": "58bb11fc-b6fc-4893-9010-1781e4197c06",
   "metadata": {},
   "outputs": [
    {
     "data": {
      "text/plain": [
       "(1044, 1)"
      ]
     },
     "execution_count": 33,
     "metadata": {},
     "output_type": "execute_result"
    }
   ],
   "source": [
    "scaler = MinMaxScaler()\n",
    "apple_full_data = scaler.fit_transform(np.array(apple_full_data).reshape(-1,1))\n",
    "apple_full_data.shape"
   ]
  },
  {
   "cell_type": "code",
   "execution_count": 34,
   "id": "dedae706-0139-4e09-a7a8-31a08e4f6323",
   "metadata": {
    "scrolled": true
   },
   "outputs": [
    {
     "data": {
      "text/plain": [
       "array([[0.88874609],\n",
       "       [0.88346505],\n",
       "       [0.88881657],\n",
       "       [0.90325132],\n",
       "       [0.89022482],\n",
       "       [0.88064853]])"
      ]
     },
     "execution_count": 34,
     "metadata": {},
     "output_type": "execute_result"
    }
   ],
   "source": [
    "last_10_days_data=apple_full_data[1038:,]\n",
    "last_10_days_data"
   ]
  },
  {
   "cell_type": "code",
   "execution_count": 35,
   "id": "5edb0186-2cdd-4553-8bfc-d4f7d38110a7",
   "metadata": {},
   "outputs": [],
   "source": [
    "train_size2 = int(len(apple_full_data)*0.80)\n",
    "test_size2 = len(apple_full_data) - train_size2\n",
    "train_data2,test_data2 = apple_full_data[0:train_size2,:],apple_full_data[train_size2:len(apple_full_data),:1]"
   ]
  },
  {
   "cell_type": "code",
   "execution_count": 36,
   "id": "f42d2885-716d-4064-8522-b3d100b50aa0",
   "metadata": {},
   "outputs": [],
   "source": [
    "time_step = 100\n",
    "X_train2,Y_train2 =  create_dataset(train_data2,time_step)\n",
    "X_test2,Y_test2 =  create_dataset(test_data2,time_step)"
   ]
  },
  {
   "cell_type": "code",
   "execution_count": 37,
   "id": "d77765a1-f72c-467e-8893-91f7bdf3dbfd",
   "metadata": {},
   "outputs": [
    {
     "data": {
      "text/plain": [
       "(108,)"
      ]
     },
     "execution_count": 37,
     "metadata": {},
     "output_type": "execute_result"
    }
   ],
   "source": [
    "Y_test2.shape"
   ]
  },
  {
   "cell_type": "code",
   "execution_count": 38,
   "id": "48464103-14ca-4334-b684-3221dadd7bf0",
   "metadata": {},
   "outputs": [],
   "source": [
    "stock_model = Sequential()\n",
    "stock_model.add(LSTM(50,return_sequences = True,input_shape = (X_train2.shape[1],1)))\n",
    "stock_model.add(LSTM(50,return_sequences = True))\n",
    "stock_model.add(LSTM(50))\n",
    "stock_model.add(Dense(1))\n",
    "stock_model.compile(optimizer = 'adam', loss = 'mean_squared_error')"
   ]
  },
  {
   "cell_type": "code",
   "execution_count": 39,
   "id": "b4e62746-bb01-47fa-9788-b30c51398e77",
   "metadata": {},
   "outputs": [
    {
     "name": "stdout",
     "output_type": "stream",
     "text": [
      "Epoch 1/100\n",
      "23/23 [==============================] - 8s 147ms/step - loss: 0.0359 - val_loss: 0.0019\n",
      "Epoch 2/100\n",
      "23/23 [==============================] - 2s 77ms/step - loss: 0.0044 - val_loss: 0.0100\n",
      "Epoch 3/100\n",
      "23/23 [==============================] - 2s 75ms/step - loss: 0.0030 - val_loss: 0.0049\n",
      "Epoch 4/100\n",
      "23/23 [==============================] - 2s 83ms/step - loss: 0.0026 - val_loss: 0.0042\n",
      "Epoch 5/100\n",
      "23/23 [==============================] - 2s 75ms/step - loss: 0.0025 - val_loss: 0.0027\n",
      "Epoch 6/100\n",
      "23/23 [==============================] - 2s 94ms/step - loss: 0.0026 - val_loss: 0.0017\n",
      "Epoch 7/100\n",
      "23/23 [==============================] - 2s 94ms/step - loss: 0.0025 - val_loss: 0.0018\n",
      "Epoch 8/100\n",
      "23/23 [==============================] - 2s 83ms/step - loss: 0.0023 - val_loss: 0.0024\n",
      "Epoch 9/100\n",
      "23/23 [==============================] - 2s 77ms/step - loss: 0.0024 - val_loss: 0.0029\n",
      "Epoch 10/100\n",
      "23/23 [==============================] - 2s 79ms/step - loss: 0.0022 - val_loss: 0.0038\n",
      "Epoch 11/100\n",
      "23/23 [==============================] - 2s 79ms/step - loss: 0.0022 - val_loss: 0.0016\n",
      "Epoch 12/100\n",
      "23/23 [==============================] - 2s 83ms/step - loss: 0.0021 - val_loss: 0.0026\n",
      "Epoch 13/100\n",
      "23/23 [==============================] - 2s 79ms/step - loss: 0.0019 - val_loss: 0.0015\n",
      "Epoch 14/100\n",
      "23/23 [==============================] - 2s 79ms/step - loss: 0.0019 - val_loss: 0.0026\n",
      "Epoch 15/100\n",
      "23/23 [==============================] - 2s 79ms/step - loss: 0.0017 - val_loss: 0.0017\n",
      "Epoch 16/100\n",
      "23/23 [==============================] - 2s 79ms/step - loss: 0.0018 - val_loss: 0.0068\n",
      "Epoch 17/100\n",
      "23/23 [==============================] - 2s 82ms/step - loss: 0.0022 - val_loss: 0.0056\n",
      "Epoch 18/100\n",
      "23/23 [==============================] - 2s 79ms/step - loss: 0.0020 - val_loss: 0.0017\n",
      "Epoch 19/100\n",
      "23/23 [==============================] - 2s 79ms/step - loss: 0.0022 - val_loss: 0.0022\n",
      "Epoch 20/100\n",
      "23/23 [==============================] - 2s 79ms/step - loss: 0.0016 - val_loss: 0.0013\n",
      "Epoch 21/100\n",
      "23/23 [==============================] - 2s 80ms/step - loss: 0.0015 - val_loss: 0.0024\n",
      "Epoch 22/100\n",
      "23/23 [==============================] - 2s 83ms/step - loss: 0.0014 - val_loss: 0.0014\n",
      "Epoch 23/100\n",
      "23/23 [==============================] - 2s 80ms/step - loss: 0.0014 - val_loss: 0.0027\n",
      "Epoch 24/100\n",
      "23/23 [==============================] - 2s 81ms/step - loss: 0.0014 - val_loss: 0.0014\n",
      "Epoch 25/100\n",
      "23/23 [==============================] - 2s 80ms/step - loss: 0.0013 - val_loss: 0.0027\n",
      "Epoch 26/100\n",
      "23/23 [==============================] - 2s 80ms/step - loss: 0.0014 - val_loss: 0.0010\n",
      "Epoch 27/100\n",
      "23/23 [==============================] - 2s 83ms/step - loss: 0.0012 - val_loss: 0.0017\n",
      "Epoch 28/100\n",
      "23/23 [==============================] - 2s 79ms/step - loss: 0.0013 - val_loss: 0.0024\n",
      "Epoch 29/100\n",
      "23/23 [==============================] - 2s 79ms/step - loss: 0.0014 - val_loss: 0.0029\n",
      "Epoch 30/100\n",
      "23/23 [==============================] - 2s 79ms/step - loss: 0.0014 - val_loss: 0.0013\n",
      "Epoch 31/100\n",
      "23/23 [==============================] - 2s 84ms/step - loss: 0.0011 - val_loss: 8.3750e-04\n",
      "Epoch 32/100\n",
      "23/23 [==============================] - 2s 80ms/step - loss: 0.0012 - val_loss: 8.5359e-04\n",
      "Epoch 33/100\n",
      "23/23 [==============================] - 2s 79ms/step - loss: 0.0011 - val_loss: 0.0023\n",
      "Epoch 34/100\n",
      "23/23 [==============================] - 2s 80ms/step - loss: 0.0012 - val_loss: 0.0021\n",
      "Epoch 35/100\n",
      "23/23 [==============================] - 2s 83ms/step - loss: 0.0011 - val_loss: 0.0012\n",
      "Epoch 36/100\n",
      "23/23 [==============================] - 2s 82ms/step - loss: 0.0012 - val_loss: 0.0015\n",
      "Epoch 37/100\n",
      "23/23 [==============================] - 2s 81ms/step - loss: 0.0011 - val_loss: 9.9877e-04\n",
      "Epoch 38/100\n",
      "23/23 [==============================] - 2s 79ms/step - loss: 9.3662e-04 - val_loss: 5.8749e-04\n",
      "Epoch 39/100\n",
      "23/23 [==============================] - 2s 84ms/step - loss: 9.1304e-04 - val_loss: 8.2902e-04\n",
      "Epoch 40/100\n",
      "23/23 [==============================] - 2s 80ms/step - loss: 8.3746e-04 - val_loss: 0.0018\n",
      "Epoch 41/100\n",
      "23/23 [==============================] - 2s 82ms/step - loss: 8.8602e-04 - val_loss: 5.3913e-04\n",
      "Epoch 42/100\n",
      "23/23 [==============================] - 2s 88ms/step - loss: 8.2802e-04 - val_loss: 7.6870e-04\n",
      "Epoch 43/100\n",
      "23/23 [==============================] - 2s 92ms/step - loss: 8.3788e-04 - val_loss: 6.3844e-04\n",
      "Epoch 44/100\n",
      "23/23 [==============================] - 2s 81ms/step - loss: 7.9746e-04 - val_loss: 6.0766e-04\n",
      "Epoch 45/100\n",
      "23/23 [==============================] - 2s 82ms/step - loss: 8.2605e-04 - val_loss: 4.9502e-04\n",
      "Epoch 46/100\n",
      "23/23 [==============================] - 2s 79ms/step - loss: 9.1036e-04 - val_loss: 4.8008e-04\n",
      "Epoch 47/100\n",
      "23/23 [==============================] - 2s 79ms/step - loss: 7.6056e-04 - val_loss: 5.5704e-04\n",
      "Epoch 48/100\n",
      "23/23 [==============================] - 2s 85ms/step - loss: 8.6227e-04 - val_loss: 4.2591e-04\n",
      "Epoch 49/100\n",
      "23/23 [==============================] - 2s 79ms/step - loss: 7.5373e-04 - val_loss: 8.9790e-04\n",
      "Epoch 50/100\n",
      "23/23 [==============================] - 2s 80ms/step - loss: 7.0280e-04 - val_loss: 0.0011\n",
      "Epoch 51/100\n",
      "23/23 [==============================] - 2s 80ms/step - loss: 7.5260e-04 - val_loss: 9.4692e-04\n",
      "Epoch 52/100\n",
      "23/23 [==============================] - 2s 83ms/step - loss: 7.7304e-04 - val_loss: 3.5817e-04\n",
      "Epoch 53/100\n",
      "23/23 [==============================] - 2s 80ms/step - loss: 6.8654e-04 - val_loss: 3.9707e-04\n",
      "Epoch 54/100\n",
      "23/23 [==============================] - 2s 78ms/step - loss: 7.2733e-04 - val_loss: 3.8252e-04\n",
      "Epoch 55/100\n",
      "23/23 [==============================] - 2s 81ms/step - loss: 7.6378e-04 - val_loss: 0.0015\n",
      "Epoch 56/100\n",
      "23/23 [==============================] - 2s 80ms/step - loss: 9.5284e-04 - val_loss: 3.1966e-04\n",
      "Epoch 57/100\n",
      "23/23 [==============================] - 2s 77ms/step - loss: 6.7423e-04 - val_loss: 6.8585e-04\n",
      "Epoch 58/100\n",
      "23/23 [==============================] - 2s 82ms/step - loss: 6.4284e-04 - val_loss: 9.6007e-04\n",
      "Epoch 59/100\n",
      "23/23 [==============================] - 2s 78ms/step - loss: 6.3391e-04 - val_loss: 5.3329e-04\n",
      "Epoch 60/100\n",
      "23/23 [==============================] - 2s 78ms/step - loss: 6.6262e-04 - val_loss: 2.9459e-04\n",
      "Epoch 61/100\n",
      "23/23 [==============================] - 2s 80ms/step - loss: 6.0782e-04 - val_loss: 9.3088e-04\n",
      "Epoch 62/100\n",
      "23/23 [==============================] - 2s 78ms/step - loss: 5.9421e-04 - val_loss: 3.1446e-04\n",
      "Epoch 63/100\n",
      "23/23 [==============================] - 2s 78ms/step - loss: 6.1894e-04 - val_loss: 2.7677e-04\n",
      "Epoch 64/100\n",
      "23/23 [==============================] - 2s 82ms/step - loss: 5.7994e-04 - val_loss: 2.7120e-04\n",
      "Epoch 65/100\n",
      "23/23 [==============================] - 2s 78ms/step - loss: 5.7501e-04 - val_loss: 3.2132e-04\n",
      "Epoch 66/100\n",
      "23/23 [==============================] - 2s 78ms/step - loss: 6.1404e-04 - val_loss: 5.9326e-04\n",
      "Epoch 67/100\n",
      "23/23 [==============================] - 2s 78ms/step - loss: 5.6843e-04 - val_loss: 0.0011\n",
      "Epoch 68/100\n",
      "23/23 [==============================] - 2s 79ms/step - loss: 5.9332e-04 - val_loss: 4.1022e-04\n",
      "Epoch 69/100\n",
      "23/23 [==============================] - 2s 90ms/step - loss: 5.2250e-04 - val_loss: 3.5290e-04\n",
      "Epoch 70/100\n",
      "23/23 [==============================] - 2s 79ms/step - loss: 6.2416e-04 - val_loss: 6.7347e-04\n",
      "Epoch 71/100\n",
      "23/23 [==============================] - 2s 79ms/step - loss: 5.8699e-04 - val_loss: 2.4394e-04\n",
      "Epoch 72/100\n",
      "23/23 [==============================] - 2s 83ms/step - loss: 5.9503e-04 - val_loss: 3.0776e-04\n",
      "Epoch 73/100\n",
      "23/23 [==============================] - 2s 78ms/step - loss: 5.1448e-04 - val_loss: 3.0768e-04\n",
      "Epoch 74/100\n",
      "23/23 [==============================] - 2s 78ms/step - loss: 6.4411e-04 - val_loss: 0.0022\n",
      "Epoch 75/100\n",
      "23/23 [==============================] - 2s 87ms/step - loss: 5.6907e-04 - val_loss: 2.3906e-04\n",
      "Epoch 76/100\n",
      "23/23 [==============================] - 2s 82ms/step - loss: 5.2969e-04 - val_loss: 2.4352e-04\n",
      "Epoch 77/100\n",
      "23/23 [==============================] - 2s 82ms/step - loss: 4.6833e-04 - val_loss: 6.9971e-04\n",
      "Epoch 78/100\n",
      "23/23 [==============================] - 2s 78ms/step - loss: 4.8116e-04 - val_loss: 9.3578e-04\n",
      "Epoch 79/100\n",
      "23/23 [==============================] - 2s 78ms/step - loss: 4.7634e-04 - val_loss: 4.6613e-04\n",
      "Epoch 80/100\n",
      "23/23 [==============================] - 2s 83ms/step - loss: 4.7297e-04 - val_loss: 2.3805e-04\n",
      "Epoch 81/100\n",
      "23/23 [==============================] - 2s 77ms/step - loss: 4.6332e-04 - val_loss: 2.5710e-04\n",
      "Epoch 82/100\n",
      "23/23 [==============================] - 2s 78ms/step - loss: 4.8232e-04 - val_loss: 7.9836e-04\n",
      "Epoch 83/100\n",
      "23/23 [==============================] - 2s 84ms/step - loss: 5.0235e-04 - val_loss: 2.2084e-04\n",
      "Epoch 84/100\n",
      "23/23 [==============================] - 2s 81ms/step - loss: 4.6054e-04 - val_loss: 4.0626e-04\n",
      "Epoch 85/100\n",
      "23/23 [==============================] - 2s 82ms/step - loss: 5.7977e-04 - val_loss: 5.1587e-04\n",
      "Epoch 86/100\n",
      "23/23 [==============================] - 2s 79ms/step - loss: 4.7686e-04 - val_loss: 2.4165e-04\n",
      "Epoch 87/100\n",
      "23/23 [==============================] - 2s 82ms/step - loss: 5.2945e-04 - val_loss: 7.6851e-04\n",
      "Epoch 88/100\n",
      "23/23 [==============================] - 2s 80ms/step - loss: 4.9814e-04 - val_loss: 2.2394e-04\n",
      "Epoch 89/100\n",
      "23/23 [==============================] - 2s 82ms/step - loss: 4.7100e-04 - val_loss: 4.0416e-04\n",
      "Epoch 90/100\n",
      "23/23 [==============================] - 2s 80ms/step - loss: 4.1953e-04 - val_loss: 6.1220e-04\n",
      "Epoch 91/100\n",
      "23/23 [==============================] - 2s 80ms/step - loss: 5.7647e-04 - val_loss: 3.2745e-04\n",
      "Epoch 92/100\n",
      "23/23 [==============================] - 2s 82ms/step - loss: 4.5485e-04 - val_loss: 0.0018\n",
      "Epoch 93/100\n",
      "23/23 [==============================] - 2s 78ms/step - loss: 5.1690e-04 - val_loss: 3.7659e-04\n",
      "Epoch 94/100\n",
      "23/23 [==============================] - 2s 82ms/step - loss: 4.6847e-04 - val_loss: 3.3706e-04\n",
      "Epoch 95/100\n",
      "23/23 [==============================] - 2s 78ms/step - loss: 4.8454e-04 - val_loss: 3.3471e-04\n",
      "Epoch 96/100\n",
      "23/23 [==============================] - 2s 83ms/step - loss: 4.7046e-04 - val_loss: 2.0241e-04\n",
      "Epoch 97/100\n",
      "23/23 [==============================] - 2s 83ms/step - loss: 5.0000e-04 - val_loss: 0.0012\n",
      "Epoch 98/100\n",
      "23/23 [==============================] - 2s 87ms/step - loss: 4.8217e-04 - val_loss: 2.0212e-04\n",
      "Epoch 99/100\n",
      "23/23 [==============================] - 2s 82ms/step - loss: 4.6879e-04 - val_loss: 6.6156e-04\n",
      "Epoch 100/100\n",
      "23/23 [==============================] - 2s 83ms/step - loss: 4.4710e-04 - val_loss: 2.0250e-04\n"
     ]
    },
    {
     "data": {
      "text/plain": [
       "<keras.src.callbacks.History at 0x7fd016f0a2f0>"
      ]
     },
     "execution_count": 39,
     "metadata": {},
     "output_type": "execute_result"
    }
   ],
   "source": [
    "stock_model.fit(X_train2,Y_train2,validation_data = (X_test2,Y_test2),epochs = 100,batch_size = 32,verbose = 1)"
   ]
  },
  {
   "cell_type": "code",
   "execution_count": 40,
   "id": "ef3488ef-bc0d-404b-ba22-6e4b5dcaf30d",
   "metadata": {},
   "outputs": [
    {
     "name": "stdout",
     "output_type": "stream",
     "text": [
      "23/23 [==============================] - 2s 31ms/step\n",
      "4/4 [==============================] - 0s 37ms/step\n"
     ]
    }
   ],
   "source": [
    "train_predict2 = stock_model.predict(X_train2)\n",
    "test_predict2 = stock_model.predict(X_test2)"
   ]
  },
  {
   "cell_type": "code",
   "execution_count": 41,
   "id": "55bb0afa-109b-4b41-b533-914b850d6730",
   "metadata": {},
   "outputs": [],
   "source": [
    "# transform to original form\n",
    "train_predict2 = scaler.inverse_transform(train_predict2)\n",
    "test_predict2 = scaler.inverse_transform(test_predict2)"
   ]
  },
  {
   "cell_type": "code",
   "execution_count": 42,
   "id": "8ebc87f8-1022-4d8f-a8bc-e742c38eb479",
   "metadata": {},
   "outputs": [
    {
     "name": "stdout",
     "output_type": "stream",
     "text": [
      "23/23 [==============================] - 1s 32ms/step\n"
     ]
    }
   ],
   "source": [
    "model_predictions = stock_model.predict(X_train2)\n",
    "true_labels = Y_train2"
   ]
  },
  {
   "cell_type": "code",
   "execution_count": 43,
   "id": "0d60d9ef-7f4e-4e4d-8f2d-0e2862239d24",
   "metadata": {},
   "outputs": [],
   "source": [
    "look_back = 100\n",
    "\n",
    "trainPredictPlot = np.empty_like(df2)\n",
    "trainPredictPlot[:,:] = np.nan\n",
    "trainPredictPlot[look_back : len(train_predict)+look_back,:] = train_predict\n",
    "\n",
    "testPredictPlot = np.empty_like(df2)\n",
    "testPredictPlot[:,:] = np.nan\n",
    "testPredictPlot[len(train_predict)+(look_back)*2 + 1 : len(df2) - 1,:] = test_predict\n",
    "\n",
    "truePredictPlot = np.empty_like(apple_full_data)\n",
    "truePredictPlot[:,:] = np.nan\n",
    "reshaped_test_predict2 = test_predict2[-6:, :]\n",
    "truePredictPlot[-6:, :] = reshaped_test_predict2"
   ]
  },
  {
   "cell_type": "code",
   "execution_count": 44,
   "id": "21362511-c6e6-4a40-985a-55ca53b06d57",
   "metadata": {},
   "outputs": [
    {
     "data": {
      "text/plain": [
       "array([[0.88874609],\n",
       "       [0.88346505],\n",
       "       [0.88881657],\n",
       "       [0.90325132],\n",
       "       [0.89022482],\n",
       "       [0.88064853]])"
      ]
     },
     "execution_count": 44,
     "metadata": {},
     "output_type": "execute_result"
    }
   ],
   "source": [
    "last_10_days_data"
   ]
  },
  {
   "cell_type": "code",
   "execution_count": 45,
   "id": "6690213f-f3e7-4914-b7a1-04941d31de04",
   "metadata": {},
   "outputs": [
    {
     "data": {
      "text/plain": [
       "array([[0.88874609],\n",
       "       [0.88346505],\n",
       "       [0.88881657],\n",
       "       [0.90325132],\n",
       "       [0.89022482],\n",
       "       [0.88064853]])"
      ]
     },
     "execution_count": 45,
     "metadata": {},
     "output_type": "execute_result"
    }
   ],
   "source": [
    "apple_full_data[1038:,]"
   ]
  },
  {
   "cell_type": "code",
   "execution_count": 46,
   "id": "4ca718e6-b723-4a0f-8b99-57f4a2f881ab",
   "metadata": {},
   "outputs": [],
   "source": [
    "apple_full_data = scaler.inverse_transform(apple_full_data)"
   ]
  },
  {
   "cell_type": "code",
   "execution_count": 47,
   "id": "a047916b-8de6-43aa-a371-16a41f18b99c",
   "metadata": {},
   "outputs": [],
   "source": [
    "apple_full_data = pd.DataFrame(apple_full_data)"
   ]
  },
  {
   "cell_type": "code",
   "execution_count": 48,
   "id": "7d0c4d49-d823-490c-b718-b1d35cea8d28",
   "metadata": {},
   "outputs": [
    {
     "data": {
      "text/html": [
       "<div>\n",
       "<style scoped>\n",
       "    .dataframe tbody tr th:only-of-type {\n",
       "        vertical-align: middle;\n",
       "    }\n",
       "\n",
       "    .dataframe tbody tr th {\n",
       "        vertical-align: top;\n",
       "    }\n",
       "\n",
       "    .dataframe thead th {\n",
       "        text-align: right;\n",
       "    }\n",
       "</style>\n",
       "<table border=\"1\" class=\"dataframe\">\n",
       "  <thead>\n",
       "    <tr style=\"text-align: right;\">\n",
       "      <th></th>\n",
       "      <th>0</th>\n",
       "    </tr>\n",
       "  </thead>\n",
       "  <tbody>\n",
       "    <tr>\n",
       "      <th>0</th>\n",
       "      <td>75.087502</td>\n",
       "    </tr>\n",
       "    <tr>\n",
       "      <th>1</th>\n",
       "      <td>74.357498</td>\n",
       "    </tr>\n",
       "    <tr>\n",
       "      <th>2</th>\n",
       "      <td>74.949997</td>\n",
       "    </tr>\n",
       "    <tr>\n",
       "      <th>3</th>\n",
       "      <td>74.597504</td>\n",
       "    </tr>\n",
       "    <tr>\n",
       "      <th>4</th>\n",
       "      <td>75.797501</td>\n",
       "    </tr>\n",
       "    <tr>\n",
       "      <th>...</th>\n",
       "      <td>...</td>\n",
       "    </tr>\n",
       "    <tr>\n",
       "      <th>1039</th>\n",
       "      <td>181.559998</td>\n",
       "    </tr>\n",
       "    <tr>\n",
       "      <th>1040</th>\n",
       "      <td>182.320007</td>\n",
       "    </tr>\n",
       "    <tr>\n",
       "      <th>1041</th>\n",
       "      <td>184.369995</td>\n",
       "    </tr>\n",
       "    <tr>\n",
       "      <th>1042</th>\n",
       "      <td>182.520004</td>\n",
       "    </tr>\n",
       "    <tr>\n",
       "      <th>1043</th>\n",
       "      <td>181.160004</td>\n",
       "    </tr>\n",
       "  </tbody>\n",
       "</table>\n",
       "<p>1044 rows × 1 columns</p>\n",
       "</div>"
      ],
      "text/plain": [
       "               0\n",
       "0      75.087502\n",
       "1      74.357498\n",
       "2      74.949997\n",
       "3      74.597504\n",
       "4      75.797501\n",
       "...          ...\n",
       "1039  181.559998\n",
       "1040  182.320007\n",
       "1041  184.369995\n",
       "1042  182.520004\n",
       "1043  181.160004\n",
       "\n",
       "[1044 rows x 1 columns]"
      ]
     },
     "execution_count": 48,
     "metadata": {},
     "output_type": "execute_result"
    }
   ],
   "source": [
    "apple_full_data"
   ]
  },
  {
   "cell_type": "code",
   "execution_count": 49,
   "id": "a6a5362e-ab41-4918-bbcc-819fd99fc449",
   "metadata": {
    "scrolled": true
   },
   "outputs": [
    {
     "data": {
      "text/html": [
       "<div>\n",
       "<style scoped>\n",
       "    .dataframe tbody tr th:only-of-type {\n",
       "        vertical-align: middle;\n",
       "    }\n",
       "\n",
       "    .dataframe tbody tr th {\n",
       "        vertical-align: top;\n",
       "    }\n",
       "\n",
       "    .dataframe thead th {\n",
       "        text-align: right;\n",
       "    }\n",
       "</style>\n",
       "<table border=\"1\" class=\"dataframe\">\n",
       "  <thead>\n",
       "    <tr style=\"text-align: right;\">\n",
       "      <th></th>\n",
       "      <th>0</th>\n",
       "    </tr>\n",
       "  </thead>\n",
       "  <tbody>\n",
       "    <tr>\n",
       "      <th>1038</th>\n",
       "      <td>182.309998</td>\n",
       "    </tr>\n",
       "    <tr>\n",
       "      <th>1039</th>\n",
       "      <td>181.559998</td>\n",
       "    </tr>\n",
       "    <tr>\n",
       "      <th>1040</th>\n",
       "      <td>182.320007</td>\n",
       "    </tr>\n",
       "    <tr>\n",
       "      <th>1041</th>\n",
       "      <td>184.369995</td>\n",
       "    </tr>\n",
       "    <tr>\n",
       "      <th>1042</th>\n",
       "      <td>182.520004</td>\n",
       "    </tr>\n",
       "    <tr>\n",
       "      <th>1043</th>\n",
       "      <td>181.160004</td>\n",
       "    </tr>\n",
       "  </tbody>\n",
       "</table>\n",
       "</div>"
      ],
      "text/plain": [
       "               0\n",
       "1038  182.309998\n",
       "1039  181.559998\n",
       "1040  182.320007\n",
       "1041  184.369995\n",
       "1042  182.520004\n",
       "1043  181.160004"
      ]
     },
     "execution_count": 49,
     "metadata": {},
     "output_type": "execute_result"
    }
   ],
   "source": [
    "last_10_days_data=apple_full_data.iloc[1038:,]\n",
    "last_10_days_data"
   ]
  },
  {
   "cell_type": "code",
   "execution_count": 50,
   "id": "377235c6-2715-4b90-b97b-664512779036",
   "metadata": {},
   "outputs": [
    {
     "data": {
      "text/plain": [
       "array([[184.13205],\n",
       "       [183.91148],\n",
       "       [182.20581],\n",
       "       [181.56741],\n",
       "       [182.45459],\n",
       "       [184.513  ]], dtype=float32)"
      ]
     },
     "execution_count": 50,
     "metadata": {},
     "output_type": "execute_result"
    }
   ],
   "source": [
    "test_predict2[-6:,]"
   ]
  },
  {
   "cell_type": "code",
   "execution_count": 53,
   "id": "06c4f9cc-6062-4cf7-ae18-aa64b9b6c5bc",
   "metadata": {
    "scrolled": true
   },
   "outputs": [
    {
     "data": {
      "image/png": "[encoded data removed]",
      "text/plain": [
       "<Figure size 640x480 with 1 Axes>"
      ]
     },
     "metadata": {},
     "output_type": "display_data"
    }
   ],
   "source": [
    "plt.plot(df2, label=\"Original Data\", linewidth=2)\n",
    "plt.plot(trainPredictPlot, label=\"Training Data\", linewidth=2)\n",
    "plt.plot(testPredictPlot, label=\"Test Data\", linewidth=2)\n",
    "plt.plot(last_10_days_data, label=\"Last 10 Days Actual Data\", linewidth=3)\n",
    "plt.plot(truePredictPlot, label=\"Predicted Data\", linewidth=3)\n",
    "\n",
    "plt.legend()\n",
    "plt.show()"
   ]
  },
  {
   "cell_type": "code",
   "execution_count": 54,
   "id": "50cf75bc-6fac-47aa-8894-11a741ecbe25",
   "metadata": {},
   "outputs": [
    {
     "data": {
      "image/png": "[encoded data removed]",
      "text/plain": [
       "<Figure size 640x480 with 1 Axes>"
      ]
     },
     "metadata": {},
     "output_type": "display_data"
    }
   ],
   "source": [
    "plt.plot(df2, label=\"Original Data\")\n",
    "plt.plot(trainPredictPlot, label=\"Training Data\")\n",
    "plt.plot(testPredictPlot, label=\"Test Data\")\n",
    "plt.plot(last_10_days_data, label=\"Last 10 Days Actual Data\", linewidth=3)\n",
    "plt.plot(truePredictPlot, label=\"Predicted Data\", linewidth=3)\n",
    "\n",
    "plt.xlim(930, )\n",
    "\n",
    "plt.legend()\n",
    "plt.show()"
   ]
  },
  {
   "cell_type": "code",
   "execution_count": null,
   "id": "4dab247c-f378-4f60-8f99-12ae35192e4f",
   "metadata": {},
   "outputs": [],
   "source": []
  }
 ],
 "metadata": {
  "kernelspec": {
   "display_name": "Python 3 (ipykernel)",
   "language": "python",
   "name": "python3"
  },
  "language_info": {
   "codemirror_mode": {
    "name": "ipython",
    "version": 3
   },
   "file_extension": ".py",
   "mimetype": "text/x-python",
   "name": "python",
   "nbconvert_exporter": "python",
   "pygments_lexer": "ipython3",
   "version": "3.10.13"
  }
 },
 "nbformat": 4,
 "nbformat_minor": 5
}
