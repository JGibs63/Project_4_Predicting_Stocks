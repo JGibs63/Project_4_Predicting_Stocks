{
 "cells": [
  {
   "cell_type": "code",
   "execution_count": 60,
   "id": "07d075dc-fac5-44a9-baf3-090121c4cc79",
   "metadata": {
    "scrolled": true
   },
   "outputs": [
    {
     "name": "stdout",
     "output_type": "stream",
     "text": [
      "Requirement already satisfied: tensorflow in /Users/joshuagibson/anaconda3/envs/dev/lib/python3.10/site-packages (2.15.0)\n",
      "Requirement already satisfied: absl-py>=1.0.0 in /Users/joshuagibson/anaconda3/envs/dev/lib/python3.10/site-packages (from tensorflow) (2.1.0)\n",
      "Requirement already satisfied: astunparse>=1.6.0 in /Users/joshuagibson/anaconda3/envs/dev/lib/python3.10/site-packages (from tensorflow) (1.6.3)\n",
      "Requirement already satisfied: flatbuffers>=23.5.26 in /Users/joshuagibson/anaconda3/envs/dev/lib/python3.10/site-packages (from tensorflow) (23.5.26)\n",
      "Requirement already satisfied: gast!=0.5.0,!=0.5.1,!=0.5.2,>=0.2.1 in /Users/joshuagibson/anaconda3/envs/dev/lib/python3.10/site-packages (from tensorflow) (0.5.4)\n",
      "Requirement already satisfied: google-pasta>=0.1.1 in /Users/joshuagibson/anaconda3/envs/dev/lib/python3.10/site-packages (from tensorflow) (0.2.0)\n",
      "Requirement already satisfied: h5py>=2.9.0 in /Users/joshuagibson/anaconda3/envs/dev/lib/python3.10/site-packages (from tensorflow) (3.10.0)\n",
      "Requirement already satisfied: libclang>=13.0.0 in /Users/joshuagibson/anaconda3/envs/dev/lib/python3.10/site-packages (from tensorflow) (16.0.6)\n",
      "Requirement already satisfied: ml-dtypes~=0.2.0 in /Users/joshuagibson/anaconda3/envs/dev/lib/python3.10/site-packages (from tensorflow) (0.2.0)\n",
      "Requirement already satisfied: numpy<2.0.0,>=1.23.5 in /Users/joshuagibson/anaconda3/envs/dev/lib/python3.10/site-packages (from tensorflow) (1.26.3)\n",
      "Requirement already satisfied: opt-einsum>=2.3.2 in /Users/joshuagibson/anaconda3/envs/dev/lib/python3.10/site-packages (from tensorflow) (3.3.0)\n",
      "Requirement already satisfied: packaging in /Users/joshuagibson/anaconda3/envs/dev/lib/python3.10/site-packages (from tensorflow) (23.1)\n",
      "Requirement already satisfied: protobuf!=4.21.0,!=4.21.1,!=4.21.2,!=4.21.3,!=4.21.4,!=4.21.5,<5.0.0dev,>=3.20.3 in /Users/joshuagibson/anaconda3/envs/dev/lib/python3.10/site-packages (from tensorflow) (4.23.4)\n",
      "Requirement already satisfied: setuptools in /Users/joshuagibson/anaconda3/envs/dev/lib/python3.10/site-packages (from tensorflow) (68.2.2)\n",
      "Requirement already satisfied: six>=1.12.0 in /Users/joshuagibson/anaconda3/envs/dev/lib/python3.10/site-packages (from tensorflow) (1.16.0)\n",
      "Requirement already satisfied: termcolor>=1.1.0 in /Users/joshuagibson/anaconda3/envs/dev/lib/python3.10/site-packages (from tensorflow) (2.4.0)\n",
      "Requirement already satisfied: typing-extensions>=3.6.6 in /Users/joshuagibson/anaconda3/envs/dev/lib/python3.10/site-packages (from tensorflow) (4.9.0)\n",
      "Requirement already satisfied: wrapt<1.15,>=1.11.0 in /Users/joshuagibson/anaconda3/envs/dev/lib/python3.10/site-packages (from tensorflow) (1.14.1)\n",
      "Requirement already satisfied: tensorflow-io-gcs-filesystem>=0.23.1 in /Users/joshuagibson/anaconda3/envs/dev/lib/python3.10/site-packages (from tensorflow) (0.36.0)\n",
      "Requirement already satisfied: grpcio<2.0,>=1.24.3 in /Users/joshuagibson/anaconda3/envs/dev/lib/python3.10/site-packages (from tensorflow) (1.60.1)\n",
      "Requirement already satisfied: tensorboard<2.16,>=2.15 in /Users/joshuagibson/anaconda3/envs/dev/lib/python3.10/site-packages (from tensorflow) (2.15.1)\n",
      "Requirement already satisfied: tensorflow-estimator<2.16,>=2.15.0 in /Users/joshuagibson/anaconda3/envs/dev/lib/python3.10/site-packages (from tensorflow) (2.15.0)\n",
      "Requirement already satisfied: keras<2.16,>=2.15.0 in /Users/joshuagibson/anaconda3/envs/dev/lib/python3.10/site-packages (from tensorflow) (2.15.0)\n",
      "Requirement already satisfied: wheel<1.0,>=0.23.0 in /Users/joshuagibson/anaconda3/envs/dev/lib/python3.10/site-packages (from astunparse>=1.6.0->tensorflow) (0.41.2)\n",
      "Requirement already satisfied: google-auth<3,>=1.6.3 in /Users/joshuagibson/anaconda3/envs/dev/lib/python3.10/site-packages (from tensorboard<2.16,>=2.15->tensorflow) (2.27.0)\n",
      "Requirement already satisfied: google-auth-oauthlib<2,>=0.5 in /Users/joshuagibson/anaconda3/envs/dev/lib/python3.10/site-packages (from tensorboard<2.16,>=2.15->tensorflow) (1.2.0)\n",
      "Requirement already satisfied: markdown>=2.6.8 in /Users/joshuagibson/anaconda3/envs/dev/lib/python3.10/site-packages (from tensorboard<2.16,>=2.15->tensorflow) (3.4.1)\n",
      "Requirement already satisfied: requests<3,>=2.21.0 in /Users/joshuagibson/anaconda3/envs/dev/lib/python3.10/site-packages (from tensorboard<2.16,>=2.15->tensorflow) (2.31.0)\n",
      "Requirement already satisfied: tensorboard-data-server<0.8.0,>=0.7.0 in /Users/joshuagibson/anaconda3/envs/dev/lib/python3.10/site-packages (from tensorboard<2.16,>=2.15->tensorflow) (0.7.2)\n",
      "Requirement already satisfied: werkzeug>=1.0.1 in /Users/joshuagibson/anaconda3/envs/dev/lib/python3.10/site-packages (from tensorboard<2.16,>=2.15->tensorflow) (3.0.1)\n",
      "Requirement already satisfied: cachetools<6.0,>=2.0.0 in /Users/joshuagibson/anaconda3/envs/dev/lib/python3.10/site-packages (from google-auth<3,>=1.6.3->tensorboard<2.16,>=2.15->tensorflow) (5.3.2)\n",
      "Requirement already satisfied: pyasn1-modules>=0.2.1 in /Users/joshuagibson/anaconda3/envs/dev/lib/python3.10/site-packages (from google-auth<3,>=1.6.3->tensorboard<2.16,>=2.15->tensorflow) (0.3.0)\n",
      "Requirement already satisfied: rsa<5,>=3.1.4 in /Users/joshuagibson/anaconda3/envs/dev/lib/python3.10/site-packages (from google-auth<3,>=1.6.3->tensorboard<2.16,>=2.15->tensorflow) (4.9)\n",
      "Requirement already satisfied: requests-oauthlib>=0.7.0 in /Users/joshuagibson/anaconda3/envs/dev/lib/python3.10/site-packages (from google-auth-oauthlib<2,>=0.5->tensorboard<2.16,>=2.15->tensorflow) (1.3.1)\n",
      "Requirement already satisfied: charset-normalizer<4,>=2 in /Users/joshuagibson/anaconda3/envs/dev/lib/python3.10/site-packages (from requests<3,>=2.21.0->tensorboard<2.16,>=2.15->tensorflow) (2.0.4)\n",
      "Requirement already satisfied: idna<4,>=2.5 in /Users/joshuagibson/anaconda3/envs/dev/lib/python3.10/site-packages (from requests<3,>=2.21.0->tensorboard<2.16,>=2.15->tensorflow) (3.4)\n",
      "Requirement already satisfied: urllib3<3,>=1.21.1 in /Users/joshuagibson/anaconda3/envs/dev/lib/python3.10/site-packages (from requests<3,>=2.21.0->tensorboard<2.16,>=2.15->tensorflow) (1.26.18)\n",
      "Requirement already satisfied: certifi>=2017.4.17 in /Users/joshuagibson/anaconda3/envs/dev/lib/python3.10/site-packages (from requests<3,>=2.21.0->tensorboard<2.16,>=2.15->tensorflow) (2024.2.2)\n",
      "Requirement already satisfied: MarkupSafe>=2.1.1 in /Users/joshuagibson/anaconda3/envs/dev/lib/python3.10/site-packages (from werkzeug>=1.0.1->tensorboard<2.16,>=2.15->tensorflow) (2.1.3)\n",
      "Requirement already satisfied: pyasn1<0.6.0,>=0.4.6 in /Users/joshuagibson/anaconda3/envs/dev/lib/python3.10/site-packages (from pyasn1-modules>=0.2.1->google-auth<3,>=1.6.3->tensorboard<2.16,>=2.15->tensorflow) (0.5.1)\n",
      "Requirement already satisfied: oauthlib>=3.0.0 in /Users/joshuagibson/anaconda3/envs/dev/lib/python3.10/site-packages (from requests-oauthlib>=0.7.0->google-auth-oauthlib<2,>=0.5->tensorboard<2.16,>=2.15->tensorflow) (3.2.2)\n",
      "Note: you may need to restart the kernel to use updated packages.\n"
     ]
    }
   ],
   "source": [
    "pip install tensorflow"
   ]
  },
  {
   "cell_type": "code",
   "execution_count": 61,
   "id": "1db81bb1-1326-44a2-b007-5adc7c8865b0",
   "metadata": {
    "scrolled": true
   },
   "outputs": [
    {
     "name": "stdout",
     "output_type": "stream",
     "text": [
      "Requirement already satisfied: openpyxl in /Users/joshuagibson/anaconda3/envs/dev/lib/python3.10/site-packages (3.1.2)\n",
      "Requirement already satisfied: et-xmlfile in /Users/joshuagibson/anaconda3/envs/dev/lib/python3.10/site-packages (from openpyxl) (1.1.0)\n",
      "Note: you may need to restart the kernel to use updated packages.\n"
     ]
    }
   ],
   "source": [
    "pip install openpyxl"
   ]
  },
  {
   "cell_type": "code",
   "execution_count": 62,
   "id": "42573839-52af-4074-bbf1-2b5a81900ccd",
   "metadata": {},
   "outputs": [],
   "source": [
    "# Import our dependencies\n",
    "from sklearn.model_selection import train_test_split\n",
    "from sklearn.preprocessing import StandardScaler\n",
    "from sklearn.preprocessing import MinMaxScaler\n",
    "import pandas as pd\n",
    "import tensorflow as tf\n",
    "import numpy as np\n",
    "from pathlib import Path\n",
    "from keras.models import Sequential\n",
    "from keras.layers import LSTM,Dropout,Dense\n",
    "import matplotlib.pyplot as plt"
   ]
  },
  {
   "cell_type": "code",
   "execution_count": 63,
   "id": "886064b9-f602-4a1b-b1fd-6bb0efdb93c0",
   "metadata": {},
   "outputs": [
    {
     "data": {
      "text/html": [
       "<div>\n",
       "<style scoped>\n",
       "    .dataframe tbody tr th:only-of-type {\n",
       "        vertical-align: middle;\n",
       "    }\n",
       "\n",
       "    .dataframe tbody tr th {\n",
       "        vertical-align: top;\n",
       "    }\n",
       "\n",
       "    .dataframe thead th {\n",
       "        text-align: right;\n",
       "    }\n",
       "</style>\n",
       "<table border=\"1\" class=\"dataframe\">\n",
       "  <thead>\n",
       "    <tr style=\"text-align: right;\">\n",
       "      <th></th>\n",
       "      <th>Date</th>\n",
       "      <th>S&amp;P500</th>\n",
       "    </tr>\n",
       "  </thead>\n",
       "  <tbody>\n",
       "    <tr>\n",
       "      <th>0</th>\n",
       "      <td>2014-02-18</td>\n",
       "      <td>1840.76</td>\n",
       "    </tr>\n",
       "    <tr>\n",
       "      <th>1</th>\n",
       "      <td>2014-02-19</td>\n",
       "      <td>1828.75</td>\n",
       "    </tr>\n",
       "    <tr>\n",
       "      <th>2</th>\n",
       "      <td>2014-02-20</td>\n",
       "      <td>1839.78</td>\n",
       "    </tr>\n",
       "    <tr>\n",
       "      <th>3</th>\n",
       "      <td>2014-02-21</td>\n",
       "      <td>1836.25</td>\n",
       "    </tr>\n",
       "    <tr>\n",
       "      <th>4</th>\n",
       "      <td>2014-02-24</td>\n",
       "      <td>1847.61</td>\n",
       "    </tr>\n",
       "    <tr>\n",
       "      <th>...</th>\n",
       "      <td>...</td>\n",
       "      <td>...</td>\n",
       "    </tr>\n",
       "    <tr>\n",
       "      <th>2511</th>\n",
       "      <td>2024-02-08</td>\n",
       "      <td>4997.91</td>\n",
       "    </tr>\n",
       "    <tr>\n",
       "      <th>2512</th>\n",
       "      <td>2024-02-09</td>\n",
       "      <td>5026.61</td>\n",
       "    </tr>\n",
       "    <tr>\n",
       "      <th>2513</th>\n",
       "      <td>2024-02-12</td>\n",
       "      <td>5021.84</td>\n",
       "    </tr>\n",
       "    <tr>\n",
       "      <th>2514</th>\n",
       "      <td>2024-02-13</td>\n",
       "      <td>4953.17</td>\n",
       "    </tr>\n",
       "    <tr>\n",
       "      <th>2515</th>\n",
       "      <td>2024-02-14</td>\n",
       "      <td>5000.62</td>\n",
       "    </tr>\n",
       "  </tbody>\n",
       "</table>\n",
       "<p>2516 rows × 2 columns</p>\n",
       "</div>"
      ],
      "text/plain": [
       "            Date   S&P500\n",
       "0     2014-02-18  1840.76\n",
       "1     2014-02-19  1828.75\n",
       "2     2014-02-20  1839.78\n",
       "3     2014-02-21  1836.25\n",
       "4     2014-02-24  1847.61\n",
       "...          ...      ...\n",
       "2511  2024-02-08  4997.91\n",
       "2512  2024-02-09  5026.61\n",
       "2513  2024-02-12  5021.84\n",
       "2514  2024-02-13  4953.17\n",
       "2515  2024-02-14  5000.62\n",
       "\n",
       "[2516 rows x 2 columns]"
      ]
     },
     "execution_count": 63,
     "metadata": {},
     "output_type": "execute_result"
    }
   ],
   "source": [
    "sp_index = pd.read_csv(\"sp500_index.csv\")\n",
    "sp_index"
   ]
  },
  {
   "cell_type": "code",
   "execution_count": 64,
   "id": "ff777561-4b88-4721-bc3c-a9bfc3565f2a",
   "metadata": {
    "scrolled": true
   },
   "outputs": [
    {
     "data": {
      "text/html": [
       "<div>\n",
       "<style scoped>\n",
       "    .dataframe tbody tr th:only-of-type {\n",
       "        vertical-align: middle;\n",
       "    }\n",
       "\n",
       "    .dataframe tbody tr th {\n",
       "        vertical-align: top;\n",
       "    }\n",
       "\n",
       "    .dataframe thead th {\n",
       "        text-align: right;\n",
       "    }\n",
       "</style>\n",
       "<table border=\"1\" class=\"dataframe\">\n",
       "  <thead>\n",
       "    <tr style=\"text-align: right;\">\n",
       "      <th></th>\n",
       "      <th>Date</th>\n",
       "      <th>Symbol</th>\n",
       "      <th>Adj Close</th>\n",
       "      <th>Close</th>\n",
       "      <th>High</th>\n",
       "      <th>Low</th>\n",
       "      <th>Open</th>\n",
       "      <th>Volume</th>\n",
       "    </tr>\n",
       "  </thead>\n",
       "  <tbody>\n",
       "    <tr>\n",
       "      <th>0</th>\n",
       "      <td>2020-01-02</td>\n",
       "      <td>MMM</td>\n",
       "      <td>166.588959</td>\n",
       "      <td>180.000000</td>\n",
       "      <td>180.009995</td>\n",
       "      <td>177.139999</td>\n",
       "      <td>177.679993</td>\n",
       "      <td>3601700.0</td>\n",
       "    </tr>\n",
       "    <tr>\n",
       "      <th>1</th>\n",
       "      <td>2020-01-03</td>\n",
       "      <td>MMM</td>\n",
       "      <td>165.154465</td>\n",
       "      <td>178.449997</td>\n",
       "      <td>178.660004</td>\n",
       "      <td>175.630005</td>\n",
       "      <td>177.020004</td>\n",
       "      <td>2466900.0</td>\n",
       "    </tr>\n",
       "    <tr>\n",
       "      <th>2</th>\n",
       "      <td>2020-01-06</td>\n",
       "      <td>MMM</td>\n",
       "      <td>165.311783</td>\n",
       "      <td>178.619995</td>\n",
       "      <td>178.710007</td>\n",
       "      <td>176.350006</td>\n",
       "      <td>177.149994</td>\n",
       "      <td>1998000.0</td>\n",
       "    </tr>\n",
       "    <tr>\n",
       "      <th>3</th>\n",
       "      <td>2020-01-07</td>\n",
       "      <td>MMM</td>\n",
       "      <td>164.645416</td>\n",
       "      <td>177.899994</td>\n",
       "      <td>178.509995</td>\n",
       "      <td>176.820007</td>\n",
       "      <td>178.279999</td>\n",
       "      <td>2173000.0</td>\n",
       "    </tr>\n",
       "    <tr>\n",
       "      <th>4</th>\n",
       "      <td>2020-01-08</td>\n",
       "      <td>MMM</td>\n",
       "      <td>167.172028</td>\n",
       "      <td>180.630005</td>\n",
       "      <td>181.500000</td>\n",
       "      <td>177.649994</td>\n",
       "      <td>178.000000</td>\n",
       "      <td>2758300.0</td>\n",
       "    </tr>\n",
       "  </tbody>\n",
       "</table>\n",
       "</div>"
      ],
      "text/plain": [
       "        Date Symbol   Adj Close       Close        High         Low  \\\n",
       "0 2020-01-02    MMM  166.588959  180.000000  180.009995  177.139999   \n",
       "1 2020-01-03    MMM  165.154465  178.449997  178.660004  175.630005   \n",
       "2 2020-01-06    MMM  165.311783  178.619995  178.710007  176.350006   \n",
       "3 2020-01-07    MMM  164.645416  177.899994  178.509995  176.820007   \n",
       "4 2020-01-08    MMM  167.172028  180.630005  181.500000  177.649994   \n",
       "\n",
       "         Open     Volume  \n",
       "0  177.679993  3601700.0  \n",
       "1  177.020004  2466900.0  \n",
       "2  177.149994  1998000.0  \n",
       "3  178.279999  2173000.0  \n",
       "4  178.000000  2758300.0  "
      ]
     },
     "execution_count": 64,
     "metadata": {},
     "output_type": "execute_result"
    }
   ],
   "source": [
    "sp_stocks = pd.read_excel(\"sp500_stocks_4years.xlsx\")\n",
    "sp_stocks.head()\n"
   ]
  },
  {
   "cell_type": "code",
   "execution_count": 65,
   "id": "030aeeb7-413f-4920-81ea-d3ae373a8278",
   "metadata": {
    "scrolled": true
   },
   "outputs": [
    {
     "data": {
      "image/png": "[encoded data removed]",
      "text/plain": [
       "<Figure size 640x480 with 1 Axes>"
      ]
     },
     "metadata": {},
     "output_type": "display_data"
    }
   ],
   "source": [
    "sp_index['Date'] = pd.to_datetime(sp_index.Date,format=\"%Y-%m-%d\")\n",
    "sp_index.index=sp_index['Date']\n",
    "\n",
    "# Plot the data\n",
    "sp_index.plot(x='Date', y='S&P500', kind='line', linestyle='-')\n",
    "\n",
    "# Add labels and title\n",
    "plt.xlabel('Date')\n",
    "plt.ylabel('Stock Price')\n",
    "plt.title('S&P500 Last 10 Years')\n",
    "\n",
    "# Show the plot\n",
    "plt.show()"
   ]
  },
  {
   "cell_type": "code",
   "execution_count": 66,
   "id": "51f6c3eb-a493-4d08-a8ce-ec6c3afa57fa",
   "metadata": {
    "scrolled": true
   },
   "outputs": [
    {
     "data": {
      "text/html": [
       "<div>\n",
       "<style scoped>\n",
       "    .dataframe tbody tr th:only-of-type {\n",
       "        vertical-align: middle;\n",
       "    }\n",
       "\n",
       "    .dataframe tbody tr th {\n",
       "        vertical-align: top;\n",
       "    }\n",
       "\n",
       "    .dataframe thead th {\n",
       "        text-align: right;\n",
       "    }\n",
       "</style>\n",
       "<table border=\"1\" class=\"dataframe\">\n",
       "  <thead>\n",
       "    <tr style=\"text-align: right;\">\n",
       "      <th></th>\n",
       "      <th>Date</th>\n",
       "      <th>Symbol</th>\n",
       "      <th>Adj Close</th>\n",
       "      <th>Close</th>\n",
       "      <th>High</th>\n",
       "      <th>Low</th>\n",
       "      <th>Open</th>\n",
       "      <th>Volume</th>\n",
       "    </tr>\n",
       "  </thead>\n",
       "  <tbody>\n",
       "    <tr>\n",
       "      <th>40482</th>\n",
       "      <td>2020-01-02</td>\n",
       "      <td>AAPL</td>\n",
       "      <td>73.059410</td>\n",
       "      <td>75.087502</td>\n",
       "      <td>75.150002</td>\n",
       "      <td>73.797501</td>\n",
       "      <td>74.059998</td>\n",
       "      <td>135480400.0</td>\n",
       "    </tr>\n",
       "    <tr>\n",
       "      <th>40483</th>\n",
       "      <td>2020-01-03</td>\n",
       "      <td>AAPL</td>\n",
       "      <td>72.349152</td>\n",
       "      <td>74.357498</td>\n",
       "      <td>75.144997</td>\n",
       "      <td>74.125000</td>\n",
       "      <td>74.287498</td>\n",
       "      <td>146322800.0</td>\n",
       "    </tr>\n",
       "    <tr>\n",
       "      <th>40484</th>\n",
       "      <td>2020-01-06</td>\n",
       "      <td>AAPL</td>\n",
       "      <td>72.925644</td>\n",
       "      <td>74.949997</td>\n",
       "      <td>74.989998</td>\n",
       "      <td>73.187500</td>\n",
       "      <td>73.447502</td>\n",
       "      <td>118387200.0</td>\n",
       "    </tr>\n",
       "    <tr>\n",
       "      <th>40485</th>\n",
       "      <td>2020-01-07</td>\n",
       "      <td>AAPL</td>\n",
       "      <td>72.582657</td>\n",
       "      <td>74.597504</td>\n",
       "      <td>75.224998</td>\n",
       "      <td>74.370003</td>\n",
       "      <td>74.959999</td>\n",
       "      <td>108872000.0</td>\n",
       "    </tr>\n",
       "    <tr>\n",
       "      <th>40486</th>\n",
       "      <td>2020-01-08</td>\n",
       "      <td>AAPL</td>\n",
       "      <td>73.750252</td>\n",
       "      <td>75.797501</td>\n",
       "      <td>76.110001</td>\n",
       "      <td>74.290001</td>\n",
       "      <td>74.290001</td>\n",
       "      <td>132079200.0</td>\n",
       "    </tr>\n",
       "    <tr>\n",
       "      <th>...</th>\n",
       "      <td>...</td>\n",
       "      <td>...</td>\n",
       "      <td>...</td>\n",
       "      <td>...</td>\n",
       "      <td>...</td>\n",
       "      <td>...</td>\n",
       "      <td>...</td>\n",
       "      <td>...</td>\n",
       "    </tr>\n",
       "    <tr>\n",
       "      <th>41515</th>\n",
       "      <td>2024-02-09</td>\n",
       "      <td>AAPL</td>\n",
       "      <td>188.850006</td>\n",
       "      <td>188.850006</td>\n",
       "      <td>189.990005</td>\n",
       "      <td>188.000000</td>\n",
       "      <td>188.649994</td>\n",
       "      <td>45155200.0</td>\n",
       "    </tr>\n",
       "    <tr>\n",
       "      <th>41516</th>\n",
       "      <td>2024-02-12</td>\n",
       "      <td>AAPL</td>\n",
       "      <td>187.149994</td>\n",
       "      <td>187.149994</td>\n",
       "      <td>188.669998</td>\n",
       "      <td>186.789993</td>\n",
       "      <td>188.419998</td>\n",
       "      <td>41781900.0</td>\n",
       "    </tr>\n",
       "    <tr>\n",
       "      <th>41517</th>\n",
       "      <td>2024-02-13</td>\n",
       "      <td>AAPL</td>\n",
       "      <td>185.039993</td>\n",
       "      <td>185.039993</td>\n",
       "      <td>186.210007</td>\n",
       "      <td>183.509995</td>\n",
       "      <td>185.770004</td>\n",
       "      <td>56529500.0</td>\n",
       "    </tr>\n",
       "    <tr>\n",
       "      <th>41518</th>\n",
       "      <td>2024-02-14</td>\n",
       "      <td>AAPL</td>\n",
       "      <td>184.149994</td>\n",
       "      <td>184.149994</td>\n",
       "      <td>185.529999</td>\n",
       "      <td>182.440002</td>\n",
       "      <td>185.320007</td>\n",
       "      <td>54630500.0</td>\n",
       "    </tr>\n",
       "    <tr>\n",
       "      <th>41519</th>\n",
       "      <td>2024-02-15</td>\n",
       "      <td>AAPL</td>\n",
       "      <td>183.860001</td>\n",
       "      <td>183.860001</td>\n",
       "      <td>184.490005</td>\n",
       "      <td>181.399994</td>\n",
       "      <td>183.550003</td>\n",
       "      <td>63936069.0</td>\n",
       "    </tr>\n",
       "  </tbody>\n",
       "</table>\n",
       "<p>1038 rows × 8 columns</p>\n",
       "</div>"
      ],
      "text/plain": [
       "            Date Symbol   Adj Close       Close        High         Low  \\\n",
       "40482 2020-01-02   AAPL   73.059410   75.087502   75.150002   73.797501   \n",
       "40483 2020-01-03   AAPL   72.349152   74.357498   75.144997   74.125000   \n",
       "40484 2020-01-06   AAPL   72.925644   74.949997   74.989998   73.187500   \n",
       "40485 2020-01-07   AAPL   72.582657   74.597504   75.224998   74.370003   \n",
       "40486 2020-01-08   AAPL   73.750252   75.797501   76.110001   74.290001   \n",
       "...          ...    ...         ...         ...         ...         ...   \n",
       "41515 2024-02-09   AAPL  188.850006  188.850006  189.990005  188.000000   \n",
       "41516 2024-02-12   AAPL  187.149994  187.149994  188.669998  186.789993   \n",
       "41517 2024-02-13   AAPL  185.039993  185.039993  186.210007  183.509995   \n",
       "41518 2024-02-14   AAPL  184.149994  184.149994  185.529999  182.440002   \n",
       "41519 2024-02-15   AAPL  183.860001  183.860001  184.490005  181.399994   \n",
       "\n",
       "             Open       Volume  \n",
       "40482   74.059998  135480400.0  \n",
       "40483   74.287498  146322800.0  \n",
       "40484   73.447502  118387200.0  \n",
       "40485   74.959999  108872000.0  \n",
       "40486   74.290001  132079200.0  \n",
       "...           ...          ...  \n",
       "41515  188.649994   45155200.0  \n",
       "41516  188.419998   41781900.0  \n",
       "41517  185.770004   56529500.0  \n",
       "41518  185.320007   54630500.0  \n",
       "41519  183.550003   63936069.0  \n",
       "\n",
       "[1038 rows x 8 columns]"
      ]
     },
     "execution_count": 66,
     "metadata": {},
     "output_type": "execute_result"
    }
   ],
   "source": [
    "apple_df = sp_stocks[sp_stocks['Symbol'] == 'AAPL']\n",
    "apple_df"
   ]
  },
  {
   "cell_type": "code",
   "execution_count": 67,
   "id": "a2f62c91-e63b-401e-9a42-85191948bf4e",
   "metadata": {
    "scrolled": true
   },
   "outputs": [
    {
     "data": {
      "image/png": "[encoded data removed]",
      "text/plain": [
       "<Figure size 640x480 with 1 Axes>"
      ]
     },
     "metadata": {},
     "output_type": "display_data"
    }
   ],
   "source": [
    "apple_df.plot(x='Date', y='Close', kind='line', linestyle='-')\n",
    "\n",
    "# Add labels and title\n",
    "plt.xlabel('Date')\n",
    "plt.ylabel('Stock Price')\n",
    "plt.title('Apple Stock Last 4 Years')\n",
    "\n",
    "# Show the plot\n",
    "plt.show()"
   ]
  },
  {
   "cell_type": "code",
   "execution_count": 68,
   "id": "0977ee56-bc42-4890-b328-2e2940aca71f",
   "metadata": {},
   "outputs": [
    {
     "data": {
      "text/plain": [
       "Index(['Date', 'Symbol', 'Adj Close', 'Close', 'High', 'Low', 'Open',\n",
       "       'Volume'],\n",
       "      dtype='object')"
      ]
     },
     "execution_count": 68,
     "metadata": {},
     "output_type": "execute_result"
    }
   ],
   "source": [
    "apple_df.columns"
   ]
  },
  {
   "cell_type": "code",
   "execution_count": 69,
   "id": "0b1011af-3ce4-4335-a452-f4b461db975d",
   "metadata": {},
   "outputs": [
    {
     "data": {
      "text/plain": [
       "[<matplotlib.lines.Line2D at 0x7fbcd8f2b460>]"
      ]
     },
     "execution_count": 69,
     "metadata": {},
     "output_type": "execute_result"
    },
    {
     "data": {
      "image/png": "[encoded data removed]",
      "text/plain": [
       "<Figure size 640x480 with 1 Axes>"
      ]
     },
     "metadata": {},
     "output_type": "display_data"
    }
   ],
   "source": [
    "df2 = apple_df.reset_index()['Close']\n",
    "plt.plot(df2)"
   ]
  },
  {
   "cell_type": "code",
   "execution_count": 70,
   "id": "8b6ab172-7c92-43e6-aa53-2a083cc7b864",
   "metadata": {},
   "outputs": [
    {
     "data": {
      "text/plain": [
       "(1038, 1)"
      ]
     },
     "execution_count": 70,
     "metadata": {},
     "output_type": "execute_result"
    }
   ],
   "source": [
    "scaler = MinMaxScaler()\n",
    "df2 = scaler.fit_transform(np.array(df2).reshape(-1,1))\n",
    "df2.shape"
   ]
  },
  {
   "cell_type": "code",
   "execution_count": 71,
   "id": "86985847-37b2-4deb-8041-ceb2182e981a",
   "metadata": {},
   "outputs": [],
   "source": [
    "train_data=df2[0:1037]\n",
    "valid_data=df2[1037:,]\n",
    "\n",
    "train_size = int(len(df2)*0.80)\n",
    "test_size = len(df2) - train_size\n",
    "train_data,test_data = df2[0:train_size,:],df2[train_size:len(df2),:1]"
   ]
  },
  {
   "cell_type": "code",
   "execution_count": 72,
   "id": "7f5f3791-ea56-4c24-ae41-d2a4a71317c8",
   "metadata": {},
   "outputs": [],
   "source": [
    "def create_dataset(dataset, time_step = 1):\n",
    "    dataX,dataY = [],[]\n",
    "    for i in range(len(dataset)-time_step-1):\n",
    "                   a = dataset[i:(i+time_step),0]\n",
    "                   dataX.append(a)\n",
    "                   dataY.append(dataset[i + time_step,0])\n",
    "    return np.array(dataX),np.array(dataY)"
   ]
  },
  {
   "cell_type": "code",
   "execution_count": 73,
   "id": "401766db-cddc-4d57-a063-aef02c9644a3",
   "metadata": {},
   "outputs": [],
   "source": [
    "time_step = 100\n",
    "X_train,Y_train =  create_dataset(train_data,time_step)\n",
    "X_test,Y_test =  create_dataset(test_data,time_step)"
   ]
  },
  {
   "cell_type": "code",
   "execution_count": 74,
   "id": "d1397ac0-c654-4a2c-b924-7e9f35196216",
   "metadata": {},
   "outputs": [
    {
     "name": "stdout",
     "output_type": "stream",
     "text": [
      "(729, 100)\n",
      "[[0.13375114 0.1286109  0.13278292 ... 0.16279686 0.16638798 0.16258562]\n",
      " [0.1286109  0.13278292 0.13030088 ... 0.16638798 0.16258562 0.16501486]\n",
      " [0.13278292 0.13030088 0.13875052 ... 0.16258562 0.16501486 0.16526133]\n",
      " ...\n",
      " [0.66630874 0.67032227 0.64722654 ... 0.73728592 0.73235697 0.77080288]\n",
      " [0.67032227 0.64722654 0.66250633 ... 0.73235697 0.77080288 0.76833845]\n",
      " [0.64722654 0.66250633 0.66877327 ... 0.77080288 0.76833845 0.76847921]]\n",
      "(107, 100)\n",
      "(107,)\n"
     ]
    }
   ],
   "source": [
    "# checking values\n",
    "print(X_train.shape)\n",
    "print(X_train)\n",
    "print(X_test.shape)\n",
    "print(Y_test.shape)"
   ]
  },
  {
   "cell_type": "code",
   "execution_count": 75,
   "id": "0353c990-1a4a-4164-b56f-13fbfce11880",
   "metadata": {},
   "outputs": [],
   "source": [
    "stock_model = Sequential()\n",
    "stock_model.add(LSTM(50,return_sequences = True,input_shape = (X_train.shape[1],1)))\n",
    "stock_model.add(LSTM(50,return_sequences = True))\n",
    "stock_model.add(LSTM(50))\n",
    "stock_model.add(Dense(1))\n",
    "stock_model.compile(optimizer = 'adam', loss = 'mean_squared_error')"
   ]
  },
  {
   "cell_type": "code",
   "execution_count": 76,
   "id": "3e152e7d-8a66-49cb-a05c-7cb8ae55956c",
   "metadata": {},
   "outputs": [
    {
     "name": "stdout",
     "output_type": "stream",
     "text": [
      "Epoch 1/100\n",
      "23/23 [==============================] - 9s 138ms/step - loss: 0.0551 - val_loss: 0.0100\n",
      "Epoch 2/100\n",
      "23/23 [==============================] - 2s 90ms/step - loss: 0.0068 - val_loss: 0.0120\n",
      "Epoch 3/100\n",
      "23/23 [==============================] - 2s 94ms/step - loss: 0.0039 - val_loss: 0.0165\n",
      "Epoch 4/100\n",
      "23/23 [==============================] - 2s 91ms/step - loss: 0.0032 - val_loss: 0.0031\n",
      "Epoch 5/100\n",
      "23/23 [==============================] - 2s 90ms/step - loss: 0.0027 - val_loss: 0.0031\n",
      "Epoch 6/100\n",
      "23/23 [==============================] - 2s 91ms/step - loss: 0.0028 - val_loss: 0.0028\n",
      "Epoch 7/100\n",
      "23/23 [==============================] - 2s 90ms/step - loss: 0.0025 - val_loss: 0.0044\n",
      "Epoch 8/100\n",
      "23/23 [==============================] - 2s 90ms/step - loss: 0.0025 - val_loss: 0.0039\n",
      "Epoch 9/100\n",
      "23/23 [==============================] - 2s 91ms/step - loss: 0.0026 - val_loss: 0.0043\n",
      "Epoch 10/100\n",
      "23/23 [==============================] - 2s 91ms/step - loss: 0.0023 - val_loss: 0.0016\n",
      "Epoch 11/100\n",
      "23/23 [==============================] - 3s 121ms/step - loss: 0.0024 - val_loss: 0.0053\n",
      "Epoch 12/100\n",
      "23/23 [==============================] - 3s 111ms/step - loss: 0.0024 - val_loss: 0.0023\n",
      "Epoch 13/100\n",
      "23/23 [==============================] - 2s 102ms/step - loss: 0.0022 - val_loss: 0.0065\n",
      "Epoch 14/100\n",
      "23/23 [==============================] - 2s 103ms/step - loss: 0.0021 - val_loss: 0.0015\n",
      "Epoch 15/100\n",
      "23/23 [==============================] - 2s 95ms/step - loss: 0.0019 - val_loss: 0.0028\n",
      "Epoch 16/100\n",
      "23/23 [==============================] - 2s 105ms/step - loss: 0.0018 - val_loss: 0.0024\n",
      "Epoch 17/100\n",
      "23/23 [==============================] - 2s 94ms/step - loss: 0.0017 - val_loss: 0.0017\n",
      "Epoch 18/100\n",
      "23/23 [==============================] - 2s 107ms/step - loss: 0.0017 - val_loss: 0.0020\n",
      "Epoch 19/100\n",
      "23/23 [==============================] - 2s 94ms/step - loss: 0.0016 - val_loss: 0.0025\n",
      "Epoch 20/100\n",
      "23/23 [==============================] - 2s 102ms/step - loss: 0.0016 - val_loss: 0.0025\n",
      "Epoch 21/100\n",
      "23/23 [==============================] - 3s 110ms/step - loss: 0.0016 - val_loss: 0.0055\n",
      "Epoch 22/100\n",
      "23/23 [==============================] - 2s 96ms/step - loss: 0.0016 - val_loss: 0.0021\n",
      "Epoch 23/100\n",
      "23/23 [==============================] - 2s 97ms/step - loss: 0.0016 - val_loss: 0.0041\n",
      "Epoch 24/100\n",
      "23/23 [==============================] - 2s 95ms/step - loss: 0.0014 - val_loss: 0.0016\n",
      "Epoch 25/100\n",
      "23/23 [==============================] - 2s 106ms/step - loss: 0.0015 - val_loss: 0.0032\n",
      "Epoch 26/100\n",
      "23/23 [==============================] - 2s 105ms/step - loss: 0.0014 - val_loss: 0.0012\n",
      "Epoch 27/100\n",
      "23/23 [==============================] - 2s 104ms/step - loss: 0.0015 - val_loss: 0.0031\n",
      "Epoch 28/100\n",
      "23/23 [==============================] - 2s 99ms/step - loss: 0.0014 - val_loss: 0.0026\n",
      "Epoch 29/100\n",
      "23/23 [==============================] - 2s 106ms/step - loss: 0.0013 - val_loss: 0.0020\n",
      "Epoch 30/100\n",
      "23/23 [==============================] - 3s 140ms/step - loss: 0.0012 - val_loss: 0.0017\n",
      "Epoch 31/100\n",
      "23/23 [==============================] - 2s 98ms/step - loss: 0.0014 - val_loss: 0.0013\n",
      "Epoch 32/100\n",
      "23/23 [==============================] - 3s 144ms/step - loss: 0.0013 - val_loss: 0.0027\n",
      "Epoch 33/100\n",
      "23/23 [==============================] - 2s 104ms/step - loss: 0.0016 - val_loss: 0.0032\n",
      "Epoch 34/100\n",
      "23/23 [==============================] - 3s 145ms/step - loss: 0.0012 - val_loss: 0.0015\n",
      "Epoch 35/100\n",
      "23/23 [==============================] - 3s 144ms/step - loss: 0.0013 - val_loss: 0.0051\n",
      "Epoch 36/100\n",
      "23/23 [==============================] - 2s 99ms/step - loss: 0.0016 - val_loss: 0.0037\n",
      "Epoch 37/100\n",
      "23/23 [==============================] - 3s 112ms/step - loss: 0.0013 - val_loss: 7.7283e-04\n",
      "Epoch 38/100\n",
      "23/23 [==============================] - 3s 114ms/step - loss: 0.0013 - val_loss: 8.5557e-04\n",
      "Epoch 39/100\n",
      "23/23 [==============================] - 3s 130ms/step - loss: 0.0011 - val_loss: 7.3308e-04\n",
      "Epoch 40/100\n",
      "23/23 [==============================] - 2s 106ms/step - loss: 0.0011 - val_loss: 6.8390e-04\n",
      "Epoch 41/100\n",
      "23/23 [==============================] - 3s 122ms/step - loss: 0.0011 - val_loss: 7.6704e-04\n",
      "Epoch 42/100\n",
      "23/23 [==============================] - 3s 139ms/step - loss: 0.0012 - val_loss: 0.0016\n",
      "Epoch 43/100\n",
      "23/23 [==============================] - 3s 126ms/step - loss: 0.0012 - val_loss: 0.0015\n",
      "Epoch 44/100\n",
      "23/23 [==============================] - 3s 109ms/step - loss: 0.0011 - val_loss: 8.3501e-04\n",
      "Epoch 45/100\n",
      "23/23 [==============================] - 3s 138ms/step - loss: 9.8150e-04 - val_loss: 6.6462e-04\n",
      "Epoch 46/100\n",
      "23/23 [==============================] - 2s 105ms/step - loss: 9.1546e-04 - val_loss: 6.0053e-04\n",
      "Epoch 47/100\n",
      "23/23 [==============================] - 2s 96ms/step - loss: 8.8132e-04 - val_loss: 0.0018\n",
      "Epoch 48/100\n",
      "23/23 [==============================] - 2s 86ms/step - loss: 9.2347e-04 - val_loss: 5.5415e-04\n",
      "Epoch 49/100\n",
      "23/23 [==============================] - 2s 86ms/step - loss: 8.5984e-04 - val_loss: 0.0017\n",
      "Epoch 50/100\n",
      "23/23 [==============================] - 2s 85ms/step - loss: 9.8155e-04 - val_loss: 7.2988e-04\n",
      "Epoch 51/100\n",
      "23/23 [==============================] - 2s 88ms/step - loss: 9.9535e-04 - val_loss: 7.0086e-04\n",
      "Epoch 52/100\n",
      "23/23 [==============================] - 2s 86ms/step - loss: 8.8432e-04 - val_loss: 5.2948e-04\n",
      "Epoch 53/100\n",
      "23/23 [==============================] - 2s 88ms/step - loss: 8.2218e-04 - val_loss: 7.7696e-04\n",
      "Epoch 54/100\n",
      "23/23 [==============================] - 2s 89ms/step - loss: 7.9825e-04 - val_loss: 6.7225e-04\n",
      "Epoch 55/100\n",
      "23/23 [==============================] - 2s 87ms/step - loss: 8.6508e-04 - val_loss: 0.0012\n",
      "Epoch 56/100\n",
      "23/23 [==============================] - 2s 91ms/step - loss: 8.6399e-04 - val_loss: 5.2434e-04\n",
      "Epoch 57/100\n",
      "23/23 [==============================] - 2s 87ms/step - loss: 7.6258e-04 - val_loss: 6.7089e-04\n",
      "Epoch 58/100\n",
      "23/23 [==============================] - 2s 100ms/step - loss: 7.3094e-04 - val_loss: 6.8641e-04\n",
      "Epoch 59/100\n",
      "23/23 [==============================] - 3s 116ms/step - loss: 8.0569e-04 - val_loss: 0.0014\n",
      "Epoch 60/100\n",
      "23/23 [==============================] - 2s 91ms/step - loss: 9.8562e-04 - val_loss: 0.0016\n",
      "Epoch 61/100\n",
      "23/23 [==============================] - 2s 95ms/step - loss: 0.0011 - val_loss: 4.3572e-04\n",
      "Epoch 62/100\n",
      "23/23 [==============================] - 2s 91ms/step - loss: 8.2489e-04 - val_loss: 5.4323e-04\n",
      "Epoch 63/100\n",
      "23/23 [==============================] - 2s 88ms/step - loss: 9.0091e-04 - val_loss: 0.0014\n",
      "Epoch 64/100\n",
      "23/23 [==============================] - 2s 90ms/step - loss: 7.4558e-04 - val_loss: 9.2170e-04\n",
      "Epoch 65/100\n",
      "23/23 [==============================] - 2s 102ms/step - loss: 7.3261e-04 - val_loss: 4.0447e-04\n",
      "Epoch 66/100\n",
      "23/23 [==============================] - 3s 131ms/step - loss: 7.4506e-04 - val_loss: 4.3395e-04\n",
      "Epoch 67/100\n",
      "23/23 [==============================] - 3s 117ms/step - loss: 7.7389e-04 - val_loss: 3.8728e-04\n",
      "Epoch 68/100\n",
      "23/23 [==============================] - 2s 103ms/step - loss: 8.3646e-04 - val_loss: 7.3798e-04\n",
      "Epoch 69/100\n",
      "23/23 [==============================] - 2s 101ms/step - loss: 7.2857e-04 - val_loss: 4.1799e-04\n",
      "Epoch 70/100\n",
      "23/23 [==============================] - 2s 85ms/step - loss: 7.5595e-04 - val_loss: 6.3334e-04\n",
      "Epoch 71/100\n",
      "23/23 [==============================] - 2s 86ms/step - loss: 7.3954e-04 - val_loss: 3.5511e-04\n",
      "Epoch 72/100\n",
      "23/23 [==============================] - 3s 127ms/step - loss: 6.8705e-04 - val_loss: 4.0265e-04\n",
      "Epoch 73/100\n",
      "23/23 [==============================] - 2s 100ms/step - loss: 6.7194e-04 - val_loss: 4.3656e-04\n",
      "Epoch 74/100\n",
      "23/23 [==============================] - 2s 90ms/step - loss: 6.8546e-04 - val_loss: 7.2855e-04\n",
      "Epoch 75/100\n",
      "23/23 [==============================] - 2s 85ms/step - loss: 6.6359e-04 - val_loss: 4.6614e-04\n",
      "Epoch 76/100\n",
      "23/23 [==============================] - 2s 87ms/step - loss: 6.4614e-04 - val_loss: 3.7425e-04\n",
      "Epoch 77/100\n",
      "23/23 [==============================] - 2s 84ms/step - loss: 6.1691e-04 - val_loss: 6.1376e-04\n",
      "Epoch 78/100\n",
      "23/23 [==============================] - 2s 85ms/step - loss: 8.1288e-04 - val_loss: 3.0401e-04\n",
      "Epoch 79/100\n",
      "23/23 [==============================] - 2s 88ms/step - loss: 6.0901e-04 - val_loss: 8.5674e-04\n",
      "Epoch 80/100\n",
      "23/23 [==============================] - 2s 84ms/step - loss: 6.7605e-04 - val_loss: 6.1550e-04\n",
      "Epoch 81/100\n",
      "23/23 [==============================] - 2s 89ms/step - loss: 6.3572e-04 - val_loss: 0.0010\n",
      "Epoch 82/100\n",
      "23/23 [==============================] - 4s 157ms/step - loss: 6.0364e-04 - val_loss: 2.9684e-04\n",
      "Epoch 83/100\n",
      "23/23 [==============================] - 3s 155ms/step - loss: 6.8540e-04 - val_loss: 8.2983e-04\n",
      "Epoch 84/100\n",
      "23/23 [==============================] - 3s 129ms/step - loss: 6.5414e-04 - val_loss: 6.9145e-04\n",
      "Epoch 85/100\n",
      "23/23 [==============================] - 2s 100ms/step - loss: 7.9266e-04 - val_loss: 9.3919e-04\n",
      "Epoch 86/100\n",
      "23/23 [==============================] - 2s 95ms/step - loss: 5.5247e-04 - val_loss: 2.8759e-04\n",
      "Epoch 87/100\n",
      "23/23 [==============================] - 2s 105ms/step - loss: 6.9319e-04 - val_loss: 2.7534e-04\n",
      "Epoch 88/100\n",
      "23/23 [==============================] - 2s 102ms/step - loss: 8.3158e-04 - val_loss: 9.0987e-04\n",
      "Epoch 89/100\n",
      "23/23 [==============================] - 2s 94ms/step - loss: 7.5004e-04 - val_loss: 5.4247e-04\n",
      "Epoch 90/100\n",
      "23/23 [==============================] - 2s 97ms/step - loss: 5.9801e-04 - val_loss: 2.8086e-04\n",
      "Epoch 91/100\n",
      "23/23 [==============================] - 2s 92ms/step - loss: 5.5919e-04 - val_loss: 3.7124e-04\n",
      "Epoch 92/100\n",
      "23/23 [==============================] - 2s 99ms/step - loss: 5.7124e-04 - val_loss: 6.3356e-04\n",
      "Epoch 93/100\n",
      "23/23 [==============================] - 2s 98ms/step - loss: 5.1532e-04 - val_loss: 4.0364e-04\n",
      "Epoch 94/100\n",
      "23/23 [==============================] - 2s 106ms/step - loss: 5.0247e-04 - val_loss: 2.7658e-04\n",
      "Epoch 95/100\n",
      "23/23 [==============================] - 2s 101ms/step - loss: 5.4077e-04 - val_loss: 4.3670e-04\n",
      "Epoch 96/100\n",
      "23/23 [==============================] - 2s 96ms/step - loss: 6.3059e-04 - val_loss: 4.1736e-04\n",
      "Epoch 97/100\n",
      "23/23 [==============================] - 2s 92ms/step - loss: 6.0785e-04 - val_loss: 2.4042e-04\n",
      "Epoch 98/100\n",
      "23/23 [==============================] - 2s 94ms/step - loss: 4.8966e-04 - val_loss: 3.6970e-04\n",
      "Epoch 99/100\n",
      "23/23 [==============================] - 2s 107ms/step - loss: 6.6658e-04 - val_loss: 2.5565e-04\n",
      "Epoch 100/100\n",
      "23/23 [==============================] - 2s 107ms/step - loss: 5.5022e-04 - val_loss: 2.3239e-04\n"
     ]
    },
    {
     "data": {
      "text/plain": [
       "<keras.src.callbacks.History at 0x7fbcd8fb7790>"
      ]
     },
     "execution_count": 76,
     "metadata": {},
     "output_type": "execute_result"
    }
   ],
   "source": [
    "stock_model.fit(X_train,Y_train,validation_data = (X_test,Y_test),epochs = 100,batch_size = 32,verbose = 1)"
   ]
  },
  {
   "cell_type": "code",
   "execution_count": 77,
   "id": "ba06d16b-556c-4d03-b8e4-d54e05509847",
   "metadata": {},
   "outputs": [
    {
     "name": "stdout",
     "output_type": "stream",
     "text": [
      "23/23 [==============================] - 2s 27ms/step\n",
      "4/4 [==============================] - 0s 24ms/step\n"
     ]
    }
   ],
   "source": [
    "train_predict = stock_model.predict(X_train)\n",
    "test_predict = stock_model.predict(X_test)"
   ]
  },
  {
   "cell_type": "code",
   "execution_count": 78,
   "id": "29b4e03d-ac54-477c-bfd6-0db43b304ee8",
   "metadata": {},
   "outputs": [],
   "source": [
    "# transform to original form\n",
    "train_predict = scaler.inverse_transform(train_predict)\n",
    "test_predict = scaler.inverse_transform(test_predict)"
   ]
  },
  {
   "cell_type": "code",
   "execution_count": 79,
   "id": "b744a056",
   "metadata": {},
   "outputs": [
    {
     "name": "stdout",
     "output_type": "stream",
     "text": [
      "23/23 [==============================] - 1s 27ms/step\n"
     ]
    }
   ],
   "source": [
    "model_predictions = stock_model.predict(X_train)\n",
    "true_labels = Y_train"
   ]
  },
  {
   "cell_type": "code",
   "execution_count": 80,
   "id": "9afb05fc",
   "metadata": {},
   "outputs": [
    {
     "name": "stdout",
     "output_type": "stream",
     "text": [
      "Mean Absolute Error (MAE): 0.016634859847501706\n",
      "Mean Squared Error (MSE): 0.00048036114235410176\n",
      "R^2 Score: 0.9791627622228247\n"
     ]
    }
   ],
   "source": [
    "from sklearn.metrics import mean_absolute_error, mean_squared_error, r2_score\n",
    "\n",
    "# Compute Mean Absolute Error (MAE)\n",
    "mae = mean_absolute_error(true_labels, model_predictions)\n",
    "print(\"Mean Absolute Error (MAE):\", mae)\n",
    "\n",
    "# Compute Mean Squared Error (MSE)\n",
    "mse = mean_squared_error(true_labels, model_predictions)\n",
    "print(\"Mean Squared Error (MSE):\", mse)\n",
    "\n",
    "# Compute R^2 Score\n",
    "r2 = r2_score(true_labels, model_predictions)\n",
    "print(\"R^2 Score:\", r2)"
   ]
  },
  {
   "cell_type": "code",
   "execution_count": 81,
   "id": "c41d1393-3b86-40a1-a60e-5738c4bd34fa",
   "metadata": {},
   "outputs": [],
   "source": [
    "look_back = 100\n",
    "\n",
    "trainPredictPlot = np.empty_like(df2)\n",
    "trainPredictPlot[:,:] = np.nan\n",
    "trainPredictPlot[look_back : len(train_predict)+look_back,:] = train_predict\n",
    "\n",
    "testPredictPlot = np.empty_like(df2)\n",
    "testPredictPlot[:,:] = np.nan\n",
    "testPredictPlot[len(train_predict)+(look_back)*2 + 1 : len(df2) - 1,:] = test_predict"
   ]
  },
  {
   "cell_type": "code",
   "execution_count": 82,
   "id": "bfdda7ab-8389-4155-8de1-852833ff062b",
   "metadata": {
    "scrolled": true
   },
   "outputs": [
    {
     "data": {
      "image/png": "[encoded data removed]",
      "text/plain": [
       "<Figure size 640x480 with 1 Axes>"
      ]
     },
     "metadata": {},
     "output_type": "display_data"
    }
   ],
   "source": [
    "plt.plot(scaler.inverse_transform(df2), label=\"Actual Data\")\n",
    "plt.plot(trainPredictPlot, label=\"Training Data\")\n",
    "plt.plot(testPredictPlot, label=\"Test Data\")\n",
    "\n",
    "plt.legend()\n",
    "plt.show()"
   ]
  },
  {
   "cell_type": "code",
   "execution_count": 83,
   "id": "4e8d1afe-3ea4-4223-bfc7-221878c3566c",
   "metadata": {},
   "outputs": [
    {
     "data": {
      "text/plain": [
       "(107, 100)"
      ]
     },
     "execution_count": 83,
     "metadata": {},
     "output_type": "execute_result"
    }
   ],
   "source": [
    "X_test.shape"
   ]
  },
  {
   "cell_type": "code",
   "execution_count": 84,
   "id": "776d41f2-41e1-4318-adcc-65bd98bd41d8",
   "metadata": {},
   "outputs": [
    {
     "name": "stdout",
     "output_type": "stream",
     "text": [
      "1/1 [==============================] - 0s 42ms/step\n"
     ]
    }
   ],
   "source": [
    "# Number of future days to predict\n",
    "future_days = 1\n",
    "future_predictions = []\n",
    "last_sequence = X_test[-1].reshape(1, -1)\n",
    "\n",
    "for i in range(future_days):\n",
    "    # Predict the next day's value with last sequence\n",
    "    next_prediction = stock_model.predict(last_sequence)\n",
    "    # Inverse transform to get the actual predicted value\n",
    "    next_prediction = scaler.inverse_transform(next_prediction)\n",
    "    # Append the prediction to the list of future predictions\n",
    "    future_predictions.append(next_prediction)\n",
    "    # Update last_sequence for the next prediction\n",
    "    last_sequence = next_prediction.reshape(1, -1)"
   ]
  },
  {
   "cell_type": "code",
   "execution_count": 85,
   "id": "8a4c230f-5f9b-47ac-9c66-6ac3b3f70211",
   "metadata": {
    "scrolled": true
   },
   "outputs": [
    {
     "data": {
      "text/plain": [
       "[array([[185.71303]], dtype=float32)]"
      ]
     },
     "execution_count": 85,
     "metadata": {},
     "output_type": "execute_result"
    }
   ],
   "source": [
    "future_predictions"
   ]
  },
  {
   "cell_type": "code",
   "execution_count": 86,
   "id": "36e3a750-ac7a-42b5-a680-6d478c39c987",
   "metadata": {},
   "outputs": [
    {
     "data": {
      "text/plain": [
       "array([[ 75.08750153],\n",
       "       [ 74.35749817],\n",
       "       [ 74.94999695],\n",
       "       ...,\n",
       "       [185.03999329],\n",
       "       [184.1499939 ],\n",
       "       [183.86000061]])"
      ]
     },
     "execution_count": 86,
     "metadata": {},
     "output_type": "execute_result"
    }
   ],
   "source": [
    "df2 = scaler.inverse_transform(df2)\n",
    "df2"
   ]
  },
  {
   "cell_type": "code",
   "execution_count": 91,
   "id": "c2979e3e-5955-4f78-af16-c5ba206be1e9",
   "metadata": {},
   "outputs": [
    {
     "data": {
      "text/html": [
       "<div>\n",
       "<style scoped>\n",
       "    .dataframe tbody tr th:only-of-type {\n",
       "        vertical-align: middle;\n",
       "    }\n",
       "\n",
       "    .dataframe tbody tr th {\n",
       "        vertical-align: top;\n",
       "    }\n",
       "\n",
       "    .dataframe thead th {\n",
       "        text-align: right;\n",
       "    }\n",
       "</style>\n",
       "<table border=\"1\" class=\"dataframe\">\n",
       "  <thead>\n",
       "    <tr style=\"text-align: right;\">\n",
       "      <th></th>\n",
       "      <th>Close</th>\n",
       "    </tr>\n",
       "  </thead>\n",
       "  <tbody>\n",
       "    <tr>\n",
       "      <th>0</th>\n",
       "      <td>75.087502</td>\n",
       "    </tr>\n",
       "    <tr>\n",
       "      <th>1</th>\n",
       "      <td>74.357498</td>\n",
       "    </tr>\n",
       "    <tr>\n",
       "      <th>2</th>\n",
       "      <td>74.949997</td>\n",
       "    </tr>\n",
       "    <tr>\n",
       "      <th>3</th>\n",
       "      <td>74.597504</td>\n",
       "    </tr>\n",
       "    <tr>\n",
       "      <th>4</th>\n",
       "      <td>75.797501</td>\n",
       "    </tr>\n",
       "    <tr>\n",
       "      <th>...</th>\n",
       "      <td>...</td>\n",
       "    </tr>\n",
       "    <tr>\n",
       "      <th>1033</th>\n",
       "      <td>188.850006</td>\n",
       "    </tr>\n",
       "    <tr>\n",
       "      <th>1034</th>\n",
       "      <td>187.149994</td>\n",
       "    </tr>\n",
       "    <tr>\n",
       "      <th>1035</th>\n",
       "      <td>185.039993</td>\n",
       "    </tr>\n",
       "    <tr>\n",
       "      <th>1036</th>\n",
       "      <td>184.149994</td>\n",
       "    </tr>\n",
       "    <tr>\n",
       "      <th>1037</th>\n",
       "      <td>183.860001</td>\n",
       "    </tr>\n",
       "  </tbody>\n",
       "</table>\n",
       "<p>1038 rows × 1 columns</p>\n",
       "</div>"
      ],
      "text/plain": [
       "           Close\n",
       "0      75.087502\n",
       "1      74.357498\n",
       "2      74.949997\n",
       "3      74.597504\n",
       "4      75.797501\n",
       "...          ...\n",
       "1033  188.850006\n",
       "1034  187.149994\n",
       "1035  185.039993\n",
       "1036  184.149994\n",
       "1037  183.860001\n",
       "\n",
       "[1038 rows x 1 columns]"
      ]
     },
     "execution_count": 91,
     "metadata": {},
     "output_type": "execute_result"
    }
   ],
   "source": [
    "df2 = pd.DataFrame(df2)\n",
    "#df2[['Close']] = df2\n",
    "df2 = df2[['Close']]\n",
    "df2"
   ]
  },
  {
   "cell_type": "code",
   "execution_count": 92,
   "id": "4b93f5d0-beab-4bbe-bbe8-28ab1246c994",
   "metadata": {},
   "outputs": [
    {
     "name": "stderr",
     "output_type": "stream",
     "text": [
      "/var/folders/by/st2c4w_96757fgwg7jsfc4480000gn/T/ipykernel_78989/451293384.py:3: SettingWithCopyWarning: \n",
      "A value is trying to be set on a copy of a slice from a DataFrame.\n",
      "Try using .loc[row_indexer,col_indexer] = value instead\n",
      "\n",
      "See the caveats in the documentation: https://pandas.pydata.org/pandas-docs/stable/user_guide/indexing.html#returning-a-view-versus-a-copy\n",
      "  predict_data['Predictions']=next_prediction\n"
     ]
    },
    {
     "data": {
      "text/html": [
       "<div>\n",
       "<style scoped>\n",
       "    .dataframe tbody tr th:only-of-type {\n",
       "        vertical-align: middle;\n",
       "    }\n",
       "\n",
       "    .dataframe tbody tr th {\n",
       "        vertical-align: top;\n",
       "    }\n",
       "\n",
       "    .dataframe thead th {\n",
       "        text-align: right;\n",
       "    }\n",
       "</style>\n",
       "<table border=\"1\" class=\"dataframe\">\n",
       "  <thead>\n",
       "    <tr style=\"text-align: right;\">\n",
       "      <th></th>\n",
       "      <th>Close</th>\n",
       "      <th>Predictions</th>\n",
       "    </tr>\n",
       "  </thead>\n",
       "  <tbody>\n",
       "    <tr>\n",
       "      <th>1037</th>\n",
       "      <td>183.860001</td>\n",
       "      <td>185.713028</td>\n",
       "    </tr>\n",
       "  </tbody>\n",
       "</table>\n",
       "</div>"
      ],
      "text/plain": [
       "           Close  Predictions\n",
       "1037  183.860001   185.713028"
      ]
     },
     "execution_count": 92,
     "metadata": {},
     "output_type": "execute_result"
    }
   ],
   "source": [
    "model_data=df2[:1037]\n",
    "predict_data=df2[1037:]\n",
    "predict_data['Predictions']=next_prediction\n",
    "predict_data"
   ]
  },
  {
   "cell_type": "code",
   "execution_count": 94,
   "id": "49f955b8-5cd9-415b-ab75-9637d8e6bb70",
   "metadata": {},
   "outputs": [
    {
     "data": {
      "text/html": [
       "<div>\n",
       "<style scoped>\n",
       "    .dataframe tbody tr th:only-of-type {\n",
       "        vertical-align: middle;\n",
       "    }\n",
       "\n",
       "    .dataframe tbody tr th {\n",
       "        vertical-align: top;\n",
       "    }\n",
       "\n",
       "    .dataframe thead th {\n",
       "        text-align: right;\n",
       "    }\n",
       "</style>\n",
       "<table border=\"1\" class=\"dataframe\">\n",
       "  <thead>\n",
       "    <tr style=\"text-align: right;\">\n",
       "      <th></th>\n",
       "      <th>Date</th>\n",
       "      <th>Symbol</th>\n",
       "      <th>Adj Close</th>\n",
       "      <th>Close</th>\n",
       "      <th>High</th>\n",
       "      <th>Low</th>\n",
       "      <th>Open</th>\n",
       "      <th>Volume</th>\n",
       "    </tr>\n",
       "  </thead>\n",
       "  <tbody>\n",
       "    <tr>\n",
       "      <th>0</th>\n",
       "      <td>2024-02-16</td>\n",
       "      <td>AAPL</td>\n",
       "      <td>182.309998</td>\n",
       "      <td>182.309998</td>\n",
       "      <td>184.850006</td>\n",
       "      <td>181.669998</td>\n",
       "      <td>183.419998</td>\n",
       "      <td>49701400</td>\n",
       "    </tr>\n",
       "    <tr>\n",
       "      <th>1</th>\n",
       "      <td>2024-02-20</td>\n",
       "      <td>AAPL</td>\n",
       "      <td>181.559998</td>\n",
       "      <td>181.559998</td>\n",
       "      <td>182.429993</td>\n",
       "      <td>180.000000</td>\n",
       "      <td>181.789993</td>\n",
       "      <td>53665600</td>\n",
       "    </tr>\n",
       "    <tr>\n",
       "      <th>2</th>\n",
       "      <td>2024-02-21</td>\n",
       "      <td>AAPL</td>\n",
       "      <td>182.320007</td>\n",
       "      <td>182.320007</td>\n",
       "      <td>182.889999</td>\n",
       "      <td>180.660004</td>\n",
       "      <td>181.940002</td>\n",
       "      <td>41529700</td>\n",
       "    </tr>\n",
       "    <tr>\n",
       "      <th>3</th>\n",
       "      <td>2024-02-22</td>\n",
       "      <td>AAPL</td>\n",
       "      <td>184.369995</td>\n",
       "      <td>184.369995</td>\n",
       "      <td>184.960007</td>\n",
       "      <td>182.460007</td>\n",
       "      <td>183.479996</td>\n",
       "      <td>52292200</td>\n",
       "    </tr>\n",
       "    <tr>\n",
       "      <th>4</th>\n",
       "      <td>2024-02-23</td>\n",
       "      <td>AAPL</td>\n",
       "      <td>182.520004</td>\n",
       "      <td>182.520004</td>\n",
       "      <td>185.039993</td>\n",
       "      <td>182.229996</td>\n",
       "      <td>185.009995</td>\n",
       "      <td>45074500</td>\n",
       "    </tr>\n",
       "  </tbody>\n",
       "</table>\n",
       "</div>"
      ],
      "text/plain": [
       "        Date Symbol   Adj Close       Close        High         Low  \\\n",
       "0 2024-02-16   AAPL  182.309998  182.309998  184.850006  181.669998   \n",
       "1 2024-02-20   AAPL  181.559998  181.559998  182.429993  180.000000   \n",
       "2 2024-02-21   AAPL  182.320007  182.320007  182.889999  180.660004   \n",
       "3 2024-02-22   AAPL  184.369995  184.369995  184.960007  182.460007   \n",
       "4 2024-02-23   AAPL  182.520004  182.520004  185.039993  182.229996   \n",
       "\n",
       "         Open    Volume  \n",
       "0  183.419998  49701400  \n",
       "1  181.789993  53665600  \n",
       "2  181.940002  41529700  \n",
       "3  183.479996  52292200  \n",
       "4  185.009995  45074500  "
      ]
     },
     "execution_count": 94,
     "metadata": {},
     "output_type": "execute_result"
    }
   ],
   "source": [
    "sp_stocks_10days = pd.read_excel(\"sp500_stocks_updated.csv.xlsx\")\n",
    "sp_stocks_10days.head()"
   ]
  },
  {
   "cell_type": "code",
   "execution_count": 96,
   "id": "01f49836-bb8e-48e1-a3d8-f6e535888a8d",
   "metadata": {},
   "outputs": [
    {
     "data": {
      "text/html": [
       "<div>\n",
       "<style scoped>\n",
       "    .dataframe tbody tr th:only-of-type {\n",
       "        vertical-align: middle;\n",
       "    }\n",
       "\n",
       "    .dataframe tbody tr th {\n",
       "        vertical-align: top;\n",
       "    }\n",
       "\n",
       "    .dataframe thead th {\n",
       "        text-align: right;\n",
       "    }\n",
       "</style>\n",
       "<table border=\"1\" class=\"dataframe\">\n",
       "  <thead>\n",
       "    <tr style=\"text-align: right;\">\n",
       "      <th></th>\n",
       "      <th>Date</th>\n",
       "      <th>Symbol</th>\n",
       "      <th>Adj Close</th>\n",
       "      <th>Close</th>\n",
       "      <th>High</th>\n",
       "      <th>Low</th>\n",
       "      <th>Open</th>\n",
       "      <th>Volume</th>\n",
       "    </tr>\n",
       "  </thead>\n",
       "  <tbody>\n",
       "    <tr>\n",
       "      <th>0</th>\n",
       "      <td>2024-02-16</td>\n",
       "      <td>AAPL</td>\n",
       "      <td>182.309998</td>\n",
       "      <td>185.713028</td>\n",
       "      <td>184.850006</td>\n",
       "      <td>181.669998</td>\n",
       "      <td>183.419998</td>\n",
       "      <td>49701400</td>\n",
       "    </tr>\n",
       "    <tr>\n",
       "      <th>1</th>\n",
       "      <td>2024-02-20</td>\n",
       "      <td>AAPL</td>\n",
       "      <td>181.559998</td>\n",
       "      <td>181.559998</td>\n",
       "      <td>182.429993</td>\n",
       "      <td>180.000000</td>\n",
       "      <td>181.789993</td>\n",
       "      <td>53665600</td>\n",
       "    </tr>\n",
       "    <tr>\n",
       "      <th>2</th>\n",
       "      <td>2024-02-21</td>\n",
       "      <td>AAPL</td>\n",
       "      <td>182.320007</td>\n",
       "      <td>182.320007</td>\n",
       "      <td>182.889999</td>\n",
       "      <td>180.660004</td>\n",
       "      <td>181.940002</td>\n",
       "      <td>41529700</td>\n",
       "    </tr>\n",
       "    <tr>\n",
       "      <th>3</th>\n",
       "      <td>2024-02-22</td>\n",
       "      <td>AAPL</td>\n",
       "      <td>184.369995</td>\n",
       "      <td>184.369995</td>\n",
       "      <td>184.960007</td>\n",
       "      <td>182.460007</td>\n",
       "      <td>183.479996</td>\n",
       "      <td>52292200</td>\n",
       "    </tr>\n",
       "    <tr>\n",
       "      <th>4</th>\n",
       "      <td>2024-02-23</td>\n",
       "      <td>AAPL</td>\n",
       "      <td>182.520004</td>\n",
       "      <td>182.520004</td>\n",
       "      <td>185.039993</td>\n",
       "      <td>182.229996</td>\n",
       "      <td>185.009995</td>\n",
       "      <td>45074500</td>\n",
       "    </tr>\n",
       "  </tbody>\n",
       "</table>\n",
       "</div>"
      ],
      "text/plain": [
       "        Date Symbol   Adj Close       Close        High         Low  \\\n",
       "0 2024-02-16   AAPL  182.309998  185.713028  184.850006  181.669998   \n",
       "1 2024-02-20   AAPL  181.559998  181.559998  182.429993  180.000000   \n",
       "2 2024-02-21   AAPL  182.320007  182.320007  182.889999  180.660004   \n",
       "3 2024-02-22   AAPL  184.369995  184.369995  184.960007  182.460007   \n",
       "4 2024-02-23   AAPL  182.520004  182.520004  185.039993  182.229996   \n",
       "\n",
       "         Open    Volume  \n",
       "0  183.419998  49701400  \n",
       "1  181.789993  53665600  \n",
       "2  181.940002  41529700  \n",
       "3  183.479996  52292200  \n",
       "4  185.009995  45074500  "
      ]
     },
     "execution_count": 96,
     "metadata": {},
     "output_type": "execute_result"
    }
   ],
   "source": [
    "sp_stocks_10days.at[0, 'Close'] = next_prediction\n",
    "sp_stocks_10days.head()"
   ]
  },
  {
   "cell_type": "code",
   "execution_count": null,
   "id": "58bb11fc-b6fc-4893-9010-1781e4197c06",
   "metadata": {},
   "outputs": [],
   "source": []
  }
 ],
 "metadata": {
  "kernelspec": {
   "display_name": "Python 3 (ipykernel)",
   "language": "python",
   "name": "python3"
  },
  "language_info": {
   "codemirror_mode": {
    "name": "ipython",
    "version": 3
   },
   "file_extension": ".py",
   "mimetype": "text/x-python",
   "name": "python",
   "nbconvert_exporter": "python",
   "pygments_lexer": "ipython3",
   "version": "3.10.13"
  }
 },
 "nbformat": 4,
 "nbformat_minor": 5
}
