{
 "cells": [
  {
   "cell_type": "code",
   "execution_count": 35,
   "id": "07d075dc-fac5-44a9-baf3-090121c4cc79",
   "metadata": {
    "scrolled": true
   },
   "outputs": [
    {
     "name": "stdout",
     "output_type": "stream",
     "text": [
      "Requirement already satisfied: tensorflow in /Users/joshuagibson/anaconda3/envs/dev/lib/python3.10/site-packages (2.15.0)\n",
      "Requirement already satisfied: absl-py>=1.0.0 in /Users/joshuagibson/anaconda3/envs/dev/lib/python3.10/site-packages (from tensorflow) (2.1.0)\n",
      "Requirement already satisfied: astunparse>=1.6.0 in /Users/joshuagibson/anaconda3/envs/dev/lib/python3.10/site-packages (from tensorflow) (1.6.3)\n",
      "Requirement already satisfied: flatbuffers>=23.5.26 in /Users/joshuagibson/anaconda3/envs/dev/lib/python3.10/site-packages (from tensorflow) (23.5.26)\n",
      "Requirement already satisfied: gast!=0.5.0,!=0.5.1,!=0.5.2,>=0.2.1 in /Users/joshuagibson/anaconda3/envs/dev/lib/python3.10/site-packages (from tensorflow) (0.5.4)\n",
      "Requirement already satisfied: google-pasta>=0.1.1 in /Users/joshuagibson/anaconda3/envs/dev/lib/python3.10/site-packages (from tensorflow) (0.2.0)\n",
      "Requirement already satisfied: h5py>=2.9.0 in /Users/joshuagibson/anaconda3/envs/dev/lib/python3.10/site-packages (from tensorflow) (3.10.0)\n",
      "Requirement already satisfied: libclang>=13.0.0 in /Users/joshuagibson/anaconda3/envs/dev/lib/python3.10/site-packages (from tensorflow) (16.0.6)\n",
      "Requirement already satisfied: ml-dtypes~=0.2.0 in /Users/joshuagibson/anaconda3/envs/dev/lib/python3.10/site-packages (from tensorflow) (0.2.0)\n",
      "Requirement already satisfied: numpy<2.0.0,>=1.23.5 in /Users/joshuagibson/anaconda3/envs/dev/lib/python3.10/site-packages (from tensorflow) (1.26.3)\n",
      "Requirement already satisfied: opt-einsum>=2.3.2 in /Users/joshuagibson/anaconda3/envs/dev/lib/python3.10/site-packages (from tensorflow) (3.3.0)\n",
      "Requirement already satisfied: packaging in /Users/joshuagibson/anaconda3/envs/dev/lib/python3.10/site-packages (from tensorflow) (23.1)\n",
      "Requirement already satisfied: protobuf!=4.21.0,!=4.21.1,!=4.21.2,!=4.21.3,!=4.21.4,!=4.21.5,<5.0.0dev,>=3.20.3 in /Users/joshuagibson/anaconda3/envs/dev/lib/python3.10/site-packages (from tensorflow) (4.23.4)\n",
      "Requirement already satisfied: setuptools in /Users/joshuagibson/anaconda3/envs/dev/lib/python3.10/site-packages (from tensorflow) (68.2.2)\n",
      "Requirement already satisfied: six>=1.12.0 in /Users/joshuagibson/anaconda3/envs/dev/lib/python3.10/site-packages (from tensorflow) (1.16.0)\n",
      "Requirement already satisfied: termcolor>=1.1.0 in /Users/joshuagibson/anaconda3/envs/dev/lib/python3.10/site-packages (from tensorflow) (2.4.0)\n",
      "Requirement already satisfied: typing-extensions>=3.6.6 in /Users/joshuagibson/anaconda3/envs/dev/lib/python3.10/site-packages (from tensorflow) (4.9.0)\n",
      "Requirement already satisfied: wrapt<1.15,>=1.11.0 in /Users/joshuagibson/anaconda3/envs/dev/lib/python3.10/site-packages (from tensorflow) (1.14.1)\n",
      "Requirement already satisfied: tensorflow-io-gcs-filesystem>=0.23.1 in /Users/joshuagibson/anaconda3/envs/dev/lib/python3.10/site-packages (from tensorflow) (0.36.0)\n",
      "Requirement already satisfied: grpcio<2.0,>=1.24.3 in /Users/joshuagibson/anaconda3/envs/dev/lib/python3.10/site-packages (from tensorflow) (1.60.1)\n",
      "Requirement already satisfied: tensorboard<2.16,>=2.15 in /Users/joshuagibson/anaconda3/envs/dev/lib/python3.10/site-packages (from tensorflow) (2.15.1)\n",
      "Requirement already satisfied: tensorflow-estimator<2.16,>=2.15.0 in /Users/joshuagibson/anaconda3/envs/dev/lib/python3.10/site-packages (from tensorflow) (2.15.0)\n",
      "Requirement already satisfied: keras<2.16,>=2.15.0 in /Users/joshuagibson/anaconda3/envs/dev/lib/python3.10/site-packages (from tensorflow) (2.15.0)\n",
      "Requirement already satisfied: wheel<1.0,>=0.23.0 in /Users/joshuagibson/anaconda3/envs/dev/lib/python3.10/site-packages (from astunparse>=1.6.0->tensorflow) (0.41.2)\n",
      "Requirement already satisfied: google-auth<3,>=1.6.3 in /Users/joshuagibson/anaconda3/envs/dev/lib/python3.10/site-packages (from tensorboard<2.16,>=2.15->tensorflow) (2.27.0)\n",
      "Requirement already satisfied: google-auth-oauthlib<2,>=0.5 in /Users/joshuagibson/anaconda3/envs/dev/lib/python3.10/site-packages (from tensorboard<2.16,>=2.15->tensorflow) (1.2.0)\n",
      "Requirement already satisfied: markdown>=2.6.8 in /Users/joshuagibson/anaconda3/envs/dev/lib/python3.10/site-packages (from tensorboard<2.16,>=2.15->tensorflow) (3.4.1)\n",
      "Requirement already satisfied: requests<3,>=2.21.0 in /Users/joshuagibson/anaconda3/envs/dev/lib/python3.10/site-packages (from tensorboard<2.16,>=2.15->tensorflow) (2.31.0)\n",
      "Requirement already satisfied: tensorboard-data-server<0.8.0,>=0.7.0 in /Users/joshuagibson/anaconda3/envs/dev/lib/python3.10/site-packages (from tensorboard<2.16,>=2.15->tensorflow) (0.7.2)\n",
      "Requirement already satisfied: werkzeug>=1.0.1 in /Users/joshuagibson/anaconda3/envs/dev/lib/python3.10/site-packages (from tensorboard<2.16,>=2.15->tensorflow) (3.0.1)\n",
      "Requirement already satisfied: cachetools<6.0,>=2.0.0 in /Users/joshuagibson/anaconda3/envs/dev/lib/python3.10/site-packages (from google-auth<3,>=1.6.3->tensorboard<2.16,>=2.15->tensorflow) (5.3.2)\n",
      "Requirement already satisfied: pyasn1-modules>=0.2.1 in /Users/joshuagibson/anaconda3/envs/dev/lib/python3.10/site-packages (from google-auth<3,>=1.6.3->tensorboard<2.16,>=2.15->tensorflow) (0.3.0)\n",
      "Requirement already satisfied: rsa<5,>=3.1.4 in /Users/joshuagibson/anaconda3/envs/dev/lib/python3.10/site-packages (from google-auth<3,>=1.6.3->tensorboard<2.16,>=2.15->tensorflow) (4.9)\n",
      "Requirement already satisfied: requests-oauthlib>=0.7.0 in /Users/joshuagibson/anaconda3/envs/dev/lib/python3.10/site-packages (from google-auth-oauthlib<2,>=0.5->tensorboard<2.16,>=2.15->tensorflow) (1.3.1)\n",
      "Requirement already satisfied: charset-normalizer<4,>=2 in /Users/joshuagibson/anaconda3/envs/dev/lib/python3.10/site-packages (from requests<3,>=2.21.0->tensorboard<2.16,>=2.15->tensorflow) (2.0.4)\n",
      "Requirement already satisfied: idna<4,>=2.5 in /Users/joshuagibson/anaconda3/envs/dev/lib/python3.10/site-packages (from requests<3,>=2.21.0->tensorboard<2.16,>=2.15->tensorflow) (3.4)\n",
      "Requirement already satisfied: urllib3<3,>=1.21.1 in /Users/joshuagibson/anaconda3/envs/dev/lib/python3.10/site-packages (from requests<3,>=2.21.0->tensorboard<2.16,>=2.15->tensorflow) (1.26.18)\n",
      "Requirement already satisfied: certifi>=2017.4.17 in /Users/joshuagibson/anaconda3/envs/dev/lib/python3.10/site-packages (from requests<3,>=2.21.0->tensorboard<2.16,>=2.15->tensorflow) (2024.2.2)\n",
      "Requirement already satisfied: MarkupSafe>=2.1.1 in /Users/joshuagibson/anaconda3/envs/dev/lib/python3.10/site-packages (from werkzeug>=1.0.1->tensorboard<2.16,>=2.15->tensorflow) (2.1.3)\n",
      "Requirement already satisfied: pyasn1<0.6.0,>=0.4.6 in /Users/joshuagibson/anaconda3/envs/dev/lib/python3.10/site-packages (from pyasn1-modules>=0.2.1->google-auth<3,>=1.6.3->tensorboard<2.16,>=2.15->tensorflow) (0.5.1)\n",
      "Requirement already satisfied: oauthlib>=3.0.0 in /Users/joshuagibson/anaconda3/envs/dev/lib/python3.10/site-packages (from requests-oauthlib>=0.7.0->google-auth-oauthlib<2,>=0.5->tensorboard<2.16,>=2.15->tensorflow) (3.2.2)\n",
      "Note: you may need to restart the kernel to use updated packages.\n"
     ]
    }
   ],
   "source": [
    "pip install tensorflow"
   ]
  },
  {
   "cell_type": "code",
   "execution_count": 36,
   "id": "1db81bb1-1326-44a2-b007-5adc7c8865b0",
   "metadata": {
    "scrolled": true
   },
   "outputs": [
    {
     "name": "stdout",
     "output_type": "stream",
     "text": [
      "Requirement already satisfied: openpyxl in /Users/joshuagibson/anaconda3/envs/dev/lib/python3.10/site-packages (3.1.2)\n",
      "Requirement already satisfied: et-xmlfile in /Users/joshuagibson/anaconda3/envs/dev/lib/python3.10/site-packages (from openpyxl) (1.1.0)\n",
      "Note: you may need to restart the kernel to use updated packages.\n"
     ]
    }
   ],
   "source": [
    "pip install openpyxl"
   ]
  },
  {
   "cell_type": "code",
   "execution_count": 209,
   "id": "42573839-52af-4074-bbf1-2b5a81900ccd",
   "metadata": {},
   "outputs": [],
   "source": [
    "# Import our dependencies\n",
    "from sklearn.model_selection import train_test_split\n",
    "from sklearn.preprocessing import StandardScaler\n",
    "from sklearn.preprocessing import MinMaxScaler\n",
    "import pandas as pd\n",
    "import tensorflow as tf\n",
    "import numpy as np\n",
    "from pathlib import Path\n",
    "from keras.models import Sequential\n",
    "from keras.layers import LSTM,Dropout,Dense"
   ]
  },
  {
   "cell_type": "code",
   "execution_count": 210,
   "id": "886064b9-f602-4a1b-b1fd-6bb0efdb93c0",
   "metadata": {},
   "outputs": [
    {
     "data": {
      "text/html": [
       "<div>\n",
       "<style scoped>\n",
       "    .dataframe tbody tr th:only-of-type {\n",
       "        vertical-align: middle;\n",
       "    }\n",
       "\n",
       "    .dataframe tbody tr th {\n",
       "        vertical-align: top;\n",
       "    }\n",
       "\n",
       "    .dataframe thead th {\n",
       "        text-align: right;\n",
       "    }\n",
       "</style>\n",
       "<table border=\"1\" class=\"dataframe\">\n",
       "  <thead>\n",
       "    <tr style=\"text-align: right;\">\n",
       "      <th></th>\n",
       "      <th>Date</th>\n",
       "      <th>S&amp;P500</th>\n",
       "    </tr>\n",
       "  </thead>\n",
       "  <tbody>\n",
       "    <tr>\n",
       "      <th>0</th>\n",
       "      <td>2014-02-18</td>\n",
       "      <td>1840.76</td>\n",
       "    </tr>\n",
       "    <tr>\n",
       "      <th>1</th>\n",
       "      <td>2014-02-19</td>\n",
       "      <td>1828.75</td>\n",
       "    </tr>\n",
       "    <tr>\n",
       "      <th>2</th>\n",
       "      <td>2014-02-20</td>\n",
       "      <td>1839.78</td>\n",
       "    </tr>\n",
       "    <tr>\n",
       "      <th>3</th>\n",
       "      <td>2014-02-21</td>\n",
       "      <td>1836.25</td>\n",
       "    </tr>\n",
       "    <tr>\n",
       "      <th>4</th>\n",
       "      <td>2014-02-24</td>\n",
       "      <td>1847.61</td>\n",
       "    </tr>\n",
       "    <tr>\n",
       "      <th>...</th>\n",
       "      <td>...</td>\n",
       "      <td>...</td>\n",
       "    </tr>\n",
       "    <tr>\n",
       "      <th>2511</th>\n",
       "      <td>2024-02-08</td>\n",
       "      <td>4997.91</td>\n",
       "    </tr>\n",
       "    <tr>\n",
       "      <th>2512</th>\n",
       "      <td>2024-02-09</td>\n",
       "      <td>5026.61</td>\n",
       "    </tr>\n",
       "    <tr>\n",
       "      <th>2513</th>\n",
       "      <td>2024-02-12</td>\n",
       "      <td>5021.84</td>\n",
       "    </tr>\n",
       "    <tr>\n",
       "      <th>2514</th>\n",
       "      <td>2024-02-13</td>\n",
       "      <td>4953.17</td>\n",
       "    </tr>\n",
       "    <tr>\n",
       "      <th>2515</th>\n",
       "      <td>2024-02-14</td>\n",
       "      <td>5000.62</td>\n",
       "    </tr>\n",
       "  </tbody>\n",
       "</table>\n",
       "<p>2516 rows × 2 columns</p>\n",
       "</div>"
      ],
      "text/plain": [
       "            Date   S&P500\n",
       "0     2014-02-18  1840.76\n",
       "1     2014-02-19  1828.75\n",
       "2     2014-02-20  1839.78\n",
       "3     2014-02-21  1836.25\n",
       "4     2014-02-24  1847.61\n",
       "...          ...      ...\n",
       "2511  2024-02-08  4997.91\n",
       "2512  2024-02-09  5026.61\n",
       "2513  2024-02-12  5021.84\n",
       "2514  2024-02-13  4953.17\n",
       "2515  2024-02-14  5000.62\n",
       "\n",
       "[2516 rows x 2 columns]"
      ]
     },
     "execution_count": 210,
     "metadata": {},
     "output_type": "execute_result"
    }
   ],
   "source": [
    "sp_index = pd.read_csv(\"sp500_index.csv\")\n",
    "sp_index"
   ]
  },
  {
   "cell_type": "code",
   "execution_count": 211,
   "id": "ff777561-4b88-4721-bc3c-a9bfc3565f2a",
   "metadata": {
    "scrolled": true
   },
   "outputs": [
    {
     "data": {
      "text/html": [
       "<div>\n",
       "<style scoped>\n",
       "    .dataframe tbody tr th:only-of-type {\n",
       "        vertical-align: middle;\n",
       "    }\n",
       "\n",
       "    .dataframe tbody tr th {\n",
       "        vertical-align: top;\n",
       "    }\n",
       "\n",
       "    .dataframe thead th {\n",
       "        text-align: right;\n",
       "    }\n",
       "</style>\n",
       "<table border=\"1\" class=\"dataframe\">\n",
       "  <thead>\n",
       "    <tr style=\"text-align: right;\">\n",
       "      <th></th>\n",
       "      <th>Date</th>\n",
       "      <th>Symbol</th>\n",
       "      <th>Adj Close</th>\n",
       "      <th>Close</th>\n",
       "      <th>High</th>\n",
       "      <th>Low</th>\n",
       "      <th>Open</th>\n",
       "      <th>Volume</th>\n",
       "    </tr>\n",
       "  </thead>\n",
       "  <tbody>\n",
       "    <tr>\n",
       "      <th>0</th>\n",
       "      <td>2020-01-02</td>\n",
       "      <td>MMM</td>\n",
       "      <td>166.588959</td>\n",
       "      <td>180.000000</td>\n",
       "      <td>180.009995</td>\n",
       "      <td>177.139999</td>\n",
       "      <td>177.679993</td>\n",
       "      <td>3601700.0</td>\n",
       "    </tr>\n",
       "    <tr>\n",
       "      <th>1</th>\n",
       "      <td>2020-01-03</td>\n",
       "      <td>MMM</td>\n",
       "      <td>165.154465</td>\n",
       "      <td>178.449997</td>\n",
       "      <td>178.660004</td>\n",
       "      <td>175.630005</td>\n",
       "      <td>177.020004</td>\n",
       "      <td>2466900.0</td>\n",
       "    </tr>\n",
       "    <tr>\n",
       "      <th>2</th>\n",
       "      <td>2020-01-06</td>\n",
       "      <td>MMM</td>\n",
       "      <td>165.311783</td>\n",
       "      <td>178.619995</td>\n",
       "      <td>178.710007</td>\n",
       "      <td>176.350006</td>\n",
       "      <td>177.149994</td>\n",
       "      <td>1998000.0</td>\n",
       "    </tr>\n",
       "    <tr>\n",
       "      <th>3</th>\n",
       "      <td>2020-01-07</td>\n",
       "      <td>MMM</td>\n",
       "      <td>164.645416</td>\n",
       "      <td>177.899994</td>\n",
       "      <td>178.509995</td>\n",
       "      <td>176.820007</td>\n",
       "      <td>178.279999</td>\n",
       "      <td>2173000.0</td>\n",
       "    </tr>\n",
       "    <tr>\n",
       "      <th>4</th>\n",
       "      <td>2020-01-08</td>\n",
       "      <td>MMM</td>\n",
       "      <td>167.172028</td>\n",
       "      <td>180.630005</td>\n",
       "      <td>181.500000</td>\n",
       "      <td>177.649994</td>\n",
       "      <td>178.000000</td>\n",
       "      <td>2758300.0</td>\n",
       "    </tr>\n",
       "  </tbody>\n",
       "</table>\n",
       "</div>"
      ],
      "text/plain": [
       "        Date Symbol   Adj Close       Close        High         Low  \\\n",
       "0 2020-01-02    MMM  166.588959  180.000000  180.009995  177.139999   \n",
       "1 2020-01-03    MMM  165.154465  178.449997  178.660004  175.630005   \n",
       "2 2020-01-06    MMM  165.311783  178.619995  178.710007  176.350006   \n",
       "3 2020-01-07    MMM  164.645416  177.899994  178.509995  176.820007   \n",
       "4 2020-01-08    MMM  167.172028  180.630005  181.500000  177.649994   \n",
       "\n",
       "         Open     Volume  \n",
       "0  177.679993  3601700.0  \n",
       "1  177.020004  2466900.0  \n",
       "2  177.149994  1998000.0  \n",
       "3  178.279999  2173000.0  \n",
       "4  178.000000  2758300.0  "
      ]
     },
     "execution_count": 211,
     "metadata": {},
     "output_type": "execute_result"
    }
   ],
   "source": [
    "sp_stocks = pd.read_excel(\"sp500_stocks_4years.xlsx\")\n",
    "sp_stocks.head()\n"
   ]
  },
  {
   "cell_type": "code",
   "execution_count": 212,
   "id": "030aeeb7-413f-4920-81ea-d3ae373a8278",
   "metadata": {
    "scrolled": true
   },
   "outputs": [
    {
     "data": {
      "image/png": "[encoded data removed]",
      "text/plain": [
       "<Figure size 2000x1000 with 1 Axes>"
      ]
     },
     "metadata": {},
     "output_type": "display_data"
    }
   ],
   "source": [
    "sp_index['Date'] = pd.to_datetime(sp_index.Date,format=\"%Y-%m-%d\")\n",
    "sp_index.index=sp_index['Date']\n",
    "\n",
    "# Plot the data\n",
    "sp_index.plot(x='Date', y='S&P500', kind='line', linestyle='-')\n",
    "\n",
    "# Add labels and title\n",
    "plt.xlabel('Date')\n",
    "plt.ylabel('Stock Price')\n",
    "plt.title('S&P500 Last 10 Years')\n",
    "\n",
    "# Show the plot\n",
    "plt.show()"
   ]
  },
  {
   "cell_type": "code",
   "execution_count": 292,
   "id": "51f6c3eb-a493-4d08-a8ce-ec6c3afa57fa",
   "metadata": {
    "scrolled": true
   },
   "outputs": [
    {
     "data": {
      "text/html": [
       "<div>\n",
       "<style scoped>\n",
       "    .dataframe tbody tr th:only-of-type {\n",
       "        vertical-align: middle;\n",
       "    }\n",
       "\n",
       "    .dataframe tbody tr th {\n",
       "        vertical-align: top;\n",
       "    }\n",
       "\n",
       "    .dataframe thead th {\n",
       "        text-align: right;\n",
       "    }\n",
       "</style>\n",
       "<table border=\"1\" class=\"dataframe\">\n",
       "  <thead>\n",
       "    <tr style=\"text-align: right;\">\n",
       "      <th></th>\n",
       "      <th>Date</th>\n",
       "      <th>Symbol</th>\n",
       "      <th>Adj Close</th>\n",
       "      <th>Close</th>\n",
       "      <th>High</th>\n",
       "      <th>Low</th>\n",
       "      <th>Open</th>\n",
       "      <th>Volume</th>\n",
       "    </tr>\n",
       "  </thead>\n",
       "  <tbody>\n",
       "    <tr>\n",
       "      <th>40482</th>\n",
       "      <td>2020-01-02</td>\n",
       "      <td>AAPL</td>\n",
       "      <td>73.059410</td>\n",
       "      <td>75.087502</td>\n",
       "      <td>75.150002</td>\n",
       "      <td>73.797501</td>\n",
       "      <td>74.059998</td>\n",
       "      <td>135480400.0</td>\n",
       "    </tr>\n",
       "    <tr>\n",
       "      <th>40483</th>\n",
       "      <td>2020-01-03</td>\n",
       "      <td>AAPL</td>\n",
       "      <td>72.349152</td>\n",
       "      <td>74.357498</td>\n",
       "      <td>75.144997</td>\n",
       "      <td>74.125000</td>\n",
       "      <td>74.287498</td>\n",
       "      <td>146322800.0</td>\n",
       "    </tr>\n",
       "    <tr>\n",
       "      <th>40484</th>\n",
       "      <td>2020-01-06</td>\n",
       "      <td>AAPL</td>\n",
       "      <td>72.925644</td>\n",
       "      <td>74.949997</td>\n",
       "      <td>74.989998</td>\n",
       "      <td>73.187500</td>\n",
       "      <td>73.447502</td>\n",
       "      <td>118387200.0</td>\n",
       "    </tr>\n",
       "    <tr>\n",
       "      <th>40485</th>\n",
       "      <td>2020-01-07</td>\n",
       "      <td>AAPL</td>\n",
       "      <td>72.582657</td>\n",
       "      <td>74.597504</td>\n",
       "      <td>75.224998</td>\n",
       "      <td>74.370003</td>\n",
       "      <td>74.959999</td>\n",
       "      <td>108872000.0</td>\n",
       "    </tr>\n",
       "    <tr>\n",
       "      <th>40486</th>\n",
       "      <td>2020-01-08</td>\n",
       "      <td>AAPL</td>\n",
       "      <td>73.750252</td>\n",
       "      <td>75.797501</td>\n",
       "      <td>76.110001</td>\n",
       "      <td>74.290001</td>\n",
       "      <td>74.290001</td>\n",
       "      <td>132079200.0</td>\n",
       "    </tr>\n",
       "    <tr>\n",
       "      <th>...</th>\n",
       "      <td>...</td>\n",
       "      <td>...</td>\n",
       "      <td>...</td>\n",
       "      <td>...</td>\n",
       "      <td>...</td>\n",
       "      <td>...</td>\n",
       "      <td>...</td>\n",
       "      <td>...</td>\n",
       "    </tr>\n",
       "    <tr>\n",
       "      <th>41515</th>\n",
       "      <td>2024-02-09</td>\n",
       "      <td>AAPL</td>\n",
       "      <td>188.850006</td>\n",
       "      <td>188.850006</td>\n",
       "      <td>189.990005</td>\n",
       "      <td>188.000000</td>\n",
       "      <td>188.649994</td>\n",
       "      <td>45155200.0</td>\n",
       "    </tr>\n",
       "    <tr>\n",
       "      <th>41516</th>\n",
       "      <td>2024-02-12</td>\n",
       "      <td>AAPL</td>\n",
       "      <td>187.149994</td>\n",
       "      <td>187.149994</td>\n",
       "      <td>188.669998</td>\n",
       "      <td>186.789993</td>\n",
       "      <td>188.419998</td>\n",
       "      <td>41781900.0</td>\n",
       "    </tr>\n",
       "    <tr>\n",
       "      <th>41517</th>\n",
       "      <td>2024-02-13</td>\n",
       "      <td>AAPL</td>\n",
       "      <td>185.039993</td>\n",
       "      <td>185.039993</td>\n",
       "      <td>186.210007</td>\n",
       "      <td>183.509995</td>\n",
       "      <td>185.770004</td>\n",
       "      <td>56529500.0</td>\n",
       "    </tr>\n",
       "    <tr>\n",
       "      <th>41518</th>\n",
       "      <td>2024-02-14</td>\n",
       "      <td>AAPL</td>\n",
       "      <td>184.149994</td>\n",
       "      <td>184.149994</td>\n",
       "      <td>185.529999</td>\n",
       "      <td>182.440002</td>\n",
       "      <td>185.320007</td>\n",
       "      <td>54630500.0</td>\n",
       "    </tr>\n",
       "    <tr>\n",
       "      <th>41519</th>\n",
       "      <td>2024-02-15</td>\n",
       "      <td>AAPL</td>\n",
       "      <td>183.860001</td>\n",
       "      <td>183.860001</td>\n",
       "      <td>184.490005</td>\n",
       "      <td>181.399994</td>\n",
       "      <td>183.550003</td>\n",
       "      <td>63936069.0</td>\n",
       "    </tr>\n",
       "  </tbody>\n",
       "</table>\n",
       "<p>1038 rows × 8 columns</p>\n",
       "</div>"
      ],
      "text/plain": [
       "            Date Symbol   Adj Close       Close        High         Low  \\\n",
       "40482 2020-01-02   AAPL   73.059410   75.087502   75.150002   73.797501   \n",
       "40483 2020-01-03   AAPL   72.349152   74.357498   75.144997   74.125000   \n",
       "40484 2020-01-06   AAPL   72.925644   74.949997   74.989998   73.187500   \n",
       "40485 2020-01-07   AAPL   72.582657   74.597504   75.224998   74.370003   \n",
       "40486 2020-01-08   AAPL   73.750252   75.797501   76.110001   74.290001   \n",
       "...          ...    ...         ...         ...         ...         ...   \n",
       "41515 2024-02-09   AAPL  188.850006  188.850006  189.990005  188.000000   \n",
       "41516 2024-02-12   AAPL  187.149994  187.149994  188.669998  186.789993   \n",
       "41517 2024-02-13   AAPL  185.039993  185.039993  186.210007  183.509995   \n",
       "41518 2024-02-14   AAPL  184.149994  184.149994  185.529999  182.440002   \n",
       "41519 2024-02-15   AAPL  183.860001  183.860001  184.490005  181.399994   \n",
       "\n",
       "             Open       Volume  \n",
       "40482   74.059998  135480400.0  \n",
       "40483   74.287498  146322800.0  \n",
       "40484   73.447502  118387200.0  \n",
       "40485   74.959999  108872000.0  \n",
       "40486   74.290001  132079200.0  \n",
       "...           ...          ...  \n",
       "41515  188.649994   45155200.0  \n",
       "41516  188.419998   41781900.0  \n",
       "41517  185.770004   56529500.0  \n",
       "41518  185.320007   54630500.0  \n",
       "41519  183.550003   63936069.0  \n",
       "\n",
       "[1038 rows x 8 columns]"
      ]
     },
     "execution_count": 292,
     "metadata": {},
     "output_type": "execute_result"
    }
   ],
   "source": [
    "apple_df = sp_stocks[sp_stocks['Symbol'] == 'AAPL']\n",
    "apple_df"
   ]
  },
  {
   "cell_type": "code",
   "execution_count": 293,
   "id": "a2f62c91-e63b-401e-9a42-85191948bf4e",
   "metadata": {
    "scrolled": true
   },
   "outputs": [
    {
     "data": {
      "image/png": "[encoded data removed]",
      "text/plain": [
       "<Figure size 2000x1000 with 1 Axes>"
      ]
     },
     "metadata": {},
     "output_type": "display_data"
    }
   ],
   "source": [
    "apple_df.plot(x='Date', y='Close', kind='line', linestyle='-')\n",
    "\n",
    "# Add labels and title\n",
    "plt.xlabel('Date')\n",
    "plt.ylabel('Stock Price')\n",
    "plt.title('Apple Stock Last 4 Years')\n",
    "\n",
    "# Show the plot\n",
    "plt.show()"
   ]
  },
  {
   "cell_type": "code",
   "execution_count": 335,
   "id": "8ce79871-abe1-4cdb-b2ea-3b596e2aaa0b",
   "metadata": {},
   "outputs": [
    {
     "name": "stderr",
     "output_type": "stream",
     "text": [
      "/var/folders/by/st2c4w_96757fgwg7jsfc4480000gn/T/ipykernel_67404/946486345.py:1: SettingWithCopyWarning: \n",
      "A value is trying to be set on a copy of a slice from a DataFrame.\n",
      "Try using .loc[row_indexer,col_indexer] = value instead\n",
      "\n",
      "See the caveats in the documentation: https://pandas.pydata.org/pandas-docs/stable/user_guide/indexing.html#returning-a-view-versus-a-copy\n",
      "  apple_df[\"Date\"]=pd.to_datetime(apple_df.Date,format=\"%Y-%m-%d\")\n"
     ]
    },
    {
     "data": {
      "text/plain": [
       "[<matplotlib.lines.Line2D at 0x7f839516ac50>]"
      ]
     },
     "execution_count": 335,
     "metadata": {},
     "output_type": "execute_result"
    },
    {
     "data": {
      "image/png": "[encoded data removed]",
      "text/plain": [
       "<Figure size 1600x800 with 1 Axes>"
      ]
     },
     "metadata": {},
     "output_type": "display_data"
    }
   ],
   "source": [
    "apple_df[\"Date\"]=pd.to_datetime(apple_df.Date,format=\"%Y-%m-%d\")\n",
    "apple_df.index=apple_df['Date']\n",
    "\n",
    "plt.figure(figsize=(16,8))\n",
    "plt.plot(apple_df[\"Close\"],label='Close Price history')"
   ]
  },
  {
   "cell_type": "code",
   "execution_count": 336,
   "id": "cce61067-d188-4869-84fa-769baf7bc8d2",
   "metadata": {},
   "outputs": [
    {
     "name": "stderr",
     "output_type": "stream",
     "text": [
      "/var/folders/by/st2c4w_96757fgwg7jsfc4480000gn/T/ipykernel_67404/82126751.py:5: FutureWarning: Series.__getitem__ treating keys as positions is deprecated. In a future version, integer keys will always be treated as labels (consistent with DataFrame behavior). To access a value by position, use `ser.iloc[pos]`\n",
      "  new_dataset[\"Date\"][i]=data[\"Date\"][i]\n",
      "/var/folders/by/st2c4w_96757fgwg7jsfc4480000gn/T/ipykernel_67404/82126751.py:6: FutureWarning: Series.__getitem__ treating keys as positions is deprecated. In a future version, integer keys will always be treated as labels (consistent with DataFrame behavior). To access a value by position, use `ser.iloc[pos]`\n",
      "  new_dataset[\"Close\"][i]=data[\"Close\"][i]\n"
     ]
    }
   ],
   "source": [
    "data=apple_df.sort_index(ascending=True,axis=0)\n",
    "new_dataset=pd.DataFrame(index=range(0,len(data)),columns=['Date','Close'])\n",
    "\n",
    "for i in range(0,len(data)):\n",
    "    new_dataset[\"Date\"][i]=data[\"Date\"][i]\n",
    "    new_dataset[\"Close\"][i]=data[\"Close\"][i]"
   ]
  },
  {
   "cell_type": "code",
   "execution_count": 337,
   "id": "b71b8c87",
   "metadata": {},
   "outputs": [
    {
     "data": {
      "text/html": [
       "<div>\n",
       "<style scoped>\n",
       "    .dataframe tbody tr th:only-of-type {\n",
       "        vertical-align: middle;\n",
       "    }\n",
       "\n",
       "    .dataframe tbody tr th {\n",
       "        vertical-align: top;\n",
       "    }\n",
       "\n",
       "    .dataframe thead th {\n",
       "        text-align: right;\n",
       "    }\n",
       "</style>\n",
       "<table border=\"1\" class=\"dataframe\">\n",
       "  <thead>\n",
       "    <tr style=\"text-align: right;\">\n",
       "      <th></th>\n",
       "      <th>Date</th>\n",
       "      <th>Close</th>\n",
       "    </tr>\n",
       "  </thead>\n",
       "  <tbody>\n",
       "    <tr>\n",
       "      <th>0</th>\n",
       "      <td>2020-01-02 00:00:00</td>\n",
       "      <td>75.087502</td>\n",
       "    </tr>\n",
       "    <tr>\n",
       "      <th>1</th>\n",
       "      <td>2020-01-03 00:00:00</td>\n",
       "      <td>74.357498</td>\n",
       "    </tr>\n",
       "    <tr>\n",
       "      <th>2</th>\n",
       "      <td>2020-01-06 00:00:00</td>\n",
       "      <td>74.949997</td>\n",
       "    </tr>\n",
       "    <tr>\n",
       "      <th>3</th>\n",
       "      <td>2020-01-07 00:00:00</td>\n",
       "      <td>74.597504</td>\n",
       "    </tr>\n",
       "    <tr>\n",
       "      <th>4</th>\n",
       "      <td>2020-01-08 00:00:00</td>\n",
       "      <td>75.797501</td>\n",
       "    </tr>\n",
       "    <tr>\n",
       "      <th>...</th>\n",
       "      <td>...</td>\n",
       "      <td>...</td>\n",
       "    </tr>\n",
       "    <tr>\n",
       "      <th>1033</th>\n",
       "      <td>2024-02-09 00:00:00</td>\n",
       "      <td>188.850006</td>\n",
       "    </tr>\n",
       "    <tr>\n",
       "      <th>1034</th>\n",
       "      <td>2024-02-12 00:00:00</td>\n",
       "      <td>187.149994</td>\n",
       "    </tr>\n",
       "    <tr>\n",
       "      <th>1035</th>\n",
       "      <td>2024-02-13 00:00:00</td>\n",
       "      <td>185.039993</td>\n",
       "    </tr>\n",
       "    <tr>\n",
       "      <th>1036</th>\n",
       "      <td>2024-02-14 00:00:00</td>\n",
       "      <td>184.149994</td>\n",
       "    </tr>\n",
       "    <tr>\n",
       "      <th>1037</th>\n",
       "      <td>2024-02-15 00:00:00</td>\n",
       "      <td>183.860001</td>\n",
       "    </tr>\n",
       "  </tbody>\n",
       "</table>\n",
       "<p>1038 rows × 2 columns</p>\n",
       "</div>"
      ],
      "text/plain": [
       "                     Date       Close\n",
       "0     2020-01-02 00:00:00   75.087502\n",
       "1     2020-01-03 00:00:00   74.357498\n",
       "2     2020-01-06 00:00:00   74.949997\n",
       "3     2020-01-07 00:00:00   74.597504\n",
       "4     2020-01-08 00:00:00   75.797501\n",
       "...                   ...         ...\n",
       "1033  2024-02-09 00:00:00  188.850006\n",
       "1034  2024-02-12 00:00:00  187.149994\n",
       "1035  2024-02-13 00:00:00  185.039993\n",
       "1036  2024-02-14 00:00:00  184.149994\n",
       "1037  2024-02-15 00:00:00  183.860001\n",
       "\n",
       "[1038 rows x 2 columns]"
      ]
     },
     "execution_count": 337,
     "metadata": {},
     "output_type": "execute_result"
    }
   ],
   "source": [
    "new_dataset"
   ]
  },
  {
   "cell_type": "code",
   "execution_count": 338,
   "id": "ee28d257",
   "metadata": {},
   "outputs": [],
   "source": [
    "scaler=MinMaxScaler(feature_range=(0,1))\n",
    "final_dataset=new_dataset.values\n",
    "\n",
    "train_data=final_dataset[0:1037,:]\n",
    "valid_data=final_dataset[1037:,:]\n",
    "\n",
    "#new_dataset.index=new_dataset.Date\n",
    "# Convert the \"Date\" column to string\n",
    "new_dataset['Date'] = new_dataset['Date'].astype(str)\n",
    "\n",
    "# Extract only the date part\n",
    "new_dataset['Date'] = new_dataset['Date'].str.split(' ').str[0]"
   ]
  },
  {
   "cell_type": "code",
   "execution_count": 339,
   "id": "c74f23da-d7d1-42ec-a870-d9f192d7665d",
   "metadata": {},
   "outputs": [
    {
     "data": {
      "text/html": [
       "<div>\n",
       "<style scoped>\n",
       "    .dataframe tbody tr th:only-of-type {\n",
       "        vertical-align: middle;\n",
       "    }\n",
       "\n",
       "    .dataframe tbody tr th {\n",
       "        vertical-align: top;\n",
       "    }\n",
       "\n",
       "    .dataframe thead th {\n",
       "        text-align: right;\n",
       "    }\n",
       "</style>\n",
       "<table border=\"1\" class=\"dataframe\">\n",
       "  <thead>\n",
       "    <tr style=\"text-align: right;\">\n",
       "      <th></th>\n",
       "      <th>Date</th>\n",
       "      <th>Close</th>\n",
       "    </tr>\n",
       "  </thead>\n",
       "  <tbody>\n",
       "    <tr>\n",
       "      <th>0</th>\n",
       "      <td>2020-01-02</td>\n",
       "      <td>75.087502</td>\n",
       "    </tr>\n",
       "    <tr>\n",
       "      <th>1</th>\n",
       "      <td>2020-01-03</td>\n",
       "      <td>74.357498</td>\n",
       "    </tr>\n",
       "    <tr>\n",
       "      <th>2</th>\n",
       "      <td>2020-01-06</td>\n",
       "      <td>74.949997</td>\n",
       "    </tr>\n",
       "    <tr>\n",
       "      <th>3</th>\n",
       "      <td>2020-01-07</td>\n",
       "      <td>74.597504</td>\n",
       "    </tr>\n",
       "    <tr>\n",
       "      <th>4</th>\n",
       "      <td>2020-01-08</td>\n",
       "      <td>75.797501</td>\n",
       "    </tr>\n",
       "    <tr>\n",
       "      <th>...</th>\n",
       "      <td>...</td>\n",
       "      <td>...</td>\n",
       "    </tr>\n",
       "    <tr>\n",
       "      <th>1033</th>\n",
       "      <td>2024-02-09</td>\n",
       "      <td>188.850006</td>\n",
       "    </tr>\n",
       "    <tr>\n",
       "      <th>1034</th>\n",
       "      <td>2024-02-12</td>\n",
       "      <td>187.149994</td>\n",
       "    </tr>\n",
       "    <tr>\n",
       "      <th>1035</th>\n",
       "      <td>2024-02-13</td>\n",
       "      <td>185.039993</td>\n",
       "    </tr>\n",
       "    <tr>\n",
       "      <th>1036</th>\n",
       "      <td>2024-02-14</td>\n",
       "      <td>184.149994</td>\n",
       "    </tr>\n",
       "    <tr>\n",
       "      <th>1037</th>\n",
       "      <td>2024-02-15</td>\n",
       "      <td>183.860001</td>\n",
       "    </tr>\n",
       "  </tbody>\n",
       "</table>\n",
       "<p>1038 rows × 2 columns</p>\n",
       "</div>"
      ],
      "text/plain": [
       "            Date       Close\n",
       "0     2020-01-02   75.087502\n",
       "1     2020-01-03   74.357498\n",
       "2     2020-01-06   74.949997\n",
       "3     2020-01-07   74.597504\n",
       "4     2020-01-08   75.797501\n",
       "...          ...         ...\n",
       "1033  2024-02-09  188.850006\n",
       "1034  2024-02-12  187.149994\n",
       "1035  2024-02-13  185.039993\n",
       "1036  2024-02-14  184.149994\n",
       "1037  2024-02-15  183.860001\n",
       "\n",
       "[1038 rows x 2 columns]"
      ]
     },
     "execution_count": 339,
     "metadata": {},
     "output_type": "execute_result"
    }
   ],
   "source": [
    "new_dataset"
   ]
  },
  {
   "cell_type": "code",
   "execution_count": 340,
   "id": "48162059-3891-4acb-8f5f-193e52a45171",
   "metadata": {},
   "outputs": [],
   "source": [
    "new_dataset.drop(\"Date\",axis=1,inplace=True)\n",
    "final_dataset = new_dataset.values\n",
    "\n",
    "scaled_data=scaler.fit_transform(final_dataset)\n",
    "\n",
    "x_train_data,y_train_data=[],[]\n",
    "\n",
    "for i in range(60,len(train_data)):\n",
    "    x_train_data.append(scaled_data[i-60:i,0])\n",
    "    y_train_data.append(scaled_data[i,0])\n",
    "    \n",
    "x_train_data,y_train_data=np.array(x_train_data),np.array(y_train_data)\n",
    "\n",
    "x_train_data=np.reshape(x_train_data,(x_train_data.shape[0],x_train_data.shape[1],1))"
   ]
  },
  {
   "cell_type": "code",
   "execution_count": 341,
   "id": "57dc7734",
   "metadata": {},
   "outputs": [
    {
     "data": {
      "text/plain": [
       "array([[75.0875015258789],\n",
       "       [74.3574981689453],\n",
       "       [74.9499969482421],\n",
       "       ...,\n",
       "       [185.039993286132],\n",
       "       [184.149993896484],\n",
       "       [183.860000610351]], dtype=object)"
      ]
     },
     "execution_count": 341,
     "metadata": {},
     "output_type": "execute_result"
    }
   ],
   "source": [
    "final_dataset"
   ]
  },
  {
   "cell_type": "code",
   "execution_count": 342,
   "id": "09581e32",
   "metadata": {},
   "outputs": [
    {
     "name": "stdout",
     "output_type": "stream",
     "text": [
      "977/977 - 18s - loss: 0.0049 - 18s/epoch - 19ms/step\n"
     ]
    },
    {
     "data": {
      "text/plain": [
       "<keras.src.callbacks.History at 0x7f8397ddbee0>"
      ]
     },
     "execution_count": 342,
     "metadata": {},
     "output_type": "execute_result"
    }
   ],
   "source": [
    "lstm_model=Sequential()\n",
    "lstm_model.add(LSTM(units=50,return_sequences=True,input_shape=(x_train_data.shape[1],1)))\n",
    "lstm_model.add(LSTM(units=50))\n",
    "lstm_model.add(Dense(1))\n",
    "\n",
    "inputs_data=new_dataset[len(new_dataset)-len(valid_data)-60:].values\n",
    "inputs_data=inputs_data.reshape(-1,1)\n",
    "inputs_data=scaler.transform(inputs_data)\n",
    "\n",
    "lstm_model.compile(loss='mean_squared_error',optimizer='adam')\n",
    "lstm_model.fit(x_train_data,y_train_data,epochs=1,batch_size=1,verbose=2)"
   ]
  },
  {
   "cell_type": "code",
   "execution_count": 343,
   "id": "41598ec2",
   "metadata": {},
   "outputs": [
    {
     "data": {
      "text/plain": [
       "array([[0.94071155],\n",
       "       [0.95310435],\n",
       "       [0.94740084],\n",
       "       [0.95211856],\n",
       "       [0.94268313],\n",
       "       [0.94141562],\n",
       "       [0.94571087],\n",
       "       [0.93845825],\n",
       "       [0.94254227],\n",
       "       [0.95162571],\n",
       "       [0.93888072],\n",
       "       [0.96697588],\n",
       "       [0.95923042],\n",
       "       [0.9729611 ],\n",
       "       [0.98310072],\n",
       "       [0.96528591],\n",
       "       [0.97605933],\n",
       "       [0.99894384],\n",
       "       [1.        ],\n",
       "       [0.9961977 ],\n",
       "       [0.98436812],\n",
       "       [0.99176159],\n",
       "       [0.97690426],\n",
       "       [0.97584799],\n",
       "       [0.96824339],\n",
       "       [0.96437061],\n",
       "       [0.96507468],\n",
       "       [0.96810253],\n",
       "       [0.96070906],\n",
       "       [0.91219391],\n",
       "       [0.90240639],\n",
       "       [0.88592957],\n",
       "       [0.88078929],\n",
       "       [0.91163059],\n",
       "       [0.90867322],\n",
       "       [0.9160667 ],\n",
       "       [0.91184182],\n",
       "       [0.91416549],\n",
       "       [0.89804077],\n",
       "       [0.89135136],\n",
       "       [0.93324769],\n",
       "       [0.9538789 ],\n",
       "       [0.97028534],\n",
       "       [0.97936868],\n",
       "       [0.97458059],\n",
       "       [0.97225692],\n",
       "       [0.9599345 ],\n",
       "       [0.95507593],\n",
       "       [0.92909319],\n",
       "       [0.90346256],\n",
       "       [0.92078441],\n",
       "       [0.91367265],\n",
       "       [0.92655829],\n",
       "       [0.93796541],\n",
       "       [0.93873997],\n",
       "       [0.93106488],\n",
       "       [0.93479681],\n",
       "       [0.92282637],\n",
       "       [0.90796904],\n",
       "       [0.90170221],\n",
       "       [0.89966025]])"
      ]
     },
     "execution_count": 343,
     "metadata": {},
     "output_type": "execute_result"
    }
   ],
   "source": [
    "inputs_data"
   ]
  },
  {
   "cell_type": "code",
   "execution_count": 344,
   "id": "215c99f6",
   "metadata": {},
   "outputs": [
    {
     "name": "stdout",
     "output_type": "stream",
     "text": [
      "1/1 [==============================] - 1s 554ms/step\n"
     ]
    }
   ],
   "source": [
    "X_test=[]\n",
    "for i in range(60,inputs_data.shape[0]):\n",
    "    X_test.append(inputs_data[i-60:i,0])\n",
    "X_test=np.array(X_test)\n",
    "\n",
    "X_test=np.reshape(X_test,(X_test.shape[0],X_test.shape[1],1))\n",
    "predicted_closing_price=lstm_model.predict(X_test)\n",
    "predicted_closing_price=scaler.inverse_transform(predicted_closing_price)"
   ]
  },
  {
   "cell_type": "code",
   "execution_count": 345,
   "id": "c01e9f65-60a4-479f-98f3-aa03efdd92eb",
   "metadata": {},
   "outputs": [
    {
     "name": "stdout",
     "output_type": "stream",
     "text": [
      "1/1 [==============================] - 0s 20ms/step\n"
     ]
    }
   ],
   "source": [
    "predicted_closing_price=lstm_model.predict(X_test)\n",
    "predicted_closing_price=scaler.inverse_transform(predicted_closing_price)"
   ]
  },
  {
   "cell_type": "code",
   "execution_count": 346,
   "id": "3814a2e0-fce2-4088-b941-9b99d0e57c11",
   "metadata": {},
   "outputs": [
    {
     "data": {
      "text/plain": [
       "array([[189.63515]], dtype=float32)"
      ]
     },
     "execution_count": 346,
     "metadata": {},
     "output_type": "execute_result"
    }
   ],
   "source": [
    "predicted_closing_price"
   ]
  },
  {
   "cell_type": "code",
   "execution_count": 347,
   "id": "102fd727-1bde-441f-bffe-655966d19619",
   "metadata": {
    "scrolled": true
   },
   "outputs": [
    {
     "data": {
      "text/plain": [
       "array([[Timestamp('2024-02-15 00:00:00'), 183.860000610351]], dtype=object)"
      ]
     },
     "execution_count": 347,
     "metadata": {},
     "output_type": "execute_result"
    }
   ],
   "source": [
    "valid_data"
   ]
  },
  {
   "cell_type": "code",
   "execution_count": 348,
   "id": "2c88193e-a6bd-42af-83bc-898ab071fc3d",
   "metadata": {},
   "outputs": [],
   "source": [
    "import numpy as np\n",
    "\n",
    "# Assuming valid_data is a NumPy array with at least one element\n",
    "timestamp = valid_data[0][0]  # Accessing the timestamp value from the NumPy array\n",
    "\n",
    "# Extract the date part\n",
    "date_only = timestamp.date()\n",
    "\n",
    "# Now date_only contains the date without the timestamp"
   ]
  },
  {
   "cell_type": "code",
   "execution_count": 349,
   "id": "fb0695d7-aac8-400d-8d5d-aae4424ead40",
   "metadata": {},
   "outputs": [
    {
     "data": {
      "text/plain": [
       "array([[Timestamp('2024-02-15 00:00:00'), 183.860000610351]], dtype=object)"
      ]
     },
     "execution_count": 349,
     "metadata": {},
     "output_type": "execute_result"
    }
   ],
   "source": [
    "valid_data"
   ]
  },
  {
   "cell_type": "code",
   "execution_count": 350,
   "id": "3cf4cbcf-98ad-4338-b318-db4f8a291c9f",
   "metadata": {
    "scrolled": true
   },
   "outputs": [
    {
     "name": "stderr",
     "output_type": "stream",
     "text": [
      "/var/folders/by/st2c4w_96757fgwg7jsfc4480000gn/T/ipykernel_67404/519016746.py:3: SettingWithCopyWarning: \n",
      "A value is trying to be set on a copy of a slice from a DataFrame.\n",
      "Try using .loc[row_indexer,col_indexer] = value instead\n",
      "\n",
      "See the caveats in the documentation: https://pandas.pydata.org/pandas-docs/stable/user_guide/indexing.html#returning-a-view-versus-a-copy\n",
      "  valid_data['Predictions']=predicted_closing_price\n"
     ]
    },
    {
     "data": {
      "text/html": [
       "<div>\n",
       "<style scoped>\n",
       "    .dataframe tbody tr th:only-of-type {\n",
       "        vertical-align: middle;\n",
       "    }\n",
       "\n",
       "    .dataframe tbody tr th {\n",
       "        vertical-align: top;\n",
       "    }\n",
       "\n",
       "    .dataframe thead th {\n",
       "        text-align: right;\n",
       "    }\n",
       "</style>\n",
       "<table border=\"1\" class=\"dataframe\">\n",
       "  <thead>\n",
       "    <tr style=\"text-align: right;\">\n",
       "      <th></th>\n",
       "      <th>Close</th>\n",
       "      <th>Predictions</th>\n",
       "    </tr>\n",
       "  </thead>\n",
       "  <tbody>\n",
       "    <tr>\n",
       "      <th>1037</th>\n",
       "      <td>183.860001</td>\n",
       "      <td>189.635147</td>\n",
       "    </tr>\n",
       "  </tbody>\n",
       "</table>\n",
       "</div>"
      ],
      "text/plain": [
       "           Close  Predictions\n",
       "1037  183.860001   189.635147"
      ]
     },
     "execution_count": 350,
     "metadata": {},
     "output_type": "execute_result"
    }
   ],
   "source": [
    "train_data=new_dataset[:1037]\n",
    "valid_data=new_dataset[1037:]\n",
    "valid_data['Predictions']=predicted_closing_price\n",
    "valid_data"
   ]
  },
  {
   "cell_type": "code",
   "execution_count": 351,
   "id": "4790d199-284e-4b47-8bcc-bb6f7afebbbc",
   "metadata": {},
   "outputs": [
    {
     "name": "stdout",
     "output_type": "stream",
     "text": [
      "1/1 [==============================] - 0s 20ms/step\n",
      "1/1 [==============================] - 0s 21ms/step\n"
     ]
    },
    {
     "name": "stderr",
     "output_type": "stream",
     "text": [
      "/var/folders/by/st2c4w_96757fgwg7jsfc4480000gn/T/ipykernel_67404/3699000515.py:25: UserWarning: Discarding nonzero nanoseconds in conversion.\n",
      "  new_row = pd.DataFrame({'Close': [predicted_value]}, index=[new_dataset.index[-1] + pd.DateOffset(days=1)])\n"
     ]
    },
    {
     "name": "stdout",
     "output_type": "stream",
     "text": [
      "1/1 [==============================] - 0s 23ms/step\n",
      "1/1 [==============================] - 0s 21ms/step\n"
     ]
    },
    {
     "name": "stderr",
     "output_type": "stream",
     "text": [
      "/var/folders/by/st2c4w_96757fgwg7jsfc4480000gn/T/ipykernel_67404/3699000515.py:25: UserWarning: Discarding nonzero nanoseconds in conversion.\n",
      "  new_row = pd.DataFrame({'Close': [predicted_value]}, index=[new_dataset.index[-1] + pd.DateOffset(days=1)])\n",
      "/var/folders/by/st2c4w_96757fgwg7jsfc4480000gn/T/ipykernel_67404/3699000515.py:25: UserWarning: Discarding nonzero nanoseconds in conversion.\n",
      "  new_row = pd.DataFrame({'Close': [predicted_value]}, index=[new_dataset.index[-1] + pd.DateOffset(days=1)])\n"
     ]
    },
    {
     "name": "stdout",
     "output_type": "stream",
     "text": [
      "1/1 [==============================] - 0s 22ms/step\n",
      "1/1 [==============================] - 0s 18ms/step\n"
     ]
    },
    {
     "name": "stderr",
     "output_type": "stream",
     "text": [
      "/var/folders/by/st2c4w_96757fgwg7jsfc4480000gn/T/ipykernel_67404/3699000515.py:25: UserWarning: Discarding nonzero nanoseconds in conversion.\n",
      "  new_row = pd.DataFrame({'Close': [predicted_value]}, index=[new_dataset.index[-1] + pd.DateOffset(days=1)])\n",
      "/var/folders/by/st2c4w_96757fgwg7jsfc4480000gn/T/ipykernel_67404/3699000515.py:25: UserWarning: Discarding nonzero nanoseconds in conversion.\n",
      "  new_row = pd.DataFrame({'Close': [predicted_value]}, index=[new_dataset.index[-1] + pd.DateOffset(days=1)])\n"
     ]
    },
    {
     "name": "stdout",
     "output_type": "stream",
     "text": [
      "1/1 [==============================] - 0s 19ms/step\n"
     ]
    },
    {
     "name": "stderr",
     "output_type": "stream",
     "text": [
      "/var/folders/by/st2c4w_96757fgwg7jsfc4480000gn/T/ipykernel_67404/3699000515.py:25: UserWarning: Discarding nonzero nanoseconds in conversion.\n",
      "  new_row = pd.DataFrame({'Close': [predicted_value]}, index=[new_dataset.index[-1] + pd.DateOffset(days=1)])\n"
     ]
    },
    {
     "name": "stdout",
     "output_type": "stream",
     "text": [
      "1/1 [==============================] - 0s 19ms/step\n",
      "1/1 [==============================] - 0s 20ms/step\n",
      "1/1 [==============================] - 0s 18ms/step\n"
     ]
    },
    {
     "name": "stderr",
     "output_type": "stream",
     "text": [
      "/var/folders/by/st2c4w_96757fgwg7jsfc4480000gn/T/ipykernel_67404/3699000515.py:25: UserWarning: Discarding nonzero nanoseconds in conversion.\n",
      "  new_row = pd.DataFrame({'Close': [predicted_value]}, index=[new_dataset.index[-1] + pd.DateOffset(days=1)])\n",
      "/var/folders/by/st2c4w_96757fgwg7jsfc4480000gn/T/ipykernel_67404/3699000515.py:25: UserWarning: Discarding nonzero nanoseconds in conversion.\n",
      "  new_row = pd.DataFrame({'Close': [predicted_value]}, index=[new_dataset.index[-1] + pd.DateOffset(days=1)])\n",
      "/var/folders/by/st2c4w_96757fgwg7jsfc4480000gn/T/ipykernel_67404/3699000515.py:25: UserWarning: Discarding nonzero nanoseconds in conversion.\n",
      "  new_row = pd.DataFrame({'Close': [predicted_value]}, index=[new_dataset.index[-1] + pd.DateOffset(days=1)])\n"
     ]
    },
    {
     "name": "stdout",
     "output_type": "stream",
     "text": [
      "1/1 [==============================] - 0s 24ms/step\n",
      "1/1 [==============================] - 0s 18ms/step\n",
      "1/1 [==============================] - 0s 19ms/step\n"
     ]
    },
    {
     "name": "stderr",
     "output_type": "stream",
     "text": [
      "/var/folders/by/st2c4w_96757fgwg7jsfc4480000gn/T/ipykernel_67404/3699000515.py:25: UserWarning: Discarding nonzero nanoseconds in conversion.\n",
      "  new_row = pd.DataFrame({'Close': [predicted_value]}, index=[new_dataset.index[-1] + pd.DateOffset(days=1)])\n",
      "/var/folders/by/st2c4w_96757fgwg7jsfc4480000gn/T/ipykernel_67404/3699000515.py:25: UserWarning: Discarding nonzero nanoseconds in conversion.\n",
      "  new_row = pd.DataFrame({'Close': [predicted_value]}, index=[new_dataset.index[-1] + pd.DateOffset(days=1)])\n",
      "/var/folders/by/st2c4w_96757fgwg7jsfc4480000gn/T/ipykernel_67404/3699000515.py:25: UserWarning: Discarding nonzero nanoseconds in conversion.\n",
      "  new_row = pd.DataFrame({'Close': [predicted_value]}, index=[new_dataset.index[-1] + pd.DateOffset(days=1)])\n"
     ]
    },
    {
     "name": "stdout",
     "output_type": "stream",
     "text": [
      "1/1 [==============================] - 0s 19ms/step\n"
     ]
    },
    {
     "name": "stderr",
     "output_type": "stream",
     "text": [
      "/var/folders/by/st2c4w_96757fgwg7jsfc4480000gn/T/ipykernel_67404/3699000515.py:25: UserWarning: Discarding nonzero nanoseconds in conversion.\n",
      "  new_row = pd.DataFrame({'Close': [predicted_value]}, index=[new_dataset.index[-1] + pd.DateOffset(days=1)])\n"
     ]
    },
    {
     "name": "stdout",
     "output_type": "stream",
     "text": [
      "1/1 [==============================] - 0s 22ms/step\n",
      "1/1 [==============================] - 0s 19ms/step\n",
      "1/1 [==============================] - 0s 20ms/step\n"
     ]
    },
    {
     "name": "stderr",
     "output_type": "stream",
     "text": [
      "/var/folders/by/st2c4w_96757fgwg7jsfc4480000gn/T/ipykernel_67404/3699000515.py:25: UserWarning: Discarding nonzero nanoseconds in conversion.\n",
      "  new_row = pd.DataFrame({'Close': [predicted_value]}, index=[new_dataset.index[-1] + pd.DateOffset(days=1)])\n",
      "/var/folders/by/st2c4w_96757fgwg7jsfc4480000gn/T/ipykernel_67404/3699000515.py:25: UserWarning: Discarding nonzero nanoseconds in conversion.\n",
      "  new_row = pd.DataFrame({'Close': [predicted_value]}, index=[new_dataset.index[-1] + pd.DateOffset(days=1)])\n",
      "/var/folders/by/st2c4w_96757fgwg7jsfc4480000gn/T/ipykernel_67404/3699000515.py:25: UserWarning: Discarding nonzero nanoseconds in conversion.\n",
      "  new_row = pd.DataFrame({'Close': [predicted_value]}, index=[new_dataset.index[-1] + pd.DateOffset(days=1)])\n"
     ]
    },
    {
     "name": "stdout",
     "output_type": "stream",
     "text": [
      "1/1 [==============================] - 0s 22ms/step\n"
     ]
    },
    {
     "name": "stderr",
     "output_type": "stream",
     "text": [
      "/var/folders/by/st2c4w_96757fgwg7jsfc4480000gn/T/ipykernel_67404/3699000515.py:25: UserWarning: Discarding nonzero nanoseconds in conversion.\n",
      "  new_row = pd.DataFrame({'Close': [predicted_value]}, index=[new_dataset.index[-1] + pd.DateOffset(days=1)])\n"
     ]
    },
    {
     "name": "stdout",
     "output_type": "stream",
     "text": [
      "1/1 [==============================] - 0s 21ms/step\n",
      "1/1 [==============================] - 0s 23ms/step\n"
     ]
    },
    {
     "name": "stderr",
     "output_type": "stream",
     "text": [
      "/var/folders/by/st2c4w_96757fgwg7jsfc4480000gn/T/ipykernel_67404/3699000515.py:25: UserWarning: Discarding nonzero nanoseconds in conversion.\n",
      "  new_row = pd.DataFrame({'Close': [predicted_value]}, index=[new_dataset.index[-1] + pd.DateOffset(days=1)])\n",
      "/var/folders/by/st2c4w_96757fgwg7jsfc4480000gn/T/ipykernel_67404/3699000515.py:25: UserWarning: Discarding nonzero nanoseconds in conversion.\n",
      "  new_row = pd.DataFrame({'Close': [predicted_value]}, index=[new_dataset.index[-1] + pd.DateOffset(days=1)])\n"
     ]
    },
    {
     "name": "stdout",
     "output_type": "stream",
     "text": [
      "1/1 [==============================] - 0s 29ms/step\n"
     ]
    },
    {
     "name": "stderr",
     "output_type": "stream",
     "text": [
      "/var/folders/by/st2c4w_96757fgwg7jsfc4480000gn/T/ipykernel_67404/3699000515.py:25: UserWarning: Discarding nonzero nanoseconds in conversion.\n",
      "  new_row = pd.DataFrame({'Close': [predicted_value]}, index=[new_dataset.index[-1] + pd.DateOffset(days=1)])\n"
     ]
    },
    {
     "name": "stdout",
     "output_type": "stream",
     "text": [
      "1/1 [==============================] - 0s 28ms/step\n",
      "1/1 [==============================] - 0s 22ms/step\n"
     ]
    },
    {
     "name": "stderr",
     "output_type": "stream",
     "text": [
      "/var/folders/by/st2c4w_96757fgwg7jsfc4480000gn/T/ipykernel_67404/3699000515.py:25: UserWarning: Discarding nonzero nanoseconds in conversion.\n",
      "  new_row = pd.DataFrame({'Close': [predicted_value]}, index=[new_dataset.index[-1] + pd.DateOffset(days=1)])\n",
      "/var/folders/by/st2c4w_96757fgwg7jsfc4480000gn/T/ipykernel_67404/3699000515.py:25: UserWarning: Discarding nonzero nanoseconds in conversion.\n",
      "  new_row = pd.DataFrame({'Close': [predicted_value]}, index=[new_dataset.index[-1] + pd.DateOffset(days=1)])\n"
     ]
    },
    {
     "name": "stdout",
     "output_type": "stream",
     "text": [
      "1/1 [==============================] - 0s 26ms/step\n"
     ]
    },
    {
     "name": "stderr",
     "output_type": "stream",
     "text": [
      "/var/folders/by/st2c4w_96757fgwg7jsfc4480000gn/T/ipykernel_67404/3699000515.py:25: UserWarning: Discarding nonzero nanoseconds in conversion.\n",
      "  new_row = pd.DataFrame({'Close': [predicted_value]}, index=[new_dataset.index[-1] + pd.DateOffset(days=1)])\n"
     ]
    },
    {
     "name": "stdout",
     "output_type": "stream",
     "text": [
      "1/1 [==============================] - 0s 30ms/step\n",
      "1/1 [==============================] - 0s 21ms/step\n"
     ]
    },
    {
     "name": "stderr",
     "output_type": "stream",
     "text": [
      "/var/folders/by/st2c4w_96757fgwg7jsfc4480000gn/T/ipykernel_67404/3699000515.py:25: UserWarning: Discarding nonzero nanoseconds in conversion.\n",
      "  new_row = pd.DataFrame({'Close': [predicted_value]}, index=[new_dataset.index[-1] + pd.DateOffset(days=1)])\n",
      "/var/folders/by/st2c4w_96757fgwg7jsfc4480000gn/T/ipykernel_67404/3699000515.py:25: UserWarning: Discarding nonzero nanoseconds in conversion.\n",
      "  new_row = pd.DataFrame({'Close': [predicted_value]}, index=[new_dataset.index[-1] + pd.DateOffset(days=1)])\n"
     ]
    },
    {
     "name": "stdout",
     "output_type": "stream",
     "text": [
      "1/1 [==============================] - 0s 35ms/step\n"
     ]
    },
    {
     "name": "stderr",
     "output_type": "stream",
     "text": [
      "/var/folders/by/st2c4w_96757fgwg7jsfc4480000gn/T/ipykernel_67404/3699000515.py:25: UserWarning: Discarding nonzero nanoseconds in conversion.\n",
      "  new_row = pd.DataFrame({'Close': [predicted_value]}, index=[new_dataset.index[-1] + pd.DateOffset(days=1)])\n"
     ]
    },
    {
     "name": "stdout",
     "output_type": "stream",
     "text": [
      "1/1 [==============================] - 0s 19ms/step\n",
      "1/1 [==============================] - 0s 20ms/step\n"
     ]
    },
    {
     "name": "stderr",
     "output_type": "stream",
     "text": [
      "/var/folders/by/st2c4w_96757fgwg7jsfc4480000gn/T/ipykernel_67404/3699000515.py:25: UserWarning: Discarding nonzero nanoseconds in conversion.\n",
      "  new_row = pd.DataFrame({'Close': [predicted_value]}, index=[new_dataset.index[-1] + pd.DateOffset(days=1)])\n",
      "/var/folders/by/st2c4w_96757fgwg7jsfc4480000gn/T/ipykernel_67404/3699000515.py:25: UserWarning: Discarding nonzero nanoseconds in conversion.\n",
      "  new_row = pd.DataFrame({'Close': [predicted_value]}, index=[new_dataset.index[-1] + pd.DateOffset(days=1)])\n"
     ]
    },
    {
     "name": "stdout",
     "output_type": "stream",
     "text": [
      "1/1 [==============================] - 0s 26ms/step\n"
     ]
    },
    {
     "name": "stderr",
     "output_type": "stream",
     "text": [
      "/var/folders/by/st2c4w_96757fgwg7jsfc4480000gn/T/ipykernel_67404/3699000515.py:25: UserWarning: Discarding nonzero nanoseconds in conversion.\n",
      "  new_row = pd.DataFrame({'Close': [predicted_value]}, index=[new_dataset.index[-1] + pd.DateOffset(days=1)])\n"
     ]
    },
    {
     "name": "stdout",
     "output_type": "stream",
     "text": [
      "1/1 [==============================] - 0s 21ms/step\n",
      "1/1 [==============================] - 0s 21ms/step\n"
     ]
    },
    {
     "name": "stderr",
     "output_type": "stream",
     "text": [
      "/var/folders/by/st2c4w_96757fgwg7jsfc4480000gn/T/ipykernel_67404/3699000515.py:25: UserWarning: Discarding nonzero nanoseconds in conversion.\n",
      "  new_row = pd.DataFrame({'Close': [predicted_value]}, index=[new_dataset.index[-1] + pd.DateOffset(days=1)])\n",
      "/var/folders/by/st2c4w_96757fgwg7jsfc4480000gn/T/ipykernel_67404/3699000515.py:25: UserWarning: Discarding nonzero nanoseconds in conversion.\n",
      "  new_row = pd.DataFrame({'Close': [predicted_value]}, index=[new_dataset.index[-1] + pd.DateOffset(days=1)])\n"
     ]
    },
    {
     "name": "stdout",
     "output_type": "stream",
     "text": [
      "1/1 [==============================] - 0s 26ms/step\n"
     ]
    },
    {
     "name": "stderr",
     "output_type": "stream",
     "text": [
      "/var/folders/by/st2c4w_96757fgwg7jsfc4480000gn/T/ipykernel_67404/3699000515.py:25: UserWarning: Discarding nonzero nanoseconds in conversion.\n",
      "  new_row = pd.DataFrame({'Close': [predicted_value]}, index=[new_dataset.index[-1] + pd.DateOffset(days=1)])\n"
     ]
    },
    {
     "name": "stdout",
     "output_type": "stream",
     "text": [
      "1/1 [==============================] - 0s 25ms/step\n",
      "1/1 [==============================] - 0s 19ms/step\n"
     ]
    },
    {
     "name": "stderr",
     "output_type": "stream",
     "text": [
      "/var/folders/by/st2c4w_96757fgwg7jsfc4480000gn/T/ipykernel_67404/3699000515.py:25: UserWarning: Discarding nonzero nanoseconds in conversion.\n",
      "  new_row = pd.DataFrame({'Close': [predicted_value]}, index=[new_dataset.index[-1] + pd.DateOffset(days=1)])\n",
      "/var/folders/by/st2c4w_96757fgwg7jsfc4480000gn/T/ipykernel_67404/3699000515.py:25: UserWarning: Discarding nonzero nanoseconds in conversion.\n",
      "  new_row = pd.DataFrame({'Close': [predicted_value]}, index=[new_dataset.index[-1] + pd.DateOffset(days=1)])\n"
     ]
    },
    {
     "name": "stdout",
     "output_type": "stream",
     "text": [
      "1/1 [==============================] - 0s 20ms/step\n",
      "1/1 [==============================] - 0s 19ms/step\n"
     ]
    },
    {
     "name": "stderr",
     "output_type": "stream",
     "text": [
      "/var/folders/by/st2c4w_96757fgwg7jsfc4480000gn/T/ipykernel_67404/3699000515.py:25: UserWarning: Discarding nonzero nanoseconds in conversion.\n",
      "  new_row = pd.DataFrame({'Close': [predicted_value]}, index=[new_dataset.index[-1] + pd.DateOffset(days=1)])\n",
      "/var/folders/by/st2c4w_96757fgwg7jsfc4480000gn/T/ipykernel_67404/3699000515.py:25: UserWarning: Discarding nonzero nanoseconds in conversion.\n",
      "  new_row = pd.DataFrame({'Close': [predicted_value]}, index=[new_dataset.index[-1] + pd.DateOffset(days=1)])\n"
     ]
    },
    {
     "name": "stdout",
     "output_type": "stream",
     "text": [
      "1/1 [==============================] - 0s 18ms/step\n",
      "1/1 [==============================] - 0s 18ms/step\n"
     ]
    },
    {
     "name": "stderr",
     "output_type": "stream",
     "text": [
      "/var/folders/by/st2c4w_96757fgwg7jsfc4480000gn/T/ipykernel_67404/3699000515.py:25: UserWarning: Discarding nonzero nanoseconds in conversion.\n",
      "  new_row = pd.DataFrame({'Close': [predicted_value]}, index=[new_dataset.index[-1] + pd.DateOffset(days=1)])\n",
      "/var/folders/by/st2c4w_96757fgwg7jsfc4480000gn/T/ipykernel_67404/3699000515.py:25: UserWarning: Discarding nonzero nanoseconds in conversion.\n",
      "  new_row = pd.DataFrame({'Close': [predicted_value]}, index=[new_dataset.index[-1] + pd.DateOffset(days=1)])\n"
     ]
    },
    {
     "name": "stdout",
     "output_type": "stream",
     "text": [
      "1/1 [==============================] - 0s 19ms/step\n",
      "1/1 [==============================] - 0s 18ms/step\n"
     ]
    },
    {
     "name": "stderr",
     "output_type": "stream",
     "text": [
      "/var/folders/by/st2c4w_96757fgwg7jsfc4480000gn/T/ipykernel_67404/3699000515.py:25: UserWarning: Discarding nonzero nanoseconds in conversion.\n",
      "  new_row = pd.DataFrame({'Close': [predicted_value]}, index=[new_dataset.index[-1] + pd.DateOffset(days=1)])\n",
      "/var/folders/by/st2c4w_96757fgwg7jsfc4480000gn/T/ipykernel_67404/3699000515.py:25: UserWarning: Discarding nonzero nanoseconds in conversion.\n",
      "  new_row = pd.DataFrame({'Close': [predicted_value]}, index=[new_dataset.index[-1] + pd.DateOffset(days=1)])\n"
     ]
    },
    {
     "name": "stdout",
     "output_type": "stream",
     "text": [
      "1/1 [==============================] - 0s 19ms/step\n",
      "1/1 [==============================] - 0s 18ms/step\n"
     ]
    },
    {
     "name": "stderr",
     "output_type": "stream",
     "text": [
      "/var/folders/by/st2c4w_96757fgwg7jsfc4480000gn/T/ipykernel_67404/3699000515.py:25: UserWarning: Discarding nonzero nanoseconds in conversion.\n",
      "  new_row = pd.DataFrame({'Close': [predicted_value]}, index=[new_dataset.index[-1] + pd.DateOffset(days=1)])\n",
      "/var/folders/by/st2c4w_96757fgwg7jsfc4480000gn/T/ipykernel_67404/3699000515.py:25: UserWarning: Discarding nonzero nanoseconds in conversion.\n",
      "  new_row = pd.DataFrame({'Close': [predicted_value]}, index=[new_dataset.index[-1] + pd.DateOffset(days=1)])\n"
     ]
    },
    {
     "name": "stdout",
     "output_type": "stream",
     "text": [
      "1/1 [==============================] - 0s 19ms/step\n",
      "1/1 [==============================] - 0s 19ms/step\n"
     ]
    },
    {
     "name": "stderr",
     "output_type": "stream",
     "text": [
      "/var/folders/by/st2c4w_96757fgwg7jsfc4480000gn/T/ipykernel_67404/3699000515.py:25: UserWarning: Discarding nonzero nanoseconds in conversion.\n",
      "  new_row = pd.DataFrame({'Close': [predicted_value]}, index=[new_dataset.index[-1] + pd.DateOffset(days=1)])\n",
      "/var/folders/by/st2c4w_96757fgwg7jsfc4480000gn/T/ipykernel_67404/3699000515.py:25: UserWarning: Discarding nonzero nanoseconds in conversion.\n",
      "  new_row = pd.DataFrame({'Close': [predicted_value]}, index=[new_dataset.index[-1] + pd.DateOffset(days=1)])\n"
     ]
    },
    {
     "name": "stdout",
     "output_type": "stream",
     "text": [
      "1/1 [==============================] - 0s 19ms/step\n",
      "1/1 [==============================] - 0s 23ms/step\n"
     ]
    },
    {
     "name": "stderr",
     "output_type": "stream",
     "text": [
      "/var/folders/by/st2c4w_96757fgwg7jsfc4480000gn/T/ipykernel_67404/3699000515.py:25: UserWarning: Discarding nonzero nanoseconds in conversion.\n",
      "  new_row = pd.DataFrame({'Close': [predicted_value]}, index=[new_dataset.index[-1] + pd.DateOffset(days=1)])\n",
      "/var/folders/by/st2c4w_96757fgwg7jsfc4480000gn/T/ipykernel_67404/3699000515.py:25: UserWarning: Discarding nonzero nanoseconds in conversion.\n",
      "  new_row = pd.DataFrame({'Close': [predicted_value]}, index=[new_dataset.index[-1] + pd.DateOffset(days=1)])\n"
     ]
    },
    {
     "name": "stdout",
     "output_type": "stream",
     "text": [
      "1/1 [==============================] - 0s 18ms/step\n",
      "1/1 [==============================] - 0s 18ms/step\n"
     ]
    },
    {
     "name": "stderr",
     "output_type": "stream",
     "text": [
      "/var/folders/by/st2c4w_96757fgwg7jsfc4480000gn/T/ipykernel_67404/3699000515.py:25: UserWarning: Discarding nonzero nanoseconds in conversion.\n",
      "  new_row = pd.DataFrame({'Close': [predicted_value]}, index=[new_dataset.index[-1] + pd.DateOffset(days=1)])\n",
      "/var/folders/by/st2c4w_96757fgwg7jsfc4480000gn/T/ipykernel_67404/3699000515.py:25: UserWarning: Discarding nonzero nanoseconds in conversion.\n",
      "  new_row = pd.DataFrame({'Close': [predicted_value]}, index=[new_dataset.index[-1] + pd.DateOffset(days=1)])\n"
     ]
    },
    {
     "name": "stdout",
     "output_type": "stream",
     "text": [
      "1/1 [==============================] - 0s 20ms/step\n",
      "1/1 [==============================] - 0s 19ms/step\n"
     ]
    },
    {
     "name": "stderr",
     "output_type": "stream",
     "text": [
      "/var/folders/by/st2c4w_96757fgwg7jsfc4480000gn/T/ipykernel_67404/3699000515.py:25: UserWarning: Discarding nonzero nanoseconds in conversion.\n",
      "  new_row = pd.DataFrame({'Close': [predicted_value]}, index=[new_dataset.index[-1] + pd.DateOffset(days=1)])\n",
      "/var/folders/by/st2c4w_96757fgwg7jsfc4480000gn/T/ipykernel_67404/3699000515.py:25: UserWarning: Discarding nonzero nanoseconds in conversion.\n",
      "  new_row = pd.DataFrame({'Close': [predicted_value]}, index=[new_dataset.index[-1] + pd.DateOffset(days=1)])\n"
     ]
    },
    {
     "name": "stdout",
     "output_type": "stream",
     "text": [
      "1/1 [==============================] - 0s 19ms/step\n",
      "1/1 [==============================] - 0s 19ms/step\n"
     ]
    },
    {
     "name": "stderr",
     "output_type": "stream",
     "text": [
      "/var/folders/by/st2c4w_96757fgwg7jsfc4480000gn/T/ipykernel_67404/3699000515.py:25: UserWarning: Discarding nonzero nanoseconds in conversion.\n",
      "  new_row = pd.DataFrame({'Close': [predicted_value]}, index=[new_dataset.index[-1] + pd.DateOffset(days=1)])\n",
      "/var/folders/by/st2c4w_96757fgwg7jsfc4480000gn/T/ipykernel_67404/3699000515.py:25: UserWarning: Discarding nonzero nanoseconds in conversion.\n",
      "  new_row = pd.DataFrame({'Close': [predicted_value]}, index=[new_dataset.index[-1] + pd.DateOffset(days=1)])\n"
     ]
    },
    {
     "name": "stdout",
     "output_type": "stream",
     "text": [
      "1/1 [==============================] - 0s 19ms/step\n",
      "1/1 [==============================] - 0s 19ms/step\n"
     ]
    },
    {
     "name": "stderr",
     "output_type": "stream",
     "text": [
      "/var/folders/by/st2c4w_96757fgwg7jsfc4480000gn/T/ipykernel_67404/3699000515.py:25: UserWarning: Discarding nonzero nanoseconds in conversion.\n",
      "  new_row = pd.DataFrame({'Close': [predicted_value]}, index=[new_dataset.index[-1] + pd.DateOffset(days=1)])\n",
      "/var/folders/by/st2c4w_96757fgwg7jsfc4480000gn/T/ipykernel_67404/3699000515.py:25: UserWarning: Discarding nonzero nanoseconds in conversion.\n",
      "  new_row = pd.DataFrame({'Close': [predicted_value]}, index=[new_dataset.index[-1] + pd.DateOffset(days=1)])\n"
     ]
    },
    {
     "name": "stdout",
     "output_type": "stream",
     "text": [
      "1/1 [==============================] - 0s 20ms/step\n",
      "1/1 [==============================] - 0s 19ms/step\n"
     ]
    },
    {
     "name": "stderr",
     "output_type": "stream",
     "text": [
      "/var/folders/by/st2c4w_96757fgwg7jsfc4480000gn/T/ipykernel_67404/3699000515.py:25: UserWarning: Discarding nonzero nanoseconds in conversion.\n",
      "  new_row = pd.DataFrame({'Close': [predicted_value]}, index=[new_dataset.index[-1] + pd.DateOffset(days=1)])\n",
      "/var/folders/by/st2c4w_96757fgwg7jsfc4480000gn/T/ipykernel_67404/3699000515.py:25: UserWarning: Discarding nonzero nanoseconds in conversion.\n",
      "  new_row = pd.DataFrame({'Close': [predicted_value]}, index=[new_dataset.index[-1] + pd.DateOffset(days=1)])\n"
     ]
    },
    {
     "name": "stdout",
     "output_type": "stream",
     "text": [
      "1/1 [==============================] - 0s 20ms/step\n",
      "1/1 [==============================] - 0s 19ms/step\n"
     ]
    },
    {
     "name": "stderr",
     "output_type": "stream",
     "text": [
      "/var/folders/by/st2c4w_96757fgwg7jsfc4480000gn/T/ipykernel_67404/3699000515.py:25: UserWarning: Discarding nonzero nanoseconds in conversion.\n",
      "  new_row = pd.DataFrame({'Close': [predicted_value]}, index=[new_dataset.index[-1] + pd.DateOffset(days=1)])\n",
      "/var/folders/by/st2c4w_96757fgwg7jsfc4480000gn/T/ipykernel_67404/3699000515.py:25: UserWarning: Discarding nonzero nanoseconds in conversion.\n",
      "  new_row = pd.DataFrame({'Close': [predicted_value]}, index=[new_dataset.index[-1] + pd.DateOffset(days=1)])\n"
     ]
    },
    {
     "name": "stdout",
     "output_type": "stream",
     "text": [
      "1/1 [==============================] - 0s 21ms/step\n",
      "1/1 [==============================] - 0s 19ms/step\n"
     ]
    },
    {
     "name": "stderr",
     "output_type": "stream",
     "text": [
      "/var/folders/by/st2c4w_96757fgwg7jsfc4480000gn/T/ipykernel_67404/3699000515.py:25: UserWarning: Discarding nonzero nanoseconds in conversion.\n",
      "  new_row = pd.DataFrame({'Close': [predicted_value]}, index=[new_dataset.index[-1] + pd.DateOffset(days=1)])\n",
      "/var/folders/by/st2c4w_96757fgwg7jsfc4480000gn/T/ipykernel_67404/3699000515.py:25: UserWarning: Discarding nonzero nanoseconds in conversion.\n",
      "  new_row = pd.DataFrame({'Close': [predicted_value]}, index=[new_dataset.index[-1] + pd.DateOffset(days=1)])\n"
     ]
    },
    {
     "name": "stdout",
     "output_type": "stream",
     "text": [
      "1/1 [==============================] - 0s 20ms/step\n",
      "1/1 [==============================] - 0s 19ms/step\n"
     ]
    },
    {
     "name": "stderr",
     "output_type": "stream",
     "text": [
      "/var/folders/by/st2c4w_96757fgwg7jsfc4480000gn/T/ipykernel_67404/3699000515.py:25: UserWarning: Discarding nonzero nanoseconds in conversion.\n",
      "  new_row = pd.DataFrame({'Close': [predicted_value]}, index=[new_dataset.index[-1] + pd.DateOffset(days=1)])\n",
      "/var/folders/by/st2c4w_96757fgwg7jsfc4480000gn/T/ipykernel_67404/3699000515.py:25: UserWarning: Discarding nonzero nanoseconds in conversion.\n",
      "  new_row = pd.DataFrame({'Close': [predicted_value]}, index=[new_dataset.index[-1] + pd.DateOffset(days=1)])\n"
     ]
    },
    {
     "name": "stdout",
     "output_type": "stream",
     "text": [
      "1/1 [==============================] - 0s 20ms/step\n",
      "1/1 [==============================] - 0s 19ms/step\n"
     ]
    },
    {
     "name": "stderr",
     "output_type": "stream",
     "text": [
      "/var/folders/by/st2c4w_96757fgwg7jsfc4480000gn/T/ipykernel_67404/3699000515.py:25: UserWarning: Discarding nonzero nanoseconds in conversion.\n",
      "  new_row = pd.DataFrame({'Close': [predicted_value]}, index=[new_dataset.index[-1] + pd.DateOffset(days=1)])\n",
      "/var/folders/by/st2c4w_96757fgwg7jsfc4480000gn/T/ipykernel_67404/3699000515.py:25: UserWarning: Discarding nonzero nanoseconds in conversion.\n",
      "  new_row = pd.DataFrame({'Close': [predicted_value]}, index=[new_dataset.index[-1] + pd.DateOffset(days=1)])\n"
     ]
    },
    {
     "name": "stdout",
     "output_type": "stream",
     "text": [
      "1/1 [==============================] - 0s 19ms/step\n",
      "1/1 [==============================] - 0s 19ms/step\n"
     ]
    },
    {
     "name": "stderr",
     "output_type": "stream",
     "text": [
      "/var/folders/by/st2c4w_96757fgwg7jsfc4480000gn/T/ipykernel_67404/3699000515.py:25: UserWarning: Discarding nonzero nanoseconds in conversion.\n",
      "  new_row = pd.DataFrame({'Close': [predicted_value]}, index=[new_dataset.index[-1] + pd.DateOffset(days=1)])\n",
      "/var/folders/by/st2c4w_96757fgwg7jsfc4480000gn/T/ipykernel_67404/3699000515.py:25: UserWarning: Discarding nonzero nanoseconds in conversion.\n",
      "  new_row = pd.DataFrame({'Close': [predicted_value]}, index=[new_dataset.index[-1] + pd.DateOffset(days=1)])\n"
     ]
    },
    {
     "name": "stdout",
     "output_type": "stream",
     "text": [
      "1/1 [==============================] - 0s 26ms/step\n",
      "1/1 [==============================] - 0s 20ms/step\n"
     ]
    },
    {
     "name": "stderr",
     "output_type": "stream",
     "text": [
      "/var/folders/by/st2c4w_96757fgwg7jsfc4480000gn/T/ipykernel_67404/3699000515.py:25: UserWarning: Discarding nonzero nanoseconds in conversion.\n",
      "  new_row = pd.DataFrame({'Close': [predicted_value]}, index=[new_dataset.index[-1] + pd.DateOffset(days=1)])\n",
      "/var/folders/by/st2c4w_96757fgwg7jsfc4480000gn/T/ipykernel_67404/3699000515.py:25: UserWarning: Discarding nonzero nanoseconds in conversion.\n",
      "  new_row = pd.DataFrame({'Close': [predicted_value]}, index=[new_dataset.index[-1] + pd.DateOffset(days=1)])\n"
     ]
    },
    {
     "name": "stdout",
     "output_type": "stream",
     "text": [
      "1/1 [==============================] - 0s 20ms/step\n",
      "1/1 [==============================] - 0s 19ms/step\n"
     ]
    },
    {
     "name": "stderr",
     "output_type": "stream",
     "text": [
      "/var/folders/by/st2c4w_96757fgwg7jsfc4480000gn/T/ipykernel_67404/3699000515.py:25: UserWarning: Discarding nonzero nanoseconds in conversion.\n",
      "  new_row = pd.DataFrame({'Close': [predicted_value]}, index=[new_dataset.index[-1] + pd.DateOffset(days=1)])\n",
      "/var/folders/by/st2c4w_96757fgwg7jsfc4480000gn/T/ipykernel_67404/3699000515.py:25: UserWarning: Discarding nonzero nanoseconds in conversion.\n",
      "  new_row = pd.DataFrame({'Close': [predicted_value]}, index=[new_dataset.index[-1] + pd.DateOffset(days=1)])\n"
     ]
    },
    {
     "name": "stdout",
     "output_type": "stream",
     "text": [
      "1/1 [==============================] - 0s 19ms/step\n",
      "1/1 [==============================] - 0s 19ms/step\n"
     ]
    },
    {
     "name": "stderr",
     "output_type": "stream",
     "text": [
      "/var/folders/by/st2c4w_96757fgwg7jsfc4480000gn/T/ipykernel_67404/3699000515.py:25: UserWarning: Discarding nonzero nanoseconds in conversion.\n",
      "  new_row = pd.DataFrame({'Close': [predicted_value]}, index=[new_dataset.index[-1] + pd.DateOffset(days=1)])\n",
      "/var/folders/by/st2c4w_96757fgwg7jsfc4480000gn/T/ipykernel_67404/3699000515.py:25: UserWarning: Discarding nonzero nanoseconds in conversion.\n",
      "  new_row = pd.DataFrame({'Close': [predicted_value]}, index=[new_dataset.index[-1] + pd.DateOffset(days=1)])\n"
     ]
    },
    {
     "name": "stdout",
     "output_type": "stream",
     "text": [
      "1/1 [==============================] - 0s 20ms/step\n",
      "1/1 [==============================] - 0s 19ms/step\n"
     ]
    },
    {
     "name": "stderr",
     "output_type": "stream",
     "text": [
      "/var/folders/by/st2c4w_96757fgwg7jsfc4480000gn/T/ipykernel_67404/3699000515.py:25: UserWarning: Discarding nonzero nanoseconds in conversion.\n",
      "  new_row = pd.DataFrame({'Close': [predicted_value]}, index=[new_dataset.index[-1] + pd.DateOffset(days=1)])\n",
      "/var/folders/by/st2c4w_96757fgwg7jsfc4480000gn/T/ipykernel_67404/3699000515.py:25: UserWarning: Discarding nonzero nanoseconds in conversion.\n",
      "  new_row = pd.DataFrame({'Close': [predicted_value]}, index=[new_dataset.index[-1] + pd.DateOffset(days=1)])\n"
     ]
    },
    {
     "name": "stdout",
     "output_type": "stream",
     "text": [
      "1/1 [==============================] - 0s 20ms/step\n",
      "1/1 [==============================] - 0s 19ms/step\n"
     ]
    },
    {
     "name": "stderr",
     "output_type": "stream",
     "text": [
      "/var/folders/by/st2c4w_96757fgwg7jsfc4480000gn/T/ipykernel_67404/3699000515.py:25: UserWarning: Discarding nonzero nanoseconds in conversion.\n",
      "  new_row = pd.DataFrame({'Close': [predicted_value]}, index=[new_dataset.index[-1] + pd.DateOffset(days=1)])\n",
      "/var/folders/by/st2c4w_96757fgwg7jsfc4480000gn/T/ipykernel_67404/3699000515.py:25: UserWarning: Discarding nonzero nanoseconds in conversion.\n",
      "  new_row = pd.DataFrame({'Close': [predicted_value]}, index=[new_dataset.index[-1] + pd.DateOffset(days=1)])\n"
     ]
    },
    {
     "name": "stdout",
     "output_type": "stream",
     "text": [
      "1/1 [==============================] - 0s 20ms/step\n",
      "1/1 [==============================] - 0s 19ms/step\n"
     ]
    },
    {
     "name": "stderr",
     "output_type": "stream",
     "text": [
      "/var/folders/by/st2c4w_96757fgwg7jsfc4480000gn/T/ipykernel_67404/3699000515.py:25: UserWarning: Discarding nonzero nanoseconds in conversion.\n",
      "  new_row = pd.DataFrame({'Close': [predicted_value]}, index=[new_dataset.index[-1] + pd.DateOffset(days=1)])\n",
      "/var/folders/by/st2c4w_96757fgwg7jsfc4480000gn/T/ipykernel_67404/3699000515.py:25: UserWarning: Discarding nonzero nanoseconds in conversion.\n",
      "  new_row = pd.DataFrame({'Close': [predicted_value]}, index=[new_dataset.index[-1] + pd.DateOffset(days=1)])\n"
     ]
    },
    {
     "name": "stdout",
     "output_type": "stream",
     "text": [
      "1/1 [==============================] - 0s 20ms/step\n",
      "1/1 [==============================] - 0s 19ms/step\n"
     ]
    },
    {
     "name": "stderr",
     "output_type": "stream",
     "text": [
      "/var/folders/by/st2c4w_96757fgwg7jsfc4480000gn/T/ipykernel_67404/3699000515.py:25: UserWarning: Discarding nonzero nanoseconds in conversion.\n",
      "  new_row = pd.DataFrame({'Close': [predicted_value]}, index=[new_dataset.index[-1] + pd.DateOffset(days=1)])\n",
      "/var/folders/by/st2c4w_96757fgwg7jsfc4480000gn/T/ipykernel_67404/3699000515.py:25: UserWarning: Discarding nonzero nanoseconds in conversion.\n",
      "  new_row = pd.DataFrame({'Close': [predicted_value]}, index=[new_dataset.index[-1] + pd.DateOffset(days=1)])\n"
     ]
    },
    {
     "name": "stdout",
     "output_type": "stream",
     "text": [
      "1/1 [==============================] - 0s 20ms/step\n",
      "1/1 [==============================] - 0s 19ms/step\n"
     ]
    },
    {
     "name": "stderr",
     "output_type": "stream",
     "text": [
      "/var/folders/by/st2c4w_96757fgwg7jsfc4480000gn/T/ipykernel_67404/3699000515.py:25: UserWarning: Discarding nonzero nanoseconds in conversion.\n",
      "  new_row = pd.DataFrame({'Close': [predicted_value]}, index=[new_dataset.index[-1] + pd.DateOffset(days=1)])\n",
      "/var/folders/by/st2c4w_96757fgwg7jsfc4480000gn/T/ipykernel_67404/3699000515.py:25: UserWarning: Discarding nonzero nanoseconds in conversion.\n",
      "  new_row = pd.DataFrame({'Close': [predicted_value]}, index=[new_dataset.index[-1] + pd.DateOffset(days=1)])\n"
     ]
    },
    {
     "name": "stdout",
     "output_type": "stream",
     "text": [
      "1/1 [==============================] - 0s 19ms/step\n",
      "1/1 [==============================] - 0s 19ms/step\n"
     ]
    },
    {
     "name": "stderr",
     "output_type": "stream",
     "text": [
      "/var/folders/by/st2c4w_96757fgwg7jsfc4480000gn/T/ipykernel_67404/3699000515.py:25: UserWarning: Discarding nonzero nanoseconds in conversion.\n",
      "  new_row = pd.DataFrame({'Close': [predicted_value]}, index=[new_dataset.index[-1] + pd.DateOffset(days=1)])\n",
      "/var/folders/by/st2c4w_96757fgwg7jsfc4480000gn/T/ipykernel_67404/3699000515.py:25: UserWarning: Discarding nonzero nanoseconds in conversion.\n",
      "  new_row = pd.DataFrame({'Close': [predicted_value]}, index=[new_dataset.index[-1] + pd.DateOffset(days=1)])\n"
     ]
    },
    {
     "name": "stdout",
     "output_type": "stream",
     "text": [
      "1/1 [==============================] - 0s 20ms/step\n",
      "1/1 [==============================] - 0s 19ms/step\n"
     ]
    },
    {
     "name": "stderr",
     "output_type": "stream",
     "text": [
      "/var/folders/by/st2c4w_96757fgwg7jsfc4480000gn/T/ipykernel_67404/3699000515.py:25: UserWarning: Discarding nonzero nanoseconds in conversion.\n",
      "  new_row = pd.DataFrame({'Close': [predicted_value]}, index=[new_dataset.index[-1] + pd.DateOffset(days=1)])\n",
      "/var/folders/by/st2c4w_96757fgwg7jsfc4480000gn/T/ipykernel_67404/3699000515.py:25: UserWarning: Discarding nonzero nanoseconds in conversion.\n",
      "  new_row = pd.DataFrame({'Close': [predicted_value]}, index=[new_dataset.index[-1] + pd.DateOffset(days=1)])\n"
     ]
    },
    {
     "name": "stdout",
     "output_type": "stream",
     "text": [
      "1/1 [==============================] - 0s 20ms/step\n",
      "1/1 [==============================] - 0s 19ms/step\n"
     ]
    },
    {
     "name": "stderr",
     "output_type": "stream",
     "text": [
      "/var/folders/by/st2c4w_96757fgwg7jsfc4480000gn/T/ipykernel_67404/3699000515.py:25: UserWarning: Discarding nonzero nanoseconds in conversion.\n",
      "  new_row = pd.DataFrame({'Close': [predicted_value]}, index=[new_dataset.index[-1] + pd.DateOffset(days=1)])\n",
      "/var/folders/by/st2c4w_96757fgwg7jsfc4480000gn/T/ipykernel_67404/3699000515.py:25: UserWarning: Discarding nonzero nanoseconds in conversion.\n",
      "  new_row = pd.DataFrame({'Close': [predicted_value]}, index=[new_dataset.index[-1] + pd.DateOffset(days=1)])\n"
     ]
    },
    {
     "name": "stdout",
     "output_type": "stream",
     "text": [
      "1/1 [==============================] - 0s 20ms/step\n",
      "1/1 [==============================] - 0s 19ms/step\n"
     ]
    },
    {
     "name": "stderr",
     "output_type": "stream",
     "text": [
      "/var/folders/by/st2c4w_96757fgwg7jsfc4480000gn/T/ipykernel_67404/3699000515.py:25: UserWarning: Discarding nonzero nanoseconds in conversion.\n",
      "  new_row = pd.DataFrame({'Close': [predicted_value]}, index=[new_dataset.index[-1] + pd.DateOffset(days=1)])\n",
      "/var/folders/by/st2c4w_96757fgwg7jsfc4480000gn/T/ipykernel_67404/3699000515.py:25: UserWarning: Discarding nonzero nanoseconds in conversion.\n",
      "  new_row = pd.DataFrame({'Close': [predicted_value]}, index=[new_dataset.index[-1] + pd.DateOffset(days=1)])\n"
     ]
    },
    {
     "name": "stdout",
     "output_type": "stream",
     "text": [
      "1/1 [==============================] - 0s 18ms/step\n",
      "1/1 [==============================] - 0s 19ms/step\n"
     ]
    },
    {
     "name": "stderr",
     "output_type": "stream",
     "text": [
      "/var/folders/by/st2c4w_96757fgwg7jsfc4480000gn/T/ipykernel_67404/3699000515.py:25: UserWarning: Discarding nonzero nanoseconds in conversion.\n",
      "  new_row = pd.DataFrame({'Close': [predicted_value]}, index=[new_dataset.index[-1] + pd.DateOffset(days=1)])\n",
      "/var/folders/by/st2c4w_96757fgwg7jsfc4480000gn/T/ipykernel_67404/3699000515.py:25: UserWarning: Discarding nonzero nanoseconds in conversion.\n",
      "  new_row = pd.DataFrame({'Close': [predicted_value]}, index=[new_dataset.index[-1] + pd.DateOffset(days=1)])\n"
     ]
    },
    {
     "name": "stdout",
     "output_type": "stream",
     "text": [
      "1/1 [==============================] - 0s 19ms/step\n",
      "1/1 [==============================] - 0s 19ms/step\n"
     ]
    },
    {
     "name": "stderr",
     "output_type": "stream",
     "text": [
      "/var/folders/by/st2c4w_96757fgwg7jsfc4480000gn/T/ipykernel_67404/3699000515.py:25: UserWarning: Discarding nonzero nanoseconds in conversion.\n",
      "  new_row = pd.DataFrame({'Close': [predicted_value]}, index=[new_dataset.index[-1] + pd.DateOffset(days=1)])\n",
      "/var/folders/by/st2c4w_96757fgwg7jsfc4480000gn/T/ipykernel_67404/3699000515.py:25: UserWarning: Discarding nonzero nanoseconds in conversion.\n",
      "  new_row = pd.DataFrame({'Close': [predicted_value]}, index=[new_dataset.index[-1] + pd.DateOffset(days=1)])\n"
     ]
    },
    {
     "name": "stdout",
     "output_type": "stream",
     "text": [
      "1/1 [==============================] - 0s 19ms/step\n",
      "1/1 [==============================] - 0s 19ms/step\n"
     ]
    },
    {
     "name": "stderr",
     "output_type": "stream",
     "text": [
      "/var/folders/by/st2c4w_96757fgwg7jsfc4480000gn/T/ipykernel_67404/3699000515.py:25: UserWarning: Discarding nonzero nanoseconds in conversion.\n",
      "  new_row = pd.DataFrame({'Close': [predicted_value]}, index=[new_dataset.index[-1] + pd.DateOffset(days=1)])\n",
      "/var/folders/by/st2c4w_96757fgwg7jsfc4480000gn/T/ipykernel_67404/3699000515.py:25: UserWarning: Discarding nonzero nanoseconds in conversion.\n",
      "  new_row = pd.DataFrame({'Close': [predicted_value]}, index=[new_dataset.index[-1] + pd.DateOffset(days=1)])\n"
     ]
    },
    {
     "name": "stdout",
     "output_type": "stream",
     "text": [
      "1/1 [==============================] - 0s 20ms/step\n",
      "1/1 [==============================] - 0s 19ms/step\n"
     ]
    },
    {
     "name": "stderr",
     "output_type": "stream",
     "text": [
      "/var/folders/by/st2c4w_96757fgwg7jsfc4480000gn/T/ipykernel_67404/3699000515.py:25: UserWarning: Discarding nonzero nanoseconds in conversion.\n",
      "  new_row = pd.DataFrame({'Close': [predicted_value]}, index=[new_dataset.index[-1] + pd.DateOffset(days=1)])\n",
      "/var/folders/by/st2c4w_96757fgwg7jsfc4480000gn/T/ipykernel_67404/3699000515.py:25: UserWarning: Discarding nonzero nanoseconds in conversion.\n",
      "  new_row = pd.DataFrame({'Close': [predicted_value]}, index=[new_dataset.index[-1] + pd.DateOffset(days=1)])\n"
     ]
    },
    {
     "name": "stdout",
     "output_type": "stream",
     "text": [
      "1/1 [==============================] - 0s 20ms/step\n",
      "1/1 [==============================] - 0s 19ms/step\n"
     ]
    },
    {
     "name": "stderr",
     "output_type": "stream",
     "text": [
      "/var/folders/by/st2c4w_96757fgwg7jsfc4480000gn/T/ipykernel_67404/3699000515.py:25: UserWarning: Discarding nonzero nanoseconds in conversion.\n",
      "  new_row = pd.DataFrame({'Close': [predicted_value]}, index=[new_dataset.index[-1] + pd.DateOffset(days=1)])\n",
      "/var/folders/by/st2c4w_96757fgwg7jsfc4480000gn/T/ipykernel_67404/3699000515.py:25: UserWarning: Discarding nonzero nanoseconds in conversion.\n",
      "  new_row = pd.DataFrame({'Close': [predicted_value]}, index=[new_dataset.index[-1] + pd.DateOffset(days=1)])\n"
     ]
    },
    {
     "name": "stdout",
     "output_type": "stream",
     "text": [
      "1/1 [==============================] - 0s 19ms/step\n",
      "1/1 [==============================] - 0s 19ms/step\n"
     ]
    },
    {
     "name": "stderr",
     "output_type": "stream",
     "text": [
      "/var/folders/by/st2c4w_96757fgwg7jsfc4480000gn/T/ipykernel_67404/3699000515.py:25: UserWarning: Discarding nonzero nanoseconds in conversion.\n",
      "  new_row = pd.DataFrame({'Close': [predicted_value]}, index=[new_dataset.index[-1] + pd.DateOffset(days=1)])\n",
      "/var/folders/by/st2c4w_96757fgwg7jsfc4480000gn/T/ipykernel_67404/3699000515.py:25: UserWarning: Discarding nonzero nanoseconds in conversion.\n",
      "  new_row = pd.DataFrame({'Close': [predicted_value]}, index=[new_dataset.index[-1] + pd.DateOffset(days=1)])\n"
     ]
    },
    {
     "name": "stdout",
     "output_type": "stream",
     "text": [
      "1/1 [==============================] - 0s 20ms/step\n",
      "1/1 [==============================] - 0s 19ms/step\n"
     ]
    },
    {
     "name": "stderr",
     "output_type": "stream",
     "text": [
      "/var/folders/by/st2c4w_96757fgwg7jsfc4480000gn/T/ipykernel_67404/3699000515.py:25: UserWarning: Discarding nonzero nanoseconds in conversion.\n",
      "  new_row = pd.DataFrame({'Close': [predicted_value]}, index=[new_dataset.index[-1] + pd.DateOffset(days=1)])\n",
      "/var/folders/by/st2c4w_96757fgwg7jsfc4480000gn/T/ipykernel_67404/3699000515.py:25: UserWarning: Discarding nonzero nanoseconds in conversion.\n",
      "  new_row = pd.DataFrame({'Close': [predicted_value]}, index=[new_dataset.index[-1] + pd.DateOffset(days=1)])\n"
     ]
    },
    {
     "name": "stdout",
     "output_type": "stream",
     "text": [
      "1/1 [==============================] - 0s 19ms/step\n",
      "1/1 [==============================] - 0s 21ms/step\n"
     ]
    },
    {
     "name": "stderr",
     "output_type": "stream",
     "text": [
      "/var/folders/by/st2c4w_96757fgwg7jsfc4480000gn/T/ipykernel_67404/3699000515.py:25: UserWarning: Discarding nonzero nanoseconds in conversion.\n",
      "  new_row = pd.DataFrame({'Close': [predicted_value]}, index=[new_dataset.index[-1] + pd.DateOffset(days=1)])\n",
      "/var/folders/by/st2c4w_96757fgwg7jsfc4480000gn/T/ipykernel_67404/3699000515.py:25: UserWarning: Discarding nonzero nanoseconds in conversion.\n",
      "  new_row = pd.DataFrame({'Close': [predicted_value]}, index=[new_dataset.index[-1] + pd.DateOffset(days=1)])\n"
     ]
    },
    {
     "name": "stdout",
     "output_type": "stream",
     "text": [
      "1/1 [==============================] - 0s 19ms/step\n",
      "1/1 [==============================] - 0s 20ms/step\n"
     ]
    },
    {
     "name": "stderr",
     "output_type": "stream",
     "text": [
      "/var/folders/by/st2c4w_96757fgwg7jsfc4480000gn/T/ipykernel_67404/3699000515.py:25: UserWarning: Discarding nonzero nanoseconds in conversion.\n",
      "  new_row = pd.DataFrame({'Close': [predicted_value]}, index=[new_dataset.index[-1] + pd.DateOffset(days=1)])\n",
      "/var/folders/by/st2c4w_96757fgwg7jsfc4480000gn/T/ipykernel_67404/3699000515.py:25: UserWarning: Discarding nonzero nanoseconds in conversion.\n",
      "  new_row = pd.DataFrame({'Close': [predicted_value]}, index=[new_dataset.index[-1] + pd.DateOffset(days=1)])\n"
     ]
    },
    {
     "name": "stdout",
     "output_type": "stream",
     "text": [
      "1/1 [==============================] - 0s 20ms/step\n",
      "1/1 [==============================] - 0s 19ms/step\n"
     ]
    },
    {
     "name": "stderr",
     "output_type": "stream",
     "text": [
      "/var/folders/by/st2c4w_96757fgwg7jsfc4480000gn/T/ipykernel_67404/3699000515.py:25: UserWarning: Discarding nonzero nanoseconds in conversion.\n",
      "  new_row = pd.DataFrame({'Close': [predicted_value]}, index=[new_dataset.index[-1] + pd.DateOffset(days=1)])\n",
      "/var/folders/by/st2c4w_96757fgwg7jsfc4480000gn/T/ipykernel_67404/3699000515.py:25: UserWarning: Discarding nonzero nanoseconds in conversion.\n",
      "  new_row = pd.DataFrame({'Close': [predicted_value]}, index=[new_dataset.index[-1] + pd.DateOffset(days=1)])\n"
     ]
    },
    {
     "name": "stdout",
     "output_type": "stream",
     "text": [
      "1/1 [==============================] - 0s 19ms/step\n",
      "1/1 [==============================] - 0s 19ms/step\n"
     ]
    },
    {
     "name": "stderr",
     "output_type": "stream",
     "text": [
      "/var/folders/by/st2c4w_96757fgwg7jsfc4480000gn/T/ipykernel_67404/3699000515.py:25: UserWarning: Discarding nonzero nanoseconds in conversion.\n",
      "  new_row = pd.DataFrame({'Close': [predicted_value]}, index=[new_dataset.index[-1] + pd.DateOffset(days=1)])\n",
      "/var/folders/by/st2c4w_96757fgwg7jsfc4480000gn/T/ipykernel_67404/3699000515.py:25: UserWarning: Discarding nonzero nanoseconds in conversion.\n",
      "  new_row = pd.DataFrame({'Close': [predicted_value]}, index=[new_dataset.index[-1] + pd.DateOffset(days=1)])\n"
     ]
    },
    {
     "name": "stdout",
     "output_type": "stream",
     "text": [
      "1/1 [==============================] - 0s 20ms/step\n",
      "1/1 [==============================] - 0s 19ms/step\n"
     ]
    },
    {
     "name": "stderr",
     "output_type": "stream",
     "text": [
      "/var/folders/by/st2c4w_96757fgwg7jsfc4480000gn/T/ipykernel_67404/3699000515.py:25: UserWarning: Discarding nonzero nanoseconds in conversion.\n",
      "  new_row = pd.DataFrame({'Close': [predicted_value]}, index=[new_dataset.index[-1] + pd.DateOffset(days=1)])\n",
      "/var/folders/by/st2c4w_96757fgwg7jsfc4480000gn/T/ipykernel_67404/3699000515.py:25: UserWarning: Discarding nonzero nanoseconds in conversion.\n",
      "  new_row = pd.DataFrame({'Close': [predicted_value]}, index=[new_dataset.index[-1] + pd.DateOffset(days=1)])\n"
     ]
    },
    {
     "name": "stdout",
     "output_type": "stream",
     "text": [
      "1/1 [==============================] - 0s 20ms/step\n",
      "1/1 [==============================] - 0s 20ms/step\n"
     ]
    },
    {
     "name": "stderr",
     "output_type": "stream",
     "text": [
      "/var/folders/by/st2c4w_96757fgwg7jsfc4480000gn/T/ipykernel_67404/3699000515.py:25: UserWarning: Discarding nonzero nanoseconds in conversion.\n",
      "  new_row = pd.DataFrame({'Close': [predicted_value]}, index=[new_dataset.index[-1] + pd.DateOffset(days=1)])\n",
      "/var/folders/by/st2c4w_96757fgwg7jsfc4480000gn/T/ipykernel_67404/3699000515.py:25: UserWarning: Discarding nonzero nanoseconds in conversion.\n",
      "  new_row = pd.DataFrame({'Close': [predicted_value]}, index=[new_dataset.index[-1] + pd.DateOffset(days=1)])\n"
     ]
    },
    {
     "name": "stdout",
     "output_type": "stream",
     "text": [
      "1/1 [==============================] - 0s 21ms/step\n",
      "1/1 [==============================] - 0s 19ms/step\n"
     ]
    },
    {
     "name": "stderr",
     "output_type": "stream",
     "text": [
      "/var/folders/by/st2c4w_96757fgwg7jsfc4480000gn/T/ipykernel_67404/3699000515.py:25: UserWarning: Discarding nonzero nanoseconds in conversion.\n",
      "  new_row = pd.DataFrame({'Close': [predicted_value]}, index=[new_dataset.index[-1] + pd.DateOffset(days=1)])\n",
      "/var/folders/by/st2c4w_96757fgwg7jsfc4480000gn/T/ipykernel_67404/3699000515.py:25: UserWarning: Discarding nonzero nanoseconds in conversion.\n",
      "  new_row = pd.DataFrame({'Close': [predicted_value]}, index=[new_dataset.index[-1] + pd.DateOffset(days=1)])\n"
     ]
    },
    {
     "name": "stdout",
     "output_type": "stream",
     "text": [
      "1/1 [==============================] - 0s 19ms/step\n",
      "1/1 [==============================] - 0s 19ms/step\n"
     ]
    },
    {
     "name": "stderr",
     "output_type": "stream",
     "text": [
      "/var/folders/by/st2c4w_96757fgwg7jsfc4480000gn/T/ipykernel_67404/3699000515.py:25: UserWarning: Discarding nonzero nanoseconds in conversion.\n",
      "  new_row = pd.DataFrame({'Close': [predicted_value]}, index=[new_dataset.index[-1] + pd.DateOffset(days=1)])\n",
      "/var/folders/by/st2c4w_96757fgwg7jsfc4480000gn/T/ipykernel_67404/3699000515.py:25: UserWarning: Discarding nonzero nanoseconds in conversion.\n",
      "  new_row = pd.DataFrame({'Close': [predicted_value]}, index=[new_dataset.index[-1] + pd.DateOffset(days=1)])\n"
     ]
    },
    {
     "name": "stdout",
     "output_type": "stream",
     "text": [
      "1/1 [==============================] - 0s 19ms/step\n",
      "1/1 [==============================] - 0s 19ms/step\n"
     ]
    },
    {
     "name": "stderr",
     "output_type": "stream",
     "text": [
      "/var/folders/by/st2c4w_96757fgwg7jsfc4480000gn/T/ipykernel_67404/3699000515.py:25: UserWarning: Discarding nonzero nanoseconds in conversion.\n",
      "  new_row = pd.DataFrame({'Close': [predicted_value]}, index=[new_dataset.index[-1] + pd.DateOffset(days=1)])\n",
      "/var/folders/by/st2c4w_96757fgwg7jsfc4480000gn/T/ipykernel_67404/3699000515.py:25: UserWarning: Discarding nonzero nanoseconds in conversion.\n",
      "  new_row = pd.DataFrame({'Close': [predicted_value]}, index=[new_dataset.index[-1] + pd.DateOffset(days=1)])\n"
     ]
    },
    {
     "name": "stdout",
     "output_type": "stream",
     "text": [
      "1/1 [==============================] - 0s 20ms/step\n",
      "1/1 [==============================] - 0s 20ms/step\n"
     ]
    },
    {
     "name": "stderr",
     "output_type": "stream",
     "text": [
      "/var/folders/by/st2c4w_96757fgwg7jsfc4480000gn/T/ipykernel_67404/3699000515.py:25: UserWarning: Discarding nonzero nanoseconds in conversion.\n",
      "  new_row = pd.DataFrame({'Close': [predicted_value]}, index=[new_dataset.index[-1] + pd.DateOffset(days=1)])\n",
      "/var/folders/by/st2c4w_96757fgwg7jsfc4480000gn/T/ipykernel_67404/3699000515.py:25: UserWarning: Discarding nonzero nanoseconds in conversion.\n",
      "  new_row = pd.DataFrame({'Close': [predicted_value]}, index=[new_dataset.index[-1] + pd.DateOffset(days=1)])\n"
     ]
    },
    {
     "name": "stdout",
     "output_type": "stream",
     "text": [
      "1/1 [==============================] - 0s 20ms/step\n",
      "1/1 [==============================] - 0s 19ms/step\n"
     ]
    },
    {
     "name": "stderr",
     "output_type": "stream",
     "text": [
      "/var/folders/by/st2c4w_96757fgwg7jsfc4480000gn/T/ipykernel_67404/3699000515.py:25: UserWarning: Discarding nonzero nanoseconds in conversion.\n",
      "  new_row = pd.DataFrame({'Close': [predicted_value]}, index=[new_dataset.index[-1] + pd.DateOffset(days=1)])\n",
      "/var/folders/by/st2c4w_96757fgwg7jsfc4480000gn/T/ipykernel_67404/3699000515.py:25: UserWarning: Discarding nonzero nanoseconds in conversion.\n",
      "  new_row = pd.DataFrame({'Close': [predicted_value]}, index=[new_dataset.index[-1] + pd.DateOffset(days=1)])\n"
     ]
    },
    {
     "name": "stdout",
     "output_type": "stream",
     "text": [
      "1/1 [==============================] - 0s 20ms/step\n",
      "1/1 [==============================] - 0s 19ms/step\n"
     ]
    },
    {
     "name": "stderr",
     "output_type": "stream",
     "text": [
      "/var/folders/by/st2c4w_96757fgwg7jsfc4480000gn/T/ipykernel_67404/3699000515.py:25: UserWarning: Discarding nonzero nanoseconds in conversion.\n",
      "  new_row = pd.DataFrame({'Close': [predicted_value]}, index=[new_dataset.index[-1] + pd.DateOffset(days=1)])\n",
      "/var/folders/by/st2c4w_96757fgwg7jsfc4480000gn/T/ipykernel_67404/3699000515.py:25: UserWarning: Discarding nonzero nanoseconds in conversion.\n",
      "  new_row = pd.DataFrame({'Close': [predicted_value]}, index=[new_dataset.index[-1] + pd.DateOffset(days=1)])\n"
     ]
    },
    {
     "name": "stdout",
     "output_type": "stream",
     "text": [
      "1/1 [==============================] - 0s 19ms/step\n",
      "1/1 [==============================] - 0s 19ms/step\n"
     ]
    },
    {
     "name": "stderr",
     "output_type": "stream",
     "text": [
      "/var/folders/by/st2c4w_96757fgwg7jsfc4480000gn/T/ipykernel_67404/3699000515.py:25: UserWarning: Discarding nonzero nanoseconds in conversion.\n",
      "  new_row = pd.DataFrame({'Close': [predicted_value]}, index=[new_dataset.index[-1] + pd.DateOffset(days=1)])\n",
      "/var/folders/by/st2c4w_96757fgwg7jsfc4480000gn/T/ipykernel_67404/3699000515.py:25: UserWarning: Discarding nonzero nanoseconds in conversion.\n",
      "  new_row = pd.DataFrame({'Close': [predicted_value]}, index=[new_dataset.index[-1] + pd.DateOffset(days=1)])\n"
     ]
    },
    {
     "name": "stdout",
     "output_type": "stream",
     "text": [
      "1/1 [==============================] - 0s 20ms/step\n",
      "1/1 [==============================] - 0s 19ms/step\n"
     ]
    },
    {
     "name": "stderr",
     "output_type": "stream",
     "text": [
      "/var/folders/by/st2c4w_96757fgwg7jsfc4480000gn/T/ipykernel_67404/3699000515.py:25: UserWarning: Discarding nonzero nanoseconds in conversion.\n",
      "  new_row = pd.DataFrame({'Close': [predicted_value]}, index=[new_dataset.index[-1] + pd.DateOffset(days=1)])\n",
      "/var/folders/by/st2c4w_96757fgwg7jsfc4480000gn/T/ipykernel_67404/3699000515.py:25: UserWarning: Discarding nonzero nanoseconds in conversion.\n",
      "  new_row = pd.DataFrame({'Close': [predicted_value]}, index=[new_dataset.index[-1] + pd.DateOffset(days=1)])\n"
     ]
    },
    {
     "name": "stdout",
     "output_type": "stream",
     "text": [
      "1/1 [==============================] - 0s 20ms/step\n",
      "1/1 [==============================] - 0s 19ms/step\n"
     ]
    },
    {
     "name": "stderr",
     "output_type": "stream",
     "text": [
      "/var/folders/by/st2c4w_96757fgwg7jsfc4480000gn/T/ipykernel_67404/3699000515.py:25: UserWarning: Discarding nonzero nanoseconds in conversion.\n",
      "  new_row = pd.DataFrame({'Close': [predicted_value]}, index=[new_dataset.index[-1] + pd.DateOffset(days=1)])\n",
      "/var/folders/by/st2c4w_96757fgwg7jsfc4480000gn/T/ipykernel_67404/3699000515.py:25: UserWarning: Discarding nonzero nanoseconds in conversion.\n",
      "  new_row = pd.DataFrame({'Close': [predicted_value]}, index=[new_dataset.index[-1] + pd.DateOffset(days=1)])\n"
     ]
    },
    {
     "name": "stdout",
     "output_type": "stream",
     "text": [
      "1/1 [==============================] - 0s 20ms/step\n",
      "1/1 [==============================] - 0s 20ms/step\n"
     ]
    },
    {
     "name": "stderr",
     "output_type": "stream",
     "text": [
      "/var/folders/by/st2c4w_96757fgwg7jsfc4480000gn/T/ipykernel_67404/3699000515.py:25: UserWarning: Discarding nonzero nanoseconds in conversion.\n",
      "  new_row = pd.DataFrame({'Close': [predicted_value]}, index=[new_dataset.index[-1] + pd.DateOffset(days=1)])\n",
      "/var/folders/by/st2c4w_96757fgwg7jsfc4480000gn/T/ipykernel_67404/3699000515.py:25: UserWarning: Discarding nonzero nanoseconds in conversion.\n",
      "  new_row = pd.DataFrame({'Close': [predicted_value]}, index=[new_dataset.index[-1] + pd.DateOffset(days=1)])\n"
     ]
    },
    {
     "name": "stdout",
     "output_type": "stream",
     "text": [
      "1/1 [==============================] - 0s 19ms/step\n",
      "1/1 [==============================] - 0s 19ms/step\n"
     ]
    },
    {
     "name": "stderr",
     "output_type": "stream",
     "text": [
      "/var/folders/by/st2c4w_96757fgwg7jsfc4480000gn/T/ipykernel_67404/3699000515.py:25: UserWarning: Discarding nonzero nanoseconds in conversion.\n",
      "  new_row = pd.DataFrame({'Close': [predicted_value]}, index=[new_dataset.index[-1] + pd.DateOffset(days=1)])\n",
      "/var/folders/by/st2c4w_96757fgwg7jsfc4480000gn/T/ipykernel_67404/3699000515.py:25: UserWarning: Discarding nonzero nanoseconds in conversion.\n",
      "  new_row = pd.DataFrame({'Close': [predicted_value]}, index=[new_dataset.index[-1] + pd.DateOffset(days=1)])\n"
     ]
    },
    {
     "name": "stdout",
     "output_type": "stream",
     "text": [
      "1/1 [==============================] - 0s 24ms/step\n",
      "1/1 [==============================] - 0s 20ms/step\n"
     ]
    },
    {
     "name": "stderr",
     "output_type": "stream",
     "text": [
      "/var/folders/by/st2c4w_96757fgwg7jsfc4480000gn/T/ipykernel_67404/3699000515.py:25: UserWarning: Discarding nonzero nanoseconds in conversion.\n",
      "  new_row = pd.DataFrame({'Close': [predicted_value]}, index=[new_dataset.index[-1] + pd.DateOffset(days=1)])\n",
      "/var/folders/by/st2c4w_96757fgwg7jsfc4480000gn/T/ipykernel_67404/3699000515.py:25: UserWarning: Discarding nonzero nanoseconds in conversion.\n",
      "  new_row = pd.DataFrame({'Close': [predicted_value]}, index=[new_dataset.index[-1] + pd.DateOffset(days=1)])\n"
     ]
    },
    {
     "name": "stdout",
     "output_type": "stream",
     "text": [
      "1/1 [==============================] - 0s 19ms/step\n",
      "1/1 [==============================] - 0s 19ms/step\n"
     ]
    },
    {
     "name": "stderr",
     "output_type": "stream",
     "text": [
      "/var/folders/by/st2c4w_96757fgwg7jsfc4480000gn/T/ipykernel_67404/3699000515.py:25: UserWarning: Discarding nonzero nanoseconds in conversion.\n",
      "  new_row = pd.DataFrame({'Close': [predicted_value]}, index=[new_dataset.index[-1] + pd.DateOffset(days=1)])\n",
      "/var/folders/by/st2c4w_96757fgwg7jsfc4480000gn/T/ipykernel_67404/3699000515.py:25: UserWarning: Discarding nonzero nanoseconds in conversion.\n",
      "  new_row = pd.DataFrame({'Close': [predicted_value]}, index=[new_dataset.index[-1] + pd.DateOffset(days=1)])\n"
     ]
    },
    {
     "name": "stdout",
     "output_type": "stream",
     "text": [
      "1/1 [==============================] - 0s 19ms/step\n",
      "1/1 [==============================] - 0s 19ms/step\n"
     ]
    },
    {
     "name": "stderr",
     "output_type": "stream",
     "text": [
      "/var/folders/by/st2c4w_96757fgwg7jsfc4480000gn/T/ipykernel_67404/3699000515.py:25: UserWarning: Discarding nonzero nanoseconds in conversion.\n",
      "  new_row = pd.DataFrame({'Close': [predicted_value]}, index=[new_dataset.index[-1] + pd.DateOffset(days=1)])\n",
      "/var/folders/by/st2c4w_96757fgwg7jsfc4480000gn/T/ipykernel_67404/3699000515.py:25: UserWarning: Discarding nonzero nanoseconds in conversion.\n",
      "  new_row = pd.DataFrame({'Close': [predicted_value]}, index=[new_dataset.index[-1] + pd.DateOffset(days=1)])\n"
     ]
    },
    {
     "name": "stdout",
     "output_type": "stream",
     "text": [
      "1/1 [==============================] - 0s 19ms/step\n",
      "1/1 [==============================] - 0s 19ms/step\n"
     ]
    },
    {
     "name": "stderr",
     "output_type": "stream",
     "text": [
      "/var/folders/by/st2c4w_96757fgwg7jsfc4480000gn/T/ipykernel_67404/3699000515.py:25: UserWarning: Discarding nonzero nanoseconds in conversion.\n",
      "  new_row = pd.DataFrame({'Close': [predicted_value]}, index=[new_dataset.index[-1] + pd.DateOffset(days=1)])\n",
      "/var/folders/by/st2c4w_96757fgwg7jsfc4480000gn/T/ipykernel_67404/3699000515.py:25: UserWarning: Discarding nonzero nanoseconds in conversion.\n",
      "  new_row = pd.DataFrame({'Close': [predicted_value]}, index=[new_dataset.index[-1] + pd.DateOffset(days=1)])\n"
     ]
    },
    {
     "name": "stdout",
     "output_type": "stream",
     "text": [
      "1/1 [==============================] - 0s 19ms/step\n",
      "1/1 [==============================] - 0s 19ms/step\n"
     ]
    },
    {
     "name": "stderr",
     "output_type": "stream",
     "text": [
      "/var/folders/by/st2c4w_96757fgwg7jsfc4480000gn/T/ipykernel_67404/3699000515.py:25: UserWarning: Discarding nonzero nanoseconds in conversion.\n",
      "  new_row = pd.DataFrame({'Close': [predicted_value]}, index=[new_dataset.index[-1] + pd.DateOffset(days=1)])\n",
      "/var/folders/by/st2c4w_96757fgwg7jsfc4480000gn/T/ipykernel_67404/3699000515.py:25: UserWarning: Discarding nonzero nanoseconds in conversion.\n",
      "  new_row = pd.DataFrame({'Close': [predicted_value]}, index=[new_dataset.index[-1] + pd.DateOffset(days=1)])\n"
     ]
    },
    {
     "name": "stdout",
     "output_type": "stream",
     "text": [
      "1/1 [==============================] - 0s 24ms/step\n",
      "1/1 [==============================] - 0s 19ms/step\n"
     ]
    },
    {
     "name": "stderr",
     "output_type": "stream",
     "text": [
      "/var/folders/by/st2c4w_96757fgwg7jsfc4480000gn/T/ipykernel_67404/3699000515.py:25: UserWarning: Discarding nonzero nanoseconds in conversion.\n",
      "  new_row = pd.DataFrame({'Close': [predicted_value]}, index=[new_dataset.index[-1] + pd.DateOffset(days=1)])\n",
      "/var/folders/by/st2c4w_96757fgwg7jsfc4480000gn/T/ipykernel_67404/3699000515.py:25: UserWarning: Discarding nonzero nanoseconds in conversion.\n",
      "  new_row = pd.DataFrame({'Close': [predicted_value]}, index=[new_dataset.index[-1] + pd.DateOffset(days=1)])\n"
     ]
    },
    {
     "name": "stdout",
     "output_type": "stream",
     "text": [
      "1/1 [==============================] - 0s 19ms/step\n",
      "1/1 [==============================] - 0s 19ms/step\n"
     ]
    },
    {
     "name": "stderr",
     "output_type": "stream",
     "text": [
      "/var/folders/by/st2c4w_96757fgwg7jsfc4480000gn/T/ipykernel_67404/3699000515.py:25: UserWarning: Discarding nonzero nanoseconds in conversion.\n",
      "  new_row = pd.DataFrame({'Close': [predicted_value]}, index=[new_dataset.index[-1] + pd.DateOffset(days=1)])\n",
      "/var/folders/by/st2c4w_96757fgwg7jsfc4480000gn/T/ipykernel_67404/3699000515.py:25: UserWarning: Discarding nonzero nanoseconds in conversion.\n",
      "  new_row = pd.DataFrame({'Close': [predicted_value]}, index=[new_dataset.index[-1] + pd.DateOffset(days=1)])\n"
     ]
    },
    {
     "name": "stdout",
     "output_type": "stream",
     "text": [
      "1/1 [==============================] - 0s 19ms/step\n",
      "1/1 [==============================] - 0s 19ms/step\n"
     ]
    },
    {
     "name": "stderr",
     "output_type": "stream",
     "text": [
      "/var/folders/by/st2c4w_96757fgwg7jsfc4480000gn/T/ipykernel_67404/3699000515.py:25: UserWarning: Discarding nonzero nanoseconds in conversion.\n",
      "  new_row = pd.DataFrame({'Close': [predicted_value]}, index=[new_dataset.index[-1] + pd.DateOffset(days=1)])\n",
      "/var/folders/by/st2c4w_96757fgwg7jsfc4480000gn/T/ipykernel_67404/3699000515.py:25: UserWarning: Discarding nonzero nanoseconds in conversion.\n",
      "  new_row = pd.DataFrame({'Close': [predicted_value]}, index=[new_dataset.index[-1] + pd.DateOffset(days=1)])\n"
     ]
    },
    {
     "name": "stdout",
     "output_type": "stream",
     "text": [
      "1/1 [==============================] - 0s 19ms/step\n",
      "1/1 [==============================] - 0s 19ms/step\n"
     ]
    },
    {
     "name": "stderr",
     "output_type": "stream",
     "text": [
      "/var/folders/by/st2c4w_96757fgwg7jsfc4480000gn/T/ipykernel_67404/3699000515.py:25: UserWarning: Discarding nonzero nanoseconds in conversion.\n",
      "  new_row = pd.DataFrame({'Close': [predicted_value]}, index=[new_dataset.index[-1] + pd.DateOffset(days=1)])\n",
      "/var/folders/by/st2c4w_96757fgwg7jsfc4480000gn/T/ipykernel_67404/3699000515.py:25: UserWarning: Discarding nonzero nanoseconds in conversion.\n",
      "  new_row = pd.DataFrame({'Close': [predicted_value]}, index=[new_dataset.index[-1] + pd.DateOffset(days=1)])\n"
     ]
    },
    {
     "name": "stdout",
     "output_type": "stream",
     "text": [
      "1/1 [==============================] - 0s 19ms/step\n",
      "1/1 [==============================] - 0s 19ms/step\n"
     ]
    },
    {
     "name": "stderr",
     "output_type": "stream",
     "text": [
      "/var/folders/by/st2c4w_96757fgwg7jsfc4480000gn/T/ipykernel_67404/3699000515.py:25: UserWarning: Discarding nonzero nanoseconds in conversion.\n",
      "  new_row = pd.DataFrame({'Close': [predicted_value]}, index=[new_dataset.index[-1] + pd.DateOffset(days=1)])\n",
      "/var/folders/by/st2c4w_96757fgwg7jsfc4480000gn/T/ipykernel_67404/3699000515.py:25: UserWarning: Discarding nonzero nanoseconds in conversion.\n",
      "  new_row = pd.DataFrame({'Close': [predicted_value]}, index=[new_dataset.index[-1] + pd.DateOffset(days=1)])\n"
     ]
    },
    {
     "name": "stdout",
     "output_type": "stream",
     "text": [
      "1/1 [==============================] - 0s 23ms/step\n",
      "1/1 [==============================] - 0s 20ms/step\n"
     ]
    },
    {
     "name": "stderr",
     "output_type": "stream",
     "text": [
      "/var/folders/by/st2c4w_96757fgwg7jsfc4480000gn/T/ipykernel_67404/3699000515.py:25: UserWarning: Discarding nonzero nanoseconds in conversion.\n",
      "  new_row = pd.DataFrame({'Close': [predicted_value]}, index=[new_dataset.index[-1] + pd.DateOffset(days=1)])\n",
      "/var/folders/by/st2c4w_96757fgwg7jsfc4480000gn/T/ipykernel_67404/3699000515.py:25: UserWarning: Discarding nonzero nanoseconds in conversion.\n",
      "  new_row = pd.DataFrame({'Close': [predicted_value]}, index=[new_dataset.index[-1] + pd.DateOffset(days=1)])\n"
     ]
    },
    {
     "name": "stdout",
     "output_type": "stream",
     "text": [
      "1/1 [==============================] - 0s 19ms/step\n",
      "1/1 [==============================] - 0s 19ms/step\n"
     ]
    },
    {
     "name": "stderr",
     "output_type": "stream",
     "text": [
      "/var/folders/by/st2c4w_96757fgwg7jsfc4480000gn/T/ipykernel_67404/3699000515.py:25: UserWarning: Discarding nonzero nanoseconds in conversion.\n",
      "  new_row = pd.DataFrame({'Close': [predicted_value]}, index=[new_dataset.index[-1] + pd.DateOffset(days=1)])\n",
      "/var/folders/by/st2c4w_96757fgwg7jsfc4480000gn/T/ipykernel_67404/3699000515.py:25: UserWarning: Discarding nonzero nanoseconds in conversion.\n",
      "  new_row = pd.DataFrame({'Close': [predicted_value]}, index=[new_dataset.index[-1] + pd.DateOffset(days=1)])\n"
     ]
    },
    {
     "name": "stdout",
     "output_type": "stream",
     "text": [
      "1/1 [==============================] - 0s 19ms/step\n",
      "1/1 [==============================] - 0s 19ms/step\n"
     ]
    },
    {
     "name": "stderr",
     "output_type": "stream",
     "text": [
      "/var/folders/by/st2c4w_96757fgwg7jsfc4480000gn/T/ipykernel_67404/3699000515.py:25: UserWarning: Discarding nonzero nanoseconds in conversion.\n",
      "  new_row = pd.DataFrame({'Close': [predicted_value]}, index=[new_dataset.index[-1] + pd.DateOffset(days=1)])\n",
      "/var/folders/by/st2c4w_96757fgwg7jsfc4480000gn/T/ipykernel_67404/3699000515.py:25: UserWarning: Discarding nonzero nanoseconds in conversion.\n",
      "  new_row = pd.DataFrame({'Close': [predicted_value]}, index=[new_dataset.index[-1] + pd.DateOffset(days=1)])\n"
     ]
    },
    {
     "name": "stdout",
     "output_type": "stream",
     "text": [
      "1/1 [==============================] - 0s 20ms/step\n",
      "1/1 [==============================] - 0s 20ms/step\n"
     ]
    },
    {
     "name": "stderr",
     "output_type": "stream",
     "text": [
      "/var/folders/by/st2c4w_96757fgwg7jsfc4480000gn/T/ipykernel_67404/3699000515.py:25: UserWarning: Discarding nonzero nanoseconds in conversion.\n",
      "  new_row = pd.DataFrame({'Close': [predicted_value]}, index=[new_dataset.index[-1] + pd.DateOffset(days=1)])\n",
      "/var/folders/by/st2c4w_96757fgwg7jsfc4480000gn/T/ipykernel_67404/3699000515.py:25: UserWarning: Discarding nonzero nanoseconds in conversion.\n",
      "  new_row = pd.DataFrame({'Close': [predicted_value]}, index=[new_dataset.index[-1] + pd.DateOffset(days=1)])\n"
     ]
    },
    {
     "name": "stdout",
     "output_type": "stream",
     "text": [
      "1/1 [==============================] - 0s 20ms/step\n",
      "1/1 [==============================] - 0s 21ms/step\n"
     ]
    },
    {
     "name": "stderr",
     "output_type": "stream",
     "text": [
      "/var/folders/by/st2c4w_96757fgwg7jsfc4480000gn/T/ipykernel_67404/3699000515.py:25: UserWarning: Discarding nonzero nanoseconds in conversion.\n",
      "  new_row = pd.DataFrame({'Close': [predicted_value]}, index=[new_dataset.index[-1] + pd.DateOffset(days=1)])\n",
      "/var/folders/by/st2c4w_96757fgwg7jsfc4480000gn/T/ipykernel_67404/3699000515.py:25: UserWarning: Discarding nonzero nanoseconds in conversion.\n",
      "  new_row = pd.DataFrame({'Close': [predicted_value]}, index=[new_dataset.index[-1] + pd.DateOffset(days=1)])\n"
     ]
    },
    {
     "name": "stdout",
     "output_type": "stream",
     "text": [
      "1/1 [==============================] - 0s 20ms/step\n",
      "1/1 [==============================] - 0s 20ms/step\n"
     ]
    },
    {
     "name": "stderr",
     "output_type": "stream",
     "text": [
      "/var/folders/by/st2c4w_96757fgwg7jsfc4480000gn/T/ipykernel_67404/3699000515.py:25: UserWarning: Discarding nonzero nanoseconds in conversion.\n",
      "  new_row = pd.DataFrame({'Close': [predicted_value]}, index=[new_dataset.index[-1] + pd.DateOffset(days=1)])\n",
      "/var/folders/by/st2c4w_96757fgwg7jsfc4480000gn/T/ipykernel_67404/3699000515.py:25: UserWarning: Discarding nonzero nanoseconds in conversion.\n",
      "  new_row = pd.DataFrame({'Close': [predicted_value]}, index=[new_dataset.index[-1] + pd.DateOffset(days=1)])\n"
     ]
    },
    {
     "name": "stdout",
     "output_type": "stream",
     "text": [
      "1/1 [==============================] - 0s 19ms/step\n",
      "1/1 [==============================] - 0s 19ms/step\n"
     ]
    },
    {
     "name": "stderr",
     "output_type": "stream",
     "text": [
      "/var/folders/by/st2c4w_96757fgwg7jsfc4480000gn/T/ipykernel_67404/3699000515.py:25: UserWarning: Discarding nonzero nanoseconds in conversion.\n",
      "  new_row = pd.DataFrame({'Close': [predicted_value]}, index=[new_dataset.index[-1] + pd.DateOffset(days=1)])\n",
      "/var/folders/by/st2c4w_96757fgwg7jsfc4480000gn/T/ipykernel_67404/3699000515.py:25: UserWarning: Discarding nonzero nanoseconds in conversion.\n",
      "  new_row = pd.DataFrame({'Close': [predicted_value]}, index=[new_dataset.index[-1] + pd.DateOffset(days=1)])\n"
     ]
    },
    {
     "name": "stdout",
     "output_type": "stream",
     "text": [
      "1/1 [==============================] - 0s 19ms/step\n",
      "1/1 [==============================] - 0s 19ms/step\n"
     ]
    },
    {
     "name": "stderr",
     "output_type": "stream",
     "text": [
      "/var/folders/by/st2c4w_96757fgwg7jsfc4480000gn/T/ipykernel_67404/3699000515.py:25: UserWarning: Discarding nonzero nanoseconds in conversion.\n",
      "  new_row = pd.DataFrame({'Close': [predicted_value]}, index=[new_dataset.index[-1] + pd.DateOffset(days=1)])\n",
      "/var/folders/by/st2c4w_96757fgwg7jsfc4480000gn/T/ipykernel_67404/3699000515.py:25: UserWarning: Discarding nonzero nanoseconds in conversion.\n",
      "  new_row = pd.DataFrame({'Close': [predicted_value]}, index=[new_dataset.index[-1] + pd.DateOffset(days=1)])\n"
     ]
    },
    {
     "name": "stdout",
     "output_type": "stream",
     "text": [
      "1/1 [==============================] - 0s 20ms/step\n",
      "1/1 [==============================] - 0s 22ms/step\n"
     ]
    },
    {
     "name": "stderr",
     "output_type": "stream",
     "text": [
      "/var/folders/by/st2c4w_96757fgwg7jsfc4480000gn/T/ipykernel_67404/3699000515.py:25: UserWarning: Discarding nonzero nanoseconds in conversion.\n",
      "  new_row = pd.DataFrame({'Close': [predicted_value]}, index=[new_dataset.index[-1] + pd.DateOffset(days=1)])\n",
      "/var/folders/by/st2c4w_96757fgwg7jsfc4480000gn/T/ipykernel_67404/3699000515.py:25: UserWarning: Discarding nonzero nanoseconds in conversion.\n",
      "  new_row = pd.DataFrame({'Close': [predicted_value]}, index=[new_dataset.index[-1] + pd.DateOffset(days=1)])\n"
     ]
    },
    {
     "name": "stdout",
     "output_type": "stream",
     "text": [
      "1/1 [==============================] - 0s 19ms/step\n",
      "1/1 [==============================] - 0s 19ms/step\n"
     ]
    },
    {
     "name": "stderr",
     "output_type": "stream",
     "text": [
      "/var/folders/by/st2c4w_96757fgwg7jsfc4480000gn/T/ipykernel_67404/3699000515.py:25: UserWarning: Discarding nonzero nanoseconds in conversion.\n",
      "  new_row = pd.DataFrame({'Close': [predicted_value]}, index=[new_dataset.index[-1] + pd.DateOffset(days=1)])\n",
      "/var/folders/by/st2c4w_96757fgwg7jsfc4480000gn/T/ipykernel_67404/3699000515.py:25: UserWarning: Discarding nonzero nanoseconds in conversion.\n",
      "  new_row = pd.DataFrame({'Close': [predicted_value]}, index=[new_dataset.index[-1] + pd.DateOffset(days=1)])\n"
     ]
    },
    {
     "name": "stdout",
     "output_type": "stream",
     "text": [
      "1/1 [==============================] - 0s 19ms/step\n",
      "1/1 [==============================] - 0s 19ms/step\n"
     ]
    },
    {
     "name": "stderr",
     "output_type": "stream",
     "text": [
      "/var/folders/by/st2c4w_96757fgwg7jsfc4480000gn/T/ipykernel_67404/3699000515.py:25: UserWarning: Discarding nonzero nanoseconds in conversion.\n",
      "  new_row = pd.DataFrame({'Close': [predicted_value]}, index=[new_dataset.index[-1] + pd.DateOffset(days=1)])\n",
      "/var/folders/by/st2c4w_96757fgwg7jsfc4480000gn/T/ipykernel_67404/3699000515.py:25: UserWarning: Discarding nonzero nanoseconds in conversion.\n",
      "  new_row = pd.DataFrame({'Close': [predicted_value]}, index=[new_dataset.index[-1] + pd.DateOffset(days=1)])\n"
     ]
    },
    {
     "name": "stdout",
     "output_type": "stream",
     "text": [
      "1/1 [==============================] - 0s 20ms/step\n",
      "1/1 [==============================] - 0s 19ms/step\n"
     ]
    },
    {
     "name": "stderr",
     "output_type": "stream",
     "text": [
      "/var/folders/by/st2c4w_96757fgwg7jsfc4480000gn/T/ipykernel_67404/3699000515.py:25: UserWarning: Discarding nonzero nanoseconds in conversion.\n",
      "  new_row = pd.DataFrame({'Close': [predicted_value]}, index=[new_dataset.index[-1] + pd.DateOffset(days=1)])\n",
      "/var/folders/by/st2c4w_96757fgwg7jsfc4480000gn/T/ipykernel_67404/3699000515.py:25: UserWarning: Discarding nonzero nanoseconds in conversion.\n",
      "  new_row = pd.DataFrame({'Close': [predicted_value]}, index=[new_dataset.index[-1] + pd.DateOffset(days=1)])\n"
     ]
    },
    {
     "name": "stdout",
     "output_type": "stream",
     "text": [
      "1/1 [==============================] - 0s 19ms/step\n",
      "1/1 [==============================] - 0s 19ms/step\n"
     ]
    },
    {
     "name": "stderr",
     "output_type": "stream",
     "text": [
      "/var/folders/by/st2c4w_96757fgwg7jsfc4480000gn/T/ipykernel_67404/3699000515.py:25: UserWarning: Discarding nonzero nanoseconds in conversion.\n",
      "  new_row = pd.DataFrame({'Close': [predicted_value]}, index=[new_dataset.index[-1] + pd.DateOffset(days=1)])\n",
      "/var/folders/by/st2c4w_96757fgwg7jsfc4480000gn/T/ipykernel_67404/3699000515.py:25: UserWarning: Discarding nonzero nanoseconds in conversion.\n",
      "  new_row = pd.DataFrame({'Close': [predicted_value]}, index=[new_dataset.index[-1] + pd.DateOffset(days=1)])\n"
     ]
    },
    {
     "name": "stdout",
     "output_type": "stream",
     "text": [
      "1/1 [==============================] - 0s 20ms/step\n",
      "1/1 [==============================] - 0s 19ms/step\n"
     ]
    },
    {
     "name": "stderr",
     "output_type": "stream",
     "text": [
      "/var/folders/by/st2c4w_96757fgwg7jsfc4480000gn/T/ipykernel_67404/3699000515.py:25: UserWarning: Discarding nonzero nanoseconds in conversion.\n",
      "  new_row = pd.DataFrame({'Close': [predicted_value]}, index=[new_dataset.index[-1] + pd.DateOffset(days=1)])\n",
      "/var/folders/by/st2c4w_96757fgwg7jsfc4480000gn/T/ipykernel_67404/3699000515.py:25: UserWarning: Discarding nonzero nanoseconds in conversion.\n",
      "  new_row = pd.DataFrame({'Close': [predicted_value]}, index=[new_dataset.index[-1] + pd.DateOffset(days=1)])\n"
     ]
    },
    {
     "name": "stdout",
     "output_type": "stream",
     "text": [
      "1/1 [==============================] - 0s 20ms/step\n",
      "1/1 [==============================] - 0s 19ms/step\n"
     ]
    },
    {
     "name": "stderr",
     "output_type": "stream",
     "text": [
      "/var/folders/by/st2c4w_96757fgwg7jsfc4480000gn/T/ipykernel_67404/3699000515.py:25: UserWarning: Discarding nonzero nanoseconds in conversion.\n",
      "  new_row = pd.DataFrame({'Close': [predicted_value]}, index=[new_dataset.index[-1] + pd.DateOffset(days=1)])\n",
      "/var/folders/by/st2c4w_96757fgwg7jsfc4480000gn/T/ipykernel_67404/3699000515.py:25: UserWarning: Discarding nonzero nanoseconds in conversion.\n",
      "  new_row = pd.DataFrame({'Close': [predicted_value]}, index=[new_dataset.index[-1] + pd.DateOffset(days=1)])\n"
     ]
    },
    {
     "name": "stdout",
     "output_type": "stream",
     "text": [
      "1/1 [==============================] - 0s 20ms/step\n",
      "1/1 [==============================] - 0s 19ms/step\n"
     ]
    },
    {
     "name": "stderr",
     "output_type": "stream",
     "text": [
      "/var/folders/by/st2c4w_96757fgwg7jsfc4480000gn/T/ipykernel_67404/3699000515.py:25: UserWarning: Discarding nonzero nanoseconds in conversion.\n",
      "  new_row = pd.DataFrame({'Close': [predicted_value]}, index=[new_dataset.index[-1] + pd.DateOffset(days=1)])\n",
      "/var/folders/by/st2c4w_96757fgwg7jsfc4480000gn/T/ipykernel_67404/3699000515.py:25: UserWarning: Discarding nonzero nanoseconds in conversion.\n",
      "  new_row = pd.DataFrame({'Close': [predicted_value]}, index=[new_dataset.index[-1] + pd.DateOffset(days=1)])\n"
     ]
    },
    {
     "name": "stdout",
     "output_type": "stream",
     "text": [
      "1/1 [==============================] - 0s 19ms/step\n",
      "1/1 [==============================] - 0s 19ms/step\n"
     ]
    },
    {
     "name": "stderr",
     "output_type": "stream",
     "text": [
      "/var/folders/by/st2c4w_96757fgwg7jsfc4480000gn/T/ipykernel_67404/3699000515.py:25: UserWarning: Discarding nonzero nanoseconds in conversion.\n",
      "  new_row = pd.DataFrame({'Close': [predicted_value]}, index=[new_dataset.index[-1] + pd.DateOffset(days=1)])\n",
      "/var/folders/by/st2c4w_96757fgwg7jsfc4480000gn/T/ipykernel_67404/3699000515.py:25: UserWarning: Discarding nonzero nanoseconds in conversion.\n",
      "  new_row = pd.DataFrame({'Close': [predicted_value]}, index=[new_dataset.index[-1] + pd.DateOffset(days=1)])\n"
     ]
    },
    {
     "name": "stdout",
     "output_type": "stream",
     "text": [
      "1/1 [==============================] - 0s 19ms/step\n",
      "1/1 [==============================] - 0s 20ms/step\n"
     ]
    },
    {
     "name": "stderr",
     "output_type": "stream",
     "text": [
      "/var/folders/by/st2c4w_96757fgwg7jsfc4480000gn/T/ipykernel_67404/3699000515.py:25: UserWarning: Discarding nonzero nanoseconds in conversion.\n",
      "  new_row = pd.DataFrame({'Close': [predicted_value]}, index=[new_dataset.index[-1] + pd.DateOffset(days=1)])\n",
      "/var/folders/by/st2c4w_96757fgwg7jsfc4480000gn/T/ipykernel_67404/3699000515.py:25: UserWarning: Discarding nonzero nanoseconds in conversion.\n",
      "  new_row = pd.DataFrame({'Close': [predicted_value]}, index=[new_dataset.index[-1] + pd.DateOffset(days=1)])\n"
     ]
    },
    {
     "name": "stdout",
     "output_type": "stream",
     "text": [
      "1/1 [==============================] - 0s 19ms/step\n",
      "1/1 [==============================] - 0s 19ms/step\n"
     ]
    },
    {
     "name": "stderr",
     "output_type": "stream",
     "text": [
      "/var/folders/by/st2c4w_96757fgwg7jsfc4480000gn/T/ipykernel_67404/3699000515.py:25: UserWarning: Discarding nonzero nanoseconds in conversion.\n",
      "  new_row = pd.DataFrame({'Close': [predicted_value]}, index=[new_dataset.index[-1] + pd.DateOffset(days=1)])\n",
      "/var/folders/by/st2c4w_96757fgwg7jsfc4480000gn/T/ipykernel_67404/3699000515.py:25: UserWarning: Discarding nonzero nanoseconds in conversion.\n",
      "  new_row = pd.DataFrame({'Close': [predicted_value]}, index=[new_dataset.index[-1] + pd.DateOffset(days=1)])\n"
     ]
    },
    {
     "name": "stdout",
     "output_type": "stream",
     "text": [
      "1/1 [==============================] - 0s 20ms/step\n",
      "1/1 [==============================] - 0s 19ms/step\n"
     ]
    },
    {
     "name": "stderr",
     "output_type": "stream",
     "text": [
      "/var/folders/by/st2c4w_96757fgwg7jsfc4480000gn/T/ipykernel_67404/3699000515.py:25: UserWarning: Discarding nonzero nanoseconds in conversion.\n",
      "  new_row = pd.DataFrame({'Close': [predicted_value]}, index=[new_dataset.index[-1] + pd.DateOffset(days=1)])\n",
      "/var/folders/by/st2c4w_96757fgwg7jsfc4480000gn/T/ipykernel_67404/3699000515.py:25: UserWarning: Discarding nonzero nanoseconds in conversion.\n",
      "  new_row = pd.DataFrame({'Close': [predicted_value]}, index=[new_dataset.index[-1] + pd.DateOffset(days=1)])\n"
     ]
    },
    {
     "name": "stdout",
     "output_type": "stream",
     "text": [
      "1/1 [==============================] - 0s 20ms/step\n",
      "1/1 [==============================] - 0s 19ms/step\n"
     ]
    },
    {
     "name": "stderr",
     "output_type": "stream",
     "text": [
      "/var/folders/by/st2c4w_96757fgwg7jsfc4480000gn/T/ipykernel_67404/3699000515.py:25: UserWarning: Discarding nonzero nanoseconds in conversion.\n",
      "  new_row = pd.DataFrame({'Close': [predicted_value]}, index=[new_dataset.index[-1] + pd.DateOffset(days=1)])\n",
      "/var/folders/by/st2c4w_96757fgwg7jsfc4480000gn/T/ipykernel_67404/3699000515.py:25: UserWarning: Discarding nonzero nanoseconds in conversion.\n",
      "  new_row = pd.DataFrame({'Close': [predicted_value]}, index=[new_dataset.index[-1] + pd.DateOffset(days=1)])\n"
     ]
    },
    {
     "name": "stdout",
     "output_type": "stream",
     "text": [
      "1/1 [==============================] - 0s 24ms/step\n",
      "1/1 [==============================] - 0s 20ms/step\n"
     ]
    },
    {
     "name": "stderr",
     "output_type": "stream",
     "text": [
      "/var/folders/by/st2c4w_96757fgwg7jsfc4480000gn/T/ipykernel_67404/3699000515.py:25: UserWarning: Discarding nonzero nanoseconds in conversion.\n",
      "  new_row = pd.DataFrame({'Close': [predicted_value]}, index=[new_dataset.index[-1] + pd.DateOffset(days=1)])\n",
      "/var/folders/by/st2c4w_96757fgwg7jsfc4480000gn/T/ipykernel_67404/3699000515.py:25: UserWarning: Discarding nonzero nanoseconds in conversion.\n",
      "  new_row = pd.DataFrame({'Close': [predicted_value]}, index=[new_dataset.index[-1] + pd.DateOffset(days=1)])\n"
     ]
    },
    {
     "name": "stdout",
     "output_type": "stream",
     "text": [
      "1/1 [==============================] - 0s 60ms/step\n"
     ]
    },
    {
     "name": "stderr",
     "output_type": "stream",
     "text": [
      "/var/folders/by/st2c4w_96757fgwg7jsfc4480000gn/T/ipykernel_67404/3699000515.py:25: UserWarning: Discarding nonzero nanoseconds in conversion.\n",
      "  new_row = pd.DataFrame({'Close': [predicted_value]}, index=[new_dataset.index[-1] + pd.DateOffset(days=1)])\n"
     ]
    },
    {
     "name": "stdout",
     "output_type": "stream",
     "text": [
      "1/1 [==============================] - 0s 20ms/step\n",
      "1/1 [==============================] - 0s 19ms/step\n",
      "1/1 [==============================] - 0s 19ms/step\n"
     ]
    },
    {
     "name": "stderr",
     "output_type": "stream",
     "text": [
      "/var/folders/by/st2c4w_96757fgwg7jsfc4480000gn/T/ipykernel_67404/3699000515.py:25: UserWarning: Discarding nonzero nanoseconds in conversion.\n",
      "  new_row = pd.DataFrame({'Close': [predicted_value]}, index=[new_dataset.index[-1] + pd.DateOffset(days=1)])\n",
      "/var/folders/by/st2c4w_96757fgwg7jsfc4480000gn/T/ipykernel_67404/3699000515.py:25: UserWarning: Discarding nonzero nanoseconds in conversion.\n",
      "  new_row = pd.DataFrame({'Close': [predicted_value]}, index=[new_dataset.index[-1] + pd.DateOffset(days=1)])\n",
      "/var/folders/by/st2c4w_96757fgwg7jsfc4480000gn/T/ipykernel_67404/3699000515.py:25: UserWarning: Discarding nonzero nanoseconds in conversion.\n",
      "  new_row = pd.DataFrame({'Close': [predicted_value]}, index=[new_dataset.index[-1] + pd.DateOffset(days=1)])\n"
     ]
    },
    {
     "name": "stdout",
     "output_type": "stream",
     "text": [
      "1/1 [==============================] - 0s 23ms/step\n"
     ]
    },
    {
     "name": "stderr",
     "output_type": "stream",
     "text": [
      "/var/folders/by/st2c4w_96757fgwg7jsfc4480000gn/T/ipykernel_67404/3699000515.py:25: UserWarning: Discarding nonzero nanoseconds in conversion.\n",
      "  new_row = pd.DataFrame({'Close': [predicted_value]}, index=[new_dataset.index[-1] + pd.DateOffset(days=1)])\n"
     ]
    },
    {
     "name": "stdout",
     "output_type": "stream",
     "text": [
      "1/1 [==============================] - 0s 19ms/step\n",
      "1/1 [==============================] - 0s 19ms/step\n",
      "1/1 [==============================] - 0s 19ms/step\n"
     ]
    },
    {
     "name": "stderr",
     "output_type": "stream",
     "text": [
      "/var/folders/by/st2c4w_96757fgwg7jsfc4480000gn/T/ipykernel_67404/3699000515.py:25: UserWarning: Discarding nonzero nanoseconds in conversion.\n",
      "  new_row = pd.DataFrame({'Close': [predicted_value]}, index=[new_dataset.index[-1] + pd.DateOffset(days=1)])\n",
      "/var/folders/by/st2c4w_96757fgwg7jsfc4480000gn/T/ipykernel_67404/3699000515.py:25: UserWarning: Discarding nonzero nanoseconds in conversion.\n",
      "  new_row = pd.DataFrame({'Close': [predicted_value]}, index=[new_dataset.index[-1] + pd.DateOffset(days=1)])\n",
      "/var/folders/by/st2c4w_96757fgwg7jsfc4480000gn/T/ipykernel_67404/3699000515.py:25: UserWarning: Discarding nonzero nanoseconds in conversion.\n",
      "  new_row = pd.DataFrame({'Close': [predicted_value]}, index=[new_dataset.index[-1] + pd.DateOffset(days=1)])\n"
     ]
    },
    {
     "name": "stdout",
     "output_type": "stream",
     "text": [
      "1/1 [==============================] - 0s 19ms/step\n"
     ]
    },
    {
     "name": "stderr",
     "output_type": "stream",
     "text": [
      "/var/folders/by/st2c4w_96757fgwg7jsfc4480000gn/T/ipykernel_67404/3699000515.py:25: UserWarning: Discarding nonzero nanoseconds in conversion.\n",
      "  new_row = pd.DataFrame({'Close': [predicted_value]}, index=[new_dataset.index[-1] + pd.DateOffset(days=1)])\n"
     ]
    },
    {
     "name": "stdout",
     "output_type": "stream",
     "text": [
      "1/1 [==============================] - 0s 20ms/step\n",
      "1/1 [==============================] - 0s 19ms/step\n",
      "1/1 [==============================] - 0s 19ms/step\n"
     ]
    },
    {
     "name": "stderr",
     "output_type": "stream",
     "text": [
      "/var/folders/by/st2c4w_96757fgwg7jsfc4480000gn/T/ipykernel_67404/3699000515.py:25: UserWarning: Discarding nonzero nanoseconds in conversion.\n",
      "  new_row = pd.DataFrame({'Close': [predicted_value]}, index=[new_dataset.index[-1] + pd.DateOffset(days=1)])\n",
      "/var/folders/by/st2c4w_96757fgwg7jsfc4480000gn/T/ipykernel_67404/3699000515.py:25: UserWarning: Discarding nonzero nanoseconds in conversion.\n",
      "  new_row = pd.DataFrame({'Close': [predicted_value]}, index=[new_dataset.index[-1] + pd.DateOffset(days=1)])\n",
      "/var/folders/by/st2c4w_96757fgwg7jsfc4480000gn/T/ipykernel_67404/3699000515.py:25: UserWarning: Discarding nonzero nanoseconds in conversion.\n",
      "  new_row = pd.DataFrame({'Close': [predicted_value]}, index=[new_dataset.index[-1] + pd.DateOffset(days=1)])\n"
     ]
    },
    {
     "name": "stdout",
     "output_type": "stream",
     "text": [
      "1/1 [==============================] - 0s 20ms/step\n"
     ]
    },
    {
     "name": "stderr",
     "output_type": "stream",
     "text": [
      "/var/folders/by/st2c4w_96757fgwg7jsfc4480000gn/T/ipykernel_67404/3699000515.py:25: UserWarning: Discarding nonzero nanoseconds in conversion.\n",
      "  new_row = pd.DataFrame({'Close': [predicted_value]}, index=[new_dataset.index[-1] + pd.DateOffset(days=1)])\n"
     ]
    },
    {
     "name": "stdout",
     "output_type": "stream",
     "text": [
      "1/1 [==============================] - 0s 20ms/step\n",
      "1/1 [==============================] - 0s 19ms/step\n",
      "1/1 [==============================] - 0s 19ms/step\n"
     ]
    },
    {
     "name": "stderr",
     "output_type": "stream",
     "text": [
      "/var/folders/by/st2c4w_96757fgwg7jsfc4480000gn/T/ipykernel_67404/3699000515.py:25: UserWarning: Discarding nonzero nanoseconds in conversion.\n",
      "  new_row = pd.DataFrame({'Close': [predicted_value]}, index=[new_dataset.index[-1] + pd.DateOffset(days=1)])\n",
      "/var/folders/by/st2c4w_96757fgwg7jsfc4480000gn/T/ipykernel_67404/3699000515.py:25: UserWarning: Discarding nonzero nanoseconds in conversion.\n",
      "  new_row = pd.DataFrame({'Close': [predicted_value]}, index=[new_dataset.index[-1] + pd.DateOffset(days=1)])\n",
      "/var/folders/by/st2c4w_96757fgwg7jsfc4480000gn/T/ipykernel_67404/3699000515.py:25: UserWarning: Discarding nonzero nanoseconds in conversion.\n",
      "  new_row = pd.DataFrame({'Close': [predicted_value]}, index=[new_dataset.index[-1] + pd.DateOffset(days=1)])\n"
     ]
    },
    {
     "name": "stdout",
     "output_type": "stream",
     "text": [
      "1/1 [==============================] - 0s 19ms/step\n"
     ]
    },
    {
     "name": "stderr",
     "output_type": "stream",
     "text": [
      "/var/folders/by/st2c4w_96757fgwg7jsfc4480000gn/T/ipykernel_67404/3699000515.py:25: UserWarning: Discarding nonzero nanoseconds in conversion.\n",
      "  new_row = pd.DataFrame({'Close': [predicted_value]}, index=[new_dataset.index[-1] + pd.DateOffset(days=1)])\n"
     ]
    },
    {
     "name": "stdout",
     "output_type": "stream",
     "text": [
      "1/1 [==============================] - 0s 21ms/step\n",
      "1/1 [==============================] - 0s 20ms/step\n",
      "1/1 [==============================] - 0s 20ms/step\n"
     ]
    },
    {
     "name": "stderr",
     "output_type": "stream",
     "text": [
      "/var/folders/by/st2c4w_96757fgwg7jsfc4480000gn/T/ipykernel_67404/3699000515.py:25: UserWarning: Discarding nonzero nanoseconds in conversion.\n",
      "  new_row = pd.DataFrame({'Close': [predicted_value]}, index=[new_dataset.index[-1] + pd.DateOffset(days=1)])\n",
      "/var/folders/by/st2c4w_96757fgwg7jsfc4480000gn/T/ipykernel_67404/3699000515.py:25: UserWarning: Discarding nonzero nanoseconds in conversion.\n",
      "  new_row = pd.DataFrame({'Close': [predicted_value]}, index=[new_dataset.index[-1] + pd.DateOffset(days=1)])\n",
      "/var/folders/by/st2c4w_96757fgwg7jsfc4480000gn/T/ipykernel_67404/3699000515.py:25: UserWarning: Discarding nonzero nanoseconds in conversion.\n",
      "  new_row = pd.DataFrame({'Close': [predicted_value]}, index=[new_dataset.index[-1] + pd.DateOffset(days=1)])\n"
     ]
    },
    {
     "name": "stdout",
     "output_type": "stream",
     "text": [
      "1/1 [==============================] - 0s 20ms/step\n"
     ]
    },
    {
     "name": "stderr",
     "output_type": "stream",
     "text": [
      "/var/folders/by/st2c4w_96757fgwg7jsfc4480000gn/T/ipykernel_67404/3699000515.py:25: UserWarning: Discarding nonzero nanoseconds in conversion.\n",
      "  new_row = pd.DataFrame({'Close': [predicted_value]}, index=[new_dataset.index[-1] + pd.DateOffset(days=1)])\n"
     ]
    },
    {
     "name": "stdout",
     "output_type": "stream",
     "text": [
      "1/1 [==============================] - 0s 20ms/step\n",
      "1/1 [==============================] - 0s 20ms/step\n",
      "1/1 [==============================] - 0s 20ms/step\n"
     ]
    },
    {
     "name": "stderr",
     "output_type": "stream",
     "text": [
      "/var/folders/by/st2c4w_96757fgwg7jsfc4480000gn/T/ipykernel_67404/3699000515.py:25: UserWarning: Discarding nonzero nanoseconds in conversion.\n",
      "  new_row = pd.DataFrame({'Close': [predicted_value]}, index=[new_dataset.index[-1] + pd.DateOffset(days=1)])\n",
      "/var/folders/by/st2c4w_96757fgwg7jsfc4480000gn/T/ipykernel_67404/3699000515.py:25: UserWarning: Discarding nonzero nanoseconds in conversion.\n",
      "  new_row = pd.DataFrame({'Close': [predicted_value]}, index=[new_dataset.index[-1] + pd.DateOffset(days=1)])\n",
      "/var/folders/by/st2c4w_96757fgwg7jsfc4480000gn/T/ipykernel_67404/3699000515.py:25: UserWarning: Discarding nonzero nanoseconds in conversion.\n",
      "  new_row = pd.DataFrame({'Close': [predicted_value]}, index=[new_dataset.index[-1] + pd.DateOffset(days=1)])\n"
     ]
    },
    {
     "name": "stdout",
     "output_type": "stream",
     "text": [
      "1/1 [==============================] - 0s 20ms/step\n"
     ]
    },
    {
     "name": "stderr",
     "output_type": "stream",
     "text": [
      "/var/folders/by/st2c4w_96757fgwg7jsfc4480000gn/T/ipykernel_67404/3699000515.py:25: UserWarning: Discarding nonzero nanoseconds in conversion.\n",
      "  new_row = pd.DataFrame({'Close': [predicted_value]}, index=[new_dataset.index[-1] + pd.DateOffset(days=1)])\n"
     ]
    },
    {
     "name": "stdout",
     "output_type": "stream",
     "text": [
      "1/1 [==============================] - 0s 20ms/step\n",
      "1/1 [==============================] - 0s 19ms/step\n",
      "1/1 [==============================] - 0s 19ms/step\n"
     ]
    },
    {
     "name": "stderr",
     "output_type": "stream",
     "text": [
      "/var/folders/by/st2c4w_96757fgwg7jsfc4480000gn/T/ipykernel_67404/3699000515.py:25: UserWarning: Discarding nonzero nanoseconds in conversion.\n",
      "  new_row = pd.DataFrame({'Close': [predicted_value]}, index=[new_dataset.index[-1] + pd.DateOffset(days=1)])\n",
      "/var/folders/by/st2c4w_96757fgwg7jsfc4480000gn/T/ipykernel_67404/3699000515.py:25: UserWarning: Discarding nonzero nanoseconds in conversion.\n",
      "  new_row = pd.DataFrame({'Close': [predicted_value]}, index=[new_dataset.index[-1] + pd.DateOffset(days=1)])\n",
      "/var/folders/by/st2c4w_96757fgwg7jsfc4480000gn/T/ipykernel_67404/3699000515.py:25: UserWarning: Discarding nonzero nanoseconds in conversion.\n",
      "  new_row = pd.DataFrame({'Close': [predicted_value]}, index=[new_dataset.index[-1] + pd.DateOffset(days=1)])\n"
     ]
    },
    {
     "name": "stdout",
     "output_type": "stream",
     "text": [
      "1/1 [==============================] - 0s 21ms/step\n"
     ]
    },
    {
     "name": "stderr",
     "output_type": "stream",
     "text": [
      "/var/folders/by/st2c4w_96757fgwg7jsfc4480000gn/T/ipykernel_67404/3699000515.py:25: UserWarning: Discarding nonzero nanoseconds in conversion.\n",
      "  new_row = pd.DataFrame({'Close': [predicted_value]}, index=[new_dataset.index[-1] + pd.DateOffset(days=1)])\n"
     ]
    },
    {
     "name": "stdout",
     "output_type": "stream",
     "text": [
      "1/1 [==============================] - 0s 20ms/step\n",
      "1/1 [==============================] - 0s 20ms/step\n",
      "1/1 [==============================] - 0s 20ms/step\n"
     ]
    },
    {
     "name": "stderr",
     "output_type": "stream",
     "text": [
      "/var/folders/by/st2c4w_96757fgwg7jsfc4480000gn/T/ipykernel_67404/3699000515.py:25: UserWarning: Discarding nonzero nanoseconds in conversion.\n",
      "  new_row = pd.DataFrame({'Close': [predicted_value]}, index=[new_dataset.index[-1] + pd.DateOffset(days=1)])\n",
      "/var/folders/by/st2c4w_96757fgwg7jsfc4480000gn/T/ipykernel_67404/3699000515.py:25: UserWarning: Discarding nonzero nanoseconds in conversion.\n",
      "  new_row = pd.DataFrame({'Close': [predicted_value]}, index=[new_dataset.index[-1] + pd.DateOffset(days=1)])\n",
      "/var/folders/by/st2c4w_96757fgwg7jsfc4480000gn/T/ipykernel_67404/3699000515.py:25: UserWarning: Discarding nonzero nanoseconds in conversion.\n",
      "  new_row = pd.DataFrame({'Close': [predicted_value]}, index=[new_dataset.index[-1] + pd.DateOffset(days=1)])\n"
     ]
    },
    {
     "name": "stdout",
     "output_type": "stream",
     "text": [
      "1/1 [==============================] - 0s 19ms/step\n"
     ]
    },
    {
     "name": "stderr",
     "output_type": "stream",
     "text": [
      "/var/folders/by/st2c4w_96757fgwg7jsfc4480000gn/T/ipykernel_67404/3699000515.py:25: UserWarning: Discarding nonzero nanoseconds in conversion.\n",
      "  new_row = pd.DataFrame({'Close': [predicted_value]}, index=[new_dataset.index[-1] + pd.DateOffset(days=1)])\n"
     ]
    },
    {
     "name": "stdout",
     "output_type": "stream",
     "text": [
      "1/1 [==============================] - 0s 19ms/step\n",
      "1/1 [==============================] - 0s 20ms/step\n",
      "1/1 [==============================] - 0s 20ms/step\n"
     ]
    },
    {
     "name": "stderr",
     "output_type": "stream",
     "text": [
      "/var/folders/by/st2c4w_96757fgwg7jsfc4480000gn/T/ipykernel_67404/3699000515.py:25: UserWarning: Discarding nonzero nanoseconds in conversion.\n",
      "  new_row = pd.DataFrame({'Close': [predicted_value]}, index=[new_dataset.index[-1] + pd.DateOffset(days=1)])\n",
      "/var/folders/by/st2c4w_96757fgwg7jsfc4480000gn/T/ipykernel_67404/3699000515.py:25: UserWarning: Discarding nonzero nanoseconds in conversion.\n",
      "  new_row = pd.DataFrame({'Close': [predicted_value]}, index=[new_dataset.index[-1] + pd.DateOffset(days=1)])\n",
      "/var/folders/by/st2c4w_96757fgwg7jsfc4480000gn/T/ipykernel_67404/3699000515.py:25: UserWarning: Discarding nonzero nanoseconds in conversion.\n",
      "  new_row = pd.DataFrame({'Close': [predicted_value]}, index=[new_dataset.index[-1] + pd.DateOffset(days=1)])\n"
     ]
    },
    {
     "name": "stdout",
     "output_type": "stream",
     "text": [
      "1/1 [==============================] - 0s 20ms/step\n"
     ]
    },
    {
     "name": "stderr",
     "output_type": "stream",
     "text": [
      "/var/folders/by/st2c4w_96757fgwg7jsfc4480000gn/T/ipykernel_67404/3699000515.py:25: UserWarning: Discarding nonzero nanoseconds in conversion.\n",
      "  new_row = pd.DataFrame({'Close': [predicted_value]}, index=[new_dataset.index[-1] + pd.DateOffset(days=1)])\n"
     ]
    },
    {
     "name": "stdout",
     "output_type": "stream",
     "text": [
      "1/1 [==============================] - 0s 20ms/step\n",
      "1/1 [==============================] - 0s 19ms/step\n",
      "1/1 [==============================] - 0s 19ms/step\n"
     ]
    },
    {
     "name": "stderr",
     "output_type": "stream",
     "text": [
      "/var/folders/by/st2c4w_96757fgwg7jsfc4480000gn/T/ipykernel_67404/3699000515.py:25: UserWarning: Discarding nonzero nanoseconds in conversion.\n",
      "  new_row = pd.DataFrame({'Close': [predicted_value]}, index=[new_dataset.index[-1] + pd.DateOffset(days=1)])\n",
      "/var/folders/by/st2c4w_96757fgwg7jsfc4480000gn/T/ipykernel_67404/3699000515.py:25: UserWarning: Discarding nonzero nanoseconds in conversion.\n",
      "  new_row = pd.DataFrame({'Close': [predicted_value]}, index=[new_dataset.index[-1] + pd.DateOffset(days=1)])\n",
      "/var/folders/by/st2c4w_96757fgwg7jsfc4480000gn/T/ipykernel_67404/3699000515.py:25: UserWarning: Discarding nonzero nanoseconds in conversion.\n",
      "  new_row = pd.DataFrame({'Close': [predicted_value]}, index=[new_dataset.index[-1] + pd.DateOffset(days=1)])\n"
     ]
    },
    {
     "name": "stdout",
     "output_type": "stream",
     "text": [
      "1/1 [==============================] - 0s 22ms/step\n"
     ]
    },
    {
     "name": "stderr",
     "output_type": "stream",
     "text": [
      "/var/folders/by/st2c4w_96757fgwg7jsfc4480000gn/T/ipykernel_67404/3699000515.py:25: UserWarning: Discarding nonzero nanoseconds in conversion.\n",
      "  new_row = pd.DataFrame({'Close': [predicted_value]}, index=[new_dataset.index[-1] + pd.DateOffset(days=1)])\n"
     ]
    },
    {
     "name": "stdout",
     "output_type": "stream",
     "text": [
      "1/1 [==============================] - 0s 26ms/step\n",
      "1/1 [==============================] - 0s 22ms/step\n",
      "1/1 [==============================] - 0s 19ms/step\n"
     ]
    },
    {
     "name": "stderr",
     "output_type": "stream",
     "text": [
      "/var/folders/by/st2c4w_96757fgwg7jsfc4480000gn/T/ipykernel_67404/3699000515.py:25: UserWarning: Discarding nonzero nanoseconds in conversion.\n",
      "  new_row = pd.DataFrame({'Close': [predicted_value]}, index=[new_dataset.index[-1] + pd.DateOffset(days=1)])\n",
      "/var/folders/by/st2c4w_96757fgwg7jsfc4480000gn/T/ipykernel_67404/3699000515.py:25: UserWarning: Discarding nonzero nanoseconds in conversion.\n",
      "  new_row = pd.DataFrame({'Close': [predicted_value]}, index=[new_dataset.index[-1] + pd.DateOffset(days=1)])\n",
      "/var/folders/by/st2c4w_96757fgwg7jsfc4480000gn/T/ipykernel_67404/3699000515.py:25: UserWarning: Discarding nonzero nanoseconds in conversion.\n",
      "  new_row = pd.DataFrame({'Close': [predicted_value]}, index=[new_dataset.index[-1] + pd.DateOffset(days=1)])\n"
     ]
    },
    {
     "name": "stdout",
     "output_type": "stream",
     "text": [
      "1/1 [==============================] - 0s 19ms/step\n"
     ]
    },
    {
     "name": "stderr",
     "output_type": "stream",
     "text": [
      "/var/folders/by/st2c4w_96757fgwg7jsfc4480000gn/T/ipykernel_67404/3699000515.py:25: UserWarning: Discarding nonzero nanoseconds in conversion.\n",
      "  new_row = pd.DataFrame({'Close': [predicted_value]}, index=[new_dataset.index[-1] + pd.DateOffset(days=1)])\n"
     ]
    },
    {
     "name": "stdout",
     "output_type": "stream",
     "text": [
      "1/1 [==============================] - 0s 20ms/step\n",
      "1/1 [==============================] - 0s 19ms/step\n",
      "1/1 [==============================] - 0s 20ms/step\n"
     ]
    },
    {
     "name": "stderr",
     "output_type": "stream",
     "text": [
      "/var/folders/by/st2c4w_96757fgwg7jsfc4480000gn/T/ipykernel_67404/3699000515.py:25: UserWarning: Discarding nonzero nanoseconds in conversion.\n",
      "  new_row = pd.DataFrame({'Close': [predicted_value]}, index=[new_dataset.index[-1] + pd.DateOffset(days=1)])\n",
      "/var/folders/by/st2c4w_96757fgwg7jsfc4480000gn/T/ipykernel_67404/3699000515.py:25: UserWarning: Discarding nonzero nanoseconds in conversion.\n",
      "  new_row = pd.DataFrame({'Close': [predicted_value]}, index=[new_dataset.index[-1] + pd.DateOffset(days=1)])\n",
      "/var/folders/by/st2c4w_96757fgwg7jsfc4480000gn/T/ipykernel_67404/3699000515.py:25: UserWarning: Discarding nonzero nanoseconds in conversion.\n",
      "  new_row = pd.DataFrame({'Close': [predicted_value]}, index=[new_dataset.index[-1] + pd.DateOffset(days=1)])\n"
     ]
    },
    {
     "name": "stdout",
     "output_type": "stream",
     "text": [
      "1/1 [==============================] - 0s 20ms/step\n"
     ]
    },
    {
     "name": "stderr",
     "output_type": "stream",
     "text": [
      "/var/folders/by/st2c4w_96757fgwg7jsfc4480000gn/T/ipykernel_67404/3699000515.py:25: UserWarning: Discarding nonzero nanoseconds in conversion.\n",
      "  new_row = pd.DataFrame({'Close': [predicted_value]}, index=[new_dataset.index[-1] + pd.DateOffset(days=1)])\n"
     ]
    },
    {
     "name": "stdout",
     "output_type": "stream",
     "text": [
      "1/1 [==============================] - 0s 21ms/step\n",
      "1/1 [==============================] - 0s 20ms/step\n"
     ]
    },
    {
     "name": "stderr",
     "output_type": "stream",
     "text": [
      "/var/folders/by/st2c4w_96757fgwg7jsfc4480000gn/T/ipykernel_67404/3699000515.py:25: UserWarning: Discarding nonzero nanoseconds in conversion.\n",
      "  new_row = pd.DataFrame({'Close': [predicted_value]}, index=[new_dataset.index[-1] + pd.DateOffset(days=1)])\n",
      "/var/folders/by/st2c4w_96757fgwg7jsfc4480000gn/T/ipykernel_67404/3699000515.py:25: UserWarning: Discarding nonzero nanoseconds in conversion.\n",
      "  new_row = pd.DataFrame({'Close': [predicted_value]}, index=[new_dataset.index[-1] + pd.DateOffset(days=1)])\n"
     ]
    }
   ],
   "source": [
    "# Invert scaling to get the predicted value\n",
    "predicted_value_scaled = lstm_model.predict(x_train_data[-1].reshape(1, -1, 1))\n",
    "predicted_value = scaler.inverse_transform(predicted_value_scaled)\n",
    "\n",
    "# Update the dataset with the predicted value\n",
    "new_close = predicted_value\n",
    "last_index_date = pd.to_datetime(new_dataset.index[-1])\n",
    "new_row_index = last_index_date + pd.Timedelta(days=1)\n",
    "new_row = pd.DataFrame({'Close': [new_close]}, index=[new_row_index])\n",
    "new_dataset = pd.concat([new_dataset, new_row])\n",
    "\n",
    "\n",
    "# Repeat prediction for the next 365 days\n",
    "for i in range(253):\n",
    "    # Prepare data for prediction\n",
    "    last_60_days = new_dataset[-60:].values\n",
    "    scaled_last_60_days = scaler.transform(last_60_days.reshape(-1, 1))\n",
    "    x_pred = scaled_last_60_days.reshape(1, -1, 1)\n",
    "    \n",
    "    # Make prediction\n",
    "    predicted_value_scaled = lstm_model.predict(x_pred)\n",
    "    predicted_value = scaler.inverse_transform(predicted_value_scaled)\n",
    "    \n",
    "    # Update dataset with the predicted value for the next day\n",
    "    new_row = pd.DataFrame({'Close': [predicted_value]}, index=[new_dataset.index[-1] + pd.DateOffset(days=1)])\n",
    "    new_dataset = pd.concat([new_dataset, new_row])"
   ]
  },
  {
   "cell_type": "code",
   "execution_count": 352,
   "id": "beeebfc1-00f4-444d-be6c-1d9c2c8339eb",
   "metadata": {
    "scrolled": true
   },
   "outputs": [
    {
     "data": {
      "text/html": [
       "<div>\n",
       "<style scoped>\n",
       "    .dataframe tbody tr th:only-of-type {\n",
       "        vertical-align: middle;\n",
       "    }\n",
       "\n",
       "    .dataframe tbody tr th {\n",
       "        vertical-align: top;\n",
       "    }\n",
       "\n",
       "    .dataframe thead th {\n",
       "        text-align: right;\n",
       "    }\n",
       "</style>\n",
       "<table border=\"1\" class=\"dataframe\">\n",
       "  <thead>\n",
       "    <tr style=\"text-align: right;\">\n",
       "      <th></th>\n",
       "      <th>Close</th>\n",
       "    </tr>\n",
       "  </thead>\n",
       "  <tbody>\n",
       "    <tr>\n",
       "      <th>0</th>\n",
       "      <td>75.087502</td>\n",
       "    </tr>\n",
       "    <tr>\n",
       "      <th>1</th>\n",
       "      <td>74.357498</td>\n",
       "    </tr>\n",
       "    <tr>\n",
       "      <th>2</th>\n",
       "      <td>74.949997</td>\n",
       "    </tr>\n",
       "    <tr>\n",
       "      <th>3</th>\n",
       "      <td>74.597504</td>\n",
       "    </tr>\n",
       "    <tr>\n",
       "      <th>4</th>\n",
       "      <td>75.797501</td>\n",
       "    </tr>\n",
       "    <tr>\n",
       "      <th>...</th>\n",
       "      <td>...</td>\n",
       "    </tr>\n",
       "    <tr>\n",
       "      <th>1970-09-08 00:00:00.000001037</th>\n",
       "      <td>[[227.57185]]</td>\n",
       "    </tr>\n",
       "    <tr>\n",
       "      <th>1970-09-09 00:00:00.000001037</th>\n",
       "      <td>[[227.58545]]</td>\n",
       "    </tr>\n",
       "    <tr>\n",
       "      <th>1970-09-10 00:00:00.000001037</th>\n",
       "      <td>[[227.59877]]</td>\n",
       "    </tr>\n",
       "    <tr>\n",
       "      <th>1970-09-11 00:00:00.000001037</th>\n",
       "      <td>[[227.61191]]</td>\n",
       "    </tr>\n",
       "    <tr>\n",
       "      <th>1970-09-12 00:00:00.000001037</th>\n",
       "      <td>[[227.62479]]</td>\n",
       "    </tr>\n",
       "  </tbody>\n",
       "</table>\n",
       "<p>1292 rows × 1 columns</p>\n",
       "</div>"
      ],
      "text/plain": [
       "                                       Close\n",
       "0                                  75.087502\n",
       "1                                  74.357498\n",
       "2                                  74.949997\n",
       "3                                  74.597504\n",
       "4                                  75.797501\n",
       "...                                      ...\n",
       "1970-09-08 00:00:00.000001037  [[227.57185]]\n",
       "1970-09-09 00:00:00.000001037  [[227.58545]]\n",
       "1970-09-10 00:00:00.000001037  [[227.59877]]\n",
       "1970-09-11 00:00:00.000001037  [[227.61191]]\n",
       "1970-09-12 00:00:00.000001037  [[227.62479]]\n",
       "\n",
       "[1292 rows x 1 columns]"
      ]
     },
     "execution_count": 352,
     "metadata": {},
     "output_type": "execute_result"
    }
   ],
   "source": [
    "new_dataset"
   ]
  },
  {
   "cell_type": "code",
   "execution_count": 353,
   "id": "07657c62-22d7-49e2-bc85-8f8e05a5d1ad",
   "metadata": {
    "scrolled": true
   },
   "outputs": [
    {
     "data": {
      "text/html": [
       "<div>\n",
       "<style scoped>\n",
       "    .dataframe tbody tr th:only-of-type {\n",
       "        vertical-align: middle;\n",
       "    }\n",
       "\n",
       "    .dataframe tbody tr th {\n",
       "        vertical-align: top;\n",
       "    }\n",
       "\n",
       "    .dataframe thead th {\n",
       "        text-align: right;\n",
       "    }\n",
       "</style>\n",
       "<table border=\"1\" class=\"dataframe\">\n",
       "  <thead>\n",
       "    <tr style=\"text-align: right;\">\n",
       "      <th></th>\n",
       "      <th>Close</th>\n",
       "    </tr>\n",
       "  </thead>\n",
       "  <tbody>\n",
       "    <tr>\n",
       "      <th>0</th>\n",
       "      <td>75.087502</td>\n",
       "    </tr>\n",
       "    <tr>\n",
       "      <th>1</th>\n",
       "      <td>74.357498</td>\n",
       "    </tr>\n",
       "    <tr>\n",
       "      <th>2</th>\n",
       "      <td>74.949997</td>\n",
       "    </tr>\n",
       "    <tr>\n",
       "      <th>3</th>\n",
       "      <td>74.597504</td>\n",
       "    </tr>\n",
       "    <tr>\n",
       "      <th>4</th>\n",
       "      <td>75.797501</td>\n",
       "    </tr>\n",
       "    <tr>\n",
       "      <th>...</th>\n",
       "      <td>...</td>\n",
       "    </tr>\n",
       "    <tr>\n",
       "      <th>1287</th>\n",
       "      <td>[[227.57185]]</td>\n",
       "    </tr>\n",
       "    <tr>\n",
       "      <th>1288</th>\n",
       "      <td>[[227.58545]]</td>\n",
       "    </tr>\n",
       "    <tr>\n",
       "      <th>1289</th>\n",
       "      <td>[[227.59877]]</td>\n",
       "    </tr>\n",
       "    <tr>\n",
       "      <th>1290</th>\n",
       "      <td>[[227.61191]]</td>\n",
       "    </tr>\n",
       "    <tr>\n",
       "      <th>1291</th>\n",
       "      <td>[[227.62479]]</td>\n",
       "    </tr>\n",
       "  </tbody>\n",
       "</table>\n",
       "<p>1292 rows × 1 columns</p>\n",
       "</div>"
      ],
      "text/plain": [
       "              Close\n",
       "0         75.087502\n",
       "1         74.357498\n",
       "2         74.949997\n",
       "3         74.597504\n",
       "4         75.797501\n",
       "...             ...\n",
       "1287  [[227.57185]]\n",
       "1288  [[227.58545]]\n",
       "1289  [[227.59877]]\n",
       "1290  [[227.61191]]\n",
       "1291  [[227.62479]]\n",
       "\n",
       "[1292 rows x 1 columns]"
      ]
     },
     "execution_count": 353,
     "metadata": {},
     "output_type": "execute_result"
    }
   ],
   "source": [
    "new_dataset.reset_index(drop=True, inplace=True)\n",
    "new_dataset"
   ]
  },
  {
   "cell_type": "code",
   "execution_count": 354,
   "id": "372c7f66",
   "metadata": {},
   "outputs": [
    {
     "data": {
      "image/png": "[encoded data removed]",
      "text/plain": [
       "<Figure size 2000x1000 with 1 Axes>"
      ]
     },
     "metadata": {},
     "output_type": "display_data"
    }
   ],
   "source": [
    "# Split new_dataset into training data and predicted data\n",
    "training_data = new_dataset.iloc[:1038]\n",
    "predicted_data = new_dataset.iloc[1038:]\n",
    "\n",
    "plt.plot(train_data[\"Close\"])\n",
    "\n",
    "# Plotting the validation data and predictions\n",
    "plt.plot(training_data.index, training_data['Close'], label='Validation Data')\n",
    "plt.plot(predicted_data.index, predicted_data['Close'], color='red', label='Predicted Closing Price')\n",
    "\n",
    "plt.legend()  # Show legend\n",
    "plt.show()\n"
   ]
  },
  {
   "cell_type": "code",
   "execution_count": null,
   "id": "e2177c3b",
   "metadata": {},
   "outputs": [],
   "source": []
  }
 ],
 "metadata": {
  "kernelspec": {
   "display_name": "Python 3 (ipykernel)",
   "language": "python",
   "name": "python3"
  },
  "language_info": {
   "codemirror_mode": {
    "name": "ipython",
    "version": 3
   },
   "file_extension": ".py",
   "mimetype": "text/x-python",
   "name": "python",
   "nbconvert_exporter": "python",
   "pygments_lexer": "ipython3",
   "version": "3.10.13"
  }
 },
 "nbformat": 4,
 "nbformat_minor": 5
}
